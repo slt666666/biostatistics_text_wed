{
  "nbformat": 4,
  "nbformat_minor": 0,
  "metadata": {
    "colab": {
      "provenance": [],
      "toc_visible": true
    },
    "kernelspec": {
      "name": "ir",
      "display_name": "R"
    },
    "language_info": {
      "name": "R"
    }
  },
  "cells": [
    {
      "cell_type": "markdown",
      "source": [
        "# 第4回 データ可視化 課題\n",
        "\n",
        "前回同様、下のコードを動かすと、ペンギンの分類データを`df`として読み込めます。\n",
        "\n",
        "(データ元: https://allisonhorst.github.io/palmerpenguins/)\n",
        "\n",
        "このデータを用いて、以降の課題についてコードを書き、実行した結果から読み取れることをPandaのテスト・クイズページから記述してください。"
      ],
      "metadata": {
        "id": "obnzB1V21pax"
      }
    },
    {
      "cell_type": "code",
      "source": [
        "df <- read.csv(\"https://raw.githubusercontent.com/slt666666/biostatistics_text_wed/refs/heads/main/source/_static/data/chapter3_penguins.csv\")\n",
        "\n",
        "head(df)"
      ],
      "metadata": {
        "collapsed": true,
        "id": "IRI6wAEbj7oW"
      },
      "execution_count": null,
      "outputs": []
    },
    {
      "cell_type": "markdown",
      "source": [
        "## 課題1\n",
        "\n",
        "ペンギンの体重(`body_mass_g`)とくちばしの長さ(`bill_length_mm`)の関係性について、\n",
        "\n",
        "種ごとに色分けした散布図を描き、種毎に関係性に何か違いがあれば記述してください。"
      ],
      "metadata": {
        "id": "zhabOvPK8gFX"
      }
    },
    {
      "cell_type": "code",
      "source": [
        "# ここにコードを書いて実行してください。\n",
        "library(ggplot2)\n"
      ],
      "metadata": {
        "id": "35pDEQBW8F5z"
      },
      "execution_count": null,
      "outputs": []
    },
    {
      "cell_type": "markdown",
      "source": [
        "## 課題2\n",
        "\n",
        "ペンギンのヒレの長さ(`flipper_length_mm`)について、\n",
        "\n",
        "各生息地(`island`)ごとや種(`species`)毎に色分けしたヒストグラムを描き、ヒレの長さに最も影響を与えていそうな要因が何か記述してください。"
      ],
      "metadata": {
        "id": "1fH0x-X-Hqwp"
      }
    },
    {
      "cell_type": "code",
      "source": [
        "# ここにコードを書いて実行してください。\n",
        "library(ggplot2)\n"
      ],
      "metadata": {
        "id": "Aqf-UKA5H4kJ"
      },
      "execution_count": null,
      "outputs": []
    },
    {
      "cell_type": "markdown",
      "source": [
        "## 課題3\n",
        "\n",
        "ペンギンの体重(`body_mass_g`)と性別(`sex`)の関係性ついて、\n",
        "\n",
        "各種・各性別ごとに色分けしたボックスプロットを描き、種毎に性別の違いが体重に与える影響に何か差があれば記述してください。"
      ],
      "metadata": {
        "id": "m9QUOiLI8htD"
      }
    },
    {
      "cell_type": "code",
      "source": [
        "# ここにコードを書いて実行してください。\n",
        "library(ggplot2)\n",
        "\n",
        "\n"
      ],
      "metadata": {
        "id": "Fhqa-IxE8i0c"
      },
      "execution_count": null,
      "outputs": []
    }
  ]
}