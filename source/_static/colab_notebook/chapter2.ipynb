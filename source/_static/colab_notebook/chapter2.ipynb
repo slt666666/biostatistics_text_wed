{
  "nbformat": 4,
  "nbformat_minor": 0,
  "metadata": {
    "colab": {
      "provenance": [],
      "toc_visible": true
    },
    "kernelspec": {
      "name": "ir",
      "display_name": "R"
    },
    "language_info": {
      "name": "R"
    }
  },
  "cells": [
    {
      "cell_type": "markdown",
      "source": [
        "# 第2回 R言語の基礎"
      ],
      "metadata": {
        "id": "obnzB1V21pax"
      }
    },
    {
      "cell_type": "markdown",
      "source": [
        "# はじめに\n",
        "\n",
        "R は、数値計算（ベクトルや行列の計算）や、統計解析、機械学習（Machine Learning）、深層学習（Deep Learning）、グラフ描画など、データ解析が得意なプログラミング言語になります。\n",
        "\n",
        "データ解析の研究者でなくても、実験データなどの統計解析を行う際に最も使用されているプログラミング言語の１つです。\n",
        "\n",
        "そこで、本講義では学んだ統計処理を、Rで実行するための実習も行っていきます。\n",
        "\n",
        "このテキストでは、実習に必要な最低限のRの基礎知識を学んでいきます。\n",
        "\n",
        "より高度な使い方等を知りたい方は、別途学習してみてください。"
      ],
      "metadata": {
        "id": "2bLFQcxy824O"
      }
    },
    {
      "cell_type": "markdown",
      "source": [
        "# 実習に入る前に\n",
        "\n",
        "本講義では講義資料としてGoogle Colaboratoryで記述されたものを共有しています。\n",
        "\n",
        "Google Colaboratoryは、web上でプログラミングをおこなことが可能な便利なサービスです。名称からわかるとおり、Google社が提供しているサービスになります。\n",
        "基本的にPythonを動かすことが多いですが、今回の講義ではRを動かすのに使用しています。\n",
        "\n",
        "<img src=\"https://lh3.googleusercontent.com/rGFAR5vGV9lYsnnb1QhFUZlWbOtHVTwhLq4wBjIIxgJ05Dldb6ELwBTpmkBM-1i7XQ1ir1JIkxK3fcfQ20HK0VkraOPPZdClaM9caTbvsewYMU-lvsIhvXvtcDuhm8VHL495z-m9Cq_oktsqtYg-EAZXpc6_-3ebHARqVPE-q2d6EM_fq6Zcnjq3BODbYdxmAyOrS0lycbTJBvcGNWAkAJ-ECJBPyKAevUEXSCUDx7NkYgjh1Wj02VTP2POVBmpJTZhegRVyWMVryUjeKeJd9mEcoCNRWV7dEk8O80ETmOh0512AuMqzLUivD6mGxItX24uAChpt64ToJq2lAvDeg2gYk7fIKPUGPvroLFKy_UN3dlKSeC1upQsdEwDHEcgp5RK3tggn1eERsLKxqY-QDjL-LlcRyYrRqSjiTWFIkNBeif3v0R8K80JN8R2b49ukgR-Y3jOJQ1Sq23Vt16Nz98dhAXGADKNXnnmPcoeLtoHkGXIO0XxNCXj568wyC4q4WiPt82ATSORKpM-EQis-tcjh840FMsJ0fuHe-jOtLYtWqbvnmXDYJBtX_K-HDu3Vf0tD6wWks2A10NTlyh_W9Id5KRmBfq5bpqxYhv21Knrl7EFYCyF3UofbJ5MZGvjuFu-4yUwW5m5d6KsgKzs2KIUSAvF6WtCH2Vqz-HynVTMx0Q1pyRDXw8QBThSW=w1341-h510-no?authuser=0\" alt=\"colab_server\" height=\"150px\">\n",
        "\n",
        "本講義ではGoogle ColaboratoryでRを動かしますが、実際に実験データ等を統計処理する場合には、自分のPCにRを入れて動かすことが多いです。\n",
        "\n",
        "より実際に近い状況で実習を行いたい場合は、自分のPCにRを入れて動かしていただいても構いませんし、\n",
        "\n",
        "こちらが提供しているGoogle Colaboratoryで動かしていただいても、どちらでも構いません。\n",
        "\n",
        "ただし、今後出す予定の課題はGoogle Colaboratoryを使用して提出する必要があるので、使用方法は理解しておいてください。\n"
      ],
      "metadata": {
        "id": "KVWnSn0U9717"
      }
    },
    {
      "cell_type": "markdown",
      "source": [
        "## Rのインストール方法 (自分のPCで動かしたい人向け)\n",
        "\n",
        "Rを自分のPCに入れて動かしたい人は、下記の手順でRをインストールしてみてください。\n",
        "\n",
        "1. [R のホームページ](https://www.r-project.org/)に行きます。\n",
        "2. **download R**のページへ移動\n",
        "3. 適当なミラーサイトを選択(\n",
        "https://cloud.r-project.org/ でOK)\n",
        "4. 自分のOSのリンク先へ移動\n",
        "5. **base**をクリックしてインストーラーをダウンロード\n",
        "6. ダウンロードしたファイルを開いてあとは指示通りに\n",
        "\n",
        "<img src=\"https://github.com/slt666666/biostatistics_text_wed/blob/main/source/_static/images/chapter2/R_HP.png?raw=true\" alt=\"title\" height=\"400px\">\n",
        "\n",
        "また、Rを使う際には、**Rstudio**という開発環境(Rを使いやすくするツール)を使用することが多いです。\n",
        "\n",
        "もし、Rを自分のPCに入れて動かす予定の方はRstudioも一緒に入れて使う様にすると良いと思います。\n",
        "\n",
        "Rstudioのインストールも同じように、\n",
        "\n",
        "1. [Rstudioのホームページ](https://posit.co/download/rstudio-desktop/)に行きます。\n",
        "2. 少し下の方にあるInstall Rstudioという所にある、**Download RStudio Desktop for XXX(自分のOS)**というボタンをクリックしてインストーラーをダウンロード\n",
        "3. ダウンロードしたファイルを開いてあとは指示通りに\n",
        "\n",
        "<img src=\"https://github.com/slt666666/biostatistics_text_wed/blob/main/source/_static/images/chapter2/Rstudio_HP.png?raw=true\" alt=\"title\" height=\"400px\">\n",
        "\n",
        "\n"
      ],
      "metadata": {
        "id": "N2XCN-1PARo2"
      }
    },
    {
      "cell_type": "markdown",
      "source": [
        "## Google Colaboratoryの使い方 - Rのコードを動かす方法\n",
        "\n",
        "Google ColaboratoryでRのコードを書いて動かすには、左上にある `+コード`でコード記述用のセルを追加し、そこにRのコードを書いていきます。\n",
        "\n",
        "<img src=\"https://github.com/slt666666/biostatistics_text_wed/blob/main/source/_static/images/chapter2/code_block.png?raw=true\" alt=\"title\" height=\"150px\">\n",
        "\n",
        "コードセルは左側の三角ボタンを押すか、`Shift+Enter`で選択中のセル内のコードを動かすことができます。\n",
        "\n",
        "<img src=\"https://github.com/slt666666/biostatistics_text_wed/blob/main/source/_static/images/chapter2/run_code.png?raw=true\" alt=\"title\" height=\"70px\">\n",
        "\n",
        "\n",
        "自分のPCでRを動かしている方はRを起動してコンソールにコードを打ち込み、`Enter`をすればコードが動きます。\n",
        "\n",
        "まずは適当な足し算(`7 + 8`等)を書いてみて動かしてみましょう。\n",
        "\n",
        "Google Colaboratoryで最初にコードを動かす際には接続するために少し時間がかかります(以降はすぐ実行できます)。\n",
        "\n"
      ],
      "metadata": {
        "id": "f1UczlXQyQoT"
      }
    },
    {
      "cell_type": "code",
      "source": [
        "7 + 8"
      ],
      "metadata": {
        "id": "Z5XWdecP1I1I",
        "colab": {
          "base_uri": "https://localhost:8080/",
          "height": 34
        },
        "outputId": "b056924c-8403-4d0b-eb4f-6aaa8947052b"
      },
      "execution_count": 1,
      "outputs": [
        {
          "output_type": "display_data",
          "data": {
            "text/html": [
              "15"
            ],
            "text/markdown": "15",
            "text/latex": "15",
            "text/plain": [
              "[1] 15"
            ]
          },
          "metadata": {}
        }
      ]
    },
    {
      "cell_type": "markdown",
      "source": [
        "引き算(`7 - 3`)や掛け算(`2 * 5`)、割り算(`78 / 13`)なども可能です。"
      ],
      "metadata": {
        "id": "jVK8wmT_4qlk"
      }
    },
    {
      "cell_type": "code",
      "source": [
        "7 - 3"
      ],
      "metadata": {
        "id": "y7UwQjpI5LlZ",
        "colab": {
          "base_uri": "https://localhost:8080/",
          "height": 34
        },
        "outputId": "0e924692-d4f0-486a-b1f7-316eb459b054"
      },
      "execution_count": 2,
      "outputs": [
        {
          "output_type": "display_data",
          "data": {
            "text/html": [
              "4"
            ],
            "text/markdown": "4",
            "text/latex": "4",
            "text/plain": [
              "[1] 4"
            ]
          },
          "metadata": {}
        }
      ]
    },
    {
      "cell_type": "code",
      "source": [
        "2 * 5"
      ],
      "metadata": {
        "colab": {
          "base_uri": "https://localhost:8080/",
          "height": 34
        },
        "id": "MomP_3rwCeRV",
        "outputId": "509cf9ef-d8c6-4fa5-83f5-49b0f7e9b2ba"
      },
      "execution_count": 3,
      "outputs": [
        {
          "output_type": "display_data",
          "data": {
            "text/html": [
              "10"
            ],
            "text/markdown": "10",
            "text/latex": "10",
            "text/plain": [
              "[1] 10"
            ]
          },
          "metadata": {}
        }
      ]
    },
    {
      "cell_type": "code",
      "source": [
        "78 / 13"
      ],
      "metadata": {
        "colab": {
          "base_uri": "https://localhost:8080/",
          "height": 34
        },
        "id": "1jtev0iwCeUh",
        "outputId": "887b4555-c387-4bbb-d24a-b725ed960b86"
      },
      "execution_count": 4,
      "outputs": [
        {
          "output_type": "display_data",
          "data": {
            "text/html": [
              "6"
            ],
            "text/markdown": "6",
            "text/latex": "6",
            "text/plain": [
              "[1] 6"
            ]
          },
          "metadata": {}
        }
      ]
    },
    {
      "cell_type": "markdown",
      "source": [
        "累乗も計算できます。Rで累乗を計算するには`^`を使います。\n",
        "\n",
        "例えば2の10乗を計算する場合は`2^10`になります。"
      ],
      "metadata": {
        "id": "COo15BRg50fE"
      }
    },
    {
      "cell_type": "code",
      "source": [
        "2^10"
      ],
      "metadata": {
        "id": "BBI2VK6o5_qm",
        "colab": {
          "base_uri": "https://localhost:8080/",
          "height": 34
        },
        "outputId": "41f613ab-d9b1-4cf2-aced-b5d9cbae9ddb"
      },
      "execution_count": 5,
      "outputs": [
        {
          "output_type": "display_data",
          "data": {
            "text/html": [
              "1024"
            ],
            "text/markdown": "1024",
            "text/latex": "1024",
            "text/plain": [
              "[1] 1024"
            ]
          },
          "metadata": {}
        }
      ]
    },
    {
      "cell_type": "markdown",
      "source": [
        "# 関数\n",
        "\n",
        "次にRで使用可能な**関数**を使用します。\n",
        "\n",
        "関数というのは、与えた値に何らかの処理をして結果返してくれるものです。"
      ],
      "metadata": {
        "id": "btXtB4FlDPcg"
      }
    },
    {
      "cell_type": "markdown",
      "source": [
        "まずは`sqrt`という平方根を求めることが出来る関数を使ってみます。\n",
        "\n",
        "例えば、`sqrt(1024)`というコードを動かすと、与えられた値1024の平方根32を返す形になります。"
      ],
      "metadata": {
        "id": "O0ONbfqB5Xze"
      }
    },
    {
      "cell_type": "code",
      "source": [
        "sqrt(1024)"
      ],
      "metadata": {
        "id": "yj2IpbB66Uri",
        "colab": {
          "base_uri": "https://localhost:8080/",
          "height": 34
        },
        "outputId": "92e9188c-f4e0-4211-b54e-74b363f3a342"
      },
      "execution_count": 6,
      "outputs": [
        {
          "output_type": "display_data",
          "data": {
            "text/html": [
              "32"
            ],
            "text/markdown": "32",
            "text/latex": "32",
            "text/plain": [
              "[1] 32"
            ]
          },
          "metadata": {}
        }
      ]
    },
    {
      "cell_type": "markdown",
      "source": [
        "Rには他にも様々な関数があります。\n",
        "\n",
        "例えば`log`という関数は何らかの値と対数の底の値を与えると、対数を計算してくれます。\n",
        "\n",
        "`log(1024, 2)`というコードを動かすと、1024は2の10乗なので、10を返す形になります。"
      ],
      "metadata": {
        "id": "PxudUpPf6X8a"
      }
    },
    {
      "cell_type": "code",
      "source": [
        "log(1024, 2)"
      ],
      "metadata": {
        "id": "NFG3s9Am6XTm",
        "colab": {
          "base_uri": "https://localhost:8080/",
          "height": 34
        },
        "outputId": "b861f202-0665-4b5e-bf18-4f9dee421cd0"
      },
      "execution_count": 7,
      "outputs": [
        {
          "output_type": "display_data",
          "data": {
            "text/html": [
              "10"
            ],
            "text/markdown": "10",
            "text/latex": "10",
            "text/plain": [
              "[1] 10"
            ]
          },
          "metadata": {}
        }
      ]
    },
    {
      "cell_type": "markdown",
      "source": [
        "## コードとコメント\n",
        "\n",
        "Rではコードの途中で`#`を使用することでコメントを記入出来ます。\n",
        "\n",
        "`#`以降に記入されたものはコメントとして扱われるため、実行されません。"
      ],
      "metadata": {
        "id": "1icmr5gJh_IZ"
      }
    },
    {
      "cell_type": "code",
      "source": [
        "4 + 12 # コメント\n",
        "# 21 + 24\n",
        "8 + 70"
      ],
      "metadata": {
        "id": "GtY9lGReieDb",
        "colab": {
          "base_uri": "https://localhost:8080/",
          "height": 52
        },
        "outputId": "b1568a94-f601-4dcc-c452-117c1a797a14"
      },
      "execution_count": 8,
      "outputs": [
        {
          "output_type": "display_data",
          "data": {
            "text/html": [
              "16"
            ],
            "text/markdown": "16",
            "text/latex": "16",
            "text/plain": [
              "[1] 16"
            ]
          },
          "metadata": {}
        },
        {
          "output_type": "display_data",
          "data": {
            "text/html": [
              "78"
            ],
            "text/markdown": "78",
            "text/latex": "78",
            "text/plain": [
              "[1] 78"
            ]
          },
          "metadata": {}
        }
      ]
    },
    {
      "cell_type": "markdown",
      "source": [
        "コードの途中で何かメモをしておいたり、コードの説明を記述する際には`#`を上手く使ってください。\n",
        "\n",
        "講義で提示するコードにも、`#`で説明が加えられていることがありますが、コメントだと認識しておいてください。"
      ],
      "metadata": {
        "id": "h2ukq2miitFa"
      }
    },
    {
      "cell_type": "markdown",
      "source": [
        "# 複数の値をまとめて扱う・変数\n",
        "\n",
        "Rでは複数の値を1つのベクトルデータとして扱うことができます。\n",
        "\n",
        "`c`という関数でデータをまとめることが出来ます。\n",
        "\n",
        "`c(123, 23, 45, 221, 78)`\n",
        "\n",
        "また、Rでは自分で名前を決めた**変数**にデータを格納しておくことが可能です。\n",
        "\n",
        "`変数名 <- データ`という形でデータを格納できます。\n",
        "\n",
        "例えば、上の5つの値を`x`という変数に格納するには、`x <- c(123, 23, 45, 221, 78)`となります。"
      ],
      "metadata": {
        "id": "jGP7Oc9V-2vB"
      }
    },
    {
      "cell_type": "code",
      "source": [
        "x <- c(123, 23, 45, 221, 78)"
      ],
      "metadata": {
        "id": "MHnJmCci40Qw"
      },
      "execution_count": 9,
      "outputs": []
    },
    {
      "cell_type": "markdown",
      "source": [
        "xに値を一度格納すると、以降はxの中身が格納した値になります。"
      ],
      "metadata": {
        "id": "UqkUMu8y43T0"
      }
    },
    {
      "cell_type": "code",
      "source": [
        "x"
      ],
      "metadata": {
        "id": "0i-8AMhV45dZ",
        "colab": {
          "base_uri": "https://localhost:8080/",
          "height": 34
        },
        "outputId": "0464aeac-9df2-4469-9989-54f062161f11"
      },
      "execution_count": 10,
      "outputs": [
        {
          "output_type": "display_data",
          "data": {
            "text/html": [
              "<style>\n",
              ".list-inline {list-style: none; margin:0; padding: 0}\n",
              ".list-inline>li {display: inline-block}\n",
              ".list-inline>li:not(:last-child)::after {content: \"\\00b7\"; padding: 0 .5ex}\n",
              "</style>\n",
              "<ol class=list-inline><li>123</li><li>23</li><li>45</li><li>221</li><li>78</li></ol>\n"
            ],
            "text/markdown": "1. 123\n2. 23\n3. 45\n4. 221\n5. 78\n\n\n",
            "text/latex": "\\begin{enumerate*}\n\\item 123\n\\item 23\n\\item 45\n\\item 221\n\\item 78\n\\end{enumerate*}\n",
            "text/plain": [
              "[1] 123  23  45 221  78"
            ]
          },
          "metadata": {}
        }
      ]
    },
    {
      "cell_type": "markdown",
      "source": [
        "複数の値に対して適用することが出来る関数があり、\n",
        "\n",
        "平均値を計算する`mean`関数、合計値を計算する`sum`関数などがあります。"
      ],
      "metadata": {
        "id": "6YEzGEGABXxS"
      }
    },
    {
      "cell_type": "code",
      "source": [
        "x <- c(123, 23, 45, 221, 78)\n",
        "mean(x)"
      ],
      "metadata": {
        "id": "w9whDttxBnR3",
        "colab": {
          "base_uri": "https://localhost:8080/",
          "height": 34
        },
        "outputId": "773a344f-6dda-4fc9-fa7a-d2af875d97da"
      },
      "execution_count": 11,
      "outputs": [
        {
          "output_type": "display_data",
          "data": {
            "text/html": [
              "98"
            ],
            "text/markdown": "98",
            "text/latex": "98",
            "text/plain": [
              "[1] 98"
            ]
          },
          "metadata": {}
        }
      ]
    },
    {
      "cell_type": "code",
      "source": [
        "sum(x)"
      ],
      "metadata": {
        "id": "tl05ruBnBrDF",
        "colab": {
          "base_uri": "https://localhost:8080/",
          "height": 34
        },
        "outputId": "13378b22-9719-4eed-9d8c-6814a834bb64"
      },
      "execution_count": 12,
      "outputs": [
        {
          "output_type": "display_data",
          "data": {
            "text/html": [
              "490"
            ],
            "text/markdown": "490",
            "text/latex": "490",
            "text/plain": [
              "[1] 490"
            ]
          },
          "metadata": {}
        }
      ]
    },
    {
      "cell_type": "markdown",
      "source": [
        "`summary`という関数はデータの平均値や最大値などの基本的な統計量を計算してくれます。"
      ],
      "metadata": {
        "id": "5ePd-tvXBxbm"
      }
    },
    {
      "cell_type": "code",
      "source": [
        "x <- c(12, 23, 32, 18, 19, 20)\n",
        "summary(x)"
      ],
      "metadata": {
        "id": "whphBtCJB5o3",
        "colab": {
          "base_uri": "https://localhost:8080/",
          "height": 54
        },
        "outputId": "62fb8063-9eb3-47c6-f15a-f4ae6d21ebe2"
      },
      "execution_count": 13,
      "outputs": [
        {
          "output_type": "display_data",
          "data": {
            "text/plain": [
              "   Min. 1st Qu.  Median    Mean 3rd Qu.    Max. \n",
              "  12.00   18.25   19.50   20.67   22.25   32.00 "
            ]
          },
          "metadata": {}
        }
      ]
    },
    {
      "cell_type": "markdown",
      "source": [
        "Rにはデータの要約や検定など、統計的な処理を行ってくれる関数が充実しているので、\n",
        "\n",
        "難しい計算を自分でやらなくても手軽にデータの統計処理が出来る様になります。"
      ],
      "metadata": {
        "id": "kaIh3kH6CDtQ"
      }
    },
    {
      "cell_type": "markdown",
      "source": [
        "## ベクトルに対する計算・ベクトル同士の計算\n",
        "\n",
        "ベクトルのすべての要素に対して、ある値を引いたり、かける事が出来ます。\n"
      ],
      "metadata": {
        "id": "DRDrNXpaDPS2"
      }
    },
    {
      "cell_type": "code",
      "source": [
        "x <- c(12, 23, 32, 18, 19, 20)\n",
        "\n",
        "x - 10"
      ],
      "metadata": {
        "id": "07CO6jsyENF3",
        "colab": {
          "base_uri": "https://localhost:8080/",
          "height": 34
        },
        "outputId": "d07eb84b-e19e-4bd7-8877-5ec4b81afd72"
      },
      "execution_count": 14,
      "outputs": [
        {
          "output_type": "display_data",
          "data": {
            "text/html": [
              "<style>\n",
              ".list-inline {list-style: none; margin:0; padding: 0}\n",
              ".list-inline>li {display: inline-block}\n",
              ".list-inline>li:not(:last-child)::after {content: \"\\00b7\"; padding: 0 .5ex}\n",
              "</style>\n",
              "<ol class=list-inline><li>2</li><li>13</li><li>22</li><li>8</li><li>9</li><li>10</li></ol>\n"
            ],
            "text/markdown": "1. 2\n2. 13\n3. 22\n4. 8\n5. 9\n6. 10\n\n\n",
            "text/latex": "\\begin{enumerate*}\n\\item 2\n\\item 13\n\\item 22\n\\item 8\n\\item 9\n\\item 10\n\\end{enumerate*}\n",
            "text/plain": [
              "[1]  2 13 22  8  9 10"
            ]
          },
          "metadata": {}
        }
      ]
    },
    {
      "cell_type": "code",
      "source": [
        "x * 10"
      ],
      "metadata": {
        "id": "SQ50fm6MEVEk",
        "colab": {
          "base_uri": "https://localhost:8080/",
          "height": 34
        },
        "outputId": "45a11037-469b-46b5-83a7-4e8a08b0afa0"
      },
      "execution_count": 15,
      "outputs": [
        {
          "output_type": "display_data",
          "data": {
            "text/html": [
              "<style>\n",
              ".list-inline {list-style: none; margin:0; padding: 0}\n",
              ".list-inline>li {display: inline-block}\n",
              ".list-inline>li:not(:last-child)::after {content: \"\\00b7\"; padding: 0 .5ex}\n",
              "</style>\n",
              "<ol class=list-inline><li>120</li><li>230</li><li>320</li><li>180</li><li>190</li><li>200</li></ol>\n"
            ],
            "text/markdown": "1. 120\n2. 230\n3. 320\n4. 180\n5. 190\n6. 200\n\n\n",
            "text/latex": "\\begin{enumerate*}\n\\item 120\n\\item 230\n\\item 320\n\\item 180\n\\item 190\n\\item 200\n\\end{enumerate*}\n",
            "text/plain": [
              "[1] 120 230 320 180 190 200"
            ]
          },
          "metadata": {}
        }
      ]
    },
    {
      "cell_type": "markdown",
      "source": [
        "また、ベクトル同士で計算を行うと、\n",
        "\n",
        "1番目の要素同士、2番目の要素同士、3番目の要素同士...と、各要素ごとに計算が行われます。\n",
        "\n"
      ],
      "metadata": {
        "id": "iCtwM4D1EZ1O"
      }
    },
    {
      "cell_type": "code",
      "source": [
        "x <- c(12, 23, 32, 18, 19, 20)\n",
        "y <- c(10, 20, 30, 40, 50, 60)\n",
        "\n",
        "x + y"
      ],
      "metadata": {
        "id": "hDeXEwoCEv8R",
        "colab": {
          "base_uri": "https://localhost:8080/",
          "height": 34
        },
        "outputId": "9487cebc-e1f3-4a6a-e5d1-8cbb8a3de950"
      },
      "execution_count": 16,
      "outputs": [
        {
          "output_type": "display_data",
          "data": {
            "text/html": [
              "<style>\n",
              ".list-inline {list-style: none; margin:0; padding: 0}\n",
              ".list-inline>li {display: inline-block}\n",
              ".list-inline>li:not(:last-child)::after {content: \"\\00b7\"; padding: 0 .5ex}\n",
              "</style>\n",
              "<ol class=list-inline><li>22</li><li>43</li><li>62</li><li>58</li><li>69</li><li>80</li></ol>\n"
            ],
            "text/markdown": "1. 22\n2. 43\n3. 62\n4. 58\n5. 69\n6. 80\n\n\n",
            "text/latex": "\\begin{enumerate*}\n\\item 22\n\\item 43\n\\item 62\n\\item 58\n\\item 69\n\\item 80\n\\end{enumerate*}\n",
            "text/plain": [
              "[1] 22 43 62 58 69 80"
            ]
          },
          "metadata": {}
        }
      ]
    },
    {
      "cell_type": "markdown",
      "source": [
        "ベクトルを`^2`で2乗すると、各要素ごとに2乗されることになります。"
      ],
      "metadata": {
        "id": "aXHlo9waGMce"
      }
    },
    {
      "cell_type": "code",
      "source": [
        "x <- c(12, 23, 32, 18, 19, 20)\n",
        "x^2"
      ],
      "metadata": {
        "id": "t71z4yHaGJ8N",
        "colab": {
          "base_uri": "https://localhost:8080/",
          "height": 34
        },
        "outputId": "1d220925-fbe0-4959-c656-fe2a73bcdd69"
      },
      "execution_count": 17,
      "outputs": [
        {
          "output_type": "display_data",
          "data": {
            "text/html": [
              "<style>\n",
              ".list-inline {list-style: none; margin:0; padding: 0}\n",
              ".list-inline>li {display: inline-block}\n",
              ".list-inline>li:not(:last-child)::after {content: \"\\00b7\"; padding: 0 .5ex}\n",
              "</style>\n",
              "<ol class=list-inline><li>144</li><li>529</li><li>1024</li><li>324</li><li>361</li><li>400</li></ol>\n"
            ],
            "text/markdown": "1. 144\n2. 529\n3. 1024\n4. 324\n5. 361\n6. 400\n\n\n",
            "text/latex": "\\begin{enumerate*}\n\\item 144\n\\item 529\n\\item 1024\n\\item 324\n\\item 361\n\\item 400\n\\end{enumerate*}\n",
            "text/plain": [
              "[1]  144  529 1024  324  361  400"
            ]
          },
          "metadata": {}
        }
      ]
    },
    {
      "cell_type": "markdown",
      "source": [
        "一見、で？となる様な特徴ですが、このベクトル計算が統計手法に登場する計算で役に立ちます。\n",
        "\n",
        "例えば実験をして10個の観測値$X_1, X_2, X_3, ... X_{10}$が得られたとき、その平均値を$\\bar{X}$とすると、\n",
        "\n",
        "$\\sum_{i=1}^{10}(X_i - \\bar{X})^2$\n",
        "\n",
        "みたいな値を今後計算することになります。\n",
        "\n",
        "実際に$X_1, X_2, X_3, ... X_{10}$が$12, 23, 32, 18, 19, 20,37,28,10,24$だった場合、\n",
        "\n",
        "`mean`関数や`sum関数`、`x^2`でxの二乗が計算できることを利用して計算してみると…\n"
      ],
      "metadata": {
        "id": "RQ0CWJQ-E3uC"
      }
    },
    {
      "cell_type": "code",
      "source": [
        "data <- c(12,23,32,18,19,20,37,28,10,24)\n",
        "\n",
        "# コード書いて計算してみましょう\n",
        "data_diff <- data - mean(data)\n",
        "sum(data_diff^2)\n",
        "\n",
        "# sum((data - mean(data))^2) でも可"
      ],
      "metadata": {
        "id": "thu_8l6eFuXe",
        "colab": {
          "base_uri": "https://localhost:8080/",
          "height": 34
        },
        "outputId": "05ab0562-dd18-45eb-f587-69a3e2c8242d"
      },
      "execution_count": 18,
      "outputs": [
        {
          "output_type": "display_data",
          "data": {
            "text/html": [
              "638.1"
            ],
            "text/markdown": "638.1",
            "text/latex": "638.1",
            "text/plain": [
              "[1] 638.1"
            ]
          },
          "metadata": {}
        }
      ]
    },
    {
      "cell_type": "markdown",
      "source": [
        "また2種類の観測データ$X_1, X_2, ..., X_{10}$と$Y_1, Y_2,... Y_{10}$が得られたとき、\n",
        "\n",
        "それぞれの平均値$\\bar{X}, \\bar{Y}$とすると\n",
        "\n",
        "$\\sum_{i=1}^{10}(X_i - \\bar{X})(Y_i - \\bar{Y})$\n",
        "\n",
        "みたいな計算も必要になります。\n",
        "\n",
        "$X_1, X_2, X_3, ... X_{10}$が$12, 23, 32, 18, 19, 20, 37,28,10,24$\n",
        "\n",
        "$Y_1, Y_2, Y_3, ... Y_{10}$が$102, 240, 289, 156, 188, 201, 222, 278, 98, 232$だった場合、"
      ],
      "metadata": {
        "id": "QXd2bF56LPcM"
      }
    },
    {
      "cell_type": "code",
      "source": [
        "x <- c(12,23,32,18,19,20,37,28,10,24)\n",
        "y <- c(102,240,289,156,188,201,222,278,98,232)\n",
        "\n",
        "# コード書いて計算してみましょう\n",
        "x_diff <- x - mean(x)\n",
        "y_diff <- y - mean(y)\n",
        "\n",
        "sum(x_diff * y_diff)"
      ],
      "metadata": {
        "id": "aLvtRjUyMULJ",
        "colab": {
          "base_uri": "https://localhost:8080/",
          "height": 34
        },
        "outputId": "859a3c2e-c1fc-4077-a8c9-5adf7e741233"
      },
      "execution_count": 19,
      "outputs": [
        {
          "output_type": "display_data",
          "data": {
            "text/html": [
              "4204.2"
            ],
            "text/markdown": "4204.2",
            "text/latex": "4204.2",
            "text/plain": [
              "[1] 4204.2"
            ]
          },
          "metadata": {}
        }
      ]
    },
    {
      "cell_type": "markdown",
      "source": [
        "この様な形で、統計手法の計算ではそれぞれの観測値ごとに何らかの計算をする場面が多く出てきます。\n",
        "\n",
        "その際にRのベクトルの各要素ごとに計算する仕組みが役立ちます。"
      ],
      "metadata": {
        "id": "OFDwDdV3LDn_"
      }
    },
    {
      "cell_type": "markdown",
      "source": [
        "# CSVファイル等の外部データを読み込む\n",
        "\n",
        "ここまでは数値データ等を自分で打ち込んできましたが、既存のファイル等からデータを読み込むことも可能です。\n",
        "\n",
        "ここではデータを保存しておく形式として最もポピュラーなものの１つのCSV形式のファイルを読み込みます。\n",
        "\n",
        "CSVファイルは、CSV(Comma-Separated Values)の通り、カンマ(,)でデータを区切って保存したファイルです。Excelでも読み込むことが出来るのでよく用いられています。\n",
        "\n",
        "<img src=\"https://github.com/slt666666/biostatistics_text_wed/blob/main/source/_static/images/chapter2/csv_load.png?raw=true\" alt=\"title\" height=\"150px\">\n",
        "\n",
        "\n",
        "CSVファイルを読み込むための関数`read.csv`という関数があります。\n",
        "\n",
        "今回はGoogle Colaboratoryにもともと置いてあるサンプルファイルを読み込んでみます。\n",
        "\n",
        "`read.csv(\"CSVファイルの名前/URL等\")`"
      ],
      "metadata": {
        "id": "Wqsto1am5g4g"
      }
    },
    {
      "cell_type": "code",
      "source": [
        "read.csv(\"sample_data/california_housing_test.csv\")"
      ],
      "metadata": {
        "id": "fP7sA2mi8xU6",
        "colab": {
          "base_uri": "https://localhost:8080/",
          "height": 1000
        },
        "outputId": "faaea4bb-c1f0-4b35-9e61-f5d21af1f368"
      },
      "execution_count": 20,
      "outputs": [
        {
          "output_type": "display_data",
          "data": {
            "text/html": [
              "<table class=\"dataframe\">\n",
              "<caption>A data.frame: 3000 × 9</caption>\n",
              "<thead>\n",
              "\t<tr><th scope=col>longitude</th><th scope=col>latitude</th><th scope=col>housing_median_age</th><th scope=col>total_rooms</th><th scope=col>total_bedrooms</th><th scope=col>population</th><th scope=col>households</th><th scope=col>median_income</th><th scope=col>median_house_value</th></tr>\n",
              "\t<tr><th scope=col>&lt;dbl&gt;</th><th scope=col>&lt;dbl&gt;</th><th scope=col>&lt;dbl&gt;</th><th scope=col>&lt;dbl&gt;</th><th scope=col>&lt;dbl&gt;</th><th scope=col>&lt;dbl&gt;</th><th scope=col>&lt;dbl&gt;</th><th scope=col>&lt;dbl&gt;</th><th scope=col>&lt;dbl&gt;</th></tr>\n",
              "</thead>\n",
              "<tbody>\n",
              "\t<tr><td>-122.05</td><td>37.37</td><td>27</td><td>3885</td><td> 661</td><td>1537</td><td> 606</td><td>6.6085</td><td>344700</td></tr>\n",
              "\t<tr><td>-118.30</td><td>34.26</td><td>43</td><td>1510</td><td> 310</td><td> 809</td><td> 277</td><td>3.5990</td><td>176500</td></tr>\n",
              "\t<tr><td>-117.81</td><td>33.78</td><td>27</td><td>3589</td><td> 507</td><td>1484</td><td> 495</td><td>5.7934</td><td>270500</td></tr>\n",
              "\t<tr><td>-118.36</td><td>33.82</td><td>28</td><td>  67</td><td>  15</td><td>  49</td><td>  11</td><td>6.1359</td><td>330000</td></tr>\n",
              "\t<tr><td>-119.67</td><td>36.33</td><td>19</td><td>1241</td><td> 244</td><td> 850</td><td> 237</td><td>2.9375</td><td> 81700</td></tr>\n",
              "\t<tr><td>-119.56</td><td>36.51</td><td>37</td><td>1018</td><td> 213</td><td> 663</td><td> 204</td><td>1.6635</td><td> 67000</td></tr>\n",
              "\t<tr><td>-121.43</td><td>38.63</td><td>43</td><td>1009</td><td> 225</td><td> 604</td><td> 218</td><td>1.6641</td><td> 67000</td></tr>\n",
              "\t<tr><td>-120.65</td><td>35.48</td><td>19</td><td>2310</td><td> 471</td><td>1341</td><td> 441</td><td>3.2250</td><td>166900</td></tr>\n",
              "\t<tr><td>-122.84</td><td>38.40</td><td>15</td><td>3080</td><td> 617</td><td>1446</td><td> 599</td><td>3.6696</td><td>194400</td></tr>\n",
              "\t<tr><td>-118.02</td><td>34.08</td><td>31</td><td>2402</td><td> 632</td><td>2830</td><td> 603</td><td>2.3333</td><td>164200</td></tr>\n",
              "\t<tr><td>-118.24</td><td>33.98</td><td>45</td><td> 972</td><td> 249</td><td>1288</td><td> 261</td><td>2.2054</td><td>125000</td></tr>\n",
              "\t<tr><td>-119.12</td><td>35.85</td><td>37</td><td> 736</td><td> 166</td><td> 564</td><td> 138</td><td>2.4167</td><td> 58300</td></tr>\n",
              "\t<tr><td>-121.93</td><td>37.25</td><td>36</td><td>1089</td><td> 182</td><td> 535</td><td> 170</td><td>4.6900</td><td>252600</td></tr>\n",
              "\t<tr><td>-117.03</td><td>32.97</td><td>16</td><td>3936</td><td> 694</td><td>1935</td><td> 659</td><td>4.5625</td><td>231200</td></tr>\n",
              "\t<tr><td>-117.97</td><td>33.73</td><td>27</td><td>2097</td><td> 325</td><td>1217</td><td> 331</td><td>5.7121</td><td>222500</td></tr>\n",
              "\t<tr><td>-117.99</td><td>33.81</td><td>42</td><td> 161</td><td>  40</td><td> 157</td><td>  50</td><td>2.2000</td><td>153100</td></tr>\n",
              "\t<tr><td>-120.81</td><td>37.53</td><td>15</td><td> 570</td><td> 123</td><td> 189</td><td> 107</td><td>1.8750</td><td>181300</td></tr>\n",
              "\t<tr><td>-121.20</td><td>38.69</td><td>26</td><td>3077</td><td> 607</td><td>1603</td><td> 595</td><td>2.7174</td><td>137500</td></tr>\n",
              "\t<tr><td>-118.88</td><td>34.21</td><td>26</td><td>1590</td><td> 196</td><td> 654</td><td> 199</td><td>6.5851</td><td>300000</td></tr>\n",
              "\t<tr><td>-122.59</td><td>38.01</td><td>35</td><td>8814</td><td>1307</td><td>3450</td><td>1258</td><td>6.1724</td><td>414300</td></tr>\n",
              "\t<tr><td>-122.15</td><td>37.75</td><td>40</td><td>1445</td><td> 256</td><td> 849</td><td> 255</td><td>3.8913</td><td>126300</td></tr>\n",
              "\t<tr><td>-121.37</td><td>38.68</td><td>36</td><td>1775</td><td> 296</td><td> 937</td><td> 305</td><td>3.1786</td><td> 83400</td></tr>\n",
              "\t<tr><td>-118.16</td><td>34.07</td><td>47</td><td>2994</td><td> 543</td><td>1651</td><td> 561</td><td>3.8644</td><td>241500</td></tr>\n",
              "\t<tr><td>-122.20</td><td>37.79</td><td>45</td><td>2021</td><td> 528</td><td>1410</td><td> 480</td><td>2.7788</td><td>115400</td></tr>\n",
              "\t<tr><td>-117.28</td><td>33.28</td><td>13</td><td>6131</td><td>1040</td><td>4049</td><td> 940</td><td>3.8156</td><td>150700</td></tr>\n",
              "\t<tr><td>-118.03</td><td>34.16</td><td>36</td><td>1401</td><td> 218</td><td> 667</td><td> 225</td><td>7.1615</td><td>484700</td></tr>\n",
              "\t<tr><td>-122.42</td><td>37.76</td><td>52</td><td>3587</td><td>1030</td><td>2259</td><td> 979</td><td>2.5403</td><td>250000</td></tr>\n",
              "\t<tr><td>-118.39</td><td>33.99</td><td>32</td><td>2612</td><td> 418</td><td>1030</td><td> 402</td><td>6.6030</td><td>369200</td></tr>\n",
              "\t<tr><td>-118.45</td><td>34.07</td><td>19</td><td>4845</td><td>1609</td><td>3751</td><td>1539</td><td>1.5830</td><td>350000</td></tr>\n",
              "\t<tr><td>-118.48</td><td>34.01</td><td>30</td><td>3078</td><td> 954</td><td>1561</td><td> 901</td><td>3.4852</td><td>425000</td></tr>\n",
              "\t<tr><td>⋮</td><td>⋮</td><td>⋮</td><td>⋮</td><td>⋮</td><td>⋮</td><td>⋮</td><td>⋮</td><td>⋮</td></tr>\n",
              "\t<tr><td>-122.47</td><td>37.77</td><td>52</td><td>2241</td><td> 443</td><td>1042</td><td> 377</td><td>4.1635</td><td>398400</td></tr>\n",
              "\t<tr><td>-120.93</td><td>35.76</td><td>11</td><td>8997</td><td>1698</td><td>1825</td><td> 756</td><td>3.2300</td><td>154300</td></tr>\n",
              "\t<tr><td>-118.14</td><td>34.17</td><td>52</td><td>2667</td><td> 486</td><td>1681</td><td> 504</td><td>4.0524</td><td>173100</td></tr>\n",
              "\t<tr><td>-122.73</td><td>38.46</td><td>14</td><td>4042</td><td>1298</td><td>2323</td><td>1158</td><td>2.0651</td><td>135400</td></tr>\n",
              "\t<tr><td>-117.06</td><td>32.76</td><td>37</td><td>2356</td><td> 476</td><td>1231</td><td> 499</td><td>2.9650</td><td>155700</td></tr>\n",
              "\t<tr><td>-120.71</td><td>35.50</td><td>12</td><td>3098</td><td> 453</td><td>1433</td><td> 434</td><td>5.2508</td><td>292900</td></tr>\n",
              "\t<tr><td>-118.31</td><td>34.05</td><td>35</td><td>1692</td><td> 423</td><td>1578</td><td> 406</td><td>2.5313</td><td>305800</td></tr>\n",
              "\t<tr><td>-119.70</td><td>36.75</td><td>11</td><td>3626</td><td> 779</td><td>1819</td><td> 731</td><td>2.4956</td><td> 87500</td></tr>\n",
              "\t<tr><td>-121.34</td><td>38.64</td><td>17</td><td>2761</td><td> 501</td><td>1128</td><td> 482</td><td>3.7562</td><td>139700</td></tr>\n",
              "\t<tr><td>-117.91</td><td>34.09</td><td>20</td><td>4327</td><td>1037</td><td>2296</td><td> 963</td><td>3.0441</td><td>185400</td></tr>\n",
              "\t<tr><td>-119.76</td><td>36.79</td><td>32</td><td>2463</td><td> 468</td><td>1261</td><td> 486</td><td>3.3281</td><td> 75100</td></tr>\n",
              "\t<tr><td>-120.66</td><td>35.49</td><td>17</td><td>4422</td><td> 945</td><td>2307</td><td> 885</td><td>2.8285</td><td>171300</td></tr>\n",
              "\t<tr><td>-118.28</td><td>34.08</td><td>42</td><td>1618</td><td> 522</td><td>1454</td><td> 440</td><td>3.1607</td><td>182000</td></tr>\n",
              "\t<tr><td>-122.54</td><td>37.90</td><td>48</td><td>2491</td><td> 460</td><td> 937</td><td> 455</td><td>4.4375</td><td>370000</td></tr>\n",
              "\t<tr><td>-117.59</td><td>33.88</td><td>13</td><td>3239</td><td> 849</td><td>2751</td><td> 813</td><td>2.6111</td><td>107000</td></tr>\n",
              "\t<tr><td>-120.47</td><td>34.94</td><td>17</td><td>1368</td><td> 308</td><td> 642</td><td> 303</td><td>1.8633</td><td>109400</td></tr>\n",
              "\t<tr><td>-118.25</td><td>33.93</td><td>42</td><td> 819</td><td> 233</td><td> 899</td><td> 228</td><td>1.1346</td><td> 85400</td></tr>\n",
              "\t<tr><td>-121.97</td><td>37.29</td><td>25</td><td>4096</td><td> 743</td><td>2027</td><td> 741</td><td>5.3294</td><td>300300</td></tr>\n",
              "\t<tr><td>-122.01</td><td>36.97</td><td>43</td><td>2162</td><td> 509</td><td>1208</td><td> 464</td><td>2.5417</td><td>260900</td></tr>\n",
              "\t<tr><td>-122.02</td><td>37.60</td><td>32</td><td>1295</td><td> 295</td><td>1097</td><td> 328</td><td>3.2386</td><td>149600</td></tr>\n",
              "\t<tr><td>-118.23</td><td>34.09</td><td>49</td><td>1638</td><td> 456</td><td>1500</td><td> 430</td><td>2.6923</td><td>150000</td></tr>\n",
              "\t<tr><td>-117.17</td><td>34.28</td><td>13</td><td>4867</td><td> 718</td><td> 780</td><td> 250</td><td>7.1997</td><td>253800</td></tr>\n",
              "\t<tr><td>-122.33</td><td>37.39</td><td>52</td><td> 573</td><td> 102</td><td> 232</td><td>  92</td><td>6.2263</td><td>500001</td></tr>\n",
              "\t<tr><td>-117.91</td><td>33.60</td><td>37</td><td>2088</td><td> 510</td><td> 673</td><td> 390</td><td>5.1048</td><td>500001</td></tr>\n",
              "\t<tr><td>-117.93</td><td>33.86</td><td>35</td><td> 931</td><td> 181</td><td> 516</td><td> 174</td><td>5.5867</td><td>182500</td></tr>\n",
              "\t<tr><td>-119.86</td><td>34.42</td><td>23</td><td>1450</td><td> 642</td><td>1258</td><td> 607</td><td>1.1790</td><td>225000</td></tr>\n",
              "\t<tr><td>-118.14</td><td>34.06</td><td>27</td><td>5257</td><td>1082</td><td>3496</td><td>1036</td><td>3.3906</td><td>237200</td></tr>\n",
              "\t<tr><td>-119.70</td><td>36.30</td><td>10</td><td> 956</td><td> 201</td><td> 693</td><td> 220</td><td>2.2895</td><td> 62000</td></tr>\n",
              "\t<tr><td>-117.12</td><td>34.10</td><td>40</td><td>  96</td><td>  14</td><td>  46</td><td>  14</td><td>3.2708</td><td>162500</td></tr>\n",
              "\t<tr><td>-119.63</td><td>34.42</td><td>42</td><td>1765</td><td> 263</td><td> 753</td><td> 260</td><td>8.5608</td><td>500001</td></tr>\n",
              "</tbody>\n",
              "</table>\n"
            ],
            "text/markdown": "\nA data.frame: 3000 × 9\n\n| longitude &lt;dbl&gt; | latitude &lt;dbl&gt; | housing_median_age &lt;dbl&gt; | total_rooms &lt;dbl&gt; | total_bedrooms &lt;dbl&gt; | population &lt;dbl&gt; | households &lt;dbl&gt; | median_income &lt;dbl&gt; | median_house_value &lt;dbl&gt; |\n|---|---|---|---|---|---|---|---|---|\n| -122.05 | 37.37 | 27 | 3885 |  661 | 1537 |  606 | 6.6085 | 344700 |\n| -118.30 | 34.26 | 43 | 1510 |  310 |  809 |  277 | 3.5990 | 176500 |\n| -117.81 | 33.78 | 27 | 3589 |  507 | 1484 |  495 | 5.7934 | 270500 |\n| -118.36 | 33.82 | 28 |   67 |   15 |   49 |   11 | 6.1359 | 330000 |\n| -119.67 | 36.33 | 19 | 1241 |  244 |  850 |  237 | 2.9375 |  81700 |\n| -119.56 | 36.51 | 37 | 1018 |  213 |  663 |  204 | 1.6635 |  67000 |\n| -121.43 | 38.63 | 43 | 1009 |  225 |  604 |  218 | 1.6641 |  67000 |\n| -120.65 | 35.48 | 19 | 2310 |  471 | 1341 |  441 | 3.2250 | 166900 |\n| -122.84 | 38.40 | 15 | 3080 |  617 | 1446 |  599 | 3.6696 | 194400 |\n| -118.02 | 34.08 | 31 | 2402 |  632 | 2830 |  603 | 2.3333 | 164200 |\n| -118.24 | 33.98 | 45 |  972 |  249 | 1288 |  261 | 2.2054 | 125000 |\n| -119.12 | 35.85 | 37 |  736 |  166 |  564 |  138 | 2.4167 |  58300 |\n| -121.93 | 37.25 | 36 | 1089 |  182 |  535 |  170 | 4.6900 | 252600 |\n| -117.03 | 32.97 | 16 | 3936 |  694 | 1935 |  659 | 4.5625 | 231200 |\n| -117.97 | 33.73 | 27 | 2097 |  325 | 1217 |  331 | 5.7121 | 222500 |\n| -117.99 | 33.81 | 42 |  161 |   40 |  157 |   50 | 2.2000 | 153100 |\n| -120.81 | 37.53 | 15 |  570 |  123 |  189 |  107 | 1.8750 | 181300 |\n| -121.20 | 38.69 | 26 | 3077 |  607 | 1603 |  595 | 2.7174 | 137500 |\n| -118.88 | 34.21 | 26 | 1590 |  196 |  654 |  199 | 6.5851 | 300000 |\n| -122.59 | 38.01 | 35 | 8814 | 1307 | 3450 | 1258 | 6.1724 | 414300 |\n| -122.15 | 37.75 | 40 | 1445 |  256 |  849 |  255 | 3.8913 | 126300 |\n| -121.37 | 38.68 | 36 | 1775 |  296 |  937 |  305 | 3.1786 |  83400 |\n| -118.16 | 34.07 | 47 | 2994 |  543 | 1651 |  561 | 3.8644 | 241500 |\n| -122.20 | 37.79 | 45 | 2021 |  528 | 1410 |  480 | 2.7788 | 115400 |\n| -117.28 | 33.28 | 13 | 6131 | 1040 | 4049 |  940 | 3.8156 | 150700 |\n| -118.03 | 34.16 | 36 | 1401 |  218 |  667 |  225 | 7.1615 | 484700 |\n| -122.42 | 37.76 | 52 | 3587 | 1030 | 2259 |  979 | 2.5403 | 250000 |\n| -118.39 | 33.99 | 32 | 2612 |  418 | 1030 |  402 | 6.6030 | 369200 |\n| -118.45 | 34.07 | 19 | 4845 | 1609 | 3751 | 1539 | 1.5830 | 350000 |\n| -118.48 | 34.01 | 30 | 3078 |  954 | 1561 |  901 | 3.4852 | 425000 |\n| ⋮ | ⋮ | ⋮ | ⋮ | ⋮ | ⋮ | ⋮ | ⋮ | ⋮ |\n| -122.47 | 37.77 | 52 | 2241 |  443 | 1042 |  377 | 4.1635 | 398400 |\n| -120.93 | 35.76 | 11 | 8997 | 1698 | 1825 |  756 | 3.2300 | 154300 |\n| -118.14 | 34.17 | 52 | 2667 |  486 | 1681 |  504 | 4.0524 | 173100 |\n| -122.73 | 38.46 | 14 | 4042 | 1298 | 2323 | 1158 | 2.0651 | 135400 |\n| -117.06 | 32.76 | 37 | 2356 |  476 | 1231 |  499 | 2.9650 | 155700 |\n| -120.71 | 35.50 | 12 | 3098 |  453 | 1433 |  434 | 5.2508 | 292900 |\n| -118.31 | 34.05 | 35 | 1692 |  423 | 1578 |  406 | 2.5313 | 305800 |\n| -119.70 | 36.75 | 11 | 3626 |  779 | 1819 |  731 | 2.4956 |  87500 |\n| -121.34 | 38.64 | 17 | 2761 |  501 | 1128 |  482 | 3.7562 | 139700 |\n| -117.91 | 34.09 | 20 | 4327 | 1037 | 2296 |  963 | 3.0441 | 185400 |\n| -119.76 | 36.79 | 32 | 2463 |  468 | 1261 |  486 | 3.3281 |  75100 |\n| -120.66 | 35.49 | 17 | 4422 |  945 | 2307 |  885 | 2.8285 | 171300 |\n| -118.28 | 34.08 | 42 | 1618 |  522 | 1454 |  440 | 3.1607 | 182000 |\n| -122.54 | 37.90 | 48 | 2491 |  460 |  937 |  455 | 4.4375 | 370000 |\n| -117.59 | 33.88 | 13 | 3239 |  849 | 2751 |  813 | 2.6111 | 107000 |\n| -120.47 | 34.94 | 17 | 1368 |  308 |  642 |  303 | 1.8633 | 109400 |\n| -118.25 | 33.93 | 42 |  819 |  233 |  899 |  228 | 1.1346 |  85400 |\n| -121.97 | 37.29 | 25 | 4096 |  743 | 2027 |  741 | 5.3294 | 300300 |\n| -122.01 | 36.97 | 43 | 2162 |  509 | 1208 |  464 | 2.5417 | 260900 |\n| -122.02 | 37.60 | 32 | 1295 |  295 | 1097 |  328 | 3.2386 | 149600 |\n| -118.23 | 34.09 | 49 | 1638 |  456 | 1500 |  430 | 2.6923 | 150000 |\n| -117.17 | 34.28 | 13 | 4867 |  718 |  780 |  250 | 7.1997 | 253800 |\n| -122.33 | 37.39 | 52 |  573 |  102 |  232 |   92 | 6.2263 | 500001 |\n| -117.91 | 33.60 | 37 | 2088 |  510 |  673 |  390 | 5.1048 | 500001 |\n| -117.93 | 33.86 | 35 |  931 |  181 |  516 |  174 | 5.5867 | 182500 |\n| -119.86 | 34.42 | 23 | 1450 |  642 | 1258 |  607 | 1.1790 | 225000 |\n| -118.14 | 34.06 | 27 | 5257 | 1082 | 3496 | 1036 | 3.3906 | 237200 |\n| -119.70 | 36.30 | 10 |  956 |  201 |  693 |  220 | 2.2895 |  62000 |\n| -117.12 | 34.10 | 40 |   96 |   14 |   46 |   14 | 3.2708 | 162500 |\n| -119.63 | 34.42 | 42 | 1765 |  263 |  753 |  260 | 8.5608 | 500001 |\n\n",
            "text/latex": "A data.frame: 3000 × 9\n\\begin{tabular}{lllllllll}\n longitude & latitude & housing\\_median\\_age & total\\_rooms & total\\_bedrooms & population & households & median\\_income & median\\_house\\_value\\\\\n <dbl> & <dbl> & <dbl> & <dbl> & <dbl> & <dbl> & <dbl> & <dbl> & <dbl>\\\\\n\\hline\n\t -122.05 & 37.37 & 27 & 3885 &  661 & 1537 &  606 & 6.6085 & 344700\\\\\n\t -118.30 & 34.26 & 43 & 1510 &  310 &  809 &  277 & 3.5990 & 176500\\\\\n\t -117.81 & 33.78 & 27 & 3589 &  507 & 1484 &  495 & 5.7934 & 270500\\\\\n\t -118.36 & 33.82 & 28 &   67 &   15 &   49 &   11 & 6.1359 & 330000\\\\\n\t -119.67 & 36.33 & 19 & 1241 &  244 &  850 &  237 & 2.9375 &  81700\\\\\n\t -119.56 & 36.51 & 37 & 1018 &  213 &  663 &  204 & 1.6635 &  67000\\\\\n\t -121.43 & 38.63 & 43 & 1009 &  225 &  604 &  218 & 1.6641 &  67000\\\\\n\t -120.65 & 35.48 & 19 & 2310 &  471 & 1341 &  441 & 3.2250 & 166900\\\\\n\t -122.84 & 38.40 & 15 & 3080 &  617 & 1446 &  599 & 3.6696 & 194400\\\\\n\t -118.02 & 34.08 & 31 & 2402 &  632 & 2830 &  603 & 2.3333 & 164200\\\\\n\t -118.24 & 33.98 & 45 &  972 &  249 & 1288 &  261 & 2.2054 & 125000\\\\\n\t -119.12 & 35.85 & 37 &  736 &  166 &  564 &  138 & 2.4167 &  58300\\\\\n\t -121.93 & 37.25 & 36 & 1089 &  182 &  535 &  170 & 4.6900 & 252600\\\\\n\t -117.03 & 32.97 & 16 & 3936 &  694 & 1935 &  659 & 4.5625 & 231200\\\\\n\t -117.97 & 33.73 & 27 & 2097 &  325 & 1217 &  331 & 5.7121 & 222500\\\\\n\t -117.99 & 33.81 & 42 &  161 &   40 &  157 &   50 & 2.2000 & 153100\\\\\n\t -120.81 & 37.53 & 15 &  570 &  123 &  189 &  107 & 1.8750 & 181300\\\\\n\t -121.20 & 38.69 & 26 & 3077 &  607 & 1603 &  595 & 2.7174 & 137500\\\\\n\t -118.88 & 34.21 & 26 & 1590 &  196 &  654 &  199 & 6.5851 & 300000\\\\\n\t -122.59 & 38.01 & 35 & 8814 & 1307 & 3450 & 1258 & 6.1724 & 414300\\\\\n\t -122.15 & 37.75 & 40 & 1445 &  256 &  849 &  255 & 3.8913 & 126300\\\\\n\t -121.37 & 38.68 & 36 & 1775 &  296 &  937 &  305 & 3.1786 &  83400\\\\\n\t -118.16 & 34.07 & 47 & 2994 &  543 & 1651 &  561 & 3.8644 & 241500\\\\\n\t -122.20 & 37.79 & 45 & 2021 &  528 & 1410 &  480 & 2.7788 & 115400\\\\\n\t -117.28 & 33.28 & 13 & 6131 & 1040 & 4049 &  940 & 3.8156 & 150700\\\\\n\t -118.03 & 34.16 & 36 & 1401 &  218 &  667 &  225 & 7.1615 & 484700\\\\\n\t -122.42 & 37.76 & 52 & 3587 & 1030 & 2259 &  979 & 2.5403 & 250000\\\\\n\t -118.39 & 33.99 & 32 & 2612 &  418 & 1030 &  402 & 6.6030 & 369200\\\\\n\t -118.45 & 34.07 & 19 & 4845 & 1609 & 3751 & 1539 & 1.5830 & 350000\\\\\n\t -118.48 & 34.01 & 30 & 3078 &  954 & 1561 &  901 & 3.4852 & 425000\\\\\n\t ⋮ & ⋮ & ⋮ & ⋮ & ⋮ & ⋮ & ⋮ & ⋮ & ⋮\\\\\n\t -122.47 & 37.77 & 52 & 2241 &  443 & 1042 &  377 & 4.1635 & 398400\\\\\n\t -120.93 & 35.76 & 11 & 8997 & 1698 & 1825 &  756 & 3.2300 & 154300\\\\\n\t -118.14 & 34.17 & 52 & 2667 &  486 & 1681 &  504 & 4.0524 & 173100\\\\\n\t -122.73 & 38.46 & 14 & 4042 & 1298 & 2323 & 1158 & 2.0651 & 135400\\\\\n\t -117.06 & 32.76 & 37 & 2356 &  476 & 1231 &  499 & 2.9650 & 155700\\\\\n\t -120.71 & 35.50 & 12 & 3098 &  453 & 1433 &  434 & 5.2508 & 292900\\\\\n\t -118.31 & 34.05 & 35 & 1692 &  423 & 1578 &  406 & 2.5313 & 305800\\\\\n\t -119.70 & 36.75 & 11 & 3626 &  779 & 1819 &  731 & 2.4956 &  87500\\\\\n\t -121.34 & 38.64 & 17 & 2761 &  501 & 1128 &  482 & 3.7562 & 139700\\\\\n\t -117.91 & 34.09 & 20 & 4327 & 1037 & 2296 &  963 & 3.0441 & 185400\\\\\n\t -119.76 & 36.79 & 32 & 2463 &  468 & 1261 &  486 & 3.3281 &  75100\\\\\n\t -120.66 & 35.49 & 17 & 4422 &  945 & 2307 &  885 & 2.8285 & 171300\\\\\n\t -118.28 & 34.08 & 42 & 1618 &  522 & 1454 &  440 & 3.1607 & 182000\\\\\n\t -122.54 & 37.90 & 48 & 2491 &  460 &  937 &  455 & 4.4375 & 370000\\\\\n\t -117.59 & 33.88 & 13 & 3239 &  849 & 2751 &  813 & 2.6111 & 107000\\\\\n\t -120.47 & 34.94 & 17 & 1368 &  308 &  642 &  303 & 1.8633 & 109400\\\\\n\t -118.25 & 33.93 & 42 &  819 &  233 &  899 &  228 & 1.1346 &  85400\\\\\n\t -121.97 & 37.29 & 25 & 4096 &  743 & 2027 &  741 & 5.3294 & 300300\\\\\n\t -122.01 & 36.97 & 43 & 2162 &  509 & 1208 &  464 & 2.5417 & 260900\\\\\n\t -122.02 & 37.60 & 32 & 1295 &  295 & 1097 &  328 & 3.2386 & 149600\\\\\n\t -118.23 & 34.09 & 49 & 1638 &  456 & 1500 &  430 & 2.6923 & 150000\\\\\n\t -117.17 & 34.28 & 13 & 4867 &  718 &  780 &  250 & 7.1997 & 253800\\\\\n\t -122.33 & 37.39 & 52 &  573 &  102 &  232 &   92 & 6.2263 & 500001\\\\\n\t -117.91 & 33.60 & 37 & 2088 &  510 &  673 &  390 & 5.1048 & 500001\\\\\n\t -117.93 & 33.86 & 35 &  931 &  181 &  516 &  174 & 5.5867 & 182500\\\\\n\t -119.86 & 34.42 & 23 & 1450 &  642 & 1258 &  607 & 1.1790 & 225000\\\\\n\t -118.14 & 34.06 & 27 & 5257 & 1082 & 3496 & 1036 & 3.3906 & 237200\\\\\n\t -119.70 & 36.30 & 10 &  956 &  201 &  693 &  220 & 2.2895 &  62000\\\\\n\t -117.12 & 34.10 & 40 &   96 &   14 &   46 &   14 & 3.2708 & 162500\\\\\n\t -119.63 & 34.42 & 42 & 1765 &  263 &  753 &  260 & 8.5608 & 500001\\\\\n\\end{tabular}\n",
            "text/plain": [
              "     longitude latitude housing_median_age total_rooms total_bedrooms\n",
              "1    -122.05   37.37    27                 3885         661          \n",
              "2    -118.30   34.26    43                 1510         310          \n",
              "3    -117.81   33.78    27                 3589         507          \n",
              "4    -118.36   33.82    28                   67          15          \n",
              "5    -119.67   36.33    19                 1241         244          \n",
              "6    -119.56   36.51    37                 1018         213          \n",
              "7    -121.43   38.63    43                 1009         225          \n",
              "8    -120.65   35.48    19                 2310         471          \n",
              "9    -122.84   38.40    15                 3080         617          \n",
              "10   -118.02   34.08    31                 2402         632          \n",
              "11   -118.24   33.98    45                  972         249          \n",
              "12   -119.12   35.85    37                  736         166          \n",
              "13   -121.93   37.25    36                 1089         182          \n",
              "14   -117.03   32.97    16                 3936         694          \n",
              "15   -117.97   33.73    27                 2097         325          \n",
              "16   -117.99   33.81    42                  161          40          \n",
              "17   -120.81   37.53    15                  570         123          \n",
              "18   -121.20   38.69    26                 3077         607          \n",
              "19   -118.88   34.21    26                 1590         196          \n",
              "20   -122.59   38.01    35                 8814        1307          \n",
              "21   -122.15   37.75    40                 1445         256          \n",
              "22   -121.37   38.68    36                 1775         296          \n",
              "23   -118.16   34.07    47                 2994         543          \n",
              "24   -122.20   37.79    45                 2021         528          \n",
              "25   -117.28   33.28    13                 6131        1040          \n",
              "26   -118.03   34.16    36                 1401         218          \n",
              "27   -122.42   37.76    52                 3587        1030          \n",
              "28   -118.39   33.99    32                 2612         418          \n",
              "29   -118.45   34.07    19                 4845        1609          \n",
              "30   -118.48   34.01    30                 3078         954          \n",
              "⋮    ⋮         ⋮        ⋮                  ⋮           ⋮             \n",
              "2971 -122.47   37.77    52                 2241         443          \n",
              "2972 -120.93   35.76    11                 8997        1698          \n",
              "2973 -118.14   34.17    52                 2667         486          \n",
              "2974 -122.73   38.46    14                 4042        1298          \n",
              "2975 -117.06   32.76    37                 2356         476          \n",
              "2976 -120.71   35.50    12                 3098         453          \n",
              "2977 -118.31   34.05    35                 1692         423          \n",
              "2978 -119.70   36.75    11                 3626         779          \n",
              "2979 -121.34   38.64    17                 2761         501          \n",
              "2980 -117.91   34.09    20                 4327        1037          \n",
              "2981 -119.76   36.79    32                 2463         468          \n",
              "2982 -120.66   35.49    17                 4422         945          \n",
              "2983 -118.28   34.08    42                 1618         522          \n",
              "2984 -122.54   37.90    48                 2491         460          \n",
              "2985 -117.59   33.88    13                 3239         849          \n",
              "2986 -120.47   34.94    17                 1368         308          \n",
              "2987 -118.25   33.93    42                  819         233          \n",
              "2988 -121.97   37.29    25                 4096         743          \n",
              "2989 -122.01   36.97    43                 2162         509          \n",
              "2990 -122.02   37.60    32                 1295         295          \n",
              "2991 -118.23   34.09    49                 1638         456          \n",
              "2992 -117.17   34.28    13                 4867         718          \n",
              "2993 -122.33   37.39    52                  573         102          \n",
              "2994 -117.91   33.60    37                 2088         510          \n",
              "2995 -117.93   33.86    35                  931         181          \n",
              "2996 -119.86   34.42    23                 1450         642          \n",
              "2997 -118.14   34.06    27                 5257        1082          \n",
              "2998 -119.70   36.30    10                  956         201          \n",
              "2999 -117.12   34.10    40                   96          14          \n",
              "3000 -119.63   34.42    42                 1765         263          \n",
              "     population households median_income median_house_value\n",
              "1    1537        606       6.6085        344700            \n",
              "2     809        277       3.5990        176500            \n",
              "3    1484        495       5.7934        270500            \n",
              "4      49         11       6.1359        330000            \n",
              "5     850        237       2.9375         81700            \n",
              "6     663        204       1.6635         67000            \n",
              "7     604        218       1.6641         67000            \n",
              "8    1341        441       3.2250        166900            \n",
              "9    1446        599       3.6696        194400            \n",
              "10   2830        603       2.3333        164200            \n",
              "11   1288        261       2.2054        125000            \n",
              "12    564        138       2.4167         58300            \n",
              "13    535        170       4.6900        252600            \n",
              "14   1935        659       4.5625        231200            \n",
              "15   1217        331       5.7121        222500            \n",
              "16    157         50       2.2000        153100            \n",
              "17    189        107       1.8750        181300            \n",
              "18   1603        595       2.7174        137500            \n",
              "19    654        199       6.5851        300000            \n",
              "20   3450       1258       6.1724        414300            \n",
              "21    849        255       3.8913        126300            \n",
              "22    937        305       3.1786         83400            \n",
              "23   1651        561       3.8644        241500            \n",
              "24   1410        480       2.7788        115400            \n",
              "25   4049        940       3.8156        150700            \n",
              "26    667        225       7.1615        484700            \n",
              "27   2259        979       2.5403        250000            \n",
              "28   1030        402       6.6030        369200            \n",
              "29   3751       1539       1.5830        350000            \n",
              "30   1561        901       3.4852        425000            \n",
              "⋮    ⋮          ⋮          ⋮             ⋮                 \n",
              "2971 1042        377       4.1635        398400            \n",
              "2972 1825        756       3.2300        154300            \n",
              "2973 1681        504       4.0524        173100            \n",
              "2974 2323       1158       2.0651        135400            \n",
              "2975 1231        499       2.9650        155700            \n",
              "2976 1433        434       5.2508        292900            \n",
              "2977 1578        406       2.5313        305800            \n",
              "2978 1819        731       2.4956         87500            \n",
              "2979 1128        482       3.7562        139700            \n",
              "2980 2296        963       3.0441        185400            \n",
              "2981 1261        486       3.3281         75100            \n",
              "2982 2307        885       2.8285        171300            \n",
              "2983 1454        440       3.1607        182000            \n",
              "2984  937        455       4.4375        370000            \n",
              "2985 2751        813       2.6111        107000            \n",
              "2986  642        303       1.8633        109400            \n",
              "2987  899        228       1.1346         85400            \n",
              "2988 2027        741       5.3294        300300            \n",
              "2989 1208        464       2.5417        260900            \n",
              "2990 1097        328       3.2386        149600            \n",
              "2991 1500        430       2.6923        150000            \n",
              "2992  780        250       7.1997        253800            \n",
              "2993  232         92       6.2263        500001            \n",
              "2994  673        390       5.1048        500001            \n",
              "2995  516        174       5.5867        182500            \n",
              "2996 1258        607       1.1790        225000            \n",
              "2997 3496       1036       3.3906        237200            \n",
              "2998  693        220       2.2895         62000            \n",
              "2999   46         14       3.2708        162500            \n",
              "3000  753        260       8.5608        500001            "
            ]
          },
          "metadata": {}
        }
      ]
    },
    {
      "cell_type": "markdown",
      "source": [
        "### Google Colaboratoryで使用できるファイルについて\n",
        "\n",
        "Google Colaboratoryで自分のデータを扱いたい場合、Google Colaboratoryにファイルをアップロードする必要があります。\n",
        "\n",
        "左端のメニューからフォルダマークを選び、アップロードボタンからファイルをアップロードします。\n",
        "\n",
        "ドラッグ&ドロップでもアップロード可能です。\n",
        "\n",
        "<img src=\"https://github.com/slt666666/biostatistics_text_wed/blob/main/source/_static/images/chapter2/file_upload.png?raw=true\" alt=\"title\" height=\"300px\">\n",
        "\n",
        "ここから使用したいファイルをアップロードすることで、Google Colaboratory上で扱うことが出来る様になります。\n",
        "\n",
        "下記リンク先を右クリックから名前を付けて保存し、左端のメニューからアップロードしてください。\n",
        "\n",
        "(※右クリックで名前を付けてリンク先を保存しようとすると、\n",
        "\n",
        "ファイル名がengland-premier-league-players-2018-to-2019-stats.**txt**になる場合があります)\n",
        "\n",
        "[england-premier-league-players-2018-to-2019-stats.csv](https://raw.githubusercontent.com/slt666666/basic_fri_2024/refs/heads/master/source/_static/data/england-premier-league-players-2018-to-2019-stats.csv)\n",
        "\n",
        "アップロードした後、`read.csv`関数で読み込んでみてください。"
      ],
      "metadata": {
        "id": "mAwaZZPo2cqr"
      }
    },
    {
      "cell_type": "code",
      "source": [
        "read.csv(\"england-premier-league-players-2018-to-2019-stats.csv\")"
      ],
      "metadata": {
        "id": "nJJ3s6-f5lQZ",
        "colab": {
          "base_uri": "https://localhost:8080/",
          "height": 1000
        },
        "outputId": "a7873ee5-2f0f-42dd-9d07-c6fe60e9e062"
      },
      "execution_count": 21,
      "outputs": [
        {
          "output_type": "display_data",
          "data": {
            "text/html": [
              "<table class=\"dataframe\">\n",
              "<caption>A data.frame: 572 × 47</caption>\n",
              "<thead>\n",
              "\t<tr><th scope=col>full_name</th><th scope=col>age</th><th scope=col>birthday</th><th scope=col>birthday_GMT</th><th scope=col>league</th><th scope=col>season</th><th scope=col>position</th><th scope=col>Current.Club</th><th scope=col>minutes_played_overall</th><th scope=col>minutes_played_home</th><th scope=col>⋯</th><th scope=col>conceded_per_90_overall</th><th scope=col>min_per_conceded_overall</th><th scope=col>min_per_match</th><th scope=col>min_per_card_overall</th><th scope=col>min_per_assist_overall</th><th scope=col>cards_per_90_overall</th><th scope=col>rank_in_league_top_attackers</th><th scope=col>rank_in_league_top_midfielders</th><th scope=col>rank_in_league_top_defenders</th><th scope=col>rank_in_club_top_scorer</th></tr>\n",
              "\t<tr><th scope=col>&lt;chr&gt;</th><th scope=col>&lt;int&gt;</th><th scope=col>&lt;int&gt;</th><th scope=col>&lt;chr&gt;</th><th scope=col>&lt;chr&gt;</th><th scope=col>&lt;chr&gt;</th><th scope=col>&lt;chr&gt;</th><th scope=col>&lt;chr&gt;</th><th scope=col>&lt;int&gt;</th><th scope=col>&lt;int&gt;</th><th scope=col>⋯</th><th scope=col>&lt;dbl&gt;</th><th scope=col>&lt;int&gt;</th><th scope=col>&lt;int&gt;</th><th scope=col>&lt;int&gt;</th><th scope=col>&lt;int&gt;</th><th scope=col>&lt;dbl&gt;</th><th scope=col>&lt;int&gt;</th><th scope=col>&lt;int&gt;</th><th scope=col>&lt;int&gt;</th><th scope=col>&lt;int&gt;</th></tr>\n",
              "</thead>\n",
              "<tbody>\n",
              "\t<tr><td>Aaron Cresswell                 </td><td>31</td><td>629683200</td><td>1989/12/15</td><td>Premier League</td><td>2018/2019</td><td>Defender  </td><td>West Ham United        </td><td>1589</td><td> 888</td><td>⋯</td><td>1.25</td><td> 72</td><td>79</td><td>1589</td><td>1589</td><td>0.06</td><td>290</td><td>191</td><td> 80</td><td>20</td></tr>\n",
              "\t<tr><td>Aaron Lennon                    </td><td>33</td><td>545529600</td><td>1987/04/16</td><td>Premier League</td><td>2018/2019</td><td>Midfielder</td><td>Burnley                </td><td>1217</td><td> 487</td><td>⋯</td><td>1.48</td><td> 61</td><td>76</td><td>1217</td><td>1217</td><td>0.07</td><td>196</td><td>187</td><td> -1</td><td>10</td></tr>\n",
              "\t<tr><td>Aaron Mooy                      </td><td>30</td><td>653356800</td><td>1990/09/15</td><td>Premier League</td><td>2018/2019</td><td>Midfielder</td><td>Huddersfield Town      </td><td>2327</td><td>1190</td><td>⋯</td><td>1.78</td><td> 51</td><td>80</td><td> 582</td><td>2327</td><td>0.15</td><td>144</td><td>233</td><td> -1</td><td> 3</td></tr>\n",
              "\t<tr><td>Aaron Ramsey                    </td><td>30</td><td>662169600</td><td>1990/12/26</td><td>Premier League</td><td>2018/2019</td><td>Midfielder</td><td>Arsenal                </td><td>1327</td><td> 689</td><td>⋯</td><td>0.81</td><td>111</td><td>47</td><td>   0</td><td> 221</td><td>0.00</td><td> 69</td><td>  8</td><td> -1</td><td> 5</td></tr>\n",
              "\t<tr><td>Aaron Rowe                      </td><td>20</td><td>968284800</td><td>2000/09/07</td><td>Premier League</td><td>2018/2019</td><td>Forward   </td><td>Huddersfield Town      </td><td>  69</td><td>  14</td><td>⋯</td><td>1.30</td><td> 69</td><td>35</td><td>   0</td><td>   0</td><td>0.00</td><td> -1</td><td> -1</td><td> -1</td><td>31</td></tr>\n",
              "\t<tr><td>Aaron Wan-Bissaka               </td><td>23</td><td>880502400</td><td>1997/11/26</td><td>Premier League</td><td>2018/2019</td><td>Midfielder</td><td>Crystal Palace         </td><td>3135</td><td>1605</td><td>⋯</td><td>1.18</td><td> 76</td><td>90</td><td> 523</td><td>1045</td><td>0.17</td><td>312</td><td>160</td><td> -1</td><td>22</td></tr>\n",
              "\t<tr><td>Abdelhamid Sabiri               </td><td>24</td><td>849139200</td><td>1996/11/28</td><td>Premier League</td><td>2018/2019</td><td>Midfielder</td><td>Huddersfield Town      </td><td>  49</td><td>   0</td><td>⋯</td><td>5.51</td><td> 16</td><td>25</td><td>   0</td><td>   0</td><td>0.00</td><td> -1</td><td> -1</td><td> -1</td><td>22</td></tr>\n",
              "\t<tr><td>Abdoulaye Doucouré              </td><td>28</td><td>725846400</td><td>1993/01/01</td><td>Premier League</td><td>2018/2019</td><td>Midfielder</td><td>Watford                </td><td>3062</td><td>1566</td><td>⋯</td><td>1.59</td><td> 57</td><td>87</td><td> 437</td><td> 510</td><td>0.21</td><td>124</td><td> 80</td><td> -1</td><td> 5</td></tr>\n",
              "\t<tr><td>Aboubakar Kamara                </td><td>26</td><td>794534400</td><td>1995/03/07</td><td>Premier League</td><td>2018/2019</td><td>Forward   </td><td>Fulham                 </td><td> 687</td><td> 468</td><td>⋯</td><td>2.10</td><td> 43</td><td>53</td><td> 344</td><td>   0</td><td>0.26</td><td> 38</td><td>412</td><td> -1</td><td> 4</td></tr>\n",
              "\t<tr><td>Adalberto Peñaranda Maestre     </td><td>23</td><td>865036800</td><td>1997/05/31</td><td>Premier League</td><td>2018/2019</td><td>Forward   </td><td>Watford                </td><td>   0</td><td>   0</td><td>⋯</td><td>0.00</td><td>  0</td><td> 0</td><td>   0</td><td>   0</td><td>0.00</td><td> -1</td><td> -1</td><td> -1</td><td>-1</td></tr>\n",
              "\t<tr><td>Adam David Lallana              </td><td>32</td><td>579225600</td><td>1988/05/10</td><td>Premier League</td><td>2018/2019</td><td>Midfielder</td><td>Liverpool              </td><td> 465</td><td> 189</td><td>⋯</td><td>0.39</td><td>233</td><td>36</td><td> 465</td><td>   0</td><td>0.19</td><td>379</td><td>344</td><td> -1</td><td>18</td></tr>\n",
              "\t<tr><td>Adam Masina                     </td><td>27</td><td>757468800</td><td>1994/01/02</td><td>Premier League</td><td>2018/2019</td><td>Defender  </td><td>Watford                </td><td>1003</td><td> 463</td><td>⋯</td><td>1.70</td><td> 53</td><td>72</td><td> 201</td><td>1003</td><td>0.45</td><td>397</td><td>155</td><td>144</td><td>20</td></tr>\n",
              "\t<tr><td>Adam Smith                      </td><td>29</td><td>672883200</td><td>1991/04/29</td><td>Premier League</td><td>2018/2019</td><td>Defender  </td><td>AFC Bournemouth        </td><td>2073</td><td>1051</td><td>⋯</td><td>1.30</td><td> 69</td><td>83</td><td> 296</td><td>2073</td><td>0.30</td><td>227</td><td>228</td><td> 85</td><td>10</td></tr>\n",
              "\t<tr><td>Adama Diakhaby                  </td><td>24</td><td>836524800</td><td>1996/07/05</td><td>Premier League</td><td>2018/2019</td><td>Forward   </td><td>Huddersfield Town      </td><td> 551</td><td> 345</td><td>⋯</td><td>2.61</td><td> 34</td><td>46</td><td> 551</td><td>   0</td><td>0.16</td><td>332</td><td>359</td><td> -1</td><td>26</td></tr>\n",
              "\t<tr><td>Adama Traoré Diarra             </td><td>25</td><td>822528000</td><td>1996/01/25</td><td>Premier League</td><td>2018/2019</td><td>Midfielder</td><td>Wolverhampton Wanderers</td><td> 890</td><td> 315</td><td>⋯</td><td>1.11</td><td> 81</td><td>31</td><td> 890</td><td> 890</td><td>0.10</td><td>160</td><td>152</td><td> -1</td><td>13</td></tr>\n",
              "\t<tr><td>Ademola Lookman                 </td><td>23</td><td>877305600</td><td>1997/10/20</td><td>Premier League</td><td>2018/2019</td><td>Forward   </td><td>Everton                </td><td> 601</td><td> 334</td><td>⋯</td><td>1.05</td><td> 86</td><td>29</td><td>   0</td><td> 301</td><td>0.00</td><td>292</td><td> 20</td><td> -1</td><td>17</td></tr>\n",
              "\t<tr><td>Adrian Mariappa                 </td><td>34</td><td>528681600</td><td>1986/10/03</td><td>Premier League</td><td>2018/2019</td><td>Defender  </td><td>Watford                </td><td>1921</td><td> 841</td><td>⋯</td><td>1.36</td><td> 66</td><td>74</td><td> 640</td><td>   0</td><td>0.14</td><td>396</td><td>414</td><td> 94</td><td>21</td></tr>\n",
              "\t<tr><td>Adrián San Miguel del Castillo  </td><td>34</td><td>536630400</td><td>1987/01/03</td><td>Premier League</td><td>2018/2019</td><td>Goalkeeper</td><td>West Ham United        </td><td>   0</td><td>   0</td><td>⋯</td><td>0.00</td><td>  0</td><td> 0</td><td>   0</td><td>   0</td><td>0.00</td><td> -1</td><td> -1</td><td> -1</td><td>-1</td></tr>\n",
              "\t<tr><td>Adrien Sebastian Perruchet Silva</td><td>32</td><td>605923200</td><td>1989/03/15</td><td>Premier League</td><td>2018/2019</td><td>Midfielder</td><td>Leicester City         </td><td>  88</td><td>   8</td><td>⋯</td><td>1.02</td><td> 88</td><td>44</td><td>   0</td><td>   0</td><td>0.00</td><td> -1</td><td> -1</td><td> -1</td><td>15</td></tr>\n",
              "\t<tr><td>Ainsley Maitland-Niles          </td><td>23</td><td>872812800</td><td>1997/08/29</td><td>Premier League</td><td>2018/2019</td><td>Midfielder</td><td>Arsenal                </td><td> 985</td><td> 462</td><td>⋯</td><td>1.46</td><td> 62</td><td>62</td><td> 328</td><td> 985</td><td>0.27</td><td>174</td><td>167</td><td> -1</td><td>15</td></tr>\n",
              "\t<tr><td>Alberto Moreno                  </td><td>28</td><td>710294400</td><td>1992/07/05</td><td>Premier League</td><td>2018/2019</td><td>Defender  </td><td>Liverpool              </td><td> 155</td><td>  90</td><td>⋯</td><td>1.16</td><td> 78</td><td>78</td><td>   0</td><td>   0</td><td>0.00</td><td> -1</td><td> -1</td><td> -1</td><td>17</td></tr>\n",
              "\t<tr><td>Aleksandar Mitrović             </td><td>26</td><td>779673600</td><td>1994/09/16</td><td>Premier League</td><td>2018/2019</td><td>Forward   </td><td>Fulham                 </td><td>3282</td><td>1616</td><td>⋯</td><td>2.03</td><td> 44</td><td>89</td><td> 469</td><td>1094</td><td>0.19</td><td> 62</td><td>176</td><td> -1</td><td> 1</td></tr>\n",
              "\t<tr><td>Alex Iwobi                      </td><td>24</td><td>831081600</td><td>1996/05/03</td><td>Premier League</td><td>2018/2019</td><td>Forward   </td><td>Arsenal                </td><td>1972</td><td> 742</td><td>⋯</td><td>1.41</td><td> 64</td><td>56</td><td>   0</td><td> 329</td><td>0.00</td><td>128</td><td> 31</td><td> -1</td><td> 8</td></tr>\n",
              "\t<tr><td>Alex McCarthy                   </td><td>31</td><td>628646400</td><td>1989/12/03</td><td>Premier League</td><td>2018/2019</td><td>Goalkeeper</td><td>Southampton            </td><td>2250</td><td>1170</td><td>⋯</td><td>1.48</td><td> 61</td><td>90</td><td>2250</td><td>   0</td><td>0.04</td><td>372</td><td>365</td><td>114</td><td>21</td></tr>\n",
              "\t<tr><td>Alex Oxlade-Chamberlain         </td><td>27</td><td>745372800</td><td>1993/08/15</td><td>Premier League</td><td>2018/2019</td><td>Midfielder</td><td>Liverpool              </td><td>  19</td><td>  19</td><td>⋯</td><td>0.00</td><td>  0</td><td>10</td><td>   0</td><td>   0</td><td>0.00</td><td> -1</td><td> -1</td><td> -1</td><td>21</td></tr>\n",
              "\t<tr><td>Alex Pritchard                  </td><td>27</td><td>736387200</td><td>1993/05/03</td><td>Premier League</td><td>2018/2019</td><td>Midfielder</td><td>Huddersfield Town      </td><td>2092</td><td> 992</td><td>⋯</td><td>1.68</td><td> 54</td><td>70</td><td>1046</td><td>   0</td><td>0.09</td><td>171</td><td>373</td><td> -1</td><td> 5</td></tr>\n",
              "\t<tr><td>Alex Smithies                   </td><td>31</td><td>636595200</td><td>1990/03/05</td><td>Premier League</td><td>2018/2019</td><td>Goalkeeper</td><td>Cardiff City           </td><td>   0</td><td>   0</td><td>⋯</td><td>0.00</td><td>  0</td><td> 0</td><td>   0</td><td>   0</td><td>0.00</td><td> -1</td><td> -1</td><td> -1</td><td>-1</td></tr>\n",
              "\t<tr><td>Alexander Sørloth               </td><td>25</td><td>818121600</td><td>1995/12/05</td><td>Premier League</td><td>2018/2019</td><td>Forward   </td><td>Crystal Palace         </td><td> 173</td><td> 121</td><td>⋯</td><td>0.52</td><td>173</td><td>14</td><td>   0</td><td>   0</td><td>0.00</td><td> -1</td><td> -1</td><td> -1</td><td>17</td></tr>\n",
              "\t<tr><td>Alexandre Lacazette             </td><td>29</td><td>675388800</td><td>1991/05/28</td><td>Premier League</td><td>2018/2019</td><td>Forward   </td><td>Arsenal                </td><td>2503</td><td>1403</td><td>⋯</td><td>1.01</td><td> 89</td><td>72</td><td>1252</td><td> 313</td><td>0.07</td><td> 21</td><td> 25</td><td> -1</td><td> 2</td></tr>\n",
              "\t<tr><td>Alexandre Nascimento Costa Silva</td><td>24</td><td>858470400</td><td>1997/03/16</td><td>Premier League</td><td>2018/2019</td><td>Forward   </td><td>West Ham United        </td><td>  17</td><td>   0</td><td>⋯</td><td>0.00</td><td>  0</td><td>17</td><td>   0</td><td>   0</td><td>0.00</td><td> -1</td><td> -1</td><td> -1</td><td>16</td></tr>\n",
              "\t<tr><td>⋮</td><td>⋮</td><td>⋮</td><td>⋮</td><td>⋮</td><td>⋮</td><td>⋮</td><td>⋮</td><td>⋮</td><td>⋮</td><td>⋱</td><td>⋮</td><td>⋮</td><td>⋮</td><td>⋮</td><td>⋮</td><td>⋮</td><td>⋮</td><td>⋮</td><td>⋮</td><td>⋮</td></tr>\n",
              "\t<tr><td>Tyreke Johnson              </td><td>22</td><td>910051200</td><td>1998/11/03</td><td>Premier League</td><td>2018/2019</td><td>Defender  </td><td>Southampton            </td><td>   0</td><td>   0</td><td>⋯</td><td>0.00</td><td>  0</td><td> 0</td><td>   0</td><td>   0</td><td>0.00</td><td> -1</td><td> -1</td><td> -1</td><td>-1</td></tr>\n",
              "\t<tr><td>Tyrone Mings                </td><td>28</td><td>731980800</td><td>1993/03/13</td><td>Premier League</td><td>2018/2019</td><td>Defender  </td><td>AFC Bournemouth        </td><td> 141</td><td>   7</td><td>⋯</td><td>2.55</td><td> 35</td><td>28</td><td>   0</td><td>   0</td><td>0.00</td><td> -1</td><td> -1</td><td> -1</td><td>23</td></tr>\n",
              "\t<tr><td>Vicente Guaita              </td><td>34</td><td>537235200</td><td>1987/01/10</td><td>Premier League</td><td>2018/2019</td><td>Goalkeeper</td><td>Crystal Palace         </td><td>1755</td><td>1035</td><td>⋯</td><td>1.08</td><td> 84</td><td>88</td><td> 878</td><td>   0</td><td>0.10</td><td>325</td><td>352</td><td> 45</td><td>19</td></tr>\n",
              "\t<tr><td>Vicente Iborra De La Fuente </td><td>33</td><td>569289600</td><td>1988/01/16</td><td>Premier League</td><td>2018/2019</td><td>Midfielder</td><td>Leicester City         </td><td> 226</td><td> 152</td><td>⋯</td><td>1.59</td><td> 57</td><td>28</td><td>   0</td><td>   0</td><td>0.00</td><td> -1</td><td> -1</td><td> -1</td><td>14</td></tr>\n",
              "\t<tr><td>Víctor Camarasa             </td><td>26</td><td>770083200</td><td>1994/05/28</td><td>Premier League</td><td>2018/2019</td><td>Midfielder</td><td>Cardiff City           </td><td>2579</td><td>1267</td><td>⋯</td><td>1.68</td><td> 54</td><td>81</td><td> 430</td><td> 645</td><td>0.21</td><td>111</td><td>106</td><td> -1</td><td> 1</td></tr>\n",
              "\t<tr><td>Victor Moses                </td><td>30</td><td>660960000</td><td>1990/12/12</td><td>Premier League</td><td>2018/2019</td><td>Midfielder</td><td>Chelsea                </td><td>  26</td><td>  17</td><td>⋯</td><td>3.46</td><td> 26</td><td>13</td><td>   0</td><td>   0</td><td>0.00</td><td> -1</td><td> -1</td><td> -1</td><td>23</td></tr>\n",
              "\t<tr><td>Victor Nilsson Lindelöf     </td><td>26</td><td>774403200</td><td>1994/07/17</td><td>Premier League</td><td>2018/2019</td><td>Defender  </td><td>Manchester United      </td><td>2602</td><td>1112</td><td>⋯</td><td>1.31</td><td> 68</td><td>87</td><td>2602</td><td>2602</td><td>0.03</td><td>263</td><td>246</td><td> 88</td><td>14</td></tr>\n",
              "\t<tr><td>Victor Wanyama              </td><td>29</td><td>677808000</td><td>1991/06/25</td><td>Premier League</td><td>2018/2019</td><td>Midfielder</td><td>Tottenham Hotspur      </td><td> 509</td><td> 302</td><td>⋯</td><td>0.53</td><td>170</td><td>39</td><td> 255</td><td>   0</td><td>0.35</td><td>106</td><td>266</td><td> -1</td><td>11</td></tr>\n",
              "\t<tr><td><span style=white-space:pre-wrap>Viktor Gyökeres             </span></td><td>22</td><td>896918400</td><td>1998/06/04</td><td>Premier League</td><td>2018/2019</td><td><span style=white-space:pre-wrap>Forward   </span></td><td>Brighton &amp; Hove Albion </td><td><span style=white-space:pre-wrap>   0</span></td><td><span style=white-space:pre-wrap>   0</span></td><td>⋯</td><td>0.00</td><td><span style=white-space:pre-wrap>  0</span></td><td> 0</td><td><span style=white-space:pre-wrap>   0</span></td><td><span style=white-space:pre-wrap>   0</span></td><td>0.00</td><td> -1</td><td> -1</td><td> -1</td><td>-1</td></tr>\n",
              "\t<tr><td>Vincent Janssen             </td><td>26</td><td>771638400</td><td>1994/06/15</td><td>Premier League</td><td>2018/2019</td><td>Forward   </td><td>Tottenham Hotspur      </td><td>  36</td><td>  36</td><td>⋯</td><td>0.00</td><td>  0</td><td>12</td><td>   0</td><td>   0</td><td>0.00</td><td> -1</td><td> -1</td><td> -1</td><td>28</td></tr>\n",
              "\t<tr><td>Vincent Kompany             </td><td>34</td><td>513475200</td><td>1986/04/10</td><td>Premier League</td><td>2018/2019</td><td>Defender  </td><td>Manchester City        </td><td>1223</td><td> 561</td><td>⋯</td><td>0.52</td><td>175</td><td>72</td><td> 204</td><td>   0</td><td>0.44</td><td>194</td><td>384</td><td>  7</td><td>12</td></tr>\n",
              "\t<tr><td>Virgil van Dijk             </td><td>29</td><td>678931200</td><td>1991/07/08</td><td>Premier League</td><td>2018/2019</td><td>Defender  </td><td>Liverpool              </td><td>3385</td><td>1675</td><td>⋯</td><td>0.51</td><td>178</td><td>89</td><td>3385</td><td>1693</td><td>0.03</td><td>152</td><td>201</td><td>  5</td><td> 6</td></tr>\n",
              "\t<tr><td>Wayne Hennessey             </td><td>34</td><td>538444800</td><td>1987/01/24</td><td>Premier League</td><td>2018/2019</td><td>Goalkeeper</td><td>Crystal Palace         </td><td>1575</td><td> 675</td><td>⋯</td><td>1.31</td><td> 68</td><td>88</td><td>   0</td><td>   0</td><td>0.00</td><td>321</td><td>404</td><td> 87</td><td>13</td></tr>\n",
              "\t<tr><td>Wes Morgan                  </td><td>37</td><td>443491200</td><td>1984/01/21</td><td>Premier League</td><td>2018/2019</td><td>Defender  </td><td>Leicester City         </td><td>1926</td><td> 783</td><td>⋯</td><td>1.12</td><td> 80</td><td>88</td><td> 385</td><td>   0</td><td>0.23</td><td>125</td><td>300</td><td> 48</td><td> 6</td></tr>\n",
              "\t<tr><td>Wesley Hoedt                </td><td>27</td><td>762912000</td><td>1994/03/06</td><td>Premier League</td><td>2018/2019</td><td>Defender  </td><td>Southampton            </td><td>1170</td><td> 540</td><td>⋯</td><td>1.54</td><td> 59</td><td>90</td><td> 585</td><td>   0</td><td>0.15</td><td>374</td><td>370</td><td>123</td><td>27</td></tr>\n",
              "\t<tr><td>Wilfredo Daniel Caballero   </td><td>39</td><td>370483200</td><td>1981/09/28</td><td>Premier League</td><td>2018/2019</td><td>Goalkeeper</td><td>Chelsea                </td><td> 180</td><td>  90</td><td>⋯</td><td>0.00</td><td>  0</td><td>90</td><td>   0</td><td>   0</td><td>0.00</td><td> -1</td><td> -1</td><td> -1</td><td>19</td></tr>\n",
              "\t<tr><td>Wilfried Zaha               </td><td>28</td><td>721353600</td><td>1992/11/10</td><td>Premier League</td><td>2018/2019</td><td>Midfielder</td><td>Crystal Palace         </td><td>3041</td><td>1347</td><td>⋯</td><td>1.33</td><td> 68</td><td>89</td><td> 304</td><td> 608</td><td>0.30</td><td> 63</td><td> 92</td><td> -1</td><td> 2</td></tr>\n",
              "\t<tr><td>Will Hughes                 </td><td>25</td><td>798076800</td><td>1995/04/17</td><td>Premier League</td><td>2018/2019</td><td>Midfielder</td><td>Watford                </td><td>2436</td><td>1251</td><td>⋯</td><td>1.44</td><td> 62</td><td>76</td><td> 487</td><td> 609</td><td>0.18</td><td>199</td><td> 91</td><td> -1</td><td> 8</td></tr>\n",
              "\t<tr><td>Will Norris                 </td><td>27</td><td>745113600</td><td>1993/08/12</td><td>Premier League</td><td>2018/2019</td><td>Goalkeeper</td><td>Wolverhampton Wanderers</td><td>   0</td><td>   0</td><td>⋯</td><td>0.00</td><td>  0</td><td> 0</td><td>   0</td><td>   0</td><td>0.00</td><td> -1</td><td> -1</td><td> -1</td><td>-1</td></tr>\n",
              "\t<tr><td>Willian                     </td><td>32</td><td>587088000</td><td>1988/08/09</td><td>Premier League</td><td>2018/2019</td><td>Forward   </td><td>Chelsea                </td><td>2108</td><td> 833</td><td>⋯</td><td>0.98</td><td> 92</td><td>66</td><td>1054</td><td> 351</td><td>0.09</td><td>132</td><td> 36</td><td> -1</td><td> 8</td></tr>\n",
              "\t<tr><td>Willy Boly                  </td><td>30</td><td>665539200</td><td>1991/02/03</td><td>Premier League</td><td>2018/2019</td><td>Defender  </td><td>Wolverhampton Wanderers</td><td>3169</td><td>1530</td><td>⋯</td><td>1.08</td><td> 83</td><td>88</td><td> 792</td><td>   0</td><td>0.11</td><td>148</td><td>312</td><td> 43</td><td> 4</td></tr>\n",
              "\t<tr><td>Xherdan Shaqiri             </td><td>29</td><td>687052800</td><td>1991/10/10</td><td>Premier League</td><td>2018/2019</td><td>Midfielder</td><td>Liverpool              </td><td>1058</td><td> 538</td><td>⋯</td><td>0.43</td><td>212</td><td>44</td><td> 529</td><td> 353</td><td>0.17</td><td> 15</td><td> 39</td><td> -1</td><td> 4</td></tr>\n",
              "\t<tr><td>Yann Valery                 </td><td>22</td><td>919641600</td><td>1999/02/22</td><td>Premier League</td><td>2018/2019</td><td>Defender  </td><td>Southampton            </td><td>1715</td><td>1070</td><td>⋯</td><td>1.36</td><td> 66</td><td>75</td><td> 343</td><td>1715</td><td>0.26</td><td>162</td><td>214</td><td> 95</td><td> 7</td></tr>\n",
              "\t<tr><td>Yerry Fernando Mina González</td><td>26</td><td>780278400</td><td>1994/09/23</td><td>Premier League</td><td>2018/2019</td><td>Defender  </td><td>Everton                </td><td> 890</td><td> 360</td><td>⋯</td><td>1.21</td><td> 74</td><td>68</td><td> 297</td><td>   0</td><td>0.30</td><td>161</td><td>329</td><td> 67</td><td> 9</td></tr>\n",
              "\t<tr><td>Yoshinori Muto              </td><td>28</td><td>711158400</td><td>1992/07/15</td><td>Premier League</td><td>2018/2019</td><td>Forward   </td><td>Newcastle United       </td><td> 516</td><td> 180</td><td>⋯</td><td>1.74</td><td> 52</td><td>30</td><td> 516</td><td>   0</td><td>0.17</td><td>113</td><td>290</td><td> -1</td><td> 8</td></tr>\n",
              "\t<tr><td>Youri Tielemans             </td><td>23</td><td>862963200</td><td>1997/05/07</td><td>Premier League</td><td>2018/2019</td><td>Midfielder</td><td>Leicester City         </td><td>1092</td><td> 575</td><td>⋯</td><td>1.07</td><td> 84</td><td>84</td><td> 546</td><td> 273</td><td>0.16</td><td> 80</td><td> 13</td><td> -1</td><td> 4</td></tr>\n",
              "\t<tr><td><span style=white-space:pre-wrap>Yves Bissouma               </span></td><td>24</td><td>841363200</td><td>1996/08/30</td><td>Premier League</td><td>2018/2019</td><td>Midfielder</td><td>Brighton &amp; Hove Albion </td><td>1769</td><td> 747</td><td>⋯</td><td>1.53</td><td> 59</td><td>63</td><td> 354</td><td><span style=white-space:pre-wrap>   0</span></td><td>0.25</td><td>402</td><td>293</td><td> -1</td><td>17</td></tr>\n",
              "\t<tr><td>Zechariah Medley            </td><td>20</td><td>962928000</td><td>2000/07/07</td><td>Premier League</td><td>2018/2019</td><td>Defender  </td><td>Arsenal                </td><td>   0</td><td>   0</td><td>⋯</td><td>0.00</td><td>  0</td><td> 0</td><td>   0</td><td>   0</td><td>0.00</td><td> -1</td><td> -1</td><td> -1</td><td>-1</td></tr>\n",
              "\t<tr><td>Zeze Steven Sessegnon       </td><td>20</td><td>958608000</td><td>2000/05/18</td><td>Premier League</td><td>2018/2019</td><td>Defender  </td><td>Fulham                 </td><td>   0</td><td>   0</td><td>⋯</td><td>0.00</td><td>  0</td><td> 0</td><td>   0</td><td>   0</td><td>0.00</td><td> -1</td><td> -1</td><td> -1</td><td>-1</td></tr>\n",
              "\t<tr><td>Łukasz Fabiański            </td><td>35</td><td>482630400</td><td>1985/04/18</td><td>Premier League</td><td>2018/2019</td><td>Goalkeeper</td><td>West Ham United        </td><td>3420</td><td>1710</td><td>⋯</td><td>1.26</td><td> 71</td><td>90</td><td>   0</td><td>   0</td><td>0.00</td><td>391</td><td>343</td><td> 81</td><td>19</td></tr>\n",
              "</tbody>\n",
              "</table>\n"
            ],
            "text/markdown": "\nA data.frame: 572 × 47\n\n| full_name &lt;chr&gt; | age &lt;int&gt; | birthday &lt;int&gt; | birthday_GMT &lt;chr&gt; | league &lt;chr&gt; | season &lt;chr&gt; | position &lt;chr&gt; | Current.Club &lt;chr&gt; | minutes_played_overall &lt;int&gt; | minutes_played_home &lt;int&gt; | ⋯ ⋯ | conceded_per_90_overall &lt;dbl&gt; | min_per_conceded_overall &lt;int&gt; | min_per_match &lt;int&gt; | min_per_card_overall &lt;int&gt; | min_per_assist_overall &lt;int&gt; | cards_per_90_overall &lt;dbl&gt; | rank_in_league_top_attackers &lt;int&gt; | rank_in_league_top_midfielders &lt;int&gt; | rank_in_league_top_defenders &lt;int&gt; | rank_in_club_top_scorer &lt;int&gt; |\n|---|---|---|---|---|---|---|---|---|---|---|---|---|---|---|---|---|---|---|---|---|\n| Aaron Cresswell                  | 31 | 629683200 | 1989/12/15 | Premier League | 2018/2019 | Defender   | West Ham United         | 1589 |  888 | ⋯ | 1.25 |  72 | 79 | 1589 | 1589 | 0.06 | 290 | 191 |  80 | 20 |\n| Aaron Lennon                     | 33 | 545529600 | 1987/04/16 | Premier League | 2018/2019 | Midfielder | Burnley                 | 1217 |  487 | ⋯ | 1.48 |  61 | 76 | 1217 | 1217 | 0.07 | 196 | 187 |  -1 | 10 |\n| Aaron Mooy                       | 30 | 653356800 | 1990/09/15 | Premier League | 2018/2019 | Midfielder | Huddersfield Town       | 2327 | 1190 | ⋯ | 1.78 |  51 | 80 |  582 | 2327 | 0.15 | 144 | 233 |  -1 |  3 |\n| Aaron Ramsey                     | 30 | 662169600 | 1990/12/26 | Premier League | 2018/2019 | Midfielder | Arsenal                 | 1327 |  689 | ⋯ | 0.81 | 111 | 47 |    0 |  221 | 0.00 |  69 |   8 |  -1 |  5 |\n| Aaron Rowe                       | 20 | 968284800 | 2000/09/07 | Premier League | 2018/2019 | Forward    | Huddersfield Town       |   69 |   14 | ⋯ | 1.30 |  69 | 35 |    0 |    0 | 0.00 |  -1 |  -1 |  -1 | 31 |\n| Aaron Wan-Bissaka                | 23 | 880502400 | 1997/11/26 | Premier League | 2018/2019 | Midfielder | Crystal Palace          | 3135 | 1605 | ⋯ | 1.18 |  76 | 90 |  523 | 1045 | 0.17 | 312 | 160 |  -1 | 22 |\n| Abdelhamid Sabiri                | 24 | 849139200 | 1996/11/28 | Premier League | 2018/2019 | Midfielder | Huddersfield Town       |   49 |    0 | ⋯ | 5.51 |  16 | 25 |    0 |    0 | 0.00 |  -1 |  -1 |  -1 | 22 |\n| Abdoulaye Doucouré               | 28 | 725846400 | 1993/01/01 | Premier League | 2018/2019 | Midfielder | Watford                 | 3062 | 1566 | ⋯ | 1.59 |  57 | 87 |  437 |  510 | 0.21 | 124 |  80 |  -1 |  5 |\n| Aboubakar Kamara                 | 26 | 794534400 | 1995/03/07 | Premier League | 2018/2019 | Forward    | Fulham                  |  687 |  468 | ⋯ | 2.10 |  43 | 53 |  344 |    0 | 0.26 |  38 | 412 |  -1 |  4 |\n| Adalberto Peñaranda Maestre      | 23 | 865036800 | 1997/05/31 | Premier League | 2018/2019 | Forward    | Watford                 |    0 |    0 | ⋯ | 0.00 |   0 |  0 |    0 |    0 | 0.00 |  -1 |  -1 |  -1 | -1 |\n| Adam David Lallana               | 32 | 579225600 | 1988/05/10 | Premier League | 2018/2019 | Midfielder | Liverpool               |  465 |  189 | ⋯ | 0.39 | 233 | 36 |  465 |    0 | 0.19 | 379 | 344 |  -1 | 18 |\n| Adam Masina                      | 27 | 757468800 | 1994/01/02 | Premier League | 2018/2019 | Defender   | Watford                 | 1003 |  463 | ⋯ | 1.70 |  53 | 72 |  201 | 1003 | 0.45 | 397 | 155 | 144 | 20 |\n| Adam Smith                       | 29 | 672883200 | 1991/04/29 | Premier League | 2018/2019 | Defender   | AFC Bournemouth         | 2073 | 1051 | ⋯ | 1.30 |  69 | 83 |  296 | 2073 | 0.30 | 227 | 228 |  85 | 10 |\n| Adama Diakhaby                   | 24 | 836524800 | 1996/07/05 | Premier League | 2018/2019 | Forward    | Huddersfield Town       |  551 |  345 | ⋯ | 2.61 |  34 | 46 |  551 |    0 | 0.16 | 332 | 359 |  -1 | 26 |\n| Adama Traoré Diarra              | 25 | 822528000 | 1996/01/25 | Premier League | 2018/2019 | Midfielder | Wolverhampton Wanderers |  890 |  315 | ⋯ | 1.11 |  81 | 31 |  890 |  890 | 0.10 | 160 | 152 |  -1 | 13 |\n| Ademola Lookman                  | 23 | 877305600 | 1997/10/20 | Premier League | 2018/2019 | Forward    | Everton                 |  601 |  334 | ⋯ | 1.05 |  86 | 29 |    0 |  301 | 0.00 | 292 |  20 |  -1 | 17 |\n| Adrian Mariappa                  | 34 | 528681600 | 1986/10/03 | Premier League | 2018/2019 | Defender   | Watford                 | 1921 |  841 | ⋯ | 1.36 |  66 | 74 |  640 |    0 | 0.14 | 396 | 414 |  94 | 21 |\n| Adrián San Miguel del Castillo   | 34 | 536630400 | 1987/01/03 | Premier League | 2018/2019 | Goalkeeper | West Ham United         |    0 |    0 | ⋯ | 0.00 |   0 |  0 |    0 |    0 | 0.00 |  -1 |  -1 |  -1 | -1 |\n| Adrien Sebastian Perruchet Silva | 32 | 605923200 | 1989/03/15 | Premier League | 2018/2019 | Midfielder | Leicester City          |   88 |    8 | ⋯ | 1.02 |  88 | 44 |    0 |    0 | 0.00 |  -1 |  -1 |  -1 | 15 |\n| Ainsley Maitland-Niles           | 23 | 872812800 | 1997/08/29 | Premier League | 2018/2019 | Midfielder | Arsenal                 |  985 |  462 | ⋯ | 1.46 |  62 | 62 |  328 |  985 | 0.27 | 174 | 167 |  -1 | 15 |\n| Alberto Moreno                   | 28 | 710294400 | 1992/07/05 | Premier League | 2018/2019 | Defender   | Liverpool               |  155 |   90 | ⋯ | 1.16 |  78 | 78 |    0 |    0 | 0.00 |  -1 |  -1 |  -1 | 17 |\n| Aleksandar Mitrović              | 26 | 779673600 | 1994/09/16 | Premier League | 2018/2019 | Forward    | Fulham                  | 3282 | 1616 | ⋯ | 2.03 |  44 | 89 |  469 | 1094 | 0.19 |  62 | 176 |  -1 |  1 |\n| Alex Iwobi                       | 24 | 831081600 | 1996/05/03 | Premier League | 2018/2019 | Forward    | Arsenal                 | 1972 |  742 | ⋯ | 1.41 |  64 | 56 |    0 |  329 | 0.00 | 128 |  31 |  -1 |  8 |\n| Alex McCarthy                    | 31 | 628646400 | 1989/12/03 | Premier League | 2018/2019 | Goalkeeper | Southampton             | 2250 | 1170 | ⋯ | 1.48 |  61 | 90 | 2250 |    0 | 0.04 | 372 | 365 | 114 | 21 |\n| Alex Oxlade-Chamberlain          | 27 | 745372800 | 1993/08/15 | Premier League | 2018/2019 | Midfielder | Liverpool               |   19 |   19 | ⋯ | 0.00 |   0 | 10 |    0 |    0 | 0.00 |  -1 |  -1 |  -1 | 21 |\n| Alex Pritchard                   | 27 | 736387200 | 1993/05/03 | Premier League | 2018/2019 | Midfielder | Huddersfield Town       | 2092 |  992 | ⋯ | 1.68 |  54 | 70 | 1046 |    0 | 0.09 | 171 | 373 |  -1 |  5 |\n| Alex Smithies                    | 31 | 636595200 | 1990/03/05 | Premier League | 2018/2019 | Goalkeeper | Cardiff City            |    0 |    0 | ⋯ | 0.00 |   0 |  0 |    0 |    0 | 0.00 |  -1 |  -1 |  -1 | -1 |\n| Alexander Sørloth                | 25 | 818121600 | 1995/12/05 | Premier League | 2018/2019 | Forward    | Crystal Palace          |  173 |  121 | ⋯ | 0.52 | 173 | 14 |    0 |    0 | 0.00 |  -1 |  -1 |  -1 | 17 |\n| Alexandre Lacazette              | 29 | 675388800 | 1991/05/28 | Premier League | 2018/2019 | Forward    | Arsenal                 | 2503 | 1403 | ⋯ | 1.01 |  89 | 72 | 1252 |  313 | 0.07 |  21 |  25 |  -1 |  2 |\n| Alexandre Nascimento Costa Silva | 24 | 858470400 | 1997/03/16 | Premier League | 2018/2019 | Forward    | West Ham United         |   17 |    0 | ⋯ | 0.00 |   0 | 17 |    0 |    0 | 0.00 |  -1 |  -1 |  -1 | 16 |\n| ⋮ | ⋮ | ⋮ | ⋮ | ⋮ | ⋮ | ⋮ | ⋮ | ⋮ | ⋮ | ⋱ | ⋮ | ⋮ | ⋮ | ⋮ | ⋮ | ⋮ | ⋮ | ⋮ | ⋮ | ⋮ |\n| Tyreke Johnson               | 22 | 910051200 | 1998/11/03 | Premier League | 2018/2019 | Defender   | Southampton             |    0 |    0 | ⋯ | 0.00 |   0 |  0 |    0 |    0 | 0.00 |  -1 |  -1 |  -1 | -1 |\n| Tyrone Mings                 | 28 | 731980800 | 1993/03/13 | Premier League | 2018/2019 | Defender   | AFC Bournemouth         |  141 |    7 | ⋯ | 2.55 |  35 | 28 |    0 |    0 | 0.00 |  -1 |  -1 |  -1 | 23 |\n| Vicente Guaita               | 34 | 537235200 | 1987/01/10 | Premier League | 2018/2019 | Goalkeeper | Crystal Palace          | 1755 | 1035 | ⋯ | 1.08 |  84 | 88 |  878 |    0 | 0.10 | 325 | 352 |  45 | 19 |\n| Vicente Iborra De La Fuente  | 33 | 569289600 | 1988/01/16 | Premier League | 2018/2019 | Midfielder | Leicester City          |  226 |  152 | ⋯ | 1.59 |  57 | 28 |    0 |    0 | 0.00 |  -1 |  -1 |  -1 | 14 |\n| Víctor Camarasa              | 26 | 770083200 | 1994/05/28 | Premier League | 2018/2019 | Midfielder | Cardiff City            | 2579 | 1267 | ⋯ | 1.68 |  54 | 81 |  430 |  645 | 0.21 | 111 | 106 |  -1 |  1 |\n| Victor Moses                 | 30 | 660960000 | 1990/12/12 | Premier League | 2018/2019 | Midfielder | Chelsea                 |   26 |   17 | ⋯ | 3.46 |  26 | 13 |    0 |    0 | 0.00 |  -1 |  -1 |  -1 | 23 |\n| Victor Nilsson Lindelöf      | 26 | 774403200 | 1994/07/17 | Premier League | 2018/2019 | Defender   | Manchester United       | 2602 | 1112 | ⋯ | 1.31 |  68 | 87 | 2602 | 2602 | 0.03 | 263 | 246 |  88 | 14 |\n| Victor Wanyama               | 29 | 677808000 | 1991/06/25 | Premier League | 2018/2019 | Midfielder | Tottenham Hotspur       |  509 |  302 | ⋯ | 0.53 | 170 | 39 |  255 |    0 | 0.35 | 106 | 266 |  -1 | 11 |\n| Viktor Gyökeres              | 22 | 896918400 | 1998/06/04 | Premier League | 2018/2019 | Forward    | Brighton &amp; Hove Albion  |    0 |    0 | ⋯ | 0.00 |   0 |  0 |    0 |    0 | 0.00 |  -1 |  -1 |  -1 | -1 |\n| Vincent Janssen              | 26 | 771638400 | 1994/06/15 | Premier League | 2018/2019 | Forward    | Tottenham Hotspur       |   36 |   36 | ⋯ | 0.00 |   0 | 12 |    0 |    0 | 0.00 |  -1 |  -1 |  -1 | 28 |\n| Vincent Kompany              | 34 | 513475200 | 1986/04/10 | Premier League | 2018/2019 | Defender   | Manchester City         | 1223 |  561 | ⋯ | 0.52 | 175 | 72 |  204 |    0 | 0.44 | 194 | 384 |   7 | 12 |\n| Virgil van Dijk              | 29 | 678931200 | 1991/07/08 | Premier League | 2018/2019 | Defender   | Liverpool               | 3385 | 1675 | ⋯ | 0.51 | 178 | 89 | 3385 | 1693 | 0.03 | 152 | 201 |   5 |  6 |\n| Wayne Hennessey              | 34 | 538444800 | 1987/01/24 | Premier League | 2018/2019 | Goalkeeper | Crystal Palace          | 1575 |  675 | ⋯ | 1.31 |  68 | 88 |    0 |    0 | 0.00 | 321 | 404 |  87 | 13 |\n| Wes Morgan                   | 37 | 443491200 | 1984/01/21 | Premier League | 2018/2019 | Defender   | Leicester City          | 1926 |  783 | ⋯ | 1.12 |  80 | 88 |  385 |    0 | 0.23 | 125 | 300 |  48 |  6 |\n| Wesley Hoedt                 | 27 | 762912000 | 1994/03/06 | Premier League | 2018/2019 | Defender   | Southampton             | 1170 |  540 | ⋯ | 1.54 |  59 | 90 |  585 |    0 | 0.15 | 374 | 370 | 123 | 27 |\n| Wilfredo Daniel Caballero    | 39 | 370483200 | 1981/09/28 | Premier League | 2018/2019 | Goalkeeper | Chelsea                 |  180 |   90 | ⋯ | 0.00 |   0 | 90 |    0 |    0 | 0.00 |  -1 |  -1 |  -1 | 19 |\n| Wilfried Zaha                | 28 | 721353600 | 1992/11/10 | Premier League | 2018/2019 | Midfielder | Crystal Palace          | 3041 | 1347 | ⋯ | 1.33 |  68 | 89 |  304 |  608 | 0.30 |  63 |  92 |  -1 |  2 |\n| Will Hughes                  | 25 | 798076800 | 1995/04/17 | Premier League | 2018/2019 | Midfielder | Watford                 | 2436 | 1251 | ⋯ | 1.44 |  62 | 76 |  487 |  609 | 0.18 | 199 |  91 |  -1 |  8 |\n| Will Norris                  | 27 | 745113600 | 1993/08/12 | Premier League | 2018/2019 | Goalkeeper | Wolverhampton Wanderers |    0 |    0 | ⋯ | 0.00 |   0 |  0 |    0 |    0 | 0.00 |  -1 |  -1 |  -1 | -1 |\n| Willian                      | 32 | 587088000 | 1988/08/09 | Premier League | 2018/2019 | Forward    | Chelsea                 | 2108 |  833 | ⋯ | 0.98 |  92 | 66 | 1054 |  351 | 0.09 | 132 |  36 |  -1 |  8 |\n| Willy Boly                   | 30 | 665539200 | 1991/02/03 | Premier League | 2018/2019 | Defender   | Wolverhampton Wanderers | 3169 | 1530 | ⋯ | 1.08 |  83 | 88 |  792 |    0 | 0.11 | 148 | 312 |  43 |  4 |\n| Xherdan Shaqiri              | 29 | 687052800 | 1991/10/10 | Premier League | 2018/2019 | Midfielder | Liverpool               | 1058 |  538 | ⋯ | 0.43 | 212 | 44 |  529 |  353 | 0.17 |  15 |  39 |  -1 |  4 |\n| Yann Valery                  | 22 | 919641600 | 1999/02/22 | Premier League | 2018/2019 | Defender   | Southampton             | 1715 | 1070 | ⋯ | 1.36 |  66 | 75 |  343 | 1715 | 0.26 | 162 | 214 |  95 |  7 |\n| Yerry Fernando Mina González | 26 | 780278400 | 1994/09/23 | Premier League | 2018/2019 | Defender   | Everton                 |  890 |  360 | ⋯ | 1.21 |  74 | 68 |  297 |    0 | 0.30 | 161 | 329 |  67 |  9 |\n| Yoshinori Muto               | 28 | 711158400 | 1992/07/15 | Premier League | 2018/2019 | Forward    | Newcastle United        |  516 |  180 | ⋯ | 1.74 |  52 | 30 |  516 |    0 | 0.17 | 113 | 290 |  -1 |  8 |\n| Youri Tielemans              | 23 | 862963200 | 1997/05/07 | Premier League | 2018/2019 | Midfielder | Leicester City          | 1092 |  575 | ⋯ | 1.07 |  84 | 84 |  546 |  273 | 0.16 |  80 |  13 |  -1 |  4 |\n| Yves Bissouma                | 24 | 841363200 | 1996/08/30 | Premier League | 2018/2019 | Midfielder | Brighton &amp; Hove Albion  | 1769 |  747 | ⋯ | 1.53 |  59 | 63 |  354 |    0 | 0.25 | 402 | 293 |  -1 | 17 |\n| Zechariah Medley             | 20 | 962928000 | 2000/07/07 | Premier League | 2018/2019 | Defender   | Arsenal                 |    0 |    0 | ⋯ | 0.00 |   0 |  0 |    0 |    0 | 0.00 |  -1 |  -1 |  -1 | -1 |\n| Zeze Steven Sessegnon        | 20 | 958608000 | 2000/05/18 | Premier League | 2018/2019 | Defender   | Fulham                  |    0 |    0 | ⋯ | 0.00 |   0 |  0 |    0 |    0 | 0.00 |  -1 |  -1 |  -1 | -1 |\n| Łukasz Fabiański             | 35 | 482630400 | 1985/04/18 | Premier League | 2018/2019 | Goalkeeper | West Ham United         | 3420 | 1710 | ⋯ | 1.26 |  71 | 90 |    0 |    0 | 0.00 | 391 | 343 |  81 | 19 |\n\n",
            "text/latex": "A data.frame: 572 × 47\n\\begin{tabular}{lllllllllllllllllllll}\n full\\_name & age & birthday & birthday\\_GMT & league & season & position & Current.Club & minutes\\_played\\_overall & minutes\\_played\\_home & ⋯ & conceded\\_per\\_90\\_overall & min\\_per\\_conceded\\_overall & min\\_per\\_match & min\\_per\\_card\\_overall & min\\_per\\_assist\\_overall & cards\\_per\\_90\\_overall & rank\\_in\\_league\\_top\\_attackers & rank\\_in\\_league\\_top\\_midfielders & rank\\_in\\_league\\_top\\_defenders & rank\\_in\\_club\\_top\\_scorer\\\\\n <chr> & <int> & <int> & <chr> & <chr> & <chr> & <chr> & <chr> & <int> & <int> & ⋯ & <dbl> & <int> & <int> & <int> & <int> & <dbl> & <int> & <int> & <int> & <int>\\\\\n\\hline\n\t Aaron Cresswell                  & 31 & 629683200 & 1989/12/15 & Premier League & 2018/2019 & Defender   & West Ham United         & 1589 &  888 & ⋯ & 1.25 &  72 & 79 & 1589 & 1589 & 0.06 & 290 & 191 &  80 & 20\\\\\n\t Aaron Lennon                     & 33 & 545529600 & 1987/04/16 & Premier League & 2018/2019 & Midfielder & Burnley                 & 1217 &  487 & ⋯ & 1.48 &  61 & 76 & 1217 & 1217 & 0.07 & 196 & 187 &  -1 & 10\\\\\n\t Aaron Mooy                       & 30 & 653356800 & 1990/09/15 & Premier League & 2018/2019 & Midfielder & Huddersfield Town       & 2327 & 1190 & ⋯ & 1.78 &  51 & 80 &  582 & 2327 & 0.15 & 144 & 233 &  -1 &  3\\\\\n\t Aaron Ramsey                     & 30 & 662169600 & 1990/12/26 & Premier League & 2018/2019 & Midfielder & Arsenal                 & 1327 &  689 & ⋯ & 0.81 & 111 & 47 &    0 &  221 & 0.00 &  69 &   8 &  -1 &  5\\\\\n\t Aaron Rowe                       & 20 & 968284800 & 2000/09/07 & Premier League & 2018/2019 & Forward    & Huddersfield Town       &   69 &   14 & ⋯ & 1.30 &  69 & 35 &    0 &    0 & 0.00 &  -1 &  -1 &  -1 & 31\\\\\n\t Aaron Wan-Bissaka                & 23 & 880502400 & 1997/11/26 & Premier League & 2018/2019 & Midfielder & Crystal Palace          & 3135 & 1605 & ⋯ & 1.18 &  76 & 90 &  523 & 1045 & 0.17 & 312 & 160 &  -1 & 22\\\\\n\t Abdelhamid Sabiri                & 24 & 849139200 & 1996/11/28 & Premier League & 2018/2019 & Midfielder & Huddersfield Town       &   49 &    0 & ⋯ & 5.51 &  16 & 25 &    0 &    0 & 0.00 &  -1 &  -1 &  -1 & 22\\\\\n\t Abdoulaye Doucouré               & 28 & 725846400 & 1993/01/01 & Premier League & 2018/2019 & Midfielder & Watford                 & 3062 & 1566 & ⋯ & 1.59 &  57 & 87 &  437 &  510 & 0.21 & 124 &  80 &  -1 &  5\\\\\n\t Aboubakar Kamara                 & 26 & 794534400 & 1995/03/07 & Premier League & 2018/2019 & Forward    & Fulham                  &  687 &  468 & ⋯ & 2.10 &  43 & 53 &  344 &    0 & 0.26 &  38 & 412 &  -1 &  4\\\\\n\t Adalberto Peñaranda Maestre      & 23 & 865036800 & 1997/05/31 & Premier League & 2018/2019 & Forward    & Watford                 &    0 &    0 & ⋯ & 0.00 &   0 &  0 &    0 &    0 & 0.00 &  -1 &  -1 &  -1 & -1\\\\\n\t Adam David Lallana               & 32 & 579225600 & 1988/05/10 & Premier League & 2018/2019 & Midfielder & Liverpool               &  465 &  189 & ⋯ & 0.39 & 233 & 36 &  465 &    0 & 0.19 & 379 & 344 &  -1 & 18\\\\\n\t Adam Masina                      & 27 & 757468800 & 1994/01/02 & Premier League & 2018/2019 & Defender   & Watford                 & 1003 &  463 & ⋯ & 1.70 &  53 & 72 &  201 & 1003 & 0.45 & 397 & 155 & 144 & 20\\\\\n\t Adam Smith                       & 29 & 672883200 & 1991/04/29 & Premier League & 2018/2019 & Defender   & AFC Bournemouth         & 2073 & 1051 & ⋯ & 1.30 &  69 & 83 &  296 & 2073 & 0.30 & 227 & 228 &  85 & 10\\\\\n\t Adama Diakhaby                   & 24 & 836524800 & 1996/07/05 & Premier League & 2018/2019 & Forward    & Huddersfield Town       &  551 &  345 & ⋯ & 2.61 &  34 & 46 &  551 &    0 & 0.16 & 332 & 359 &  -1 & 26\\\\\n\t Adama Traoré Diarra              & 25 & 822528000 & 1996/01/25 & Premier League & 2018/2019 & Midfielder & Wolverhampton Wanderers &  890 &  315 & ⋯ & 1.11 &  81 & 31 &  890 &  890 & 0.10 & 160 & 152 &  -1 & 13\\\\\n\t Ademola Lookman                  & 23 & 877305600 & 1997/10/20 & Premier League & 2018/2019 & Forward    & Everton                 &  601 &  334 & ⋯ & 1.05 &  86 & 29 &    0 &  301 & 0.00 & 292 &  20 &  -1 & 17\\\\\n\t Adrian Mariappa                  & 34 & 528681600 & 1986/10/03 & Premier League & 2018/2019 & Defender   & Watford                 & 1921 &  841 & ⋯ & 1.36 &  66 & 74 &  640 &    0 & 0.14 & 396 & 414 &  94 & 21\\\\\n\t Adrián San Miguel del Castillo   & 34 & 536630400 & 1987/01/03 & Premier League & 2018/2019 & Goalkeeper & West Ham United         &    0 &    0 & ⋯ & 0.00 &   0 &  0 &    0 &    0 & 0.00 &  -1 &  -1 &  -1 & -1\\\\\n\t Adrien Sebastian Perruchet Silva & 32 & 605923200 & 1989/03/15 & Premier League & 2018/2019 & Midfielder & Leicester City          &   88 &    8 & ⋯ & 1.02 &  88 & 44 &    0 &    0 & 0.00 &  -1 &  -1 &  -1 & 15\\\\\n\t Ainsley Maitland-Niles           & 23 & 872812800 & 1997/08/29 & Premier League & 2018/2019 & Midfielder & Arsenal                 &  985 &  462 & ⋯ & 1.46 &  62 & 62 &  328 &  985 & 0.27 & 174 & 167 &  -1 & 15\\\\\n\t Alberto Moreno                   & 28 & 710294400 & 1992/07/05 & Premier League & 2018/2019 & Defender   & Liverpool               &  155 &   90 & ⋯ & 1.16 &  78 & 78 &    0 &    0 & 0.00 &  -1 &  -1 &  -1 & 17\\\\\n\t Aleksandar Mitrović              & 26 & 779673600 & 1994/09/16 & Premier League & 2018/2019 & Forward    & Fulham                  & 3282 & 1616 & ⋯ & 2.03 &  44 & 89 &  469 & 1094 & 0.19 &  62 & 176 &  -1 &  1\\\\\n\t Alex Iwobi                       & 24 & 831081600 & 1996/05/03 & Premier League & 2018/2019 & Forward    & Arsenal                 & 1972 &  742 & ⋯ & 1.41 &  64 & 56 &    0 &  329 & 0.00 & 128 &  31 &  -1 &  8\\\\\n\t Alex McCarthy                    & 31 & 628646400 & 1989/12/03 & Premier League & 2018/2019 & Goalkeeper & Southampton             & 2250 & 1170 & ⋯ & 1.48 &  61 & 90 & 2250 &    0 & 0.04 & 372 & 365 & 114 & 21\\\\\n\t Alex Oxlade-Chamberlain          & 27 & 745372800 & 1993/08/15 & Premier League & 2018/2019 & Midfielder & Liverpool               &   19 &   19 & ⋯ & 0.00 &   0 & 10 &    0 &    0 & 0.00 &  -1 &  -1 &  -1 & 21\\\\\n\t Alex Pritchard                   & 27 & 736387200 & 1993/05/03 & Premier League & 2018/2019 & Midfielder & Huddersfield Town       & 2092 &  992 & ⋯ & 1.68 &  54 & 70 & 1046 &    0 & 0.09 & 171 & 373 &  -1 &  5\\\\\n\t Alex Smithies                    & 31 & 636595200 & 1990/03/05 & Premier League & 2018/2019 & Goalkeeper & Cardiff City            &    0 &    0 & ⋯ & 0.00 &   0 &  0 &    0 &    0 & 0.00 &  -1 &  -1 &  -1 & -1\\\\\n\t Alexander Sørloth                & 25 & 818121600 & 1995/12/05 & Premier League & 2018/2019 & Forward    & Crystal Palace          &  173 &  121 & ⋯ & 0.52 & 173 & 14 &    0 &    0 & 0.00 &  -1 &  -1 &  -1 & 17\\\\\n\t Alexandre Lacazette              & 29 & 675388800 & 1991/05/28 & Premier League & 2018/2019 & Forward    & Arsenal                 & 2503 & 1403 & ⋯ & 1.01 &  89 & 72 & 1252 &  313 & 0.07 &  21 &  25 &  -1 &  2\\\\\n\t Alexandre Nascimento Costa Silva & 24 & 858470400 & 1997/03/16 & Premier League & 2018/2019 & Forward    & West Ham United         &   17 &    0 & ⋯ & 0.00 &   0 & 17 &    0 &    0 & 0.00 &  -1 &  -1 &  -1 & 16\\\\\n\t ⋮ & ⋮ & ⋮ & ⋮ & ⋮ & ⋮ & ⋮ & ⋮ & ⋮ & ⋮ & ⋱ & ⋮ & ⋮ & ⋮ & ⋮ & ⋮ & ⋮ & ⋮ & ⋮ & ⋮ & ⋮\\\\\n\t Tyreke Johnson               & 22 & 910051200 & 1998/11/03 & Premier League & 2018/2019 & Defender   & Southampton             &    0 &    0 & ⋯ & 0.00 &   0 &  0 &    0 &    0 & 0.00 &  -1 &  -1 &  -1 & -1\\\\\n\t Tyrone Mings                 & 28 & 731980800 & 1993/03/13 & Premier League & 2018/2019 & Defender   & AFC Bournemouth         &  141 &    7 & ⋯ & 2.55 &  35 & 28 &    0 &    0 & 0.00 &  -1 &  -1 &  -1 & 23\\\\\n\t Vicente Guaita               & 34 & 537235200 & 1987/01/10 & Premier League & 2018/2019 & Goalkeeper & Crystal Palace          & 1755 & 1035 & ⋯ & 1.08 &  84 & 88 &  878 &    0 & 0.10 & 325 & 352 &  45 & 19\\\\\n\t Vicente Iborra De La Fuente  & 33 & 569289600 & 1988/01/16 & Premier League & 2018/2019 & Midfielder & Leicester City          &  226 &  152 & ⋯ & 1.59 &  57 & 28 &    0 &    0 & 0.00 &  -1 &  -1 &  -1 & 14\\\\\n\t Víctor Camarasa              & 26 & 770083200 & 1994/05/28 & Premier League & 2018/2019 & Midfielder & Cardiff City            & 2579 & 1267 & ⋯ & 1.68 &  54 & 81 &  430 &  645 & 0.21 & 111 & 106 &  -1 &  1\\\\\n\t Victor Moses                 & 30 & 660960000 & 1990/12/12 & Premier League & 2018/2019 & Midfielder & Chelsea                 &   26 &   17 & ⋯ & 3.46 &  26 & 13 &    0 &    0 & 0.00 &  -1 &  -1 &  -1 & 23\\\\\n\t Victor Nilsson Lindelöf      & 26 & 774403200 & 1994/07/17 & Premier League & 2018/2019 & Defender   & Manchester United       & 2602 & 1112 & ⋯ & 1.31 &  68 & 87 & 2602 & 2602 & 0.03 & 263 & 246 &  88 & 14\\\\\n\t Victor Wanyama               & 29 & 677808000 & 1991/06/25 & Premier League & 2018/2019 & Midfielder & Tottenham Hotspur       &  509 &  302 & ⋯ & 0.53 & 170 & 39 &  255 &    0 & 0.35 & 106 & 266 &  -1 & 11\\\\\n\t Viktor Gyökeres              & 22 & 896918400 & 1998/06/04 & Premier League & 2018/2019 & Forward    & Brighton \\& Hove Albion  &    0 &    0 & ⋯ & 0.00 &   0 &  0 &    0 &    0 & 0.00 &  -1 &  -1 &  -1 & -1\\\\\n\t Vincent Janssen              & 26 & 771638400 & 1994/06/15 & Premier League & 2018/2019 & Forward    & Tottenham Hotspur       &   36 &   36 & ⋯ & 0.00 &   0 & 12 &    0 &    0 & 0.00 &  -1 &  -1 &  -1 & 28\\\\\n\t Vincent Kompany              & 34 & 513475200 & 1986/04/10 & Premier League & 2018/2019 & Defender   & Manchester City         & 1223 &  561 & ⋯ & 0.52 & 175 & 72 &  204 &    0 & 0.44 & 194 & 384 &   7 & 12\\\\\n\t Virgil van Dijk              & 29 & 678931200 & 1991/07/08 & Premier League & 2018/2019 & Defender   & Liverpool               & 3385 & 1675 & ⋯ & 0.51 & 178 & 89 & 3385 & 1693 & 0.03 & 152 & 201 &   5 &  6\\\\\n\t Wayne Hennessey              & 34 & 538444800 & 1987/01/24 & Premier League & 2018/2019 & Goalkeeper & Crystal Palace          & 1575 &  675 & ⋯ & 1.31 &  68 & 88 &    0 &    0 & 0.00 & 321 & 404 &  87 & 13\\\\\n\t Wes Morgan                   & 37 & 443491200 & 1984/01/21 & Premier League & 2018/2019 & Defender   & Leicester City          & 1926 &  783 & ⋯ & 1.12 &  80 & 88 &  385 &    0 & 0.23 & 125 & 300 &  48 &  6\\\\\n\t Wesley Hoedt                 & 27 & 762912000 & 1994/03/06 & Premier League & 2018/2019 & Defender   & Southampton             & 1170 &  540 & ⋯ & 1.54 &  59 & 90 &  585 &    0 & 0.15 & 374 & 370 & 123 & 27\\\\\n\t Wilfredo Daniel Caballero    & 39 & 370483200 & 1981/09/28 & Premier League & 2018/2019 & Goalkeeper & Chelsea                 &  180 &   90 & ⋯ & 0.00 &   0 & 90 &    0 &    0 & 0.00 &  -1 &  -1 &  -1 & 19\\\\\n\t Wilfried Zaha                & 28 & 721353600 & 1992/11/10 & Premier League & 2018/2019 & Midfielder & Crystal Palace          & 3041 & 1347 & ⋯ & 1.33 &  68 & 89 &  304 &  608 & 0.30 &  63 &  92 &  -1 &  2\\\\\n\t Will Hughes                  & 25 & 798076800 & 1995/04/17 & Premier League & 2018/2019 & Midfielder & Watford                 & 2436 & 1251 & ⋯ & 1.44 &  62 & 76 &  487 &  609 & 0.18 & 199 &  91 &  -1 &  8\\\\\n\t Will Norris                  & 27 & 745113600 & 1993/08/12 & Premier League & 2018/2019 & Goalkeeper & Wolverhampton Wanderers &    0 &    0 & ⋯ & 0.00 &   0 &  0 &    0 &    0 & 0.00 &  -1 &  -1 &  -1 & -1\\\\\n\t Willian                      & 32 & 587088000 & 1988/08/09 & Premier League & 2018/2019 & Forward    & Chelsea                 & 2108 &  833 & ⋯ & 0.98 &  92 & 66 & 1054 &  351 & 0.09 & 132 &  36 &  -1 &  8\\\\\n\t Willy Boly                   & 30 & 665539200 & 1991/02/03 & Premier League & 2018/2019 & Defender   & Wolverhampton Wanderers & 3169 & 1530 & ⋯ & 1.08 &  83 & 88 &  792 &    0 & 0.11 & 148 & 312 &  43 &  4\\\\\n\t Xherdan Shaqiri              & 29 & 687052800 & 1991/10/10 & Premier League & 2018/2019 & Midfielder & Liverpool               & 1058 &  538 & ⋯ & 0.43 & 212 & 44 &  529 &  353 & 0.17 &  15 &  39 &  -1 &  4\\\\\n\t Yann Valery                  & 22 & 919641600 & 1999/02/22 & Premier League & 2018/2019 & Defender   & Southampton             & 1715 & 1070 & ⋯ & 1.36 &  66 & 75 &  343 & 1715 & 0.26 & 162 & 214 &  95 &  7\\\\\n\t Yerry Fernando Mina González & 26 & 780278400 & 1994/09/23 & Premier League & 2018/2019 & Defender   & Everton                 &  890 &  360 & ⋯ & 1.21 &  74 & 68 &  297 &    0 & 0.30 & 161 & 329 &  67 &  9\\\\\n\t Yoshinori Muto               & 28 & 711158400 & 1992/07/15 & Premier League & 2018/2019 & Forward    & Newcastle United        &  516 &  180 & ⋯ & 1.74 &  52 & 30 &  516 &    0 & 0.17 & 113 & 290 &  -1 &  8\\\\\n\t Youri Tielemans              & 23 & 862963200 & 1997/05/07 & Premier League & 2018/2019 & Midfielder & Leicester City          & 1092 &  575 & ⋯ & 1.07 &  84 & 84 &  546 &  273 & 0.16 &  80 &  13 &  -1 &  4\\\\\n\t Yves Bissouma                & 24 & 841363200 & 1996/08/30 & Premier League & 2018/2019 & Midfielder & Brighton \\& Hove Albion  & 1769 &  747 & ⋯ & 1.53 &  59 & 63 &  354 &    0 & 0.25 & 402 & 293 &  -1 & 17\\\\\n\t Zechariah Medley             & 20 & 962928000 & 2000/07/07 & Premier League & 2018/2019 & Defender   & Arsenal                 &    0 &    0 & ⋯ & 0.00 &   0 &  0 &    0 &    0 & 0.00 &  -1 &  -1 &  -1 & -1\\\\\n\t Zeze Steven Sessegnon        & 20 & 958608000 & 2000/05/18 & Premier League & 2018/2019 & Defender   & Fulham                  &    0 &    0 & ⋯ & 0.00 &   0 &  0 &    0 &    0 & 0.00 &  -1 &  -1 &  -1 & -1\\\\\n\t Łukasz Fabiański             & 35 & 482630400 & 1985/04/18 & Premier League & 2018/2019 & Goalkeeper & West Ham United         & 3420 & 1710 & ⋯ & 1.26 &  71 & 90 &    0 &    0 & 0.00 & 391 & 343 &  81 & 19\\\\\n\\end{tabular}\n",
            "text/plain": [
              "    full_name                        age birthday  birthday_GMT league        \n",
              "1   Aaron Cresswell                  31  629683200 1989/12/15   Premier League\n",
              "2   Aaron Lennon                     33  545529600 1987/04/16   Premier League\n",
              "3   Aaron Mooy                       30  653356800 1990/09/15   Premier League\n",
              "4   Aaron Ramsey                     30  662169600 1990/12/26   Premier League\n",
              "5   Aaron Rowe                       20  968284800 2000/09/07   Premier League\n",
              "6   Aaron Wan-Bissaka                23  880502400 1997/11/26   Premier League\n",
              "7   Abdelhamid Sabiri                24  849139200 1996/11/28   Premier League\n",
              "8   Abdoulaye Doucouré               28  725846400 1993/01/01   Premier League\n",
              "9   Aboubakar Kamara                 26  794534400 1995/03/07   Premier League\n",
              "10  Adalberto Peñaranda Maestre      23  865036800 1997/05/31   Premier League\n",
              "11  Adam David Lallana               32  579225600 1988/05/10   Premier League\n",
              "12  Adam Masina                      27  757468800 1994/01/02   Premier League\n",
              "13  Adam Smith                       29  672883200 1991/04/29   Premier League\n",
              "14  Adama Diakhaby                   24  836524800 1996/07/05   Premier League\n",
              "15  Adama Traoré Diarra              25  822528000 1996/01/25   Premier League\n",
              "16  Ademola Lookman                  23  877305600 1997/10/20   Premier League\n",
              "17  Adrian Mariappa                  34  528681600 1986/10/03   Premier League\n",
              "18  Adrián San Miguel del Castillo   34  536630400 1987/01/03   Premier League\n",
              "19  Adrien Sebastian Perruchet Silva 32  605923200 1989/03/15   Premier League\n",
              "20  Ainsley Maitland-Niles           23  872812800 1997/08/29   Premier League\n",
              "21  Alberto Moreno                   28  710294400 1992/07/05   Premier League\n",
              "22  Aleksandar Mitrović              26  779673600 1994/09/16   Premier League\n",
              "23  Alex Iwobi                       24  831081600 1996/05/03   Premier League\n",
              "24  Alex McCarthy                    31  628646400 1989/12/03   Premier League\n",
              "25  Alex Oxlade-Chamberlain          27  745372800 1993/08/15   Premier League\n",
              "26  Alex Pritchard                   27  736387200 1993/05/03   Premier League\n",
              "27  Alex Smithies                    31  636595200 1990/03/05   Premier League\n",
              "28  Alexander Sørloth                25  818121600 1995/12/05   Premier League\n",
              "29  Alexandre Lacazette              29  675388800 1991/05/28   Premier League\n",
              "30  Alexandre Nascimento Costa Silva 24  858470400 1997/03/16   Premier League\n",
              "⋮   ⋮                                ⋮   ⋮         ⋮            ⋮             \n",
              "543 Tyreke Johnson                   22  910051200 1998/11/03   Premier League\n",
              "544 Tyrone Mings                     28  731980800 1993/03/13   Premier League\n",
              "545 Vicente Guaita                   34  537235200 1987/01/10   Premier League\n",
              "546 Vicente Iborra De La Fuente      33  569289600 1988/01/16   Premier League\n",
              "547 Víctor Camarasa                  26  770083200 1994/05/28   Premier League\n",
              "548 Victor Moses                     30  660960000 1990/12/12   Premier League\n",
              "549 Victor Nilsson Lindelöf          26  774403200 1994/07/17   Premier League\n",
              "550 Victor Wanyama                   29  677808000 1991/06/25   Premier League\n",
              "551 Viktor Gyökeres                  22  896918400 1998/06/04   Premier League\n",
              "552 Vincent Janssen                  26  771638400 1994/06/15   Premier League\n",
              "553 Vincent Kompany                  34  513475200 1986/04/10   Premier League\n",
              "554 Virgil van Dijk                  29  678931200 1991/07/08   Premier League\n",
              "555 Wayne Hennessey                  34  538444800 1987/01/24   Premier League\n",
              "556 Wes Morgan                       37  443491200 1984/01/21   Premier League\n",
              "557 Wesley Hoedt                     27  762912000 1994/03/06   Premier League\n",
              "558 Wilfredo Daniel Caballero        39  370483200 1981/09/28   Premier League\n",
              "559 Wilfried Zaha                    28  721353600 1992/11/10   Premier League\n",
              "560 Will Hughes                      25  798076800 1995/04/17   Premier League\n",
              "561 Will Norris                      27  745113600 1993/08/12   Premier League\n",
              "562 Willian                          32  587088000 1988/08/09   Premier League\n",
              "563 Willy Boly                       30  665539200 1991/02/03   Premier League\n",
              "564 Xherdan Shaqiri                  29  687052800 1991/10/10   Premier League\n",
              "565 Yann Valery                      22  919641600 1999/02/22   Premier League\n",
              "566 Yerry Fernando Mina González     26  780278400 1994/09/23   Premier League\n",
              "567 Yoshinori Muto                   28  711158400 1992/07/15   Premier League\n",
              "568 Youri Tielemans                  23  862963200 1997/05/07   Premier League\n",
              "569 Yves Bissouma                    24  841363200 1996/08/30   Premier League\n",
              "570 Zechariah Medley                 20  962928000 2000/07/07   Premier League\n",
              "571 Zeze Steven Sessegnon            20  958608000 2000/05/18   Premier League\n",
              "572 Łukasz Fabiański                 35  482630400 1985/04/18   Premier League\n",
              "    season    position   Current.Club            minutes_played_overall\n",
              "1   2018/2019 Defender   West Ham United         1589                  \n",
              "2   2018/2019 Midfielder Burnley                 1217                  \n",
              "3   2018/2019 Midfielder Huddersfield Town       2327                  \n",
              "4   2018/2019 Midfielder Arsenal                 1327                  \n",
              "5   2018/2019 Forward    Huddersfield Town         69                  \n",
              "6   2018/2019 Midfielder Crystal Palace          3135                  \n",
              "7   2018/2019 Midfielder Huddersfield Town         49                  \n",
              "8   2018/2019 Midfielder Watford                 3062                  \n",
              "9   2018/2019 Forward    Fulham                   687                  \n",
              "10  2018/2019 Forward    Watford                    0                  \n",
              "11  2018/2019 Midfielder Liverpool                465                  \n",
              "12  2018/2019 Defender   Watford                 1003                  \n",
              "13  2018/2019 Defender   AFC Bournemouth         2073                  \n",
              "14  2018/2019 Forward    Huddersfield Town        551                  \n",
              "15  2018/2019 Midfielder Wolverhampton Wanderers  890                  \n",
              "16  2018/2019 Forward    Everton                  601                  \n",
              "17  2018/2019 Defender   Watford                 1921                  \n",
              "18  2018/2019 Goalkeeper West Ham United            0                  \n",
              "19  2018/2019 Midfielder Leicester City            88                  \n",
              "20  2018/2019 Midfielder Arsenal                  985                  \n",
              "21  2018/2019 Defender   Liverpool                155                  \n",
              "22  2018/2019 Forward    Fulham                  3282                  \n",
              "23  2018/2019 Forward    Arsenal                 1972                  \n",
              "24  2018/2019 Goalkeeper Southampton             2250                  \n",
              "25  2018/2019 Midfielder Liverpool                 19                  \n",
              "26  2018/2019 Midfielder Huddersfield Town       2092                  \n",
              "27  2018/2019 Goalkeeper Cardiff City               0                  \n",
              "28  2018/2019 Forward    Crystal Palace           173                  \n",
              "29  2018/2019 Forward    Arsenal                 2503                  \n",
              "30  2018/2019 Forward    West Ham United           17                  \n",
              "⋮   ⋮         ⋮          ⋮                       ⋮                     \n",
              "543 2018/2019 Defender   Southampton                0                  \n",
              "544 2018/2019 Defender   AFC Bournemouth          141                  \n",
              "545 2018/2019 Goalkeeper Crystal Palace          1755                  \n",
              "546 2018/2019 Midfielder Leicester City           226                  \n",
              "547 2018/2019 Midfielder Cardiff City            2579                  \n",
              "548 2018/2019 Midfielder Chelsea                   26                  \n",
              "549 2018/2019 Defender   Manchester United       2602                  \n",
              "550 2018/2019 Midfielder Tottenham Hotspur        509                  \n",
              "551 2018/2019 Forward    Brighton & Hove Albion     0                  \n",
              "552 2018/2019 Forward    Tottenham Hotspur         36                  \n",
              "553 2018/2019 Defender   Manchester City         1223                  \n",
              "554 2018/2019 Defender   Liverpool               3385                  \n",
              "555 2018/2019 Goalkeeper Crystal Palace          1575                  \n",
              "556 2018/2019 Defender   Leicester City          1926                  \n",
              "557 2018/2019 Defender   Southampton             1170                  \n",
              "558 2018/2019 Goalkeeper Chelsea                  180                  \n",
              "559 2018/2019 Midfielder Crystal Palace          3041                  \n",
              "560 2018/2019 Midfielder Watford                 2436                  \n",
              "561 2018/2019 Goalkeeper Wolverhampton Wanderers    0                  \n",
              "562 2018/2019 Forward    Chelsea                 2108                  \n",
              "563 2018/2019 Defender   Wolverhampton Wanderers 3169                  \n",
              "564 2018/2019 Midfielder Liverpool               1058                  \n",
              "565 2018/2019 Defender   Southampton             1715                  \n",
              "566 2018/2019 Defender   Everton                  890                  \n",
              "567 2018/2019 Forward    Newcastle United         516                  \n",
              "568 2018/2019 Midfielder Leicester City          1092                  \n",
              "569 2018/2019 Midfielder Brighton & Hove Albion  1769                  \n",
              "570 2018/2019 Defender   Arsenal                    0                  \n",
              "571 2018/2019 Defender   Fulham                     0                  \n",
              "572 2018/2019 Goalkeeper West Ham United         3420                  \n",
              "    minutes_played_home ⋯ conceded_per_90_overall min_per_conceded_overall\n",
              "1    888                ⋯ 1.25                     72                     \n",
              "2    487                ⋯ 1.48                     61                     \n",
              "3   1190                ⋯ 1.78                     51                     \n",
              "4    689                ⋯ 0.81                    111                     \n",
              "5     14                ⋯ 1.30                     69                     \n",
              "6   1605                ⋯ 1.18                     76                     \n",
              "7      0                ⋯ 5.51                     16                     \n",
              "8   1566                ⋯ 1.59                     57                     \n",
              "9    468                ⋯ 2.10                     43                     \n",
              "10     0                ⋯ 0.00                      0                     \n",
              "11   189                ⋯ 0.39                    233                     \n",
              "12   463                ⋯ 1.70                     53                     \n",
              "13  1051                ⋯ 1.30                     69                     \n",
              "14   345                ⋯ 2.61                     34                     \n",
              "15   315                ⋯ 1.11                     81                     \n",
              "16   334                ⋯ 1.05                     86                     \n",
              "17   841                ⋯ 1.36                     66                     \n",
              "18     0                ⋯ 0.00                      0                     \n",
              "19     8                ⋯ 1.02                     88                     \n",
              "20   462                ⋯ 1.46                     62                     \n",
              "21    90                ⋯ 1.16                     78                     \n",
              "22  1616                ⋯ 2.03                     44                     \n",
              "23   742                ⋯ 1.41                     64                     \n",
              "24  1170                ⋯ 1.48                     61                     \n",
              "25    19                ⋯ 0.00                      0                     \n",
              "26   992                ⋯ 1.68                     54                     \n",
              "27     0                ⋯ 0.00                      0                     \n",
              "28   121                ⋯ 0.52                    173                     \n",
              "29  1403                ⋯ 1.01                     89                     \n",
              "30     0                ⋯ 0.00                      0                     \n",
              "⋮   ⋮                   ⋱ ⋮                       ⋮                       \n",
              "543    0                ⋯ 0.00                      0                     \n",
              "544    7                ⋯ 2.55                     35                     \n",
              "545 1035                ⋯ 1.08                     84                     \n",
              "546  152                ⋯ 1.59                     57                     \n",
              "547 1267                ⋯ 1.68                     54                     \n",
              "548   17                ⋯ 3.46                     26                     \n",
              "549 1112                ⋯ 1.31                     68                     \n",
              "550  302                ⋯ 0.53                    170                     \n",
              "551    0                ⋯ 0.00                      0                     \n",
              "552   36                ⋯ 0.00                      0                     \n",
              "553  561                ⋯ 0.52                    175                     \n",
              "554 1675                ⋯ 0.51                    178                     \n",
              "555  675                ⋯ 1.31                     68                     \n",
              "556  783                ⋯ 1.12                     80                     \n",
              "557  540                ⋯ 1.54                     59                     \n",
              "558   90                ⋯ 0.00                      0                     \n",
              "559 1347                ⋯ 1.33                     68                     \n",
              "560 1251                ⋯ 1.44                     62                     \n",
              "561    0                ⋯ 0.00                      0                     \n",
              "562  833                ⋯ 0.98                     92                     \n",
              "563 1530                ⋯ 1.08                     83                     \n",
              "564  538                ⋯ 0.43                    212                     \n",
              "565 1070                ⋯ 1.36                     66                     \n",
              "566  360                ⋯ 1.21                     74                     \n",
              "567  180                ⋯ 1.74                     52                     \n",
              "568  575                ⋯ 1.07                     84                     \n",
              "569  747                ⋯ 1.53                     59                     \n",
              "570    0                ⋯ 0.00                      0                     \n",
              "571    0                ⋯ 0.00                      0                     \n",
              "572 1710                ⋯ 1.26                     71                     \n",
              "    min_per_match min_per_card_overall min_per_assist_overall\n",
              "1   79            1589                 1589                  \n",
              "2   76            1217                 1217                  \n",
              "3   80             582                 2327                  \n",
              "4   47               0                  221                  \n",
              "5   35               0                    0                  \n",
              "6   90             523                 1045                  \n",
              "7   25               0                    0                  \n",
              "8   87             437                  510                  \n",
              "9   53             344                    0                  \n",
              "10   0               0                    0                  \n",
              "11  36             465                    0                  \n",
              "12  72             201                 1003                  \n",
              "13  83             296                 2073                  \n",
              "14  46             551                    0                  \n",
              "15  31             890                  890                  \n",
              "16  29               0                  301                  \n",
              "17  74             640                    0                  \n",
              "18   0               0                    0                  \n",
              "19  44               0                    0                  \n",
              "20  62             328                  985                  \n",
              "21  78               0                    0                  \n",
              "22  89             469                 1094                  \n",
              "23  56               0                  329                  \n",
              "24  90            2250                    0                  \n",
              "25  10               0                    0                  \n",
              "26  70            1046                    0                  \n",
              "27   0               0                    0                  \n",
              "28  14               0                    0                  \n",
              "29  72            1252                  313                  \n",
              "30  17               0                    0                  \n",
              "⋮   ⋮             ⋮                    ⋮                     \n",
              "543  0               0                    0                  \n",
              "544 28               0                    0                  \n",
              "545 88             878                    0                  \n",
              "546 28               0                    0                  \n",
              "547 81             430                  645                  \n",
              "548 13               0                    0                  \n",
              "549 87            2602                 2602                  \n",
              "550 39             255                    0                  \n",
              "551  0               0                    0                  \n",
              "552 12               0                    0                  \n",
              "553 72             204                    0                  \n",
              "554 89            3385                 1693                  \n",
              "555 88               0                    0                  \n",
              "556 88             385                    0                  \n",
              "557 90             585                    0                  \n",
              "558 90               0                    0                  \n",
              "559 89             304                  608                  \n",
              "560 76             487                  609                  \n",
              "561  0               0                    0                  \n",
              "562 66            1054                  351                  \n",
              "563 88             792                    0                  \n",
              "564 44             529                  353                  \n",
              "565 75             343                 1715                  \n",
              "566 68             297                    0                  \n",
              "567 30             516                    0                  \n",
              "568 84             546                  273                  \n",
              "569 63             354                    0                  \n",
              "570  0               0                    0                  \n",
              "571  0               0                    0                  \n",
              "572 90               0                    0                  \n",
              "    cards_per_90_overall rank_in_league_top_attackers\n",
              "1   0.06                 290                         \n",
              "2   0.07                 196                         \n",
              "3   0.15                 144                         \n",
              "4   0.00                  69                         \n",
              "5   0.00                  -1                         \n",
              "6   0.17                 312                         \n",
              "7   0.00                  -1                         \n",
              "8   0.21                 124                         \n",
              "9   0.26                  38                         \n",
              "10  0.00                  -1                         \n",
              "11  0.19                 379                         \n",
              "12  0.45                 397                         \n",
              "13  0.30                 227                         \n",
              "14  0.16                 332                         \n",
              "15  0.10                 160                         \n",
              "16  0.00                 292                         \n",
              "17  0.14                 396                         \n",
              "18  0.00                  -1                         \n",
              "19  0.00                  -1                         \n",
              "20  0.27                 174                         \n",
              "21  0.00                  -1                         \n",
              "22  0.19                  62                         \n",
              "23  0.00                 128                         \n",
              "24  0.04                 372                         \n",
              "25  0.00                  -1                         \n",
              "26  0.09                 171                         \n",
              "27  0.00                  -1                         \n",
              "28  0.00                  -1                         \n",
              "29  0.07                  21                         \n",
              "30  0.00                  -1                         \n",
              "⋮   ⋮                    ⋮                           \n",
              "543 0.00                  -1                         \n",
              "544 0.00                  -1                         \n",
              "545 0.10                 325                         \n",
              "546 0.00                  -1                         \n",
              "547 0.21                 111                         \n",
              "548 0.00                  -1                         \n",
              "549 0.03                 263                         \n",
              "550 0.35                 106                         \n",
              "551 0.00                  -1                         \n",
              "552 0.00                  -1                         \n",
              "553 0.44                 194                         \n",
              "554 0.03                 152                         \n",
              "555 0.00                 321                         \n",
              "556 0.23                 125                         \n",
              "557 0.15                 374                         \n",
              "558 0.00                  -1                         \n",
              "559 0.30                  63                         \n",
              "560 0.18                 199                         \n",
              "561 0.00                  -1                         \n",
              "562 0.09                 132                         \n",
              "563 0.11                 148                         \n",
              "564 0.17                  15                         \n",
              "565 0.26                 162                         \n",
              "566 0.30                 161                         \n",
              "567 0.17                 113                         \n",
              "568 0.16                  80                         \n",
              "569 0.25                 402                         \n",
              "570 0.00                  -1                         \n",
              "571 0.00                  -1                         \n",
              "572 0.00                 391                         \n",
              "    rank_in_league_top_midfielders rank_in_league_top_defenders\n",
              "1   191                             80                         \n",
              "2   187                             -1                         \n",
              "3   233                             -1                         \n",
              "4     8                             -1                         \n",
              "5    -1                             -1                         \n",
              "6   160                             -1                         \n",
              "7    -1                             -1                         \n",
              "8    80                             -1                         \n",
              "9   412                             -1                         \n",
              "10   -1                             -1                         \n",
              "11  344                             -1                         \n",
              "12  155                            144                         \n",
              "13  228                             85                         \n",
              "14  359                             -1                         \n",
              "15  152                             -1                         \n",
              "16   20                             -1                         \n",
              "17  414                             94                         \n",
              "18   -1                             -1                         \n",
              "19   -1                             -1                         \n",
              "20  167                             -1                         \n",
              "21   -1                             -1                         \n",
              "22  176                             -1                         \n",
              "23   31                             -1                         \n",
              "24  365                            114                         \n",
              "25   -1                             -1                         \n",
              "26  373                             -1                         \n",
              "27   -1                             -1                         \n",
              "28   -1                             -1                         \n",
              "29   25                             -1                         \n",
              "30   -1                             -1                         \n",
              "⋮   ⋮                              ⋮                           \n",
              "543  -1                             -1                         \n",
              "544  -1                             -1                         \n",
              "545 352                             45                         \n",
              "546  -1                             -1                         \n",
              "547 106                             -1                         \n",
              "548  -1                             -1                         \n",
              "549 246                             88                         \n",
              "550 266                             -1                         \n",
              "551  -1                             -1                         \n",
              "552  -1                             -1                         \n",
              "553 384                              7                         \n",
              "554 201                              5                         \n",
              "555 404                             87                         \n",
              "556 300                             48                         \n",
              "557 370                            123                         \n",
              "558  -1                             -1                         \n",
              "559  92                             -1                         \n",
              "560  91                             -1                         \n",
              "561  -1                             -1                         \n",
              "562  36                             -1                         \n",
              "563 312                             43                         \n",
              "564  39                             -1                         \n",
              "565 214                             95                         \n",
              "566 329                             67                         \n",
              "567 290                             -1                         \n",
              "568  13                             -1                         \n",
              "569 293                             -1                         \n",
              "570  -1                             -1                         \n",
              "571  -1                             -1                         \n",
              "572 343                             81                         \n",
              "    rank_in_club_top_scorer\n",
              "1   20                     \n",
              "2   10                     \n",
              "3    3                     \n",
              "4    5                     \n",
              "5   31                     \n",
              "6   22                     \n",
              "7   22                     \n",
              "8    5                     \n",
              "9    4                     \n",
              "10  -1                     \n",
              "11  18                     \n",
              "12  20                     \n",
              "13  10                     \n",
              "14  26                     \n",
              "15  13                     \n",
              "16  17                     \n",
              "17  21                     \n",
              "18  -1                     \n",
              "19  15                     \n",
              "20  15                     \n",
              "21  17                     \n",
              "22   1                     \n",
              "23   8                     \n",
              "24  21                     \n",
              "25  21                     \n",
              "26   5                     \n",
              "27  -1                     \n",
              "28  17                     \n",
              "29   2                     \n",
              "30  16                     \n",
              "⋮   ⋮                      \n",
              "543 -1                     \n",
              "544 23                     \n",
              "545 19                     \n",
              "546 14                     \n",
              "547  1                     \n",
              "548 23                     \n",
              "549 14                     \n",
              "550 11                     \n",
              "551 -1                     \n",
              "552 28                     \n",
              "553 12                     \n",
              "554  6                     \n",
              "555 13                     \n",
              "556  6                     \n",
              "557 27                     \n",
              "558 19                     \n",
              "559  2                     \n",
              "560  8                     \n",
              "561 -1                     \n",
              "562  8                     \n",
              "563  4                     \n",
              "564  4                     \n",
              "565  7                     \n",
              "566  9                     \n",
              "567  8                     \n",
              "568  4                     \n",
              "569 17                     \n",
              "570 -1                     \n",
              "571 -1                     \n",
              "572 19                     "
            ]
          },
          "metadata": {}
        }
      ]
    },
    {
      "cell_type": "markdown",
      "source": [
        "Web上でアクセス出来るCSVファイルであれば、ダウンロードせずに直接URLから読み込むこともできます。"
      ],
      "metadata": {
        "id": "j3z3U5yejzzP"
      }
    },
    {
      "cell_type": "code",
      "source": [
        "read.csv(\"https://raw.githubusercontent.com/slt666666/basic_fri_2024/refs/heads/master/source/_static/data/england-premier-league-players-2018-to-2019-stats.csv\")"
      ],
      "metadata": {
        "collapsed": true,
        "colab": {
          "base_uri": "https://localhost:8080/",
          "height": 1000
        },
        "id": "IRI6wAEbj7oW",
        "outputId": "5fd7d638-56a5-4862-af66-05023a94bdc6"
      },
      "execution_count": 22,
      "outputs": [
        {
          "output_type": "display_data",
          "data": {
            "text/html": [
              "<table class=\"dataframe\">\n",
              "<caption>A data.frame: 572 × 47</caption>\n",
              "<thead>\n",
              "\t<tr><th scope=col>full_name</th><th scope=col>age</th><th scope=col>birthday</th><th scope=col>birthday_GMT</th><th scope=col>league</th><th scope=col>season</th><th scope=col>position</th><th scope=col>Current.Club</th><th scope=col>minutes_played_overall</th><th scope=col>minutes_played_home</th><th scope=col>⋯</th><th scope=col>conceded_per_90_overall</th><th scope=col>min_per_conceded_overall</th><th scope=col>min_per_match</th><th scope=col>min_per_card_overall</th><th scope=col>min_per_assist_overall</th><th scope=col>cards_per_90_overall</th><th scope=col>rank_in_league_top_attackers</th><th scope=col>rank_in_league_top_midfielders</th><th scope=col>rank_in_league_top_defenders</th><th scope=col>rank_in_club_top_scorer</th></tr>\n",
              "\t<tr><th scope=col>&lt;chr&gt;</th><th scope=col>&lt;int&gt;</th><th scope=col>&lt;int&gt;</th><th scope=col>&lt;chr&gt;</th><th scope=col>&lt;chr&gt;</th><th scope=col>&lt;chr&gt;</th><th scope=col>&lt;chr&gt;</th><th scope=col>&lt;chr&gt;</th><th scope=col>&lt;int&gt;</th><th scope=col>&lt;int&gt;</th><th scope=col>⋯</th><th scope=col>&lt;dbl&gt;</th><th scope=col>&lt;int&gt;</th><th scope=col>&lt;int&gt;</th><th scope=col>&lt;int&gt;</th><th scope=col>&lt;int&gt;</th><th scope=col>&lt;dbl&gt;</th><th scope=col>&lt;int&gt;</th><th scope=col>&lt;int&gt;</th><th scope=col>&lt;int&gt;</th><th scope=col>&lt;int&gt;</th></tr>\n",
              "</thead>\n",
              "<tbody>\n",
              "\t<tr><td>Aaron Cresswell                 </td><td>31</td><td>629683200</td><td>1989/12/15</td><td>Premier League</td><td>2018/2019</td><td>Defender  </td><td>West Ham United        </td><td>1589</td><td> 888</td><td>⋯</td><td>1.25</td><td> 72</td><td>79</td><td>1589</td><td>1589</td><td>0.06</td><td>290</td><td>191</td><td> 80</td><td>20</td></tr>\n",
              "\t<tr><td>Aaron Lennon                    </td><td>33</td><td>545529600</td><td>1987/04/16</td><td>Premier League</td><td>2018/2019</td><td>Midfielder</td><td>Burnley                </td><td>1217</td><td> 487</td><td>⋯</td><td>1.48</td><td> 61</td><td>76</td><td>1217</td><td>1217</td><td>0.07</td><td>196</td><td>187</td><td> -1</td><td>10</td></tr>\n",
              "\t<tr><td>Aaron Mooy                      </td><td>30</td><td>653356800</td><td>1990/09/15</td><td>Premier League</td><td>2018/2019</td><td>Midfielder</td><td>Huddersfield Town      </td><td>2327</td><td>1190</td><td>⋯</td><td>1.78</td><td> 51</td><td>80</td><td> 582</td><td>2327</td><td>0.15</td><td>144</td><td>233</td><td> -1</td><td> 3</td></tr>\n",
              "\t<tr><td>Aaron Ramsey                    </td><td>30</td><td>662169600</td><td>1990/12/26</td><td>Premier League</td><td>2018/2019</td><td>Midfielder</td><td>Arsenal                </td><td>1327</td><td> 689</td><td>⋯</td><td>0.81</td><td>111</td><td>47</td><td>   0</td><td> 221</td><td>0.00</td><td> 69</td><td>  8</td><td> -1</td><td> 5</td></tr>\n",
              "\t<tr><td>Aaron Rowe                      </td><td>20</td><td>968284800</td><td>2000/09/07</td><td>Premier League</td><td>2018/2019</td><td>Forward   </td><td>Huddersfield Town      </td><td>  69</td><td>  14</td><td>⋯</td><td>1.30</td><td> 69</td><td>35</td><td>   0</td><td>   0</td><td>0.00</td><td> -1</td><td> -1</td><td> -1</td><td>31</td></tr>\n",
              "\t<tr><td>Aaron Wan-Bissaka               </td><td>23</td><td>880502400</td><td>1997/11/26</td><td>Premier League</td><td>2018/2019</td><td>Midfielder</td><td>Crystal Palace         </td><td>3135</td><td>1605</td><td>⋯</td><td>1.18</td><td> 76</td><td>90</td><td> 523</td><td>1045</td><td>0.17</td><td>312</td><td>160</td><td> -1</td><td>22</td></tr>\n",
              "\t<tr><td>Abdelhamid Sabiri               </td><td>24</td><td>849139200</td><td>1996/11/28</td><td>Premier League</td><td>2018/2019</td><td>Midfielder</td><td>Huddersfield Town      </td><td>  49</td><td>   0</td><td>⋯</td><td>5.51</td><td> 16</td><td>25</td><td>   0</td><td>   0</td><td>0.00</td><td> -1</td><td> -1</td><td> -1</td><td>22</td></tr>\n",
              "\t<tr><td>Abdoulaye Doucouré              </td><td>28</td><td>725846400</td><td>1993/01/01</td><td>Premier League</td><td>2018/2019</td><td>Midfielder</td><td>Watford                </td><td>3062</td><td>1566</td><td>⋯</td><td>1.59</td><td> 57</td><td>87</td><td> 437</td><td> 510</td><td>0.21</td><td>124</td><td> 80</td><td> -1</td><td> 5</td></tr>\n",
              "\t<tr><td>Aboubakar Kamara                </td><td>26</td><td>794534400</td><td>1995/03/07</td><td>Premier League</td><td>2018/2019</td><td>Forward   </td><td>Fulham                 </td><td> 687</td><td> 468</td><td>⋯</td><td>2.10</td><td> 43</td><td>53</td><td> 344</td><td>   0</td><td>0.26</td><td> 38</td><td>412</td><td> -1</td><td> 4</td></tr>\n",
              "\t<tr><td>Adalberto Peñaranda Maestre     </td><td>23</td><td>865036800</td><td>1997/05/31</td><td>Premier League</td><td>2018/2019</td><td>Forward   </td><td>Watford                </td><td>   0</td><td>   0</td><td>⋯</td><td>0.00</td><td>  0</td><td> 0</td><td>   0</td><td>   0</td><td>0.00</td><td> -1</td><td> -1</td><td> -1</td><td>-1</td></tr>\n",
              "\t<tr><td>Adam David Lallana              </td><td>32</td><td>579225600</td><td>1988/05/10</td><td>Premier League</td><td>2018/2019</td><td>Midfielder</td><td>Liverpool              </td><td> 465</td><td> 189</td><td>⋯</td><td>0.39</td><td>233</td><td>36</td><td> 465</td><td>   0</td><td>0.19</td><td>379</td><td>344</td><td> -1</td><td>18</td></tr>\n",
              "\t<tr><td>Adam Masina                     </td><td>27</td><td>757468800</td><td>1994/01/02</td><td>Premier League</td><td>2018/2019</td><td>Defender  </td><td>Watford                </td><td>1003</td><td> 463</td><td>⋯</td><td>1.70</td><td> 53</td><td>72</td><td> 201</td><td>1003</td><td>0.45</td><td>397</td><td>155</td><td>144</td><td>20</td></tr>\n",
              "\t<tr><td>Adam Smith                      </td><td>29</td><td>672883200</td><td>1991/04/29</td><td>Premier League</td><td>2018/2019</td><td>Defender  </td><td>AFC Bournemouth        </td><td>2073</td><td>1051</td><td>⋯</td><td>1.30</td><td> 69</td><td>83</td><td> 296</td><td>2073</td><td>0.30</td><td>227</td><td>228</td><td> 85</td><td>10</td></tr>\n",
              "\t<tr><td>Adama Diakhaby                  </td><td>24</td><td>836524800</td><td>1996/07/05</td><td>Premier League</td><td>2018/2019</td><td>Forward   </td><td>Huddersfield Town      </td><td> 551</td><td> 345</td><td>⋯</td><td>2.61</td><td> 34</td><td>46</td><td> 551</td><td>   0</td><td>0.16</td><td>332</td><td>359</td><td> -1</td><td>26</td></tr>\n",
              "\t<tr><td>Adama Traoré Diarra             </td><td>25</td><td>822528000</td><td>1996/01/25</td><td>Premier League</td><td>2018/2019</td><td>Midfielder</td><td>Wolverhampton Wanderers</td><td> 890</td><td> 315</td><td>⋯</td><td>1.11</td><td> 81</td><td>31</td><td> 890</td><td> 890</td><td>0.10</td><td>160</td><td>152</td><td> -1</td><td>13</td></tr>\n",
              "\t<tr><td>Ademola Lookman                 </td><td>23</td><td>877305600</td><td>1997/10/20</td><td>Premier League</td><td>2018/2019</td><td>Forward   </td><td>Everton                </td><td> 601</td><td> 334</td><td>⋯</td><td>1.05</td><td> 86</td><td>29</td><td>   0</td><td> 301</td><td>0.00</td><td>292</td><td> 20</td><td> -1</td><td>17</td></tr>\n",
              "\t<tr><td>Adrian Mariappa                 </td><td>34</td><td>528681600</td><td>1986/10/03</td><td>Premier League</td><td>2018/2019</td><td>Defender  </td><td>Watford                </td><td>1921</td><td> 841</td><td>⋯</td><td>1.36</td><td> 66</td><td>74</td><td> 640</td><td>   0</td><td>0.14</td><td>396</td><td>414</td><td> 94</td><td>21</td></tr>\n",
              "\t<tr><td>Adrián San Miguel del Castillo  </td><td>34</td><td>536630400</td><td>1987/01/03</td><td>Premier League</td><td>2018/2019</td><td>Goalkeeper</td><td>West Ham United        </td><td>   0</td><td>   0</td><td>⋯</td><td>0.00</td><td>  0</td><td> 0</td><td>   0</td><td>   0</td><td>0.00</td><td> -1</td><td> -1</td><td> -1</td><td>-1</td></tr>\n",
              "\t<tr><td>Adrien Sebastian Perruchet Silva</td><td>32</td><td>605923200</td><td>1989/03/15</td><td>Premier League</td><td>2018/2019</td><td>Midfielder</td><td>Leicester City         </td><td>  88</td><td>   8</td><td>⋯</td><td>1.02</td><td> 88</td><td>44</td><td>   0</td><td>   0</td><td>0.00</td><td> -1</td><td> -1</td><td> -1</td><td>15</td></tr>\n",
              "\t<tr><td>Ainsley Maitland-Niles          </td><td>23</td><td>872812800</td><td>1997/08/29</td><td>Premier League</td><td>2018/2019</td><td>Midfielder</td><td>Arsenal                </td><td> 985</td><td> 462</td><td>⋯</td><td>1.46</td><td> 62</td><td>62</td><td> 328</td><td> 985</td><td>0.27</td><td>174</td><td>167</td><td> -1</td><td>15</td></tr>\n",
              "\t<tr><td>Alberto Moreno                  </td><td>28</td><td>710294400</td><td>1992/07/05</td><td>Premier League</td><td>2018/2019</td><td>Defender  </td><td>Liverpool              </td><td> 155</td><td>  90</td><td>⋯</td><td>1.16</td><td> 78</td><td>78</td><td>   0</td><td>   0</td><td>0.00</td><td> -1</td><td> -1</td><td> -1</td><td>17</td></tr>\n",
              "\t<tr><td>Aleksandar Mitrović             </td><td>26</td><td>779673600</td><td>1994/09/16</td><td>Premier League</td><td>2018/2019</td><td>Forward   </td><td>Fulham                 </td><td>3282</td><td>1616</td><td>⋯</td><td>2.03</td><td> 44</td><td>89</td><td> 469</td><td>1094</td><td>0.19</td><td> 62</td><td>176</td><td> -1</td><td> 1</td></tr>\n",
              "\t<tr><td>Alex Iwobi                      </td><td>24</td><td>831081600</td><td>1996/05/03</td><td>Premier League</td><td>2018/2019</td><td>Forward   </td><td>Arsenal                </td><td>1972</td><td> 742</td><td>⋯</td><td>1.41</td><td> 64</td><td>56</td><td>   0</td><td> 329</td><td>0.00</td><td>128</td><td> 31</td><td> -1</td><td> 8</td></tr>\n",
              "\t<tr><td>Alex McCarthy                   </td><td>31</td><td>628646400</td><td>1989/12/03</td><td>Premier League</td><td>2018/2019</td><td>Goalkeeper</td><td>Southampton            </td><td>2250</td><td>1170</td><td>⋯</td><td>1.48</td><td> 61</td><td>90</td><td>2250</td><td>   0</td><td>0.04</td><td>372</td><td>365</td><td>114</td><td>21</td></tr>\n",
              "\t<tr><td>Alex Oxlade-Chamberlain         </td><td>27</td><td>745372800</td><td>1993/08/15</td><td>Premier League</td><td>2018/2019</td><td>Midfielder</td><td>Liverpool              </td><td>  19</td><td>  19</td><td>⋯</td><td>0.00</td><td>  0</td><td>10</td><td>   0</td><td>   0</td><td>0.00</td><td> -1</td><td> -1</td><td> -1</td><td>21</td></tr>\n",
              "\t<tr><td>Alex Pritchard                  </td><td>27</td><td>736387200</td><td>1993/05/03</td><td>Premier League</td><td>2018/2019</td><td>Midfielder</td><td>Huddersfield Town      </td><td>2092</td><td> 992</td><td>⋯</td><td>1.68</td><td> 54</td><td>70</td><td>1046</td><td>   0</td><td>0.09</td><td>171</td><td>373</td><td> -1</td><td> 5</td></tr>\n",
              "\t<tr><td>Alex Smithies                   </td><td>31</td><td>636595200</td><td>1990/03/05</td><td>Premier League</td><td>2018/2019</td><td>Goalkeeper</td><td>Cardiff City           </td><td>   0</td><td>   0</td><td>⋯</td><td>0.00</td><td>  0</td><td> 0</td><td>   0</td><td>   0</td><td>0.00</td><td> -1</td><td> -1</td><td> -1</td><td>-1</td></tr>\n",
              "\t<tr><td>Alexander Sørloth               </td><td>25</td><td>818121600</td><td>1995/12/05</td><td>Premier League</td><td>2018/2019</td><td>Forward   </td><td>Crystal Palace         </td><td> 173</td><td> 121</td><td>⋯</td><td>0.52</td><td>173</td><td>14</td><td>   0</td><td>   0</td><td>0.00</td><td> -1</td><td> -1</td><td> -1</td><td>17</td></tr>\n",
              "\t<tr><td>Alexandre Lacazette             </td><td>29</td><td>675388800</td><td>1991/05/28</td><td>Premier League</td><td>2018/2019</td><td>Forward   </td><td>Arsenal                </td><td>2503</td><td>1403</td><td>⋯</td><td>1.01</td><td> 89</td><td>72</td><td>1252</td><td> 313</td><td>0.07</td><td> 21</td><td> 25</td><td> -1</td><td> 2</td></tr>\n",
              "\t<tr><td>Alexandre Nascimento Costa Silva</td><td>24</td><td>858470400</td><td>1997/03/16</td><td>Premier League</td><td>2018/2019</td><td>Forward   </td><td>West Ham United        </td><td>  17</td><td>   0</td><td>⋯</td><td>0.00</td><td>  0</td><td>17</td><td>   0</td><td>   0</td><td>0.00</td><td> -1</td><td> -1</td><td> -1</td><td>16</td></tr>\n",
              "\t<tr><td>⋮</td><td>⋮</td><td>⋮</td><td>⋮</td><td>⋮</td><td>⋮</td><td>⋮</td><td>⋮</td><td>⋮</td><td>⋮</td><td>⋱</td><td>⋮</td><td>⋮</td><td>⋮</td><td>⋮</td><td>⋮</td><td>⋮</td><td>⋮</td><td>⋮</td><td>⋮</td><td>⋮</td></tr>\n",
              "\t<tr><td>Tyreke Johnson              </td><td>22</td><td>910051200</td><td>1998/11/03</td><td>Premier League</td><td>2018/2019</td><td>Defender  </td><td>Southampton            </td><td>   0</td><td>   0</td><td>⋯</td><td>0.00</td><td>  0</td><td> 0</td><td>   0</td><td>   0</td><td>0.00</td><td> -1</td><td> -1</td><td> -1</td><td>-1</td></tr>\n",
              "\t<tr><td>Tyrone Mings                </td><td>28</td><td>731980800</td><td>1993/03/13</td><td>Premier League</td><td>2018/2019</td><td>Defender  </td><td>AFC Bournemouth        </td><td> 141</td><td>   7</td><td>⋯</td><td>2.55</td><td> 35</td><td>28</td><td>   0</td><td>   0</td><td>0.00</td><td> -1</td><td> -1</td><td> -1</td><td>23</td></tr>\n",
              "\t<tr><td>Vicente Guaita              </td><td>34</td><td>537235200</td><td>1987/01/10</td><td>Premier League</td><td>2018/2019</td><td>Goalkeeper</td><td>Crystal Palace         </td><td>1755</td><td>1035</td><td>⋯</td><td>1.08</td><td> 84</td><td>88</td><td> 878</td><td>   0</td><td>0.10</td><td>325</td><td>352</td><td> 45</td><td>19</td></tr>\n",
              "\t<tr><td>Vicente Iborra De La Fuente </td><td>33</td><td>569289600</td><td>1988/01/16</td><td>Premier League</td><td>2018/2019</td><td>Midfielder</td><td>Leicester City         </td><td> 226</td><td> 152</td><td>⋯</td><td>1.59</td><td> 57</td><td>28</td><td>   0</td><td>   0</td><td>0.00</td><td> -1</td><td> -1</td><td> -1</td><td>14</td></tr>\n",
              "\t<tr><td>Víctor Camarasa             </td><td>26</td><td>770083200</td><td>1994/05/28</td><td>Premier League</td><td>2018/2019</td><td>Midfielder</td><td>Cardiff City           </td><td>2579</td><td>1267</td><td>⋯</td><td>1.68</td><td> 54</td><td>81</td><td> 430</td><td> 645</td><td>0.21</td><td>111</td><td>106</td><td> -1</td><td> 1</td></tr>\n",
              "\t<tr><td>Victor Moses                </td><td>30</td><td>660960000</td><td>1990/12/12</td><td>Premier League</td><td>2018/2019</td><td>Midfielder</td><td>Chelsea                </td><td>  26</td><td>  17</td><td>⋯</td><td>3.46</td><td> 26</td><td>13</td><td>   0</td><td>   0</td><td>0.00</td><td> -1</td><td> -1</td><td> -1</td><td>23</td></tr>\n",
              "\t<tr><td>Victor Nilsson Lindelöf     </td><td>26</td><td>774403200</td><td>1994/07/17</td><td>Premier League</td><td>2018/2019</td><td>Defender  </td><td>Manchester United      </td><td>2602</td><td>1112</td><td>⋯</td><td>1.31</td><td> 68</td><td>87</td><td>2602</td><td>2602</td><td>0.03</td><td>263</td><td>246</td><td> 88</td><td>14</td></tr>\n",
              "\t<tr><td>Victor Wanyama              </td><td>29</td><td>677808000</td><td>1991/06/25</td><td>Premier League</td><td>2018/2019</td><td>Midfielder</td><td>Tottenham Hotspur      </td><td> 509</td><td> 302</td><td>⋯</td><td>0.53</td><td>170</td><td>39</td><td> 255</td><td>   0</td><td>0.35</td><td>106</td><td>266</td><td> -1</td><td>11</td></tr>\n",
              "\t<tr><td><span style=white-space:pre-wrap>Viktor Gyökeres             </span></td><td>22</td><td>896918400</td><td>1998/06/04</td><td>Premier League</td><td>2018/2019</td><td><span style=white-space:pre-wrap>Forward   </span></td><td>Brighton &amp; Hove Albion </td><td><span style=white-space:pre-wrap>   0</span></td><td><span style=white-space:pre-wrap>   0</span></td><td>⋯</td><td>0.00</td><td><span style=white-space:pre-wrap>  0</span></td><td> 0</td><td><span style=white-space:pre-wrap>   0</span></td><td><span style=white-space:pre-wrap>   0</span></td><td>0.00</td><td> -1</td><td> -1</td><td> -1</td><td>-1</td></tr>\n",
              "\t<tr><td>Vincent Janssen             </td><td>26</td><td>771638400</td><td>1994/06/15</td><td>Premier League</td><td>2018/2019</td><td>Forward   </td><td>Tottenham Hotspur      </td><td>  36</td><td>  36</td><td>⋯</td><td>0.00</td><td>  0</td><td>12</td><td>   0</td><td>   0</td><td>0.00</td><td> -1</td><td> -1</td><td> -1</td><td>28</td></tr>\n",
              "\t<tr><td>Vincent Kompany             </td><td>34</td><td>513475200</td><td>1986/04/10</td><td>Premier League</td><td>2018/2019</td><td>Defender  </td><td>Manchester City        </td><td>1223</td><td> 561</td><td>⋯</td><td>0.52</td><td>175</td><td>72</td><td> 204</td><td>   0</td><td>0.44</td><td>194</td><td>384</td><td>  7</td><td>12</td></tr>\n",
              "\t<tr><td>Virgil van Dijk             </td><td>29</td><td>678931200</td><td>1991/07/08</td><td>Premier League</td><td>2018/2019</td><td>Defender  </td><td>Liverpool              </td><td>3385</td><td>1675</td><td>⋯</td><td>0.51</td><td>178</td><td>89</td><td>3385</td><td>1693</td><td>0.03</td><td>152</td><td>201</td><td>  5</td><td> 6</td></tr>\n",
              "\t<tr><td>Wayne Hennessey             </td><td>34</td><td>538444800</td><td>1987/01/24</td><td>Premier League</td><td>2018/2019</td><td>Goalkeeper</td><td>Crystal Palace         </td><td>1575</td><td> 675</td><td>⋯</td><td>1.31</td><td> 68</td><td>88</td><td>   0</td><td>   0</td><td>0.00</td><td>321</td><td>404</td><td> 87</td><td>13</td></tr>\n",
              "\t<tr><td>Wes Morgan                  </td><td>37</td><td>443491200</td><td>1984/01/21</td><td>Premier League</td><td>2018/2019</td><td>Defender  </td><td>Leicester City         </td><td>1926</td><td> 783</td><td>⋯</td><td>1.12</td><td> 80</td><td>88</td><td> 385</td><td>   0</td><td>0.23</td><td>125</td><td>300</td><td> 48</td><td> 6</td></tr>\n",
              "\t<tr><td>Wesley Hoedt                </td><td>27</td><td>762912000</td><td>1994/03/06</td><td>Premier League</td><td>2018/2019</td><td>Defender  </td><td>Southampton            </td><td>1170</td><td> 540</td><td>⋯</td><td>1.54</td><td> 59</td><td>90</td><td> 585</td><td>   0</td><td>0.15</td><td>374</td><td>370</td><td>123</td><td>27</td></tr>\n",
              "\t<tr><td>Wilfredo Daniel Caballero   </td><td>39</td><td>370483200</td><td>1981/09/28</td><td>Premier League</td><td>2018/2019</td><td>Goalkeeper</td><td>Chelsea                </td><td> 180</td><td>  90</td><td>⋯</td><td>0.00</td><td>  0</td><td>90</td><td>   0</td><td>   0</td><td>0.00</td><td> -1</td><td> -1</td><td> -1</td><td>19</td></tr>\n",
              "\t<tr><td>Wilfried Zaha               </td><td>28</td><td>721353600</td><td>1992/11/10</td><td>Premier League</td><td>2018/2019</td><td>Midfielder</td><td>Crystal Palace         </td><td>3041</td><td>1347</td><td>⋯</td><td>1.33</td><td> 68</td><td>89</td><td> 304</td><td> 608</td><td>0.30</td><td> 63</td><td> 92</td><td> -1</td><td> 2</td></tr>\n",
              "\t<tr><td>Will Hughes                 </td><td>25</td><td>798076800</td><td>1995/04/17</td><td>Premier League</td><td>2018/2019</td><td>Midfielder</td><td>Watford                </td><td>2436</td><td>1251</td><td>⋯</td><td>1.44</td><td> 62</td><td>76</td><td> 487</td><td> 609</td><td>0.18</td><td>199</td><td> 91</td><td> -1</td><td> 8</td></tr>\n",
              "\t<tr><td>Will Norris                 </td><td>27</td><td>745113600</td><td>1993/08/12</td><td>Premier League</td><td>2018/2019</td><td>Goalkeeper</td><td>Wolverhampton Wanderers</td><td>   0</td><td>   0</td><td>⋯</td><td>0.00</td><td>  0</td><td> 0</td><td>   0</td><td>   0</td><td>0.00</td><td> -1</td><td> -1</td><td> -1</td><td>-1</td></tr>\n",
              "\t<tr><td>Willian                     </td><td>32</td><td>587088000</td><td>1988/08/09</td><td>Premier League</td><td>2018/2019</td><td>Forward   </td><td>Chelsea                </td><td>2108</td><td> 833</td><td>⋯</td><td>0.98</td><td> 92</td><td>66</td><td>1054</td><td> 351</td><td>0.09</td><td>132</td><td> 36</td><td> -1</td><td> 8</td></tr>\n",
              "\t<tr><td>Willy Boly                  </td><td>30</td><td>665539200</td><td>1991/02/03</td><td>Premier League</td><td>2018/2019</td><td>Defender  </td><td>Wolverhampton Wanderers</td><td>3169</td><td>1530</td><td>⋯</td><td>1.08</td><td> 83</td><td>88</td><td> 792</td><td>   0</td><td>0.11</td><td>148</td><td>312</td><td> 43</td><td> 4</td></tr>\n",
              "\t<tr><td>Xherdan Shaqiri             </td><td>29</td><td>687052800</td><td>1991/10/10</td><td>Premier League</td><td>2018/2019</td><td>Midfielder</td><td>Liverpool              </td><td>1058</td><td> 538</td><td>⋯</td><td>0.43</td><td>212</td><td>44</td><td> 529</td><td> 353</td><td>0.17</td><td> 15</td><td> 39</td><td> -1</td><td> 4</td></tr>\n",
              "\t<tr><td>Yann Valery                 </td><td>22</td><td>919641600</td><td>1999/02/22</td><td>Premier League</td><td>2018/2019</td><td>Defender  </td><td>Southampton            </td><td>1715</td><td>1070</td><td>⋯</td><td>1.36</td><td> 66</td><td>75</td><td> 343</td><td>1715</td><td>0.26</td><td>162</td><td>214</td><td> 95</td><td> 7</td></tr>\n",
              "\t<tr><td>Yerry Fernando Mina González</td><td>26</td><td>780278400</td><td>1994/09/23</td><td>Premier League</td><td>2018/2019</td><td>Defender  </td><td>Everton                </td><td> 890</td><td> 360</td><td>⋯</td><td>1.21</td><td> 74</td><td>68</td><td> 297</td><td>   0</td><td>0.30</td><td>161</td><td>329</td><td> 67</td><td> 9</td></tr>\n",
              "\t<tr><td>Yoshinori Muto              </td><td>28</td><td>711158400</td><td>1992/07/15</td><td>Premier League</td><td>2018/2019</td><td>Forward   </td><td>Newcastle United       </td><td> 516</td><td> 180</td><td>⋯</td><td>1.74</td><td> 52</td><td>30</td><td> 516</td><td>   0</td><td>0.17</td><td>113</td><td>290</td><td> -1</td><td> 8</td></tr>\n",
              "\t<tr><td>Youri Tielemans             </td><td>23</td><td>862963200</td><td>1997/05/07</td><td>Premier League</td><td>2018/2019</td><td>Midfielder</td><td>Leicester City         </td><td>1092</td><td> 575</td><td>⋯</td><td>1.07</td><td> 84</td><td>84</td><td> 546</td><td> 273</td><td>0.16</td><td> 80</td><td> 13</td><td> -1</td><td> 4</td></tr>\n",
              "\t<tr><td><span style=white-space:pre-wrap>Yves Bissouma               </span></td><td>24</td><td>841363200</td><td>1996/08/30</td><td>Premier League</td><td>2018/2019</td><td>Midfielder</td><td>Brighton &amp; Hove Albion </td><td>1769</td><td> 747</td><td>⋯</td><td>1.53</td><td> 59</td><td>63</td><td> 354</td><td><span style=white-space:pre-wrap>   0</span></td><td>0.25</td><td>402</td><td>293</td><td> -1</td><td>17</td></tr>\n",
              "\t<tr><td>Zechariah Medley            </td><td>20</td><td>962928000</td><td>2000/07/07</td><td>Premier League</td><td>2018/2019</td><td>Defender  </td><td>Arsenal                </td><td>   0</td><td>   0</td><td>⋯</td><td>0.00</td><td>  0</td><td> 0</td><td>   0</td><td>   0</td><td>0.00</td><td> -1</td><td> -1</td><td> -1</td><td>-1</td></tr>\n",
              "\t<tr><td>Zeze Steven Sessegnon       </td><td>20</td><td>958608000</td><td>2000/05/18</td><td>Premier League</td><td>2018/2019</td><td>Defender  </td><td>Fulham                 </td><td>   0</td><td>   0</td><td>⋯</td><td>0.00</td><td>  0</td><td> 0</td><td>   0</td><td>   0</td><td>0.00</td><td> -1</td><td> -1</td><td> -1</td><td>-1</td></tr>\n",
              "\t<tr><td>Łukasz Fabiański            </td><td>35</td><td>482630400</td><td>1985/04/18</td><td>Premier League</td><td>2018/2019</td><td>Goalkeeper</td><td>West Ham United        </td><td>3420</td><td>1710</td><td>⋯</td><td>1.26</td><td> 71</td><td>90</td><td>   0</td><td>   0</td><td>0.00</td><td>391</td><td>343</td><td> 81</td><td>19</td></tr>\n",
              "</tbody>\n",
              "</table>\n"
            ],
            "text/markdown": "\nA data.frame: 572 × 47\n\n| full_name &lt;chr&gt; | age &lt;int&gt; | birthday &lt;int&gt; | birthday_GMT &lt;chr&gt; | league &lt;chr&gt; | season &lt;chr&gt; | position &lt;chr&gt; | Current.Club &lt;chr&gt; | minutes_played_overall &lt;int&gt; | minutes_played_home &lt;int&gt; | ⋯ ⋯ | conceded_per_90_overall &lt;dbl&gt; | min_per_conceded_overall &lt;int&gt; | min_per_match &lt;int&gt; | min_per_card_overall &lt;int&gt; | min_per_assist_overall &lt;int&gt; | cards_per_90_overall &lt;dbl&gt; | rank_in_league_top_attackers &lt;int&gt; | rank_in_league_top_midfielders &lt;int&gt; | rank_in_league_top_defenders &lt;int&gt; | rank_in_club_top_scorer &lt;int&gt; |\n|---|---|---|---|---|---|---|---|---|---|---|---|---|---|---|---|---|---|---|---|---|\n| Aaron Cresswell                  | 31 | 629683200 | 1989/12/15 | Premier League | 2018/2019 | Defender   | West Ham United         | 1589 |  888 | ⋯ | 1.25 |  72 | 79 | 1589 | 1589 | 0.06 | 290 | 191 |  80 | 20 |\n| Aaron Lennon                     | 33 | 545529600 | 1987/04/16 | Premier League | 2018/2019 | Midfielder | Burnley                 | 1217 |  487 | ⋯ | 1.48 |  61 | 76 | 1217 | 1217 | 0.07 | 196 | 187 |  -1 | 10 |\n| Aaron Mooy                       | 30 | 653356800 | 1990/09/15 | Premier League | 2018/2019 | Midfielder | Huddersfield Town       | 2327 | 1190 | ⋯ | 1.78 |  51 | 80 |  582 | 2327 | 0.15 | 144 | 233 |  -1 |  3 |\n| Aaron Ramsey                     | 30 | 662169600 | 1990/12/26 | Premier League | 2018/2019 | Midfielder | Arsenal                 | 1327 |  689 | ⋯ | 0.81 | 111 | 47 |    0 |  221 | 0.00 |  69 |   8 |  -1 |  5 |\n| Aaron Rowe                       | 20 | 968284800 | 2000/09/07 | Premier League | 2018/2019 | Forward    | Huddersfield Town       |   69 |   14 | ⋯ | 1.30 |  69 | 35 |    0 |    0 | 0.00 |  -1 |  -1 |  -1 | 31 |\n| Aaron Wan-Bissaka                | 23 | 880502400 | 1997/11/26 | Premier League | 2018/2019 | Midfielder | Crystal Palace          | 3135 | 1605 | ⋯ | 1.18 |  76 | 90 |  523 | 1045 | 0.17 | 312 | 160 |  -1 | 22 |\n| Abdelhamid Sabiri                | 24 | 849139200 | 1996/11/28 | Premier League | 2018/2019 | Midfielder | Huddersfield Town       |   49 |    0 | ⋯ | 5.51 |  16 | 25 |    0 |    0 | 0.00 |  -1 |  -1 |  -1 | 22 |\n| Abdoulaye Doucouré               | 28 | 725846400 | 1993/01/01 | Premier League | 2018/2019 | Midfielder | Watford                 | 3062 | 1566 | ⋯ | 1.59 |  57 | 87 |  437 |  510 | 0.21 | 124 |  80 |  -1 |  5 |\n| Aboubakar Kamara                 | 26 | 794534400 | 1995/03/07 | Premier League | 2018/2019 | Forward    | Fulham                  |  687 |  468 | ⋯ | 2.10 |  43 | 53 |  344 |    0 | 0.26 |  38 | 412 |  -1 |  4 |\n| Adalberto Peñaranda Maestre      | 23 | 865036800 | 1997/05/31 | Premier League | 2018/2019 | Forward    | Watford                 |    0 |    0 | ⋯ | 0.00 |   0 |  0 |    0 |    0 | 0.00 |  -1 |  -1 |  -1 | -1 |\n| Adam David Lallana               | 32 | 579225600 | 1988/05/10 | Premier League | 2018/2019 | Midfielder | Liverpool               |  465 |  189 | ⋯ | 0.39 | 233 | 36 |  465 |    0 | 0.19 | 379 | 344 |  -1 | 18 |\n| Adam Masina                      | 27 | 757468800 | 1994/01/02 | Premier League | 2018/2019 | Defender   | Watford                 | 1003 |  463 | ⋯ | 1.70 |  53 | 72 |  201 | 1003 | 0.45 | 397 | 155 | 144 | 20 |\n| Adam Smith                       | 29 | 672883200 | 1991/04/29 | Premier League | 2018/2019 | Defender   | AFC Bournemouth         | 2073 | 1051 | ⋯ | 1.30 |  69 | 83 |  296 | 2073 | 0.30 | 227 | 228 |  85 | 10 |\n| Adama Diakhaby                   | 24 | 836524800 | 1996/07/05 | Premier League | 2018/2019 | Forward    | Huddersfield Town       |  551 |  345 | ⋯ | 2.61 |  34 | 46 |  551 |    0 | 0.16 | 332 | 359 |  -1 | 26 |\n| Adama Traoré Diarra              | 25 | 822528000 | 1996/01/25 | Premier League | 2018/2019 | Midfielder | Wolverhampton Wanderers |  890 |  315 | ⋯ | 1.11 |  81 | 31 |  890 |  890 | 0.10 | 160 | 152 |  -1 | 13 |\n| Ademola Lookman                  | 23 | 877305600 | 1997/10/20 | Premier League | 2018/2019 | Forward    | Everton                 |  601 |  334 | ⋯ | 1.05 |  86 | 29 |    0 |  301 | 0.00 | 292 |  20 |  -1 | 17 |\n| Adrian Mariappa                  | 34 | 528681600 | 1986/10/03 | Premier League | 2018/2019 | Defender   | Watford                 | 1921 |  841 | ⋯ | 1.36 |  66 | 74 |  640 |    0 | 0.14 | 396 | 414 |  94 | 21 |\n| Adrián San Miguel del Castillo   | 34 | 536630400 | 1987/01/03 | Premier League | 2018/2019 | Goalkeeper | West Ham United         |    0 |    0 | ⋯ | 0.00 |   0 |  0 |    0 |    0 | 0.00 |  -1 |  -1 |  -1 | -1 |\n| Adrien Sebastian Perruchet Silva | 32 | 605923200 | 1989/03/15 | Premier League | 2018/2019 | Midfielder | Leicester City          |   88 |    8 | ⋯ | 1.02 |  88 | 44 |    0 |    0 | 0.00 |  -1 |  -1 |  -1 | 15 |\n| Ainsley Maitland-Niles           | 23 | 872812800 | 1997/08/29 | Premier League | 2018/2019 | Midfielder | Arsenal                 |  985 |  462 | ⋯ | 1.46 |  62 | 62 |  328 |  985 | 0.27 | 174 | 167 |  -1 | 15 |\n| Alberto Moreno                   | 28 | 710294400 | 1992/07/05 | Premier League | 2018/2019 | Defender   | Liverpool               |  155 |   90 | ⋯ | 1.16 |  78 | 78 |    0 |    0 | 0.00 |  -1 |  -1 |  -1 | 17 |\n| Aleksandar Mitrović              | 26 | 779673600 | 1994/09/16 | Premier League | 2018/2019 | Forward    | Fulham                  | 3282 | 1616 | ⋯ | 2.03 |  44 | 89 |  469 | 1094 | 0.19 |  62 | 176 |  -1 |  1 |\n| Alex Iwobi                       | 24 | 831081600 | 1996/05/03 | Premier League | 2018/2019 | Forward    | Arsenal                 | 1972 |  742 | ⋯ | 1.41 |  64 | 56 |    0 |  329 | 0.00 | 128 |  31 |  -1 |  8 |\n| Alex McCarthy                    | 31 | 628646400 | 1989/12/03 | Premier League | 2018/2019 | Goalkeeper | Southampton             | 2250 | 1170 | ⋯ | 1.48 |  61 | 90 | 2250 |    0 | 0.04 | 372 | 365 | 114 | 21 |\n| Alex Oxlade-Chamberlain          | 27 | 745372800 | 1993/08/15 | Premier League | 2018/2019 | Midfielder | Liverpool               |   19 |   19 | ⋯ | 0.00 |   0 | 10 |    0 |    0 | 0.00 |  -1 |  -1 |  -1 | 21 |\n| Alex Pritchard                   | 27 | 736387200 | 1993/05/03 | Premier League | 2018/2019 | Midfielder | Huddersfield Town       | 2092 |  992 | ⋯ | 1.68 |  54 | 70 | 1046 |    0 | 0.09 | 171 | 373 |  -1 |  5 |\n| Alex Smithies                    | 31 | 636595200 | 1990/03/05 | Premier League | 2018/2019 | Goalkeeper | Cardiff City            |    0 |    0 | ⋯ | 0.00 |   0 |  0 |    0 |    0 | 0.00 |  -1 |  -1 |  -1 | -1 |\n| Alexander Sørloth                | 25 | 818121600 | 1995/12/05 | Premier League | 2018/2019 | Forward    | Crystal Palace          |  173 |  121 | ⋯ | 0.52 | 173 | 14 |    0 |    0 | 0.00 |  -1 |  -1 |  -1 | 17 |\n| Alexandre Lacazette              | 29 | 675388800 | 1991/05/28 | Premier League | 2018/2019 | Forward    | Arsenal                 | 2503 | 1403 | ⋯ | 1.01 |  89 | 72 | 1252 |  313 | 0.07 |  21 |  25 |  -1 |  2 |\n| Alexandre Nascimento Costa Silva | 24 | 858470400 | 1997/03/16 | Premier League | 2018/2019 | Forward    | West Ham United         |   17 |    0 | ⋯ | 0.00 |   0 | 17 |    0 |    0 | 0.00 |  -1 |  -1 |  -1 | 16 |\n| ⋮ | ⋮ | ⋮ | ⋮ | ⋮ | ⋮ | ⋮ | ⋮ | ⋮ | ⋮ | ⋱ | ⋮ | ⋮ | ⋮ | ⋮ | ⋮ | ⋮ | ⋮ | ⋮ | ⋮ | ⋮ |\n| Tyreke Johnson               | 22 | 910051200 | 1998/11/03 | Premier League | 2018/2019 | Defender   | Southampton             |    0 |    0 | ⋯ | 0.00 |   0 |  0 |    0 |    0 | 0.00 |  -1 |  -1 |  -1 | -1 |\n| Tyrone Mings                 | 28 | 731980800 | 1993/03/13 | Premier League | 2018/2019 | Defender   | AFC Bournemouth         |  141 |    7 | ⋯ | 2.55 |  35 | 28 |    0 |    0 | 0.00 |  -1 |  -1 |  -1 | 23 |\n| Vicente Guaita               | 34 | 537235200 | 1987/01/10 | Premier League | 2018/2019 | Goalkeeper | Crystal Palace          | 1755 | 1035 | ⋯ | 1.08 |  84 | 88 |  878 |    0 | 0.10 | 325 | 352 |  45 | 19 |\n| Vicente Iborra De La Fuente  | 33 | 569289600 | 1988/01/16 | Premier League | 2018/2019 | Midfielder | Leicester City          |  226 |  152 | ⋯ | 1.59 |  57 | 28 |    0 |    0 | 0.00 |  -1 |  -1 |  -1 | 14 |\n| Víctor Camarasa              | 26 | 770083200 | 1994/05/28 | Premier League | 2018/2019 | Midfielder | Cardiff City            | 2579 | 1267 | ⋯ | 1.68 |  54 | 81 |  430 |  645 | 0.21 | 111 | 106 |  -1 |  1 |\n| Victor Moses                 | 30 | 660960000 | 1990/12/12 | Premier League | 2018/2019 | Midfielder | Chelsea                 |   26 |   17 | ⋯ | 3.46 |  26 | 13 |    0 |    0 | 0.00 |  -1 |  -1 |  -1 | 23 |\n| Victor Nilsson Lindelöf      | 26 | 774403200 | 1994/07/17 | Premier League | 2018/2019 | Defender   | Manchester United       | 2602 | 1112 | ⋯ | 1.31 |  68 | 87 | 2602 | 2602 | 0.03 | 263 | 246 |  88 | 14 |\n| Victor Wanyama               | 29 | 677808000 | 1991/06/25 | Premier League | 2018/2019 | Midfielder | Tottenham Hotspur       |  509 |  302 | ⋯ | 0.53 | 170 | 39 |  255 |    0 | 0.35 | 106 | 266 |  -1 | 11 |\n| Viktor Gyökeres              | 22 | 896918400 | 1998/06/04 | Premier League | 2018/2019 | Forward    | Brighton &amp; Hove Albion  |    0 |    0 | ⋯ | 0.00 |   0 |  0 |    0 |    0 | 0.00 |  -1 |  -1 |  -1 | -1 |\n| Vincent Janssen              | 26 | 771638400 | 1994/06/15 | Premier League | 2018/2019 | Forward    | Tottenham Hotspur       |   36 |   36 | ⋯ | 0.00 |   0 | 12 |    0 |    0 | 0.00 |  -1 |  -1 |  -1 | 28 |\n| Vincent Kompany              | 34 | 513475200 | 1986/04/10 | Premier League | 2018/2019 | Defender   | Manchester City         | 1223 |  561 | ⋯ | 0.52 | 175 | 72 |  204 |    0 | 0.44 | 194 | 384 |   7 | 12 |\n| Virgil van Dijk              | 29 | 678931200 | 1991/07/08 | Premier League | 2018/2019 | Defender   | Liverpool               | 3385 | 1675 | ⋯ | 0.51 | 178 | 89 | 3385 | 1693 | 0.03 | 152 | 201 |   5 |  6 |\n| Wayne Hennessey              | 34 | 538444800 | 1987/01/24 | Premier League | 2018/2019 | Goalkeeper | Crystal Palace          | 1575 |  675 | ⋯ | 1.31 |  68 | 88 |    0 |    0 | 0.00 | 321 | 404 |  87 | 13 |\n| Wes Morgan                   | 37 | 443491200 | 1984/01/21 | Premier League | 2018/2019 | Defender   | Leicester City          | 1926 |  783 | ⋯ | 1.12 |  80 | 88 |  385 |    0 | 0.23 | 125 | 300 |  48 |  6 |\n| Wesley Hoedt                 | 27 | 762912000 | 1994/03/06 | Premier League | 2018/2019 | Defender   | Southampton             | 1170 |  540 | ⋯ | 1.54 |  59 | 90 |  585 |    0 | 0.15 | 374 | 370 | 123 | 27 |\n| Wilfredo Daniel Caballero    | 39 | 370483200 | 1981/09/28 | Premier League | 2018/2019 | Goalkeeper | Chelsea                 |  180 |   90 | ⋯ | 0.00 |   0 | 90 |    0 |    0 | 0.00 |  -1 |  -1 |  -1 | 19 |\n| Wilfried Zaha                | 28 | 721353600 | 1992/11/10 | Premier League | 2018/2019 | Midfielder | Crystal Palace          | 3041 | 1347 | ⋯ | 1.33 |  68 | 89 |  304 |  608 | 0.30 |  63 |  92 |  -1 |  2 |\n| Will Hughes                  | 25 | 798076800 | 1995/04/17 | Premier League | 2018/2019 | Midfielder | Watford                 | 2436 | 1251 | ⋯ | 1.44 |  62 | 76 |  487 |  609 | 0.18 | 199 |  91 |  -1 |  8 |\n| Will Norris                  | 27 | 745113600 | 1993/08/12 | Premier League | 2018/2019 | Goalkeeper | Wolverhampton Wanderers |    0 |    0 | ⋯ | 0.00 |   0 |  0 |    0 |    0 | 0.00 |  -1 |  -1 |  -1 | -1 |\n| Willian                      | 32 | 587088000 | 1988/08/09 | Premier League | 2018/2019 | Forward    | Chelsea                 | 2108 |  833 | ⋯ | 0.98 |  92 | 66 | 1054 |  351 | 0.09 | 132 |  36 |  -1 |  8 |\n| Willy Boly                   | 30 | 665539200 | 1991/02/03 | Premier League | 2018/2019 | Defender   | Wolverhampton Wanderers | 3169 | 1530 | ⋯ | 1.08 |  83 | 88 |  792 |    0 | 0.11 | 148 | 312 |  43 |  4 |\n| Xherdan Shaqiri              | 29 | 687052800 | 1991/10/10 | Premier League | 2018/2019 | Midfielder | Liverpool               | 1058 |  538 | ⋯ | 0.43 | 212 | 44 |  529 |  353 | 0.17 |  15 |  39 |  -1 |  4 |\n| Yann Valery                  | 22 | 919641600 | 1999/02/22 | Premier League | 2018/2019 | Defender   | Southampton             | 1715 | 1070 | ⋯ | 1.36 |  66 | 75 |  343 | 1715 | 0.26 | 162 | 214 |  95 |  7 |\n| Yerry Fernando Mina González | 26 | 780278400 | 1994/09/23 | Premier League | 2018/2019 | Defender   | Everton                 |  890 |  360 | ⋯ | 1.21 |  74 | 68 |  297 |    0 | 0.30 | 161 | 329 |  67 |  9 |\n| Yoshinori Muto               | 28 | 711158400 | 1992/07/15 | Premier League | 2018/2019 | Forward    | Newcastle United        |  516 |  180 | ⋯ | 1.74 |  52 | 30 |  516 |    0 | 0.17 | 113 | 290 |  -1 |  8 |\n| Youri Tielemans              | 23 | 862963200 | 1997/05/07 | Premier League | 2018/2019 | Midfielder | Leicester City          | 1092 |  575 | ⋯ | 1.07 |  84 | 84 |  546 |  273 | 0.16 |  80 |  13 |  -1 |  4 |\n| Yves Bissouma                | 24 | 841363200 | 1996/08/30 | Premier League | 2018/2019 | Midfielder | Brighton &amp; Hove Albion  | 1769 |  747 | ⋯ | 1.53 |  59 | 63 |  354 |    0 | 0.25 | 402 | 293 |  -1 | 17 |\n| Zechariah Medley             | 20 | 962928000 | 2000/07/07 | Premier League | 2018/2019 | Defender   | Arsenal                 |    0 |    0 | ⋯ | 0.00 |   0 |  0 |    0 |    0 | 0.00 |  -1 |  -1 |  -1 | -1 |\n| Zeze Steven Sessegnon        | 20 | 958608000 | 2000/05/18 | Premier League | 2018/2019 | Defender   | Fulham                  |    0 |    0 | ⋯ | 0.00 |   0 |  0 |    0 |    0 | 0.00 |  -1 |  -1 |  -1 | -1 |\n| Łukasz Fabiański             | 35 | 482630400 | 1985/04/18 | Premier League | 2018/2019 | Goalkeeper | West Ham United         | 3420 | 1710 | ⋯ | 1.26 |  71 | 90 |    0 |    0 | 0.00 | 391 | 343 |  81 | 19 |\n\n",
            "text/latex": "A data.frame: 572 × 47\n\\begin{tabular}{lllllllllllllllllllll}\n full\\_name & age & birthday & birthday\\_GMT & league & season & position & Current.Club & minutes\\_played\\_overall & minutes\\_played\\_home & ⋯ & conceded\\_per\\_90\\_overall & min\\_per\\_conceded\\_overall & min\\_per\\_match & min\\_per\\_card\\_overall & min\\_per\\_assist\\_overall & cards\\_per\\_90\\_overall & rank\\_in\\_league\\_top\\_attackers & rank\\_in\\_league\\_top\\_midfielders & rank\\_in\\_league\\_top\\_defenders & rank\\_in\\_club\\_top\\_scorer\\\\\n <chr> & <int> & <int> & <chr> & <chr> & <chr> & <chr> & <chr> & <int> & <int> & ⋯ & <dbl> & <int> & <int> & <int> & <int> & <dbl> & <int> & <int> & <int> & <int>\\\\\n\\hline\n\t Aaron Cresswell                  & 31 & 629683200 & 1989/12/15 & Premier League & 2018/2019 & Defender   & West Ham United         & 1589 &  888 & ⋯ & 1.25 &  72 & 79 & 1589 & 1589 & 0.06 & 290 & 191 &  80 & 20\\\\\n\t Aaron Lennon                     & 33 & 545529600 & 1987/04/16 & Premier League & 2018/2019 & Midfielder & Burnley                 & 1217 &  487 & ⋯ & 1.48 &  61 & 76 & 1217 & 1217 & 0.07 & 196 & 187 &  -1 & 10\\\\\n\t Aaron Mooy                       & 30 & 653356800 & 1990/09/15 & Premier League & 2018/2019 & Midfielder & Huddersfield Town       & 2327 & 1190 & ⋯ & 1.78 &  51 & 80 &  582 & 2327 & 0.15 & 144 & 233 &  -1 &  3\\\\\n\t Aaron Ramsey                     & 30 & 662169600 & 1990/12/26 & Premier League & 2018/2019 & Midfielder & Arsenal                 & 1327 &  689 & ⋯ & 0.81 & 111 & 47 &    0 &  221 & 0.00 &  69 &   8 &  -1 &  5\\\\\n\t Aaron Rowe                       & 20 & 968284800 & 2000/09/07 & Premier League & 2018/2019 & Forward    & Huddersfield Town       &   69 &   14 & ⋯ & 1.30 &  69 & 35 &    0 &    0 & 0.00 &  -1 &  -1 &  -1 & 31\\\\\n\t Aaron Wan-Bissaka                & 23 & 880502400 & 1997/11/26 & Premier League & 2018/2019 & Midfielder & Crystal Palace          & 3135 & 1605 & ⋯ & 1.18 &  76 & 90 &  523 & 1045 & 0.17 & 312 & 160 &  -1 & 22\\\\\n\t Abdelhamid Sabiri                & 24 & 849139200 & 1996/11/28 & Premier League & 2018/2019 & Midfielder & Huddersfield Town       &   49 &    0 & ⋯ & 5.51 &  16 & 25 &    0 &    0 & 0.00 &  -1 &  -1 &  -1 & 22\\\\\n\t Abdoulaye Doucouré               & 28 & 725846400 & 1993/01/01 & Premier League & 2018/2019 & Midfielder & Watford                 & 3062 & 1566 & ⋯ & 1.59 &  57 & 87 &  437 &  510 & 0.21 & 124 &  80 &  -1 &  5\\\\\n\t Aboubakar Kamara                 & 26 & 794534400 & 1995/03/07 & Premier League & 2018/2019 & Forward    & Fulham                  &  687 &  468 & ⋯ & 2.10 &  43 & 53 &  344 &    0 & 0.26 &  38 & 412 &  -1 &  4\\\\\n\t Adalberto Peñaranda Maestre      & 23 & 865036800 & 1997/05/31 & Premier League & 2018/2019 & Forward    & Watford                 &    0 &    0 & ⋯ & 0.00 &   0 &  0 &    0 &    0 & 0.00 &  -1 &  -1 &  -1 & -1\\\\\n\t Adam David Lallana               & 32 & 579225600 & 1988/05/10 & Premier League & 2018/2019 & Midfielder & Liverpool               &  465 &  189 & ⋯ & 0.39 & 233 & 36 &  465 &    0 & 0.19 & 379 & 344 &  -1 & 18\\\\\n\t Adam Masina                      & 27 & 757468800 & 1994/01/02 & Premier League & 2018/2019 & Defender   & Watford                 & 1003 &  463 & ⋯ & 1.70 &  53 & 72 &  201 & 1003 & 0.45 & 397 & 155 & 144 & 20\\\\\n\t Adam Smith                       & 29 & 672883200 & 1991/04/29 & Premier League & 2018/2019 & Defender   & AFC Bournemouth         & 2073 & 1051 & ⋯ & 1.30 &  69 & 83 &  296 & 2073 & 0.30 & 227 & 228 &  85 & 10\\\\\n\t Adama Diakhaby                   & 24 & 836524800 & 1996/07/05 & Premier League & 2018/2019 & Forward    & Huddersfield Town       &  551 &  345 & ⋯ & 2.61 &  34 & 46 &  551 &    0 & 0.16 & 332 & 359 &  -1 & 26\\\\\n\t Adama Traoré Diarra              & 25 & 822528000 & 1996/01/25 & Premier League & 2018/2019 & Midfielder & Wolverhampton Wanderers &  890 &  315 & ⋯ & 1.11 &  81 & 31 &  890 &  890 & 0.10 & 160 & 152 &  -1 & 13\\\\\n\t Ademola Lookman                  & 23 & 877305600 & 1997/10/20 & Premier League & 2018/2019 & Forward    & Everton                 &  601 &  334 & ⋯ & 1.05 &  86 & 29 &    0 &  301 & 0.00 & 292 &  20 &  -1 & 17\\\\\n\t Adrian Mariappa                  & 34 & 528681600 & 1986/10/03 & Premier League & 2018/2019 & Defender   & Watford                 & 1921 &  841 & ⋯ & 1.36 &  66 & 74 &  640 &    0 & 0.14 & 396 & 414 &  94 & 21\\\\\n\t Adrián San Miguel del Castillo   & 34 & 536630400 & 1987/01/03 & Premier League & 2018/2019 & Goalkeeper & West Ham United         &    0 &    0 & ⋯ & 0.00 &   0 &  0 &    0 &    0 & 0.00 &  -1 &  -1 &  -1 & -1\\\\\n\t Adrien Sebastian Perruchet Silva & 32 & 605923200 & 1989/03/15 & Premier League & 2018/2019 & Midfielder & Leicester City          &   88 &    8 & ⋯ & 1.02 &  88 & 44 &    0 &    0 & 0.00 &  -1 &  -1 &  -1 & 15\\\\\n\t Ainsley Maitland-Niles           & 23 & 872812800 & 1997/08/29 & Premier League & 2018/2019 & Midfielder & Arsenal                 &  985 &  462 & ⋯ & 1.46 &  62 & 62 &  328 &  985 & 0.27 & 174 & 167 &  -1 & 15\\\\\n\t Alberto Moreno                   & 28 & 710294400 & 1992/07/05 & Premier League & 2018/2019 & Defender   & Liverpool               &  155 &   90 & ⋯ & 1.16 &  78 & 78 &    0 &    0 & 0.00 &  -1 &  -1 &  -1 & 17\\\\\n\t Aleksandar Mitrović              & 26 & 779673600 & 1994/09/16 & Premier League & 2018/2019 & Forward    & Fulham                  & 3282 & 1616 & ⋯ & 2.03 &  44 & 89 &  469 & 1094 & 0.19 &  62 & 176 &  -1 &  1\\\\\n\t Alex Iwobi                       & 24 & 831081600 & 1996/05/03 & Premier League & 2018/2019 & Forward    & Arsenal                 & 1972 &  742 & ⋯ & 1.41 &  64 & 56 &    0 &  329 & 0.00 & 128 &  31 &  -1 &  8\\\\\n\t Alex McCarthy                    & 31 & 628646400 & 1989/12/03 & Premier League & 2018/2019 & Goalkeeper & Southampton             & 2250 & 1170 & ⋯ & 1.48 &  61 & 90 & 2250 &    0 & 0.04 & 372 & 365 & 114 & 21\\\\\n\t Alex Oxlade-Chamberlain          & 27 & 745372800 & 1993/08/15 & Premier League & 2018/2019 & Midfielder & Liverpool               &   19 &   19 & ⋯ & 0.00 &   0 & 10 &    0 &    0 & 0.00 &  -1 &  -1 &  -1 & 21\\\\\n\t Alex Pritchard                   & 27 & 736387200 & 1993/05/03 & Premier League & 2018/2019 & Midfielder & Huddersfield Town       & 2092 &  992 & ⋯ & 1.68 &  54 & 70 & 1046 &    0 & 0.09 & 171 & 373 &  -1 &  5\\\\\n\t Alex Smithies                    & 31 & 636595200 & 1990/03/05 & Premier League & 2018/2019 & Goalkeeper & Cardiff City            &    0 &    0 & ⋯ & 0.00 &   0 &  0 &    0 &    0 & 0.00 &  -1 &  -1 &  -1 & -1\\\\\n\t Alexander Sørloth                & 25 & 818121600 & 1995/12/05 & Premier League & 2018/2019 & Forward    & Crystal Palace          &  173 &  121 & ⋯ & 0.52 & 173 & 14 &    0 &    0 & 0.00 &  -1 &  -1 &  -1 & 17\\\\\n\t Alexandre Lacazette              & 29 & 675388800 & 1991/05/28 & Premier League & 2018/2019 & Forward    & Arsenal                 & 2503 & 1403 & ⋯ & 1.01 &  89 & 72 & 1252 &  313 & 0.07 &  21 &  25 &  -1 &  2\\\\\n\t Alexandre Nascimento Costa Silva & 24 & 858470400 & 1997/03/16 & Premier League & 2018/2019 & Forward    & West Ham United         &   17 &    0 & ⋯ & 0.00 &   0 & 17 &    0 &    0 & 0.00 &  -1 &  -1 &  -1 & 16\\\\\n\t ⋮ & ⋮ & ⋮ & ⋮ & ⋮ & ⋮ & ⋮ & ⋮ & ⋮ & ⋮ & ⋱ & ⋮ & ⋮ & ⋮ & ⋮ & ⋮ & ⋮ & ⋮ & ⋮ & ⋮ & ⋮\\\\\n\t Tyreke Johnson               & 22 & 910051200 & 1998/11/03 & Premier League & 2018/2019 & Defender   & Southampton             &    0 &    0 & ⋯ & 0.00 &   0 &  0 &    0 &    0 & 0.00 &  -1 &  -1 &  -1 & -1\\\\\n\t Tyrone Mings                 & 28 & 731980800 & 1993/03/13 & Premier League & 2018/2019 & Defender   & AFC Bournemouth         &  141 &    7 & ⋯ & 2.55 &  35 & 28 &    0 &    0 & 0.00 &  -1 &  -1 &  -1 & 23\\\\\n\t Vicente Guaita               & 34 & 537235200 & 1987/01/10 & Premier League & 2018/2019 & Goalkeeper & Crystal Palace          & 1755 & 1035 & ⋯ & 1.08 &  84 & 88 &  878 &    0 & 0.10 & 325 & 352 &  45 & 19\\\\\n\t Vicente Iborra De La Fuente  & 33 & 569289600 & 1988/01/16 & Premier League & 2018/2019 & Midfielder & Leicester City          &  226 &  152 & ⋯ & 1.59 &  57 & 28 &    0 &    0 & 0.00 &  -1 &  -1 &  -1 & 14\\\\\n\t Víctor Camarasa              & 26 & 770083200 & 1994/05/28 & Premier League & 2018/2019 & Midfielder & Cardiff City            & 2579 & 1267 & ⋯ & 1.68 &  54 & 81 &  430 &  645 & 0.21 & 111 & 106 &  -1 &  1\\\\\n\t Victor Moses                 & 30 & 660960000 & 1990/12/12 & Premier League & 2018/2019 & Midfielder & Chelsea                 &   26 &   17 & ⋯ & 3.46 &  26 & 13 &    0 &    0 & 0.00 &  -1 &  -1 &  -1 & 23\\\\\n\t Victor Nilsson Lindelöf      & 26 & 774403200 & 1994/07/17 & Premier League & 2018/2019 & Defender   & Manchester United       & 2602 & 1112 & ⋯ & 1.31 &  68 & 87 & 2602 & 2602 & 0.03 & 263 & 246 &  88 & 14\\\\\n\t Victor Wanyama               & 29 & 677808000 & 1991/06/25 & Premier League & 2018/2019 & Midfielder & Tottenham Hotspur       &  509 &  302 & ⋯ & 0.53 & 170 & 39 &  255 &    0 & 0.35 & 106 & 266 &  -1 & 11\\\\\n\t Viktor Gyökeres              & 22 & 896918400 & 1998/06/04 & Premier League & 2018/2019 & Forward    & Brighton \\& Hove Albion  &    0 &    0 & ⋯ & 0.00 &   0 &  0 &    0 &    0 & 0.00 &  -1 &  -1 &  -1 & -1\\\\\n\t Vincent Janssen              & 26 & 771638400 & 1994/06/15 & Premier League & 2018/2019 & Forward    & Tottenham Hotspur       &   36 &   36 & ⋯ & 0.00 &   0 & 12 &    0 &    0 & 0.00 &  -1 &  -1 &  -1 & 28\\\\\n\t Vincent Kompany              & 34 & 513475200 & 1986/04/10 & Premier League & 2018/2019 & Defender   & Manchester City         & 1223 &  561 & ⋯ & 0.52 & 175 & 72 &  204 &    0 & 0.44 & 194 & 384 &   7 & 12\\\\\n\t Virgil van Dijk              & 29 & 678931200 & 1991/07/08 & Premier League & 2018/2019 & Defender   & Liverpool               & 3385 & 1675 & ⋯ & 0.51 & 178 & 89 & 3385 & 1693 & 0.03 & 152 & 201 &   5 &  6\\\\\n\t Wayne Hennessey              & 34 & 538444800 & 1987/01/24 & Premier League & 2018/2019 & Goalkeeper & Crystal Palace          & 1575 &  675 & ⋯ & 1.31 &  68 & 88 &    0 &    0 & 0.00 & 321 & 404 &  87 & 13\\\\\n\t Wes Morgan                   & 37 & 443491200 & 1984/01/21 & Premier League & 2018/2019 & Defender   & Leicester City          & 1926 &  783 & ⋯ & 1.12 &  80 & 88 &  385 &    0 & 0.23 & 125 & 300 &  48 &  6\\\\\n\t Wesley Hoedt                 & 27 & 762912000 & 1994/03/06 & Premier League & 2018/2019 & Defender   & Southampton             & 1170 &  540 & ⋯ & 1.54 &  59 & 90 &  585 &    0 & 0.15 & 374 & 370 & 123 & 27\\\\\n\t Wilfredo Daniel Caballero    & 39 & 370483200 & 1981/09/28 & Premier League & 2018/2019 & Goalkeeper & Chelsea                 &  180 &   90 & ⋯ & 0.00 &   0 & 90 &    0 &    0 & 0.00 &  -1 &  -1 &  -1 & 19\\\\\n\t Wilfried Zaha                & 28 & 721353600 & 1992/11/10 & Premier League & 2018/2019 & Midfielder & Crystal Palace          & 3041 & 1347 & ⋯ & 1.33 &  68 & 89 &  304 &  608 & 0.30 &  63 &  92 &  -1 &  2\\\\\n\t Will Hughes                  & 25 & 798076800 & 1995/04/17 & Premier League & 2018/2019 & Midfielder & Watford                 & 2436 & 1251 & ⋯ & 1.44 &  62 & 76 &  487 &  609 & 0.18 & 199 &  91 &  -1 &  8\\\\\n\t Will Norris                  & 27 & 745113600 & 1993/08/12 & Premier League & 2018/2019 & Goalkeeper & Wolverhampton Wanderers &    0 &    0 & ⋯ & 0.00 &   0 &  0 &    0 &    0 & 0.00 &  -1 &  -1 &  -1 & -1\\\\\n\t Willian                      & 32 & 587088000 & 1988/08/09 & Premier League & 2018/2019 & Forward    & Chelsea                 & 2108 &  833 & ⋯ & 0.98 &  92 & 66 & 1054 &  351 & 0.09 & 132 &  36 &  -1 &  8\\\\\n\t Willy Boly                   & 30 & 665539200 & 1991/02/03 & Premier League & 2018/2019 & Defender   & Wolverhampton Wanderers & 3169 & 1530 & ⋯ & 1.08 &  83 & 88 &  792 &    0 & 0.11 & 148 & 312 &  43 &  4\\\\\n\t Xherdan Shaqiri              & 29 & 687052800 & 1991/10/10 & Premier League & 2018/2019 & Midfielder & Liverpool               & 1058 &  538 & ⋯ & 0.43 & 212 & 44 &  529 &  353 & 0.17 &  15 &  39 &  -1 &  4\\\\\n\t Yann Valery                  & 22 & 919641600 & 1999/02/22 & Premier League & 2018/2019 & Defender   & Southampton             & 1715 & 1070 & ⋯ & 1.36 &  66 & 75 &  343 & 1715 & 0.26 & 162 & 214 &  95 &  7\\\\\n\t Yerry Fernando Mina González & 26 & 780278400 & 1994/09/23 & Premier League & 2018/2019 & Defender   & Everton                 &  890 &  360 & ⋯ & 1.21 &  74 & 68 &  297 &    0 & 0.30 & 161 & 329 &  67 &  9\\\\\n\t Yoshinori Muto               & 28 & 711158400 & 1992/07/15 & Premier League & 2018/2019 & Forward    & Newcastle United        &  516 &  180 & ⋯ & 1.74 &  52 & 30 &  516 &    0 & 0.17 & 113 & 290 &  -1 &  8\\\\\n\t Youri Tielemans              & 23 & 862963200 & 1997/05/07 & Premier League & 2018/2019 & Midfielder & Leicester City          & 1092 &  575 & ⋯ & 1.07 &  84 & 84 &  546 &  273 & 0.16 &  80 &  13 &  -1 &  4\\\\\n\t Yves Bissouma                & 24 & 841363200 & 1996/08/30 & Premier League & 2018/2019 & Midfielder & Brighton \\& Hove Albion  & 1769 &  747 & ⋯ & 1.53 &  59 & 63 &  354 &    0 & 0.25 & 402 & 293 &  -1 & 17\\\\\n\t Zechariah Medley             & 20 & 962928000 & 2000/07/07 & Premier League & 2018/2019 & Defender   & Arsenal                 &    0 &    0 & ⋯ & 0.00 &   0 &  0 &    0 &    0 & 0.00 &  -1 &  -1 &  -1 & -1\\\\\n\t Zeze Steven Sessegnon        & 20 & 958608000 & 2000/05/18 & Premier League & 2018/2019 & Defender   & Fulham                  &    0 &    0 & ⋯ & 0.00 &   0 &  0 &    0 &    0 & 0.00 &  -1 &  -1 &  -1 & -1\\\\\n\t Łukasz Fabiański             & 35 & 482630400 & 1985/04/18 & Premier League & 2018/2019 & Goalkeeper & West Ham United         & 3420 & 1710 & ⋯ & 1.26 &  71 & 90 &    0 &    0 & 0.00 & 391 & 343 &  81 & 19\\\\\n\\end{tabular}\n",
            "text/plain": [
              "    full_name                        age birthday  birthday_GMT league        \n",
              "1   Aaron Cresswell                  31  629683200 1989/12/15   Premier League\n",
              "2   Aaron Lennon                     33  545529600 1987/04/16   Premier League\n",
              "3   Aaron Mooy                       30  653356800 1990/09/15   Premier League\n",
              "4   Aaron Ramsey                     30  662169600 1990/12/26   Premier League\n",
              "5   Aaron Rowe                       20  968284800 2000/09/07   Premier League\n",
              "6   Aaron Wan-Bissaka                23  880502400 1997/11/26   Premier League\n",
              "7   Abdelhamid Sabiri                24  849139200 1996/11/28   Premier League\n",
              "8   Abdoulaye Doucouré               28  725846400 1993/01/01   Premier League\n",
              "9   Aboubakar Kamara                 26  794534400 1995/03/07   Premier League\n",
              "10  Adalberto Peñaranda Maestre      23  865036800 1997/05/31   Premier League\n",
              "11  Adam David Lallana               32  579225600 1988/05/10   Premier League\n",
              "12  Adam Masina                      27  757468800 1994/01/02   Premier League\n",
              "13  Adam Smith                       29  672883200 1991/04/29   Premier League\n",
              "14  Adama Diakhaby                   24  836524800 1996/07/05   Premier League\n",
              "15  Adama Traoré Diarra              25  822528000 1996/01/25   Premier League\n",
              "16  Ademola Lookman                  23  877305600 1997/10/20   Premier League\n",
              "17  Adrian Mariappa                  34  528681600 1986/10/03   Premier League\n",
              "18  Adrián San Miguel del Castillo   34  536630400 1987/01/03   Premier League\n",
              "19  Adrien Sebastian Perruchet Silva 32  605923200 1989/03/15   Premier League\n",
              "20  Ainsley Maitland-Niles           23  872812800 1997/08/29   Premier League\n",
              "21  Alberto Moreno                   28  710294400 1992/07/05   Premier League\n",
              "22  Aleksandar Mitrović              26  779673600 1994/09/16   Premier League\n",
              "23  Alex Iwobi                       24  831081600 1996/05/03   Premier League\n",
              "24  Alex McCarthy                    31  628646400 1989/12/03   Premier League\n",
              "25  Alex Oxlade-Chamberlain          27  745372800 1993/08/15   Premier League\n",
              "26  Alex Pritchard                   27  736387200 1993/05/03   Premier League\n",
              "27  Alex Smithies                    31  636595200 1990/03/05   Premier League\n",
              "28  Alexander Sørloth                25  818121600 1995/12/05   Premier League\n",
              "29  Alexandre Lacazette              29  675388800 1991/05/28   Premier League\n",
              "30  Alexandre Nascimento Costa Silva 24  858470400 1997/03/16   Premier League\n",
              "⋮   ⋮                                ⋮   ⋮         ⋮            ⋮             \n",
              "543 Tyreke Johnson                   22  910051200 1998/11/03   Premier League\n",
              "544 Tyrone Mings                     28  731980800 1993/03/13   Premier League\n",
              "545 Vicente Guaita                   34  537235200 1987/01/10   Premier League\n",
              "546 Vicente Iborra De La Fuente      33  569289600 1988/01/16   Premier League\n",
              "547 Víctor Camarasa                  26  770083200 1994/05/28   Premier League\n",
              "548 Victor Moses                     30  660960000 1990/12/12   Premier League\n",
              "549 Victor Nilsson Lindelöf          26  774403200 1994/07/17   Premier League\n",
              "550 Victor Wanyama                   29  677808000 1991/06/25   Premier League\n",
              "551 Viktor Gyökeres                  22  896918400 1998/06/04   Premier League\n",
              "552 Vincent Janssen                  26  771638400 1994/06/15   Premier League\n",
              "553 Vincent Kompany                  34  513475200 1986/04/10   Premier League\n",
              "554 Virgil van Dijk                  29  678931200 1991/07/08   Premier League\n",
              "555 Wayne Hennessey                  34  538444800 1987/01/24   Premier League\n",
              "556 Wes Morgan                       37  443491200 1984/01/21   Premier League\n",
              "557 Wesley Hoedt                     27  762912000 1994/03/06   Premier League\n",
              "558 Wilfredo Daniel Caballero        39  370483200 1981/09/28   Premier League\n",
              "559 Wilfried Zaha                    28  721353600 1992/11/10   Premier League\n",
              "560 Will Hughes                      25  798076800 1995/04/17   Premier League\n",
              "561 Will Norris                      27  745113600 1993/08/12   Premier League\n",
              "562 Willian                          32  587088000 1988/08/09   Premier League\n",
              "563 Willy Boly                       30  665539200 1991/02/03   Premier League\n",
              "564 Xherdan Shaqiri                  29  687052800 1991/10/10   Premier League\n",
              "565 Yann Valery                      22  919641600 1999/02/22   Premier League\n",
              "566 Yerry Fernando Mina González     26  780278400 1994/09/23   Premier League\n",
              "567 Yoshinori Muto                   28  711158400 1992/07/15   Premier League\n",
              "568 Youri Tielemans                  23  862963200 1997/05/07   Premier League\n",
              "569 Yves Bissouma                    24  841363200 1996/08/30   Premier League\n",
              "570 Zechariah Medley                 20  962928000 2000/07/07   Premier League\n",
              "571 Zeze Steven Sessegnon            20  958608000 2000/05/18   Premier League\n",
              "572 Łukasz Fabiański                 35  482630400 1985/04/18   Premier League\n",
              "    season    position   Current.Club            minutes_played_overall\n",
              "1   2018/2019 Defender   West Ham United         1589                  \n",
              "2   2018/2019 Midfielder Burnley                 1217                  \n",
              "3   2018/2019 Midfielder Huddersfield Town       2327                  \n",
              "4   2018/2019 Midfielder Arsenal                 1327                  \n",
              "5   2018/2019 Forward    Huddersfield Town         69                  \n",
              "6   2018/2019 Midfielder Crystal Palace          3135                  \n",
              "7   2018/2019 Midfielder Huddersfield Town         49                  \n",
              "8   2018/2019 Midfielder Watford                 3062                  \n",
              "9   2018/2019 Forward    Fulham                   687                  \n",
              "10  2018/2019 Forward    Watford                    0                  \n",
              "11  2018/2019 Midfielder Liverpool                465                  \n",
              "12  2018/2019 Defender   Watford                 1003                  \n",
              "13  2018/2019 Defender   AFC Bournemouth         2073                  \n",
              "14  2018/2019 Forward    Huddersfield Town        551                  \n",
              "15  2018/2019 Midfielder Wolverhampton Wanderers  890                  \n",
              "16  2018/2019 Forward    Everton                  601                  \n",
              "17  2018/2019 Defender   Watford                 1921                  \n",
              "18  2018/2019 Goalkeeper West Ham United            0                  \n",
              "19  2018/2019 Midfielder Leicester City            88                  \n",
              "20  2018/2019 Midfielder Arsenal                  985                  \n",
              "21  2018/2019 Defender   Liverpool                155                  \n",
              "22  2018/2019 Forward    Fulham                  3282                  \n",
              "23  2018/2019 Forward    Arsenal                 1972                  \n",
              "24  2018/2019 Goalkeeper Southampton             2250                  \n",
              "25  2018/2019 Midfielder Liverpool                 19                  \n",
              "26  2018/2019 Midfielder Huddersfield Town       2092                  \n",
              "27  2018/2019 Goalkeeper Cardiff City               0                  \n",
              "28  2018/2019 Forward    Crystal Palace           173                  \n",
              "29  2018/2019 Forward    Arsenal                 2503                  \n",
              "30  2018/2019 Forward    West Ham United           17                  \n",
              "⋮   ⋮         ⋮          ⋮                       ⋮                     \n",
              "543 2018/2019 Defender   Southampton                0                  \n",
              "544 2018/2019 Defender   AFC Bournemouth          141                  \n",
              "545 2018/2019 Goalkeeper Crystal Palace          1755                  \n",
              "546 2018/2019 Midfielder Leicester City           226                  \n",
              "547 2018/2019 Midfielder Cardiff City            2579                  \n",
              "548 2018/2019 Midfielder Chelsea                   26                  \n",
              "549 2018/2019 Defender   Manchester United       2602                  \n",
              "550 2018/2019 Midfielder Tottenham Hotspur        509                  \n",
              "551 2018/2019 Forward    Brighton & Hove Albion     0                  \n",
              "552 2018/2019 Forward    Tottenham Hotspur         36                  \n",
              "553 2018/2019 Defender   Manchester City         1223                  \n",
              "554 2018/2019 Defender   Liverpool               3385                  \n",
              "555 2018/2019 Goalkeeper Crystal Palace          1575                  \n",
              "556 2018/2019 Defender   Leicester City          1926                  \n",
              "557 2018/2019 Defender   Southampton             1170                  \n",
              "558 2018/2019 Goalkeeper Chelsea                  180                  \n",
              "559 2018/2019 Midfielder Crystal Palace          3041                  \n",
              "560 2018/2019 Midfielder Watford                 2436                  \n",
              "561 2018/2019 Goalkeeper Wolverhampton Wanderers    0                  \n",
              "562 2018/2019 Forward    Chelsea                 2108                  \n",
              "563 2018/2019 Defender   Wolverhampton Wanderers 3169                  \n",
              "564 2018/2019 Midfielder Liverpool               1058                  \n",
              "565 2018/2019 Defender   Southampton             1715                  \n",
              "566 2018/2019 Defender   Everton                  890                  \n",
              "567 2018/2019 Forward    Newcastle United         516                  \n",
              "568 2018/2019 Midfielder Leicester City          1092                  \n",
              "569 2018/2019 Midfielder Brighton & Hove Albion  1769                  \n",
              "570 2018/2019 Defender   Arsenal                    0                  \n",
              "571 2018/2019 Defender   Fulham                     0                  \n",
              "572 2018/2019 Goalkeeper West Ham United         3420                  \n",
              "    minutes_played_home ⋯ conceded_per_90_overall min_per_conceded_overall\n",
              "1    888                ⋯ 1.25                     72                     \n",
              "2    487                ⋯ 1.48                     61                     \n",
              "3   1190                ⋯ 1.78                     51                     \n",
              "4    689                ⋯ 0.81                    111                     \n",
              "5     14                ⋯ 1.30                     69                     \n",
              "6   1605                ⋯ 1.18                     76                     \n",
              "7      0                ⋯ 5.51                     16                     \n",
              "8   1566                ⋯ 1.59                     57                     \n",
              "9    468                ⋯ 2.10                     43                     \n",
              "10     0                ⋯ 0.00                      0                     \n",
              "11   189                ⋯ 0.39                    233                     \n",
              "12   463                ⋯ 1.70                     53                     \n",
              "13  1051                ⋯ 1.30                     69                     \n",
              "14   345                ⋯ 2.61                     34                     \n",
              "15   315                ⋯ 1.11                     81                     \n",
              "16   334                ⋯ 1.05                     86                     \n",
              "17   841                ⋯ 1.36                     66                     \n",
              "18     0                ⋯ 0.00                      0                     \n",
              "19     8                ⋯ 1.02                     88                     \n",
              "20   462                ⋯ 1.46                     62                     \n",
              "21    90                ⋯ 1.16                     78                     \n",
              "22  1616                ⋯ 2.03                     44                     \n",
              "23   742                ⋯ 1.41                     64                     \n",
              "24  1170                ⋯ 1.48                     61                     \n",
              "25    19                ⋯ 0.00                      0                     \n",
              "26   992                ⋯ 1.68                     54                     \n",
              "27     0                ⋯ 0.00                      0                     \n",
              "28   121                ⋯ 0.52                    173                     \n",
              "29  1403                ⋯ 1.01                     89                     \n",
              "30     0                ⋯ 0.00                      0                     \n",
              "⋮   ⋮                   ⋱ ⋮                       ⋮                       \n",
              "543    0                ⋯ 0.00                      0                     \n",
              "544    7                ⋯ 2.55                     35                     \n",
              "545 1035                ⋯ 1.08                     84                     \n",
              "546  152                ⋯ 1.59                     57                     \n",
              "547 1267                ⋯ 1.68                     54                     \n",
              "548   17                ⋯ 3.46                     26                     \n",
              "549 1112                ⋯ 1.31                     68                     \n",
              "550  302                ⋯ 0.53                    170                     \n",
              "551    0                ⋯ 0.00                      0                     \n",
              "552   36                ⋯ 0.00                      0                     \n",
              "553  561                ⋯ 0.52                    175                     \n",
              "554 1675                ⋯ 0.51                    178                     \n",
              "555  675                ⋯ 1.31                     68                     \n",
              "556  783                ⋯ 1.12                     80                     \n",
              "557  540                ⋯ 1.54                     59                     \n",
              "558   90                ⋯ 0.00                      0                     \n",
              "559 1347                ⋯ 1.33                     68                     \n",
              "560 1251                ⋯ 1.44                     62                     \n",
              "561    0                ⋯ 0.00                      0                     \n",
              "562  833                ⋯ 0.98                     92                     \n",
              "563 1530                ⋯ 1.08                     83                     \n",
              "564  538                ⋯ 0.43                    212                     \n",
              "565 1070                ⋯ 1.36                     66                     \n",
              "566  360                ⋯ 1.21                     74                     \n",
              "567  180                ⋯ 1.74                     52                     \n",
              "568  575                ⋯ 1.07                     84                     \n",
              "569  747                ⋯ 1.53                     59                     \n",
              "570    0                ⋯ 0.00                      0                     \n",
              "571    0                ⋯ 0.00                      0                     \n",
              "572 1710                ⋯ 1.26                     71                     \n",
              "    min_per_match min_per_card_overall min_per_assist_overall\n",
              "1   79            1589                 1589                  \n",
              "2   76            1217                 1217                  \n",
              "3   80             582                 2327                  \n",
              "4   47               0                  221                  \n",
              "5   35               0                    0                  \n",
              "6   90             523                 1045                  \n",
              "7   25               0                    0                  \n",
              "8   87             437                  510                  \n",
              "9   53             344                    0                  \n",
              "10   0               0                    0                  \n",
              "11  36             465                    0                  \n",
              "12  72             201                 1003                  \n",
              "13  83             296                 2073                  \n",
              "14  46             551                    0                  \n",
              "15  31             890                  890                  \n",
              "16  29               0                  301                  \n",
              "17  74             640                    0                  \n",
              "18   0               0                    0                  \n",
              "19  44               0                    0                  \n",
              "20  62             328                  985                  \n",
              "21  78               0                    0                  \n",
              "22  89             469                 1094                  \n",
              "23  56               0                  329                  \n",
              "24  90            2250                    0                  \n",
              "25  10               0                    0                  \n",
              "26  70            1046                    0                  \n",
              "27   0               0                    0                  \n",
              "28  14               0                    0                  \n",
              "29  72            1252                  313                  \n",
              "30  17               0                    0                  \n",
              "⋮   ⋮             ⋮                    ⋮                     \n",
              "543  0               0                    0                  \n",
              "544 28               0                    0                  \n",
              "545 88             878                    0                  \n",
              "546 28               0                    0                  \n",
              "547 81             430                  645                  \n",
              "548 13               0                    0                  \n",
              "549 87            2602                 2602                  \n",
              "550 39             255                    0                  \n",
              "551  0               0                    0                  \n",
              "552 12               0                    0                  \n",
              "553 72             204                    0                  \n",
              "554 89            3385                 1693                  \n",
              "555 88               0                    0                  \n",
              "556 88             385                    0                  \n",
              "557 90             585                    0                  \n",
              "558 90               0                    0                  \n",
              "559 89             304                  608                  \n",
              "560 76             487                  609                  \n",
              "561  0               0                    0                  \n",
              "562 66            1054                  351                  \n",
              "563 88             792                    0                  \n",
              "564 44             529                  353                  \n",
              "565 75             343                 1715                  \n",
              "566 68             297                    0                  \n",
              "567 30             516                    0                  \n",
              "568 84             546                  273                  \n",
              "569 63             354                    0                  \n",
              "570  0               0                    0                  \n",
              "571  0               0                    0                  \n",
              "572 90               0                    0                  \n",
              "    cards_per_90_overall rank_in_league_top_attackers\n",
              "1   0.06                 290                         \n",
              "2   0.07                 196                         \n",
              "3   0.15                 144                         \n",
              "4   0.00                  69                         \n",
              "5   0.00                  -1                         \n",
              "6   0.17                 312                         \n",
              "7   0.00                  -1                         \n",
              "8   0.21                 124                         \n",
              "9   0.26                  38                         \n",
              "10  0.00                  -1                         \n",
              "11  0.19                 379                         \n",
              "12  0.45                 397                         \n",
              "13  0.30                 227                         \n",
              "14  0.16                 332                         \n",
              "15  0.10                 160                         \n",
              "16  0.00                 292                         \n",
              "17  0.14                 396                         \n",
              "18  0.00                  -1                         \n",
              "19  0.00                  -1                         \n",
              "20  0.27                 174                         \n",
              "21  0.00                  -1                         \n",
              "22  0.19                  62                         \n",
              "23  0.00                 128                         \n",
              "24  0.04                 372                         \n",
              "25  0.00                  -1                         \n",
              "26  0.09                 171                         \n",
              "27  0.00                  -1                         \n",
              "28  0.00                  -1                         \n",
              "29  0.07                  21                         \n",
              "30  0.00                  -1                         \n",
              "⋮   ⋮                    ⋮                           \n",
              "543 0.00                  -1                         \n",
              "544 0.00                  -1                         \n",
              "545 0.10                 325                         \n",
              "546 0.00                  -1                         \n",
              "547 0.21                 111                         \n",
              "548 0.00                  -1                         \n",
              "549 0.03                 263                         \n",
              "550 0.35                 106                         \n",
              "551 0.00                  -1                         \n",
              "552 0.00                  -1                         \n",
              "553 0.44                 194                         \n",
              "554 0.03                 152                         \n",
              "555 0.00                 321                         \n",
              "556 0.23                 125                         \n",
              "557 0.15                 374                         \n",
              "558 0.00                  -1                         \n",
              "559 0.30                  63                         \n",
              "560 0.18                 199                         \n",
              "561 0.00                  -1                         \n",
              "562 0.09                 132                         \n",
              "563 0.11                 148                         \n",
              "564 0.17                  15                         \n",
              "565 0.26                 162                         \n",
              "566 0.30                 161                         \n",
              "567 0.17                 113                         \n",
              "568 0.16                  80                         \n",
              "569 0.25                 402                         \n",
              "570 0.00                  -1                         \n",
              "571 0.00                  -1                         \n",
              "572 0.00                 391                         \n",
              "    rank_in_league_top_midfielders rank_in_league_top_defenders\n",
              "1   191                             80                         \n",
              "2   187                             -1                         \n",
              "3   233                             -1                         \n",
              "4     8                             -1                         \n",
              "5    -1                             -1                         \n",
              "6   160                             -1                         \n",
              "7    -1                             -1                         \n",
              "8    80                             -1                         \n",
              "9   412                             -1                         \n",
              "10   -1                             -1                         \n",
              "11  344                             -1                         \n",
              "12  155                            144                         \n",
              "13  228                             85                         \n",
              "14  359                             -1                         \n",
              "15  152                             -1                         \n",
              "16   20                             -1                         \n",
              "17  414                             94                         \n",
              "18   -1                             -1                         \n",
              "19   -1                             -1                         \n",
              "20  167                             -1                         \n",
              "21   -1                             -1                         \n",
              "22  176                             -1                         \n",
              "23   31                             -1                         \n",
              "24  365                            114                         \n",
              "25   -1                             -1                         \n",
              "26  373                             -1                         \n",
              "27   -1                             -1                         \n",
              "28   -1                             -1                         \n",
              "29   25                             -1                         \n",
              "30   -1                             -1                         \n",
              "⋮   ⋮                              ⋮                           \n",
              "543  -1                             -1                         \n",
              "544  -1                             -1                         \n",
              "545 352                             45                         \n",
              "546  -1                             -1                         \n",
              "547 106                             -1                         \n",
              "548  -1                             -1                         \n",
              "549 246                             88                         \n",
              "550 266                             -1                         \n",
              "551  -1                             -1                         \n",
              "552  -1                             -1                         \n",
              "553 384                              7                         \n",
              "554 201                              5                         \n",
              "555 404                             87                         \n",
              "556 300                             48                         \n",
              "557 370                            123                         \n",
              "558  -1                             -1                         \n",
              "559  92                             -1                         \n",
              "560  91                             -1                         \n",
              "561  -1                             -1                         \n",
              "562  36                             -1                         \n",
              "563 312                             43                         \n",
              "564  39                             -1                         \n",
              "565 214                             95                         \n",
              "566 329                             67                         \n",
              "567 290                             -1                         \n",
              "568  13                             -1                         \n",
              "569 293                             -1                         \n",
              "570  -1                             -1                         \n",
              "571  -1                             -1                         \n",
              "572 343                             81                         \n",
              "    rank_in_club_top_scorer\n",
              "1   20                     \n",
              "2   10                     \n",
              "3    3                     \n",
              "4    5                     \n",
              "5   31                     \n",
              "6   22                     \n",
              "7   22                     \n",
              "8    5                     \n",
              "9    4                     \n",
              "10  -1                     \n",
              "11  18                     \n",
              "12  20                     \n",
              "13  10                     \n",
              "14  26                     \n",
              "15  13                     \n",
              "16  17                     \n",
              "17  21                     \n",
              "18  -1                     \n",
              "19  15                     \n",
              "20  15                     \n",
              "21  17                     \n",
              "22   1                     \n",
              "23   8                     \n",
              "24  21                     \n",
              "25  21                     \n",
              "26   5                     \n",
              "27  -1                     \n",
              "28  17                     \n",
              "29   2                     \n",
              "30  16                     \n",
              "⋮   ⋮                      \n",
              "543 -1                     \n",
              "544 23                     \n",
              "545 19                     \n",
              "546 14                     \n",
              "547  1                     \n",
              "548 23                     \n",
              "549 14                     \n",
              "550 11                     \n",
              "551 -1                     \n",
              "552 28                     \n",
              "553 12                     \n",
              "554  6                     \n",
              "555 13                     \n",
              "556  6                     \n",
              "557 27                     \n",
              "558 19                     \n",
              "559  2                     \n",
              "560  8                     \n",
              "561 -1                     \n",
              "562  8                     \n",
              "563  4                     \n",
              "564  4                     \n",
              "565  7                     \n",
              "566  9                     \n",
              "567  8                     \n",
              "568  4                     \n",
              "569 17                     \n",
              "570 -1                     \n",
              "571 -1                     \n",
              "572 19                     "
            ]
          },
          "metadata": {}
        }
      ]
    },
    {
      "cell_type": "markdown",
      "source": [
        "### 自分のPCでRを動かしている場合のファイル読み込み\n",
        "\n",
        "自分のPCでRを動かしている場合、あるファイルを読み込みたいときには、2つの方法があります。\n",
        "\n",
        "* ファイルの相対パスを入力して読み込む ...\n",
        "\n",
        "`read.csv(\"C:/Users/xxx/Desktop/sample_data/sample.csv\")`\n",
        "\n",
        "* `setwd()`でファイルのある場所まで移動して読み込む ...\n",
        "\n",
        "`setwd(\"C:/Users/xxx/Desktop/sample_data\")` → `read.csv(\"sample.csv\")`\n",
        "\n",
        "<img src=\"https://github.com/slt666666/biostatistics_text_wed/blob/main/source/_static/images/chapter2/setwd.png?raw=true\" alt=\"title\" height=\"300px\">\n",
        "\n",
        "`setwd()`はどの場所(フォルダ)でRを動かすかを設定する関数です。"
      ],
      "metadata": {
        "id": "x_ajo6Zo3Fga"
      }
    },
    {
      "cell_type": "markdown",
      "source": [
        "# データフレーム\n",
        "\n",
        "read.csv関数でCSV形式のファイルを読み込むと、綺麗に整えられたテーブル上のフォーマットとして扱われます。\n",
        "\n",
        "この形式をデータフレームと呼び、Rで利用されるデータの保存形式になります。\n",
        "\n",
        "数値や文字などの異なるデータを行列の様にまとめて扱うことができ、\n",
        "\n",
        "グラフを描く関数や統計処理を行う関数を使用するためには、データフレームとしてデータを変数に格納しておく必要があります。"
      ],
      "metadata": {
        "id": "-U71aNMR8zbX"
      }
    },
    {
      "cell_type": "markdown",
      "source": [
        "## データフレームの作成\n",
        "\n",
        "基本的にはCSVファイル等でデータはまとめておき、`read.csv`で読み込む場合が多いですが、\n",
        "\n",
        "以下の様な書き方でデータフレームを0から作成することもできます。\n",
        "\n",
        "```R\n",
        "data.frame(列名=データ, 列名=データ, ... 列名=データ)\n",
        "```"
      ],
      "metadata": {
        "id": "v818uZ5VkPDG"
      }
    },
    {
      "cell_type": "code",
      "source": [
        "x <- c(\"red\", \"yellow\", \"blue\", \"red\", \"yellow\", \"blue\")\n",
        "y <- c(21, 20, 19, 19, 22, 20)\n",
        "z <- c(89, 67, 95, 58, 78, 75)\n",
        "\n",
        "data.frame(\"flower\"=x, \"leaf_length\"=y, \"plant_height\"=z)"
      ],
      "metadata": {
        "colab": {
          "base_uri": "https://localhost:8080/",
          "height": 286
        },
        "id": "-kmGXYX3oQJ5",
        "outputId": "5621e4a2-589b-4d44-be72-1bf49d47991f"
      },
      "execution_count": 23,
      "outputs": [
        {
          "output_type": "display_data",
          "data": {
            "text/html": [
              "<table class=\"dataframe\">\n",
              "<caption>A data.frame: 6 × 3</caption>\n",
              "<thead>\n",
              "\t<tr><th scope=col>flower</th><th scope=col>leaf_length</th><th scope=col>plant_height</th></tr>\n",
              "\t<tr><th scope=col>&lt;chr&gt;</th><th scope=col>&lt;dbl&gt;</th><th scope=col>&lt;dbl&gt;</th></tr>\n",
              "</thead>\n",
              "<tbody>\n",
              "\t<tr><td>red   </td><td>21</td><td>89</td></tr>\n",
              "\t<tr><td>yellow</td><td>20</td><td>67</td></tr>\n",
              "\t<tr><td>blue  </td><td>19</td><td>95</td></tr>\n",
              "\t<tr><td>red   </td><td>19</td><td>58</td></tr>\n",
              "\t<tr><td>yellow</td><td>22</td><td>78</td></tr>\n",
              "\t<tr><td>blue  </td><td>20</td><td>75</td></tr>\n",
              "</tbody>\n",
              "</table>\n"
            ],
            "text/markdown": "\nA data.frame: 6 × 3\n\n| flower &lt;chr&gt; | leaf_length &lt;dbl&gt; | plant_height &lt;dbl&gt; |\n|---|---|---|\n| red    | 21 | 89 |\n| yellow | 20 | 67 |\n| blue   | 19 | 95 |\n| red    | 19 | 58 |\n| yellow | 22 | 78 |\n| blue   | 20 | 75 |\n\n",
            "text/latex": "A data.frame: 6 × 3\n\\begin{tabular}{lll}\n flower & leaf\\_length & plant\\_height\\\\\n <chr> & <dbl> & <dbl>\\\\\n\\hline\n\t red    & 21 & 89\\\\\n\t yellow & 20 & 67\\\\\n\t blue   & 19 & 95\\\\\n\t red    & 19 & 58\\\\\n\t yellow & 22 & 78\\\\\n\t blue   & 20 & 75\\\\\n\\end{tabular}\n",
            "text/plain": [
              "  flower leaf_length plant_height\n",
              "1 red    21          89          \n",
              "2 yellow 20          67          \n",
              "3 blue   19          95          \n",
              "4 red    19          58          \n",
              "5 yellow 22          78          \n",
              "6 blue   20          75          "
            ]
          },
          "metadata": {}
        }
      ]
    },
    {
      "cell_type": "markdown",
      "source": [
        "## データフレームから要素の抽出\n",
        "\n",
        "CSV形式のファイルを読み込む`read.csv`関数は、自動的にデータフレームとしてCSVファイルをRに読み込みます。\n",
        "\n",
        "先ほどアップロードしたデータをデータフレームとして`df`という変数に格納しておきます。"
      ],
      "metadata": {
        "id": "JxnBcnkckTFY"
      }
    },
    {
      "cell_type": "code",
      "source": [
        "df <- read.csv(\"england-premier-league-players-2018-to-2019-stats.csv\")"
      ],
      "metadata": {
        "id": "-8YJh4tuE1xY"
      },
      "execution_count": 24,
      "outputs": []
    },
    {
      "cell_type": "code",
      "source": [
        "df"
      ],
      "metadata": {
        "id": "uwpsUN5uGlFQ",
        "colab": {
          "base_uri": "https://localhost:8080/",
          "height": 1000
        },
        "outputId": "00e883bb-775a-4e75-8a7c-28fdedb96830"
      },
      "execution_count": 25,
      "outputs": [
        {
          "output_type": "display_data",
          "data": {
            "text/html": [
              "<table class=\"dataframe\">\n",
              "<caption>A data.frame: 572 × 47</caption>\n",
              "<thead>\n",
              "\t<tr><th scope=col>full_name</th><th scope=col>age</th><th scope=col>birthday</th><th scope=col>birthday_GMT</th><th scope=col>league</th><th scope=col>season</th><th scope=col>position</th><th scope=col>Current.Club</th><th scope=col>minutes_played_overall</th><th scope=col>minutes_played_home</th><th scope=col>⋯</th><th scope=col>conceded_per_90_overall</th><th scope=col>min_per_conceded_overall</th><th scope=col>min_per_match</th><th scope=col>min_per_card_overall</th><th scope=col>min_per_assist_overall</th><th scope=col>cards_per_90_overall</th><th scope=col>rank_in_league_top_attackers</th><th scope=col>rank_in_league_top_midfielders</th><th scope=col>rank_in_league_top_defenders</th><th scope=col>rank_in_club_top_scorer</th></tr>\n",
              "\t<tr><th scope=col>&lt;chr&gt;</th><th scope=col>&lt;int&gt;</th><th scope=col>&lt;int&gt;</th><th scope=col>&lt;chr&gt;</th><th scope=col>&lt;chr&gt;</th><th scope=col>&lt;chr&gt;</th><th scope=col>&lt;chr&gt;</th><th scope=col>&lt;chr&gt;</th><th scope=col>&lt;int&gt;</th><th scope=col>&lt;int&gt;</th><th scope=col>⋯</th><th scope=col>&lt;dbl&gt;</th><th scope=col>&lt;int&gt;</th><th scope=col>&lt;int&gt;</th><th scope=col>&lt;int&gt;</th><th scope=col>&lt;int&gt;</th><th scope=col>&lt;dbl&gt;</th><th scope=col>&lt;int&gt;</th><th scope=col>&lt;int&gt;</th><th scope=col>&lt;int&gt;</th><th scope=col>&lt;int&gt;</th></tr>\n",
              "</thead>\n",
              "<tbody>\n",
              "\t<tr><td>Aaron Cresswell                 </td><td>31</td><td>629683200</td><td>1989/12/15</td><td>Premier League</td><td>2018/2019</td><td>Defender  </td><td>West Ham United        </td><td>1589</td><td> 888</td><td>⋯</td><td>1.25</td><td> 72</td><td>79</td><td>1589</td><td>1589</td><td>0.06</td><td>290</td><td>191</td><td> 80</td><td>20</td></tr>\n",
              "\t<tr><td>Aaron Lennon                    </td><td>33</td><td>545529600</td><td>1987/04/16</td><td>Premier League</td><td>2018/2019</td><td>Midfielder</td><td>Burnley                </td><td>1217</td><td> 487</td><td>⋯</td><td>1.48</td><td> 61</td><td>76</td><td>1217</td><td>1217</td><td>0.07</td><td>196</td><td>187</td><td> -1</td><td>10</td></tr>\n",
              "\t<tr><td>Aaron Mooy                      </td><td>30</td><td>653356800</td><td>1990/09/15</td><td>Premier League</td><td>2018/2019</td><td>Midfielder</td><td>Huddersfield Town      </td><td>2327</td><td>1190</td><td>⋯</td><td>1.78</td><td> 51</td><td>80</td><td> 582</td><td>2327</td><td>0.15</td><td>144</td><td>233</td><td> -1</td><td> 3</td></tr>\n",
              "\t<tr><td>Aaron Ramsey                    </td><td>30</td><td>662169600</td><td>1990/12/26</td><td>Premier League</td><td>2018/2019</td><td>Midfielder</td><td>Arsenal                </td><td>1327</td><td> 689</td><td>⋯</td><td>0.81</td><td>111</td><td>47</td><td>   0</td><td> 221</td><td>0.00</td><td> 69</td><td>  8</td><td> -1</td><td> 5</td></tr>\n",
              "\t<tr><td>Aaron Rowe                      </td><td>20</td><td>968284800</td><td>2000/09/07</td><td>Premier League</td><td>2018/2019</td><td>Forward   </td><td>Huddersfield Town      </td><td>  69</td><td>  14</td><td>⋯</td><td>1.30</td><td> 69</td><td>35</td><td>   0</td><td>   0</td><td>0.00</td><td> -1</td><td> -1</td><td> -1</td><td>31</td></tr>\n",
              "\t<tr><td>Aaron Wan-Bissaka               </td><td>23</td><td>880502400</td><td>1997/11/26</td><td>Premier League</td><td>2018/2019</td><td>Midfielder</td><td>Crystal Palace         </td><td>3135</td><td>1605</td><td>⋯</td><td>1.18</td><td> 76</td><td>90</td><td> 523</td><td>1045</td><td>0.17</td><td>312</td><td>160</td><td> -1</td><td>22</td></tr>\n",
              "\t<tr><td>Abdelhamid Sabiri               </td><td>24</td><td>849139200</td><td>1996/11/28</td><td>Premier League</td><td>2018/2019</td><td>Midfielder</td><td>Huddersfield Town      </td><td>  49</td><td>   0</td><td>⋯</td><td>5.51</td><td> 16</td><td>25</td><td>   0</td><td>   0</td><td>0.00</td><td> -1</td><td> -1</td><td> -1</td><td>22</td></tr>\n",
              "\t<tr><td>Abdoulaye Doucouré              </td><td>28</td><td>725846400</td><td>1993/01/01</td><td>Premier League</td><td>2018/2019</td><td>Midfielder</td><td>Watford                </td><td>3062</td><td>1566</td><td>⋯</td><td>1.59</td><td> 57</td><td>87</td><td> 437</td><td> 510</td><td>0.21</td><td>124</td><td> 80</td><td> -1</td><td> 5</td></tr>\n",
              "\t<tr><td>Aboubakar Kamara                </td><td>26</td><td>794534400</td><td>1995/03/07</td><td>Premier League</td><td>2018/2019</td><td>Forward   </td><td>Fulham                 </td><td> 687</td><td> 468</td><td>⋯</td><td>2.10</td><td> 43</td><td>53</td><td> 344</td><td>   0</td><td>0.26</td><td> 38</td><td>412</td><td> -1</td><td> 4</td></tr>\n",
              "\t<tr><td>Adalberto Peñaranda Maestre     </td><td>23</td><td>865036800</td><td>1997/05/31</td><td>Premier League</td><td>2018/2019</td><td>Forward   </td><td>Watford                </td><td>   0</td><td>   0</td><td>⋯</td><td>0.00</td><td>  0</td><td> 0</td><td>   0</td><td>   0</td><td>0.00</td><td> -1</td><td> -1</td><td> -1</td><td>-1</td></tr>\n",
              "\t<tr><td>Adam David Lallana              </td><td>32</td><td>579225600</td><td>1988/05/10</td><td>Premier League</td><td>2018/2019</td><td>Midfielder</td><td>Liverpool              </td><td> 465</td><td> 189</td><td>⋯</td><td>0.39</td><td>233</td><td>36</td><td> 465</td><td>   0</td><td>0.19</td><td>379</td><td>344</td><td> -1</td><td>18</td></tr>\n",
              "\t<tr><td>Adam Masina                     </td><td>27</td><td>757468800</td><td>1994/01/02</td><td>Premier League</td><td>2018/2019</td><td>Defender  </td><td>Watford                </td><td>1003</td><td> 463</td><td>⋯</td><td>1.70</td><td> 53</td><td>72</td><td> 201</td><td>1003</td><td>0.45</td><td>397</td><td>155</td><td>144</td><td>20</td></tr>\n",
              "\t<tr><td>Adam Smith                      </td><td>29</td><td>672883200</td><td>1991/04/29</td><td>Premier League</td><td>2018/2019</td><td>Defender  </td><td>AFC Bournemouth        </td><td>2073</td><td>1051</td><td>⋯</td><td>1.30</td><td> 69</td><td>83</td><td> 296</td><td>2073</td><td>0.30</td><td>227</td><td>228</td><td> 85</td><td>10</td></tr>\n",
              "\t<tr><td>Adama Diakhaby                  </td><td>24</td><td>836524800</td><td>1996/07/05</td><td>Premier League</td><td>2018/2019</td><td>Forward   </td><td>Huddersfield Town      </td><td> 551</td><td> 345</td><td>⋯</td><td>2.61</td><td> 34</td><td>46</td><td> 551</td><td>   0</td><td>0.16</td><td>332</td><td>359</td><td> -1</td><td>26</td></tr>\n",
              "\t<tr><td>Adama Traoré Diarra             </td><td>25</td><td>822528000</td><td>1996/01/25</td><td>Premier League</td><td>2018/2019</td><td>Midfielder</td><td>Wolverhampton Wanderers</td><td> 890</td><td> 315</td><td>⋯</td><td>1.11</td><td> 81</td><td>31</td><td> 890</td><td> 890</td><td>0.10</td><td>160</td><td>152</td><td> -1</td><td>13</td></tr>\n",
              "\t<tr><td>Ademola Lookman                 </td><td>23</td><td>877305600</td><td>1997/10/20</td><td>Premier League</td><td>2018/2019</td><td>Forward   </td><td>Everton                </td><td> 601</td><td> 334</td><td>⋯</td><td>1.05</td><td> 86</td><td>29</td><td>   0</td><td> 301</td><td>0.00</td><td>292</td><td> 20</td><td> -1</td><td>17</td></tr>\n",
              "\t<tr><td>Adrian Mariappa                 </td><td>34</td><td>528681600</td><td>1986/10/03</td><td>Premier League</td><td>2018/2019</td><td>Defender  </td><td>Watford                </td><td>1921</td><td> 841</td><td>⋯</td><td>1.36</td><td> 66</td><td>74</td><td> 640</td><td>   0</td><td>0.14</td><td>396</td><td>414</td><td> 94</td><td>21</td></tr>\n",
              "\t<tr><td>Adrián San Miguel del Castillo  </td><td>34</td><td>536630400</td><td>1987/01/03</td><td>Premier League</td><td>2018/2019</td><td>Goalkeeper</td><td>West Ham United        </td><td>   0</td><td>   0</td><td>⋯</td><td>0.00</td><td>  0</td><td> 0</td><td>   0</td><td>   0</td><td>0.00</td><td> -1</td><td> -1</td><td> -1</td><td>-1</td></tr>\n",
              "\t<tr><td>Adrien Sebastian Perruchet Silva</td><td>32</td><td>605923200</td><td>1989/03/15</td><td>Premier League</td><td>2018/2019</td><td>Midfielder</td><td>Leicester City         </td><td>  88</td><td>   8</td><td>⋯</td><td>1.02</td><td> 88</td><td>44</td><td>   0</td><td>   0</td><td>0.00</td><td> -1</td><td> -1</td><td> -1</td><td>15</td></tr>\n",
              "\t<tr><td>Ainsley Maitland-Niles          </td><td>23</td><td>872812800</td><td>1997/08/29</td><td>Premier League</td><td>2018/2019</td><td>Midfielder</td><td>Arsenal                </td><td> 985</td><td> 462</td><td>⋯</td><td>1.46</td><td> 62</td><td>62</td><td> 328</td><td> 985</td><td>0.27</td><td>174</td><td>167</td><td> -1</td><td>15</td></tr>\n",
              "\t<tr><td>Alberto Moreno                  </td><td>28</td><td>710294400</td><td>1992/07/05</td><td>Premier League</td><td>2018/2019</td><td>Defender  </td><td>Liverpool              </td><td> 155</td><td>  90</td><td>⋯</td><td>1.16</td><td> 78</td><td>78</td><td>   0</td><td>   0</td><td>0.00</td><td> -1</td><td> -1</td><td> -1</td><td>17</td></tr>\n",
              "\t<tr><td>Aleksandar Mitrović             </td><td>26</td><td>779673600</td><td>1994/09/16</td><td>Premier League</td><td>2018/2019</td><td>Forward   </td><td>Fulham                 </td><td>3282</td><td>1616</td><td>⋯</td><td>2.03</td><td> 44</td><td>89</td><td> 469</td><td>1094</td><td>0.19</td><td> 62</td><td>176</td><td> -1</td><td> 1</td></tr>\n",
              "\t<tr><td>Alex Iwobi                      </td><td>24</td><td>831081600</td><td>1996/05/03</td><td>Premier League</td><td>2018/2019</td><td>Forward   </td><td>Arsenal                </td><td>1972</td><td> 742</td><td>⋯</td><td>1.41</td><td> 64</td><td>56</td><td>   0</td><td> 329</td><td>0.00</td><td>128</td><td> 31</td><td> -1</td><td> 8</td></tr>\n",
              "\t<tr><td>Alex McCarthy                   </td><td>31</td><td>628646400</td><td>1989/12/03</td><td>Premier League</td><td>2018/2019</td><td>Goalkeeper</td><td>Southampton            </td><td>2250</td><td>1170</td><td>⋯</td><td>1.48</td><td> 61</td><td>90</td><td>2250</td><td>   0</td><td>0.04</td><td>372</td><td>365</td><td>114</td><td>21</td></tr>\n",
              "\t<tr><td>Alex Oxlade-Chamberlain         </td><td>27</td><td>745372800</td><td>1993/08/15</td><td>Premier League</td><td>2018/2019</td><td>Midfielder</td><td>Liverpool              </td><td>  19</td><td>  19</td><td>⋯</td><td>0.00</td><td>  0</td><td>10</td><td>   0</td><td>   0</td><td>0.00</td><td> -1</td><td> -1</td><td> -1</td><td>21</td></tr>\n",
              "\t<tr><td>Alex Pritchard                  </td><td>27</td><td>736387200</td><td>1993/05/03</td><td>Premier League</td><td>2018/2019</td><td>Midfielder</td><td>Huddersfield Town      </td><td>2092</td><td> 992</td><td>⋯</td><td>1.68</td><td> 54</td><td>70</td><td>1046</td><td>   0</td><td>0.09</td><td>171</td><td>373</td><td> -1</td><td> 5</td></tr>\n",
              "\t<tr><td>Alex Smithies                   </td><td>31</td><td>636595200</td><td>1990/03/05</td><td>Premier League</td><td>2018/2019</td><td>Goalkeeper</td><td>Cardiff City           </td><td>   0</td><td>   0</td><td>⋯</td><td>0.00</td><td>  0</td><td> 0</td><td>   0</td><td>   0</td><td>0.00</td><td> -1</td><td> -1</td><td> -1</td><td>-1</td></tr>\n",
              "\t<tr><td>Alexander Sørloth               </td><td>25</td><td>818121600</td><td>1995/12/05</td><td>Premier League</td><td>2018/2019</td><td>Forward   </td><td>Crystal Palace         </td><td> 173</td><td> 121</td><td>⋯</td><td>0.52</td><td>173</td><td>14</td><td>   0</td><td>   0</td><td>0.00</td><td> -1</td><td> -1</td><td> -1</td><td>17</td></tr>\n",
              "\t<tr><td>Alexandre Lacazette             </td><td>29</td><td>675388800</td><td>1991/05/28</td><td>Premier League</td><td>2018/2019</td><td>Forward   </td><td>Arsenal                </td><td>2503</td><td>1403</td><td>⋯</td><td>1.01</td><td> 89</td><td>72</td><td>1252</td><td> 313</td><td>0.07</td><td> 21</td><td> 25</td><td> -1</td><td> 2</td></tr>\n",
              "\t<tr><td>Alexandre Nascimento Costa Silva</td><td>24</td><td>858470400</td><td>1997/03/16</td><td>Premier League</td><td>2018/2019</td><td>Forward   </td><td>West Ham United        </td><td>  17</td><td>   0</td><td>⋯</td><td>0.00</td><td>  0</td><td>17</td><td>   0</td><td>   0</td><td>0.00</td><td> -1</td><td> -1</td><td> -1</td><td>16</td></tr>\n",
              "\t<tr><td>⋮</td><td>⋮</td><td>⋮</td><td>⋮</td><td>⋮</td><td>⋮</td><td>⋮</td><td>⋮</td><td>⋮</td><td>⋮</td><td>⋱</td><td>⋮</td><td>⋮</td><td>⋮</td><td>⋮</td><td>⋮</td><td>⋮</td><td>⋮</td><td>⋮</td><td>⋮</td><td>⋮</td></tr>\n",
              "\t<tr><td>Tyreke Johnson              </td><td>22</td><td>910051200</td><td>1998/11/03</td><td>Premier League</td><td>2018/2019</td><td>Defender  </td><td>Southampton            </td><td>   0</td><td>   0</td><td>⋯</td><td>0.00</td><td>  0</td><td> 0</td><td>   0</td><td>   0</td><td>0.00</td><td> -1</td><td> -1</td><td> -1</td><td>-1</td></tr>\n",
              "\t<tr><td>Tyrone Mings                </td><td>28</td><td>731980800</td><td>1993/03/13</td><td>Premier League</td><td>2018/2019</td><td>Defender  </td><td>AFC Bournemouth        </td><td> 141</td><td>   7</td><td>⋯</td><td>2.55</td><td> 35</td><td>28</td><td>   0</td><td>   0</td><td>0.00</td><td> -1</td><td> -1</td><td> -1</td><td>23</td></tr>\n",
              "\t<tr><td>Vicente Guaita              </td><td>34</td><td>537235200</td><td>1987/01/10</td><td>Premier League</td><td>2018/2019</td><td>Goalkeeper</td><td>Crystal Palace         </td><td>1755</td><td>1035</td><td>⋯</td><td>1.08</td><td> 84</td><td>88</td><td> 878</td><td>   0</td><td>0.10</td><td>325</td><td>352</td><td> 45</td><td>19</td></tr>\n",
              "\t<tr><td>Vicente Iborra De La Fuente </td><td>33</td><td>569289600</td><td>1988/01/16</td><td>Premier League</td><td>2018/2019</td><td>Midfielder</td><td>Leicester City         </td><td> 226</td><td> 152</td><td>⋯</td><td>1.59</td><td> 57</td><td>28</td><td>   0</td><td>   0</td><td>0.00</td><td> -1</td><td> -1</td><td> -1</td><td>14</td></tr>\n",
              "\t<tr><td>Víctor Camarasa             </td><td>26</td><td>770083200</td><td>1994/05/28</td><td>Premier League</td><td>2018/2019</td><td>Midfielder</td><td>Cardiff City           </td><td>2579</td><td>1267</td><td>⋯</td><td>1.68</td><td> 54</td><td>81</td><td> 430</td><td> 645</td><td>0.21</td><td>111</td><td>106</td><td> -1</td><td> 1</td></tr>\n",
              "\t<tr><td>Victor Moses                </td><td>30</td><td>660960000</td><td>1990/12/12</td><td>Premier League</td><td>2018/2019</td><td>Midfielder</td><td>Chelsea                </td><td>  26</td><td>  17</td><td>⋯</td><td>3.46</td><td> 26</td><td>13</td><td>   0</td><td>   0</td><td>0.00</td><td> -1</td><td> -1</td><td> -1</td><td>23</td></tr>\n",
              "\t<tr><td>Victor Nilsson Lindelöf     </td><td>26</td><td>774403200</td><td>1994/07/17</td><td>Premier League</td><td>2018/2019</td><td>Defender  </td><td>Manchester United      </td><td>2602</td><td>1112</td><td>⋯</td><td>1.31</td><td> 68</td><td>87</td><td>2602</td><td>2602</td><td>0.03</td><td>263</td><td>246</td><td> 88</td><td>14</td></tr>\n",
              "\t<tr><td>Victor Wanyama              </td><td>29</td><td>677808000</td><td>1991/06/25</td><td>Premier League</td><td>2018/2019</td><td>Midfielder</td><td>Tottenham Hotspur      </td><td> 509</td><td> 302</td><td>⋯</td><td>0.53</td><td>170</td><td>39</td><td> 255</td><td>   0</td><td>0.35</td><td>106</td><td>266</td><td> -1</td><td>11</td></tr>\n",
              "\t<tr><td><span style=white-space:pre-wrap>Viktor Gyökeres             </span></td><td>22</td><td>896918400</td><td>1998/06/04</td><td>Premier League</td><td>2018/2019</td><td><span style=white-space:pre-wrap>Forward   </span></td><td>Brighton &amp; Hove Albion </td><td><span style=white-space:pre-wrap>   0</span></td><td><span style=white-space:pre-wrap>   0</span></td><td>⋯</td><td>0.00</td><td><span style=white-space:pre-wrap>  0</span></td><td> 0</td><td><span style=white-space:pre-wrap>   0</span></td><td><span style=white-space:pre-wrap>   0</span></td><td>0.00</td><td> -1</td><td> -1</td><td> -1</td><td>-1</td></tr>\n",
              "\t<tr><td>Vincent Janssen             </td><td>26</td><td>771638400</td><td>1994/06/15</td><td>Premier League</td><td>2018/2019</td><td>Forward   </td><td>Tottenham Hotspur      </td><td>  36</td><td>  36</td><td>⋯</td><td>0.00</td><td>  0</td><td>12</td><td>   0</td><td>   0</td><td>0.00</td><td> -1</td><td> -1</td><td> -1</td><td>28</td></tr>\n",
              "\t<tr><td>Vincent Kompany             </td><td>34</td><td>513475200</td><td>1986/04/10</td><td>Premier League</td><td>2018/2019</td><td>Defender  </td><td>Manchester City        </td><td>1223</td><td> 561</td><td>⋯</td><td>0.52</td><td>175</td><td>72</td><td> 204</td><td>   0</td><td>0.44</td><td>194</td><td>384</td><td>  7</td><td>12</td></tr>\n",
              "\t<tr><td>Virgil van Dijk             </td><td>29</td><td>678931200</td><td>1991/07/08</td><td>Premier League</td><td>2018/2019</td><td>Defender  </td><td>Liverpool              </td><td>3385</td><td>1675</td><td>⋯</td><td>0.51</td><td>178</td><td>89</td><td>3385</td><td>1693</td><td>0.03</td><td>152</td><td>201</td><td>  5</td><td> 6</td></tr>\n",
              "\t<tr><td>Wayne Hennessey             </td><td>34</td><td>538444800</td><td>1987/01/24</td><td>Premier League</td><td>2018/2019</td><td>Goalkeeper</td><td>Crystal Palace         </td><td>1575</td><td> 675</td><td>⋯</td><td>1.31</td><td> 68</td><td>88</td><td>   0</td><td>   0</td><td>0.00</td><td>321</td><td>404</td><td> 87</td><td>13</td></tr>\n",
              "\t<tr><td>Wes Morgan                  </td><td>37</td><td>443491200</td><td>1984/01/21</td><td>Premier League</td><td>2018/2019</td><td>Defender  </td><td>Leicester City         </td><td>1926</td><td> 783</td><td>⋯</td><td>1.12</td><td> 80</td><td>88</td><td> 385</td><td>   0</td><td>0.23</td><td>125</td><td>300</td><td> 48</td><td> 6</td></tr>\n",
              "\t<tr><td>Wesley Hoedt                </td><td>27</td><td>762912000</td><td>1994/03/06</td><td>Premier League</td><td>2018/2019</td><td>Defender  </td><td>Southampton            </td><td>1170</td><td> 540</td><td>⋯</td><td>1.54</td><td> 59</td><td>90</td><td> 585</td><td>   0</td><td>0.15</td><td>374</td><td>370</td><td>123</td><td>27</td></tr>\n",
              "\t<tr><td>Wilfredo Daniel Caballero   </td><td>39</td><td>370483200</td><td>1981/09/28</td><td>Premier League</td><td>2018/2019</td><td>Goalkeeper</td><td>Chelsea                </td><td> 180</td><td>  90</td><td>⋯</td><td>0.00</td><td>  0</td><td>90</td><td>   0</td><td>   0</td><td>0.00</td><td> -1</td><td> -1</td><td> -1</td><td>19</td></tr>\n",
              "\t<tr><td>Wilfried Zaha               </td><td>28</td><td>721353600</td><td>1992/11/10</td><td>Premier League</td><td>2018/2019</td><td>Midfielder</td><td>Crystal Palace         </td><td>3041</td><td>1347</td><td>⋯</td><td>1.33</td><td> 68</td><td>89</td><td> 304</td><td> 608</td><td>0.30</td><td> 63</td><td> 92</td><td> -1</td><td> 2</td></tr>\n",
              "\t<tr><td>Will Hughes                 </td><td>25</td><td>798076800</td><td>1995/04/17</td><td>Premier League</td><td>2018/2019</td><td>Midfielder</td><td>Watford                </td><td>2436</td><td>1251</td><td>⋯</td><td>1.44</td><td> 62</td><td>76</td><td> 487</td><td> 609</td><td>0.18</td><td>199</td><td> 91</td><td> -1</td><td> 8</td></tr>\n",
              "\t<tr><td>Will Norris                 </td><td>27</td><td>745113600</td><td>1993/08/12</td><td>Premier League</td><td>2018/2019</td><td>Goalkeeper</td><td>Wolverhampton Wanderers</td><td>   0</td><td>   0</td><td>⋯</td><td>0.00</td><td>  0</td><td> 0</td><td>   0</td><td>   0</td><td>0.00</td><td> -1</td><td> -1</td><td> -1</td><td>-1</td></tr>\n",
              "\t<tr><td>Willian                     </td><td>32</td><td>587088000</td><td>1988/08/09</td><td>Premier League</td><td>2018/2019</td><td>Forward   </td><td>Chelsea                </td><td>2108</td><td> 833</td><td>⋯</td><td>0.98</td><td> 92</td><td>66</td><td>1054</td><td> 351</td><td>0.09</td><td>132</td><td> 36</td><td> -1</td><td> 8</td></tr>\n",
              "\t<tr><td>Willy Boly                  </td><td>30</td><td>665539200</td><td>1991/02/03</td><td>Premier League</td><td>2018/2019</td><td>Defender  </td><td>Wolverhampton Wanderers</td><td>3169</td><td>1530</td><td>⋯</td><td>1.08</td><td> 83</td><td>88</td><td> 792</td><td>   0</td><td>0.11</td><td>148</td><td>312</td><td> 43</td><td> 4</td></tr>\n",
              "\t<tr><td>Xherdan Shaqiri             </td><td>29</td><td>687052800</td><td>1991/10/10</td><td>Premier League</td><td>2018/2019</td><td>Midfielder</td><td>Liverpool              </td><td>1058</td><td> 538</td><td>⋯</td><td>0.43</td><td>212</td><td>44</td><td> 529</td><td> 353</td><td>0.17</td><td> 15</td><td> 39</td><td> -1</td><td> 4</td></tr>\n",
              "\t<tr><td>Yann Valery                 </td><td>22</td><td>919641600</td><td>1999/02/22</td><td>Premier League</td><td>2018/2019</td><td>Defender  </td><td>Southampton            </td><td>1715</td><td>1070</td><td>⋯</td><td>1.36</td><td> 66</td><td>75</td><td> 343</td><td>1715</td><td>0.26</td><td>162</td><td>214</td><td> 95</td><td> 7</td></tr>\n",
              "\t<tr><td>Yerry Fernando Mina González</td><td>26</td><td>780278400</td><td>1994/09/23</td><td>Premier League</td><td>2018/2019</td><td>Defender  </td><td>Everton                </td><td> 890</td><td> 360</td><td>⋯</td><td>1.21</td><td> 74</td><td>68</td><td> 297</td><td>   0</td><td>0.30</td><td>161</td><td>329</td><td> 67</td><td> 9</td></tr>\n",
              "\t<tr><td>Yoshinori Muto              </td><td>28</td><td>711158400</td><td>1992/07/15</td><td>Premier League</td><td>2018/2019</td><td>Forward   </td><td>Newcastle United       </td><td> 516</td><td> 180</td><td>⋯</td><td>1.74</td><td> 52</td><td>30</td><td> 516</td><td>   0</td><td>0.17</td><td>113</td><td>290</td><td> -1</td><td> 8</td></tr>\n",
              "\t<tr><td>Youri Tielemans             </td><td>23</td><td>862963200</td><td>1997/05/07</td><td>Premier League</td><td>2018/2019</td><td>Midfielder</td><td>Leicester City         </td><td>1092</td><td> 575</td><td>⋯</td><td>1.07</td><td> 84</td><td>84</td><td> 546</td><td> 273</td><td>0.16</td><td> 80</td><td> 13</td><td> -1</td><td> 4</td></tr>\n",
              "\t<tr><td><span style=white-space:pre-wrap>Yves Bissouma               </span></td><td>24</td><td>841363200</td><td>1996/08/30</td><td>Premier League</td><td>2018/2019</td><td>Midfielder</td><td>Brighton &amp; Hove Albion </td><td>1769</td><td> 747</td><td>⋯</td><td>1.53</td><td> 59</td><td>63</td><td> 354</td><td><span style=white-space:pre-wrap>   0</span></td><td>0.25</td><td>402</td><td>293</td><td> -1</td><td>17</td></tr>\n",
              "\t<tr><td>Zechariah Medley            </td><td>20</td><td>962928000</td><td>2000/07/07</td><td>Premier League</td><td>2018/2019</td><td>Defender  </td><td>Arsenal                </td><td>   0</td><td>   0</td><td>⋯</td><td>0.00</td><td>  0</td><td> 0</td><td>   0</td><td>   0</td><td>0.00</td><td> -1</td><td> -1</td><td> -1</td><td>-1</td></tr>\n",
              "\t<tr><td>Zeze Steven Sessegnon       </td><td>20</td><td>958608000</td><td>2000/05/18</td><td>Premier League</td><td>2018/2019</td><td>Defender  </td><td>Fulham                 </td><td>   0</td><td>   0</td><td>⋯</td><td>0.00</td><td>  0</td><td> 0</td><td>   0</td><td>   0</td><td>0.00</td><td> -1</td><td> -1</td><td> -1</td><td>-1</td></tr>\n",
              "\t<tr><td>Łukasz Fabiański            </td><td>35</td><td>482630400</td><td>1985/04/18</td><td>Premier League</td><td>2018/2019</td><td>Goalkeeper</td><td>West Ham United        </td><td>3420</td><td>1710</td><td>⋯</td><td>1.26</td><td> 71</td><td>90</td><td>   0</td><td>   0</td><td>0.00</td><td>391</td><td>343</td><td> 81</td><td>19</td></tr>\n",
              "</tbody>\n",
              "</table>\n"
            ],
            "text/markdown": "\nA data.frame: 572 × 47\n\n| full_name &lt;chr&gt; | age &lt;int&gt; | birthday &lt;int&gt; | birthday_GMT &lt;chr&gt; | league &lt;chr&gt; | season &lt;chr&gt; | position &lt;chr&gt; | Current.Club &lt;chr&gt; | minutes_played_overall &lt;int&gt; | minutes_played_home &lt;int&gt; | ⋯ ⋯ | conceded_per_90_overall &lt;dbl&gt; | min_per_conceded_overall &lt;int&gt; | min_per_match &lt;int&gt; | min_per_card_overall &lt;int&gt; | min_per_assist_overall &lt;int&gt; | cards_per_90_overall &lt;dbl&gt; | rank_in_league_top_attackers &lt;int&gt; | rank_in_league_top_midfielders &lt;int&gt; | rank_in_league_top_defenders &lt;int&gt; | rank_in_club_top_scorer &lt;int&gt; |\n|---|---|---|---|---|---|---|---|---|---|---|---|---|---|---|---|---|---|---|---|---|\n| Aaron Cresswell                  | 31 | 629683200 | 1989/12/15 | Premier League | 2018/2019 | Defender   | West Ham United         | 1589 |  888 | ⋯ | 1.25 |  72 | 79 | 1589 | 1589 | 0.06 | 290 | 191 |  80 | 20 |\n| Aaron Lennon                     | 33 | 545529600 | 1987/04/16 | Premier League | 2018/2019 | Midfielder | Burnley                 | 1217 |  487 | ⋯ | 1.48 |  61 | 76 | 1217 | 1217 | 0.07 | 196 | 187 |  -1 | 10 |\n| Aaron Mooy                       | 30 | 653356800 | 1990/09/15 | Premier League | 2018/2019 | Midfielder | Huddersfield Town       | 2327 | 1190 | ⋯ | 1.78 |  51 | 80 |  582 | 2327 | 0.15 | 144 | 233 |  -1 |  3 |\n| Aaron Ramsey                     | 30 | 662169600 | 1990/12/26 | Premier League | 2018/2019 | Midfielder | Arsenal                 | 1327 |  689 | ⋯ | 0.81 | 111 | 47 |    0 |  221 | 0.00 |  69 |   8 |  -1 |  5 |\n| Aaron Rowe                       | 20 | 968284800 | 2000/09/07 | Premier League | 2018/2019 | Forward    | Huddersfield Town       |   69 |   14 | ⋯ | 1.30 |  69 | 35 |    0 |    0 | 0.00 |  -1 |  -1 |  -1 | 31 |\n| Aaron Wan-Bissaka                | 23 | 880502400 | 1997/11/26 | Premier League | 2018/2019 | Midfielder | Crystal Palace          | 3135 | 1605 | ⋯ | 1.18 |  76 | 90 |  523 | 1045 | 0.17 | 312 | 160 |  -1 | 22 |\n| Abdelhamid Sabiri                | 24 | 849139200 | 1996/11/28 | Premier League | 2018/2019 | Midfielder | Huddersfield Town       |   49 |    0 | ⋯ | 5.51 |  16 | 25 |    0 |    0 | 0.00 |  -1 |  -1 |  -1 | 22 |\n| Abdoulaye Doucouré               | 28 | 725846400 | 1993/01/01 | Premier League | 2018/2019 | Midfielder | Watford                 | 3062 | 1566 | ⋯ | 1.59 |  57 | 87 |  437 |  510 | 0.21 | 124 |  80 |  -1 |  5 |\n| Aboubakar Kamara                 | 26 | 794534400 | 1995/03/07 | Premier League | 2018/2019 | Forward    | Fulham                  |  687 |  468 | ⋯ | 2.10 |  43 | 53 |  344 |    0 | 0.26 |  38 | 412 |  -1 |  4 |\n| Adalberto Peñaranda Maestre      | 23 | 865036800 | 1997/05/31 | Premier League | 2018/2019 | Forward    | Watford                 |    0 |    0 | ⋯ | 0.00 |   0 |  0 |    0 |    0 | 0.00 |  -1 |  -1 |  -1 | -1 |\n| Adam David Lallana               | 32 | 579225600 | 1988/05/10 | Premier League | 2018/2019 | Midfielder | Liverpool               |  465 |  189 | ⋯ | 0.39 | 233 | 36 |  465 |    0 | 0.19 | 379 | 344 |  -1 | 18 |\n| Adam Masina                      | 27 | 757468800 | 1994/01/02 | Premier League | 2018/2019 | Defender   | Watford                 | 1003 |  463 | ⋯ | 1.70 |  53 | 72 |  201 | 1003 | 0.45 | 397 | 155 | 144 | 20 |\n| Adam Smith                       | 29 | 672883200 | 1991/04/29 | Premier League | 2018/2019 | Defender   | AFC Bournemouth         | 2073 | 1051 | ⋯ | 1.30 |  69 | 83 |  296 | 2073 | 0.30 | 227 | 228 |  85 | 10 |\n| Adama Diakhaby                   | 24 | 836524800 | 1996/07/05 | Premier League | 2018/2019 | Forward    | Huddersfield Town       |  551 |  345 | ⋯ | 2.61 |  34 | 46 |  551 |    0 | 0.16 | 332 | 359 |  -1 | 26 |\n| Adama Traoré Diarra              | 25 | 822528000 | 1996/01/25 | Premier League | 2018/2019 | Midfielder | Wolverhampton Wanderers |  890 |  315 | ⋯ | 1.11 |  81 | 31 |  890 |  890 | 0.10 | 160 | 152 |  -1 | 13 |\n| Ademola Lookman                  | 23 | 877305600 | 1997/10/20 | Premier League | 2018/2019 | Forward    | Everton                 |  601 |  334 | ⋯ | 1.05 |  86 | 29 |    0 |  301 | 0.00 | 292 |  20 |  -1 | 17 |\n| Adrian Mariappa                  | 34 | 528681600 | 1986/10/03 | Premier League | 2018/2019 | Defender   | Watford                 | 1921 |  841 | ⋯ | 1.36 |  66 | 74 |  640 |    0 | 0.14 | 396 | 414 |  94 | 21 |\n| Adrián San Miguel del Castillo   | 34 | 536630400 | 1987/01/03 | Premier League | 2018/2019 | Goalkeeper | West Ham United         |    0 |    0 | ⋯ | 0.00 |   0 |  0 |    0 |    0 | 0.00 |  -1 |  -1 |  -1 | -1 |\n| Adrien Sebastian Perruchet Silva | 32 | 605923200 | 1989/03/15 | Premier League | 2018/2019 | Midfielder | Leicester City          |   88 |    8 | ⋯ | 1.02 |  88 | 44 |    0 |    0 | 0.00 |  -1 |  -1 |  -1 | 15 |\n| Ainsley Maitland-Niles           | 23 | 872812800 | 1997/08/29 | Premier League | 2018/2019 | Midfielder | Arsenal                 |  985 |  462 | ⋯ | 1.46 |  62 | 62 |  328 |  985 | 0.27 | 174 | 167 |  -1 | 15 |\n| Alberto Moreno                   | 28 | 710294400 | 1992/07/05 | Premier League | 2018/2019 | Defender   | Liverpool               |  155 |   90 | ⋯ | 1.16 |  78 | 78 |    0 |    0 | 0.00 |  -1 |  -1 |  -1 | 17 |\n| Aleksandar Mitrović              | 26 | 779673600 | 1994/09/16 | Premier League | 2018/2019 | Forward    | Fulham                  | 3282 | 1616 | ⋯ | 2.03 |  44 | 89 |  469 | 1094 | 0.19 |  62 | 176 |  -1 |  1 |\n| Alex Iwobi                       | 24 | 831081600 | 1996/05/03 | Premier League | 2018/2019 | Forward    | Arsenal                 | 1972 |  742 | ⋯ | 1.41 |  64 | 56 |    0 |  329 | 0.00 | 128 |  31 |  -1 |  8 |\n| Alex McCarthy                    | 31 | 628646400 | 1989/12/03 | Premier League | 2018/2019 | Goalkeeper | Southampton             | 2250 | 1170 | ⋯ | 1.48 |  61 | 90 | 2250 |    0 | 0.04 | 372 | 365 | 114 | 21 |\n| Alex Oxlade-Chamberlain          | 27 | 745372800 | 1993/08/15 | Premier League | 2018/2019 | Midfielder | Liverpool               |   19 |   19 | ⋯ | 0.00 |   0 | 10 |    0 |    0 | 0.00 |  -1 |  -1 |  -1 | 21 |\n| Alex Pritchard                   | 27 | 736387200 | 1993/05/03 | Premier League | 2018/2019 | Midfielder | Huddersfield Town       | 2092 |  992 | ⋯ | 1.68 |  54 | 70 | 1046 |    0 | 0.09 | 171 | 373 |  -1 |  5 |\n| Alex Smithies                    | 31 | 636595200 | 1990/03/05 | Premier League | 2018/2019 | Goalkeeper | Cardiff City            |    0 |    0 | ⋯ | 0.00 |   0 |  0 |    0 |    0 | 0.00 |  -1 |  -1 |  -1 | -1 |\n| Alexander Sørloth                | 25 | 818121600 | 1995/12/05 | Premier League | 2018/2019 | Forward    | Crystal Palace          |  173 |  121 | ⋯ | 0.52 | 173 | 14 |    0 |    0 | 0.00 |  -1 |  -1 |  -1 | 17 |\n| Alexandre Lacazette              | 29 | 675388800 | 1991/05/28 | Premier League | 2018/2019 | Forward    | Arsenal                 | 2503 | 1403 | ⋯ | 1.01 |  89 | 72 | 1252 |  313 | 0.07 |  21 |  25 |  -1 |  2 |\n| Alexandre Nascimento Costa Silva | 24 | 858470400 | 1997/03/16 | Premier League | 2018/2019 | Forward    | West Ham United         |   17 |    0 | ⋯ | 0.00 |   0 | 17 |    0 |    0 | 0.00 |  -1 |  -1 |  -1 | 16 |\n| ⋮ | ⋮ | ⋮ | ⋮ | ⋮ | ⋮ | ⋮ | ⋮ | ⋮ | ⋮ | ⋱ | ⋮ | ⋮ | ⋮ | ⋮ | ⋮ | ⋮ | ⋮ | ⋮ | ⋮ | ⋮ |\n| Tyreke Johnson               | 22 | 910051200 | 1998/11/03 | Premier League | 2018/2019 | Defender   | Southampton             |    0 |    0 | ⋯ | 0.00 |   0 |  0 |    0 |    0 | 0.00 |  -1 |  -1 |  -1 | -1 |\n| Tyrone Mings                 | 28 | 731980800 | 1993/03/13 | Premier League | 2018/2019 | Defender   | AFC Bournemouth         |  141 |    7 | ⋯ | 2.55 |  35 | 28 |    0 |    0 | 0.00 |  -1 |  -1 |  -1 | 23 |\n| Vicente Guaita               | 34 | 537235200 | 1987/01/10 | Premier League | 2018/2019 | Goalkeeper | Crystal Palace          | 1755 | 1035 | ⋯ | 1.08 |  84 | 88 |  878 |    0 | 0.10 | 325 | 352 |  45 | 19 |\n| Vicente Iborra De La Fuente  | 33 | 569289600 | 1988/01/16 | Premier League | 2018/2019 | Midfielder | Leicester City          |  226 |  152 | ⋯ | 1.59 |  57 | 28 |    0 |    0 | 0.00 |  -1 |  -1 |  -1 | 14 |\n| Víctor Camarasa              | 26 | 770083200 | 1994/05/28 | Premier League | 2018/2019 | Midfielder | Cardiff City            | 2579 | 1267 | ⋯ | 1.68 |  54 | 81 |  430 |  645 | 0.21 | 111 | 106 |  -1 |  1 |\n| Victor Moses                 | 30 | 660960000 | 1990/12/12 | Premier League | 2018/2019 | Midfielder | Chelsea                 |   26 |   17 | ⋯ | 3.46 |  26 | 13 |    0 |    0 | 0.00 |  -1 |  -1 |  -1 | 23 |\n| Victor Nilsson Lindelöf      | 26 | 774403200 | 1994/07/17 | Premier League | 2018/2019 | Defender   | Manchester United       | 2602 | 1112 | ⋯ | 1.31 |  68 | 87 | 2602 | 2602 | 0.03 | 263 | 246 |  88 | 14 |\n| Victor Wanyama               | 29 | 677808000 | 1991/06/25 | Premier League | 2018/2019 | Midfielder | Tottenham Hotspur       |  509 |  302 | ⋯ | 0.53 | 170 | 39 |  255 |    0 | 0.35 | 106 | 266 |  -1 | 11 |\n| Viktor Gyökeres              | 22 | 896918400 | 1998/06/04 | Premier League | 2018/2019 | Forward    | Brighton &amp; Hove Albion  |    0 |    0 | ⋯ | 0.00 |   0 |  0 |    0 |    0 | 0.00 |  -1 |  -1 |  -1 | -1 |\n| Vincent Janssen              | 26 | 771638400 | 1994/06/15 | Premier League | 2018/2019 | Forward    | Tottenham Hotspur       |   36 |   36 | ⋯ | 0.00 |   0 | 12 |    0 |    0 | 0.00 |  -1 |  -1 |  -1 | 28 |\n| Vincent Kompany              | 34 | 513475200 | 1986/04/10 | Premier League | 2018/2019 | Defender   | Manchester City         | 1223 |  561 | ⋯ | 0.52 | 175 | 72 |  204 |    0 | 0.44 | 194 | 384 |   7 | 12 |\n| Virgil van Dijk              | 29 | 678931200 | 1991/07/08 | Premier League | 2018/2019 | Defender   | Liverpool               | 3385 | 1675 | ⋯ | 0.51 | 178 | 89 | 3385 | 1693 | 0.03 | 152 | 201 |   5 |  6 |\n| Wayne Hennessey              | 34 | 538444800 | 1987/01/24 | Premier League | 2018/2019 | Goalkeeper | Crystal Palace          | 1575 |  675 | ⋯ | 1.31 |  68 | 88 |    0 |    0 | 0.00 | 321 | 404 |  87 | 13 |\n| Wes Morgan                   | 37 | 443491200 | 1984/01/21 | Premier League | 2018/2019 | Defender   | Leicester City          | 1926 |  783 | ⋯ | 1.12 |  80 | 88 |  385 |    0 | 0.23 | 125 | 300 |  48 |  6 |\n| Wesley Hoedt                 | 27 | 762912000 | 1994/03/06 | Premier League | 2018/2019 | Defender   | Southampton             | 1170 |  540 | ⋯ | 1.54 |  59 | 90 |  585 |    0 | 0.15 | 374 | 370 | 123 | 27 |\n| Wilfredo Daniel Caballero    | 39 | 370483200 | 1981/09/28 | Premier League | 2018/2019 | Goalkeeper | Chelsea                 |  180 |   90 | ⋯ | 0.00 |   0 | 90 |    0 |    0 | 0.00 |  -1 |  -1 |  -1 | 19 |\n| Wilfried Zaha                | 28 | 721353600 | 1992/11/10 | Premier League | 2018/2019 | Midfielder | Crystal Palace          | 3041 | 1347 | ⋯ | 1.33 |  68 | 89 |  304 |  608 | 0.30 |  63 |  92 |  -1 |  2 |\n| Will Hughes                  | 25 | 798076800 | 1995/04/17 | Premier League | 2018/2019 | Midfielder | Watford                 | 2436 | 1251 | ⋯ | 1.44 |  62 | 76 |  487 |  609 | 0.18 | 199 |  91 |  -1 |  8 |\n| Will Norris                  | 27 | 745113600 | 1993/08/12 | Premier League | 2018/2019 | Goalkeeper | Wolverhampton Wanderers |    0 |    0 | ⋯ | 0.00 |   0 |  0 |    0 |    0 | 0.00 |  -1 |  -1 |  -1 | -1 |\n| Willian                      | 32 | 587088000 | 1988/08/09 | Premier League | 2018/2019 | Forward    | Chelsea                 | 2108 |  833 | ⋯ | 0.98 |  92 | 66 | 1054 |  351 | 0.09 | 132 |  36 |  -1 |  8 |\n| Willy Boly                   | 30 | 665539200 | 1991/02/03 | Premier League | 2018/2019 | Defender   | Wolverhampton Wanderers | 3169 | 1530 | ⋯ | 1.08 |  83 | 88 |  792 |    0 | 0.11 | 148 | 312 |  43 |  4 |\n| Xherdan Shaqiri              | 29 | 687052800 | 1991/10/10 | Premier League | 2018/2019 | Midfielder | Liverpool               | 1058 |  538 | ⋯ | 0.43 | 212 | 44 |  529 |  353 | 0.17 |  15 |  39 |  -1 |  4 |\n| Yann Valery                  | 22 | 919641600 | 1999/02/22 | Premier League | 2018/2019 | Defender   | Southampton             | 1715 | 1070 | ⋯ | 1.36 |  66 | 75 |  343 | 1715 | 0.26 | 162 | 214 |  95 |  7 |\n| Yerry Fernando Mina González | 26 | 780278400 | 1994/09/23 | Premier League | 2018/2019 | Defender   | Everton                 |  890 |  360 | ⋯ | 1.21 |  74 | 68 |  297 |    0 | 0.30 | 161 | 329 |  67 |  9 |\n| Yoshinori Muto               | 28 | 711158400 | 1992/07/15 | Premier League | 2018/2019 | Forward    | Newcastle United        |  516 |  180 | ⋯ | 1.74 |  52 | 30 |  516 |    0 | 0.17 | 113 | 290 |  -1 |  8 |\n| Youri Tielemans              | 23 | 862963200 | 1997/05/07 | Premier League | 2018/2019 | Midfielder | Leicester City          | 1092 |  575 | ⋯ | 1.07 |  84 | 84 |  546 |  273 | 0.16 |  80 |  13 |  -1 |  4 |\n| Yves Bissouma                | 24 | 841363200 | 1996/08/30 | Premier League | 2018/2019 | Midfielder | Brighton &amp; Hove Albion  | 1769 |  747 | ⋯ | 1.53 |  59 | 63 |  354 |    0 | 0.25 | 402 | 293 |  -1 | 17 |\n| Zechariah Medley             | 20 | 962928000 | 2000/07/07 | Premier League | 2018/2019 | Defender   | Arsenal                 |    0 |    0 | ⋯ | 0.00 |   0 |  0 |    0 |    0 | 0.00 |  -1 |  -1 |  -1 | -1 |\n| Zeze Steven Sessegnon        | 20 | 958608000 | 2000/05/18 | Premier League | 2018/2019 | Defender   | Fulham                  |    0 |    0 | ⋯ | 0.00 |   0 |  0 |    0 |    0 | 0.00 |  -1 |  -1 |  -1 | -1 |\n| Łukasz Fabiański             | 35 | 482630400 | 1985/04/18 | Premier League | 2018/2019 | Goalkeeper | West Ham United         | 3420 | 1710 | ⋯ | 1.26 |  71 | 90 |    0 |    0 | 0.00 | 391 | 343 |  81 | 19 |\n\n",
            "text/latex": "A data.frame: 572 × 47\n\\begin{tabular}{lllllllllllllllllllll}\n full\\_name & age & birthday & birthday\\_GMT & league & season & position & Current.Club & minutes\\_played\\_overall & minutes\\_played\\_home & ⋯ & conceded\\_per\\_90\\_overall & min\\_per\\_conceded\\_overall & min\\_per\\_match & min\\_per\\_card\\_overall & min\\_per\\_assist\\_overall & cards\\_per\\_90\\_overall & rank\\_in\\_league\\_top\\_attackers & rank\\_in\\_league\\_top\\_midfielders & rank\\_in\\_league\\_top\\_defenders & rank\\_in\\_club\\_top\\_scorer\\\\\n <chr> & <int> & <int> & <chr> & <chr> & <chr> & <chr> & <chr> & <int> & <int> & ⋯ & <dbl> & <int> & <int> & <int> & <int> & <dbl> & <int> & <int> & <int> & <int>\\\\\n\\hline\n\t Aaron Cresswell                  & 31 & 629683200 & 1989/12/15 & Premier League & 2018/2019 & Defender   & West Ham United         & 1589 &  888 & ⋯ & 1.25 &  72 & 79 & 1589 & 1589 & 0.06 & 290 & 191 &  80 & 20\\\\\n\t Aaron Lennon                     & 33 & 545529600 & 1987/04/16 & Premier League & 2018/2019 & Midfielder & Burnley                 & 1217 &  487 & ⋯ & 1.48 &  61 & 76 & 1217 & 1217 & 0.07 & 196 & 187 &  -1 & 10\\\\\n\t Aaron Mooy                       & 30 & 653356800 & 1990/09/15 & Premier League & 2018/2019 & Midfielder & Huddersfield Town       & 2327 & 1190 & ⋯ & 1.78 &  51 & 80 &  582 & 2327 & 0.15 & 144 & 233 &  -1 &  3\\\\\n\t Aaron Ramsey                     & 30 & 662169600 & 1990/12/26 & Premier League & 2018/2019 & Midfielder & Arsenal                 & 1327 &  689 & ⋯ & 0.81 & 111 & 47 &    0 &  221 & 0.00 &  69 &   8 &  -1 &  5\\\\\n\t Aaron Rowe                       & 20 & 968284800 & 2000/09/07 & Premier League & 2018/2019 & Forward    & Huddersfield Town       &   69 &   14 & ⋯ & 1.30 &  69 & 35 &    0 &    0 & 0.00 &  -1 &  -1 &  -1 & 31\\\\\n\t Aaron Wan-Bissaka                & 23 & 880502400 & 1997/11/26 & Premier League & 2018/2019 & Midfielder & Crystal Palace          & 3135 & 1605 & ⋯ & 1.18 &  76 & 90 &  523 & 1045 & 0.17 & 312 & 160 &  -1 & 22\\\\\n\t Abdelhamid Sabiri                & 24 & 849139200 & 1996/11/28 & Premier League & 2018/2019 & Midfielder & Huddersfield Town       &   49 &    0 & ⋯ & 5.51 &  16 & 25 &    0 &    0 & 0.00 &  -1 &  -1 &  -1 & 22\\\\\n\t Abdoulaye Doucouré               & 28 & 725846400 & 1993/01/01 & Premier League & 2018/2019 & Midfielder & Watford                 & 3062 & 1566 & ⋯ & 1.59 &  57 & 87 &  437 &  510 & 0.21 & 124 &  80 &  -1 &  5\\\\\n\t Aboubakar Kamara                 & 26 & 794534400 & 1995/03/07 & Premier League & 2018/2019 & Forward    & Fulham                  &  687 &  468 & ⋯ & 2.10 &  43 & 53 &  344 &    0 & 0.26 &  38 & 412 &  -1 &  4\\\\\n\t Adalberto Peñaranda Maestre      & 23 & 865036800 & 1997/05/31 & Premier League & 2018/2019 & Forward    & Watford                 &    0 &    0 & ⋯ & 0.00 &   0 &  0 &    0 &    0 & 0.00 &  -1 &  -1 &  -1 & -1\\\\\n\t Adam David Lallana               & 32 & 579225600 & 1988/05/10 & Premier League & 2018/2019 & Midfielder & Liverpool               &  465 &  189 & ⋯ & 0.39 & 233 & 36 &  465 &    0 & 0.19 & 379 & 344 &  -1 & 18\\\\\n\t Adam Masina                      & 27 & 757468800 & 1994/01/02 & Premier League & 2018/2019 & Defender   & Watford                 & 1003 &  463 & ⋯ & 1.70 &  53 & 72 &  201 & 1003 & 0.45 & 397 & 155 & 144 & 20\\\\\n\t Adam Smith                       & 29 & 672883200 & 1991/04/29 & Premier League & 2018/2019 & Defender   & AFC Bournemouth         & 2073 & 1051 & ⋯ & 1.30 &  69 & 83 &  296 & 2073 & 0.30 & 227 & 228 &  85 & 10\\\\\n\t Adama Diakhaby                   & 24 & 836524800 & 1996/07/05 & Premier League & 2018/2019 & Forward    & Huddersfield Town       &  551 &  345 & ⋯ & 2.61 &  34 & 46 &  551 &    0 & 0.16 & 332 & 359 &  -1 & 26\\\\\n\t Adama Traoré Diarra              & 25 & 822528000 & 1996/01/25 & Premier League & 2018/2019 & Midfielder & Wolverhampton Wanderers &  890 &  315 & ⋯ & 1.11 &  81 & 31 &  890 &  890 & 0.10 & 160 & 152 &  -1 & 13\\\\\n\t Ademola Lookman                  & 23 & 877305600 & 1997/10/20 & Premier League & 2018/2019 & Forward    & Everton                 &  601 &  334 & ⋯ & 1.05 &  86 & 29 &    0 &  301 & 0.00 & 292 &  20 &  -1 & 17\\\\\n\t Adrian Mariappa                  & 34 & 528681600 & 1986/10/03 & Premier League & 2018/2019 & Defender   & Watford                 & 1921 &  841 & ⋯ & 1.36 &  66 & 74 &  640 &    0 & 0.14 & 396 & 414 &  94 & 21\\\\\n\t Adrián San Miguel del Castillo   & 34 & 536630400 & 1987/01/03 & Premier League & 2018/2019 & Goalkeeper & West Ham United         &    0 &    0 & ⋯ & 0.00 &   0 &  0 &    0 &    0 & 0.00 &  -1 &  -1 &  -1 & -1\\\\\n\t Adrien Sebastian Perruchet Silva & 32 & 605923200 & 1989/03/15 & Premier League & 2018/2019 & Midfielder & Leicester City          &   88 &    8 & ⋯ & 1.02 &  88 & 44 &    0 &    0 & 0.00 &  -1 &  -1 &  -1 & 15\\\\\n\t Ainsley Maitland-Niles           & 23 & 872812800 & 1997/08/29 & Premier League & 2018/2019 & Midfielder & Arsenal                 &  985 &  462 & ⋯ & 1.46 &  62 & 62 &  328 &  985 & 0.27 & 174 & 167 &  -1 & 15\\\\\n\t Alberto Moreno                   & 28 & 710294400 & 1992/07/05 & Premier League & 2018/2019 & Defender   & Liverpool               &  155 &   90 & ⋯ & 1.16 &  78 & 78 &    0 &    0 & 0.00 &  -1 &  -1 &  -1 & 17\\\\\n\t Aleksandar Mitrović              & 26 & 779673600 & 1994/09/16 & Premier League & 2018/2019 & Forward    & Fulham                  & 3282 & 1616 & ⋯ & 2.03 &  44 & 89 &  469 & 1094 & 0.19 &  62 & 176 &  -1 &  1\\\\\n\t Alex Iwobi                       & 24 & 831081600 & 1996/05/03 & Premier League & 2018/2019 & Forward    & Arsenal                 & 1972 &  742 & ⋯ & 1.41 &  64 & 56 &    0 &  329 & 0.00 & 128 &  31 &  -1 &  8\\\\\n\t Alex McCarthy                    & 31 & 628646400 & 1989/12/03 & Premier League & 2018/2019 & Goalkeeper & Southampton             & 2250 & 1170 & ⋯ & 1.48 &  61 & 90 & 2250 &    0 & 0.04 & 372 & 365 & 114 & 21\\\\\n\t Alex Oxlade-Chamberlain          & 27 & 745372800 & 1993/08/15 & Premier League & 2018/2019 & Midfielder & Liverpool               &   19 &   19 & ⋯ & 0.00 &   0 & 10 &    0 &    0 & 0.00 &  -1 &  -1 &  -1 & 21\\\\\n\t Alex Pritchard                   & 27 & 736387200 & 1993/05/03 & Premier League & 2018/2019 & Midfielder & Huddersfield Town       & 2092 &  992 & ⋯ & 1.68 &  54 & 70 & 1046 &    0 & 0.09 & 171 & 373 &  -1 &  5\\\\\n\t Alex Smithies                    & 31 & 636595200 & 1990/03/05 & Premier League & 2018/2019 & Goalkeeper & Cardiff City            &    0 &    0 & ⋯ & 0.00 &   0 &  0 &    0 &    0 & 0.00 &  -1 &  -1 &  -1 & -1\\\\\n\t Alexander Sørloth                & 25 & 818121600 & 1995/12/05 & Premier League & 2018/2019 & Forward    & Crystal Palace          &  173 &  121 & ⋯ & 0.52 & 173 & 14 &    0 &    0 & 0.00 &  -1 &  -1 &  -1 & 17\\\\\n\t Alexandre Lacazette              & 29 & 675388800 & 1991/05/28 & Premier League & 2018/2019 & Forward    & Arsenal                 & 2503 & 1403 & ⋯ & 1.01 &  89 & 72 & 1252 &  313 & 0.07 &  21 &  25 &  -1 &  2\\\\\n\t Alexandre Nascimento Costa Silva & 24 & 858470400 & 1997/03/16 & Premier League & 2018/2019 & Forward    & West Ham United         &   17 &    0 & ⋯ & 0.00 &   0 & 17 &    0 &    0 & 0.00 &  -1 &  -1 &  -1 & 16\\\\\n\t ⋮ & ⋮ & ⋮ & ⋮ & ⋮ & ⋮ & ⋮ & ⋮ & ⋮ & ⋮ & ⋱ & ⋮ & ⋮ & ⋮ & ⋮ & ⋮ & ⋮ & ⋮ & ⋮ & ⋮ & ⋮\\\\\n\t Tyreke Johnson               & 22 & 910051200 & 1998/11/03 & Premier League & 2018/2019 & Defender   & Southampton             &    0 &    0 & ⋯ & 0.00 &   0 &  0 &    0 &    0 & 0.00 &  -1 &  -1 &  -1 & -1\\\\\n\t Tyrone Mings                 & 28 & 731980800 & 1993/03/13 & Premier League & 2018/2019 & Defender   & AFC Bournemouth         &  141 &    7 & ⋯ & 2.55 &  35 & 28 &    0 &    0 & 0.00 &  -1 &  -1 &  -1 & 23\\\\\n\t Vicente Guaita               & 34 & 537235200 & 1987/01/10 & Premier League & 2018/2019 & Goalkeeper & Crystal Palace          & 1755 & 1035 & ⋯ & 1.08 &  84 & 88 &  878 &    0 & 0.10 & 325 & 352 &  45 & 19\\\\\n\t Vicente Iborra De La Fuente  & 33 & 569289600 & 1988/01/16 & Premier League & 2018/2019 & Midfielder & Leicester City          &  226 &  152 & ⋯ & 1.59 &  57 & 28 &    0 &    0 & 0.00 &  -1 &  -1 &  -1 & 14\\\\\n\t Víctor Camarasa              & 26 & 770083200 & 1994/05/28 & Premier League & 2018/2019 & Midfielder & Cardiff City            & 2579 & 1267 & ⋯ & 1.68 &  54 & 81 &  430 &  645 & 0.21 & 111 & 106 &  -1 &  1\\\\\n\t Victor Moses                 & 30 & 660960000 & 1990/12/12 & Premier League & 2018/2019 & Midfielder & Chelsea                 &   26 &   17 & ⋯ & 3.46 &  26 & 13 &    0 &    0 & 0.00 &  -1 &  -1 &  -1 & 23\\\\\n\t Victor Nilsson Lindelöf      & 26 & 774403200 & 1994/07/17 & Premier League & 2018/2019 & Defender   & Manchester United       & 2602 & 1112 & ⋯ & 1.31 &  68 & 87 & 2602 & 2602 & 0.03 & 263 & 246 &  88 & 14\\\\\n\t Victor Wanyama               & 29 & 677808000 & 1991/06/25 & Premier League & 2018/2019 & Midfielder & Tottenham Hotspur       &  509 &  302 & ⋯ & 0.53 & 170 & 39 &  255 &    0 & 0.35 & 106 & 266 &  -1 & 11\\\\\n\t Viktor Gyökeres              & 22 & 896918400 & 1998/06/04 & Premier League & 2018/2019 & Forward    & Brighton \\& Hove Albion  &    0 &    0 & ⋯ & 0.00 &   0 &  0 &    0 &    0 & 0.00 &  -1 &  -1 &  -1 & -1\\\\\n\t Vincent Janssen              & 26 & 771638400 & 1994/06/15 & Premier League & 2018/2019 & Forward    & Tottenham Hotspur       &   36 &   36 & ⋯ & 0.00 &   0 & 12 &    0 &    0 & 0.00 &  -1 &  -1 &  -1 & 28\\\\\n\t Vincent Kompany              & 34 & 513475200 & 1986/04/10 & Premier League & 2018/2019 & Defender   & Manchester City         & 1223 &  561 & ⋯ & 0.52 & 175 & 72 &  204 &    0 & 0.44 & 194 & 384 &   7 & 12\\\\\n\t Virgil van Dijk              & 29 & 678931200 & 1991/07/08 & Premier League & 2018/2019 & Defender   & Liverpool               & 3385 & 1675 & ⋯ & 0.51 & 178 & 89 & 3385 & 1693 & 0.03 & 152 & 201 &   5 &  6\\\\\n\t Wayne Hennessey              & 34 & 538444800 & 1987/01/24 & Premier League & 2018/2019 & Goalkeeper & Crystal Palace          & 1575 &  675 & ⋯ & 1.31 &  68 & 88 &    0 &    0 & 0.00 & 321 & 404 &  87 & 13\\\\\n\t Wes Morgan                   & 37 & 443491200 & 1984/01/21 & Premier League & 2018/2019 & Defender   & Leicester City          & 1926 &  783 & ⋯ & 1.12 &  80 & 88 &  385 &    0 & 0.23 & 125 & 300 &  48 &  6\\\\\n\t Wesley Hoedt                 & 27 & 762912000 & 1994/03/06 & Premier League & 2018/2019 & Defender   & Southampton             & 1170 &  540 & ⋯ & 1.54 &  59 & 90 &  585 &    0 & 0.15 & 374 & 370 & 123 & 27\\\\\n\t Wilfredo Daniel Caballero    & 39 & 370483200 & 1981/09/28 & Premier League & 2018/2019 & Goalkeeper & Chelsea                 &  180 &   90 & ⋯ & 0.00 &   0 & 90 &    0 &    0 & 0.00 &  -1 &  -1 &  -1 & 19\\\\\n\t Wilfried Zaha                & 28 & 721353600 & 1992/11/10 & Premier League & 2018/2019 & Midfielder & Crystal Palace          & 3041 & 1347 & ⋯ & 1.33 &  68 & 89 &  304 &  608 & 0.30 &  63 &  92 &  -1 &  2\\\\\n\t Will Hughes                  & 25 & 798076800 & 1995/04/17 & Premier League & 2018/2019 & Midfielder & Watford                 & 2436 & 1251 & ⋯ & 1.44 &  62 & 76 &  487 &  609 & 0.18 & 199 &  91 &  -1 &  8\\\\\n\t Will Norris                  & 27 & 745113600 & 1993/08/12 & Premier League & 2018/2019 & Goalkeeper & Wolverhampton Wanderers &    0 &    0 & ⋯ & 0.00 &   0 &  0 &    0 &    0 & 0.00 &  -1 &  -1 &  -1 & -1\\\\\n\t Willian                      & 32 & 587088000 & 1988/08/09 & Premier League & 2018/2019 & Forward    & Chelsea                 & 2108 &  833 & ⋯ & 0.98 &  92 & 66 & 1054 &  351 & 0.09 & 132 &  36 &  -1 &  8\\\\\n\t Willy Boly                   & 30 & 665539200 & 1991/02/03 & Premier League & 2018/2019 & Defender   & Wolverhampton Wanderers & 3169 & 1530 & ⋯ & 1.08 &  83 & 88 &  792 &    0 & 0.11 & 148 & 312 &  43 &  4\\\\\n\t Xherdan Shaqiri              & 29 & 687052800 & 1991/10/10 & Premier League & 2018/2019 & Midfielder & Liverpool               & 1058 &  538 & ⋯ & 0.43 & 212 & 44 &  529 &  353 & 0.17 &  15 &  39 &  -1 &  4\\\\\n\t Yann Valery                  & 22 & 919641600 & 1999/02/22 & Premier League & 2018/2019 & Defender   & Southampton             & 1715 & 1070 & ⋯ & 1.36 &  66 & 75 &  343 & 1715 & 0.26 & 162 & 214 &  95 &  7\\\\\n\t Yerry Fernando Mina González & 26 & 780278400 & 1994/09/23 & Premier League & 2018/2019 & Defender   & Everton                 &  890 &  360 & ⋯ & 1.21 &  74 & 68 &  297 &    0 & 0.30 & 161 & 329 &  67 &  9\\\\\n\t Yoshinori Muto               & 28 & 711158400 & 1992/07/15 & Premier League & 2018/2019 & Forward    & Newcastle United        &  516 &  180 & ⋯ & 1.74 &  52 & 30 &  516 &    0 & 0.17 & 113 & 290 &  -1 &  8\\\\\n\t Youri Tielemans              & 23 & 862963200 & 1997/05/07 & Premier League & 2018/2019 & Midfielder & Leicester City          & 1092 &  575 & ⋯ & 1.07 &  84 & 84 &  546 &  273 & 0.16 &  80 &  13 &  -1 &  4\\\\\n\t Yves Bissouma                & 24 & 841363200 & 1996/08/30 & Premier League & 2018/2019 & Midfielder & Brighton \\& Hove Albion  & 1769 &  747 & ⋯ & 1.53 &  59 & 63 &  354 &    0 & 0.25 & 402 & 293 &  -1 & 17\\\\\n\t Zechariah Medley             & 20 & 962928000 & 2000/07/07 & Premier League & 2018/2019 & Defender   & Arsenal                 &    0 &    0 & ⋯ & 0.00 &   0 &  0 &    0 &    0 & 0.00 &  -1 &  -1 &  -1 & -1\\\\\n\t Zeze Steven Sessegnon        & 20 & 958608000 & 2000/05/18 & Premier League & 2018/2019 & Defender   & Fulham                  &    0 &    0 & ⋯ & 0.00 &   0 &  0 &    0 &    0 & 0.00 &  -1 &  -1 &  -1 & -1\\\\\n\t Łukasz Fabiański             & 35 & 482630400 & 1985/04/18 & Premier League & 2018/2019 & Goalkeeper & West Ham United         & 3420 & 1710 & ⋯ & 1.26 &  71 & 90 &    0 &    0 & 0.00 & 391 & 343 &  81 & 19\\\\\n\\end{tabular}\n",
            "text/plain": [
              "    full_name                        age birthday  birthday_GMT league        \n",
              "1   Aaron Cresswell                  31  629683200 1989/12/15   Premier League\n",
              "2   Aaron Lennon                     33  545529600 1987/04/16   Premier League\n",
              "3   Aaron Mooy                       30  653356800 1990/09/15   Premier League\n",
              "4   Aaron Ramsey                     30  662169600 1990/12/26   Premier League\n",
              "5   Aaron Rowe                       20  968284800 2000/09/07   Premier League\n",
              "6   Aaron Wan-Bissaka                23  880502400 1997/11/26   Premier League\n",
              "7   Abdelhamid Sabiri                24  849139200 1996/11/28   Premier League\n",
              "8   Abdoulaye Doucouré               28  725846400 1993/01/01   Premier League\n",
              "9   Aboubakar Kamara                 26  794534400 1995/03/07   Premier League\n",
              "10  Adalberto Peñaranda Maestre      23  865036800 1997/05/31   Premier League\n",
              "11  Adam David Lallana               32  579225600 1988/05/10   Premier League\n",
              "12  Adam Masina                      27  757468800 1994/01/02   Premier League\n",
              "13  Adam Smith                       29  672883200 1991/04/29   Premier League\n",
              "14  Adama Diakhaby                   24  836524800 1996/07/05   Premier League\n",
              "15  Adama Traoré Diarra              25  822528000 1996/01/25   Premier League\n",
              "16  Ademola Lookman                  23  877305600 1997/10/20   Premier League\n",
              "17  Adrian Mariappa                  34  528681600 1986/10/03   Premier League\n",
              "18  Adrián San Miguel del Castillo   34  536630400 1987/01/03   Premier League\n",
              "19  Adrien Sebastian Perruchet Silva 32  605923200 1989/03/15   Premier League\n",
              "20  Ainsley Maitland-Niles           23  872812800 1997/08/29   Premier League\n",
              "21  Alberto Moreno                   28  710294400 1992/07/05   Premier League\n",
              "22  Aleksandar Mitrović              26  779673600 1994/09/16   Premier League\n",
              "23  Alex Iwobi                       24  831081600 1996/05/03   Premier League\n",
              "24  Alex McCarthy                    31  628646400 1989/12/03   Premier League\n",
              "25  Alex Oxlade-Chamberlain          27  745372800 1993/08/15   Premier League\n",
              "26  Alex Pritchard                   27  736387200 1993/05/03   Premier League\n",
              "27  Alex Smithies                    31  636595200 1990/03/05   Premier League\n",
              "28  Alexander Sørloth                25  818121600 1995/12/05   Premier League\n",
              "29  Alexandre Lacazette              29  675388800 1991/05/28   Premier League\n",
              "30  Alexandre Nascimento Costa Silva 24  858470400 1997/03/16   Premier League\n",
              "⋮   ⋮                                ⋮   ⋮         ⋮            ⋮             \n",
              "543 Tyreke Johnson                   22  910051200 1998/11/03   Premier League\n",
              "544 Tyrone Mings                     28  731980800 1993/03/13   Premier League\n",
              "545 Vicente Guaita                   34  537235200 1987/01/10   Premier League\n",
              "546 Vicente Iborra De La Fuente      33  569289600 1988/01/16   Premier League\n",
              "547 Víctor Camarasa                  26  770083200 1994/05/28   Premier League\n",
              "548 Victor Moses                     30  660960000 1990/12/12   Premier League\n",
              "549 Victor Nilsson Lindelöf          26  774403200 1994/07/17   Premier League\n",
              "550 Victor Wanyama                   29  677808000 1991/06/25   Premier League\n",
              "551 Viktor Gyökeres                  22  896918400 1998/06/04   Premier League\n",
              "552 Vincent Janssen                  26  771638400 1994/06/15   Premier League\n",
              "553 Vincent Kompany                  34  513475200 1986/04/10   Premier League\n",
              "554 Virgil van Dijk                  29  678931200 1991/07/08   Premier League\n",
              "555 Wayne Hennessey                  34  538444800 1987/01/24   Premier League\n",
              "556 Wes Morgan                       37  443491200 1984/01/21   Premier League\n",
              "557 Wesley Hoedt                     27  762912000 1994/03/06   Premier League\n",
              "558 Wilfredo Daniel Caballero        39  370483200 1981/09/28   Premier League\n",
              "559 Wilfried Zaha                    28  721353600 1992/11/10   Premier League\n",
              "560 Will Hughes                      25  798076800 1995/04/17   Premier League\n",
              "561 Will Norris                      27  745113600 1993/08/12   Premier League\n",
              "562 Willian                          32  587088000 1988/08/09   Premier League\n",
              "563 Willy Boly                       30  665539200 1991/02/03   Premier League\n",
              "564 Xherdan Shaqiri                  29  687052800 1991/10/10   Premier League\n",
              "565 Yann Valery                      22  919641600 1999/02/22   Premier League\n",
              "566 Yerry Fernando Mina González     26  780278400 1994/09/23   Premier League\n",
              "567 Yoshinori Muto                   28  711158400 1992/07/15   Premier League\n",
              "568 Youri Tielemans                  23  862963200 1997/05/07   Premier League\n",
              "569 Yves Bissouma                    24  841363200 1996/08/30   Premier League\n",
              "570 Zechariah Medley                 20  962928000 2000/07/07   Premier League\n",
              "571 Zeze Steven Sessegnon            20  958608000 2000/05/18   Premier League\n",
              "572 Łukasz Fabiański                 35  482630400 1985/04/18   Premier League\n",
              "    season    position   Current.Club            minutes_played_overall\n",
              "1   2018/2019 Defender   West Ham United         1589                  \n",
              "2   2018/2019 Midfielder Burnley                 1217                  \n",
              "3   2018/2019 Midfielder Huddersfield Town       2327                  \n",
              "4   2018/2019 Midfielder Arsenal                 1327                  \n",
              "5   2018/2019 Forward    Huddersfield Town         69                  \n",
              "6   2018/2019 Midfielder Crystal Palace          3135                  \n",
              "7   2018/2019 Midfielder Huddersfield Town         49                  \n",
              "8   2018/2019 Midfielder Watford                 3062                  \n",
              "9   2018/2019 Forward    Fulham                   687                  \n",
              "10  2018/2019 Forward    Watford                    0                  \n",
              "11  2018/2019 Midfielder Liverpool                465                  \n",
              "12  2018/2019 Defender   Watford                 1003                  \n",
              "13  2018/2019 Defender   AFC Bournemouth         2073                  \n",
              "14  2018/2019 Forward    Huddersfield Town        551                  \n",
              "15  2018/2019 Midfielder Wolverhampton Wanderers  890                  \n",
              "16  2018/2019 Forward    Everton                  601                  \n",
              "17  2018/2019 Defender   Watford                 1921                  \n",
              "18  2018/2019 Goalkeeper West Ham United            0                  \n",
              "19  2018/2019 Midfielder Leicester City            88                  \n",
              "20  2018/2019 Midfielder Arsenal                  985                  \n",
              "21  2018/2019 Defender   Liverpool                155                  \n",
              "22  2018/2019 Forward    Fulham                  3282                  \n",
              "23  2018/2019 Forward    Arsenal                 1972                  \n",
              "24  2018/2019 Goalkeeper Southampton             2250                  \n",
              "25  2018/2019 Midfielder Liverpool                 19                  \n",
              "26  2018/2019 Midfielder Huddersfield Town       2092                  \n",
              "27  2018/2019 Goalkeeper Cardiff City               0                  \n",
              "28  2018/2019 Forward    Crystal Palace           173                  \n",
              "29  2018/2019 Forward    Arsenal                 2503                  \n",
              "30  2018/2019 Forward    West Ham United           17                  \n",
              "⋮   ⋮         ⋮          ⋮                       ⋮                     \n",
              "543 2018/2019 Defender   Southampton                0                  \n",
              "544 2018/2019 Defender   AFC Bournemouth          141                  \n",
              "545 2018/2019 Goalkeeper Crystal Palace          1755                  \n",
              "546 2018/2019 Midfielder Leicester City           226                  \n",
              "547 2018/2019 Midfielder Cardiff City            2579                  \n",
              "548 2018/2019 Midfielder Chelsea                   26                  \n",
              "549 2018/2019 Defender   Manchester United       2602                  \n",
              "550 2018/2019 Midfielder Tottenham Hotspur        509                  \n",
              "551 2018/2019 Forward    Brighton & Hove Albion     0                  \n",
              "552 2018/2019 Forward    Tottenham Hotspur         36                  \n",
              "553 2018/2019 Defender   Manchester City         1223                  \n",
              "554 2018/2019 Defender   Liverpool               3385                  \n",
              "555 2018/2019 Goalkeeper Crystal Palace          1575                  \n",
              "556 2018/2019 Defender   Leicester City          1926                  \n",
              "557 2018/2019 Defender   Southampton             1170                  \n",
              "558 2018/2019 Goalkeeper Chelsea                  180                  \n",
              "559 2018/2019 Midfielder Crystal Palace          3041                  \n",
              "560 2018/2019 Midfielder Watford                 2436                  \n",
              "561 2018/2019 Goalkeeper Wolverhampton Wanderers    0                  \n",
              "562 2018/2019 Forward    Chelsea                 2108                  \n",
              "563 2018/2019 Defender   Wolverhampton Wanderers 3169                  \n",
              "564 2018/2019 Midfielder Liverpool               1058                  \n",
              "565 2018/2019 Defender   Southampton             1715                  \n",
              "566 2018/2019 Defender   Everton                  890                  \n",
              "567 2018/2019 Forward    Newcastle United         516                  \n",
              "568 2018/2019 Midfielder Leicester City          1092                  \n",
              "569 2018/2019 Midfielder Brighton & Hove Albion  1769                  \n",
              "570 2018/2019 Defender   Arsenal                    0                  \n",
              "571 2018/2019 Defender   Fulham                     0                  \n",
              "572 2018/2019 Goalkeeper West Ham United         3420                  \n",
              "    minutes_played_home ⋯ conceded_per_90_overall min_per_conceded_overall\n",
              "1    888                ⋯ 1.25                     72                     \n",
              "2    487                ⋯ 1.48                     61                     \n",
              "3   1190                ⋯ 1.78                     51                     \n",
              "4    689                ⋯ 0.81                    111                     \n",
              "5     14                ⋯ 1.30                     69                     \n",
              "6   1605                ⋯ 1.18                     76                     \n",
              "7      0                ⋯ 5.51                     16                     \n",
              "8   1566                ⋯ 1.59                     57                     \n",
              "9    468                ⋯ 2.10                     43                     \n",
              "10     0                ⋯ 0.00                      0                     \n",
              "11   189                ⋯ 0.39                    233                     \n",
              "12   463                ⋯ 1.70                     53                     \n",
              "13  1051                ⋯ 1.30                     69                     \n",
              "14   345                ⋯ 2.61                     34                     \n",
              "15   315                ⋯ 1.11                     81                     \n",
              "16   334                ⋯ 1.05                     86                     \n",
              "17   841                ⋯ 1.36                     66                     \n",
              "18     0                ⋯ 0.00                      0                     \n",
              "19     8                ⋯ 1.02                     88                     \n",
              "20   462                ⋯ 1.46                     62                     \n",
              "21    90                ⋯ 1.16                     78                     \n",
              "22  1616                ⋯ 2.03                     44                     \n",
              "23   742                ⋯ 1.41                     64                     \n",
              "24  1170                ⋯ 1.48                     61                     \n",
              "25    19                ⋯ 0.00                      0                     \n",
              "26   992                ⋯ 1.68                     54                     \n",
              "27     0                ⋯ 0.00                      0                     \n",
              "28   121                ⋯ 0.52                    173                     \n",
              "29  1403                ⋯ 1.01                     89                     \n",
              "30     0                ⋯ 0.00                      0                     \n",
              "⋮   ⋮                   ⋱ ⋮                       ⋮                       \n",
              "543    0                ⋯ 0.00                      0                     \n",
              "544    7                ⋯ 2.55                     35                     \n",
              "545 1035                ⋯ 1.08                     84                     \n",
              "546  152                ⋯ 1.59                     57                     \n",
              "547 1267                ⋯ 1.68                     54                     \n",
              "548   17                ⋯ 3.46                     26                     \n",
              "549 1112                ⋯ 1.31                     68                     \n",
              "550  302                ⋯ 0.53                    170                     \n",
              "551    0                ⋯ 0.00                      0                     \n",
              "552   36                ⋯ 0.00                      0                     \n",
              "553  561                ⋯ 0.52                    175                     \n",
              "554 1675                ⋯ 0.51                    178                     \n",
              "555  675                ⋯ 1.31                     68                     \n",
              "556  783                ⋯ 1.12                     80                     \n",
              "557  540                ⋯ 1.54                     59                     \n",
              "558   90                ⋯ 0.00                      0                     \n",
              "559 1347                ⋯ 1.33                     68                     \n",
              "560 1251                ⋯ 1.44                     62                     \n",
              "561    0                ⋯ 0.00                      0                     \n",
              "562  833                ⋯ 0.98                     92                     \n",
              "563 1530                ⋯ 1.08                     83                     \n",
              "564  538                ⋯ 0.43                    212                     \n",
              "565 1070                ⋯ 1.36                     66                     \n",
              "566  360                ⋯ 1.21                     74                     \n",
              "567  180                ⋯ 1.74                     52                     \n",
              "568  575                ⋯ 1.07                     84                     \n",
              "569  747                ⋯ 1.53                     59                     \n",
              "570    0                ⋯ 0.00                      0                     \n",
              "571    0                ⋯ 0.00                      0                     \n",
              "572 1710                ⋯ 1.26                     71                     \n",
              "    min_per_match min_per_card_overall min_per_assist_overall\n",
              "1   79            1589                 1589                  \n",
              "2   76            1217                 1217                  \n",
              "3   80             582                 2327                  \n",
              "4   47               0                  221                  \n",
              "5   35               0                    0                  \n",
              "6   90             523                 1045                  \n",
              "7   25               0                    0                  \n",
              "8   87             437                  510                  \n",
              "9   53             344                    0                  \n",
              "10   0               0                    0                  \n",
              "11  36             465                    0                  \n",
              "12  72             201                 1003                  \n",
              "13  83             296                 2073                  \n",
              "14  46             551                    0                  \n",
              "15  31             890                  890                  \n",
              "16  29               0                  301                  \n",
              "17  74             640                    0                  \n",
              "18   0               0                    0                  \n",
              "19  44               0                    0                  \n",
              "20  62             328                  985                  \n",
              "21  78               0                    0                  \n",
              "22  89             469                 1094                  \n",
              "23  56               0                  329                  \n",
              "24  90            2250                    0                  \n",
              "25  10               0                    0                  \n",
              "26  70            1046                    0                  \n",
              "27   0               0                    0                  \n",
              "28  14               0                    0                  \n",
              "29  72            1252                  313                  \n",
              "30  17               0                    0                  \n",
              "⋮   ⋮             ⋮                    ⋮                     \n",
              "543  0               0                    0                  \n",
              "544 28               0                    0                  \n",
              "545 88             878                    0                  \n",
              "546 28               0                    0                  \n",
              "547 81             430                  645                  \n",
              "548 13               0                    0                  \n",
              "549 87            2602                 2602                  \n",
              "550 39             255                    0                  \n",
              "551  0               0                    0                  \n",
              "552 12               0                    0                  \n",
              "553 72             204                    0                  \n",
              "554 89            3385                 1693                  \n",
              "555 88               0                    0                  \n",
              "556 88             385                    0                  \n",
              "557 90             585                    0                  \n",
              "558 90               0                    0                  \n",
              "559 89             304                  608                  \n",
              "560 76             487                  609                  \n",
              "561  0               0                    0                  \n",
              "562 66            1054                  351                  \n",
              "563 88             792                    0                  \n",
              "564 44             529                  353                  \n",
              "565 75             343                 1715                  \n",
              "566 68             297                    0                  \n",
              "567 30             516                    0                  \n",
              "568 84             546                  273                  \n",
              "569 63             354                    0                  \n",
              "570  0               0                    0                  \n",
              "571  0               0                    0                  \n",
              "572 90               0                    0                  \n",
              "    cards_per_90_overall rank_in_league_top_attackers\n",
              "1   0.06                 290                         \n",
              "2   0.07                 196                         \n",
              "3   0.15                 144                         \n",
              "4   0.00                  69                         \n",
              "5   0.00                  -1                         \n",
              "6   0.17                 312                         \n",
              "7   0.00                  -1                         \n",
              "8   0.21                 124                         \n",
              "9   0.26                  38                         \n",
              "10  0.00                  -1                         \n",
              "11  0.19                 379                         \n",
              "12  0.45                 397                         \n",
              "13  0.30                 227                         \n",
              "14  0.16                 332                         \n",
              "15  0.10                 160                         \n",
              "16  0.00                 292                         \n",
              "17  0.14                 396                         \n",
              "18  0.00                  -1                         \n",
              "19  0.00                  -1                         \n",
              "20  0.27                 174                         \n",
              "21  0.00                  -1                         \n",
              "22  0.19                  62                         \n",
              "23  0.00                 128                         \n",
              "24  0.04                 372                         \n",
              "25  0.00                  -1                         \n",
              "26  0.09                 171                         \n",
              "27  0.00                  -1                         \n",
              "28  0.00                  -1                         \n",
              "29  0.07                  21                         \n",
              "30  0.00                  -1                         \n",
              "⋮   ⋮                    ⋮                           \n",
              "543 0.00                  -1                         \n",
              "544 0.00                  -1                         \n",
              "545 0.10                 325                         \n",
              "546 0.00                  -1                         \n",
              "547 0.21                 111                         \n",
              "548 0.00                  -1                         \n",
              "549 0.03                 263                         \n",
              "550 0.35                 106                         \n",
              "551 0.00                  -1                         \n",
              "552 0.00                  -1                         \n",
              "553 0.44                 194                         \n",
              "554 0.03                 152                         \n",
              "555 0.00                 321                         \n",
              "556 0.23                 125                         \n",
              "557 0.15                 374                         \n",
              "558 0.00                  -1                         \n",
              "559 0.30                  63                         \n",
              "560 0.18                 199                         \n",
              "561 0.00                  -1                         \n",
              "562 0.09                 132                         \n",
              "563 0.11                 148                         \n",
              "564 0.17                  15                         \n",
              "565 0.26                 162                         \n",
              "566 0.30                 161                         \n",
              "567 0.17                 113                         \n",
              "568 0.16                  80                         \n",
              "569 0.25                 402                         \n",
              "570 0.00                  -1                         \n",
              "571 0.00                  -1                         \n",
              "572 0.00                 391                         \n",
              "    rank_in_league_top_midfielders rank_in_league_top_defenders\n",
              "1   191                             80                         \n",
              "2   187                             -1                         \n",
              "3   233                             -1                         \n",
              "4     8                             -1                         \n",
              "5    -1                             -1                         \n",
              "6   160                             -1                         \n",
              "7    -1                             -1                         \n",
              "8    80                             -1                         \n",
              "9   412                             -1                         \n",
              "10   -1                             -1                         \n",
              "11  344                             -1                         \n",
              "12  155                            144                         \n",
              "13  228                             85                         \n",
              "14  359                             -1                         \n",
              "15  152                             -1                         \n",
              "16   20                             -1                         \n",
              "17  414                             94                         \n",
              "18   -1                             -1                         \n",
              "19   -1                             -1                         \n",
              "20  167                             -1                         \n",
              "21   -1                             -1                         \n",
              "22  176                             -1                         \n",
              "23   31                             -1                         \n",
              "24  365                            114                         \n",
              "25   -1                             -1                         \n",
              "26  373                             -1                         \n",
              "27   -1                             -1                         \n",
              "28   -1                             -1                         \n",
              "29   25                             -1                         \n",
              "30   -1                             -1                         \n",
              "⋮   ⋮                              ⋮                           \n",
              "543  -1                             -1                         \n",
              "544  -1                             -1                         \n",
              "545 352                             45                         \n",
              "546  -1                             -1                         \n",
              "547 106                             -1                         \n",
              "548  -1                             -1                         \n",
              "549 246                             88                         \n",
              "550 266                             -1                         \n",
              "551  -1                             -1                         \n",
              "552  -1                             -1                         \n",
              "553 384                              7                         \n",
              "554 201                              5                         \n",
              "555 404                             87                         \n",
              "556 300                             48                         \n",
              "557 370                            123                         \n",
              "558  -1                             -1                         \n",
              "559  92                             -1                         \n",
              "560  91                             -1                         \n",
              "561  -1                             -1                         \n",
              "562  36                             -1                         \n",
              "563 312                             43                         \n",
              "564  39                             -1                         \n",
              "565 214                             95                         \n",
              "566 329                             67                         \n",
              "567 290                             -1                         \n",
              "568  13                             -1                         \n",
              "569 293                             -1                         \n",
              "570  -1                             -1                         \n",
              "571  -1                             -1                         \n",
              "572 343                             81                         \n",
              "    rank_in_club_top_scorer\n",
              "1   20                     \n",
              "2   10                     \n",
              "3    3                     \n",
              "4    5                     \n",
              "5   31                     \n",
              "6   22                     \n",
              "7   22                     \n",
              "8    5                     \n",
              "9    4                     \n",
              "10  -1                     \n",
              "11  18                     \n",
              "12  20                     \n",
              "13  10                     \n",
              "14  26                     \n",
              "15  13                     \n",
              "16  17                     \n",
              "17  21                     \n",
              "18  -1                     \n",
              "19  15                     \n",
              "20  15                     \n",
              "21  17                     \n",
              "22   1                     \n",
              "23   8                     \n",
              "24  21                     \n",
              "25  21                     \n",
              "26   5                     \n",
              "27  -1                     \n",
              "28  17                     \n",
              "29   2                     \n",
              "30  16                     \n",
              "⋮   ⋮                      \n",
              "543 -1                     \n",
              "544 23                     \n",
              "545 19                     \n",
              "546 14                     \n",
              "547  1                     \n",
              "548 23                     \n",
              "549 14                     \n",
              "550 11                     \n",
              "551 -1                     \n",
              "552 28                     \n",
              "553 12                     \n",
              "554  6                     \n",
              "555 13                     \n",
              "556  6                     \n",
              "557 27                     \n",
              "558 19                     \n",
              "559  2                     \n",
              "560  8                     \n",
              "561 -1                     \n",
              "562  8                     \n",
              "563  4                     \n",
              "564  4                     \n",
              "565  7                     \n",
              "566  9                     \n",
              "567  8                     \n",
              "568  4                     \n",
              "569 17                     \n",
              "570 -1                     \n",
              "571 -1                     \n",
              "572 19                     "
            ]
          },
          "metadata": {}
        }
      ]
    },
    {
      "cell_type": "markdown",
      "source": [
        "データフレームとしてデータを読み込んでおくと、一部のデータを抽出すること等が容易になります。\n",
        "\n",
        "データフレームの特定の列の値を取り出すには`データフレームの変数名$列名`という形で取り出せます。\n",
        "\n",
        "例えば先ほど`df`という変数に読み込んだデータの`age`という列を取り出すには`df$age`という形で取り出せま\n",
        "す。\n"
      ],
      "metadata": {
        "id": "u4Cih7hnEwlY"
      }
    },
    {
      "cell_type": "code",
      "source": [
        "df$age"
      ],
      "metadata": {
        "id": "sfKuw5zsFF3g",
        "colab": {
          "base_uri": "https://localhost:8080/",
          "height": 295
        },
        "outputId": "dba808a0-d4e0-407a-ceee-0e1b3ec761ff"
      },
      "execution_count": 26,
      "outputs": [
        {
          "output_type": "display_data",
          "data": {
            "text/html": [
              "<style>\n",
              ".list-inline {list-style: none; margin:0; padding: 0}\n",
              ".list-inline>li {display: inline-block}\n",
              ".list-inline>li:not(:last-child)::after {content: \"\\00b7\"; padding: 0 .5ex}\n",
              "</style>\n",
              "<ol class=list-inline><li>31</li><li>33</li><li>30</li><li>30</li><li>20</li><li>23</li><li>24</li><li>28</li><li>26</li><li>23</li><li>32</li><li>27</li><li>29</li><li>24</li><li>25</li><li>23</li><li>34</li><li>34</li><li>32</li><li>23</li><li>28</li><li>26</li><li>24</li><li>31</li><li>27</li><li>27</li><li>31</li><li>25</li><li>29</li><li>24</li><li>32</li><li>23</li><li>27</li><li>22</li><li>20</li><li>27</li><li>28</li><li>28</li><li>31</li><li>27</li><li>29</li><li>30</li><li>25</li><li>24</li><li>25</li><li>27</li><li>34</li><li>31</li><li>29</li><li>32</li><li>20</li><li>32</li><li>25</li><li>21</li><li>29</li><li>25</li><li>26</li><li>28</li><li>35</li><li>22</li><li>31</li><li>27</li><li>41</li><li>31</li><li>31</li><li>35</li><li>33</li><li>26</li><li>27</li><li>32</li><li>0</li><li>24</li><li>27</li><li>37</li><li>28</li><li>33</li><li>31</li><li>23</li><li>21</li><li>21</li><li>26</li><li>32</li><li>28</li><li>25</li><li>26</li><li>29</li><li>28</li><li>37</li><li>23</li><li>32</li><li>40</li><li>24</li><li>20</li><li>26</li><li>23</li><li>22</li><li>29</li><li>26</li><li>21</li><li>29</li><li>35</li><li>29</li><li>29</li><li>31</li><li>33</li><li>31</li><li>34</li><li>27</li><li>31</li><li>31</li><li>23</li><li>31</li><li>29</li><li>29</li><li>30</li><li>29</li><li>34</li><li>30</li><li>30</li><li>31</li><li>37</li><li>29</li><li>28</li><li>28</li><li>21</li><li>32</li><li>20</li><li>28</li><li>31</li><li>28</li><li>28</li><li>31</li><li>26</li><li>31</li><li>28</li><li>32</li><li>29</li><li>31</li><li>30</li><li>34</li><li>27</li><li>30</li><li>30</li><li>31</li><li>23</li><li>32</li><li>30</li><li>30</li><li>33</li><li>35</li><li>28</li><li>24</li><li>29</li><li>27</li><li>22</li><li>31</li><li>24</li><li>24</li><li>22</li><li>32</li><li>27</li><li>28</li><li>24</li><li>25</li><li>21</li><li>24</li><li>23</li><li>21</li><li>30</li><li>27</li><li>21</li><li>28</li><li>25</li><li>26</li><li>20</li><li>26</li><li>27</li><li>28</li><li>29</li><li>20</li><li>32</li><li>29</li><li>31</li><li>29</li><li>27</li><li>33</li><li>31</li><li>32</li><li>27</li><li>36</li><li>35</li><li>26</li><li>29</li><li>27</li><li>32</li><li>25</li><li>30</li><li>33</li><li>24</li><li>28</li><li>⋯</li><li>33</li><li>21</li><li>31</li><li>33</li><li>33</li><li>32</li><li>30</li><li>29</li><li>19</li><li>24</li><li>28</li><li>26</li><li>28</li><li>30</li><li>23</li><li>29</li><li>31</li><li>25</li><li>31</li><li>21</li><li>33</li><li>31</li><li>20</li><li>22</li><li>23</li><li>25</li><li>31</li><li>32</li><li>32</li><li>28</li><li>20</li><li>31</li><li>37</li><li>27</li><li>27</li><li>35</li><li>33</li><li>28</li><li>26</li><li>28</li><li>21</li><li>31</li><li>33</li><li>31</li><li>30</li><li>26</li><li>35</li><li>28</li><li>26</li><li>22</li><li>27</li><li>26</li><li>30</li><li>28</li><li>29</li><li>31</li><li>32</li><li>33</li><li>22</li><li>21</li><li>24</li><li>20</li><li>34</li><li>24</li><li>29</li><li>30</li><li>36</li><li>30</li><li>29</li><li>30</li><li>29</li><li>28</li><li>29</li><li>29</li><li>33</li><li>40</li><li>38</li><li>35</li><li>38</li><li>29</li><li>24</li><li>20</li><li>24</li><li>31</li><li>25</li><li>28</li><li>20</li><li>26</li><li>29</li><li>24</li><li>29</li><li>26</li><li>27</li><li>23</li><li>30</li><li>25</li><li>29</li><li>25</li><li>33</li><li>29</li><li>30</li><li>31</li><li>27</li><li>31</li><li>27</li><li>24</li><li>22</li><li>25</li><li>33</li><li>31</li><li>31</li><li>27</li><li>28</li><li>21</li><li>34</li><li>21</li><li>20</li><li>28</li><li>25</li><li>22</li><li>31</li><li>22</li><li>33</li><li>25</li><li>34</li><li>24</li><li>27</li><li>32</li><li>23</li><li>30</li><li>33</li><li>28</li><li>32</li><li>34</li><li>27</li><li>29</li><li>34</li><li>34</li><li>28</li><li>36</li><li>33</li><li>32</li><li>26</li><li>36</li><li>30</li><li>31</li><li>37</li><li>35</li><li>29</li><li>26</li><li>36</li><li>32</li><li>29</li><li>25</li><li>32</li><li>21</li><li>27</li><li>32</li><li>33</li><li>21</li><li>23</li><li>32</li><li>30</li><li>31</li><li>22</li><li>34</li><li>28</li><li>22</li><li>32</li><li>26</li><li>22</li><li>28</li><li>34</li><li>33</li><li>26</li><li>30</li><li>26</li><li>29</li><li>22</li><li>26</li><li>34</li><li>29</li><li>34</li><li>37</li><li>27</li><li>39</li><li>28</li><li>25</li><li>27</li><li>32</li><li>30</li><li>29</li><li>22</li><li>26</li><li>28</li><li>23</li><li>24</li><li>20</li><li>20</li><li>35</li></ol>\n"
            ],
            "text/markdown": "1. 31\n2. 33\n3. 30\n4. 30\n5. 20\n6. 23\n7. 24\n8. 28\n9. 26\n10. 23\n11. 32\n12. 27\n13. 29\n14. 24\n15. 25\n16. 23\n17. 34\n18. 34\n19. 32\n20. 23\n21. 28\n22. 26\n23. 24\n24. 31\n25. 27\n26. 27\n27. 31\n28. 25\n29. 29\n30. 24\n31. 32\n32. 23\n33. 27\n34. 22\n35. 20\n36. 27\n37. 28\n38. 28\n39. 31\n40. 27\n41. 29\n42. 30\n43. 25\n44. 24\n45. 25\n46. 27\n47. 34\n48. 31\n49. 29\n50. 32\n51. 20\n52. 32\n53. 25\n54. 21\n55. 29\n56. 25\n57. 26\n58. 28\n59. 35\n60. 22\n61. 31\n62. 27\n63. 41\n64. 31\n65. 31\n66. 35\n67. 33\n68. 26\n69. 27\n70. 32\n71. 0\n72. 24\n73. 27\n74. 37\n75. 28\n76. 33\n77. 31\n78. 23\n79. 21\n80. 21\n81. 26\n82. 32\n83. 28\n84. 25\n85. 26\n86. 29\n87. 28\n88. 37\n89. 23\n90. 32\n91. 40\n92. 24\n93. 20\n94. 26\n95. 23\n96. 22\n97. 29\n98. 26\n99. 21\n100. 29\n101. 35\n102. 29\n103. 29\n104. 31\n105. 33\n106. 31\n107. 34\n108. 27\n109. 31\n110. 31\n111. 23\n112. 31\n113. 29\n114. 29\n115. 30\n116. 29\n117. 34\n118. 30\n119. 30\n120. 31\n121. 37\n122. 29\n123. 28\n124. 28\n125. 21\n126. 32\n127. 20\n128. 28\n129. 31\n130. 28\n131. 28\n132. 31\n133. 26\n134. 31\n135. 28\n136. 32\n137. 29\n138. 31\n139. 30\n140. 34\n141. 27\n142. 30\n143. 30\n144. 31\n145. 23\n146. 32\n147. 30\n148. 30\n149. 33\n150. 35\n151. 28\n152. 24\n153. 29\n154. 27\n155. 22\n156. 31\n157. 24\n158. 24\n159. 22\n160. 32\n161. 27\n162. 28\n163. 24\n164. 25\n165. 21\n166. 24\n167. 23\n168. 21\n169. 30\n170. 27\n171. 21\n172. 28\n173. 25\n174. 26\n175. 20\n176. 26\n177. 27\n178. 28\n179. 29\n180. 20\n181. 32\n182. 29\n183. 31\n184. 29\n185. 27\n186. 33\n187. 31\n188. 32\n189. 27\n190. 36\n191. 35\n192. 26\n193. 29\n194. 27\n195. 32\n196. 25\n197. 30\n198. 33\n199. 24\n200. 28\n201. ⋯\n202. 33\n203. 21\n204. 31\n205. 33\n206. 33\n207. 32\n208. 30\n209. 29\n210. 19\n211. 24\n212. 28\n213. 26\n214. 28\n215. 30\n216. 23\n217. 29\n218. 31\n219. 25\n220. 31\n221. 21\n222. 33\n223. 31\n224. 20\n225. 22\n226. 23\n227. 25\n228. 31\n229. 32\n230. 32\n231. 28\n232. 20\n233. 31\n234. 37\n235. 27\n236. 27\n237. 35\n238. 33\n239. 28\n240. 26\n241. 28\n242. 21\n243. 31\n244. 33\n245. 31\n246. 30\n247. 26\n248. 35\n249. 28\n250. 26\n251. 22\n252. 27\n253. 26\n254. 30\n255. 28\n256. 29\n257. 31\n258. 32\n259. 33\n260. 22\n261. 21\n262. 24\n263. 20\n264. 34\n265. 24\n266. 29\n267. 30\n268. 36\n269. 30\n270. 29\n271. 30\n272. 29\n273. 28\n274. 29\n275. 29\n276. 33\n277. 40\n278. 38\n279. 35\n280. 38\n281. 29\n282. 24\n283. 20\n284. 24\n285. 31\n286. 25\n287. 28\n288. 20\n289. 26\n290. 29\n291. 24\n292. 29\n293. 26\n294. 27\n295. 23\n296. 30\n297. 25\n298. 29\n299. 25\n300. 33\n301. 29\n302. 30\n303. 31\n304. 27\n305. 31\n306. 27\n307. 24\n308. 22\n309. 25\n310. 33\n311. 31\n312. 31\n313. 27\n314. 28\n315. 21\n316. 34\n317. 21\n318. 20\n319. 28\n320. 25\n321. 22\n322. 31\n323. 22\n324. 33\n325. 25\n326. 34\n327. 24\n328. 27\n329. 32\n330. 23\n331. 30\n332. 33\n333. 28\n334. 32\n335. 34\n336. 27\n337. 29\n338. 34\n339. 34\n340. 28\n341. 36\n342. 33\n343. 32\n344. 26\n345. 36\n346. 30\n347. 31\n348. 37\n349. 35\n350. 29\n351. 26\n352. 36\n353. 32\n354. 29\n355. 25\n356. 32\n357. 21\n358. 27\n359. 32\n360. 33\n361. 21\n362. 23\n363. 32\n364. 30\n365. 31\n366. 22\n367. 34\n368. 28\n369. 22\n370. 32\n371. 26\n372. 22\n373. 28\n374. 34\n375. 33\n376. 26\n377. 30\n378. 26\n379. 29\n380. 22\n381. 26\n382. 34\n383. 29\n384. 34\n385. 37\n386. 27\n387. 39\n388. 28\n389. 25\n390. 27\n391. 32\n392. 30\n393. 29\n394. 22\n395. 26\n396. 28\n397. 23\n398. 24\n399. 20\n400. 20\n401. 35\n\n\n",
            "text/latex": "\\begin{enumerate*}\n\\item 31\n\\item 33\n\\item 30\n\\item 30\n\\item 20\n\\item 23\n\\item 24\n\\item 28\n\\item 26\n\\item 23\n\\item 32\n\\item 27\n\\item 29\n\\item 24\n\\item 25\n\\item 23\n\\item 34\n\\item 34\n\\item 32\n\\item 23\n\\item 28\n\\item 26\n\\item 24\n\\item 31\n\\item 27\n\\item 27\n\\item 31\n\\item 25\n\\item 29\n\\item 24\n\\item 32\n\\item 23\n\\item 27\n\\item 22\n\\item 20\n\\item 27\n\\item 28\n\\item 28\n\\item 31\n\\item 27\n\\item 29\n\\item 30\n\\item 25\n\\item 24\n\\item 25\n\\item 27\n\\item 34\n\\item 31\n\\item 29\n\\item 32\n\\item 20\n\\item 32\n\\item 25\n\\item 21\n\\item 29\n\\item 25\n\\item 26\n\\item 28\n\\item 35\n\\item 22\n\\item 31\n\\item 27\n\\item 41\n\\item 31\n\\item 31\n\\item 35\n\\item 33\n\\item 26\n\\item 27\n\\item 32\n\\item 0\n\\item 24\n\\item 27\n\\item 37\n\\item 28\n\\item 33\n\\item 31\n\\item 23\n\\item 21\n\\item 21\n\\item 26\n\\item 32\n\\item 28\n\\item 25\n\\item 26\n\\item 29\n\\item 28\n\\item 37\n\\item 23\n\\item 32\n\\item 40\n\\item 24\n\\item 20\n\\item 26\n\\item 23\n\\item 22\n\\item 29\n\\item 26\n\\item 21\n\\item 29\n\\item 35\n\\item 29\n\\item 29\n\\item 31\n\\item 33\n\\item 31\n\\item 34\n\\item 27\n\\item 31\n\\item 31\n\\item 23\n\\item 31\n\\item 29\n\\item 29\n\\item 30\n\\item 29\n\\item 34\n\\item 30\n\\item 30\n\\item 31\n\\item 37\n\\item 29\n\\item 28\n\\item 28\n\\item 21\n\\item 32\n\\item 20\n\\item 28\n\\item 31\n\\item 28\n\\item 28\n\\item 31\n\\item 26\n\\item 31\n\\item 28\n\\item 32\n\\item 29\n\\item 31\n\\item 30\n\\item 34\n\\item 27\n\\item 30\n\\item 30\n\\item 31\n\\item 23\n\\item 32\n\\item 30\n\\item 30\n\\item 33\n\\item 35\n\\item 28\n\\item 24\n\\item 29\n\\item 27\n\\item 22\n\\item 31\n\\item 24\n\\item 24\n\\item 22\n\\item 32\n\\item 27\n\\item 28\n\\item 24\n\\item 25\n\\item 21\n\\item 24\n\\item 23\n\\item 21\n\\item 30\n\\item 27\n\\item 21\n\\item 28\n\\item 25\n\\item 26\n\\item 20\n\\item 26\n\\item 27\n\\item 28\n\\item 29\n\\item 20\n\\item 32\n\\item 29\n\\item 31\n\\item 29\n\\item 27\n\\item 33\n\\item 31\n\\item 32\n\\item 27\n\\item 36\n\\item 35\n\\item 26\n\\item 29\n\\item 27\n\\item 32\n\\item 25\n\\item 30\n\\item 33\n\\item 24\n\\item 28\n\\item ⋯\n\\item 33\n\\item 21\n\\item 31\n\\item 33\n\\item 33\n\\item 32\n\\item 30\n\\item 29\n\\item 19\n\\item 24\n\\item 28\n\\item 26\n\\item 28\n\\item 30\n\\item 23\n\\item 29\n\\item 31\n\\item 25\n\\item 31\n\\item 21\n\\item 33\n\\item 31\n\\item 20\n\\item 22\n\\item 23\n\\item 25\n\\item 31\n\\item 32\n\\item 32\n\\item 28\n\\item 20\n\\item 31\n\\item 37\n\\item 27\n\\item 27\n\\item 35\n\\item 33\n\\item 28\n\\item 26\n\\item 28\n\\item 21\n\\item 31\n\\item 33\n\\item 31\n\\item 30\n\\item 26\n\\item 35\n\\item 28\n\\item 26\n\\item 22\n\\item 27\n\\item 26\n\\item 30\n\\item 28\n\\item 29\n\\item 31\n\\item 32\n\\item 33\n\\item 22\n\\item 21\n\\item 24\n\\item 20\n\\item 34\n\\item 24\n\\item 29\n\\item 30\n\\item 36\n\\item 30\n\\item 29\n\\item 30\n\\item 29\n\\item 28\n\\item 29\n\\item 29\n\\item 33\n\\item 40\n\\item 38\n\\item 35\n\\item 38\n\\item 29\n\\item 24\n\\item 20\n\\item 24\n\\item 31\n\\item 25\n\\item 28\n\\item 20\n\\item 26\n\\item 29\n\\item 24\n\\item 29\n\\item 26\n\\item 27\n\\item 23\n\\item 30\n\\item 25\n\\item 29\n\\item 25\n\\item 33\n\\item 29\n\\item 30\n\\item 31\n\\item 27\n\\item 31\n\\item 27\n\\item 24\n\\item 22\n\\item 25\n\\item 33\n\\item 31\n\\item 31\n\\item 27\n\\item 28\n\\item 21\n\\item 34\n\\item 21\n\\item 20\n\\item 28\n\\item 25\n\\item 22\n\\item 31\n\\item 22\n\\item 33\n\\item 25\n\\item 34\n\\item 24\n\\item 27\n\\item 32\n\\item 23\n\\item 30\n\\item 33\n\\item 28\n\\item 32\n\\item 34\n\\item 27\n\\item 29\n\\item 34\n\\item 34\n\\item 28\n\\item 36\n\\item 33\n\\item 32\n\\item 26\n\\item 36\n\\item 30\n\\item 31\n\\item 37\n\\item 35\n\\item 29\n\\item 26\n\\item 36\n\\item 32\n\\item 29\n\\item 25\n\\item 32\n\\item 21\n\\item 27\n\\item 32\n\\item 33\n\\item 21\n\\item 23\n\\item 32\n\\item 30\n\\item 31\n\\item 22\n\\item 34\n\\item 28\n\\item 22\n\\item 32\n\\item 26\n\\item 22\n\\item 28\n\\item 34\n\\item 33\n\\item 26\n\\item 30\n\\item 26\n\\item 29\n\\item 22\n\\item 26\n\\item 34\n\\item 29\n\\item 34\n\\item 37\n\\item 27\n\\item 39\n\\item 28\n\\item 25\n\\item 27\n\\item 32\n\\item 30\n\\item 29\n\\item 22\n\\item 26\n\\item 28\n\\item 23\n\\item 24\n\\item 20\n\\item 20\n\\item 35\n\\end{enumerate*}\n",
            "text/plain": [
              "  [1] 31 33 30 30 20 23 24 28 26 23 32 27 29 24 25 23 34 34 32 23 28 26 24 31 27\n",
              " [26] 27 31 25 29 24 32 23 27 22 20 27 28 28 31 27 29 30 25 24 25 27 34 31 29 32\n",
              " [51] 20 32 25 21 29 25 26 28 35 22 31 27 41 31 31 35 33 26 27 32  0 24 27 37 28\n",
              " [76] 33 31 23 21 21 26 32 28 25 26 29 28 37 23 32 40 24 20 26 23 22 29 26 21 29\n",
              "[101] 35 29 29 31 33 31 34 27 31 31 23 31 29 29 30 29 34 30 30 31 37 29 28 28 21\n",
              "[126] 32 20 28 31 28 28 31 26 31 28 32 29 31 30 34 27 30 30 31 23 32 30 30 33 35\n",
              "[151] 28 24 29 27 22 31 24 24 22 32 27 28 24 25 21 24 23 21 30 27 21 28 25 26 20\n",
              "[176] 26 27 28 29 20 32 29 31 29 27 33 31 32 27 36 35 26 29 27 32 25 30 33 24 28\n",
              "[201] 24 32 35 30 22 26 30 27 37 33 22 28 30 31 23 31 27 28 25  0 23 30 26 27 32\n",
              "[226] 28 40 34 27 31 30 25 26 25 24 27 31 24 27 29 26 24 27 20 24 33 30 35 28 32\n",
              "[251] 26 25 34 24 33 28 34 30 32 26 21 29 29 29 26 28 38 28 34 31 27 23 23 33 22\n",
              "[276] 27 25 29 31 30 34 26 25 32 32 37 29 24 27 33 29 30 27 25 29 22 36 28 31 21\n",
              "[301] 21 23 26 29 24 23 32 41 23 31 27 27 30 23 34 20 22 24 21 27 27 26 29 30 32\n",
              "[326] 23 30 23 25 26 21 30 23 32 35 27 25 29 38 34 36 32 27 25 21 24 29 30 27 22\n",
              "[351] 27 32 28 25 27 29 24 22 25 25 38 31 29 28 31 20 25 34 30 28 23 27 33 21 31\n",
              "[376] 33 33 32 30 29 19 24 28 26 28 30 23 29 31 25 31 21 33 31 20 22 23 25 31 32\n",
              "[401] 32 28 20 31 37 27 27 35 33 28 26 28 21 31 33 31 30 26 35 28 26 22 27 26 30\n",
              "[426] 28 29 31 32 33 22 21 24 20 34 24 29 30 36 30 29 30 29 28 29 29 33 40 38 35\n",
              "[451] 38 29 24 20 24 31 25 28 20 26 29 24 29 26 27 23 30 25 29 25 33 29 30 31 27\n",
              "[476] 31 27 24 22 25 33 31 31 27 28 21 34 21 20 28 25 22 31 22 33 25 34 24 27 32\n",
              "[501] 23 30 33 28 32 34 27 29 34 34 28 36 33 32 26 36 30 31 37 35 29 26 36 32 29\n",
              "[526] 25 32 21 27 32 33 21 23 32 30 31 22 34 28 22 32 26 22 28 34 33 26 30 26 29\n",
              "[551] 22 26 34 29 34 37 27 39 28 25 27 32 30 29 22 26 28 23 24 20 20 35"
            ]
          },
          "metadata": {}
        }
      ]
    },
    {
      "cell_type": "markdown",
      "source": [
        "列名だけではなく、列番号でも指定できます。`データフレームの変数名[,列番号]`という形です。\n",
        "\n",
        "例えば7列目のデータを取り出すには`df$[,7]`となります。\n",
        "\n"
      ],
      "metadata": {
        "id": "47rEuXsqHJoW"
      }
    },
    {
      "cell_type": "code",
      "source": [
        "df[,7]"
      ],
      "metadata": {
        "id": "D4xwexzYHhEe",
        "colab": {
          "base_uri": "https://localhost:8080/",
          "height": 798
        },
        "outputId": "932f65f8-1e4b-4e79-cb37-5337a8c0c01e"
      },
      "execution_count": 27,
      "outputs": [
        {
          "output_type": "display_data",
          "data": {
            "text/html": [
              "<style>\n",
              ".list-inline {list-style: none; margin:0; padding: 0}\n",
              ".list-inline>li {display: inline-block}\n",
              ".list-inline>li:not(:last-child)::after {content: \"\\00b7\"; padding: 0 .5ex}\n",
              "</style>\n",
              "<ol class=list-inline><li>'Defender'</li><li>'Midfielder'</li><li>'Midfielder'</li><li>'Midfielder'</li><li>'Forward'</li><li>'Midfielder'</li><li>'Midfielder'</li><li>'Midfielder'</li><li>'Forward'</li><li>'Forward'</li><li>'Midfielder'</li><li>'Defender'</li><li>'Defender'</li><li>'Forward'</li><li>'Midfielder'</li><li>'Forward'</li><li>'Defender'</li><li>'Goalkeeper'</li><li>'Midfielder'</li><li>'Midfielder'</li><li>'Defender'</li><li>'Forward'</li><li>'Forward'</li><li>'Goalkeeper'</li><li>'Midfielder'</li><li>'Midfielder'</li><li>'Goalkeeper'</li><li>'Forward'</li><li>'Forward'</li><li>'Forward'</li><li>'Forward'</li><li>'Defender'</li><li>'Defender'</li><li>'Goalkeeper'</li><li>'Defender'</li><li>'Forward'</li><li>'Goalkeeper'</li><li>'Forward'</li><li>'Midfielder'</li><li>'Midfielder'</li><li>'Forward'</li><li>'Midfielder'</li><li>'Midfielder'</li><li>'Defender'</li><li>'Midfielder'</li><li>'Defender'</li><li>'Midfielder'</li><li>'Forward'</li><li>'Midfielder'</li><li>'Forward'</li><li>'Midfielder'</li><li>'Defender'</li><li>'Goalkeeper'</li><li>'Defender'</li><li>'Midfielder'</li><li>'Forward'</li><li>'Defender'</li><li>'Defender'</li><li>'Defender'</li><li>'Goalkeeper'</li><li>'Midfielder'</li><li>'Defender'</li><li>'Goalkeeper'</li><li>'Forward'</li><li>'Midfielder'</li><li>'Midfielder'</li><li>'Goalkeeper'</li><li>'Defender'</li><li>'Forward'</li><li>'Midfielder'</li><li>'Midfielder'</li><li>'Defender'</li><li>'Defender'</li><li>'Goalkeeper'</li><li>'Defender'</li><li>'Goalkeeper'</li><li>'Defender'</li><li>'Defender'</li><li>'Defender'</li><li>'Forward'</li><li>'Defender'</li><li>'Midfielder'</li><li>'Midfielder'</li><li>'Defender'</li><li>'Midfielder'</li><li>'Goalkeeper'</li><li>'Midfielder'</li><li>'Goalkeeper'</li><li>'Forward'</li><li>'Defender'</li><li>'Defender'</li><li>'Defender'</li><li>'Midfielder'</li><li>'Defender'</li><li>'Forward'</li><li>'Midfielder'</li><li>'Forward'</li><li>'Defender'</li><li>'Defender'</li><li>'Defender'</li><li>'Midfielder'</li><li>'Defender'</li><li>'Forward'</li><li>'Defender'</li><li>'Midfielder'</li><li>'Forward'</li><li>'Defender'</li><li>'Defender'</li><li>'Midfielder'</li><li>'Defender'</li><li>'Defender'</li><li>'Defender'</li><li>'Forward'</li><li>'Midfielder'</li><li>'Forward'</li><li>'Midfielder'</li><li>'Defender'</li><li>'Defender'</li><li>'Defender'</li><li>'Defender'</li><li>'Goalkeeper'</li><li>'Forward'</li><li>'Forward'</li><li>'Midfielder'</li><li>'Midfielder'</li><li>'Defender'</li><li>'Midfielder'</li><li>'Defender'</li><li>'Midfielder'</li><li>'Goalkeeper'</li><li>'Defender'</li><li>'Midfielder'</li><li>'Midfielder'</li><li>'Forward'</li><li>'Forward'</li><li>'Midfielder'</li><li>'Defender'</li><li>'Midfielder'</li><li>'Defender'</li><li>'Defender'</li><li>'Goalkeeper'</li><li>'Forward'</li><li>'Forward'</li><li>'Defender'</li><li>'Forward'</li><li>'Goalkeeper'</li><li>'Goalkeeper'</li><li>'Forward'</li><li>'Defender'</li><li>'Midfielder'</li><li>'Defender'</li><li>'Defender'</li><li>'Midfielder'</li><li>'Defender'</li><li>'Midfielder'</li><li>'Defender'</li><li>'Midfielder'</li><li>'Midfielder'</li><li>'Defender'</li><li>'Defender'</li><li>'Midfielder'</li><li>'Defender'</li><li>'Midfielder'</li><li>'Forward'</li><li>'Midfielder'</li><li>'Forward'</li><li>'Forward'</li><li>'Forward'</li><li>'Midfielder'</li><li>'Goalkeeper'</li><li>'Forward'</li><li>'Forward'</li><li>'Midfielder'</li><li>'Defender'</li><li>'Midfielder'</li><li>'Defender'</li><li>'Midfielder'</li><li>'Defender'</li><li>'Midfielder'</li><li>'Midfielder'</li><li>'Midfielder'</li><li>'Defender'</li><li>'Midfielder'</li><li>'Defender'</li><li>'Midfielder'</li><li>'Goalkeeper'</li><li>'Defender'</li><li>'Defender'</li><li>'Midfielder'</li><li>'Forward'</li><li>'Midfielder'</li><li>'Defender'</li><li>'Defender'</li><li>'Forward'</li><li>'Midfielder'</li><li>'Midfielder'</li><li>'Midfielder'</li><li>'Goalkeeper'</li><li>'Goalkeeper'</li><li>'Midfielder'</li><li>⋯</li><li>'Midfielder'</li><li>'Goalkeeper'</li><li>'Forward'</li><li>'Defender'</li><li>'Midfielder'</li><li>'Goalkeeper'</li><li>'Defender'</li><li>'Defender'</li><li>'Midfielder'</li><li>'Defender'</li><li>'Forward'</li><li>'Midfielder'</li><li>'Goalkeeper'</li><li>'Defender'</li><li>'Midfielder'</li><li>'Defender'</li><li>'Midfielder'</li><li>'Defender'</li><li>'Defender'</li><li>'Midfielder'</li><li>'Defender'</li><li>'Defender'</li><li>'Midfielder'</li><li>'Midfielder'</li><li>'Defender'</li><li>'Midfielder'</li><li>'Defender'</li><li>'Defender'</li><li>'Midfielder'</li><li>'Defender'</li><li>'Forward'</li><li>'Midfielder'</li><li>'Goalkeeper'</li><li>'Forward'</li><li>'Midfielder'</li><li>'Defender'</li><li>'Midfielder'</li><li>'Midfielder'</li><li>'Midfielder'</li><li>'Forward'</li><li>'Midfielder'</li><li>'Midfielder'</li><li>'Midfielder'</li><li>'Midfielder'</li><li>'Midfielder'</li><li>'Midfielder'</li><li>'Defender'</li><li>'Midfielder'</li><li>'Defender'</li><li>'Midfielder'</li><li>'Midfielder'</li><li>'Midfielder'</li><li>'Defender'</li><li>'Midfielder'</li><li>'Midfielder'</li><li>'Goalkeeper'</li><li>'Midfielder'</li><li>'Defender'</li><li>'Defender'</li><li>'Midfielder'</li><li>'Midfielder'</li><li>'Midfielder'</li><li>'Forward'</li><li>'Midfielder'</li><li>'Midfielder'</li><li>'Forward'</li><li>'Defender'</li><li>'Defender'</li><li>'Midfielder'</li><li>'Defender'</li><li>'Defender'</li><li>'Midfielder'</li><li>'Goalkeeper'</li><li>'Midfielder'</li><li>'Midfielder'</li><li>'Forward'</li><li>'Goalkeeper'</li><li>'Defender'</li><li>'Defender'</li><li>'Defender'</li><li>'Midfielder'</li><li>'Midfielder'</li><li>'Defender'</li><li>'Forward'</li><li>'Midfielder'</li><li>'Forward'</li><li>'Midfielder'</li><li>'Forward'</li><li>'Midfielder'</li><li>'Forward'</li><li>'Forward'</li><li>'Forward'</li><li>'Defender'</li><li>'Forward'</li><li>'Midfielder'</li><li>'Defender'</li><li>'Midfielder'</li><li>'Midfielder'</li><li>'Midfielder'</li><li>'Forward'</li><li>'Forward'</li><li>'Midfielder'</li><li>'Forward'</li><li>'Forward'</li><li>'Midfielder'</li><li>'Midfielder'</li><li>'Defender'</li><li>'Midfielder'</li><li>'Goalkeeper'</li><li>'Defender'</li><li>'Defender'</li><li>'Midfielder'</li><li>'Midfielder'</li><li>'Midfielder'</li><li>'Forward'</li><li>'Goalkeeper'</li><li>'Defender'</li><li>'Forward'</li><li>'Forward'</li><li>'Forward'</li><li>'Forward'</li><li>'Defender'</li><li>'Midfielder'</li><li>'Forward'</li><li>'Defender'</li><li>'Midfielder'</li><li>'Defender'</li><li>'Defender'</li><li>'Midfielder'</li><li>'Defender'</li><li>'Defender'</li><li>'Defender'</li><li>'Forward'</li><li>'Goalkeeper'</li><li>'Goalkeeper'</li><li>'Defender'</li><li>'Forward'</li><li>'Forward'</li><li>'Defender'</li><li>'Defender'</li><li>'Goalkeeper'</li><li>'Defender'</li><li>'Midfielder'</li><li>'Defender'</li><li>'Midfielder'</li><li>'Forward'</li><li>'Defender'</li><li>'Defender'</li><li>'Defender'</li><li>'Forward'</li><li>'Midfielder'</li><li>'Midfielder'</li><li>'Midfielder'</li><li>'Midfielder'</li><li>'Midfielder'</li><li>'Forward'</li><li>'Defender'</li><li>'Forward'</li><li>'Defender'</li><li>'Defender'</li><li>'Defender'</li><li>'Defender'</li><li>'Midfielder'</li><li>'Midfielder'</li><li>'Midfielder'</li><li>'Goalkeeper'</li><li>'Defender'</li><li>'Defender'</li><li>'Forward'</li><li>'Defender'</li><li>'Defender'</li><li>'Defender'</li><li>'Goalkeeper'</li><li>'Midfielder'</li><li>'Midfielder'</li><li>'Midfielder'</li><li>'Defender'</li><li>'Midfielder'</li><li>'Forward'</li><li>'Forward'</li><li>'Defender'</li><li>'Defender'</li><li>'Goalkeeper'</li><li>'Defender'</li><li>'Defender'</li><li>'Goalkeeper'</li><li>'Midfielder'</li><li>'Midfielder'</li><li>'Goalkeeper'</li><li>'Forward'</li><li>'Defender'</li><li>'Midfielder'</li><li>'Defender'</li><li>'Defender'</li><li>'Forward'</li><li>'Midfielder'</li><li>'Midfielder'</li><li>'Defender'</li><li>'Defender'</li><li>'Goalkeeper'</li></ol>\n"
            ],
            "text/markdown": "1. 'Defender'\n2. 'Midfielder'\n3. 'Midfielder'\n4. 'Midfielder'\n5. 'Forward'\n6. 'Midfielder'\n7. 'Midfielder'\n8. 'Midfielder'\n9. 'Forward'\n10. 'Forward'\n11. 'Midfielder'\n12. 'Defender'\n13. 'Defender'\n14. 'Forward'\n15. 'Midfielder'\n16. 'Forward'\n17. 'Defender'\n18. 'Goalkeeper'\n19. 'Midfielder'\n20. 'Midfielder'\n21. 'Defender'\n22. 'Forward'\n23. 'Forward'\n24. 'Goalkeeper'\n25. 'Midfielder'\n26. 'Midfielder'\n27. 'Goalkeeper'\n28. 'Forward'\n29. 'Forward'\n30. 'Forward'\n31. 'Forward'\n32. 'Defender'\n33. 'Defender'\n34. 'Goalkeeper'\n35. 'Defender'\n36. 'Forward'\n37. 'Goalkeeper'\n38. 'Forward'\n39. 'Midfielder'\n40. 'Midfielder'\n41. 'Forward'\n42. 'Midfielder'\n43. 'Midfielder'\n44. 'Defender'\n45. 'Midfielder'\n46. 'Defender'\n47. 'Midfielder'\n48. 'Forward'\n49. 'Midfielder'\n50. 'Forward'\n51. 'Midfielder'\n52. 'Defender'\n53. 'Goalkeeper'\n54. 'Defender'\n55. 'Midfielder'\n56. 'Forward'\n57. 'Defender'\n58. 'Defender'\n59. 'Defender'\n60. 'Goalkeeper'\n61. 'Midfielder'\n62. 'Defender'\n63. 'Goalkeeper'\n64. 'Forward'\n65. 'Midfielder'\n66. 'Midfielder'\n67. 'Goalkeeper'\n68. 'Defender'\n69. 'Forward'\n70. 'Midfielder'\n71. 'Midfielder'\n72. 'Defender'\n73. 'Defender'\n74. 'Goalkeeper'\n75. 'Defender'\n76. 'Goalkeeper'\n77. 'Defender'\n78. 'Defender'\n79. 'Defender'\n80. 'Forward'\n81. 'Defender'\n82. 'Midfielder'\n83. 'Midfielder'\n84. 'Defender'\n85. 'Midfielder'\n86. 'Goalkeeper'\n87. 'Midfielder'\n88. 'Goalkeeper'\n89. 'Forward'\n90. 'Defender'\n91. 'Defender'\n92. 'Defender'\n93. 'Midfielder'\n94. 'Defender'\n95. 'Forward'\n96. 'Midfielder'\n97. 'Forward'\n98. 'Defender'\n99. 'Defender'\n100. 'Defender'\n101. 'Midfielder'\n102. 'Defender'\n103. 'Forward'\n104. 'Defender'\n105. 'Midfielder'\n106. 'Forward'\n107. 'Defender'\n108. 'Defender'\n109. 'Midfielder'\n110. 'Defender'\n111. 'Defender'\n112. 'Defender'\n113. 'Forward'\n114. 'Midfielder'\n115. 'Forward'\n116. 'Midfielder'\n117. 'Defender'\n118. 'Defender'\n119. 'Defender'\n120. 'Defender'\n121. 'Goalkeeper'\n122. 'Forward'\n123. 'Forward'\n124. 'Midfielder'\n125. 'Midfielder'\n126. 'Defender'\n127. 'Midfielder'\n128. 'Defender'\n129. 'Midfielder'\n130. 'Goalkeeper'\n131. 'Defender'\n132. 'Midfielder'\n133. 'Midfielder'\n134. 'Forward'\n135. 'Forward'\n136. 'Midfielder'\n137. 'Defender'\n138. 'Midfielder'\n139. 'Defender'\n140. 'Defender'\n141. 'Goalkeeper'\n142. 'Forward'\n143. 'Forward'\n144. 'Defender'\n145. 'Forward'\n146. 'Goalkeeper'\n147. 'Goalkeeper'\n148. 'Forward'\n149. 'Defender'\n150. 'Midfielder'\n151. 'Defender'\n152. 'Defender'\n153. 'Midfielder'\n154. 'Defender'\n155. 'Midfielder'\n156. 'Defender'\n157. 'Midfielder'\n158. 'Midfielder'\n159. 'Defender'\n160. 'Defender'\n161. 'Midfielder'\n162. 'Defender'\n163. 'Midfielder'\n164. 'Forward'\n165. 'Midfielder'\n166. 'Forward'\n167. 'Forward'\n168. 'Forward'\n169. 'Midfielder'\n170. 'Goalkeeper'\n171. 'Forward'\n172. 'Forward'\n173. 'Midfielder'\n174. 'Defender'\n175. 'Midfielder'\n176. 'Defender'\n177. 'Midfielder'\n178. 'Defender'\n179. 'Midfielder'\n180. 'Midfielder'\n181. 'Midfielder'\n182. 'Defender'\n183. 'Midfielder'\n184. 'Defender'\n185. 'Midfielder'\n186. 'Goalkeeper'\n187. 'Defender'\n188. 'Defender'\n189. 'Midfielder'\n190. 'Forward'\n191. 'Midfielder'\n192. 'Defender'\n193. 'Defender'\n194. 'Forward'\n195. 'Midfielder'\n196. 'Midfielder'\n197. 'Midfielder'\n198. 'Goalkeeper'\n199. 'Goalkeeper'\n200. 'Midfielder'\n201. ⋯\n202. 'Midfielder'\n203. 'Goalkeeper'\n204. 'Forward'\n205. 'Defender'\n206. 'Midfielder'\n207. 'Goalkeeper'\n208. 'Defender'\n209. 'Defender'\n210. 'Midfielder'\n211. 'Defender'\n212. 'Forward'\n213. 'Midfielder'\n214. 'Goalkeeper'\n215. 'Defender'\n216. 'Midfielder'\n217. 'Defender'\n218. 'Midfielder'\n219. 'Defender'\n220. 'Defender'\n221. 'Midfielder'\n222. 'Defender'\n223. 'Defender'\n224. 'Midfielder'\n225. 'Midfielder'\n226. 'Defender'\n227. 'Midfielder'\n228. 'Defender'\n229. 'Defender'\n230. 'Midfielder'\n231. 'Defender'\n232. 'Forward'\n233. 'Midfielder'\n234. 'Goalkeeper'\n235. 'Forward'\n236. 'Midfielder'\n237. 'Defender'\n238. 'Midfielder'\n239. 'Midfielder'\n240. 'Midfielder'\n241. 'Forward'\n242. 'Midfielder'\n243. 'Midfielder'\n244. 'Midfielder'\n245. 'Midfielder'\n246. 'Midfielder'\n247. 'Midfielder'\n248. 'Defender'\n249. 'Midfielder'\n250. 'Defender'\n251. 'Midfielder'\n252. 'Midfielder'\n253. 'Midfielder'\n254. 'Defender'\n255. 'Midfielder'\n256. 'Midfielder'\n257. 'Goalkeeper'\n258. 'Midfielder'\n259. 'Defender'\n260. 'Defender'\n261. 'Midfielder'\n262. 'Midfielder'\n263. 'Midfielder'\n264. 'Forward'\n265. 'Midfielder'\n266. 'Midfielder'\n267. 'Forward'\n268. 'Defender'\n269. 'Defender'\n270. 'Midfielder'\n271. 'Defender'\n272. 'Defender'\n273. 'Midfielder'\n274. 'Goalkeeper'\n275. 'Midfielder'\n276. 'Midfielder'\n277. 'Forward'\n278. 'Goalkeeper'\n279. 'Defender'\n280. 'Defender'\n281. 'Defender'\n282. 'Midfielder'\n283. 'Midfielder'\n284. 'Defender'\n285. 'Forward'\n286. 'Midfielder'\n287. 'Forward'\n288. 'Midfielder'\n289. 'Forward'\n290. 'Midfielder'\n291. 'Forward'\n292. 'Forward'\n293. 'Forward'\n294. 'Defender'\n295. 'Forward'\n296. 'Midfielder'\n297. 'Defender'\n298. 'Midfielder'\n299. 'Midfielder'\n300. 'Midfielder'\n301. 'Forward'\n302. 'Forward'\n303. 'Midfielder'\n304. 'Forward'\n305. 'Forward'\n306. 'Midfielder'\n307. 'Midfielder'\n308. 'Defender'\n309. 'Midfielder'\n310. 'Goalkeeper'\n311. 'Defender'\n312. 'Defender'\n313. 'Midfielder'\n314. 'Midfielder'\n315. 'Midfielder'\n316. 'Forward'\n317. 'Goalkeeper'\n318. 'Defender'\n319. 'Forward'\n320. 'Forward'\n321. 'Forward'\n322. 'Forward'\n323. 'Defender'\n324. 'Midfielder'\n325. 'Forward'\n326. 'Defender'\n327. 'Midfielder'\n328. 'Defender'\n329. 'Defender'\n330. 'Midfielder'\n331. 'Defender'\n332. 'Defender'\n333. 'Defender'\n334. 'Forward'\n335. 'Goalkeeper'\n336. 'Goalkeeper'\n337. 'Defender'\n338. 'Forward'\n339. 'Forward'\n340. 'Defender'\n341. 'Defender'\n342. 'Goalkeeper'\n343. 'Defender'\n344. 'Midfielder'\n345. 'Defender'\n346. 'Midfielder'\n347. 'Forward'\n348. 'Defender'\n349. 'Defender'\n350. 'Defender'\n351. 'Forward'\n352. 'Midfielder'\n353. 'Midfielder'\n354. 'Midfielder'\n355. 'Midfielder'\n356. 'Midfielder'\n357. 'Forward'\n358. 'Defender'\n359. 'Forward'\n360. 'Defender'\n361. 'Defender'\n362. 'Defender'\n363. 'Defender'\n364. 'Midfielder'\n365. 'Midfielder'\n366. 'Midfielder'\n367. 'Goalkeeper'\n368. 'Defender'\n369. 'Defender'\n370. 'Forward'\n371. 'Defender'\n372. 'Defender'\n373. 'Defender'\n374. 'Goalkeeper'\n375. 'Midfielder'\n376. 'Midfielder'\n377. 'Midfielder'\n378. 'Defender'\n379. 'Midfielder'\n380. 'Forward'\n381. 'Forward'\n382. 'Defender'\n383. 'Defender'\n384. 'Goalkeeper'\n385. 'Defender'\n386. 'Defender'\n387. 'Goalkeeper'\n388. 'Midfielder'\n389. 'Midfielder'\n390. 'Goalkeeper'\n391. 'Forward'\n392. 'Defender'\n393. 'Midfielder'\n394. 'Defender'\n395. 'Defender'\n396. 'Forward'\n397. 'Midfielder'\n398. 'Midfielder'\n399. 'Defender'\n400. 'Defender'\n401. 'Goalkeeper'\n\n\n",
            "text/latex": "\\begin{enumerate*}\n\\item 'Defender'\n\\item 'Midfielder'\n\\item 'Midfielder'\n\\item 'Midfielder'\n\\item 'Forward'\n\\item 'Midfielder'\n\\item 'Midfielder'\n\\item 'Midfielder'\n\\item 'Forward'\n\\item 'Forward'\n\\item 'Midfielder'\n\\item 'Defender'\n\\item 'Defender'\n\\item 'Forward'\n\\item 'Midfielder'\n\\item 'Forward'\n\\item 'Defender'\n\\item 'Goalkeeper'\n\\item 'Midfielder'\n\\item 'Midfielder'\n\\item 'Defender'\n\\item 'Forward'\n\\item 'Forward'\n\\item 'Goalkeeper'\n\\item 'Midfielder'\n\\item 'Midfielder'\n\\item 'Goalkeeper'\n\\item 'Forward'\n\\item 'Forward'\n\\item 'Forward'\n\\item 'Forward'\n\\item 'Defender'\n\\item 'Defender'\n\\item 'Goalkeeper'\n\\item 'Defender'\n\\item 'Forward'\n\\item 'Goalkeeper'\n\\item 'Forward'\n\\item 'Midfielder'\n\\item 'Midfielder'\n\\item 'Forward'\n\\item 'Midfielder'\n\\item 'Midfielder'\n\\item 'Defender'\n\\item 'Midfielder'\n\\item 'Defender'\n\\item 'Midfielder'\n\\item 'Forward'\n\\item 'Midfielder'\n\\item 'Forward'\n\\item 'Midfielder'\n\\item 'Defender'\n\\item 'Goalkeeper'\n\\item 'Defender'\n\\item 'Midfielder'\n\\item 'Forward'\n\\item 'Defender'\n\\item 'Defender'\n\\item 'Defender'\n\\item 'Goalkeeper'\n\\item 'Midfielder'\n\\item 'Defender'\n\\item 'Goalkeeper'\n\\item 'Forward'\n\\item 'Midfielder'\n\\item 'Midfielder'\n\\item 'Goalkeeper'\n\\item 'Defender'\n\\item 'Forward'\n\\item 'Midfielder'\n\\item 'Midfielder'\n\\item 'Defender'\n\\item 'Defender'\n\\item 'Goalkeeper'\n\\item 'Defender'\n\\item 'Goalkeeper'\n\\item 'Defender'\n\\item 'Defender'\n\\item 'Defender'\n\\item 'Forward'\n\\item 'Defender'\n\\item 'Midfielder'\n\\item 'Midfielder'\n\\item 'Defender'\n\\item 'Midfielder'\n\\item 'Goalkeeper'\n\\item 'Midfielder'\n\\item 'Goalkeeper'\n\\item 'Forward'\n\\item 'Defender'\n\\item 'Defender'\n\\item 'Defender'\n\\item 'Midfielder'\n\\item 'Defender'\n\\item 'Forward'\n\\item 'Midfielder'\n\\item 'Forward'\n\\item 'Defender'\n\\item 'Defender'\n\\item 'Defender'\n\\item 'Midfielder'\n\\item 'Defender'\n\\item 'Forward'\n\\item 'Defender'\n\\item 'Midfielder'\n\\item 'Forward'\n\\item 'Defender'\n\\item 'Defender'\n\\item 'Midfielder'\n\\item 'Defender'\n\\item 'Defender'\n\\item 'Defender'\n\\item 'Forward'\n\\item 'Midfielder'\n\\item 'Forward'\n\\item 'Midfielder'\n\\item 'Defender'\n\\item 'Defender'\n\\item 'Defender'\n\\item 'Defender'\n\\item 'Goalkeeper'\n\\item 'Forward'\n\\item 'Forward'\n\\item 'Midfielder'\n\\item 'Midfielder'\n\\item 'Defender'\n\\item 'Midfielder'\n\\item 'Defender'\n\\item 'Midfielder'\n\\item 'Goalkeeper'\n\\item 'Defender'\n\\item 'Midfielder'\n\\item 'Midfielder'\n\\item 'Forward'\n\\item 'Forward'\n\\item 'Midfielder'\n\\item 'Defender'\n\\item 'Midfielder'\n\\item 'Defender'\n\\item 'Defender'\n\\item 'Goalkeeper'\n\\item 'Forward'\n\\item 'Forward'\n\\item 'Defender'\n\\item 'Forward'\n\\item 'Goalkeeper'\n\\item 'Goalkeeper'\n\\item 'Forward'\n\\item 'Defender'\n\\item 'Midfielder'\n\\item 'Defender'\n\\item 'Defender'\n\\item 'Midfielder'\n\\item 'Defender'\n\\item 'Midfielder'\n\\item 'Defender'\n\\item 'Midfielder'\n\\item 'Midfielder'\n\\item 'Defender'\n\\item 'Defender'\n\\item 'Midfielder'\n\\item 'Defender'\n\\item 'Midfielder'\n\\item 'Forward'\n\\item 'Midfielder'\n\\item 'Forward'\n\\item 'Forward'\n\\item 'Forward'\n\\item 'Midfielder'\n\\item 'Goalkeeper'\n\\item 'Forward'\n\\item 'Forward'\n\\item 'Midfielder'\n\\item 'Defender'\n\\item 'Midfielder'\n\\item 'Defender'\n\\item 'Midfielder'\n\\item 'Defender'\n\\item 'Midfielder'\n\\item 'Midfielder'\n\\item 'Midfielder'\n\\item 'Defender'\n\\item 'Midfielder'\n\\item 'Defender'\n\\item 'Midfielder'\n\\item 'Goalkeeper'\n\\item 'Defender'\n\\item 'Defender'\n\\item 'Midfielder'\n\\item 'Forward'\n\\item 'Midfielder'\n\\item 'Defender'\n\\item 'Defender'\n\\item 'Forward'\n\\item 'Midfielder'\n\\item 'Midfielder'\n\\item 'Midfielder'\n\\item 'Goalkeeper'\n\\item 'Goalkeeper'\n\\item 'Midfielder'\n\\item ⋯\n\\item 'Midfielder'\n\\item 'Goalkeeper'\n\\item 'Forward'\n\\item 'Defender'\n\\item 'Midfielder'\n\\item 'Goalkeeper'\n\\item 'Defender'\n\\item 'Defender'\n\\item 'Midfielder'\n\\item 'Defender'\n\\item 'Forward'\n\\item 'Midfielder'\n\\item 'Goalkeeper'\n\\item 'Defender'\n\\item 'Midfielder'\n\\item 'Defender'\n\\item 'Midfielder'\n\\item 'Defender'\n\\item 'Defender'\n\\item 'Midfielder'\n\\item 'Defender'\n\\item 'Defender'\n\\item 'Midfielder'\n\\item 'Midfielder'\n\\item 'Defender'\n\\item 'Midfielder'\n\\item 'Defender'\n\\item 'Defender'\n\\item 'Midfielder'\n\\item 'Defender'\n\\item 'Forward'\n\\item 'Midfielder'\n\\item 'Goalkeeper'\n\\item 'Forward'\n\\item 'Midfielder'\n\\item 'Defender'\n\\item 'Midfielder'\n\\item 'Midfielder'\n\\item 'Midfielder'\n\\item 'Forward'\n\\item 'Midfielder'\n\\item 'Midfielder'\n\\item 'Midfielder'\n\\item 'Midfielder'\n\\item 'Midfielder'\n\\item 'Midfielder'\n\\item 'Defender'\n\\item 'Midfielder'\n\\item 'Defender'\n\\item 'Midfielder'\n\\item 'Midfielder'\n\\item 'Midfielder'\n\\item 'Defender'\n\\item 'Midfielder'\n\\item 'Midfielder'\n\\item 'Goalkeeper'\n\\item 'Midfielder'\n\\item 'Defender'\n\\item 'Defender'\n\\item 'Midfielder'\n\\item 'Midfielder'\n\\item 'Midfielder'\n\\item 'Forward'\n\\item 'Midfielder'\n\\item 'Midfielder'\n\\item 'Forward'\n\\item 'Defender'\n\\item 'Defender'\n\\item 'Midfielder'\n\\item 'Defender'\n\\item 'Defender'\n\\item 'Midfielder'\n\\item 'Goalkeeper'\n\\item 'Midfielder'\n\\item 'Midfielder'\n\\item 'Forward'\n\\item 'Goalkeeper'\n\\item 'Defender'\n\\item 'Defender'\n\\item 'Defender'\n\\item 'Midfielder'\n\\item 'Midfielder'\n\\item 'Defender'\n\\item 'Forward'\n\\item 'Midfielder'\n\\item 'Forward'\n\\item 'Midfielder'\n\\item 'Forward'\n\\item 'Midfielder'\n\\item 'Forward'\n\\item 'Forward'\n\\item 'Forward'\n\\item 'Defender'\n\\item 'Forward'\n\\item 'Midfielder'\n\\item 'Defender'\n\\item 'Midfielder'\n\\item 'Midfielder'\n\\item 'Midfielder'\n\\item 'Forward'\n\\item 'Forward'\n\\item 'Midfielder'\n\\item 'Forward'\n\\item 'Forward'\n\\item 'Midfielder'\n\\item 'Midfielder'\n\\item 'Defender'\n\\item 'Midfielder'\n\\item 'Goalkeeper'\n\\item 'Defender'\n\\item 'Defender'\n\\item 'Midfielder'\n\\item 'Midfielder'\n\\item 'Midfielder'\n\\item 'Forward'\n\\item 'Goalkeeper'\n\\item 'Defender'\n\\item 'Forward'\n\\item 'Forward'\n\\item 'Forward'\n\\item 'Forward'\n\\item 'Defender'\n\\item 'Midfielder'\n\\item 'Forward'\n\\item 'Defender'\n\\item 'Midfielder'\n\\item 'Defender'\n\\item 'Defender'\n\\item 'Midfielder'\n\\item 'Defender'\n\\item 'Defender'\n\\item 'Defender'\n\\item 'Forward'\n\\item 'Goalkeeper'\n\\item 'Goalkeeper'\n\\item 'Defender'\n\\item 'Forward'\n\\item 'Forward'\n\\item 'Defender'\n\\item 'Defender'\n\\item 'Goalkeeper'\n\\item 'Defender'\n\\item 'Midfielder'\n\\item 'Defender'\n\\item 'Midfielder'\n\\item 'Forward'\n\\item 'Defender'\n\\item 'Defender'\n\\item 'Defender'\n\\item 'Forward'\n\\item 'Midfielder'\n\\item 'Midfielder'\n\\item 'Midfielder'\n\\item 'Midfielder'\n\\item 'Midfielder'\n\\item 'Forward'\n\\item 'Defender'\n\\item 'Forward'\n\\item 'Defender'\n\\item 'Defender'\n\\item 'Defender'\n\\item 'Defender'\n\\item 'Midfielder'\n\\item 'Midfielder'\n\\item 'Midfielder'\n\\item 'Goalkeeper'\n\\item 'Defender'\n\\item 'Defender'\n\\item 'Forward'\n\\item 'Defender'\n\\item 'Defender'\n\\item 'Defender'\n\\item 'Goalkeeper'\n\\item 'Midfielder'\n\\item 'Midfielder'\n\\item 'Midfielder'\n\\item 'Defender'\n\\item 'Midfielder'\n\\item 'Forward'\n\\item 'Forward'\n\\item 'Defender'\n\\item 'Defender'\n\\item 'Goalkeeper'\n\\item 'Defender'\n\\item 'Defender'\n\\item 'Goalkeeper'\n\\item 'Midfielder'\n\\item 'Midfielder'\n\\item 'Goalkeeper'\n\\item 'Forward'\n\\item 'Defender'\n\\item 'Midfielder'\n\\item 'Defender'\n\\item 'Defender'\n\\item 'Forward'\n\\item 'Midfielder'\n\\item 'Midfielder'\n\\item 'Defender'\n\\item 'Defender'\n\\item 'Goalkeeper'\n\\end{enumerate*}\n",
            "text/plain": [
              "  [1] \"Defender\"   \"Midfielder\" \"Midfielder\" \"Midfielder\" \"Forward\"   \n",
              "  [6] \"Midfielder\" \"Midfielder\" \"Midfielder\" \"Forward\"    \"Forward\"   \n",
              " [11] \"Midfielder\" \"Defender\"   \"Defender\"   \"Forward\"    \"Midfielder\"\n",
              " [16] \"Forward\"    \"Defender\"   \"Goalkeeper\" \"Midfielder\" \"Midfielder\"\n",
              " [21] \"Defender\"   \"Forward\"    \"Forward\"    \"Goalkeeper\" \"Midfielder\"\n",
              " [26] \"Midfielder\" \"Goalkeeper\" \"Forward\"    \"Forward\"    \"Forward\"   \n",
              " [31] \"Forward\"    \"Defender\"   \"Defender\"   \"Goalkeeper\" \"Defender\"  \n",
              " [36] \"Forward\"    \"Goalkeeper\" \"Forward\"    \"Midfielder\" \"Midfielder\"\n",
              " [41] \"Forward\"    \"Midfielder\" \"Midfielder\" \"Defender\"   \"Midfielder\"\n",
              " [46] \"Defender\"   \"Midfielder\" \"Forward\"    \"Midfielder\" \"Forward\"   \n",
              " [51] \"Midfielder\" \"Defender\"   \"Goalkeeper\" \"Defender\"   \"Midfielder\"\n",
              " [56] \"Forward\"    \"Defender\"   \"Defender\"   \"Defender\"   \"Goalkeeper\"\n",
              " [61] \"Midfielder\" \"Defender\"   \"Goalkeeper\" \"Forward\"    \"Midfielder\"\n",
              " [66] \"Midfielder\" \"Goalkeeper\" \"Defender\"   \"Forward\"    \"Midfielder\"\n",
              " [71] \"Midfielder\" \"Defender\"   \"Defender\"   \"Goalkeeper\" \"Defender\"  \n",
              " [76] \"Goalkeeper\" \"Defender\"   \"Defender\"   \"Defender\"   \"Forward\"   \n",
              " [81] \"Defender\"   \"Midfielder\" \"Midfielder\" \"Defender\"   \"Midfielder\"\n",
              " [86] \"Goalkeeper\" \"Midfielder\" \"Goalkeeper\" \"Forward\"    \"Defender\"  \n",
              " [91] \"Defender\"   \"Defender\"   \"Midfielder\" \"Defender\"   \"Forward\"   \n",
              " [96] \"Midfielder\" \"Forward\"    \"Defender\"   \"Defender\"   \"Defender\"  \n",
              "[101] \"Midfielder\" \"Defender\"   \"Forward\"    \"Defender\"   \"Midfielder\"\n",
              "[106] \"Forward\"    \"Defender\"   \"Defender\"   \"Midfielder\" \"Defender\"  \n",
              "[111] \"Defender\"   \"Defender\"   \"Forward\"    \"Midfielder\" \"Forward\"   \n",
              "[116] \"Midfielder\" \"Defender\"   \"Defender\"   \"Defender\"   \"Defender\"  \n",
              "[121] \"Goalkeeper\" \"Forward\"    \"Forward\"    \"Midfielder\" \"Midfielder\"\n",
              "[126] \"Defender\"   \"Midfielder\" \"Defender\"   \"Midfielder\" \"Goalkeeper\"\n",
              "[131] \"Defender\"   \"Midfielder\" \"Midfielder\" \"Forward\"    \"Forward\"   \n",
              "[136] \"Midfielder\" \"Defender\"   \"Midfielder\" \"Defender\"   \"Defender\"  \n",
              "[141] \"Goalkeeper\" \"Forward\"    \"Forward\"    \"Defender\"   \"Forward\"   \n",
              "[146] \"Goalkeeper\" \"Goalkeeper\" \"Forward\"    \"Defender\"   \"Midfielder\"\n",
              "[151] \"Defender\"   \"Defender\"   \"Midfielder\" \"Defender\"   \"Midfielder\"\n",
              "[156] \"Defender\"   \"Midfielder\" \"Midfielder\" \"Defender\"   \"Defender\"  \n",
              "[161] \"Midfielder\" \"Defender\"   \"Midfielder\" \"Forward\"    \"Midfielder\"\n",
              "[166] \"Forward\"    \"Forward\"    \"Forward\"    \"Midfielder\" \"Goalkeeper\"\n",
              "[171] \"Forward\"    \"Forward\"    \"Midfielder\" \"Defender\"   \"Midfielder\"\n",
              "[176] \"Defender\"   \"Midfielder\" \"Defender\"   \"Midfielder\" \"Midfielder\"\n",
              "[181] \"Midfielder\" \"Defender\"   \"Midfielder\" \"Defender\"   \"Midfielder\"\n",
              "[186] \"Goalkeeper\" \"Defender\"   \"Defender\"   \"Midfielder\" \"Forward\"   \n",
              "[191] \"Midfielder\" \"Defender\"   \"Defender\"   \"Forward\"    \"Midfielder\"\n",
              "[196] \"Midfielder\" \"Midfielder\" \"Goalkeeper\" \"Goalkeeper\" \"Midfielder\"\n",
              "[201] \"Forward\"    \"Defender\"   \"Defender\"   \"Forward\"    \"Midfielder\"\n",
              "[206] \"Forward\"    \"Midfielder\" \"Forward\"    \"Forward\"    \"Forward\"   \n",
              "[211] \"Midfielder\" \"Midfielder\" \"Defender\"   \"Midfielder\" \"Midfielder\"\n",
              "[216] \"Midfielder\" \"Forward\"    \"Defender\"   \"Midfielder\" \"Forward\"   \n",
              "[221] \"Midfielder\" \"Midfielder\" \"Defender\"   \"Midfielder\" \"Midfielder\"\n",
              "[226] \"Forward\"    \"Goalkeeper\" \"Goalkeeper\" \"Midfielder\" \"Midfielder\"\n",
              "[231] \"Midfielder\" \"Forward\"    \"Midfielder\" \"Forward\"    \"Defender\"  \n",
              "[236] \"Forward\"    \"Midfielder\" \"Defender\"   \"Defender\"   \"Midfielder\"\n",
              "[241] \"Midfielder\" \"Defender\"   \"Defender\"   \"Defender\"   \"Midfielder\"\n",
              "[246] \"Midfielder\" \"Midfielder\" \"Midfielder\" \"Defender\"   \"Defender\"  \n",
              "[251] \"Midfielder\" \"Defender\"   \"Forward\"    \"Defender\"   \"Defender\"  \n",
              "[256] \"Defender\"   \"Midfielder\" \"Goalkeeper\" \"Forward\"    \"Defender\"  \n",
              "[261] \"Midfielder\" \"Defender\"   \"Midfielder\" \"Midfielder\" \"Midfielder\"\n",
              "[266] \"Defender\"   \"Forward\"    \"Midfielder\" \"Midfielder\" \"Defender\"  \n",
              "[271] \"Defender\"   \"Goalkeeper\" \"Defender\"   \"Goalkeeper\" \"Forward\"   \n",
              "[276] \"Midfielder\" \"Goalkeeper\" \"Defender\"   \"Defender\"   \"Midfielder\"\n",
              "[281] \"Goalkeeper\" \"Defender\"   \"Defender\"   \"Goalkeeper\" \"Midfielder\"\n",
              "[286] \"Forward\"    \"Midfielder\" \"Defender\"   \"Defender\"   \"Defender\"  \n",
              "[291] \"Forward\"    \"Midfielder\" \"Goalkeeper\" \"Midfielder\" \"Midfielder\"\n",
              "[296] \"Defender\"   \"Defender\"   \"Forward\"    \"Forward\"    \"Midfielder\"\n",
              "[301] \"Midfielder\" \"Defender\"   \"Forward\"    \"Forward\"    \"Midfielder\"\n",
              "[306] \"Defender\"   \"Midfielder\" \"Goalkeeper\" \"Midfielder\" \"Midfielder\"\n",
              "[311] \"Forward\"    \"Midfielder\" \"Goalkeeper\" \"Forward\"    \"Goalkeeper\"\n",
              "[316] \"Midfielder\" \"Forward\"    \"Forward\"    \"Midfielder\" \"Midfielder\"\n",
              "[321] \"Forward\"    \"Goalkeeper\" \"Midfielder\" \"Defender\"   \"Midfielder\"\n",
              "[326] \"Midfielder\" \"Defender\"   \"Defender\"   \"Defender\"   \"Defender\"  \n",
              "[331] \"Midfielder\" \"Defender\"   \"Defender\"   \"Forward\"    \"Defender\"  \n",
              "[336] \"Midfielder\" \"Midfielder\" \"Midfielder\" \"Goalkeeper\" \"Defender\"  \n",
              "[341] \"Defender\"   \"Defender\"   \"Forward\"    \"Midfielder\" \"Defender\"  \n",
              "[346] \"Midfielder\" \"Defender\"   \"Midfielder\" \"Goalkeeper\" \"Midfielder\"\n",
              "[351] \"Defender\"   \"Forward\"    \"Midfielder\" \"Midfielder\" \"Forward\"   \n",
              "[356] \"Midfielder\" \"Midfielder\" \"Midfielder\" \"Defender\"   \"Forward\"   \n",
              "[361] \"Goalkeeper\" \"Defender\"   \"Forward\"    \"Midfielder\" \"Midfielder\"\n",
              "[366] \"Defender\"   \"Defender\"   \"Midfielder\" \"Defender\"   \"Goalkeeper\"\n",
              "[371] \"Forward\"    \"Midfielder\" \"Midfielder\" \"Goalkeeper\" \"Forward\"   \n",
              "[376] \"Defender\"   \"Midfielder\" \"Goalkeeper\" \"Defender\"   \"Defender\"  \n",
              "[381] \"Midfielder\" \"Defender\"   \"Forward\"    \"Midfielder\" \"Goalkeeper\"\n",
              "[386] \"Defender\"   \"Midfielder\" \"Defender\"   \"Midfielder\" \"Defender\"  \n",
              "[391] \"Defender\"   \"Midfielder\" \"Defender\"   \"Defender\"   \"Midfielder\"\n",
              "[396] \"Midfielder\" \"Defender\"   \"Midfielder\" \"Defender\"   \"Defender\"  \n",
              "[401] \"Midfielder\" \"Defender\"   \"Forward\"    \"Midfielder\" \"Goalkeeper\"\n",
              "[406] \"Forward\"    \"Midfielder\" \"Defender\"   \"Midfielder\" \"Midfielder\"\n",
              "[411] \"Midfielder\" \"Forward\"    \"Midfielder\" \"Midfielder\" \"Midfielder\"\n",
              "[416] \"Midfielder\" \"Midfielder\" \"Midfielder\" \"Defender\"   \"Midfielder\"\n",
              "[421] \"Defender\"   \"Midfielder\" \"Midfielder\" \"Midfielder\" \"Defender\"  \n",
              "[426] \"Midfielder\" \"Midfielder\" \"Goalkeeper\" \"Midfielder\" \"Defender\"  \n",
              "[431] \"Defender\"   \"Midfielder\" \"Midfielder\" \"Midfielder\" \"Forward\"   \n",
              "[436] \"Midfielder\" \"Midfielder\" \"Forward\"    \"Defender\"   \"Defender\"  \n",
              "[441] \"Midfielder\" \"Defender\"   \"Defender\"   \"Midfielder\" \"Goalkeeper\"\n",
              "[446] \"Midfielder\" \"Midfielder\" \"Forward\"    \"Goalkeeper\" \"Defender\"  \n",
              "[451] \"Defender\"   \"Defender\"   \"Midfielder\" \"Midfielder\" \"Defender\"  \n",
              "[456] \"Forward\"    \"Midfielder\" \"Forward\"    \"Midfielder\" \"Forward\"   \n",
              "[461] \"Midfielder\" \"Forward\"    \"Forward\"    \"Forward\"    \"Defender\"  \n",
              "[466] \"Forward\"    \"Midfielder\" \"Defender\"   \"Midfielder\" \"Midfielder\"\n",
              "[471] \"Midfielder\" \"Forward\"    \"Forward\"    \"Midfielder\" \"Forward\"   \n",
              "[476] \"Forward\"    \"Midfielder\" \"Midfielder\" \"Defender\"   \"Midfielder\"\n",
              "[481] \"Goalkeeper\" \"Defender\"   \"Defender\"   \"Midfielder\" \"Midfielder\"\n",
              "[486] \"Midfielder\" \"Forward\"    \"Goalkeeper\" \"Defender\"   \"Forward\"   \n",
              "[491] \"Forward\"    \"Forward\"    \"Forward\"    \"Defender\"   \"Midfielder\"\n",
              "[496] \"Forward\"    \"Defender\"   \"Midfielder\" \"Defender\"   \"Defender\"  \n",
              "[501] \"Midfielder\" \"Defender\"   \"Defender\"   \"Defender\"   \"Forward\"   \n",
              "[506] \"Goalkeeper\" \"Goalkeeper\" \"Defender\"   \"Forward\"    \"Forward\"   \n",
              "[511] \"Defender\"   \"Defender\"   \"Goalkeeper\" \"Defender\"   \"Midfielder\"\n",
              "[516] \"Defender\"   \"Midfielder\" \"Forward\"    \"Defender\"   \"Defender\"  \n",
              "[521] \"Defender\"   \"Forward\"    \"Midfielder\" \"Midfielder\" \"Midfielder\"\n",
              "[526] \"Midfielder\" \"Midfielder\" \"Forward\"    \"Defender\"   \"Forward\"   \n",
              "[531] \"Defender\"   \"Defender\"   \"Defender\"   \"Defender\"   \"Midfielder\"\n",
              "[536] \"Midfielder\" \"Midfielder\" \"Goalkeeper\" \"Defender\"   \"Defender\"  \n",
              "[541] \"Forward\"    \"Defender\"   \"Defender\"   \"Defender\"   \"Goalkeeper\"\n",
              "[546] \"Midfielder\" \"Midfielder\" \"Midfielder\" \"Defender\"   \"Midfielder\"\n",
              "[551] \"Forward\"    \"Forward\"    \"Defender\"   \"Defender\"   \"Goalkeeper\"\n",
              "[556] \"Defender\"   \"Defender\"   \"Goalkeeper\" \"Midfielder\" \"Midfielder\"\n",
              "[561] \"Goalkeeper\" \"Forward\"    \"Defender\"   \"Midfielder\" \"Defender\"  \n",
              "[566] \"Defender\"   \"Forward\"    \"Midfielder\" \"Midfielder\" \"Defender\"  \n",
              "[571] \"Defender\"   \"Goalkeeper\""
            ]
          },
          "metadata": {}
        }
      ]
    },
    {
      "cell_type": "markdown",
      "source": [
        "列番号の代わりに列名を使用することもできます。\n",
        "\n",
        "この場合、列名は\"\"で括る必要があります。"
      ],
      "metadata": {
        "id": "OmjdNrtgMrSw"
      }
    },
    {
      "cell_type": "code",
      "source": [
        "df[ ,\"age\"]"
      ],
      "metadata": {
        "colab": {
          "base_uri": "https://localhost:8080/",
          "height": 295
        },
        "id": "sxMBaITGMvZP",
        "outputId": "5c02f5a7-432f-4770-edef-356011fb9a52"
      },
      "execution_count": 28,
      "outputs": [
        {
          "output_type": "display_data",
          "data": {
            "text/html": [
              "<style>\n",
              ".list-inline {list-style: none; margin:0; padding: 0}\n",
              ".list-inline>li {display: inline-block}\n",
              ".list-inline>li:not(:last-child)::after {content: \"\\00b7\"; padding: 0 .5ex}\n",
              "</style>\n",
              "<ol class=list-inline><li>31</li><li>33</li><li>30</li><li>30</li><li>20</li><li>23</li><li>24</li><li>28</li><li>26</li><li>23</li><li>32</li><li>27</li><li>29</li><li>24</li><li>25</li><li>23</li><li>34</li><li>34</li><li>32</li><li>23</li><li>28</li><li>26</li><li>24</li><li>31</li><li>27</li><li>27</li><li>31</li><li>25</li><li>29</li><li>24</li><li>32</li><li>23</li><li>27</li><li>22</li><li>20</li><li>27</li><li>28</li><li>28</li><li>31</li><li>27</li><li>29</li><li>30</li><li>25</li><li>24</li><li>25</li><li>27</li><li>34</li><li>31</li><li>29</li><li>32</li><li>20</li><li>32</li><li>25</li><li>21</li><li>29</li><li>25</li><li>26</li><li>28</li><li>35</li><li>22</li><li>31</li><li>27</li><li>41</li><li>31</li><li>31</li><li>35</li><li>33</li><li>26</li><li>27</li><li>32</li><li>0</li><li>24</li><li>27</li><li>37</li><li>28</li><li>33</li><li>31</li><li>23</li><li>21</li><li>21</li><li>26</li><li>32</li><li>28</li><li>25</li><li>26</li><li>29</li><li>28</li><li>37</li><li>23</li><li>32</li><li>40</li><li>24</li><li>20</li><li>26</li><li>23</li><li>22</li><li>29</li><li>26</li><li>21</li><li>29</li><li>35</li><li>29</li><li>29</li><li>31</li><li>33</li><li>31</li><li>34</li><li>27</li><li>31</li><li>31</li><li>23</li><li>31</li><li>29</li><li>29</li><li>30</li><li>29</li><li>34</li><li>30</li><li>30</li><li>31</li><li>37</li><li>29</li><li>28</li><li>28</li><li>21</li><li>32</li><li>20</li><li>28</li><li>31</li><li>28</li><li>28</li><li>31</li><li>26</li><li>31</li><li>28</li><li>32</li><li>29</li><li>31</li><li>30</li><li>34</li><li>27</li><li>30</li><li>30</li><li>31</li><li>23</li><li>32</li><li>30</li><li>30</li><li>33</li><li>35</li><li>28</li><li>24</li><li>29</li><li>27</li><li>22</li><li>31</li><li>24</li><li>24</li><li>22</li><li>32</li><li>27</li><li>28</li><li>24</li><li>25</li><li>21</li><li>24</li><li>23</li><li>21</li><li>30</li><li>27</li><li>21</li><li>28</li><li>25</li><li>26</li><li>20</li><li>26</li><li>27</li><li>28</li><li>29</li><li>20</li><li>32</li><li>29</li><li>31</li><li>29</li><li>27</li><li>33</li><li>31</li><li>32</li><li>27</li><li>36</li><li>35</li><li>26</li><li>29</li><li>27</li><li>32</li><li>25</li><li>30</li><li>33</li><li>24</li><li>28</li><li>⋯</li><li>33</li><li>21</li><li>31</li><li>33</li><li>33</li><li>32</li><li>30</li><li>29</li><li>19</li><li>24</li><li>28</li><li>26</li><li>28</li><li>30</li><li>23</li><li>29</li><li>31</li><li>25</li><li>31</li><li>21</li><li>33</li><li>31</li><li>20</li><li>22</li><li>23</li><li>25</li><li>31</li><li>32</li><li>32</li><li>28</li><li>20</li><li>31</li><li>37</li><li>27</li><li>27</li><li>35</li><li>33</li><li>28</li><li>26</li><li>28</li><li>21</li><li>31</li><li>33</li><li>31</li><li>30</li><li>26</li><li>35</li><li>28</li><li>26</li><li>22</li><li>27</li><li>26</li><li>30</li><li>28</li><li>29</li><li>31</li><li>32</li><li>33</li><li>22</li><li>21</li><li>24</li><li>20</li><li>34</li><li>24</li><li>29</li><li>30</li><li>36</li><li>30</li><li>29</li><li>30</li><li>29</li><li>28</li><li>29</li><li>29</li><li>33</li><li>40</li><li>38</li><li>35</li><li>38</li><li>29</li><li>24</li><li>20</li><li>24</li><li>31</li><li>25</li><li>28</li><li>20</li><li>26</li><li>29</li><li>24</li><li>29</li><li>26</li><li>27</li><li>23</li><li>30</li><li>25</li><li>29</li><li>25</li><li>33</li><li>29</li><li>30</li><li>31</li><li>27</li><li>31</li><li>27</li><li>24</li><li>22</li><li>25</li><li>33</li><li>31</li><li>31</li><li>27</li><li>28</li><li>21</li><li>34</li><li>21</li><li>20</li><li>28</li><li>25</li><li>22</li><li>31</li><li>22</li><li>33</li><li>25</li><li>34</li><li>24</li><li>27</li><li>32</li><li>23</li><li>30</li><li>33</li><li>28</li><li>32</li><li>34</li><li>27</li><li>29</li><li>34</li><li>34</li><li>28</li><li>36</li><li>33</li><li>32</li><li>26</li><li>36</li><li>30</li><li>31</li><li>37</li><li>35</li><li>29</li><li>26</li><li>36</li><li>32</li><li>29</li><li>25</li><li>32</li><li>21</li><li>27</li><li>32</li><li>33</li><li>21</li><li>23</li><li>32</li><li>30</li><li>31</li><li>22</li><li>34</li><li>28</li><li>22</li><li>32</li><li>26</li><li>22</li><li>28</li><li>34</li><li>33</li><li>26</li><li>30</li><li>26</li><li>29</li><li>22</li><li>26</li><li>34</li><li>29</li><li>34</li><li>37</li><li>27</li><li>39</li><li>28</li><li>25</li><li>27</li><li>32</li><li>30</li><li>29</li><li>22</li><li>26</li><li>28</li><li>23</li><li>24</li><li>20</li><li>20</li><li>35</li></ol>\n"
            ],
            "text/markdown": "1. 31\n2. 33\n3. 30\n4. 30\n5. 20\n6. 23\n7. 24\n8. 28\n9. 26\n10. 23\n11. 32\n12. 27\n13. 29\n14. 24\n15. 25\n16. 23\n17. 34\n18. 34\n19. 32\n20. 23\n21. 28\n22. 26\n23. 24\n24. 31\n25. 27\n26. 27\n27. 31\n28. 25\n29. 29\n30. 24\n31. 32\n32. 23\n33. 27\n34. 22\n35. 20\n36. 27\n37. 28\n38. 28\n39. 31\n40. 27\n41. 29\n42. 30\n43. 25\n44. 24\n45. 25\n46. 27\n47. 34\n48. 31\n49. 29\n50. 32\n51. 20\n52. 32\n53. 25\n54. 21\n55. 29\n56. 25\n57. 26\n58. 28\n59. 35\n60. 22\n61. 31\n62. 27\n63. 41\n64. 31\n65. 31\n66. 35\n67. 33\n68. 26\n69. 27\n70. 32\n71. 0\n72. 24\n73. 27\n74. 37\n75. 28\n76. 33\n77. 31\n78. 23\n79. 21\n80. 21\n81. 26\n82. 32\n83. 28\n84. 25\n85. 26\n86. 29\n87. 28\n88. 37\n89. 23\n90. 32\n91. 40\n92. 24\n93. 20\n94. 26\n95. 23\n96. 22\n97. 29\n98. 26\n99. 21\n100. 29\n101. 35\n102. 29\n103. 29\n104. 31\n105. 33\n106. 31\n107. 34\n108. 27\n109. 31\n110. 31\n111. 23\n112. 31\n113. 29\n114. 29\n115. 30\n116. 29\n117. 34\n118. 30\n119. 30\n120. 31\n121. 37\n122. 29\n123. 28\n124. 28\n125. 21\n126. 32\n127. 20\n128. 28\n129. 31\n130. 28\n131. 28\n132. 31\n133. 26\n134. 31\n135. 28\n136. 32\n137. 29\n138. 31\n139. 30\n140. 34\n141. 27\n142. 30\n143. 30\n144. 31\n145. 23\n146. 32\n147. 30\n148. 30\n149. 33\n150. 35\n151. 28\n152. 24\n153. 29\n154. 27\n155. 22\n156. 31\n157. 24\n158. 24\n159. 22\n160. 32\n161. 27\n162. 28\n163. 24\n164. 25\n165. 21\n166. 24\n167. 23\n168. 21\n169. 30\n170. 27\n171. 21\n172. 28\n173. 25\n174. 26\n175. 20\n176. 26\n177. 27\n178. 28\n179. 29\n180. 20\n181. 32\n182. 29\n183. 31\n184. 29\n185. 27\n186. 33\n187. 31\n188. 32\n189. 27\n190. 36\n191. 35\n192. 26\n193. 29\n194. 27\n195. 32\n196. 25\n197. 30\n198. 33\n199. 24\n200. 28\n201. ⋯\n202. 33\n203. 21\n204. 31\n205. 33\n206. 33\n207. 32\n208. 30\n209. 29\n210. 19\n211. 24\n212. 28\n213. 26\n214. 28\n215. 30\n216. 23\n217. 29\n218. 31\n219. 25\n220. 31\n221. 21\n222. 33\n223. 31\n224. 20\n225. 22\n226. 23\n227. 25\n228. 31\n229. 32\n230. 32\n231. 28\n232. 20\n233. 31\n234. 37\n235. 27\n236. 27\n237. 35\n238. 33\n239. 28\n240. 26\n241. 28\n242. 21\n243. 31\n244. 33\n245. 31\n246. 30\n247. 26\n248. 35\n249. 28\n250. 26\n251. 22\n252. 27\n253. 26\n254. 30\n255. 28\n256. 29\n257. 31\n258. 32\n259. 33\n260. 22\n261. 21\n262. 24\n263. 20\n264. 34\n265. 24\n266. 29\n267. 30\n268. 36\n269. 30\n270. 29\n271. 30\n272. 29\n273. 28\n274. 29\n275. 29\n276. 33\n277. 40\n278. 38\n279. 35\n280. 38\n281. 29\n282. 24\n283. 20\n284. 24\n285. 31\n286. 25\n287. 28\n288. 20\n289. 26\n290. 29\n291. 24\n292. 29\n293. 26\n294. 27\n295. 23\n296. 30\n297. 25\n298. 29\n299. 25\n300. 33\n301. 29\n302. 30\n303. 31\n304. 27\n305. 31\n306. 27\n307. 24\n308. 22\n309. 25\n310. 33\n311. 31\n312. 31\n313. 27\n314. 28\n315. 21\n316. 34\n317. 21\n318. 20\n319. 28\n320. 25\n321. 22\n322. 31\n323. 22\n324. 33\n325. 25\n326. 34\n327. 24\n328. 27\n329. 32\n330. 23\n331. 30\n332. 33\n333. 28\n334. 32\n335. 34\n336. 27\n337. 29\n338. 34\n339. 34\n340. 28\n341. 36\n342. 33\n343. 32\n344. 26\n345. 36\n346. 30\n347. 31\n348. 37\n349. 35\n350. 29\n351. 26\n352. 36\n353. 32\n354. 29\n355. 25\n356. 32\n357. 21\n358. 27\n359. 32\n360. 33\n361. 21\n362. 23\n363. 32\n364. 30\n365. 31\n366. 22\n367. 34\n368. 28\n369. 22\n370. 32\n371. 26\n372. 22\n373. 28\n374. 34\n375. 33\n376. 26\n377. 30\n378. 26\n379. 29\n380. 22\n381. 26\n382. 34\n383. 29\n384. 34\n385. 37\n386. 27\n387. 39\n388. 28\n389. 25\n390. 27\n391. 32\n392. 30\n393. 29\n394. 22\n395. 26\n396. 28\n397. 23\n398. 24\n399. 20\n400. 20\n401. 35\n\n\n",
            "text/latex": "\\begin{enumerate*}\n\\item 31\n\\item 33\n\\item 30\n\\item 30\n\\item 20\n\\item 23\n\\item 24\n\\item 28\n\\item 26\n\\item 23\n\\item 32\n\\item 27\n\\item 29\n\\item 24\n\\item 25\n\\item 23\n\\item 34\n\\item 34\n\\item 32\n\\item 23\n\\item 28\n\\item 26\n\\item 24\n\\item 31\n\\item 27\n\\item 27\n\\item 31\n\\item 25\n\\item 29\n\\item 24\n\\item 32\n\\item 23\n\\item 27\n\\item 22\n\\item 20\n\\item 27\n\\item 28\n\\item 28\n\\item 31\n\\item 27\n\\item 29\n\\item 30\n\\item 25\n\\item 24\n\\item 25\n\\item 27\n\\item 34\n\\item 31\n\\item 29\n\\item 32\n\\item 20\n\\item 32\n\\item 25\n\\item 21\n\\item 29\n\\item 25\n\\item 26\n\\item 28\n\\item 35\n\\item 22\n\\item 31\n\\item 27\n\\item 41\n\\item 31\n\\item 31\n\\item 35\n\\item 33\n\\item 26\n\\item 27\n\\item 32\n\\item 0\n\\item 24\n\\item 27\n\\item 37\n\\item 28\n\\item 33\n\\item 31\n\\item 23\n\\item 21\n\\item 21\n\\item 26\n\\item 32\n\\item 28\n\\item 25\n\\item 26\n\\item 29\n\\item 28\n\\item 37\n\\item 23\n\\item 32\n\\item 40\n\\item 24\n\\item 20\n\\item 26\n\\item 23\n\\item 22\n\\item 29\n\\item 26\n\\item 21\n\\item 29\n\\item 35\n\\item 29\n\\item 29\n\\item 31\n\\item 33\n\\item 31\n\\item 34\n\\item 27\n\\item 31\n\\item 31\n\\item 23\n\\item 31\n\\item 29\n\\item 29\n\\item 30\n\\item 29\n\\item 34\n\\item 30\n\\item 30\n\\item 31\n\\item 37\n\\item 29\n\\item 28\n\\item 28\n\\item 21\n\\item 32\n\\item 20\n\\item 28\n\\item 31\n\\item 28\n\\item 28\n\\item 31\n\\item 26\n\\item 31\n\\item 28\n\\item 32\n\\item 29\n\\item 31\n\\item 30\n\\item 34\n\\item 27\n\\item 30\n\\item 30\n\\item 31\n\\item 23\n\\item 32\n\\item 30\n\\item 30\n\\item 33\n\\item 35\n\\item 28\n\\item 24\n\\item 29\n\\item 27\n\\item 22\n\\item 31\n\\item 24\n\\item 24\n\\item 22\n\\item 32\n\\item 27\n\\item 28\n\\item 24\n\\item 25\n\\item 21\n\\item 24\n\\item 23\n\\item 21\n\\item 30\n\\item 27\n\\item 21\n\\item 28\n\\item 25\n\\item 26\n\\item 20\n\\item 26\n\\item 27\n\\item 28\n\\item 29\n\\item 20\n\\item 32\n\\item 29\n\\item 31\n\\item 29\n\\item 27\n\\item 33\n\\item 31\n\\item 32\n\\item 27\n\\item 36\n\\item 35\n\\item 26\n\\item 29\n\\item 27\n\\item 32\n\\item 25\n\\item 30\n\\item 33\n\\item 24\n\\item 28\n\\item ⋯\n\\item 33\n\\item 21\n\\item 31\n\\item 33\n\\item 33\n\\item 32\n\\item 30\n\\item 29\n\\item 19\n\\item 24\n\\item 28\n\\item 26\n\\item 28\n\\item 30\n\\item 23\n\\item 29\n\\item 31\n\\item 25\n\\item 31\n\\item 21\n\\item 33\n\\item 31\n\\item 20\n\\item 22\n\\item 23\n\\item 25\n\\item 31\n\\item 32\n\\item 32\n\\item 28\n\\item 20\n\\item 31\n\\item 37\n\\item 27\n\\item 27\n\\item 35\n\\item 33\n\\item 28\n\\item 26\n\\item 28\n\\item 21\n\\item 31\n\\item 33\n\\item 31\n\\item 30\n\\item 26\n\\item 35\n\\item 28\n\\item 26\n\\item 22\n\\item 27\n\\item 26\n\\item 30\n\\item 28\n\\item 29\n\\item 31\n\\item 32\n\\item 33\n\\item 22\n\\item 21\n\\item 24\n\\item 20\n\\item 34\n\\item 24\n\\item 29\n\\item 30\n\\item 36\n\\item 30\n\\item 29\n\\item 30\n\\item 29\n\\item 28\n\\item 29\n\\item 29\n\\item 33\n\\item 40\n\\item 38\n\\item 35\n\\item 38\n\\item 29\n\\item 24\n\\item 20\n\\item 24\n\\item 31\n\\item 25\n\\item 28\n\\item 20\n\\item 26\n\\item 29\n\\item 24\n\\item 29\n\\item 26\n\\item 27\n\\item 23\n\\item 30\n\\item 25\n\\item 29\n\\item 25\n\\item 33\n\\item 29\n\\item 30\n\\item 31\n\\item 27\n\\item 31\n\\item 27\n\\item 24\n\\item 22\n\\item 25\n\\item 33\n\\item 31\n\\item 31\n\\item 27\n\\item 28\n\\item 21\n\\item 34\n\\item 21\n\\item 20\n\\item 28\n\\item 25\n\\item 22\n\\item 31\n\\item 22\n\\item 33\n\\item 25\n\\item 34\n\\item 24\n\\item 27\n\\item 32\n\\item 23\n\\item 30\n\\item 33\n\\item 28\n\\item 32\n\\item 34\n\\item 27\n\\item 29\n\\item 34\n\\item 34\n\\item 28\n\\item 36\n\\item 33\n\\item 32\n\\item 26\n\\item 36\n\\item 30\n\\item 31\n\\item 37\n\\item 35\n\\item 29\n\\item 26\n\\item 36\n\\item 32\n\\item 29\n\\item 25\n\\item 32\n\\item 21\n\\item 27\n\\item 32\n\\item 33\n\\item 21\n\\item 23\n\\item 32\n\\item 30\n\\item 31\n\\item 22\n\\item 34\n\\item 28\n\\item 22\n\\item 32\n\\item 26\n\\item 22\n\\item 28\n\\item 34\n\\item 33\n\\item 26\n\\item 30\n\\item 26\n\\item 29\n\\item 22\n\\item 26\n\\item 34\n\\item 29\n\\item 34\n\\item 37\n\\item 27\n\\item 39\n\\item 28\n\\item 25\n\\item 27\n\\item 32\n\\item 30\n\\item 29\n\\item 22\n\\item 26\n\\item 28\n\\item 23\n\\item 24\n\\item 20\n\\item 20\n\\item 35\n\\end{enumerate*}\n",
            "text/plain": [
              "  [1] 31 33 30 30 20 23 24 28 26 23 32 27 29 24 25 23 34 34 32 23 28 26 24 31 27\n",
              " [26] 27 31 25 29 24 32 23 27 22 20 27 28 28 31 27 29 30 25 24 25 27 34 31 29 32\n",
              " [51] 20 32 25 21 29 25 26 28 35 22 31 27 41 31 31 35 33 26 27 32  0 24 27 37 28\n",
              " [76] 33 31 23 21 21 26 32 28 25 26 29 28 37 23 32 40 24 20 26 23 22 29 26 21 29\n",
              "[101] 35 29 29 31 33 31 34 27 31 31 23 31 29 29 30 29 34 30 30 31 37 29 28 28 21\n",
              "[126] 32 20 28 31 28 28 31 26 31 28 32 29 31 30 34 27 30 30 31 23 32 30 30 33 35\n",
              "[151] 28 24 29 27 22 31 24 24 22 32 27 28 24 25 21 24 23 21 30 27 21 28 25 26 20\n",
              "[176] 26 27 28 29 20 32 29 31 29 27 33 31 32 27 36 35 26 29 27 32 25 30 33 24 28\n",
              "[201] 24 32 35 30 22 26 30 27 37 33 22 28 30 31 23 31 27 28 25  0 23 30 26 27 32\n",
              "[226] 28 40 34 27 31 30 25 26 25 24 27 31 24 27 29 26 24 27 20 24 33 30 35 28 32\n",
              "[251] 26 25 34 24 33 28 34 30 32 26 21 29 29 29 26 28 38 28 34 31 27 23 23 33 22\n",
              "[276] 27 25 29 31 30 34 26 25 32 32 37 29 24 27 33 29 30 27 25 29 22 36 28 31 21\n",
              "[301] 21 23 26 29 24 23 32 41 23 31 27 27 30 23 34 20 22 24 21 27 27 26 29 30 32\n",
              "[326] 23 30 23 25 26 21 30 23 32 35 27 25 29 38 34 36 32 27 25 21 24 29 30 27 22\n",
              "[351] 27 32 28 25 27 29 24 22 25 25 38 31 29 28 31 20 25 34 30 28 23 27 33 21 31\n",
              "[376] 33 33 32 30 29 19 24 28 26 28 30 23 29 31 25 31 21 33 31 20 22 23 25 31 32\n",
              "[401] 32 28 20 31 37 27 27 35 33 28 26 28 21 31 33 31 30 26 35 28 26 22 27 26 30\n",
              "[426] 28 29 31 32 33 22 21 24 20 34 24 29 30 36 30 29 30 29 28 29 29 33 40 38 35\n",
              "[451] 38 29 24 20 24 31 25 28 20 26 29 24 29 26 27 23 30 25 29 25 33 29 30 31 27\n",
              "[476] 31 27 24 22 25 33 31 31 27 28 21 34 21 20 28 25 22 31 22 33 25 34 24 27 32\n",
              "[501] 23 30 33 28 32 34 27 29 34 34 28 36 33 32 26 36 30 31 37 35 29 26 36 32 29\n",
              "[526] 25 32 21 27 32 33 21 23 32 30 31 22 34 28 22 32 26 22 28 34 33 26 30 26 29\n",
              "[551] 22 26 34 29 34 37 27 39 28 25 27 32 30 29 22 26 28 23 24 20 20 35"
            ]
          },
          "metadata": {}
        }
      ]
    },
    {
      "cell_type": "markdown",
      "source": [
        "当然、行番号でも指定可能です。`データフレームの変数名[行番号,]`という形です。\n",
        "\n",
        "例えば、3行目のデータを取り出すには`df[3,]`となります。"
      ],
      "metadata": {
        "id": "vHGcp0yNHj7G"
      }
    },
    {
      "cell_type": "code",
      "source": [
        "df[3,]"
      ],
      "metadata": {
        "id": "4Qr4zMRsH3xS",
        "colab": {
          "base_uri": "https://localhost:8080/",
          "height": 166
        },
        "outputId": "2ae74865-d826-44aa-8da3-d18e7dc81c95"
      },
      "execution_count": 29,
      "outputs": [
        {
          "output_type": "display_data",
          "data": {
            "text/html": [
              "<table class=\"dataframe\">\n",
              "<caption>A data.frame: 1 × 47</caption>\n",
              "<thead>\n",
              "\t<tr><th></th><th scope=col>full_name</th><th scope=col>age</th><th scope=col>birthday</th><th scope=col>birthday_GMT</th><th scope=col>league</th><th scope=col>season</th><th scope=col>position</th><th scope=col>Current.Club</th><th scope=col>minutes_played_overall</th><th scope=col>minutes_played_home</th><th scope=col>⋯</th><th scope=col>conceded_per_90_overall</th><th scope=col>min_per_conceded_overall</th><th scope=col>min_per_match</th><th scope=col>min_per_card_overall</th><th scope=col>min_per_assist_overall</th><th scope=col>cards_per_90_overall</th><th scope=col>rank_in_league_top_attackers</th><th scope=col>rank_in_league_top_midfielders</th><th scope=col>rank_in_league_top_defenders</th><th scope=col>rank_in_club_top_scorer</th></tr>\n",
              "\t<tr><th></th><th scope=col>&lt;chr&gt;</th><th scope=col>&lt;int&gt;</th><th scope=col>&lt;int&gt;</th><th scope=col>&lt;chr&gt;</th><th scope=col>&lt;chr&gt;</th><th scope=col>&lt;chr&gt;</th><th scope=col>&lt;chr&gt;</th><th scope=col>&lt;chr&gt;</th><th scope=col>&lt;int&gt;</th><th scope=col>&lt;int&gt;</th><th scope=col>⋯</th><th scope=col>&lt;dbl&gt;</th><th scope=col>&lt;int&gt;</th><th scope=col>&lt;int&gt;</th><th scope=col>&lt;int&gt;</th><th scope=col>&lt;int&gt;</th><th scope=col>&lt;dbl&gt;</th><th scope=col>&lt;int&gt;</th><th scope=col>&lt;int&gt;</th><th scope=col>&lt;int&gt;</th><th scope=col>&lt;int&gt;</th></tr>\n",
              "</thead>\n",
              "<tbody>\n",
              "\t<tr><th scope=row>3</th><td>Aaron Mooy</td><td>30</td><td>653356800</td><td>1990/09/15</td><td>Premier League</td><td>2018/2019</td><td>Midfielder</td><td>Huddersfield Town</td><td>2327</td><td>1190</td><td>⋯</td><td>1.78</td><td>51</td><td>80</td><td>582</td><td>2327</td><td>0.15</td><td>144</td><td>233</td><td>-1</td><td>3</td></tr>\n",
              "</tbody>\n",
              "</table>\n"
            ],
            "text/markdown": "\nA data.frame: 1 × 47\n\n| <!--/--> | full_name &lt;chr&gt; | age &lt;int&gt; | birthday &lt;int&gt; | birthday_GMT &lt;chr&gt; | league &lt;chr&gt; | season &lt;chr&gt; | position &lt;chr&gt; | Current.Club &lt;chr&gt; | minutes_played_overall &lt;int&gt; | minutes_played_home &lt;int&gt; | ⋯ ⋯ | conceded_per_90_overall &lt;dbl&gt; | min_per_conceded_overall &lt;int&gt; | min_per_match &lt;int&gt; | min_per_card_overall &lt;int&gt; | min_per_assist_overall &lt;int&gt; | cards_per_90_overall &lt;dbl&gt; | rank_in_league_top_attackers &lt;int&gt; | rank_in_league_top_midfielders &lt;int&gt; | rank_in_league_top_defenders &lt;int&gt; | rank_in_club_top_scorer &lt;int&gt; |\n|---|---|---|---|---|---|---|---|---|---|---|---|---|---|---|---|---|---|---|---|---|---|\n| 3 | Aaron Mooy | 30 | 653356800 | 1990/09/15 | Premier League | 2018/2019 | Midfielder | Huddersfield Town | 2327 | 1190 | ⋯ | 1.78 | 51 | 80 | 582 | 2327 | 0.15 | 144 | 233 | -1 | 3 |\n\n",
            "text/latex": "A data.frame: 1 × 47\n\\begin{tabular}{r|lllllllllllllllllllll}\n  & full\\_name & age & birthday & birthday\\_GMT & league & season & position & Current.Club & minutes\\_played\\_overall & minutes\\_played\\_home & ⋯ & conceded\\_per\\_90\\_overall & min\\_per\\_conceded\\_overall & min\\_per\\_match & min\\_per\\_card\\_overall & min\\_per\\_assist\\_overall & cards\\_per\\_90\\_overall & rank\\_in\\_league\\_top\\_attackers & rank\\_in\\_league\\_top\\_midfielders & rank\\_in\\_league\\_top\\_defenders & rank\\_in\\_club\\_top\\_scorer\\\\\n  & <chr> & <int> & <int> & <chr> & <chr> & <chr> & <chr> & <chr> & <int> & <int> & ⋯ & <dbl> & <int> & <int> & <int> & <int> & <dbl> & <int> & <int> & <int> & <int>\\\\\n\\hline\n\t3 & Aaron Mooy & 30 & 653356800 & 1990/09/15 & Premier League & 2018/2019 & Midfielder & Huddersfield Town & 2327 & 1190 & ⋯ & 1.78 & 51 & 80 & 582 & 2327 & 0.15 & 144 & 233 & -1 & 3\\\\\n\\end{tabular}\n",
            "text/plain": [
              "  full_name  age birthday  birthday_GMT league         season    position  \n",
              "3 Aaron Mooy 30  653356800 1990/09/15   Premier League 2018/2019 Midfielder\n",
              "  Current.Club      minutes_played_overall minutes_played_home ⋯\n",
              "3 Huddersfield Town 2327                   1190                ⋯\n",
              "  conceded_per_90_overall min_per_conceded_overall min_per_match\n",
              "3 1.78                    51                       80           \n",
              "  min_per_card_overall min_per_assist_overall cards_per_90_overall\n",
              "3 582                  2327                   0.15                \n",
              "  rank_in_league_top_attackers rank_in_league_top_midfielders\n",
              "3 144                          233                           \n",
              "  rank_in_league_top_defenders rank_in_club_top_scorer\n",
              "3 -1                           3                      "
            ]
          },
          "metadata": {}
        }
      ]
    },
    {
      "cell_type": "markdown",
      "source": [
        "複数行を取り出すことも可能です。その場合、取り出したい行番号を`c`関数でまとめて指定します。\n",
        "\n",
        "例えば3, 10, 50行目のデータが欲しい時は`df[c(3,10,50), ]`となります。\n",
        "\n"
      ],
      "metadata": {
        "id": "NdXW0IQU1Wrx"
      }
    },
    {
      "cell_type": "code",
      "source": [
        "df[c(3,10,50), ]"
      ],
      "metadata": {
        "colab": {
          "base_uri": "https://localhost:8080/",
          "height": 281
        },
        "id": "AZL4enHS1jzq",
        "outputId": "05619322-57d9-4d5c-ed05-3d9932474bf1"
      },
      "execution_count": 30,
      "outputs": [
        {
          "output_type": "display_data",
          "data": {
            "text/html": [
              "<table class=\"dataframe\">\n",
              "<caption>A data.frame: 3 × 47</caption>\n",
              "<thead>\n",
              "\t<tr><th></th><th scope=col>full_name</th><th scope=col>age</th><th scope=col>birthday</th><th scope=col>birthday_GMT</th><th scope=col>league</th><th scope=col>season</th><th scope=col>position</th><th scope=col>Current.Club</th><th scope=col>minutes_played_overall</th><th scope=col>minutes_played_home</th><th scope=col>⋯</th><th scope=col>conceded_per_90_overall</th><th scope=col>min_per_conceded_overall</th><th scope=col>min_per_match</th><th scope=col>min_per_card_overall</th><th scope=col>min_per_assist_overall</th><th scope=col>cards_per_90_overall</th><th scope=col>rank_in_league_top_attackers</th><th scope=col>rank_in_league_top_midfielders</th><th scope=col>rank_in_league_top_defenders</th><th scope=col>rank_in_club_top_scorer</th></tr>\n",
              "\t<tr><th></th><th scope=col>&lt;chr&gt;</th><th scope=col>&lt;int&gt;</th><th scope=col>&lt;int&gt;</th><th scope=col>&lt;chr&gt;</th><th scope=col>&lt;chr&gt;</th><th scope=col>&lt;chr&gt;</th><th scope=col>&lt;chr&gt;</th><th scope=col>&lt;chr&gt;</th><th scope=col>&lt;int&gt;</th><th scope=col>&lt;int&gt;</th><th scope=col>⋯</th><th scope=col>&lt;dbl&gt;</th><th scope=col>&lt;int&gt;</th><th scope=col>&lt;int&gt;</th><th scope=col>&lt;int&gt;</th><th scope=col>&lt;int&gt;</th><th scope=col>&lt;dbl&gt;</th><th scope=col>&lt;int&gt;</th><th scope=col>&lt;int&gt;</th><th scope=col>&lt;int&gt;</th><th scope=col>&lt;int&gt;</th></tr>\n",
              "</thead>\n",
              "<tbody>\n",
              "\t<tr><th scope=row>3</th><td>Aaron Mooy                 </td><td>30</td><td>653356800</td><td>1990/09/15</td><td>Premier League</td><td>2018/2019</td><td>Midfielder</td><td>Huddersfield Town</td><td>2327</td><td>1190</td><td>⋯</td><td>1.78</td><td>51</td><td>80</td><td>582</td><td>2327</td><td>0.15</td><td>144</td><td>233</td><td>-1</td><td> 3</td></tr>\n",
              "\t<tr><th scope=row>10</th><td>Adalberto Peñaranda Maestre</td><td>23</td><td>865036800</td><td>1997/05/31</td><td>Premier League</td><td>2018/2019</td><td>Forward   </td><td>Watford          </td><td>   0</td><td>   0</td><td>⋯</td><td>0.00</td><td> 0</td><td> 0</td><td>  0</td><td>   0</td><td>0.00</td><td> -1</td><td> -1</td><td>-1</td><td>-1</td></tr>\n",
              "\t<tr><th scope=row>50</th><td>Andy Carroll               </td><td>32</td><td>600048000</td><td>1989/01/06</td><td>Premier League</td><td>2018/2019</td><td>Forward   </td><td>West Ham United  </td><td> 454</td><td> 180</td><td>⋯</td><td>1.19</td><td>76</td><td>38</td><td>227</td><td>   0</td><td>0.40</td><td>270</td><td>326</td><td>-1</td><td>17</td></tr>\n",
              "</tbody>\n",
              "</table>\n"
            ],
            "text/markdown": "\nA data.frame: 3 × 47\n\n| <!--/--> | full_name &lt;chr&gt; | age &lt;int&gt; | birthday &lt;int&gt; | birthday_GMT &lt;chr&gt; | league &lt;chr&gt; | season &lt;chr&gt; | position &lt;chr&gt; | Current.Club &lt;chr&gt; | minutes_played_overall &lt;int&gt; | minutes_played_home &lt;int&gt; | ⋯ ⋯ | conceded_per_90_overall &lt;dbl&gt; | min_per_conceded_overall &lt;int&gt; | min_per_match &lt;int&gt; | min_per_card_overall &lt;int&gt; | min_per_assist_overall &lt;int&gt; | cards_per_90_overall &lt;dbl&gt; | rank_in_league_top_attackers &lt;int&gt; | rank_in_league_top_midfielders &lt;int&gt; | rank_in_league_top_defenders &lt;int&gt; | rank_in_club_top_scorer &lt;int&gt; |\n|---|---|---|---|---|---|---|---|---|---|---|---|---|---|---|---|---|---|---|---|---|---|\n| 3 | Aaron Mooy                  | 30 | 653356800 | 1990/09/15 | Premier League | 2018/2019 | Midfielder | Huddersfield Town | 2327 | 1190 | ⋯ | 1.78 | 51 | 80 | 582 | 2327 | 0.15 | 144 | 233 | -1 |  3 |\n| 10 | Adalberto Peñaranda Maestre | 23 | 865036800 | 1997/05/31 | Premier League | 2018/2019 | Forward    | Watford           |    0 |    0 | ⋯ | 0.00 |  0 |  0 |   0 |    0 | 0.00 |  -1 |  -1 | -1 | -1 |\n| 50 | Andy Carroll                | 32 | 600048000 | 1989/01/06 | Premier League | 2018/2019 | Forward    | West Ham United   |  454 |  180 | ⋯ | 1.19 | 76 | 38 | 227 |    0 | 0.40 | 270 | 326 | -1 | 17 |\n\n",
            "text/latex": "A data.frame: 3 × 47\n\\begin{tabular}{r|lllllllllllllllllllll}\n  & full\\_name & age & birthday & birthday\\_GMT & league & season & position & Current.Club & minutes\\_played\\_overall & minutes\\_played\\_home & ⋯ & conceded\\_per\\_90\\_overall & min\\_per\\_conceded\\_overall & min\\_per\\_match & min\\_per\\_card\\_overall & min\\_per\\_assist\\_overall & cards\\_per\\_90\\_overall & rank\\_in\\_league\\_top\\_attackers & rank\\_in\\_league\\_top\\_midfielders & rank\\_in\\_league\\_top\\_defenders & rank\\_in\\_club\\_top\\_scorer\\\\\n  & <chr> & <int> & <int> & <chr> & <chr> & <chr> & <chr> & <chr> & <int> & <int> & ⋯ & <dbl> & <int> & <int> & <int> & <int> & <dbl> & <int> & <int> & <int> & <int>\\\\\n\\hline\n\t3 & Aaron Mooy                  & 30 & 653356800 & 1990/09/15 & Premier League & 2018/2019 & Midfielder & Huddersfield Town & 2327 & 1190 & ⋯ & 1.78 & 51 & 80 & 582 & 2327 & 0.15 & 144 & 233 & -1 &  3\\\\\n\t10 & Adalberto Peñaranda Maestre & 23 & 865036800 & 1997/05/31 & Premier League & 2018/2019 & Forward    & Watford           &    0 &    0 & ⋯ & 0.00 &  0 &  0 &   0 &    0 & 0.00 &  -1 &  -1 & -1 & -1\\\\\n\t50 & Andy Carroll                & 32 & 600048000 & 1989/01/06 & Premier League & 2018/2019 & Forward    & West Ham United   &  454 &  180 & ⋯ & 1.19 & 76 & 38 & 227 &    0 & 0.40 & 270 & 326 & -1 & 17\\\\\n\\end{tabular}\n",
            "text/plain": [
              "   full_name                   age birthday  birthday_GMT league        \n",
              "3  Aaron Mooy                  30  653356800 1990/09/15   Premier League\n",
              "10 Adalberto Peñaranda Maestre 23  865036800 1997/05/31   Premier League\n",
              "50 Andy Carroll                32  600048000 1989/01/06   Premier League\n",
              "   season    position   Current.Club      minutes_played_overall\n",
              "3  2018/2019 Midfielder Huddersfield Town 2327                  \n",
              "10 2018/2019 Forward    Watford              0                  \n",
              "50 2018/2019 Forward    West Ham United    454                  \n",
              "   minutes_played_home ⋯ conceded_per_90_overall min_per_conceded_overall\n",
              "3  1190                ⋯ 1.78                    51                      \n",
              "10    0                ⋯ 0.00                     0                      \n",
              "50  180                ⋯ 1.19                    76                      \n",
              "   min_per_match min_per_card_overall min_per_assist_overall\n",
              "3  80            582                  2327                  \n",
              "10  0              0                     0                  \n",
              "50 38            227                     0                  \n",
              "   cards_per_90_overall rank_in_league_top_attackers\n",
              "3  0.15                 144                         \n",
              "10 0.00                  -1                         \n",
              "50 0.40                 270                         \n",
              "   rank_in_league_top_midfielders rank_in_league_top_defenders\n",
              "3  233                            -1                          \n",
              "10  -1                            -1                          \n",
              "50 326                            -1                          \n",
              "   rank_in_club_top_scorer\n",
              "3   3                     \n",
              "10 -1                     \n",
              "50 17                     "
            ]
          },
          "metadata": {}
        }
      ]
    },
    {
      "cell_type": "markdown",
      "source": [
        "行番号・列番号の両者を指定することも可能です。\n",
        "\n",
        "3行目5列目の値を取り出すには`df[3,7]`となります。"
      ],
      "metadata": {
        "id": "wzmMK1YNH5bz"
      }
    },
    {
      "cell_type": "code",
      "source": [
        "df[3,7]"
      ],
      "metadata": {
        "id": "9rz3Rtp7IHY4",
        "colab": {
          "base_uri": "https://localhost:8080/",
          "height": 34
        },
        "outputId": "15f6814e-6e03-4bff-cef8-b36602e9e59f"
      },
      "execution_count": 31,
      "outputs": [
        {
          "output_type": "display_data",
          "data": {
            "text/html": [
              "'Midfielder'"
            ],
            "text/markdown": "'Midfielder'",
            "text/latex": "'Midfielder'",
            "text/plain": [
              "[1] \"Midfielder\""
            ]
          },
          "metadata": {}
        }
      ]
    },
    {
      "cell_type": "markdown",
      "source": [
        "この様な操作で取り出してきた値に、別の関数を適用することも可能です。\n",
        "\n",
        "例えば最初の方に扱った`summary`関数を2列目のデータ(ageの列)に適用する場合は\n",
        "\n",
        "```\n",
        "df_2 <- df[,2]\n",
        "summary(df_2)\n",
        "```\n",
        "や、1行にまとめてしまって\n",
        "```\n",
        "summary(df[,2])\n",
        "```\n",
        "という形で実行できます。\n"
      ],
      "metadata": {
        "id": "M9jAzv34IOSi"
      }
    },
    {
      "cell_type": "code",
      "source": [
        "df_2 <- df[,2]\n",
        "summary(df_2)"
      ],
      "metadata": {
        "id": "x98a37RTIsYC",
        "colab": {
          "base_uri": "https://localhost:8080/",
          "height": 54
        },
        "outputId": "489c7ee0-f3ad-427e-ff3f-a3bafb18a932"
      },
      "execution_count": 32,
      "outputs": [
        {
          "output_type": "display_data",
          "data": {
            "text/plain": [
              "   Min. 1st Qu.  Median    Mean 3rd Qu.    Max. \n",
              "    0.0    25.0    28.0    28.1    31.0    41.0 "
            ]
          },
          "metadata": {}
        }
      ]
    },
    {
      "cell_type": "markdown",
      "source": [
        "同じような形で特定の列の平均値を`mean`関数で求めたり、合計値を`sum`関数で求めることも可能です。"
      ],
      "metadata": {
        "id": "wPKi68Y2Iyh2"
      }
    },
    {
      "cell_type": "markdown",
      "source": [
        "## 条件に基づくデータ抽出\n",
        "\n",
        "もう少し複雑なデータの抽出方法として、条件に基づく方法があります。\n",
        "\n",
        "例えば\n",
        "\n",
        "* `\"position\"が\"Defender\"`のデータを取り出したい\n",
        "* `\"age\"が20以下`のデータを取り出したい\n",
        "\n",
        "等です。\n",
        "\n",
        "この様な場合は、比較演算子`==`や`>=`などを活用します。"
      ],
      "metadata": {
        "id": "q7ULvgcMuZuD"
      }
    },
    {
      "cell_type": "markdown",
      "source": [
        "### 比較演算子\n",
        "\n",
        "Rでは`==`や`>=`(大なりイコール)等を使用して値を比較できます。\n",
        "\n",
        "* `==` : 値が同じかどうか調べる\n",
        "* `>`, `<`, `>=`, `<=` : 大きさの比較"
      ],
      "metadata": {
        "id": "14kdYvE9zyVu"
      }
    },
    {
      "cell_type": "code",
      "source": [
        "5 == 4"
      ],
      "metadata": {
        "colab": {
          "base_uri": "https://localhost:8080/",
          "height": 34
        },
        "id": "JzbLBvHtzm2L",
        "outputId": "ed95bc4e-99bc-44ba-e4c5-2feebe701573"
      },
      "execution_count": 33,
      "outputs": [
        {
          "output_type": "display_data",
          "data": {
            "text/html": [
              "FALSE"
            ],
            "text/markdown": "FALSE",
            "text/latex": "FALSE",
            "text/plain": [
              "[1] FALSE"
            ]
          },
          "metadata": {}
        }
      ]
    },
    {
      "cell_type": "code",
      "source": [
        "5 >= 2"
      ],
      "metadata": {
        "colab": {
          "base_uri": "https://localhost:8080/",
          "height": 34
        },
        "id": "ReLtP6quzr5R",
        "outputId": "09639f2b-1d61-4274-917d-e2071b683dc9"
      },
      "execution_count": 34,
      "outputs": [
        {
          "output_type": "display_data",
          "data": {
            "text/html": [
              "TRUE"
            ],
            "text/markdown": "TRUE",
            "text/latex": "TRUE",
            "text/plain": [
              "[1] TRUE"
            ]
          },
          "metadata": {}
        }
      ]
    },
    {
      "cell_type": "markdown",
      "source": [
        "これをデータフレームの特定の列に適用すると、すべての値に対して比較を行ってくれます。\n",
        "\n",
        "例えば、`age`の列を取り出して、20以下かどうかの比較を`df$age <= 20`という形でしてみると\n",
        "\n",
        "20以下かどうか`TRUE, FALSE`で帰ってきます。"
      ],
      "metadata": {
        "id": "TB5I_4Fvz7cz"
      }
    },
    {
      "cell_type": "code",
      "source": [
        "df$age <= 20"
      ],
      "metadata": {
        "colab": {
          "base_uri": "https://localhost:8080/",
          "height": 520
        },
        "id": "Ivr7bVL60h8c",
        "outputId": "3b83c239-da00-4b14-e5c9-d2ec066a1834"
      },
      "execution_count": 35,
      "outputs": [
        {
          "output_type": "display_data",
          "data": {
            "text/html": [
              "<style>\n",
              ".list-inline {list-style: none; margin:0; padding: 0}\n",
              ".list-inline>li {display: inline-block}\n",
              ".list-inline>li:not(:last-child)::after {content: \"\\00b7\"; padding: 0 .5ex}\n",
              "</style>\n",
              "<ol class=list-inline><li>FALSE</li><li>FALSE</li><li>FALSE</li><li>FALSE</li><li>TRUE</li><li>FALSE</li><li>FALSE</li><li>FALSE</li><li>FALSE</li><li>FALSE</li><li>FALSE</li><li>FALSE</li><li>FALSE</li><li>FALSE</li><li>FALSE</li><li>FALSE</li><li>FALSE</li><li>FALSE</li><li>FALSE</li><li>FALSE</li><li>FALSE</li><li>FALSE</li><li>FALSE</li><li>FALSE</li><li>FALSE</li><li>FALSE</li><li>FALSE</li><li>FALSE</li><li>FALSE</li><li>FALSE</li><li>FALSE</li><li>FALSE</li><li>FALSE</li><li>FALSE</li><li>TRUE</li><li>FALSE</li><li>FALSE</li><li>FALSE</li><li>FALSE</li><li>FALSE</li><li>FALSE</li><li>FALSE</li><li>FALSE</li><li>FALSE</li><li>FALSE</li><li>FALSE</li><li>FALSE</li><li>FALSE</li><li>FALSE</li><li>FALSE</li><li>TRUE</li><li>FALSE</li><li>FALSE</li><li>FALSE</li><li>FALSE</li><li>FALSE</li><li>FALSE</li><li>FALSE</li><li>FALSE</li><li>FALSE</li><li>FALSE</li><li>FALSE</li><li>FALSE</li><li>FALSE</li><li>FALSE</li><li>FALSE</li><li>FALSE</li><li>FALSE</li><li>FALSE</li><li>FALSE</li><li>TRUE</li><li>FALSE</li><li>FALSE</li><li>FALSE</li><li>FALSE</li><li>FALSE</li><li>FALSE</li><li>FALSE</li><li>FALSE</li><li>FALSE</li><li>FALSE</li><li>FALSE</li><li>FALSE</li><li>FALSE</li><li>FALSE</li><li>FALSE</li><li>FALSE</li><li>FALSE</li><li>FALSE</li><li>FALSE</li><li>FALSE</li><li>FALSE</li><li>TRUE</li><li>FALSE</li><li>FALSE</li><li>FALSE</li><li>FALSE</li><li>FALSE</li><li>FALSE</li><li>FALSE</li><li>FALSE</li><li>FALSE</li><li>FALSE</li><li>FALSE</li><li>FALSE</li><li>FALSE</li><li>FALSE</li><li>FALSE</li><li>FALSE</li><li>FALSE</li><li>FALSE</li><li>FALSE</li><li>FALSE</li><li>FALSE</li><li>FALSE</li><li>FALSE</li><li>FALSE</li><li>FALSE</li><li>FALSE</li><li>FALSE</li><li>FALSE</li><li>FALSE</li><li>FALSE</li><li>FALSE</li><li>FALSE</li><li>FALSE</li><li>TRUE</li><li>FALSE</li><li>FALSE</li><li>FALSE</li><li>FALSE</li><li>FALSE</li><li>FALSE</li><li>FALSE</li><li>FALSE</li><li>FALSE</li><li>FALSE</li><li>FALSE</li><li>FALSE</li><li>FALSE</li><li>FALSE</li><li>FALSE</li><li>FALSE</li><li>FALSE</li><li>FALSE</li><li>FALSE</li><li>FALSE</li><li>FALSE</li><li>FALSE</li><li>FALSE</li><li>FALSE</li><li>FALSE</li><li>FALSE</li><li>FALSE</li><li>FALSE</li><li>FALSE</li><li>FALSE</li><li>FALSE</li><li>FALSE</li><li>FALSE</li><li>FALSE</li><li>FALSE</li><li>FALSE</li><li>FALSE</li><li>FALSE</li><li>FALSE</li><li>FALSE</li><li>FALSE</li><li>FALSE</li><li>FALSE</li><li>FALSE</li><li>FALSE</li><li>FALSE</li><li>FALSE</li><li>TRUE</li><li>FALSE</li><li>FALSE</li><li>FALSE</li><li>FALSE</li><li>TRUE</li><li>FALSE</li><li>FALSE</li><li>FALSE</li><li>FALSE</li><li>FALSE</li><li>FALSE</li><li>FALSE</li><li>FALSE</li><li>FALSE</li><li>FALSE</li><li>FALSE</li><li>FALSE</li><li>FALSE</li><li>FALSE</li><li>FALSE</li><li>FALSE</li><li>FALSE</li><li>FALSE</li><li>FALSE</li><li>FALSE</li><li>⋯</li><li>FALSE</li><li>FALSE</li><li>FALSE</li><li>FALSE</li><li>FALSE</li><li>FALSE</li><li>FALSE</li><li>FALSE</li><li>TRUE</li><li>FALSE</li><li>FALSE</li><li>FALSE</li><li>FALSE</li><li>FALSE</li><li>FALSE</li><li>FALSE</li><li>FALSE</li><li>FALSE</li><li>FALSE</li><li>FALSE</li><li>FALSE</li><li>FALSE</li><li>TRUE</li><li>FALSE</li><li>FALSE</li><li>FALSE</li><li>FALSE</li><li>FALSE</li><li>FALSE</li><li>FALSE</li><li>TRUE</li><li>FALSE</li><li>FALSE</li><li>FALSE</li><li>FALSE</li><li>FALSE</li><li>FALSE</li><li>FALSE</li><li>FALSE</li><li>FALSE</li><li>FALSE</li><li>FALSE</li><li>FALSE</li><li>FALSE</li><li>FALSE</li><li>FALSE</li><li>FALSE</li><li>FALSE</li><li>FALSE</li><li>FALSE</li><li>FALSE</li><li>FALSE</li><li>FALSE</li><li>FALSE</li><li>FALSE</li><li>FALSE</li><li>FALSE</li><li>FALSE</li><li>FALSE</li><li>FALSE</li><li>FALSE</li><li>TRUE</li><li>FALSE</li><li>FALSE</li><li>FALSE</li><li>FALSE</li><li>FALSE</li><li>FALSE</li><li>FALSE</li><li>FALSE</li><li>FALSE</li><li>FALSE</li><li>FALSE</li><li>FALSE</li><li>FALSE</li><li>FALSE</li><li>FALSE</li><li>FALSE</li><li>FALSE</li><li>FALSE</li><li>FALSE</li><li>TRUE</li><li>FALSE</li><li>FALSE</li><li>FALSE</li><li>FALSE</li><li>TRUE</li><li>FALSE</li><li>FALSE</li><li>FALSE</li><li>FALSE</li><li>FALSE</li><li>FALSE</li><li>FALSE</li><li>FALSE</li><li>FALSE</li><li>FALSE</li><li>FALSE</li><li>FALSE</li><li>FALSE</li><li>FALSE</li><li>FALSE</li><li>FALSE</li><li>FALSE</li><li>FALSE</li><li>FALSE</li><li>FALSE</li><li>FALSE</li><li>FALSE</li><li>FALSE</li><li>FALSE</li><li>FALSE</li><li>FALSE</li><li>FALSE</li><li>FALSE</li><li>FALSE</li><li>TRUE</li><li>FALSE</li><li>FALSE</li><li>FALSE</li><li>FALSE</li><li>FALSE</li><li>FALSE</li><li>FALSE</li><li>FALSE</li><li>FALSE</li><li>FALSE</li><li>FALSE</li><li>FALSE</li><li>FALSE</li><li>FALSE</li><li>FALSE</li><li>FALSE</li><li>FALSE</li><li>FALSE</li><li>FALSE</li><li>FALSE</li><li>FALSE</li><li>FALSE</li><li>FALSE</li><li>FALSE</li><li>FALSE</li><li>FALSE</li><li>FALSE</li><li>FALSE</li><li>FALSE</li><li>FALSE</li><li>FALSE</li><li>FALSE</li><li>FALSE</li><li>FALSE</li><li>FALSE</li><li>FALSE</li><li>FALSE</li><li>FALSE</li><li>FALSE</li><li>FALSE</li><li>FALSE</li><li>FALSE</li><li>FALSE</li><li>FALSE</li><li>FALSE</li><li>FALSE</li><li>FALSE</li><li>FALSE</li><li>FALSE</li><li>FALSE</li><li>FALSE</li><li>FALSE</li><li>FALSE</li><li>FALSE</li><li>FALSE</li><li>FALSE</li><li>FALSE</li><li>FALSE</li><li>FALSE</li><li>FALSE</li><li>FALSE</li><li>FALSE</li><li>FALSE</li><li>FALSE</li><li>FALSE</li><li>FALSE</li><li>FALSE</li><li>FALSE</li><li>FALSE</li><li>FALSE</li><li>FALSE</li><li>FALSE</li><li>FALSE</li><li>FALSE</li><li>FALSE</li><li>FALSE</li><li>FALSE</li><li>FALSE</li><li>FALSE</li><li>FALSE</li><li>TRUE</li><li>TRUE</li><li>FALSE</li></ol>\n"
            ],
            "text/markdown": "1. FALSE\n2. FALSE\n3. FALSE\n4. FALSE\n5. TRUE\n6. FALSE\n7. FALSE\n8. FALSE\n9. FALSE\n10. FALSE\n11. FALSE\n12. FALSE\n13. FALSE\n14. FALSE\n15. FALSE\n16. FALSE\n17. FALSE\n18. FALSE\n19. FALSE\n20. FALSE\n21. FALSE\n22. FALSE\n23. FALSE\n24. FALSE\n25. FALSE\n26. FALSE\n27. FALSE\n28. FALSE\n29. FALSE\n30. FALSE\n31. FALSE\n32. FALSE\n33. FALSE\n34. FALSE\n35. TRUE\n36. FALSE\n37. FALSE\n38. FALSE\n39. FALSE\n40. FALSE\n41. FALSE\n42. FALSE\n43. FALSE\n44. FALSE\n45. FALSE\n46. FALSE\n47. FALSE\n48. FALSE\n49. FALSE\n50. FALSE\n51. TRUE\n52. FALSE\n53. FALSE\n54. FALSE\n55. FALSE\n56. FALSE\n57. FALSE\n58. FALSE\n59. FALSE\n60. FALSE\n61. FALSE\n62. FALSE\n63. FALSE\n64. FALSE\n65. FALSE\n66. FALSE\n67. FALSE\n68. FALSE\n69. FALSE\n70. FALSE\n71. TRUE\n72. FALSE\n73. FALSE\n74. FALSE\n75. FALSE\n76. FALSE\n77. FALSE\n78. FALSE\n79. FALSE\n80. FALSE\n81. FALSE\n82. FALSE\n83. FALSE\n84. FALSE\n85. FALSE\n86. FALSE\n87. FALSE\n88. FALSE\n89. FALSE\n90. FALSE\n91. FALSE\n92. FALSE\n93. TRUE\n94. FALSE\n95. FALSE\n96. FALSE\n97. FALSE\n98. FALSE\n99. FALSE\n100. FALSE\n101. FALSE\n102. FALSE\n103. FALSE\n104. FALSE\n105. FALSE\n106. FALSE\n107. FALSE\n108. FALSE\n109. FALSE\n110. FALSE\n111. FALSE\n112. FALSE\n113. FALSE\n114. FALSE\n115. FALSE\n116. FALSE\n117. FALSE\n118. FALSE\n119. FALSE\n120. FALSE\n121. FALSE\n122. FALSE\n123. FALSE\n124. FALSE\n125. FALSE\n126. FALSE\n127. TRUE\n128. FALSE\n129. FALSE\n130. FALSE\n131. FALSE\n132. FALSE\n133. FALSE\n134. FALSE\n135. FALSE\n136. FALSE\n137. FALSE\n138. FALSE\n139. FALSE\n140. FALSE\n141. FALSE\n142. FALSE\n143. FALSE\n144. FALSE\n145. FALSE\n146. FALSE\n147. FALSE\n148. FALSE\n149. FALSE\n150. FALSE\n151. FALSE\n152. FALSE\n153. FALSE\n154. FALSE\n155. FALSE\n156. FALSE\n157. FALSE\n158. FALSE\n159. FALSE\n160. FALSE\n161. FALSE\n162. FALSE\n163. FALSE\n164. FALSE\n165. FALSE\n166. FALSE\n167. FALSE\n168. FALSE\n169. FALSE\n170. FALSE\n171. FALSE\n172. FALSE\n173. FALSE\n174. FALSE\n175. TRUE\n176. FALSE\n177. FALSE\n178. FALSE\n179. FALSE\n180. TRUE\n181. FALSE\n182. FALSE\n183. FALSE\n184. FALSE\n185. FALSE\n186. FALSE\n187. FALSE\n188. FALSE\n189. FALSE\n190. FALSE\n191. FALSE\n192. FALSE\n193. FALSE\n194. FALSE\n195. FALSE\n196. FALSE\n197. FALSE\n198. FALSE\n199. FALSE\n200. FALSE\n201. ⋯\n202. FALSE\n203. FALSE\n204. FALSE\n205. FALSE\n206. FALSE\n207. FALSE\n208. FALSE\n209. FALSE\n210. TRUE\n211. FALSE\n212. FALSE\n213. FALSE\n214. FALSE\n215. FALSE\n216. FALSE\n217. FALSE\n218. FALSE\n219. FALSE\n220. FALSE\n221. FALSE\n222. FALSE\n223. FALSE\n224. TRUE\n225. FALSE\n226. FALSE\n227. FALSE\n228. FALSE\n229. FALSE\n230. FALSE\n231. FALSE\n232. TRUE\n233. FALSE\n234. FALSE\n235. FALSE\n236. FALSE\n237. FALSE\n238. FALSE\n239. FALSE\n240. FALSE\n241. FALSE\n242. FALSE\n243. FALSE\n244. FALSE\n245. FALSE\n246. FALSE\n247. FALSE\n248. FALSE\n249. FALSE\n250. FALSE\n251. FALSE\n252. FALSE\n253. FALSE\n254. FALSE\n255. FALSE\n256. FALSE\n257. FALSE\n258. FALSE\n259. FALSE\n260. FALSE\n261. FALSE\n262. FALSE\n263. TRUE\n264. FALSE\n265. FALSE\n266. FALSE\n267. FALSE\n268. FALSE\n269. FALSE\n270. FALSE\n271. FALSE\n272. FALSE\n273. FALSE\n274. FALSE\n275. FALSE\n276. FALSE\n277. FALSE\n278. FALSE\n279. FALSE\n280. FALSE\n281. FALSE\n282. FALSE\n283. TRUE\n284. FALSE\n285. FALSE\n286. FALSE\n287. FALSE\n288. TRUE\n289. FALSE\n290. FALSE\n291. FALSE\n292. FALSE\n293. FALSE\n294. FALSE\n295. FALSE\n296. FALSE\n297. FALSE\n298. FALSE\n299. FALSE\n300. FALSE\n301. FALSE\n302. FALSE\n303. FALSE\n304. FALSE\n305. FALSE\n306. FALSE\n307. FALSE\n308. FALSE\n309. FALSE\n310. FALSE\n311. FALSE\n312. FALSE\n313. FALSE\n314. FALSE\n315. FALSE\n316. FALSE\n317. FALSE\n318. TRUE\n319. FALSE\n320. FALSE\n321. FALSE\n322. FALSE\n323. FALSE\n324. FALSE\n325. FALSE\n326. FALSE\n327. FALSE\n328. FALSE\n329. FALSE\n330. FALSE\n331. FALSE\n332. FALSE\n333. FALSE\n334. FALSE\n335. FALSE\n336. FALSE\n337. FALSE\n338. FALSE\n339. FALSE\n340. FALSE\n341. FALSE\n342. FALSE\n343. FALSE\n344. FALSE\n345. FALSE\n346. FALSE\n347. FALSE\n348. FALSE\n349. FALSE\n350. FALSE\n351. FALSE\n352. FALSE\n353. FALSE\n354. FALSE\n355. FALSE\n356. FALSE\n357. FALSE\n358. FALSE\n359. FALSE\n360. FALSE\n361. FALSE\n362. FALSE\n363. FALSE\n364. FALSE\n365. FALSE\n366. FALSE\n367. FALSE\n368. FALSE\n369. FALSE\n370. FALSE\n371. FALSE\n372. FALSE\n373. FALSE\n374. FALSE\n375. FALSE\n376. FALSE\n377. FALSE\n378. FALSE\n379. FALSE\n380. FALSE\n381. FALSE\n382. FALSE\n383. FALSE\n384. FALSE\n385. FALSE\n386. FALSE\n387. FALSE\n388. FALSE\n389. FALSE\n390. FALSE\n391. FALSE\n392. FALSE\n393. FALSE\n394. FALSE\n395. FALSE\n396. FALSE\n397. FALSE\n398. FALSE\n399. TRUE\n400. TRUE\n401. FALSE\n\n\n",
            "text/latex": "\\begin{enumerate*}\n\\item FALSE\n\\item FALSE\n\\item FALSE\n\\item FALSE\n\\item TRUE\n\\item FALSE\n\\item FALSE\n\\item FALSE\n\\item FALSE\n\\item FALSE\n\\item FALSE\n\\item FALSE\n\\item FALSE\n\\item FALSE\n\\item FALSE\n\\item FALSE\n\\item FALSE\n\\item FALSE\n\\item FALSE\n\\item FALSE\n\\item FALSE\n\\item FALSE\n\\item FALSE\n\\item FALSE\n\\item FALSE\n\\item FALSE\n\\item FALSE\n\\item FALSE\n\\item FALSE\n\\item FALSE\n\\item FALSE\n\\item FALSE\n\\item FALSE\n\\item FALSE\n\\item TRUE\n\\item FALSE\n\\item FALSE\n\\item FALSE\n\\item FALSE\n\\item FALSE\n\\item FALSE\n\\item FALSE\n\\item FALSE\n\\item FALSE\n\\item FALSE\n\\item FALSE\n\\item FALSE\n\\item FALSE\n\\item FALSE\n\\item FALSE\n\\item TRUE\n\\item FALSE\n\\item FALSE\n\\item FALSE\n\\item FALSE\n\\item FALSE\n\\item FALSE\n\\item FALSE\n\\item FALSE\n\\item FALSE\n\\item FALSE\n\\item FALSE\n\\item FALSE\n\\item FALSE\n\\item FALSE\n\\item FALSE\n\\item FALSE\n\\item FALSE\n\\item FALSE\n\\item FALSE\n\\item TRUE\n\\item FALSE\n\\item FALSE\n\\item FALSE\n\\item FALSE\n\\item FALSE\n\\item FALSE\n\\item FALSE\n\\item FALSE\n\\item FALSE\n\\item FALSE\n\\item FALSE\n\\item FALSE\n\\item FALSE\n\\item FALSE\n\\item FALSE\n\\item FALSE\n\\item FALSE\n\\item FALSE\n\\item FALSE\n\\item FALSE\n\\item FALSE\n\\item TRUE\n\\item FALSE\n\\item FALSE\n\\item FALSE\n\\item FALSE\n\\item FALSE\n\\item FALSE\n\\item FALSE\n\\item FALSE\n\\item FALSE\n\\item FALSE\n\\item FALSE\n\\item FALSE\n\\item FALSE\n\\item FALSE\n\\item FALSE\n\\item FALSE\n\\item FALSE\n\\item FALSE\n\\item FALSE\n\\item FALSE\n\\item FALSE\n\\item FALSE\n\\item FALSE\n\\item FALSE\n\\item FALSE\n\\item FALSE\n\\item FALSE\n\\item FALSE\n\\item FALSE\n\\item FALSE\n\\item FALSE\n\\item FALSE\n\\item FALSE\n\\item TRUE\n\\item FALSE\n\\item FALSE\n\\item FALSE\n\\item FALSE\n\\item FALSE\n\\item FALSE\n\\item FALSE\n\\item FALSE\n\\item FALSE\n\\item FALSE\n\\item FALSE\n\\item FALSE\n\\item FALSE\n\\item FALSE\n\\item FALSE\n\\item FALSE\n\\item FALSE\n\\item FALSE\n\\item FALSE\n\\item FALSE\n\\item FALSE\n\\item FALSE\n\\item FALSE\n\\item FALSE\n\\item FALSE\n\\item FALSE\n\\item FALSE\n\\item FALSE\n\\item FALSE\n\\item FALSE\n\\item FALSE\n\\item FALSE\n\\item FALSE\n\\item FALSE\n\\item FALSE\n\\item FALSE\n\\item FALSE\n\\item FALSE\n\\item FALSE\n\\item FALSE\n\\item FALSE\n\\item FALSE\n\\item FALSE\n\\item FALSE\n\\item FALSE\n\\item FALSE\n\\item FALSE\n\\item TRUE\n\\item FALSE\n\\item FALSE\n\\item FALSE\n\\item FALSE\n\\item TRUE\n\\item FALSE\n\\item FALSE\n\\item FALSE\n\\item FALSE\n\\item FALSE\n\\item FALSE\n\\item FALSE\n\\item FALSE\n\\item FALSE\n\\item FALSE\n\\item FALSE\n\\item FALSE\n\\item FALSE\n\\item FALSE\n\\item FALSE\n\\item FALSE\n\\item FALSE\n\\item FALSE\n\\item FALSE\n\\item FALSE\n\\item ⋯\n\\item FALSE\n\\item FALSE\n\\item FALSE\n\\item FALSE\n\\item FALSE\n\\item FALSE\n\\item FALSE\n\\item FALSE\n\\item TRUE\n\\item FALSE\n\\item FALSE\n\\item FALSE\n\\item FALSE\n\\item FALSE\n\\item FALSE\n\\item FALSE\n\\item FALSE\n\\item FALSE\n\\item FALSE\n\\item FALSE\n\\item FALSE\n\\item FALSE\n\\item TRUE\n\\item FALSE\n\\item FALSE\n\\item FALSE\n\\item FALSE\n\\item FALSE\n\\item FALSE\n\\item FALSE\n\\item TRUE\n\\item FALSE\n\\item FALSE\n\\item FALSE\n\\item FALSE\n\\item FALSE\n\\item FALSE\n\\item FALSE\n\\item FALSE\n\\item FALSE\n\\item FALSE\n\\item FALSE\n\\item FALSE\n\\item FALSE\n\\item FALSE\n\\item FALSE\n\\item FALSE\n\\item FALSE\n\\item FALSE\n\\item FALSE\n\\item FALSE\n\\item FALSE\n\\item FALSE\n\\item FALSE\n\\item FALSE\n\\item FALSE\n\\item FALSE\n\\item FALSE\n\\item FALSE\n\\item FALSE\n\\item FALSE\n\\item TRUE\n\\item FALSE\n\\item FALSE\n\\item FALSE\n\\item FALSE\n\\item FALSE\n\\item FALSE\n\\item FALSE\n\\item FALSE\n\\item FALSE\n\\item FALSE\n\\item FALSE\n\\item FALSE\n\\item FALSE\n\\item FALSE\n\\item FALSE\n\\item FALSE\n\\item FALSE\n\\item FALSE\n\\item FALSE\n\\item TRUE\n\\item FALSE\n\\item FALSE\n\\item FALSE\n\\item FALSE\n\\item TRUE\n\\item FALSE\n\\item FALSE\n\\item FALSE\n\\item FALSE\n\\item FALSE\n\\item FALSE\n\\item FALSE\n\\item FALSE\n\\item FALSE\n\\item FALSE\n\\item FALSE\n\\item FALSE\n\\item FALSE\n\\item FALSE\n\\item FALSE\n\\item FALSE\n\\item FALSE\n\\item FALSE\n\\item FALSE\n\\item FALSE\n\\item FALSE\n\\item FALSE\n\\item FALSE\n\\item FALSE\n\\item FALSE\n\\item FALSE\n\\item FALSE\n\\item FALSE\n\\item FALSE\n\\item TRUE\n\\item FALSE\n\\item FALSE\n\\item FALSE\n\\item FALSE\n\\item FALSE\n\\item FALSE\n\\item FALSE\n\\item FALSE\n\\item FALSE\n\\item FALSE\n\\item FALSE\n\\item FALSE\n\\item FALSE\n\\item FALSE\n\\item FALSE\n\\item FALSE\n\\item FALSE\n\\item FALSE\n\\item FALSE\n\\item FALSE\n\\item FALSE\n\\item FALSE\n\\item FALSE\n\\item FALSE\n\\item FALSE\n\\item FALSE\n\\item FALSE\n\\item FALSE\n\\item FALSE\n\\item FALSE\n\\item FALSE\n\\item FALSE\n\\item FALSE\n\\item FALSE\n\\item FALSE\n\\item FALSE\n\\item FALSE\n\\item FALSE\n\\item FALSE\n\\item FALSE\n\\item FALSE\n\\item FALSE\n\\item FALSE\n\\item FALSE\n\\item FALSE\n\\item FALSE\n\\item FALSE\n\\item FALSE\n\\item FALSE\n\\item FALSE\n\\item FALSE\n\\item FALSE\n\\item FALSE\n\\item FALSE\n\\item FALSE\n\\item FALSE\n\\item FALSE\n\\item FALSE\n\\item FALSE\n\\item FALSE\n\\item FALSE\n\\item FALSE\n\\item FALSE\n\\item FALSE\n\\item FALSE\n\\item FALSE\n\\item FALSE\n\\item FALSE\n\\item FALSE\n\\item FALSE\n\\item FALSE\n\\item FALSE\n\\item FALSE\n\\item FALSE\n\\item FALSE\n\\item FALSE\n\\item FALSE\n\\item FALSE\n\\item FALSE\n\\item FALSE\n\\item TRUE\n\\item TRUE\n\\item FALSE\n\\end{enumerate*}\n",
            "text/plain": [
              "  [1] FALSE FALSE FALSE FALSE  TRUE FALSE FALSE FALSE FALSE FALSE FALSE FALSE\n",
              " [13] FALSE FALSE FALSE FALSE FALSE FALSE FALSE FALSE FALSE FALSE FALSE FALSE\n",
              " [25] FALSE FALSE FALSE FALSE FALSE FALSE FALSE FALSE FALSE FALSE  TRUE FALSE\n",
              " [37] FALSE FALSE FALSE FALSE FALSE FALSE FALSE FALSE FALSE FALSE FALSE FALSE\n",
              " [49] FALSE FALSE  TRUE FALSE FALSE FALSE FALSE FALSE FALSE FALSE FALSE FALSE\n",
              " [61] FALSE FALSE FALSE FALSE FALSE FALSE FALSE FALSE FALSE FALSE  TRUE FALSE\n",
              " [73] FALSE FALSE FALSE FALSE FALSE FALSE FALSE FALSE FALSE FALSE FALSE FALSE\n",
              " [85] FALSE FALSE FALSE FALSE FALSE FALSE FALSE FALSE  TRUE FALSE FALSE FALSE\n",
              " [97] FALSE FALSE FALSE FALSE FALSE FALSE FALSE FALSE FALSE FALSE FALSE FALSE\n",
              "[109] FALSE FALSE FALSE FALSE FALSE FALSE FALSE FALSE FALSE FALSE FALSE FALSE\n",
              "[121] FALSE FALSE FALSE FALSE FALSE FALSE  TRUE FALSE FALSE FALSE FALSE FALSE\n",
              "[133] FALSE FALSE FALSE FALSE FALSE FALSE FALSE FALSE FALSE FALSE FALSE FALSE\n",
              "[145] FALSE FALSE FALSE FALSE FALSE FALSE FALSE FALSE FALSE FALSE FALSE FALSE\n",
              "[157] FALSE FALSE FALSE FALSE FALSE FALSE FALSE FALSE FALSE FALSE FALSE FALSE\n",
              "[169] FALSE FALSE FALSE FALSE FALSE FALSE  TRUE FALSE FALSE FALSE FALSE  TRUE\n",
              "[181] FALSE FALSE FALSE FALSE FALSE FALSE FALSE FALSE FALSE FALSE FALSE FALSE\n",
              "[193] FALSE FALSE FALSE FALSE FALSE FALSE FALSE FALSE FALSE FALSE FALSE FALSE\n",
              "[205] FALSE FALSE FALSE FALSE FALSE FALSE FALSE FALSE FALSE FALSE FALSE FALSE\n",
              "[217] FALSE FALSE FALSE  TRUE FALSE FALSE FALSE FALSE FALSE FALSE FALSE FALSE\n",
              "[229] FALSE FALSE FALSE FALSE FALSE FALSE FALSE FALSE FALSE FALSE FALSE FALSE\n",
              "[241] FALSE FALSE FALSE  TRUE FALSE FALSE FALSE FALSE FALSE FALSE FALSE FALSE\n",
              "[253] FALSE FALSE FALSE FALSE FALSE FALSE FALSE FALSE FALSE FALSE FALSE FALSE\n",
              "[265] FALSE FALSE FALSE FALSE FALSE FALSE FALSE FALSE FALSE FALSE FALSE FALSE\n",
              "[277] FALSE FALSE FALSE FALSE FALSE FALSE FALSE FALSE FALSE FALSE FALSE FALSE\n",
              "[289] FALSE FALSE FALSE FALSE FALSE FALSE FALSE FALSE FALSE FALSE FALSE FALSE\n",
              "[301] FALSE FALSE FALSE FALSE FALSE FALSE FALSE FALSE FALSE FALSE FALSE FALSE\n",
              "[313] FALSE FALSE FALSE  TRUE FALSE FALSE FALSE FALSE FALSE FALSE FALSE FALSE\n",
              "[325] FALSE FALSE FALSE FALSE FALSE FALSE FALSE FALSE FALSE FALSE FALSE FALSE\n",
              "[337] FALSE FALSE FALSE FALSE FALSE FALSE FALSE FALSE FALSE FALSE FALSE FALSE\n",
              "[349] FALSE FALSE FALSE FALSE FALSE FALSE FALSE FALSE FALSE FALSE FALSE FALSE\n",
              "[361] FALSE FALSE FALSE FALSE FALSE  TRUE FALSE FALSE FALSE FALSE FALSE FALSE\n",
              "[373] FALSE FALSE FALSE FALSE FALSE FALSE FALSE FALSE  TRUE FALSE FALSE FALSE\n",
              "[385] FALSE FALSE FALSE FALSE FALSE FALSE FALSE FALSE FALSE FALSE  TRUE FALSE\n",
              "[397] FALSE FALSE FALSE FALSE FALSE FALSE  TRUE FALSE FALSE FALSE FALSE FALSE\n",
              "[409] FALSE FALSE FALSE FALSE FALSE FALSE FALSE FALSE FALSE FALSE FALSE FALSE\n",
              "[421] FALSE FALSE FALSE FALSE FALSE FALSE FALSE FALSE FALSE FALSE FALSE FALSE\n",
              "[433] FALSE  TRUE FALSE FALSE FALSE FALSE FALSE FALSE FALSE FALSE FALSE FALSE\n",
              "[445] FALSE FALSE FALSE FALSE FALSE FALSE FALSE FALSE FALSE  TRUE FALSE FALSE\n",
              "[457] FALSE FALSE  TRUE FALSE FALSE FALSE FALSE FALSE FALSE FALSE FALSE FALSE\n",
              "[469] FALSE FALSE FALSE FALSE FALSE FALSE FALSE FALSE FALSE FALSE FALSE FALSE\n",
              "[481] FALSE FALSE FALSE FALSE FALSE FALSE FALSE FALSE  TRUE FALSE FALSE FALSE\n",
              "[493] FALSE FALSE FALSE FALSE FALSE FALSE FALSE FALSE FALSE FALSE FALSE FALSE\n",
              "[505] FALSE FALSE FALSE FALSE FALSE FALSE FALSE FALSE FALSE FALSE FALSE FALSE\n",
              "[517] FALSE FALSE FALSE FALSE FALSE FALSE FALSE FALSE FALSE FALSE FALSE FALSE\n",
              "[529] FALSE FALSE FALSE FALSE FALSE FALSE FALSE FALSE FALSE FALSE FALSE FALSE\n",
              "[541] FALSE FALSE FALSE FALSE FALSE FALSE FALSE FALSE FALSE FALSE FALSE FALSE\n",
              "[553] FALSE FALSE FALSE FALSE FALSE FALSE FALSE FALSE FALSE FALSE FALSE FALSE\n",
              "[565] FALSE FALSE FALSE FALSE FALSE  TRUE  TRUE FALSE"
            ]
          },
          "metadata": {}
        }
      ]
    },
    {
      "cell_type": "markdown",
      "source": [
        "データフレームでは、`df[c(3,10,50), ]`という形で、行番号のところに`c(3, 10, 50)`と入れてあげることで複数行のデータを抽出できました。\n",
        "\n",
        "この`TRUE, FALSE`のリストを行番号の代わりに入れることで、`TRUE`の行だけを取り出す、という事が出来ます。\n",
        "\n",
        "`df[df$age <= 20, ]`という形です。\n",
        "\n"
      ],
      "metadata": {
        "id": "2WqiDKoU05g4"
      }
    },
    {
      "cell_type": "code",
      "source": [
        "df[df$age <= 20, ]"
      ],
      "metadata": {
        "colab": {
          "base_uri": "https://localhost:8080/",
          "height": 1000
        },
        "id": "N69sCn1718LP",
        "outputId": "10459d5e-f13e-4bae-9583-6600d1392bc5"
      },
      "execution_count": 36,
      "outputs": [
        {
          "output_type": "display_data",
          "data": {
            "text/html": [
              "<table class=\"dataframe\">\n",
              "<caption>A data.frame: 21 × 47</caption>\n",
              "<thead>\n",
              "\t<tr><th></th><th scope=col>full_name</th><th scope=col>age</th><th scope=col>birthday</th><th scope=col>birthday_GMT</th><th scope=col>league</th><th scope=col>season</th><th scope=col>position</th><th scope=col>Current.Club</th><th scope=col>minutes_played_overall</th><th scope=col>minutes_played_home</th><th scope=col>⋯</th><th scope=col>conceded_per_90_overall</th><th scope=col>min_per_conceded_overall</th><th scope=col>min_per_match</th><th scope=col>min_per_card_overall</th><th scope=col>min_per_assist_overall</th><th scope=col>cards_per_90_overall</th><th scope=col>rank_in_league_top_attackers</th><th scope=col>rank_in_league_top_midfielders</th><th scope=col>rank_in_league_top_defenders</th><th scope=col>rank_in_club_top_scorer</th></tr>\n",
              "\t<tr><th></th><th scope=col>&lt;chr&gt;</th><th scope=col>&lt;int&gt;</th><th scope=col>&lt;int&gt;</th><th scope=col>&lt;chr&gt;</th><th scope=col>&lt;chr&gt;</th><th scope=col>&lt;chr&gt;</th><th scope=col>&lt;chr&gt;</th><th scope=col>&lt;chr&gt;</th><th scope=col>&lt;int&gt;</th><th scope=col>&lt;int&gt;</th><th scope=col>⋯</th><th scope=col>&lt;dbl&gt;</th><th scope=col>&lt;int&gt;</th><th scope=col>&lt;int&gt;</th><th scope=col>&lt;int&gt;</th><th scope=col>&lt;int&gt;</th><th scope=col>&lt;dbl&gt;</th><th scope=col>&lt;int&gt;</th><th scope=col>&lt;int&gt;</th><th scope=col>&lt;int&gt;</th><th scope=col>&lt;int&gt;</th></tr>\n",
              "</thead>\n",
              "<tbody>\n",
              "\t<tr><th scope=row>5</th><td>Aaron Rowe                    </td><td>20</td><td> 968284800</td><td>2000/09/07</td><td>Premier League</td><td>2018/2019</td><td>Forward   </td><td>Huddersfield Town</td><td>  69</td><td>  14</td><td>⋯</td><td>1.30</td><td>69</td><td>35</td><td>  0</td><td>  0</td><td>0.00</td><td> -1</td><td> -1</td><td> -1</td><td>31</td></tr>\n",
              "\t<tr><th scope=row>35</th><td>Ali Koiki                     </td><td>20</td><td> 966902400</td><td>2000/08/22</td><td>Premier League</td><td>2018/2019</td><td>Defender  </td><td>Burnley          </td><td>   0</td><td>   0</td><td>⋯</td><td>0.00</td><td> 0</td><td> 0</td><td>  0</td><td>  0</td><td>0.00</td><td> -1</td><td> -1</td><td> -1</td><td>-1</td></tr>\n",
              "\t<tr><th scope=row>51</th><td>Angel Gomes                   </td><td>20</td><td> 967680000</td><td>2000/08/31</td><td>Premier League</td><td>2018/2019</td><td>Midfielder</td><td>Manchester United</td><td>  25</td><td>  25</td><td>⋯</td><td>3.60</td><td>25</td><td>13</td><td>  0</td><td>  0</td><td>0.00</td><td> -1</td><td> -1</td><td> -1</td><td>19</td></tr>\n",
              "\t<tr><th scope=row>71</th><td>Bakayo Sako                   </td><td> 0</td><td>         0</td><td>1970/01/01</td><td>Premier League</td><td>2018/2019</td><td>Midfielder</td><td>Arsenal          </td><td>   7</td><td>   7</td><td>⋯</td><td>0.00</td><td> 0</td><td> 7</td><td>  0</td><td>  0</td><td>0.00</td><td> -1</td><td> -1</td><td> -1</td><td>17</td></tr>\n",
              "\t<tr><th scope=row>93</th><td>Callum Hudson-Odoi            </td><td>20</td><td> 973555200</td><td>2000/11/07</td><td>Premier League</td><td>2018/2019</td><td>Midfielder</td><td>Chelsea          </td><td> 391</td><td> 267</td><td>⋯</td><td>1.15</td><td>78</td><td>39</td><td>  0</td><td>391</td><td>0.00</td><td>277</td><td> 54</td><td> -1</td><td>16</td></tr>\n",
              "\t<tr><th scope=row>127</th><td>Curtis Jones                  </td><td>20</td><td> 980812800</td><td>2001/01/30</td><td>Premier League</td><td>2018/2019</td><td>Midfielder</td><td>Liverpool        </td><td>   0</td><td>   0</td><td>⋯</td><td>0.00</td><td> 0</td><td> 0</td><td>  0</td><td>  0</td><td>0.00</td><td> -1</td><td> -1</td><td> -1</td><td>-1</td></tr>\n",
              "\t<tr><th scope=row>175</th><td>Emile Smith Rowe              </td><td>20</td><td> 964742400</td><td>2000/07/28</td><td>Premier League</td><td>2018/2019</td><td>Midfielder</td><td>Arsenal          </td><td>   0</td><td>   0</td><td>⋯</td><td>0.00</td><td> 0</td><td> 0</td><td>  0</td><td>  0</td><td>0.00</td><td> -1</td><td> -1</td><td> -1</td><td>-1</td></tr>\n",
              "\t<tr><th scope=row>180</th><td>Ethan Ampadu                  </td><td>20</td><td> 968889600</td><td>2000/09/14</td><td>Premier League</td><td>2018/2019</td><td>Midfielder</td><td>Chelsea          </td><td>   0</td><td>   0</td><td>⋯</td><td>0.00</td><td> 0</td><td> 0</td><td>  0</td><td>  0</td><td>0.00</td><td> -1</td><td> -1</td><td> -1</td><td>-1</td></tr>\n",
              "\t<tr><th scope=row>220</th><td>Harvey Elliot                 </td><td> 0</td><td>         0</td><td>1970/01/01</td><td>Premier League</td><td>2018/2019</td><td>Forward   </td><td>Fulham           </td><td>  18</td><td>  16</td><td>⋯</td><td>0.00</td><td> 0</td><td> 9</td><td>  0</td><td>  0</td><td>0.00</td><td> -1</td><td> -1</td><td> -1</td><td>28</td></tr>\n",
              "\t<tr><th scope=row>244</th><td>James Garner                  </td><td>20</td><td> 984441600</td><td>2001/03/13</td><td>Premier League</td><td>2018/2019</td><td>Defender  </td><td>Manchester United</td><td>   0</td><td>   0</td><td>⋯</td><td>0.00</td><td> 0</td><td> 0</td><td>  0</td><td>  0</td><td>0.00</td><td> -1</td><td> -1</td><td> -1</td><td>-1</td></tr>\n",
              "\t<tr><th scope=row>316</th><td>Kayne Ramsey                  </td><td>20</td><td> 971136000</td><td>2000/10/10</td><td>Premier League</td><td>2018/2019</td><td>Midfielder</td><td>Southampton      </td><td>  90</td><td>  90</td><td>⋯</td><td>3.00</td><td>30</td><td>90</td><td>  0</td><td>  0</td><td>0.00</td><td> -1</td><td> -1</td><td> -1</td><td>19</td></tr>\n",
              "\t<tr><th scope=row>366</th><td>Marc Guehi                    </td><td>20</td><td> 963446400</td><td>2000/07/13</td><td>Premier League</td><td>2018/2019</td><td>Defender  </td><td>Chelsea          </td><td>   0</td><td>   0</td><td>⋯</td><td>0.00</td><td> 0</td><td> 0</td><td>  0</td><td>  0</td><td>0.00</td><td> -1</td><td> -1</td><td> -1</td><td>-1</td></tr>\n",
              "\t<tr><th scope=row>381</th><td>Mason Greenwood               </td><td>19</td><td>1001894400</td><td>2001/10/01</td><td>Premier League</td><td>2018/2019</td><td>Midfielder</td><td>Manchester United</td><td> 115</td><td> 105</td><td>⋯</td><td>1.57</td><td>58</td><td>38</td><td>  0</td><td>  0</td><td>0.00</td><td> -1</td><td> -1</td><td> -1</td><td>27</td></tr>\n",
              "\t<tr><th scope=row>395</th><td>Matty Daly                    </td><td>20</td><td> 984182400</td><td>2001/03/10</td><td>Premier League</td><td>2018/2019</td><td>Midfielder</td><td>Huddersfield Town</td><td>  73</td><td>  49</td><td>⋯</td><td>1.23</td><td>73</td><td>37</td><td>  0</td><td>  0</td><td>0.00</td><td> -1</td><td> -1</td><td> -1</td><td>18</td></tr>\n",
              "\t<tr><th scope=row>403</th><td>Michael Obafemi               </td><td>20</td><td> 962841600</td><td>2000/07/06</td><td>Premier League</td><td>2018/2019</td><td>Forward   </td><td>Southampton      </td><td> 134</td><td>  64</td><td>⋯</td><td>1.34</td><td>67</td><td>22</td><td>134</td><td>134</td><td>0.67</td><td> -1</td><td> -1</td><td> -1</td><td>16</td></tr>\n",
              "\t<tr><th scope=row>434</th><td>Oliver Skipp                  </td><td>20</td><td> 969062400</td><td>2000/09/16</td><td>Premier League</td><td>2018/2019</td><td>Midfielder</td><td>Tottenham Hotspur</td><td> 216</td><td> 191</td><td>⋯</td><td>0.00</td><td> 0</td><td>27</td><td>  0</td><td>  0</td><td>0.00</td><td> -1</td><td> -1</td><td> -1</td><td>16</td></tr>\n",
              "\t<tr><th scope=row>454</th><td>Philip Foden                  </td><td>20</td><td> 959472000</td><td>2000/05/28</td><td>Premier League</td><td>2018/2019</td><td>Midfielder</td><td>Manchester City  </td><td> 327</td><td> 279</td><td>⋯</td><td>0.00</td><td> 0</td><td>25</td><td>  0</td><td>  0</td><td>0.00</td><td> 67</td><td>386</td><td> -1</td><td>11</td></tr>\n",
              "\t<tr><th scope=row>459</th><td>Rafael Euclides Soares Camacho</td><td>20</td><td> 958953600</td><td>2000/05/22</td><td>Premier League</td><td>2018/2019</td><td>Midfielder</td><td>Liverpool        </td><td>   0</td><td>   0</td><td>⋯</td><td>0.00</td><td> 0</td><td> 0</td><td>  0</td><td>  0</td><td>0.00</td><td> -1</td><td> -1</td><td> -1</td><td>-1</td></tr>\n",
              "\t<tr><th scope=row>489</th><td>Ryan Sessegnon                </td><td>20</td><td> 958608000</td><td>2000/05/18</td><td>Premier League</td><td>2018/2019</td><td>Defender  </td><td>Fulham           </td><td>2298</td><td>1095</td><td>⋯</td><td>2.27</td><td>40</td><td>66</td><td>  0</td><td>383</td><td>0.00</td><td>182</td><td> 53</td><td>168</td><td> 6</td></tr>\n",
              "\t<tr><th scope=row>570</th><td>Zechariah Medley              </td><td>20</td><td> 962928000</td><td>2000/07/07</td><td>Premier League</td><td>2018/2019</td><td>Defender  </td><td>Arsenal          </td><td>   0</td><td>   0</td><td>⋯</td><td>0.00</td><td> 0</td><td> 0</td><td>  0</td><td>  0</td><td>0.00</td><td> -1</td><td> -1</td><td> -1</td><td>-1</td></tr>\n",
              "\t<tr><th scope=row>571</th><td>Zeze Steven Sessegnon         </td><td>20</td><td> 958608000</td><td>2000/05/18</td><td>Premier League</td><td>2018/2019</td><td>Defender  </td><td>Fulham           </td><td>   0</td><td>   0</td><td>⋯</td><td>0.00</td><td> 0</td><td> 0</td><td>  0</td><td>  0</td><td>0.00</td><td> -1</td><td> -1</td><td> -1</td><td>-1</td></tr>\n",
              "</tbody>\n",
              "</table>\n"
            ],
            "text/markdown": "\nA data.frame: 21 × 47\n\n| <!--/--> | full_name &lt;chr&gt; | age &lt;int&gt; | birthday &lt;int&gt; | birthday_GMT &lt;chr&gt; | league &lt;chr&gt; | season &lt;chr&gt; | position &lt;chr&gt; | Current.Club &lt;chr&gt; | minutes_played_overall &lt;int&gt; | minutes_played_home &lt;int&gt; | ⋯ ⋯ | conceded_per_90_overall &lt;dbl&gt; | min_per_conceded_overall &lt;int&gt; | min_per_match &lt;int&gt; | min_per_card_overall &lt;int&gt; | min_per_assist_overall &lt;int&gt; | cards_per_90_overall &lt;dbl&gt; | rank_in_league_top_attackers &lt;int&gt; | rank_in_league_top_midfielders &lt;int&gt; | rank_in_league_top_defenders &lt;int&gt; | rank_in_club_top_scorer &lt;int&gt; |\n|---|---|---|---|---|---|---|---|---|---|---|---|---|---|---|---|---|---|---|---|---|---|\n| 5 | Aaron Rowe                     | 20 |  968284800 | 2000/09/07 | Premier League | 2018/2019 | Forward    | Huddersfield Town |   69 |   14 | ⋯ | 1.30 | 69 | 35 |   0 |   0 | 0.00 |  -1 |  -1 |  -1 | 31 |\n| 35 | Ali Koiki                      | 20 |  966902400 | 2000/08/22 | Premier League | 2018/2019 | Defender   | Burnley           |    0 |    0 | ⋯ | 0.00 |  0 |  0 |   0 |   0 | 0.00 |  -1 |  -1 |  -1 | -1 |\n| 51 | Angel Gomes                    | 20 |  967680000 | 2000/08/31 | Premier League | 2018/2019 | Midfielder | Manchester United |   25 |   25 | ⋯ | 3.60 | 25 | 13 |   0 |   0 | 0.00 |  -1 |  -1 |  -1 | 19 |\n| 71 | Bakayo Sako                    |  0 |          0 | 1970/01/01 | Premier League | 2018/2019 | Midfielder | Arsenal           |    7 |    7 | ⋯ | 0.00 |  0 |  7 |   0 |   0 | 0.00 |  -1 |  -1 |  -1 | 17 |\n| 93 | Callum Hudson-Odoi             | 20 |  973555200 | 2000/11/07 | Premier League | 2018/2019 | Midfielder | Chelsea           |  391 |  267 | ⋯ | 1.15 | 78 | 39 |   0 | 391 | 0.00 | 277 |  54 |  -1 | 16 |\n| 127 | Curtis Jones                   | 20 |  980812800 | 2001/01/30 | Premier League | 2018/2019 | Midfielder | Liverpool         |    0 |    0 | ⋯ | 0.00 |  0 |  0 |   0 |   0 | 0.00 |  -1 |  -1 |  -1 | -1 |\n| 175 | Emile Smith Rowe               | 20 |  964742400 | 2000/07/28 | Premier League | 2018/2019 | Midfielder | Arsenal           |    0 |    0 | ⋯ | 0.00 |  0 |  0 |   0 |   0 | 0.00 |  -1 |  -1 |  -1 | -1 |\n| 180 | Ethan Ampadu                   | 20 |  968889600 | 2000/09/14 | Premier League | 2018/2019 | Midfielder | Chelsea           |    0 |    0 | ⋯ | 0.00 |  0 |  0 |   0 |   0 | 0.00 |  -1 |  -1 |  -1 | -1 |\n| 220 | Harvey Elliot                  |  0 |          0 | 1970/01/01 | Premier League | 2018/2019 | Forward    | Fulham            |   18 |   16 | ⋯ | 0.00 |  0 |  9 |   0 |   0 | 0.00 |  -1 |  -1 |  -1 | 28 |\n| 244 | James Garner                   | 20 |  984441600 | 2001/03/13 | Premier League | 2018/2019 | Defender   | Manchester United |    0 |    0 | ⋯ | 0.00 |  0 |  0 |   0 |   0 | 0.00 |  -1 |  -1 |  -1 | -1 |\n| 316 | Kayne Ramsey                   | 20 |  971136000 | 2000/10/10 | Premier League | 2018/2019 | Midfielder | Southampton       |   90 |   90 | ⋯ | 3.00 | 30 | 90 |   0 |   0 | 0.00 |  -1 |  -1 |  -1 | 19 |\n| 366 | Marc Guehi                     | 20 |  963446400 | 2000/07/13 | Premier League | 2018/2019 | Defender   | Chelsea           |    0 |    0 | ⋯ | 0.00 |  0 |  0 |   0 |   0 | 0.00 |  -1 |  -1 |  -1 | -1 |\n| 381 | Mason Greenwood                | 19 | 1001894400 | 2001/10/01 | Premier League | 2018/2019 | Midfielder | Manchester United |  115 |  105 | ⋯ | 1.57 | 58 | 38 |   0 |   0 | 0.00 |  -1 |  -1 |  -1 | 27 |\n| 395 | Matty Daly                     | 20 |  984182400 | 2001/03/10 | Premier League | 2018/2019 | Midfielder | Huddersfield Town |   73 |   49 | ⋯ | 1.23 | 73 | 37 |   0 |   0 | 0.00 |  -1 |  -1 |  -1 | 18 |\n| 403 | Michael Obafemi                | 20 |  962841600 | 2000/07/06 | Premier League | 2018/2019 | Forward    | Southampton       |  134 |   64 | ⋯ | 1.34 | 67 | 22 | 134 | 134 | 0.67 |  -1 |  -1 |  -1 | 16 |\n| 434 | Oliver Skipp                   | 20 |  969062400 | 2000/09/16 | Premier League | 2018/2019 | Midfielder | Tottenham Hotspur |  216 |  191 | ⋯ | 0.00 |  0 | 27 |   0 |   0 | 0.00 |  -1 |  -1 |  -1 | 16 |\n| 454 | Philip Foden                   | 20 |  959472000 | 2000/05/28 | Premier League | 2018/2019 | Midfielder | Manchester City   |  327 |  279 | ⋯ | 0.00 |  0 | 25 |   0 |   0 | 0.00 |  67 | 386 |  -1 | 11 |\n| 459 | Rafael Euclides Soares Camacho | 20 |  958953600 | 2000/05/22 | Premier League | 2018/2019 | Midfielder | Liverpool         |    0 |    0 | ⋯ | 0.00 |  0 |  0 |   0 |   0 | 0.00 |  -1 |  -1 |  -1 | -1 |\n| 489 | Ryan Sessegnon                 | 20 |  958608000 | 2000/05/18 | Premier League | 2018/2019 | Defender   | Fulham            | 2298 | 1095 | ⋯ | 2.27 | 40 | 66 |   0 | 383 | 0.00 | 182 |  53 | 168 |  6 |\n| 570 | Zechariah Medley               | 20 |  962928000 | 2000/07/07 | Premier League | 2018/2019 | Defender   | Arsenal           |    0 |    0 | ⋯ | 0.00 |  0 |  0 |   0 |   0 | 0.00 |  -1 |  -1 |  -1 | -1 |\n| 571 | Zeze Steven Sessegnon          | 20 |  958608000 | 2000/05/18 | Premier League | 2018/2019 | Defender   | Fulham            |    0 |    0 | ⋯ | 0.00 |  0 |  0 |   0 |   0 | 0.00 |  -1 |  -1 |  -1 | -1 |\n\n",
            "text/latex": "A data.frame: 21 × 47\n\\begin{tabular}{r|lllllllllllllllllllll}\n  & full\\_name & age & birthday & birthday\\_GMT & league & season & position & Current.Club & minutes\\_played\\_overall & minutes\\_played\\_home & ⋯ & conceded\\_per\\_90\\_overall & min\\_per\\_conceded\\_overall & min\\_per\\_match & min\\_per\\_card\\_overall & min\\_per\\_assist\\_overall & cards\\_per\\_90\\_overall & rank\\_in\\_league\\_top\\_attackers & rank\\_in\\_league\\_top\\_midfielders & rank\\_in\\_league\\_top\\_defenders & rank\\_in\\_club\\_top\\_scorer\\\\\n  & <chr> & <int> & <int> & <chr> & <chr> & <chr> & <chr> & <chr> & <int> & <int> & ⋯ & <dbl> & <int> & <int> & <int> & <int> & <dbl> & <int> & <int> & <int> & <int>\\\\\n\\hline\n\t5 & Aaron Rowe                     & 20 &  968284800 & 2000/09/07 & Premier League & 2018/2019 & Forward    & Huddersfield Town &   69 &   14 & ⋯ & 1.30 & 69 & 35 &   0 &   0 & 0.00 &  -1 &  -1 &  -1 & 31\\\\\n\t35 & Ali Koiki                      & 20 &  966902400 & 2000/08/22 & Premier League & 2018/2019 & Defender   & Burnley           &    0 &    0 & ⋯ & 0.00 &  0 &  0 &   0 &   0 & 0.00 &  -1 &  -1 &  -1 & -1\\\\\n\t51 & Angel Gomes                    & 20 &  967680000 & 2000/08/31 & Premier League & 2018/2019 & Midfielder & Manchester United &   25 &   25 & ⋯ & 3.60 & 25 & 13 &   0 &   0 & 0.00 &  -1 &  -1 &  -1 & 19\\\\\n\t71 & Bakayo Sako                    &  0 &          0 & 1970/01/01 & Premier League & 2018/2019 & Midfielder & Arsenal           &    7 &    7 & ⋯ & 0.00 &  0 &  7 &   0 &   0 & 0.00 &  -1 &  -1 &  -1 & 17\\\\\n\t93 & Callum Hudson-Odoi             & 20 &  973555200 & 2000/11/07 & Premier League & 2018/2019 & Midfielder & Chelsea           &  391 &  267 & ⋯ & 1.15 & 78 & 39 &   0 & 391 & 0.00 & 277 &  54 &  -1 & 16\\\\\n\t127 & Curtis Jones                   & 20 &  980812800 & 2001/01/30 & Premier League & 2018/2019 & Midfielder & Liverpool         &    0 &    0 & ⋯ & 0.00 &  0 &  0 &   0 &   0 & 0.00 &  -1 &  -1 &  -1 & -1\\\\\n\t175 & Emile Smith Rowe               & 20 &  964742400 & 2000/07/28 & Premier League & 2018/2019 & Midfielder & Arsenal           &    0 &    0 & ⋯ & 0.00 &  0 &  0 &   0 &   0 & 0.00 &  -1 &  -1 &  -1 & -1\\\\\n\t180 & Ethan Ampadu                   & 20 &  968889600 & 2000/09/14 & Premier League & 2018/2019 & Midfielder & Chelsea           &    0 &    0 & ⋯ & 0.00 &  0 &  0 &   0 &   0 & 0.00 &  -1 &  -1 &  -1 & -1\\\\\n\t220 & Harvey Elliot                  &  0 &          0 & 1970/01/01 & Premier League & 2018/2019 & Forward    & Fulham            &   18 &   16 & ⋯ & 0.00 &  0 &  9 &   0 &   0 & 0.00 &  -1 &  -1 &  -1 & 28\\\\\n\t244 & James Garner                   & 20 &  984441600 & 2001/03/13 & Premier League & 2018/2019 & Defender   & Manchester United &    0 &    0 & ⋯ & 0.00 &  0 &  0 &   0 &   0 & 0.00 &  -1 &  -1 &  -1 & -1\\\\\n\t316 & Kayne Ramsey                   & 20 &  971136000 & 2000/10/10 & Premier League & 2018/2019 & Midfielder & Southampton       &   90 &   90 & ⋯ & 3.00 & 30 & 90 &   0 &   0 & 0.00 &  -1 &  -1 &  -1 & 19\\\\\n\t366 & Marc Guehi                     & 20 &  963446400 & 2000/07/13 & Premier League & 2018/2019 & Defender   & Chelsea           &    0 &    0 & ⋯ & 0.00 &  0 &  0 &   0 &   0 & 0.00 &  -1 &  -1 &  -1 & -1\\\\\n\t381 & Mason Greenwood                & 19 & 1001894400 & 2001/10/01 & Premier League & 2018/2019 & Midfielder & Manchester United &  115 &  105 & ⋯ & 1.57 & 58 & 38 &   0 &   0 & 0.00 &  -1 &  -1 &  -1 & 27\\\\\n\t395 & Matty Daly                     & 20 &  984182400 & 2001/03/10 & Premier League & 2018/2019 & Midfielder & Huddersfield Town &   73 &   49 & ⋯ & 1.23 & 73 & 37 &   0 &   0 & 0.00 &  -1 &  -1 &  -1 & 18\\\\\n\t403 & Michael Obafemi                & 20 &  962841600 & 2000/07/06 & Premier League & 2018/2019 & Forward    & Southampton       &  134 &   64 & ⋯ & 1.34 & 67 & 22 & 134 & 134 & 0.67 &  -1 &  -1 &  -1 & 16\\\\\n\t434 & Oliver Skipp                   & 20 &  969062400 & 2000/09/16 & Premier League & 2018/2019 & Midfielder & Tottenham Hotspur &  216 &  191 & ⋯ & 0.00 &  0 & 27 &   0 &   0 & 0.00 &  -1 &  -1 &  -1 & 16\\\\\n\t454 & Philip Foden                   & 20 &  959472000 & 2000/05/28 & Premier League & 2018/2019 & Midfielder & Manchester City   &  327 &  279 & ⋯ & 0.00 &  0 & 25 &   0 &   0 & 0.00 &  67 & 386 &  -1 & 11\\\\\n\t459 & Rafael Euclides Soares Camacho & 20 &  958953600 & 2000/05/22 & Premier League & 2018/2019 & Midfielder & Liverpool         &    0 &    0 & ⋯ & 0.00 &  0 &  0 &   0 &   0 & 0.00 &  -1 &  -1 &  -1 & -1\\\\\n\t489 & Ryan Sessegnon                 & 20 &  958608000 & 2000/05/18 & Premier League & 2018/2019 & Defender   & Fulham            & 2298 & 1095 & ⋯ & 2.27 & 40 & 66 &   0 & 383 & 0.00 & 182 &  53 & 168 &  6\\\\\n\t570 & Zechariah Medley               & 20 &  962928000 & 2000/07/07 & Premier League & 2018/2019 & Defender   & Arsenal           &    0 &    0 & ⋯ & 0.00 &  0 &  0 &   0 &   0 & 0.00 &  -1 &  -1 &  -1 & -1\\\\\n\t571 & Zeze Steven Sessegnon          & 20 &  958608000 & 2000/05/18 & Premier League & 2018/2019 & Defender   & Fulham            &    0 &    0 & ⋯ & 0.00 &  0 &  0 &   0 &   0 & 0.00 &  -1 &  -1 &  -1 & -1\\\\\n\\end{tabular}\n",
            "text/plain": [
              "    full_name                      age birthday   birthday_GMT league        \n",
              "5   Aaron Rowe                     20   968284800 2000/09/07   Premier League\n",
              "35  Ali Koiki                      20   966902400 2000/08/22   Premier League\n",
              "51  Angel Gomes                    20   967680000 2000/08/31   Premier League\n",
              "71  Bakayo Sako                     0           0 1970/01/01   Premier League\n",
              "93  Callum Hudson-Odoi             20   973555200 2000/11/07   Premier League\n",
              "127 Curtis Jones                   20   980812800 2001/01/30   Premier League\n",
              "175 Emile Smith Rowe               20   964742400 2000/07/28   Premier League\n",
              "180 Ethan Ampadu                   20   968889600 2000/09/14   Premier League\n",
              "220 Harvey Elliot                   0           0 1970/01/01   Premier League\n",
              "244 James Garner                   20   984441600 2001/03/13   Premier League\n",
              "316 Kayne Ramsey                   20   971136000 2000/10/10   Premier League\n",
              "366 Marc Guehi                     20   963446400 2000/07/13   Premier League\n",
              "381 Mason Greenwood                19  1001894400 2001/10/01   Premier League\n",
              "395 Matty Daly                     20   984182400 2001/03/10   Premier League\n",
              "403 Michael Obafemi                20   962841600 2000/07/06   Premier League\n",
              "434 Oliver Skipp                   20   969062400 2000/09/16   Premier League\n",
              "454 Philip Foden                   20   959472000 2000/05/28   Premier League\n",
              "459 Rafael Euclides Soares Camacho 20   958953600 2000/05/22   Premier League\n",
              "489 Ryan Sessegnon                 20   958608000 2000/05/18   Premier League\n",
              "570 Zechariah Medley               20   962928000 2000/07/07   Premier League\n",
              "571 Zeze Steven Sessegnon          20   958608000 2000/05/18   Premier League\n",
              "    season    position   Current.Club      minutes_played_overall\n",
              "5   2018/2019 Forward    Huddersfield Town   69                  \n",
              "35  2018/2019 Defender   Burnley              0                  \n",
              "51  2018/2019 Midfielder Manchester United   25                  \n",
              "71  2018/2019 Midfielder Arsenal              7                  \n",
              "93  2018/2019 Midfielder Chelsea            391                  \n",
              "127 2018/2019 Midfielder Liverpool            0                  \n",
              "175 2018/2019 Midfielder Arsenal              0                  \n",
              "180 2018/2019 Midfielder Chelsea              0                  \n",
              "220 2018/2019 Forward    Fulham              18                  \n",
              "244 2018/2019 Defender   Manchester United    0                  \n",
              "316 2018/2019 Midfielder Southampton         90                  \n",
              "366 2018/2019 Defender   Chelsea              0                  \n",
              "381 2018/2019 Midfielder Manchester United  115                  \n",
              "395 2018/2019 Midfielder Huddersfield Town   73                  \n",
              "403 2018/2019 Forward    Southampton        134                  \n",
              "434 2018/2019 Midfielder Tottenham Hotspur  216                  \n",
              "454 2018/2019 Midfielder Manchester City    327                  \n",
              "459 2018/2019 Midfielder Liverpool            0                  \n",
              "489 2018/2019 Defender   Fulham            2298                  \n",
              "570 2018/2019 Defender   Arsenal              0                  \n",
              "571 2018/2019 Defender   Fulham               0                  \n",
              "    minutes_played_home ⋯ conceded_per_90_overall min_per_conceded_overall\n",
              "5     14                ⋯ 1.30                    69                      \n",
              "35     0                ⋯ 0.00                     0                      \n",
              "51    25                ⋯ 3.60                    25                      \n",
              "71     7                ⋯ 0.00                     0                      \n",
              "93   267                ⋯ 1.15                    78                      \n",
              "127    0                ⋯ 0.00                     0                      \n",
              "175    0                ⋯ 0.00                     0                      \n",
              "180    0                ⋯ 0.00                     0                      \n",
              "220   16                ⋯ 0.00                     0                      \n",
              "244    0                ⋯ 0.00                     0                      \n",
              "316   90                ⋯ 3.00                    30                      \n",
              "366    0                ⋯ 0.00                     0                      \n",
              "381  105                ⋯ 1.57                    58                      \n",
              "395   49                ⋯ 1.23                    73                      \n",
              "403   64                ⋯ 1.34                    67                      \n",
              "434  191                ⋯ 0.00                     0                      \n",
              "454  279                ⋯ 0.00                     0                      \n",
              "459    0                ⋯ 0.00                     0                      \n",
              "489 1095                ⋯ 2.27                    40                      \n",
              "570    0                ⋯ 0.00                     0                      \n",
              "571    0                ⋯ 0.00                     0                      \n",
              "    min_per_match min_per_card_overall min_per_assist_overall\n",
              "5   35              0                    0                   \n",
              "35   0              0                    0                   \n",
              "51  13              0                    0                   \n",
              "71   7              0                    0                   \n",
              "93  39              0                  391                   \n",
              "127  0              0                    0                   \n",
              "175  0              0                    0                   \n",
              "180  0              0                    0                   \n",
              "220  9              0                    0                   \n",
              "244  0              0                    0                   \n",
              "316 90              0                    0                   \n",
              "366  0              0                    0                   \n",
              "381 38              0                    0                   \n",
              "395 37              0                    0                   \n",
              "403 22            134                  134                   \n",
              "434 27              0                    0                   \n",
              "454 25              0                    0                   \n",
              "459  0              0                    0                   \n",
              "489 66              0                  383                   \n",
              "570  0              0                    0                   \n",
              "571  0              0                    0                   \n",
              "    cards_per_90_overall rank_in_league_top_attackers\n",
              "5   0.00                  -1                         \n",
              "35  0.00                  -1                         \n",
              "51  0.00                  -1                         \n",
              "71  0.00                  -1                         \n",
              "93  0.00                 277                         \n",
              "127 0.00                  -1                         \n",
              "175 0.00                  -1                         \n",
              "180 0.00                  -1                         \n",
              "220 0.00                  -1                         \n",
              "244 0.00                  -1                         \n",
              "316 0.00                  -1                         \n",
              "366 0.00                  -1                         \n",
              "381 0.00                  -1                         \n",
              "395 0.00                  -1                         \n",
              "403 0.67                  -1                         \n",
              "434 0.00                  -1                         \n",
              "454 0.00                  67                         \n",
              "459 0.00                  -1                         \n",
              "489 0.00                 182                         \n",
              "570 0.00                  -1                         \n",
              "571 0.00                  -1                         \n",
              "    rank_in_league_top_midfielders rank_in_league_top_defenders\n",
              "5    -1                             -1                         \n",
              "35   -1                             -1                         \n",
              "51   -1                             -1                         \n",
              "71   -1                             -1                         \n",
              "93   54                             -1                         \n",
              "127  -1                             -1                         \n",
              "175  -1                             -1                         \n",
              "180  -1                             -1                         \n",
              "220  -1                             -1                         \n",
              "244  -1                             -1                         \n",
              "316  -1                             -1                         \n",
              "366  -1                             -1                         \n",
              "381  -1                             -1                         \n",
              "395  -1                             -1                         \n",
              "403  -1                             -1                         \n",
              "434  -1                             -1                         \n",
              "454 386                             -1                         \n",
              "459  -1                             -1                         \n",
              "489  53                            168                         \n",
              "570  -1                             -1                         \n",
              "571  -1                             -1                         \n",
              "    rank_in_club_top_scorer\n",
              "5   31                     \n",
              "35  -1                     \n",
              "51  19                     \n",
              "71  17                     \n",
              "93  16                     \n",
              "127 -1                     \n",
              "175 -1                     \n",
              "180 -1                     \n",
              "220 28                     \n",
              "244 -1                     \n",
              "316 19                     \n",
              "366 -1                     \n",
              "381 27                     \n",
              "395 18                     \n",
              "403 16                     \n",
              "434 16                     \n",
              "454 11                     \n",
              "459 -1                     \n",
              "489  6                     \n",
              "570 -1                     \n",
              "571 -1                     "
            ]
          },
          "metadata": {}
        }
      ]
    },
    {
      "cell_type": "markdown",
      "source": [
        "このことを利用して、\n",
        "\n",
        "* `\"position\"が\"Defender\"`のデータを取り出したい\n",
        "* `\"age\"が20以下`のデータを取り出したい\n",
        "\n",
        "はそれぞれ\n",
        "\n",
        "* `df[df$position == \"Defender\", ]`\n",
        "* `df[df$age <= 20, ]`\n",
        "\n",
        "という形で抽出できます。"
      ],
      "metadata": {
        "id": "izDwQr3V2Ab5"
      }
    },
    {
      "cell_type": "markdown",
      "source": [
        "さらに、ある条件に当てはまるデータの中で特定の列を取り出したい場合、たとえば\n",
        "\n",
        "* `\"position\"が\"Defender\"`なデータの`age`列を取り出したい\n",
        "\n",
        "のような場合です。\n",
        "\n",
        "この場合は、行番号を条件で指定したうえで、列名を指定します。\n",
        "\n",
        "`df[df$position == \"Defender\", \"age\"]`\n",
        "\n",
        "や\n",
        "\n",
        "`df[df$position == \"Defender\", ]$age`\n",
        "\n",
        "で取り出せます。"
      ],
      "metadata": {
        "id": "EHrxV0Qm9m8W"
      }
    },
    {
      "cell_type": "code",
      "source": [
        "df[df$position == \"Defender\", \"age\"]"
      ],
      "metadata": {
        "colab": {
          "base_uri": "https://localhost:8080/",
          "height": 156
        },
        "id": "mMULX30T9-wS",
        "outputId": "fbccdce8-1b00-4a89-ce00-bce8ec1b0e86"
      },
      "execution_count": 37,
      "outputs": [
        {
          "output_type": "display_data",
          "data": {
            "text/html": [
              "<style>\n",
              ".list-inline {list-style: none; margin:0; padding: 0}\n",
              ".list-inline>li {display: inline-block}\n",
              ".list-inline>li:not(:last-child)::after {content: \"\\00b7\"; padding: 0 .5ex}\n",
              "</style>\n",
              "<ol class=list-inline><li>31</li><li>27</li><li>29</li><li>34</li><li>28</li><li>23</li><li>27</li><li>20</li><li>24</li><li>27</li><li>32</li><li>21</li><li>26</li><li>28</li><li>35</li><li>27</li><li>26</li><li>24</li><li>27</li><li>28</li><li>31</li><li>23</li><li>21</li><li>26</li><li>25</li><li>32</li><li>40</li><li>24</li><li>26</li><li>26</li><li>21</li><li>29</li><li>29</li><li>31</li><li>34</li><li>27</li><li>31</li><li>23</li><li>31</li><li>34</li><li>30</li><li>30</li><li>31</li><li>32</li><li>28</li><li>28</li><li>29</li><li>30</li><li>34</li><li>31</li><li>33</li><li>28</li><li>24</li><li>27</li><li>31</li><li>22</li><li>32</li><li>28</li><li>26</li><li>26</li><li>28</li><li>29</li><li>29</li><li>31</li><li>32</li><li>26</li><li>29</li><li>32</li><li>35</li><li>30</li><li>28</li><li>26</li><li>24</li><li>24</li><li>27</li><li>24</li><li>27</li><li>20</li><li>28</li><li>32</li><li>25</li><li>24</li><li>33</li><li>28</li><li>26</li><li>29</li><li>28</li><li>31</li><li>27</li><li>23</li><li>29</li><li>31</li><li>26</li><li>25</li><li>24</li><li>27</li><li>33</li><li>22</li><li>36</li><li>23</li><li>23</li><li>30</li><li>30</li><li>23</li><li>25</li><li>26</li><li>30</li><li>23</li><li>35</li><li>34</li><li>36</li><li>32</li><li>21</li><li>29</li><li>27</li><li>25</li><li>31</li><li>20</li><li>25</li><li>30</li><li>33</li><li>30</li><li>29</li><li>24</li><li>30</li><li>29</li><li>25</li><li>31</li><li>33</li><li>31</li><li>23</li><li>31</li><li>32</li><li>28</li><li>35</li><li>35</li><li>26</li><li>30</li><li>33</li><li>22</li><li>36</li><li>30</li><li>30</li><li>29</li><li>35</li><li>38</li><li>29</li><li>24</li><li>27</li><li>25</li><li>22</li><li>31</li><li>31</li><li>20</li><li>22</li><li>34</li><li>27</li><li>32</li><li>30</li><li>33</li><li>28</li><li>29</li><li>28</li><li>36</li><li>32</li><li>36</li><li>37</li><li>35</li><li>29</li><li>27</li><li>33</li><li>21</li><li>23</li><li>32</li><li>28</li><li>22</li><li>26</li><li>22</li><li>28</li><li>26</li><li>34</li><li>29</li><li>37</li><li>27</li><li>30</li><li>22</li><li>26</li><li>20</li><li>20</li></ol>\n"
            ],
            "text/markdown": "1. 31\n2. 27\n3. 29\n4. 34\n5. 28\n6. 23\n7. 27\n8. 20\n9. 24\n10. 27\n11. 32\n12. 21\n13. 26\n14. 28\n15. 35\n16. 27\n17. 26\n18. 24\n19. 27\n20. 28\n21. 31\n22. 23\n23. 21\n24. 26\n25. 25\n26. 32\n27. 40\n28. 24\n29. 26\n30. 26\n31. 21\n32. 29\n33. 29\n34. 31\n35. 34\n36. 27\n37. 31\n38. 23\n39. 31\n40. 34\n41. 30\n42. 30\n43. 31\n44. 32\n45. 28\n46. 28\n47. 29\n48. 30\n49. 34\n50. 31\n51. 33\n52. 28\n53. 24\n54. 27\n55. 31\n56. 22\n57. 32\n58. 28\n59. 26\n60. 26\n61. 28\n62. 29\n63. 29\n64. 31\n65. 32\n66. 26\n67. 29\n68. 32\n69. 35\n70. 30\n71. 28\n72. 26\n73. 24\n74. 24\n75. 27\n76. 24\n77. 27\n78. 20\n79. 28\n80. 32\n81. 25\n82. 24\n83. 33\n84. 28\n85. 26\n86. 29\n87. 28\n88. 31\n89. 27\n90. 23\n91. 29\n92. 31\n93. 26\n94. 25\n95. 24\n96. 27\n97. 33\n98. 22\n99. 36\n100. 23\n101. 23\n102. 30\n103. 30\n104. 23\n105. 25\n106. 26\n107. 30\n108. 23\n109. 35\n110. 34\n111. 36\n112. 32\n113. 21\n114. 29\n115. 27\n116. 25\n117. 31\n118. 20\n119. 25\n120. 30\n121. 33\n122. 30\n123. 29\n124. 24\n125. 30\n126. 29\n127. 25\n128. 31\n129. 33\n130. 31\n131. 23\n132. 31\n133. 32\n134. 28\n135. 35\n136. 35\n137. 26\n138. 30\n139. 33\n140. 22\n141. 36\n142. 30\n143. 30\n144. 29\n145. 35\n146. 38\n147. 29\n148. 24\n149. 27\n150. 25\n151. 22\n152. 31\n153. 31\n154. 20\n155. 22\n156. 34\n157. 27\n158. 32\n159. 30\n160. 33\n161. 28\n162. 29\n163. 28\n164. 36\n165. 32\n166. 36\n167. 37\n168. 35\n169. 29\n170. 27\n171. 33\n172. 21\n173. 23\n174. 32\n175. 28\n176. 22\n177. 26\n178. 22\n179. 28\n180. 26\n181. 34\n182. 29\n183. 37\n184. 27\n185. 30\n186. 22\n187. 26\n188. 20\n189. 20\n\n\n",
            "text/latex": "\\begin{enumerate*}\n\\item 31\n\\item 27\n\\item 29\n\\item 34\n\\item 28\n\\item 23\n\\item 27\n\\item 20\n\\item 24\n\\item 27\n\\item 32\n\\item 21\n\\item 26\n\\item 28\n\\item 35\n\\item 27\n\\item 26\n\\item 24\n\\item 27\n\\item 28\n\\item 31\n\\item 23\n\\item 21\n\\item 26\n\\item 25\n\\item 32\n\\item 40\n\\item 24\n\\item 26\n\\item 26\n\\item 21\n\\item 29\n\\item 29\n\\item 31\n\\item 34\n\\item 27\n\\item 31\n\\item 23\n\\item 31\n\\item 34\n\\item 30\n\\item 30\n\\item 31\n\\item 32\n\\item 28\n\\item 28\n\\item 29\n\\item 30\n\\item 34\n\\item 31\n\\item 33\n\\item 28\n\\item 24\n\\item 27\n\\item 31\n\\item 22\n\\item 32\n\\item 28\n\\item 26\n\\item 26\n\\item 28\n\\item 29\n\\item 29\n\\item 31\n\\item 32\n\\item 26\n\\item 29\n\\item 32\n\\item 35\n\\item 30\n\\item 28\n\\item 26\n\\item 24\n\\item 24\n\\item 27\n\\item 24\n\\item 27\n\\item 20\n\\item 28\n\\item 32\n\\item 25\n\\item 24\n\\item 33\n\\item 28\n\\item 26\n\\item 29\n\\item 28\n\\item 31\n\\item 27\n\\item 23\n\\item 29\n\\item 31\n\\item 26\n\\item 25\n\\item 24\n\\item 27\n\\item 33\n\\item 22\n\\item 36\n\\item 23\n\\item 23\n\\item 30\n\\item 30\n\\item 23\n\\item 25\n\\item 26\n\\item 30\n\\item 23\n\\item 35\n\\item 34\n\\item 36\n\\item 32\n\\item 21\n\\item 29\n\\item 27\n\\item 25\n\\item 31\n\\item 20\n\\item 25\n\\item 30\n\\item 33\n\\item 30\n\\item 29\n\\item 24\n\\item 30\n\\item 29\n\\item 25\n\\item 31\n\\item 33\n\\item 31\n\\item 23\n\\item 31\n\\item 32\n\\item 28\n\\item 35\n\\item 35\n\\item 26\n\\item 30\n\\item 33\n\\item 22\n\\item 36\n\\item 30\n\\item 30\n\\item 29\n\\item 35\n\\item 38\n\\item 29\n\\item 24\n\\item 27\n\\item 25\n\\item 22\n\\item 31\n\\item 31\n\\item 20\n\\item 22\n\\item 34\n\\item 27\n\\item 32\n\\item 30\n\\item 33\n\\item 28\n\\item 29\n\\item 28\n\\item 36\n\\item 32\n\\item 36\n\\item 37\n\\item 35\n\\item 29\n\\item 27\n\\item 33\n\\item 21\n\\item 23\n\\item 32\n\\item 28\n\\item 22\n\\item 26\n\\item 22\n\\item 28\n\\item 26\n\\item 34\n\\item 29\n\\item 37\n\\item 27\n\\item 30\n\\item 22\n\\item 26\n\\item 20\n\\item 20\n\\end{enumerate*}\n",
            "text/plain": [
              "  [1] 31 27 29 34 28 23 27 20 24 27 32 21 26 28 35 27 26 24 27 28 31 23 21 26 25\n",
              " [26] 32 40 24 26 26 21 29 29 31 34 27 31 23 31 34 30 30 31 32 28 28 29 30 34 31\n",
              " [51] 33 28 24 27 31 22 32 28 26 26 28 29 29 31 32 26 29 32 35 30 28 26 24 24 27\n",
              " [76] 24 27 20 28 32 25 24 33 28 26 29 28 31 27 23 29 31 26 25 24 27 33 22 36 23\n",
              "[101] 23 30 30 23 25 26 30 23 35 34 36 32 21 29 27 25 31 20 25 30 33 30 29 24 30\n",
              "[126] 29 25 31 33 31 23 31 32 28 35 35 26 30 33 22 36 30 30 29 35 38 29 24 27 25\n",
              "[151] 22 31 31 20 22 34 27 32 30 33 28 29 28 36 32 36 37 35 29 27 33 21 23 32 28\n",
              "[176] 22 26 22 28 26 34 29 37 27 30 22 26 20 20"
            ]
          },
          "metadata": {}
        }
      ]
    },
    {
      "cell_type": "markdown",
      "source": [
        "### 複数条件による抽出\n",
        "\n",
        "条件を重ねることも可能です。例えば\n",
        "\n",
        "* `\"position\"が\"Defender\"`かつ`\"age\"が20以下`のデータを取り出したい\n",
        "* `\"position\"が\"Goalkeeper\"`または`\"age\"が20以下`のデータを取り出したい\n",
        "\n",
        "等です。\n",
        "\n",
        "条件を重ねるには、`&`や`|`を使用します。\n",
        "\n",
        "* `(条件1)&(条件2)` ... 条件1かつ条件2\n",
        "* `(条件1)|(条件2)` ... 条件1または条件2\n",
        "\n",
        "`\"position\"が\"Defender\"`かつ`\"age\"が20以下`の場合は、\n",
        "\n",
        "`(df$position == \"Defender\") & (df$age <= 20)`という形です。\n",
        "\n",
        "これを行番号の代わりに指定します。"
      ],
      "metadata": {
        "id": "OV08xC5K2b06"
      }
    },
    {
      "cell_type": "code",
      "source": [
        "df[(df$position == \"Defender\") & (df$age <= 20), ]"
      ],
      "metadata": {
        "colab": {
          "base_uri": "https://localhost:8080/",
          "height": 427
        },
        "id": "fPnrCutN4EnY",
        "outputId": "6e3f930e-a53c-4710-c253-63f8a60d31f6"
      },
      "execution_count": 38,
      "outputs": [
        {
          "output_type": "display_data",
          "data": {
            "text/html": [
              "<table class=\"dataframe\">\n",
              "<caption>A data.frame: 6 × 47</caption>\n",
              "<thead>\n",
              "\t<tr><th></th><th scope=col>full_name</th><th scope=col>age</th><th scope=col>birthday</th><th scope=col>birthday_GMT</th><th scope=col>league</th><th scope=col>season</th><th scope=col>position</th><th scope=col>Current.Club</th><th scope=col>minutes_played_overall</th><th scope=col>minutes_played_home</th><th scope=col>⋯</th><th scope=col>conceded_per_90_overall</th><th scope=col>min_per_conceded_overall</th><th scope=col>min_per_match</th><th scope=col>min_per_card_overall</th><th scope=col>min_per_assist_overall</th><th scope=col>cards_per_90_overall</th><th scope=col>rank_in_league_top_attackers</th><th scope=col>rank_in_league_top_midfielders</th><th scope=col>rank_in_league_top_defenders</th><th scope=col>rank_in_club_top_scorer</th></tr>\n",
              "\t<tr><th></th><th scope=col>&lt;chr&gt;</th><th scope=col>&lt;int&gt;</th><th scope=col>&lt;int&gt;</th><th scope=col>&lt;chr&gt;</th><th scope=col>&lt;chr&gt;</th><th scope=col>&lt;chr&gt;</th><th scope=col>&lt;chr&gt;</th><th scope=col>&lt;chr&gt;</th><th scope=col>&lt;int&gt;</th><th scope=col>&lt;int&gt;</th><th scope=col>⋯</th><th scope=col>&lt;dbl&gt;</th><th scope=col>&lt;int&gt;</th><th scope=col>&lt;int&gt;</th><th scope=col>&lt;int&gt;</th><th scope=col>&lt;int&gt;</th><th scope=col>&lt;dbl&gt;</th><th scope=col>&lt;int&gt;</th><th scope=col>&lt;int&gt;</th><th scope=col>&lt;int&gt;</th><th scope=col>&lt;int&gt;</th></tr>\n",
              "</thead>\n",
              "<tbody>\n",
              "\t<tr><th scope=row>35</th><td>Ali Koiki            </td><td>20</td><td>966902400</td><td>2000/08/22</td><td>Premier League</td><td>2018/2019</td><td>Defender</td><td>Burnley          </td><td>   0</td><td>   0</td><td>⋯</td><td>0.00</td><td> 0</td><td> 0</td><td>0</td><td>  0</td><td>0</td><td> -1</td><td>-1</td><td> -1</td><td>-1</td></tr>\n",
              "\t<tr><th scope=row>244</th><td>James Garner         </td><td>20</td><td>984441600</td><td>2001/03/13</td><td>Premier League</td><td>2018/2019</td><td>Defender</td><td>Manchester United</td><td>   0</td><td>   0</td><td>⋯</td><td>0.00</td><td> 0</td><td> 0</td><td>0</td><td>  0</td><td>0</td><td> -1</td><td>-1</td><td> -1</td><td>-1</td></tr>\n",
              "\t<tr><th scope=row>366</th><td>Marc Guehi           </td><td>20</td><td>963446400</td><td>2000/07/13</td><td>Premier League</td><td>2018/2019</td><td>Defender</td><td>Chelsea          </td><td>   0</td><td>   0</td><td>⋯</td><td>0.00</td><td> 0</td><td> 0</td><td>0</td><td>  0</td><td>0</td><td> -1</td><td>-1</td><td> -1</td><td>-1</td></tr>\n",
              "\t<tr><th scope=row>489</th><td>Ryan Sessegnon       </td><td>20</td><td>958608000</td><td>2000/05/18</td><td>Premier League</td><td>2018/2019</td><td>Defender</td><td>Fulham           </td><td>2298</td><td>1095</td><td>⋯</td><td>2.27</td><td>40</td><td>66</td><td>0</td><td>383</td><td>0</td><td>182</td><td>53</td><td>168</td><td> 6</td></tr>\n",
              "\t<tr><th scope=row>570</th><td>Zechariah Medley     </td><td>20</td><td>962928000</td><td>2000/07/07</td><td>Premier League</td><td>2018/2019</td><td>Defender</td><td>Arsenal          </td><td>   0</td><td>   0</td><td>⋯</td><td>0.00</td><td> 0</td><td> 0</td><td>0</td><td>  0</td><td>0</td><td> -1</td><td>-1</td><td> -1</td><td>-1</td></tr>\n",
              "\t<tr><th scope=row>571</th><td>Zeze Steven Sessegnon</td><td>20</td><td>958608000</td><td>2000/05/18</td><td>Premier League</td><td>2018/2019</td><td>Defender</td><td>Fulham           </td><td>   0</td><td>   0</td><td>⋯</td><td>0.00</td><td> 0</td><td> 0</td><td>0</td><td>  0</td><td>0</td><td> -1</td><td>-1</td><td> -1</td><td>-1</td></tr>\n",
              "</tbody>\n",
              "</table>\n"
            ],
            "text/markdown": "\nA data.frame: 6 × 47\n\n| <!--/--> | full_name &lt;chr&gt; | age &lt;int&gt; | birthday &lt;int&gt; | birthday_GMT &lt;chr&gt; | league &lt;chr&gt; | season &lt;chr&gt; | position &lt;chr&gt; | Current.Club &lt;chr&gt; | minutes_played_overall &lt;int&gt; | minutes_played_home &lt;int&gt; | ⋯ ⋯ | conceded_per_90_overall &lt;dbl&gt; | min_per_conceded_overall &lt;int&gt; | min_per_match &lt;int&gt; | min_per_card_overall &lt;int&gt; | min_per_assist_overall &lt;int&gt; | cards_per_90_overall &lt;dbl&gt; | rank_in_league_top_attackers &lt;int&gt; | rank_in_league_top_midfielders &lt;int&gt; | rank_in_league_top_defenders &lt;int&gt; | rank_in_club_top_scorer &lt;int&gt; |\n|---|---|---|---|---|---|---|---|---|---|---|---|---|---|---|---|---|---|---|---|---|---|\n| 35 | Ali Koiki             | 20 | 966902400 | 2000/08/22 | Premier League | 2018/2019 | Defender | Burnley           |    0 |    0 | ⋯ | 0.00 |  0 |  0 | 0 |   0 | 0 |  -1 | -1 |  -1 | -1 |\n| 244 | James Garner          | 20 | 984441600 | 2001/03/13 | Premier League | 2018/2019 | Defender | Manchester United |    0 |    0 | ⋯ | 0.00 |  0 |  0 | 0 |   0 | 0 |  -1 | -1 |  -1 | -1 |\n| 366 | Marc Guehi            | 20 | 963446400 | 2000/07/13 | Premier League | 2018/2019 | Defender | Chelsea           |    0 |    0 | ⋯ | 0.00 |  0 |  0 | 0 |   0 | 0 |  -1 | -1 |  -1 | -1 |\n| 489 | Ryan Sessegnon        | 20 | 958608000 | 2000/05/18 | Premier League | 2018/2019 | Defender | Fulham            | 2298 | 1095 | ⋯ | 2.27 | 40 | 66 | 0 | 383 | 0 | 182 | 53 | 168 |  6 |\n| 570 | Zechariah Medley      | 20 | 962928000 | 2000/07/07 | Premier League | 2018/2019 | Defender | Arsenal           |    0 |    0 | ⋯ | 0.00 |  0 |  0 | 0 |   0 | 0 |  -1 | -1 |  -1 | -1 |\n| 571 | Zeze Steven Sessegnon | 20 | 958608000 | 2000/05/18 | Premier League | 2018/2019 | Defender | Fulham            |    0 |    0 | ⋯ | 0.00 |  0 |  0 | 0 |   0 | 0 |  -1 | -1 |  -1 | -1 |\n\n",
            "text/latex": "A data.frame: 6 × 47\n\\begin{tabular}{r|lllllllllllllllllllll}\n  & full\\_name & age & birthday & birthday\\_GMT & league & season & position & Current.Club & minutes\\_played\\_overall & minutes\\_played\\_home & ⋯ & conceded\\_per\\_90\\_overall & min\\_per\\_conceded\\_overall & min\\_per\\_match & min\\_per\\_card\\_overall & min\\_per\\_assist\\_overall & cards\\_per\\_90\\_overall & rank\\_in\\_league\\_top\\_attackers & rank\\_in\\_league\\_top\\_midfielders & rank\\_in\\_league\\_top\\_defenders & rank\\_in\\_club\\_top\\_scorer\\\\\n  & <chr> & <int> & <int> & <chr> & <chr> & <chr> & <chr> & <chr> & <int> & <int> & ⋯ & <dbl> & <int> & <int> & <int> & <int> & <dbl> & <int> & <int> & <int> & <int>\\\\\n\\hline\n\t35 & Ali Koiki             & 20 & 966902400 & 2000/08/22 & Premier League & 2018/2019 & Defender & Burnley           &    0 &    0 & ⋯ & 0.00 &  0 &  0 & 0 &   0 & 0 &  -1 & -1 &  -1 & -1\\\\\n\t244 & James Garner          & 20 & 984441600 & 2001/03/13 & Premier League & 2018/2019 & Defender & Manchester United &    0 &    0 & ⋯ & 0.00 &  0 &  0 & 0 &   0 & 0 &  -1 & -1 &  -1 & -1\\\\\n\t366 & Marc Guehi            & 20 & 963446400 & 2000/07/13 & Premier League & 2018/2019 & Defender & Chelsea           &    0 &    0 & ⋯ & 0.00 &  0 &  0 & 0 &   0 & 0 &  -1 & -1 &  -1 & -1\\\\\n\t489 & Ryan Sessegnon        & 20 & 958608000 & 2000/05/18 & Premier League & 2018/2019 & Defender & Fulham            & 2298 & 1095 & ⋯ & 2.27 & 40 & 66 & 0 & 383 & 0 & 182 & 53 & 168 &  6\\\\\n\t570 & Zechariah Medley      & 20 & 962928000 & 2000/07/07 & Premier League & 2018/2019 & Defender & Arsenal           &    0 &    0 & ⋯ & 0.00 &  0 &  0 & 0 &   0 & 0 &  -1 & -1 &  -1 & -1\\\\\n\t571 & Zeze Steven Sessegnon & 20 & 958608000 & 2000/05/18 & Premier League & 2018/2019 & Defender & Fulham            &    0 &    0 & ⋯ & 0.00 &  0 &  0 & 0 &   0 & 0 &  -1 & -1 &  -1 & -1\\\\\n\\end{tabular}\n",
            "text/plain": [
              "    full_name             age birthday  birthday_GMT league         season   \n",
              "35  Ali Koiki             20  966902400 2000/08/22   Premier League 2018/2019\n",
              "244 James Garner          20  984441600 2001/03/13   Premier League 2018/2019\n",
              "366 Marc Guehi            20  963446400 2000/07/13   Premier League 2018/2019\n",
              "489 Ryan Sessegnon        20  958608000 2000/05/18   Premier League 2018/2019\n",
              "570 Zechariah Medley      20  962928000 2000/07/07   Premier League 2018/2019\n",
              "571 Zeze Steven Sessegnon 20  958608000 2000/05/18   Premier League 2018/2019\n",
              "    position Current.Club      minutes_played_overall minutes_played_home ⋯\n",
              "35  Defender Burnley              0                      0                ⋯\n",
              "244 Defender Manchester United    0                      0                ⋯\n",
              "366 Defender Chelsea              0                      0                ⋯\n",
              "489 Defender Fulham            2298                   1095                ⋯\n",
              "570 Defender Arsenal              0                      0                ⋯\n",
              "571 Defender Fulham               0                      0                ⋯\n",
              "    conceded_per_90_overall min_per_conceded_overall min_per_match\n",
              "35  0.00                     0                        0           \n",
              "244 0.00                     0                        0           \n",
              "366 0.00                     0                        0           \n",
              "489 2.27                    40                       66           \n",
              "570 0.00                     0                        0           \n",
              "571 0.00                     0                        0           \n",
              "    min_per_card_overall min_per_assist_overall cards_per_90_overall\n",
              "35  0                      0                    0                   \n",
              "244 0                      0                    0                   \n",
              "366 0                      0                    0                   \n",
              "489 0                    383                    0                   \n",
              "570 0                      0                    0                   \n",
              "571 0                      0                    0                   \n",
              "    rank_in_league_top_attackers rank_in_league_top_midfielders\n",
              "35   -1                          -1                            \n",
              "244  -1                          -1                            \n",
              "366  -1                          -1                            \n",
              "489 182                          53                            \n",
              "570  -1                          -1                            \n",
              "571  -1                          -1                            \n",
              "    rank_in_league_top_defenders rank_in_club_top_scorer\n",
              "35   -1                          -1                     \n",
              "244  -1                          -1                     \n",
              "366  -1                          -1                     \n",
              "489 168                           6                     \n",
              "570  -1                          -1                     \n",
              "571  -1                          -1                     "
            ]
          },
          "metadata": {}
        }
      ]
    },
    {
      "cell_type": "markdown",
      "source": [
        "`\"position\"が\"Goalkeeper\"`または`\"age\"が20以下`の場合は、\n",
        "\n",
        "`(df$position == \"Goalkeeper\") | (df$age <= 20)`となります。"
      ],
      "metadata": {
        "id": "OQIhrUlT4Jbc"
      }
    },
    {
      "cell_type": "code",
      "source": [
        "df[(df$position == \"Goalkeeper\") | (df$age <= 20), ]"
      ],
      "metadata": {
        "colab": {
          "base_uri": "https://localhost:8080/",
          "height": 1000
        },
        "id": "3bzAc2Ft4UnF",
        "outputId": "8285b575-da06-4bde-cfbb-6683f57171af"
      },
      "execution_count": 39,
      "outputs": [
        {
          "output_type": "display_data",
          "data": {
            "text/html": [
              "<table class=\"dataframe\">\n",
              "<caption>A data.frame: 78 × 47</caption>\n",
              "<thead>\n",
              "\t<tr><th></th><th scope=col>full_name</th><th scope=col>age</th><th scope=col>birthday</th><th scope=col>birthday_GMT</th><th scope=col>league</th><th scope=col>season</th><th scope=col>position</th><th scope=col>Current.Club</th><th scope=col>minutes_played_overall</th><th scope=col>minutes_played_home</th><th scope=col>⋯</th><th scope=col>conceded_per_90_overall</th><th scope=col>min_per_conceded_overall</th><th scope=col>min_per_match</th><th scope=col>min_per_card_overall</th><th scope=col>min_per_assist_overall</th><th scope=col>cards_per_90_overall</th><th scope=col>rank_in_league_top_attackers</th><th scope=col>rank_in_league_top_midfielders</th><th scope=col>rank_in_league_top_defenders</th><th scope=col>rank_in_club_top_scorer</th></tr>\n",
              "\t<tr><th></th><th scope=col>&lt;chr&gt;</th><th scope=col>&lt;int&gt;</th><th scope=col>&lt;int&gt;</th><th scope=col>&lt;chr&gt;</th><th scope=col>&lt;chr&gt;</th><th scope=col>&lt;chr&gt;</th><th scope=col>&lt;chr&gt;</th><th scope=col>&lt;chr&gt;</th><th scope=col>&lt;int&gt;</th><th scope=col>&lt;int&gt;</th><th scope=col>⋯</th><th scope=col>&lt;dbl&gt;</th><th scope=col>&lt;int&gt;</th><th scope=col>&lt;int&gt;</th><th scope=col>&lt;int&gt;</th><th scope=col>&lt;int&gt;</th><th scope=col>&lt;dbl&gt;</th><th scope=col>&lt;int&gt;</th><th scope=col>&lt;int&gt;</th><th scope=col>&lt;int&gt;</th><th scope=col>&lt;int&gt;</th></tr>\n",
              "</thead>\n",
              "<tbody>\n",
              "\t<tr><th scope=row>5</th><td>Aaron Rowe                    </td><td>20</td><td>968284800</td><td>2000/09/07</td><td>Premier League</td><td>2018/2019</td><td>Forward   </td><td>Huddersfield Town     </td><td>  69</td><td>  14</td><td>⋯</td><td>1.30</td><td> 69</td><td>35</td><td>   0</td><td>   0</td><td>0.00</td><td> -1</td><td> -1</td><td> -1</td><td>31</td></tr>\n",
              "\t<tr><th scope=row>18</th><td>Adrián San Miguel del Castillo</td><td>34</td><td>536630400</td><td>1987/01/03</td><td>Premier League</td><td>2018/2019</td><td>Goalkeeper</td><td>West Ham United       </td><td>   0</td><td>   0</td><td>⋯</td><td>0.00</td><td>  0</td><td> 0</td><td>   0</td><td>   0</td><td>0.00</td><td> -1</td><td> -1</td><td> -1</td><td>-1</td></tr>\n",
              "\t<tr><th scope=row>24</th><td>Alex McCarthy                 </td><td>31</td><td>628646400</td><td>1989/12/03</td><td>Premier League</td><td>2018/2019</td><td>Goalkeeper</td><td>Southampton           </td><td>2250</td><td>1170</td><td>⋯</td><td>1.48</td><td> 61</td><td>90</td><td>2250</td><td>   0</td><td>0.04</td><td>372</td><td>365</td><td>114</td><td>21</td></tr>\n",
              "\t<tr><th scope=row>27</th><td>Alex Smithies                 </td><td>31</td><td>636595200</td><td>1990/03/05</td><td>Premier League</td><td>2018/2019</td><td>Goalkeeper</td><td>Cardiff City          </td><td>   0</td><td>   0</td><td>⋯</td><td>0.00</td><td>  0</td><td> 0</td><td>   0</td><td>   0</td><td>0.00</td><td> -1</td><td> -1</td><td> -1</td><td>-1</td></tr>\n",
              "\t<tr><th scope=row>34</th><td>Alfie Whiteman                </td><td>22</td><td>907286400</td><td>1998/10/02</td><td>Premier League</td><td>2018/2019</td><td>Goalkeeper</td><td>Tottenham Hotspur     </td><td>   0</td><td>   0</td><td>⋯</td><td>0.00</td><td>  0</td><td> 0</td><td>   0</td><td>   0</td><td>0.00</td><td> -1</td><td> -1</td><td> -1</td><td>-1</td></tr>\n",
              "\t<tr><th scope=row>35</th><td>Ali Koiki                     </td><td>20</td><td>966902400</td><td>2000/08/22</td><td>Premier League</td><td>2018/2019</td><td>Defender  </td><td>Burnley               </td><td>   0</td><td>   0</td><td>⋯</td><td>0.00</td><td>  0</td><td> 0</td><td>   0</td><td>   0</td><td>0.00</td><td> -1</td><td> -1</td><td> -1</td><td>-1</td></tr>\n",
              "\t<tr><th scope=row>37</th><td>Alisson Becker                </td><td>28</td><td>717984000</td><td>1992/10/02</td><td>Premier League</td><td>2018/2019</td><td>Goalkeeper</td><td>Liverpool             </td><td>3420</td><td>1710</td><td>⋯</td><td>0.50</td><td>180</td><td>90</td><td>3420</td><td>   0</td><td>0.03</td><td>417</td><td>387</td><td>  3</td><td>16</td></tr>\n",
              "\t<tr><th scope=row>51</th><td>Angel Gomes                   </td><td>20</td><td>967680000</td><td>2000/08/31</td><td>Premier League</td><td>2018/2019</td><td>Midfielder</td><td>Manchester United     </td><td>  25</td><td>  25</td><td>⋯</td><td>3.60</td><td> 25</td><td>13</td><td>   0</td><td>   0</td><td>0.00</td><td> -1</td><td> -1</td><td> -1</td><td>19</td></tr>\n",
              "\t<tr><th scope=row>53</th><td>Angus Gunn                    </td><td>25</td><td>822268800</td><td>1996/01/22</td><td>Premier League</td><td>2018/2019</td><td>Goalkeeper</td><td>Southampton           </td><td>1080</td><td> 540</td><td>⋯</td><td>1.42</td><td> 64</td><td>90</td><td>   0</td><td>   0</td><td>0.00</td><td>376</td><td>339</td><td>104</td><td>25</td></tr>\n",
              "\t<tr><th scope=row>60</th><td>Arijanet Muric                </td><td>22</td><td>910396800</td><td>1998/11/07</td><td>Premier League</td><td>2018/2019</td><td>Goalkeeper</td><td>Manchester City       </td><td>   0</td><td>   0</td><td>⋯</td><td>0.00</td><td>  0</td><td> 0</td><td>   0</td><td>   0</td><td>0.00</td><td> -1</td><td> -1</td><td> -1</td><td>-1</td></tr>\n",
              "\t<tr><th scope=row>63</th><td>Artur Boruc                   </td><td>41</td><td>319852800</td><td>1980/02/20</td><td>Premier League</td><td>2018/2019</td><td>Goalkeeper</td><td>AFC Bournemouth       </td><td>1080</td><td> 540</td><td>⋯</td><td>1.42</td><td> 64</td><td>90</td><td> 540</td><td>   0</td><td>0.17</td><td>361</td><td>394</td><td>100</td><td>20</td></tr>\n",
              "\t<tr><th scope=row>67</th><td>Asmir Begović                 </td><td>33</td><td>551145600</td><td>1987/06/20</td><td>Premier League</td><td>2018/2019</td><td>Goalkeeper</td><td>AFC Bournemouth       </td><td>2160</td><td>1080</td><td>⋯</td><td>1.83</td><td> 49</td><td>90</td><td>   0</td><td>   0</td><td>0.00</td><td>358</td><td>273</td><td>154</td><td>19</td></tr>\n",
              "\t<tr><th scope=row>71</th><td>Bakayo Sako                   </td><td> 0</td><td>        0</td><td>1970/01/01</td><td>Premier League</td><td>2018/2019</td><td>Midfielder</td><td>Arsenal               </td><td>   7</td><td>   7</td><td>⋯</td><td>0.00</td><td>  0</td><td> 7</td><td>   0</td><td>   0</td><td>0.00</td><td> -1</td><td> -1</td><td> -1</td><td>17</td></tr>\n",
              "\t<tr><th scope=row>74</th><td>Ben Foster                    </td><td>37</td><td>418176000</td><td>1983/04/03</td><td>Premier League</td><td>2018/2019</td><td>Goalkeeper</td><td>Watford               </td><td>3420</td><td>1710</td><td>⋯</td><td>1.50</td><td> 60</td><td>90</td><td>3420</td><td>   0</td><td>0.03</td><td>365</td><td>353</td><td>116</td><td>18</td></tr>\n",
              "\t<tr><th scope=row>76</th><td>Ben Hamer                     </td><td>33</td><td>564364800</td><td>1987/11/20</td><td>Premier League</td><td>2018/2019</td><td>Goalkeeper</td><td>Huddersfield Town     </td><td> 553</td><td> 283</td><td>⋯</td><td>3.25</td><td> 28</td><td>79</td><td>   0</td><td>   0</td><td>0.00</td><td>327</td><td>348</td><td>175</td><td>14</td></tr>\n",
              "\t<tr><th scope=row>86</th><td>Bernd Leno                    </td><td>29</td><td>699667200</td><td>1992/03/04</td><td>Premier League</td><td>2018/2019</td><td>Goalkeeper</td><td>Arsenal               </td><td>2835</td><td>1395</td><td>⋯</td><td>1.24</td><td> 73</td><td>89</td><td>   0</td><td>   0</td><td>0.00</td><td>390</td><td>413</td><td> 76</td><td>23</td></tr>\n",
              "\t<tr><th scope=row>88</th><td>Brian Murphy                  </td><td>37</td><td>421113600</td><td>1983/05/07</td><td>Premier League</td><td>2018/2019</td><td>Goalkeeper</td><td>Cardiff City          </td><td>   0</td><td>   0</td><td>⋯</td><td>0.00</td><td>  0</td><td> 0</td><td>   0</td><td>   0</td><td>0.00</td><td> -1</td><td> -1</td><td> -1</td><td>-1</td></tr>\n",
              "\t<tr><th scope=row>93</th><td>Callum Hudson-Odoi            </td><td>20</td><td>973555200</td><td>2000/11/07</td><td>Premier League</td><td>2018/2019</td><td>Midfielder</td><td>Chelsea               </td><td> 391</td><td> 267</td><td>⋯</td><td>1.15</td><td> 78</td><td>39</td><td>   0</td><td> 391</td><td>0.00</td><td>277</td><td> 54</td><td> -1</td><td>16</td></tr>\n",
              "\t<tr><th scope=row>121</th><td>Claudio Andrés Bravo Muñoz    </td><td>37</td><td>419040000</td><td>1983/04/13</td><td>Premier League</td><td>2018/2019</td><td>Goalkeeper</td><td>Manchester City       </td><td>   0</td><td>   0</td><td>⋯</td><td>0.00</td><td>  0</td><td> 0</td><td>   0</td><td>   0</td><td>0.00</td><td> -1</td><td> -1</td><td> -1</td><td>-1</td></tr>\n",
              "\t<tr><th scope=row>127</th><td>Curtis Jones                  </td><td>20</td><td>980812800</td><td>2001/01/30</td><td>Premier League</td><td>2018/2019</td><td>Midfielder</td><td>Liverpool             </td><td>   0</td><td>   0</td><td>⋯</td><td>0.00</td><td>  0</td><td> 0</td><td>   0</td><td>   0</td><td>0.00</td><td> -1</td><td> -1</td><td> -1</td><td>-1</td></tr>\n",
              "\t<tr><th scope=row>130</th><td>Damián Emiliano Martínez      </td><td>28</td><td>715392000</td><td>1992/09/02</td><td>Premier League</td><td>2018/2019</td><td>Goalkeeper</td><td>Arsenal               </td><td>   0</td><td>   0</td><td>⋯</td><td>0.00</td><td>  0</td><td> 0</td><td>   0</td><td>   0</td><td>0.00</td><td> -1</td><td> -1</td><td> -1</td><td>-1</td></tr>\n",
              "\t<tr><th scope=row>141</th><td>Danny Ward                    </td><td>27</td><td>740707200</td><td>1993/06/22</td><td>Premier League</td><td>2018/2019</td><td>Goalkeeper</td><td>Leicester City        </td><td>   0</td><td>   0</td><td>⋯</td><td>0.00</td><td>  0</td><td> 0</td><td>   0</td><td>   0</td><td>0.00</td><td> -1</td><td> -1</td><td> -1</td><td>-1</td></tr>\n",
              "\t<tr><th scope=row>146</th><td><span style=white-space:pre-wrap>David Button                  </span></td><td>32</td><td>604540800</td><td>1989/02/27</td><td>Premier League</td><td>2018/2019</td><td>Goalkeeper</td><td>Brighton &amp; Hove Albion</td><td> 360</td><td> 180</td><td>⋯</td><td>1.25</td><td> 72</td><td>90</td><td><span style=white-space:pre-wrap>   0</span></td><td><span style=white-space:pre-wrap>   0</span></td><td>0.00</td><td>404</td><td>327</td><td> 79</td><td>14</td></tr>\n",
              "\t<tr><th scope=row>147</th><td>David de Gea                  </td><td>30</td><td>657936000</td><td>1990/11/07</td><td>Premier League</td><td>2018/2019</td><td>Goalkeeper</td><td>Manchester United     </td><td>3420</td><td>1710</td><td>⋯</td><td>1.34</td><td> 67</td><td>90</td><td>3420</td><td>   0</td><td>0.03</td><td>310</td><td>419</td><td> 91</td><td>18</td></tr>\n",
              "\t<tr><th scope=row>170</th><td>Ederson                       </td><td>27</td><td>745545600</td><td>1993/08/17</td><td>Premier League</td><td>2018/2019</td><td>Goalkeeper</td><td>Manchester City       </td><td>3420</td><td>1710</td><td>⋯</td><td>0.61</td><td>149</td><td>90</td><td>1710</td><td>3420</td><td>0.05</td><td>366</td><td>240</td><td> 13</td><td>21</td></tr>\n",
              "\t<tr><th scope=row>175</th><td>Emile Smith Rowe              </td><td>20</td><td>964742400</td><td>2000/07/28</td><td>Premier League</td><td>2018/2019</td><td>Midfielder</td><td>Arsenal               </td><td>   0</td><td>   0</td><td>⋯</td><td>0.00</td><td>  0</td><td> 0</td><td>   0</td><td>   0</td><td>0.00</td><td> -1</td><td> -1</td><td> -1</td><td>-1</td></tr>\n",
              "\t<tr><th scope=row>180</th><td>Ethan Ampadu                  </td><td>20</td><td>968889600</td><td>2000/09/14</td><td>Premier League</td><td>2018/2019</td><td>Midfielder</td><td>Chelsea               </td><td>   0</td><td>   0</td><td>⋯</td><td>0.00</td><td>  0</td><td> 0</td><td>   0</td><td>   0</td><td>0.00</td><td> -1</td><td> -1</td><td> -1</td><td>-1</td></tr>\n",
              "\t<tr><th scope=row>186</th><td>Fabricio Martín Agosto Ramírez</td><td>33</td><td>567907200</td><td>1987/12/31</td><td>Premier League</td><td>2018/2019</td><td>Goalkeeper</td><td>Fulham                </td><td> 180</td><td>  90</td><td>⋯</td><td>2.50</td><td> 36</td><td>90</td><td>   0</td><td>   0</td><td>0.00</td><td> -1</td><td> -1</td><td> -1</td><td>13</td></tr>\n",
              "\t<tr><th scope=row>198</th><td>Fraser Forster                </td><td>33</td><td>574560000</td><td>1988/03/17</td><td>Premier League</td><td>2018/2019</td><td>Goalkeeper</td><td>Southampton           </td><td>  90</td><td>   0</td><td>⋯</td><td>3.00</td><td> 30</td><td>90</td><td>   0</td><td>   0</td><td>0.00</td><td> -1</td><td> -1</td><td> -1</td><td>29</td></tr>\n",
              "\t<tr><th scope=row>199</th><td>Freddie Woodman               </td><td>24</td><td>857433600</td><td>1997/03/04</td><td>Premier League</td><td>2018/2019</td><td>Goalkeeper</td><td>Newcastle United      </td><td>   0</td><td>   0</td><td>⋯</td><td>0.00</td><td>  0</td><td> 0</td><td>   0</td><td>   0</td><td>0.00</td><td> -1</td><td> -1</td><td> -1</td><td>-1</td></tr>\n",
              "\t<tr><th scope=row>⋮</th><td>⋮</td><td>⋮</td><td>⋮</td><td>⋮</td><td>⋮</td><td>⋮</td><td>⋮</td><td>⋮</td><td>⋮</td><td>⋮</td><td>⋱</td><td>⋮</td><td>⋮</td><td>⋮</td><td>⋮</td><td>⋮</td><td>⋮</td><td>⋮</td><td>⋮</td><td>⋮</td><td>⋮</td></tr>\n",
              "\t<tr><th scope=row>361</th><td>Maarten Stekelenburg          </td><td>38</td><td> 401500800</td><td>1982/09/22</td><td>Premier League</td><td>2018/2019</td><td>Goalkeeper</td><td>Everton                </td><td>   0</td><td>   0</td><td>⋯</td><td>0.00</td><td>  0</td><td> 0</td><td>   0</td><td>  0</td><td>0.00</td><td> -1</td><td> -1</td><td> -1</td><td>-1</td></tr>\n",
              "\t<tr><th scope=row>366</th><td>Marc Guehi                    </td><td>20</td><td> 963446400</td><td>2000/07/13</td><td>Premier League</td><td>2018/2019</td><td>Defender  </td><td>Chelsea                </td><td>   0</td><td>   0</td><td>⋯</td><td>0.00</td><td>  0</td><td> 0</td><td>   0</td><td>  0</td><td>0.00</td><td> -1</td><td> -1</td><td> -1</td><td>-1</td></tr>\n",
              "\t<tr><th scope=row>370</th><td>Marcus Bettinelli             </td><td>28</td><td> 706665600</td><td>1992/05/24</td><td>Premier League</td><td>2018/2019</td><td>Goalkeeper</td><td>Fulham                 </td><td> 630</td><td> 270</td><td>⋯</td><td>2.71</td><td> 33</td><td>90</td><td> 630</td><td>  0</td><td>0.14</td><td>296</td><td>283</td><td>174</td><td>14</td></tr>\n",
              "\t<tr><th scope=row>374</th><td>Mark Travers                  </td><td>21</td><td> 926985600</td><td>1999/05/18</td><td>Premier League</td><td>2018/2019</td><td>Goalkeeper</td><td>AFC Bournemouth        </td><td> 180</td><td>  90</td><td>⋯</td><td>2.50</td><td> 36</td><td>90</td><td>   0</td><td>  0</td><td>0.00</td><td> -1</td><td> -1</td><td> -1</td><td>28</td></tr>\n",
              "\t<tr><th scope=row>378</th><td>Martin Dúbravka               </td><td>32</td><td> 600825600</td><td>1989/01/15</td><td>Premier League</td><td>2018/2019</td><td>Goalkeeper</td><td>Newcastle United       </td><td>3420</td><td>1710</td><td>⋯</td><td>1.16</td><td> 78</td><td>90</td><td>3420</td><td>  0</td><td>0.03</td><td>345</td><td>317</td><td> 58</td><td>18</td></tr>\n",
              "\t<tr><th scope=row>381</th><td>Mason Greenwood               </td><td>19</td><td>1001894400</td><td>2001/10/01</td><td>Premier League</td><td>2018/2019</td><td>Midfielder</td><td>Manchester United      </td><td> 115</td><td> 105</td><td>⋯</td><td>1.57</td><td> 58</td><td>38</td><td>   0</td><td>  0</td><td>0.00</td><td> -1</td><td> -1</td><td> -1</td><td>27</td></tr>\n",
              "\t<tr><th scope=row>385</th><td><span style=white-space:pre-wrap>Mathew Ryan                   </span></td><td>28</td><td> 702691200</td><td>1992/04/08</td><td>Premier League</td><td>2018/2019</td><td>Goalkeeper</td><td>Brighton &amp; Hove Albion </td><td>3060</td><td>1530</td><td>⋯</td><td>1.53</td><td> 59</td><td>90</td><td>1530</td><td><span style=white-space:pre-wrap>  0</span></td><td>0.06</td><td>398</td><td>389</td><td>122</td><td>15</td></tr>\n",
              "\t<tr><th scope=row>395</th><td>Matty Daly                    </td><td>20</td><td> 984182400</td><td>2001/03/10</td><td>Premier League</td><td>2018/2019</td><td>Midfielder</td><td>Huddersfield Town      </td><td>  73</td><td>  49</td><td>⋯</td><td>1.23</td><td> 73</td><td>37</td><td>   0</td><td>  0</td><td>0.00</td><td> -1</td><td> -1</td><td> -1</td><td>18</td></tr>\n",
              "\t<tr><th scope=row>403</th><td>Michael Obafemi               </td><td>20</td><td> 962841600</td><td>2000/07/06</td><td>Premier League</td><td>2018/2019</td><td>Forward   </td><td>Southampton            </td><td> 134</td><td>  64</td><td>⋯</td><td>1.34</td><td> 67</td><td>22</td><td> 134</td><td>134</td><td>0.67</td><td> -1</td><td> -1</td><td> -1</td><td>16</td></tr>\n",
              "\t<tr><th scope=row>405</th><td>Michel Vorm                   </td><td>37</td><td> 435456000</td><td>1983/10/20</td><td>Premier League</td><td>2018/2019</td><td>Goalkeeper</td><td>Tottenham Hotspur      </td><td> 180</td><td>  90</td><td>⋯</td><td>2.00</td><td> 45</td><td>90</td><td>   0</td><td>  0</td><td>0.00</td><td> -1</td><td> -1</td><td> -1</td><td>22</td></tr>\n",
              "\t<tr><th scope=row>428</th><td>Neil Leonard Dula Etheridge   </td><td>31</td><td> 634348800</td><td>1990/02/07</td><td>Premier League</td><td>2018/2019</td><td>Goalkeeper</td><td>Cardiff City           </td><td>3420</td><td>1710</td><td>⋯</td><td>1.61</td><td> 56</td><td>90</td><td>1710</td><td>  0</td><td>0.05</td><td>363</td><td>392</td><td>134</td><td>17</td></tr>\n",
              "\t<tr><th scope=row>434</th><td>Oliver Skipp                  </td><td>20</td><td> 969062400</td><td>2000/09/16</td><td>Premier League</td><td>2018/2019</td><td>Midfielder</td><td>Tottenham Hotspur      </td><td> 216</td><td> 191</td><td>⋯</td><td>0.00</td><td>  0</td><td>27</td><td>   0</td><td>  0</td><td>0.00</td><td> -1</td><td> -1</td><td> -1</td><td>16</td></tr>\n",
              "\t<tr><th scope=row>445</th><td>Paulo Dino Gazzaniga          </td><td>29</td><td> 694310400</td><td>1992/01/02</td><td>Premier League</td><td>2018/2019</td><td>Goalkeeper</td><td>Tottenham Hotspur      </td><td> 270</td><td>   0</td><td>⋯</td><td>0.33</td><td>270</td><td>90</td><td>   0</td><td>  0</td><td>0.00</td><td> -1</td><td> -1</td><td> -1</td><td>15</td></tr>\n",
              "\t<tr><th scope=row>449</th><td>Petr Čech                     </td><td>38</td><td> 390700800</td><td>1982/05/20</td><td>Premier League</td><td>2018/2019</td><td>Goalkeeper</td><td>Arsenal                </td><td> 585</td><td> 315</td><td>⋯</td><td>1.23</td><td> 73</td><td>84</td><td>   0</td><td>  0</td><td>0.00</td><td>384</td><td>377</td><td> 71</td><td>20</td></tr>\n",
              "\t<tr><th scope=row>454</th><td>Philip Foden                  </td><td>20</td><td> 959472000</td><td>2000/05/28</td><td>Premier League</td><td>2018/2019</td><td>Midfielder</td><td>Manchester City        </td><td> 327</td><td> 279</td><td>⋯</td><td>0.00</td><td>  0</td><td>25</td><td>   0</td><td>  0</td><td>0.00</td><td> 67</td><td>386</td><td> -1</td><td>11</td></tr>\n",
              "\t<tr><th scope=row>459</th><td>Rafael Euclides Soares Camacho</td><td>20</td><td> 958953600</td><td>2000/05/22</td><td>Premier League</td><td>2018/2019</td><td>Midfielder</td><td>Liverpool              </td><td>   0</td><td>   0</td><td>⋯</td><td>0.00</td><td>  0</td><td> 0</td><td>   0</td><td>  0</td><td>0.00</td><td> -1</td><td> -1</td><td> -1</td><td>-1</td></tr>\n",
              "\t<tr><th scope=row>481</th><td>Rui Pedro dos Santos Patrício </td><td>33</td><td> 571881600</td><td>1988/02/15</td><td>Premier League</td><td>2018/2019</td><td>Goalkeeper</td><td>Wolverhampton Wanderers</td><td>3330</td><td>1620</td><td>⋯</td><td>1.16</td><td> 77</td><td>90</td><td>   0</td><td>  0</td><td>0.00</td><td>405</td><td>328</td><td> 56</td><td>19</td></tr>\n",
              "\t<tr><th scope=row>488</th><td>Ryan Schofield                </td><td>21</td><td> 944870400</td><td>1999/12/11</td><td>Premier League</td><td>2018/2019</td><td>Goalkeeper</td><td>Huddersfield Town      </td><td>   0</td><td>   0</td><td>⋯</td><td>0.00</td><td>  0</td><td> 0</td><td>   0</td><td>  0</td><td>0.00</td><td> -1</td><td> -1</td><td> -1</td><td>-1</td></tr>\n",
              "\t<tr><th scope=row>489</th><td>Ryan Sessegnon                </td><td>20</td><td> 958608000</td><td>2000/05/18</td><td>Premier League</td><td>2018/2019</td><td>Defender  </td><td>Fulham                 </td><td>2298</td><td>1095</td><td>⋯</td><td>2.27</td><td> 40</td><td>66</td><td>   0</td><td>383</td><td>0.00</td><td>182</td><td> 53</td><td>168</td><td> 6</td></tr>\n",
              "\t<tr><th scope=row>506</th><td>Sergio Germán Romero          </td><td>34</td><td> 540950400</td><td>1987/02/22</td><td>Premier League</td><td>2018/2019</td><td>Goalkeeper</td><td>Manchester United      </td><td>   0</td><td>   0</td><td>⋯</td><td>0.00</td><td>  0</td><td> 0</td><td>   0</td><td>  0</td><td>0.00</td><td> -1</td><td> -1</td><td> -1</td><td>-1</td></tr>\n",
              "\t<tr><th scope=row>507</th><td>Sergio Rico                   </td><td>27</td><td> 746841600</td><td>1993/09/01</td><td>Premier League</td><td>2018/2019</td><td>Goalkeeper</td><td>Fulham                 </td><td>2610</td><td>1350</td><td>⋯</td><td>1.83</td><td> 49</td><td>90</td><td>2610</td><td>  0</td><td>0.03</td><td>320</td><td>406</td><td>153</td><td>21</td></tr>\n",
              "\t<tr><th scope=row>513</th><td>Simon Mignolet                </td><td>33</td><td> 573609600</td><td>1988/03/06</td><td>Premier League</td><td>2018/2019</td><td>Goalkeeper</td><td>Liverpool              </td><td>   0</td><td>   0</td><td>⋯</td><td>0.00</td><td>  0</td><td> 0</td><td>   0</td><td>  0</td><td>0.00</td><td> -1</td><td> -1</td><td> -1</td><td>-1</td></tr>\n",
              "\t<tr><th scope=row>538</th><td>Tom Heaton                    </td><td>34</td><td> 513907200</td><td>1986/04/15</td><td>Premier League</td><td>2018/2019</td><td>Goalkeeper</td><td>Burnley                </td><td>1710</td><td> 900</td><td>⋯</td><td>1.21</td><td> 74</td><td>90</td><td> 570</td><td>  0</td><td>0.16</td><td>382</td><td>354</td><td> 68</td><td>18</td></tr>\n",
              "\t<tr><th scope=row>545</th><td>Vicente Guaita                </td><td>34</td><td> 537235200</td><td>1987/01/10</td><td>Premier League</td><td>2018/2019</td><td>Goalkeeper</td><td>Crystal Palace         </td><td>1755</td><td>1035</td><td>⋯</td><td>1.08</td><td> 84</td><td>88</td><td> 878</td><td>  0</td><td>0.10</td><td>325</td><td>352</td><td> 45</td><td>19</td></tr>\n",
              "\t<tr><th scope=row>555</th><td>Wayne Hennessey               </td><td>34</td><td> 538444800</td><td>1987/01/24</td><td>Premier League</td><td>2018/2019</td><td>Goalkeeper</td><td>Crystal Palace         </td><td>1575</td><td> 675</td><td>⋯</td><td>1.31</td><td> 68</td><td>88</td><td>   0</td><td>  0</td><td>0.00</td><td>321</td><td>404</td><td> 87</td><td>13</td></tr>\n",
              "\t<tr><th scope=row>558</th><td>Wilfredo Daniel Caballero     </td><td>39</td><td> 370483200</td><td>1981/09/28</td><td>Premier League</td><td>2018/2019</td><td>Goalkeeper</td><td>Chelsea                </td><td> 180</td><td>  90</td><td>⋯</td><td>0.00</td><td>  0</td><td>90</td><td>   0</td><td>  0</td><td>0.00</td><td> -1</td><td> -1</td><td> -1</td><td>19</td></tr>\n",
              "\t<tr><th scope=row>561</th><td>Will Norris                   </td><td>27</td><td> 745113600</td><td>1993/08/12</td><td>Premier League</td><td>2018/2019</td><td>Goalkeeper</td><td>Wolverhampton Wanderers</td><td>   0</td><td>   0</td><td>⋯</td><td>0.00</td><td>  0</td><td> 0</td><td>   0</td><td>  0</td><td>0.00</td><td> -1</td><td> -1</td><td> -1</td><td>-1</td></tr>\n",
              "\t<tr><th scope=row>570</th><td>Zechariah Medley              </td><td>20</td><td> 962928000</td><td>2000/07/07</td><td>Premier League</td><td>2018/2019</td><td>Defender  </td><td>Arsenal                </td><td>   0</td><td>   0</td><td>⋯</td><td>0.00</td><td>  0</td><td> 0</td><td>   0</td><td>  0</td><td>0.00</td><td> -1</td><td> -1</td><td> -1</td><td>-1</td></tr>\n",
              "\t<tr><th scope=row>571</th><td>Zeze Steven Sessegnon         </td><td>20</td><td> 958608000</td><td>2000/05/18</td><td>Premier League</td><td>2018/2019</td><td>Defender  </td><td>Fulham                 </td><td>   0</td><td>   0</td><td>⋯</td><td>0.00</td><td>  0</td><td> 0</td><td>   0</td><td>  0</td><td>0.00</td><td> -1</td><td> -1</td><td> -1</td><td>-1</td></tr>\n",
              "\t<tr><th scope=row>572</th><td>Łukasz Fabiański              </td><td>35</td><td> 482630400</td><td>1985/04/18</td><td>Premier League</td><td>2018/2019</td><td>Goalkeeper</td><td>West Ham United        </td><td>3420</td><td>1710</td><td>⋯</td><td>1.26</td><td> 71</td><td>90</td><td>   0</td><td>  0</td><td>0.00</td><td>391</td><td>343</td><td> 81</td><td>19</td></tr>\n",
              "</tbody>\n",
              "</table>\n"
            ],
            "text/markdown": "\nA data.frame: 78 × 47\n\n| <!--/--> | full_name &lt;chr&gt; | age &lt;int&gt; | birthday &lt;int&gt; | birthday_GMT &lt;chr&gt; | league &lt;chr&gt; | season &lt;chr&gt; | position &lt;chr&gt; | Current.Club &lt;chr&gt; | minutes_played_overall &lt;int&gt; | minutes_played_home &lt;int&gt; | ⋯ ⋯ | conceded_per_90_overall &lt;dbl&gt; | min_per_conceded_overall &lt;int&gt; | min_per_match &lt;int&gt; | min_per_card_overall &lt;int&gt; | min_per_assist_overall &lt;int&gt; | cards_per_90_overall &lt;dbl&gt; | rank_in_league_top_attackers &lt;int&gt; | rank_in_league_top_midfielders &lt;int&gt; | rank_in_league_top_defenders &lt;int&gt; | rank_in_club_top_scorer &lt;int&gt; |\n|---|---|---|---|---|---|---|---|---|---|---|---|---|---|---|---|---|---|---|---|---|---|\n| 5 | Aaron Rowe                     | 20 | 968284800 | 2000/09/07 | Premier League | 2018/2019 | Forward    | Huddersfield Town      |   69 |   14 | ⋯ | 1.30 |  69 | 35 |    0 |    0 | 0.00 |  -1 |  -1 |  -1 | 31 |\n| 18 | Adrián San Miguel del Castillo | 34 | 536630400 | 1987/01/03 | Premier League | 2018/2019 | Goalkeeper | West Ham United        |    0 |    0 | ⋯ | 0.00 |   0 |  0 |    0 |    0 | 0.00 |  -1 |  -1 |  -1 | -1 |\n| 24 | Alex McCarthy                  | 31 | 628646400 | 1989/12/03 | Premier League | 2018/2019 | Goalkeeper | Southampton            | 2250 | 1170 | ⋯ | 1.48 |  61 | 90 | 2250 |    0 | 0.04 | 372 | 365 | 114 | 21 |\n| 27 | Alex Smithies                  | 31 | 636595200 | 1990/03/05 | Premier League | 2018/2019 | Goalkeeper | Cardiff City           |    0 |    0 | ⋯ | 0.00 |   0 |  0 |    0 |    0 | 0.00 |  -1 |  -1 |  -1 | -1 |\n| 34 | Alfie Whiteman                 | 22 | 907286400 | 1998/10/02 | Premier League | 2018/2019 | Goalkeeper | Tottenham Hotspur      |    0 |    0 | ⋯ | 0.00 |   0 |  0 |    0 |    0 | 0.00 |  -1 |  -1 |  -1 | -1 |\n| 35 | Ali Koiki                      | 20 | 966902400 | 2000/08/22 | Premier League | 2018/2019 | Defender   | Burnley                |    0 |    0 | ⋯ | 0.00 |   0 |  0 |    0 |    0 | 0.00 |  -1 |  -1 |  -1 | -1 |\n| 37 | Alisson Becker                 | 28 | 717984000 | 1992/10/02 | Premier League | 2018/2019 | Goalkeeper | Liverpool              | 3420 | 1710 | ⋯ | 0.50 | 180 | 90 | 3420 |    0 | 0.03 | 417 | 387 |   3 | 16 |\n| 51 | Angel Gomes                    | 20 | 967680000 | 2000/08/31 | Premier League | 2018/2019 | Midfielder | Manchester United      |   25 |   25 | ⋯ | 3.60 |  25 | 13 |    0 |    0 | 0.00 |  -1 |  -1 |  -1 | 19 |\n| 53 | Angus Gunn                     | 25 | 822268800 | 1996/01/22 | Premier League | 2018/2019 | Goalkeeper | Southampton            | 1080 |  540 | ⋯ | 1.42 |  64 | 90 |    0 |    0 | 0.00 | 376 | 339 | 104 | 25 |\n| 60 | Arijanet Muric                 | 22 | 910396800 | 1998/11/07 | Premier League | 2018/2019 | Goalkeeper | Manchester City        |    0 |    0 | ⋯ | 0.00 |   0 |  0 |    0 |    0 | 0.00 |  -1 |  -1 |  -1 | -1 |\n| 63 | Artur Boruc                    | 41 | 319852800 | 1980/02/20 | Premier League | 2018/2019 | Goalkeeper | AFC Bournemouth        | 1080 |  540 | ⋯ | 1.42 |  64 | 90 |  540 |    0 | 0.17 | 361 | 394 | 100 | 20 |\n| 67 | Asmir Begović                  | 33 | 551145600 | 1987/06/20 | Premier League | 2018/2019 | Goalkeeper | AFC Bournemouth        | 2160 | 1080 | ⋯ | 1.83 |  49 | 90 |    0 |    0 | 0.00 | 358 | 273 | 154 | 19 |\n| 71 | Bakayo Sako                    |  0 |         0 | 1970/01/01 | Premier League | 2018/2019 | Midfielder | Arsenal                |    7 |    7 | ⋯ | 0.00 |   0 |  7 |    0 |    0 | 0.00 |  -1 |  -1 |  -1 | 17 |\n| 74 | Ben Foster                     | 37 | 418176000 | 1983/04/03 | Premier League | 2018/2019 | Goalkeeper | Watford                | 3420 | 1710 | ⋯ | 1.50 |  60 | 90 | 3420 |    0 | 0.03 | 365 | 353 | 116 | 18 |\n| 76 | Ben Hamer                      | 33 | 564364800 | 1987/11/20 | Premier League | 2018/2019 | Goalkeeper | Huddersfield Town      |  553 |  283 | ⋯ | 3.25 |  28 | 79 |    0 |    0 | 0.00 | 327 | 348 | 175 | 14 |\n| 86 | Bernd Leno                     | 29 | 699667200 | 1992/03/04 | Premier League | 2018/2019 | Goalkeeper | Arsenal                | 2835 | 1395 | ⋯ | 1.24 |  73 | 89 |    0 |    0 | 0.00 | 390 | 413 |  76 | 23 |\n| 88 | Brian Murphy                   | 37 | 421113600 | 1983/05/07 | Premier League | 2018/2019 | Goalkeeper | Cardiff City           |    0 |    0 | ⋯ | 0.00 |   0 |  0 |    0 |    0 | 0.00 |  -1 |  -1 |  -1 | -1 |\n| 93 | Callum Hudson-Odoi             | 20 | 973555200 | 2000/11/07 | Premier League | 2018/2019 | Midfielder | Chelsea                |  391 |  267 | ⋯ | 1.15 |  78 | 39 |    0 |  391 | 0.00 | 277 |  54 |  -1 | 16 |\n| 121 | Claudio Andrés Bravo Muñoz     | 37 | 419040000 | 1983/04/13 | Premier League | 2018/2019 | Goalkeeper | Manchester City        |    0 |    0 | ⋯ | 0.00 |   0 |  0 |    0 |    0 | 0.00 |  -1 |  -1 |  -1 | -1 |\n| 127 | Curtis Jones                   | 20 | 980812800 | 2001/01/30 | Premier League | 2018/2019 | Midfielder | Liverpool              |    0 |    0 | ⋯ | 0.00 |   0 |  0 |    0 |    0 | 0.00 |  -1 |  -1 |  -1 | -1 |\n| 130 | Damián Emiliano Martínez       | 28 | 715392000 | 1992/09/02 | Premier League | 2018/2019 | Goalkeeper | Arsenal                |    0 |    0 | ⋯ | 0.00 |   0 |  0 |    0 |    0 | 0.00 |  -1 |  -1 |  -1 | -1 |\n| 141 | Danny Ward                     | 27 | 740707200 | 1993/06/22 | Premier League | 2018/2019 | Goalkeeper | Leicester City         |    0 |    0 | ⋯ | 0.00 |   0 |  0 |    0 |    0 | 0.00 |  -1 |  -1 |  -1 | -1 |\n| 146 | David Button                   | 32 | 604540800 | 1989/02/27 | Premier League | 2018/2019 | Goalkeeper | Brighton &amp; Hove Albion |  360 |  180 | ⋯ | 1.25 |  72 | 90 |    0 |    0 | 0.00 | 404 | 327 |  79 | 14 |\n| 147 | David de Gea                   | 30 | 657936000 | 1990/11/07 | Premier League | 2018/2019 | Goalkeeper | Manchester United      | 3420 | 1710 | ⋯ | 1.34 |  67 | 90 | 3420 |    0 | 0.03 | 310 | 419 |  91 | 18 |\n| 170 | Ederson                        | 27 | 745545600 | 1993/08/17 | Premier League | 2018/2019 | Goalkeeper | Manchester City        | 3420 | 1710 | ⋯ | 0.61 | 149 | 90 | 1710 | 3420 | 0.05 | 366 | 240 |  13 | 21 |\n| 175 | Emile Smith Rowe               | 20 | 964742400 | 2000/07/28 | Premier League | 2018/2019 | Midfielder | Arsenal                |    0 |    0 | ⋯ | 0.00 |   0 |  0 |    0 |    0 | 0.00 |  -1 |  -1 |  -1 | -1 |\n| 180 | Ethan Ampadu                   | 20 | 968889600 | 2000/09/14 | Premier League | 2018/2019 | Midfielder | Chelsea                |    0 |    0 | ⋯ | 0.00 |   0 |  0 |    0 |    0 | 0.00 |  -1 |  -1 |  -1 | -1 |\n| 186 | Fabricio Martín Agosto Ramírez | 33 | 567907200 | 1987/12/31 | Premier League | 2018/2019 | Goalkeeper | Fulham                 |  180 |   90 | ⋯ | 2.50 |  36 | 90 |    0 |    0 | 0.00 |  -1 |  -1 |  -1 | 13 |\n| 198 | Fraser Forster                 | 33 | 574560000 | 1988/03/17 | Premier League | 2018/2019 | Goalkeeper | Southampton            |   90 |    0 | ⋯ | 3.00 |  30 | 90 |    0 |    0 | 0.00 |  -1 |  -1 |  -1 | 29 |\n| 199 | Freddie Woodman                | 24 | 857433600 | 1997/03/04 | Premier League | 2018/2019 | Goalkeeper | Newcastle United       |    0 |    0 | ⋯ | 0.00 |   0 |  0 |    0 |    0 | 0.00 |  -1 |  -1 |  -1 | -1 |\n| ⋮ | ⋮ | ⋮ | ⋮ | ⋮ | ⋮ | ⋮ | ⋮ | ⋮ | ⋮ | ⋮ | ⋱ | ⋮ | ⋮ | ⋮ | ⋮ | ⋮ | ⋮ | ⋮ | ⋮ | ⋮ | ⋮ |\n| 361 | Maarten Stekelenburg           | 38 |  401500800 | 1982/09/22 | Premier League | 2018/2019 | Goalkeeper | Everton                 |    0 |    0 | ⋯ | 0.00 |   0 |  0 |    0 |   0 | 0.00 |  -1 |  -1 |  -1 | -1 |\n| 366 | Marc Guehi                     | 20 |  963446400 | 2000/07/13 | Premier League | 2018/2019 | Defender   | Chelsea                 |    0 |    0 | ⋯ | 0.00 |   0 |  0 |    0 |   0 | 0.00 |  -1 |  -1 |  -1 | -1 |\n| 370 | Marcus Bettinelli              | 28 |  706665600 | 1992/05/24 | Premier League | 2018/2019 | Goalkeeper | Fulham                  |  630 |  270 | ⋯ | 2.71 |  33 | 90 |  630 |   0 | 0.14 | 296 | 283 | 174 | 14 |\n| 374 | Mark Travers                   | 21 |  926985600 | 1999/05/18 | Premier League | 2018/2019 | Goalkeeper | AFC Bournemouth         |  180 |   90 | ⋯ | 2.50 |  36 | 90 |    0 |   0 | 0.00 |  -1 |  -1 |  -1 | 28 |\n| 378 | Martin Dúbravka                | 32 |  600825600 | 1989/01/15 | Premier League | 2018/2019 | Goalkeeper | Newcastle United        | 3420 | 1710 | ⋯ | 1.16 |  78 | 90 | 3420 |   0 | 0.03 | 345 | 317 |  58 | 18 |\n| 381 | Mason Greenwood                | 19 | 1001894400 | 2001/10/01 | Premier League | 2018/2019 | Midfielder | Manchester United       |  115 |  105 | ⋯ | 1.57 |  58 | 38 |    0 |   0 | 0.00 |  -1 |  -1 |  -1 | 27 |\n| 385 | Mathew Ryan                    | 28 |  702691200 | 1992/04/08 | Premier League | 2018/2019 | Goalkeeper | Brighton &amp; Hove Albion  | 3060 | 1530 | ⋯ | 1.53 |  59 | 90 | 1530 |   0 | 0.06 | 398 | 389 | 122 | 15 |\n| 395 | Matty Daly                     | 20 |  984182400 | 2001/03/10 | Premier League | 2018/2019 | Midfielder | Huddersfield Town       |   73 |   49 | ⋯ | 1.23 |  73 | 37 |    0 |   0 | 0.00 |  -1 |  -1 |  -1 | 18 |\n| 403 | Michael Obafemi                | 20 |  962841600 | 2000/07/06 | Premier League | 2018/2019 | Forward    | Southampton             |  134 |   64 | ⋯ | 1.34 |  67 | 22 |  134 | 134 | 0.67 |  -1 |  -1 |  -1 | 16 |\n| 405 | Michel Vorm                    | 37 |  435456000 | 1983/10/20 | Premier League | 2018/2019 | Goalkeeper | Tottenham Hotspur       |  180 |   90 | ⋯ | 2.00 |  45 | 90 |    0 |   0 | 0.00 |  -1 |  -1 |  -1 | 22 |\n| 428 | Neil Leonard Dula Etheridge    | 31 |  634348800 | 1990/02/07 | Premier League | 2018/2019 | Goalkeeper | Cardiff City            | 3420 | 1710 | ⋯ | 1.61 |  56 | 90 | 1710 |   0 | 0.05 | 363 | 392 | 134 | 17 |\n| 434 | Oliver Skipp                   | 20 |  969062400 | 2000/09/16 | Premier League | 2018/2019 | Midfielder | Tottenham Hotspur       |  216 |  191 | ⋯ | 0.00 |   0 | 27 |    0 |   0 | 0.00 |  -1 |  -1 |  -1 | 16 |\n| 445 | Paulo Dino Gazzaniga           | 29 |  694310400 | 1992/01/02 | Premier League | 2018/2019 | Goalkeeper | Tottenham Hotspur       |  270 |    0 | ⋯ | 0.33 | 270 | 90 |    0 |   0 | 0.00 |  -1 |  -1 |  -1 | 15 |\n| 449 | Petr Čech                      | 38 |  390700800 | 1982/05/20 | Premier League | 2018/2019 | Goalkeeper | Arsenal                 |  585 |  315 | ⋯ | 1.23 |  73 | 84 |    0 |   0 | 0.00 | 384 | 377 |  71 | 20 |\n| 454 | Philip Foden                   | 20 |  959472000 | 2000/05/28 | Premier League | 2018/2019 | Midfielder | Manchester City         |  327 |  279 | ⋯ | 0.00 |   0 | 25 |    0 |   0 | 0.00 |  67 | 386 |  -1 | 11 |\n| 459 | Rafael Euclides Soares Camacho | 20 |  958953600 | 2000/05/22 | Premier League | 2018/2019 | Midfielder | Liverpool               |    0 |    0 | ⋯ | 0.00 |   0 |  0 |    0 |   0 | 0.00 |  -1 |  -1 |  -1 | -1 |\n| 481 | Rui Pedro dos Santos Patrício  | 33 |  571881600 | 1988/02/15 | Premier League | 2018/2019 | Goalkeeper | Wolverhampton Wanderers | 3330 | 1620 | ⋯ | 1.16 |  77 | 90 |    0 |   0 | 0.00 | 405 | 328 |  56 | 19 |\n| 488 | Ryan Schofield                 | 21 |  944870400 | 1999/12/11 | Premier League | 2018/2019 | Goalkeeper | Huddersfield Town       |    0 |    0 | ⋯ | 0.00 |   0 |  0 |    0 |   0 | 0.00 |  -1 |  -1 |  -1 | -1 |\n| 489 | Ryan Sessegnon                 | 20 |  958608000 | 2000/05/18 | Premier League | 2018/2019 | Defender   | Fulham                  | 2298 | 1095 | ⋯ | 2.27 |  40 | 66 |    0 | 383 | 0.00 | 182 |  53 | 168 |  6 |\n| 506 | Sergio Germán Romero           | 34 |  540950400 | 1987/02/22 | Premier League | 2018/2019 | Goalkeeper | Manchester United       |    0 |    0 | ⋯ | 0.00 |   0 |  0 |    0 |   0 | 0.00 |  -1 |  -1 |  -1 | -1 |\n| 507 | Sergio Rico                    | 27 |  746841600 | 1993/09/01 | Premier League | 2018/2019 | Goalkeeper | Fulham                  | 2610 | 1350 | ⋯ | 1.83 |  49 | 90 | 2610 |   0 | 0.03 | 320 | 406 | 153 | 21 |\n| 513 | Simon Mignolet                 | 33 |  573609600 | 1988/03/06 | Premier League | 2018/2019 | Goalkeeper | Liverpool               |    0 |    0 | ⋯ | 0.00 |   0 |  0 |    0 |   0 | 0.00 |  -1 |  -1 |  -1 | -1 |\n| 538 | Tom Heaton                     | 34 |  513907200 | 1986/04/15 | Premier League | 2018/2019 | Goalkeeper | Burnley                 | 1710 |  900 | ⋯ | 1.21 |  74 | 90 |  570 |   0 | 0.16 | 382 | 354 |  68 | 18 |\n| 545 | Vicente Guaita                 | 34 |  537235200 | 1987/01/10 | Premier League | 2018/2019 | Goalkeeper | Crystal Palace          | 1755 | 1035 | ⋯ | 1.08 |  84 | 88 |  878 |   0 | 0.10 | 325 | 352 |  45 | 19 |\n| 555 | Wayne Hennessey                | 34 |  538444800 | 1987/01/24 | Premier League | 2018/2019 | Goalkeeper | Crystal Palace          | 1575 |  675 | ⋯ | 1.31 |  68 | 88 |    0 |   0 | 0.00 | 321 | 404 |  87 | 13 |\n| 558 | Wilfredo Daniel Caballero      | 39 |  370483200 | 1981/09/28 | Premier League | 2018/2019 | Goalkeeper | Chelsea                 |  180 |   90 | ⋯ | 0.00 |   0 | 90 |    0 |   0 | 0.00 |  -1 |  -1 |  -1 | 19 |\n| 561 | Will Norris                    | 27 |  745113600 | 1993/08/12 | Premier League | 2018/2019 | Goalkeeper | Wolverhampton Wanderers |    0 |    0 | ⋯ | 0.00 |   0 |  0 |    0 |   0 | 0.00 |  -1 |  -1 |  -1 | -1 |\n| 570 | Zechariah Medley               | 20 |  962928000 | 2000/07/07 | Premier League | 2018/2019 | Defender   | Arsenal                 |    0 |    0 | ⋯ | 0.00 |   0 |  0 |    0 |   0 | 0.00 |  -1 |  -1 |  -1 | -1 |\n| 571 | Zeze Steven Sessegnon          | 20 |  958608000 | 2000/05/18 | Premier League | 2018/2019 | Defender   | Fulham                  |    0 |    0 | ⋯ | 0.00 |   0 |  0 |    0 |   0 | 0.00 |  -1 |  -1 |  -1 | -1 |\n| 572 | Łukasz Fabiański               | 35 |  482630400 | 1985/04/18 | Premier League | 2018/2019 | Goalkeeper | West Ham United         | 3420 | 1710 | ⋯ | 1.26 |  71 | 90 |    0 |   0 | 0.00 | 391 | 343 |  81 | 19 |\n\n",
            "text/latex": "A data.frame: 78 × 47\n\\begin{tabular}{r|lllllllllllllllllllll}\n  & full\\_name & age & birthday & birthday\\_GMT & league & season & position & Current.Club & minutes\\_played\\_overall & minutes\\_played\\_home & ⋯ & conceded\\_per\\_90\\_overall & min\\_per\\_conceded\\_overall & min\\_per\\_match & min\\_per\\_card\\_overall & min\\_per\\_assist\\_overall & cards\\_per\\_90\\_overall & rank\\_in\\_league\\_top\\_attackers & rank\\_in\\_league\\_top\\_midfielders & rank\\_in\\_league\\_top\\_defenders & rank\\_in\\_club\\_top\\_scorer\\\\\n  & <chr> & <int> & <int> & <chr> & <chr> & <chr> & <chr> & <chr> & <int> & <int> & ⋯ & <dbl> & <int> & <int> & <int> & <int> & <dbl> & <int> & <int> & <int> & <int>\\\\\n\\hline\n\t5 & Aaron Rowe                     & 20 & 968284800 & 2000/09/07 & Premier League & 2018/2019 & Forward    & Huddersfield Town      &   69 &   14 & ⋯ & 1.30 &  69 & 35 &    0 &    0 & 0.00 &  -1 &  -1 &  -1 & 31\\\\\n\t18 & Adrián San Miguel del Castillo & 34 & 536630400 & 1987/01/03 & Premier League & 2018/2019 & Goalkeeper & West Ham United        &    0 &    0 & ⋯ & 0.00 &   0 &  0 &    0 &    0 & 0.00 &  -1 &  -1 &  -1 & -1\\\\\n\t24 & Alex McCarthy                  & 31 & 628646400 & 1989/12/03 & Premier League & 2018/2019 & Goalkeeper & Southampton            & 2250 & 1170 & ⋯ & 1.48 &  61 & 90 & 2250 &    0 & 0.04 & 372 & 365 & 114 & 21\\\\\n\t27 & Alex Smithies                  & 31 & 636595200 & 1990/03/05 & Premier League & 2018/2019 & Goalkeeper & Cardiff City           &    0 &    0 & ⋯ & 0.00 &   0 &  0 &    0 &    0 & 0.00 &  -1 &  -1 &  -1 & -1\\\\\n\t34 & Alfie Whiteman                 & 22 & 907286400 & 1998/10/02 & Premier League & 2018/2019 & Goalkeeper & Tottenham Hotspur      &    0 &    0 & ⋯ & 0.00 &   0 &  0 &    0 &    0 & 0.00 &  -1 &  -1 &  -1 & -1\\\\\n\t35 & Ali Koiki                      & 20 & 966902400 & 2000/08/22 & Premier League & 2018/2019 & Defender   & Burnley                &    0 &    0 & ⋯ & 0.00 &   0 &  0 &    0 &    0 & 0.00 &  -1 &  -1 &  -1 & -1\\\\\n\t37 & Alisson Becker                 & 28 & 717984000 & 1992/10/02 & Premier League & 2018/2019 & Goalkeeper & Liverpool              & 3420 & 1710 & ⋯ & 0.50 & 180 & 90 & 3420 &    0 & 0.03 & 417 & 387 &   3 & 16\\\\\n\t51 & Angel Gomes                    & 20 & 967680000 & 2000/08/31 & Premier League & 2018/2019 & Midfielder & Manchester United      &   25 &   25 & ⋯ & 3.60 &  25 & 13 &    0 &    0 & 0.00 &  -1 &  -1 &  -1 & 19\\\\\n\t53 & Angus Gunn                     & 25 & 822268800 & 1996/01/22 & Premier League & 2018/2019 & Goalkeeper & Southampton            & 1080 &  540 & ⋯ & 1.42 &  64 & 90 &    0 &    0 & 0.00 & 376 & 339 & 104 & 25\\\\\n\t60 & Arijanet Muric                 & 22 & 910396800 & 1998/11/07 & Premier League & 2018/2019 & Goalkeeper & Manchester City        &    0 &    0 & ⋯ & 0.00 &   0 &  0 &    0 &    0 & 0.00 &  -1 &  -1 &  -1 & -1\\\\\n\t63 & Artur Boruc                    & 41 & 319852800 & 1980/02/20 & Premier League & 2018/2019 & Goalkeeper & AFC Bournemouth        & 1080 &  540 & ⋯ & 1.42 &  64 & 90 &  540 &    0 & 0.17 & 361 & 394 & 100 & 20\\\\\n\t67 & Asmir Begović                  & 33 & 551145600 & 1987/06/20 & Premier League & 2018/2019 & Goalkeeper & AFC Bournemouth        & 2160 & 1080 & ⋯ & 1.83 &  49 & 90 &    0 &    0 & 0.00 & 358 & 273 & 154 & 19\\\\\n\t71 & Bakayo Sako                    &  0 &         0 & 1970/01/01 & Premier League & 2018/2019 & Midfielder & Arsenal                &    7 &    7 & ⋯ & 0.00 &   0 &  7 &    0 &    0 & 0.00 &  -1 &  -1 &  -1 & 17\\\\\n\t74 & Ben Foster                     & 37 & 418176000 & 1983/04/03 & Premier League & 2018/2019 & Goalkeeper & Watford                & 3420 & 1710 & ⋯ & 1.50 &  60 & 90 & 3420 &    0 & 0.03 & 365 & 353 & 116 & 18\\\\\n\t76 & Ben Hamer                      & 33 & 564364800 & 1987/11/20 & Premier League & 2018/2019 & Goalkeeper & Huddersfield Town      &  553 &  283 & ⋯ & 3.25 &  28 & 79 &    0 &    0 & 0.00 & 327 & 348 & 175 & 14\\\\\n\t86 & Bernd Leno                     & 29 & 699667200 & 1992/03/04 & Premier League & 2018/2019 & Goalkeeper & Arsenal                & 2835 & 1395 & ⋯ & 1.24 &  73 & 89 &    0 &    0 & 0.00 & 390 & 413 &  76 & 23\\\\\n\t88 & Brian Murphy                   & 37 & 421113600 & 1983/05/07 & Premier League & 2018/2019 & Goalkeeper & Cardiff City           &    0 &    0 & ⋯ & 0.00 &   0 &  0 &    0 &    0 & 0.00 &  -1 &  -1 &  -1 & -1\\\\\n\t93 & Callum Hudson-Odoi             & 20 & 973555200 & 2000/11/07 & Premier League & 2018/2019 & Midfielder & Chelsea                &  391 &  267 & ⋯ & 1.15 &  78 & 39 &    0 &  391 & 0.00 & 277 &  54 &  -1 & 16\\\\\n\t121 & Claudio Andrés Bravo Muñoz     & 37 & 419040000 & 1983/04/13 & Premier League & 2018/2019 & Goalkeeper & Manchester City        &    0 &    0 & ⋯ & 0.00 &   0 &  0 &    0 &    0 & 0.00 &  -1 &  -1 &  -1 & -1\\\\\n\t127 & Curtis Jones                   & 20 & 980812800 & 2001/01/30 & Premier League & 2018/2019 & Midfielder & Liverpool              &    0 &    0 & ⋯ & 0.00 &   0 &  0 &    0 &    0 & 0.00 &  -1 &  -1 &  -1 & -1\\\\\n\t130 & Damián Emiliano Martínez       & 28 & 715392000 & 1992/09/02 & Premier League & 2018/2019 & Goalkeeper & Arsenal                &    0 &    0 & ⋯ & 0.00 &   0 &  0 &    0 &    0 & 0.00 &  -1 &  -1 &  -1 & -1\\\\\n\t141 & Danny Ward                     & 27 & 740707200 & 1993/06/22 & Premier League & 2018/2019 & Goalkeeper & Leicester City         &    0 &    0 & ⋯ & 0.00 &   0 &  0 &    0 &    0 & 0.00 &  -1 &  -1 &  -1 & -1\\\\\n\t146 & David Button                   & 32 & 604540800 & 1989/02/27 & Premier League & 2018/2019 & Goalkeeper & Brighton \\& Hove Albion &  360 &  180 & ⋯ & 1.25 &  72 & 90 &    0 &    0 & 0.00 & 404 & 327 &  79 & 14\\\\\n\t147 & David de Gea                   & 30 & 657936000 & 1990/11/07 & Premier League & 2018/2019 & Goalkeeper & Manchester United      & 3420 & 1710 & ⋯ & 1.34 &  67 & 90 & 3420 &    0 & 0.03 & 310 & 419 &  91 & 18\\\\\n\t170 & Ederson                        & 27 & 745545600 & 1993/08/17 & Premier League & 2018/2019 & Goalkeeper & Manchester City        & 3420 & 1710 & ⋯ & 0.61 & 149 & 90 & 1710 & 3420 & 0.05 & 366 & 240 &  13 & 21\\\\\n\t175 & Emile Smith Rowe               & 20 & 964742400 & 2000/07/28 & Premier League & 2018/2019 & Midfielder & Arsenal                &    0 &    0 & ⋯ & 0.00 &   0 &  0 &    0 &    0 & 0.00 &  -1 &  -1 &  -1 & -1\\\\\n\t180 & Ethan Ampadu                   & 20 & 968889600 & 2000/09/14 & Premier League & 2018/2019 & Midfielder & Chelsea                &    0 &    0 & ⋯ & 0.00 &   0 &  0 &    0 &    0 & 0.00 &  -1 &  -1 &  -1 & -1\\\\\n\t186 & Fabricio Martín Agosto Ramírez & 33 & 567907200 & 1987/12/31 & Premier League & 2018/2019 & Goalkeeper & Fulham                 &  180 &   90 & ⋯ & 2.50 &  36 & 90 &    0 &    0 & 0.00 &  -1 &  -1 &  -1 & 13\\\\\n\t198 & Fraser Forster                 & 33 & 574560000 & 1988/03/17 & Premier League & 2018/2019 & Goalkeeper & Southampton            &   90 &    0 & ⋯ & 3.00 &  30 & 90 &    0 &    0 & 0.00 &  -1 &  -1 &  -1 & 29\\\\\n\t199 & Freddie Woodman                & 24 & 857433600 & 1997/03/04 & Premier League & 2018/2019 & Goalkeeper & Newcastle United       &    0 &    0 & ⋯ & 0.00 &   0 &  0 &    0 &    0 & 0.00 &  -1 &  -1 &  -1 & -1\\\\\n\t⋮ & ⋮ & ⋮ & ⋮ & ⋮ & ⋮ & ⋮ & ⋮ & ⋮ & ⋮ & ⋮ & ⋱ & ⋮ & ⋮ & ⋮ & ⋮ & ⋮ & ⋮ & ⋮ & ⋮ & ⋮ & ⋮\\\\\n\t361 & Maarten Stekelenburg           & 38 &  401500800 & 1982/09/22 & Premier League & 2018/2019 & Goalkeeper & Everton                 &    0 &    0 & ⋯ & 0.00 &   0 &  0 &    0 &   0 & 0.00 &  -1 &  -1 &  -1 & -1\\\\\n\t366 & Marc Guehi                     & 20 &  963446400 & 2000/07/13 & Premier League & 2018/2019 & Defender   & Chelsea                 &    0 &    0 & ⋯ & 0.00 &   0 &  0 &    0 &   0 & 0.00 &  -1 &  -1 &  -1 & -1\\\\\n\t370 & Marcus Bettinelli              & 28 &  706665600 & 1992/05/24 & Premier League & 2018/2019 & Goalkeeper & Fulham                  &  630 &  270 & ⋯ & 2.71 &  33 & 90 &  630 &   0 & 0.14 & 296 & 283 & 174 & 14\\\\\n\t374 & Mark Travers                   & 21 &  926985600 & 1999/05/18 & Premier League & 2018/2019 & Goalkeeper & AFC Bournemouth         &  180 &   90 & ⋯ & 2.50 &  36 & 90 &    0 &   0 & 0.00 &  -1 &  -1 &  -1 & 28\\\\\n\t378 & Martin Dúbravka                & 32 &  600825600 & 1989/01/15 & Premier League & 2018/2019 & Goalkeeper & Newcastle United        & 3420 & 1710 & ⋯ & 1.16 &  78 & 90 & 3420 &   0 & 0.03 & 345 & 317 &  58 & 18\\\\\n\t381 & Mason Greenwood                & 19 & 1001894400 & 2001/10/01 & Premier League & 2018/2019 & Midfielder & Manchester United       &  115 &  105 & ⋯ & 1.57 &  58 & 38 &    0 &   0 & 0.00 &  -1 &  -1 &  -1 & 27\\\\\n\t385 & Mathew Ryan                    & 28 &  702691200 & 1992/04/08 & Premier League & 2018/2019 & Goalkeeper & Brighton \\& Hove Albion  & 3060 & 1530 & ⋯ & 1.53 &  59 & 90 & 1530 &   0 & 0.06 & 398 & 389 & 122 & 15\\\\\n\t395 & Matty Daly                     & 20 &  984182400 & 2001/03/10 & Premier League & 2018/2019 & Midfielder & Huddersfield Town       &   73 &   49 & ⋯ & 1.23 &  73 & 37 &    0 &   0 & 0.00 &  -1 &  -1 &  -1 & 18\\\\\n\t403 & Michael Obafemi                & 20 &  962841600 & 2000/07/06 & Premier League & 2018/2019 & Forward    & Southampton             &  134 &   64 & ⋯ & 1.34 &  67 & 22 &  134 & 134 & 0.67 &  -1 &  -1 &  -1 & 16\\\\\n\t405 & Michel Vorm                    & 37 &  435456000 & 1983/10/20 & Premier League & 2018/2019 & Goalkeeper & Tottenham Hotspur       &  180 &   90 & ⋯ & 2.00 &  45 & 90 &    0 &   0 & 0.00 &  -1 &  -1 &  -1 & 22\\\\\n\t428 & Neil Leonard Dula Etheridge    & 31 &  634348800 & 1990/02/07 & Premier League & 2018/2019 & Goalkeeper & Cardiff City            & 3420 & 1710 & ⋯ & 1.61 &  56 & 90 & 1710 &   0 & 0.05 & 363 & 392 & 134 & 17\\\\\n\t434 & Oliver Skipp                   & 20 &  969062400 & 2000/09/16 & Premier League & 2018/2019 & Midfielder & Tottenham Hotspur       &  216 &  191 & ⋯ & 0.00 &   0 & 27 &    0 &   0 & 0.00 &  -1 &  -1 &  -1 & 16\\\\\n\t445 & Paulo Dino Gazzaniga           & 29 &  694310400 & 1992/01/02 & Premier League & 2018/2019 & Goalkeeper & Tottenham Hotspur       &  270 &    0 & ⋯ & 0.33 & 270 & 90 &    0 &   0 & 0.00 &  -1 &  -1 &  -1 & 15\\\\\n\t449 & Petr Čech                      & 38 &  390700800 & 1982/05/20 & Premier League & 2018/2019 & Goalkeeper & Arsenal                 &  585 &  315 & ⋯ & 1.23 &  73 & 84 &    0 &   0 & 0.00 & 384 & 377 &  71 & 20\\\\\n\t454 & Philip Foden                   & 20 &  959472000 & 2000/05/28 & Premier League & 2018/2019 & Midfielder & Manchester City         &  327 &  279 & ⋯ & 0.00 &   0 & 25 &    0 &   0 & 0.00 &  67 & 386 &  -1 & 11\\\\\n\t459 & Rafael Euclides Soares Camacho & 20 &  958953600 & 2000/05/22 & Premier League & 2018/2019 & Midfielder & Liverpool               &    0 &    0 & ⋯ & 0.00 &   0 &  0 &    0 &   0 & 0.00 &  -1 &  -1 &  -1 & -1\\\\\n\t481 & Rui Pedro dos Santos Patrício  & 33 &  571881600 & 1988/02/15 & Premier League & 2018/2019 & Goalkeeper & Wolverhampton Wanderers & 3330 & 1620 & ⋯ & 1.16 &  77 & 90 &    0 &   0 & 0.00 & 405 & 328 &  56 & 19\\\\\n\t488 & Ryan Schofield                 & 21 &  944870400 & 1999/12/11 & Premier League & 2018/2019 & Goalkeeper & Huddersfield Town       &    0 &    0 & ⋯ & 0.00 &   0 &  0 &    0 &   0 & 0.00 &  -1 &  -1 &  -1 & -1\\\\\n\t489 & Ryan Sessegnon                 & 20 &  958608000 & 2000/05/18 & Premier League & 2018/2019 & Defender   & Fulham                  & 2298 & 1095 & ⋯ & 2.27 &  40 & 66 &    0 & 383 & 0.00 & 182 &  53 & 168 &  6\\\\\n\t506 & Sergio Germán Romero           & 34 &  540950400 & 1987/02/22 & Premier League & 2018/2019 & Goalkeeper & Manchester United       &    0 &    0 & ⋯ & 0.00 &   0 &  0 &    0 &   0 & 0.00 &  -1 &  -1 &  -1 & -1\\\\\n\t507 & Sergio Rico                    & 27 &  746841600 & 1993/09/01 & Premier League & 2018/2019 & Goalkeeper & Fulham                  & 2610 & 1350 & ⋯ & 1.83 &  49 & 90 & 2610 &   0 & 0.03 & 320 & 406 & 153 & 21\\\\\n\t513 & Simon Mignolet                 & 33 &  573609600 & 1988/03/06 & Premier League & 2018/2019 & Goalkeeper & Liverpool               &    0 &    0 & ⋯ & 0.00 &   0 &  0 &    0 &   0 & 0.00 &  -1 &  -1 &  -1 & -1\\\\\n\t538 & Tom Heaton                     & 34 &  513907200 & 1986/04/15 & Premier League & 2018/2019 & Goalkeeper & Burnley                 & 1710 &  900 & ⋯ & 1.21 &  74 & 90 &  570 &   0 & 0.16 & 382 & 354 &  68 & 18\\\\\n\t545 & Vicente Guaita                 & 34 &  537235200 & 1987/01/10 & Premier League & 2018/2019 & Goalkeeper & Crystal Palace          & 1755 & 1035 & ⋯ & 1.08 &  84 & 88 &  878 &   0 & 0.10 & 325 & 352 &  45 & 19\\\\\n\t555 & Wayne Hennessey                & 34 &  538444800 & 1987/01/24 & Premier League & 2018/2019 & Goalkeeper & Crystal Palace          & 1575 &  675 & ⋯ & 1.31 &  68 & 88 &    0 &   0 & 0.00 & 321 & 404 &  87 & 13\\\\\n\t558 & Wilfredo Daniel Caballero      & 39 &  370483200 & 1981/09/28 & Premier League & 2018/2019 & Goalkeeper & Chelsea                 &  180 &   90 & ⋯ & 0.00 &   0 & 90 &    0 &   0 & 0.00 &  -1 &  -1 &  -1 & 19\\\\\n\t561 & Will Norris                    & 27 &  745113600 & 1993/08/12 & Premier League & 2018/2019 & Goalkeeper & Wolverhampton Wanderers &    0 &    0 & ⋯ & 0.00 &   0 &  0 &    0 &   0 & 0.00 &  -1 &  -1 &  -1 & -1\\\\\n\t570 & Zechariah Medley               & 20 &  962928000 & 2000/07/07 & Premier League & 2018/2019 & Defender   & Arsenal                 &    0 &    0 & ⋯ & 0.00 &   0 &  0 &    0 &   0 & 0.00 &  -1 &  -1 &  -1 & -1\\\\\n\t571 & Zeze Steven Sessegnon          & 20 &  958608000 & 2000/05/18 & Premier League & 2018/2019 & Defender   & Fulham                  &    0 &    0 & ⋯ & 0.00 &   0 &  0 &    0 &   0 & 0.00 &  -1 &  -1 &  -1 & -1\\\\\n\t572 & Łukasz Fabiański               & 35 &  482630400 & 1985/04/18 & Premier League & 2018/2019 & Goalkeeper & West Ham United         & 3420 & 1710 & ⋯ & 1.26 &  71 & 90 &    0 &   0 & 0.00 & 391 & 343 &  81 & 19\\\\\n\\end{tabular}\n",
            "text/plain": [
              "    full_name                      age birthday   birthday_GMT league        \n",
              "5   Aaron Rowe                     20  968284800  2000/09/07   Premier League\n",
              "18  Adrián San Miguel del Castillo 34  536630400  1987/01/03   Premier League\n",
              "24  Alex McCarthy                  31  628646400  1989/12/03   Premier League\n",
              "27  Alex Smithies                  31  636595200  1990/03/05   Premier League\n",
              "34  Alfie Whiteman                 22  907286400  1998/10/02   Premier League\n",
              "35  Ali Koiki                      20  966902400  2000/08/22   Premier League\n",
              "37  Alisson Becker                 28  717984000  1992/10/02   Premier League\n",
              "51  Angel Gomes                    20  967680000  2000/08/31   Premier League\n",
              "53  Angus Gunn                     25  822268800  1996/01/22   Premier League\n",
              "60  Arijanet Muric                 22  910396800  1998/11/07   Premier League\n",
              "63  Artur Boruc                    41  319852800  1980/02/20   Premier League\n",
              "67  Asmir Begović                  33  551145600  1987/06/20   Premier League\n",
              "71  Bakayo Sako                     0          0  1970/01/01   Premier League\n",
              "74  Ben Foster                     37  418176000  1983/04/03   Premier League\n",
              "76  Ben Hamer                      33  564364800  1987/11/20   Premier League\n",
              "86  Bernd Leno                     29  699667200  1992/03/04   Premier League\n",
              "88  Brian Murphy                   37  421113600  1983/05/07   Premier League\n",
              "93  Callum Hudson-Odoi             20  973555200  2000/11/07   Premier League\n",
              "121 Claudio Andrés Bravo Muñoz     37  419040000  1983/04/13   Premier League\n",
              "127 Curtis Jones                   20  980812800  2001/01/30   Premier League\n",
              "130 Damián Emiliano Martínez       28  715392000  1992/09/02   Premier League\n",
              "141 Danny Ward                     27  740707200  1993/06/22   Premier League\n",
              "146 David Button                   32  604540800  1989/02/27   Premier League\n",
              "147 David de Gea                   30  657936000  1990/11/07   Premier League\n",
              "170 Ederson                        27  745545600  1993/08/17   Premier League\n",
              "175 Emile Smith Rowe               20  964742400  2000/07/28   Premier League\n",
              "180 Ethan Ampadu                   20  968889600  2000/09/14   Premier League\n",
              "186 Fabricio Martín Agosto Ramírez 33  567907200  1987/12/31   Premier League\n",
              "198 Fraser Forster                 33  574560000  1988/03/17   Premier League\n",
              "199 Freddie Woodman                24  857433600  1997/03/04   Premier League\n",
              "⋮   ⋮                              ⋮   ⋮          ⋮            ⋮             \n",
              "361 Maarten Stekelenburg           38   401500800 1982/09/22   Premier League\n",
              "366 Marc Guehi                     20   963446400 2000/07/13   Premier League\n",
              "370 Marcus Bettinelli              28   706665600 1992/05/24   Premier League\n",
              "374 Mark Travers                   21   926985600 1999/05/18   Premier League\n",
              "378 Martin Dúbravka                32   600825600 1989/01/15   Premier League\n",
              "381 Mason Greenwood                19  1001894400 2001/10/01   Premier League\n",
              "385 Mathew Ryan                    28   702691200 1992/04/08   Premier League\n",
              "395 Matty Daly                     20   984182400 2001/03/10   Premier League\n",
              "403 Michael Obafemi                20   962841600 2000/07/06   Premier League\n",
              "405 Michel Vorm                    37   435456000 1983/10/20   Premier League\n",
              "428 Neil Leonard Dula Etheridge    31   634348800 1990/02/07   Premier League\n",
              "434 Oliver Skipp                   20   969062400 2000/09/16   Premier League\n",
              "445 Paulo Dino Gazzaniga           29   694310400 1992/01/02   Premier League\n",
              "449 Petr Čech                      38   390700800 1982/05/20   Premier League\n",
              "454 Philip Foden                   20   959472000 2000/05/28   Premier League\n",
              "459 Rafael Euclides Soares Camacho 20   958953600 2000/05/22   Premier League\n",
              "481 Rui Pedro dos Santos Patrício  33   571881600 1988/02/15   Premier League\n",
              "488 Ryan Schofield                 21   944870400 1999/12/11   Premier League\n",
              "489 Ryan Sessegnon                 20   958608000 2000/05/18   Premier League\n",
              "506 Sergio Germán Romero           34   540950400 1987/02/22   Premier League\n",
              "507 Sergio Rico                    27   746841600 1993/09/01   Premier League\n",
              "513 Simon Mignolet                 33   573609600 1988/03/06   Premier League\n",
              "538 Tom Heaton                     34   513907200 1986/04/15   Premier League\n",
              "545 Vicente Guaita                 34   537235200 1987/01/10   Premier League\n",
              "555 Wayne Hennessey                34   538444800 1987/01/24   Premier League\n",
              "558 Wilfredo Daniel Caballero      39   370483200 1981/09/28   Premier League\n",
              "561 Will Norris                    27   745113600 1993/08/12   Premier League\n",
              "570 Zechariah Medley               20   962928000 2000/07/07   Premier League\n",
              "571 Zeze Steven Sessegnon          20   958608000 2000/05/18   Premier League\n",
              "572 Łukasz Fabiański               35   482630400 1985/04/18   Premier League\n",
              "    season    position   Current.Club            minutes_played_overall\n",
              "5   2018/2019 Forward    Huddersfield Town         69                  \n",
              "18  2018/2019 Goalkeeper West Ham United            0                  \n",
              "24  2018/2019 Goalkeeper Southampton             2250                  \n",
              "27  2018/2019 Goalkeeper Cardiff City               0                  \n",
              "34  2018/2019 Goalkeeper Tottenham Hotspur          0                  \n",
              "35  2018/2019 Defender   Burnley                    0                  \n",
              "37  2018/2019 Goalkeeper Liverpool               3420                  \n",
              "51  2018/2019 Midfielder Manchester United         25                  \n",
              "53  2018/2019 Goalkeeper Southampton             1080                  \n",
              "60  2018/2019 Goalkeeper Manchester City            0                  \n",
              "63  2018/2019 Goalkeeper AFC Bournemouth         1080                  \n",
              "67  2018/2019 Goalkeeper AFC Bournemouth         2160                  \n",
              "71  2018/2019 Midfielder Arsenal                    7                  \n",
              "74  2018/2019 Goalkeeper Watford                 3420                  \n",
              "76  2018/2019 Goalkeeper Huddersfield Town        553                  \n",
              "86  2018/2019 Goalkeeper Arsenal                 2835                  \n",
              "88  2018/2019 Goalkeeper Cardiff City               0                  \n",
              "93  2018/2019 Midfielder Chelsea                  391                  \n",
              "121 2018/2019 Goalkeeper Manchester City            0                  \n",
              "127 2018/2019 Midfielder Liverpool                  0                  \n",
              "130 2018/2019 Goalkeeper Arsenal                    0                  \n",
              "141 2018/2019 Goalkeeper Leicester City             0                  \n",
              "146 2018/2019 Goalkeeper Brighton & Hove Albion   360                  \n",
              "147 2018/2019 Goalkeeper Manchester United       3420                  \n",
              "170 2018/2019 Goalkeeper Manchester City         3420                  \n",
              "175 2018/2019 Midfielder Arsenal                    0                  \n",
              "180 2018/2019 Midfielder Chelsea                    0                  \n",
              "186 2018/2019 Goalkeeper Fulham                   180                  \n",
              "198 2018/2019 Goalkeeper Southampton               90                  \n",
              "199 2018/2019 Goalkeeper Newcastle United           0                  \n",
              "⋮   ⋮         ⋮          ⋮                       ⋮                     \n",
              "361 2018/2019 Goalkeeper Everton                    0                  \n",
              "366 2018/2019 Defender   Chelsea                    0                  \n",
              "370 2018/2019 Goalkeeper Fulham                   630                  \n",
              "374 2018/2019 Goalkeeper AFC Bournemouth          180                  \n",
              "378 2018/2019 Goalkeeper Newcastle United        3420                  \n",
              "381 2018/2019 Midfielder Manchester United        115                  \n",
              "385 2018/2019 Goalkeeper Brighton & Hove Albion  3060                  \n",
              "395 2018/2019 Midfielder Huddersfield Town         73                  \n",
              "403 2018/2019 Forward    Southampton              134                  \n",
              "405 2018/2019 Goalkeeper Tottenham Hotspur        180                  \n",
              "428 2018/2019 Goalkeeper Cardiff City            3420                  \n",
              "434 2018/2019 Midfielder Tottenham Hotspur        216                  \n",
              "445 2018/2019 Goalkeeper Tottenham Hotspur        270                  \n",
              "449 2018/2019 Goalkeeper Arsenal                  585                  \n",
              "454 2018/2019 Midfielder Manchester City          327                  \n",
              "459 2018/2019 Midfielder Liverpool                  0                  \n",
              "481 2018/2019 Goalkeeper Wolverhampton Wanderers 3330                  \n",
              "488 2018/2019 Goalkeeper Huddersfield Town          0                  \n",
              "489 2018/2019 Defender   Fulham                  2298                  \n",
              "506 2018/2019 Goalkeeper Manchester United          0                  \n",
              "507 2018/2019 Goalkeeper Fulham                  2610                  \n",
              "513 2018/2019 Goalkeeper Liverpool                  0                  \n",
              "538 2018/2019 Goalkeeper Burnley                 1710                  \n",
              "545 2018/2019 Goalkeeper Crystal Palace          1755                  \n",
              "555 2018/2019 Goalkeeper Crystal Palace          1575                  \n",
              "558 2018/2019 Goalkeeper Chelsea                  180                  \n",
              "561 2018/2019 Goalkeeper Wolverhampton Wanderers    0                  \n",
              "570 2018/2019 Defender   Arsenal                    0                  \n",
              "571 2018/2019 Defender   Fulham                     0                  \n",
              "572 2018/2019 Goalkeeper West Ham United         3420                  \n",
              "    minutes_played_home ⋯ conceded_per_90_overall min_per_conceded_overall\n",
              "5     14                ⋯ 1.30                     69                     \n",
              "18     0                ⋯ 0.00                      0                     \n",
              "24  1170                ⋯ 1.48                     61                     \n",
              "27     0                ⋯ 0.00                      0                     \n",
              "34     0                ⋯ 0.00                      0                     \n",
              "35     0                ⋯ 0.00                      0                     \n",
              "37  1710                ⋯ 0.50                    180                     \n",
              "51    25                ⋯ 3.60                     25                     \n",
              "53   540                ⋯ 1.42                     64                     \n",
              "60     0                ⋯ 0.00                      0                     \n",
              "63   540                ⋯ 1.42                     64                     \n",
              "67  1080                ⋯ 1.83                     49                     \n",
              "71     7                ⋯ 0.00                      0                     \n",
              "74  1710                ⋯ 1.50                     60                     \n",
              "76   283                ⋯ 3.25                     28                     \n",
              "86  1395                ⋯ 1.24                     73                     \n",
              "88     0                ⋯ 0.00                      0                     \n",
              "93   267                ⋯ 1.15                     78                     \n",
              "121    0                ⋯ 0.00                      0                     \n",
              "127    0                ⋯ 0.00                      0                     \n",
              "130    0                ⋯ 0.00                      0                     \n",
              "141    0                ⋯ 0.00                      0                     \n",
              "146  180                ⋯ 1.25                     72                     \n",
              "147 1710                ⋯ 1.34                     67                     \n",
              "170 1710                ⋯ 0.61                    149                     \n",
              "175    0                ⋯ 0.00                      0                     \n",
              "180    0                ⋯ 0.00                      0                     \n",
              "186   90                ⋯ 2.50                     36                     \n",
              "198    0                ⋯ 3.00                     30                     \n",
              "199    0                ⋯ 0.00                      0                     \n",
              "⋮   ⋮                   ⋱ ⋮                       ⋮                       \n",
              "361    0                ⋯ 0.00                      0                     \n",
              "366    0                ⋯ 0.00                      0                     \n",
              "370  270                ⋯ 2.71                     33                     \n",
              "374   90                ⋯ 2.50                     36                     \n",
              "378 1710                ⋯ 1.16                     78                     \n",
              "381  105                ⋯ 1.57                     58                     \n",
              "385 1530                ⋯ 1.53                     59                     \n",
              "395   49                ⋯ 1.23                     73                     \n",
              "403   64                ⋯ 1.34                     67                     \n",
              "405   90                ⋯ 2.00                     45                     \n",
              "428 1710                ⋯ 1.61                     56                     \n",
              "434  191                ⋯ 0.00                      0                     \n",
              "445    0                ⋯ 0.33                    270                     \n",
              "449  315                ⋯ 1.23                     73                     \n",
              "454  279                ⋯ 0.00                      0                     \n",
              "459    0                ⋯ 0.00                      0                     \n",
              "481 1620                ⋯ 1.16                     77                     \n",
              "488    0                ⋯ 0.00                      0                     \n",
              "489 1095                ⋯ 2.27                     40                     \n",
              "506    0                ⋯ 0.00                      0                     \n",
              "507 1350                ⋯ 1.83                     49                     \n",
              "513    0                ⋯ 0.00                      0                     \n",
              "538  900                ⋯ 1.21                     74                     \n",
              "545 1035                ⋯ 1.08                     84                     \n",
              "555  675                ⋯ 1.31                     68                     \n",
              "558   90                ⋯ 0.00                      0                     \n",
              "561    0                ⋯ 0.00                      0                     \n",
              "570    0                ⋯ 0.00                      0                     \n",
              "571    0                ⋯ 0.00                      0                     \n",
              "572 1710                ⋯ 1.26                     71                     \n",
              "    min_per_match min_per_card_overall min_per_assist_overall\n",
              "5   35               0                    0                  \n",
              "18   0               0                    0                  \n",
              "24  90            2250                    0                  \n",
              "27   0               0                    0                  \n",
              "34   0               0                    0                  \n",
              "35   0               0                    0                  \n",
              "37  90            3420                    0                  \n",
              "51  13               0                    0                  \n",
              "53  90               0                    0                  \n",
              "60   0               0                    0                  \n",
              "63  90             540                    0                  \n",
              "67  90               0                    0                  \n",
              "71   7               0                    0                  \n",
              "74  90            3420                    0                  \n",
              "76  79               0                    0                  \n",
              "86  89               0                    0                  \n",
              "88   0               0                    0                  \n",
              "93  39               0                  391                  \n",
              "121  0               0                    0                  \n",
              "127  0               0                    0                  \n",
              "130  0               0                    0                  \n",
              "141  0               0                    0                  \n",
              "146 90               0                    0                  \n",
              "147 90            3420                    0                  \n",
              "170 90            1710                 3420                  \n",
              "175  0               0                    0                  \n",
              "180  0               0                    0                  \n",
              "186 90               0                    0                  \n",
              "198 90               0                    0                  \n",
              "199  0               0                    0                  \n",
              "⋮   ⋮             ⋮                    ⋮                     \n",
              "361  0               0                   0                   \n",
              "366  0               0                   0                   \n",
              "370 90             630                   0                   \n",
              "374 90               0                   0                   \n",
              "378 90            3420                   0                   \n",
              "381 38               0                   0                   \n",
              "385 90            1530                   0                   \n",
              "395 37               0                   0                   \n",
              "403 22             134                 134                   \n",
              "405 90               0                   0                   \n",
              "428 90            1710                   0                   \n",
              "434 27               0                   0                   \n",
              "445 90               0                   0                   \n",
              "449 84               0                   0                   \n",
              "454 25               0                   0                   \n",
              "459  0               0                   0                   \n",
              "481 90               0                   0                   \n",
              "488  0               0                   0                   \n",
              "489 66               0                 383                   \n",
              "506  0               0                   0                   \n",
              "507 90            2610                   0                   \n",
              "513  0               0                   0                   \n",
              "538 90             570                   0                   \n",
              "545 88             878                   0                   \n",
              "555 88               0                   0                   \n",
              "558 90               0                   0                   \n",
              "561  0               0                   0                   \n",
              "570  0               0                   0                   \n",
              "571  0               0                   0                   \n",
              "572 90               0                   0                   \n",
              "    cards_per_90_overall rank_in_league_top_attackers\n",
              "5   0.00                  -1                         \n",
              "18  0.00                  -1                         \n",
              "24  0.04                 372                         \n",
              "27  0.00                  -1                         \n",
              "34  0.00                  -1                         \n",
              "35  0.00                  -1                         \n",
              "37  0.03                 417                         \n",
              "51  0.00                  -1                         \n",
              "53  0.00                 376                         \n",
              "60  0.00                  -1                         \n",
              "63  0.17                 361                         \n",
              "67  0.00                 358                         \n",
              "71  0.00                  -1                         \n",
              "74  0.03                 365                         \n",
              "76  0.00                 327                         \n",
              "86  0.00                 390                         \n",
              "88  0.00                  -1                         \n",
              "93  0.00                 277                         \n",
              "121 0.00                  -1                         \n",
              "127 0.00                  -1                         \n",
              "130 0.00                  -1                         \n",
              "141 0.00                  -1                         \n",
              "146 0.00                 404                         \n",
              "147 0.03                 310                         \n",
              "170 0.05                 366                         \n",
              "175 0.00                  -1                         \n",
              "180 0.00                  -1                         \n",
              "186 0.00                  -1                         \n",
              "198 0.00                  -1                         \n",
              "199 0.00                  -1                         \n",
              "⋮   ⋮                    ⋮                           \n",
              "361 0.00                  -1                         \n",
              "366 0.00                  -1                         \n",
              "370 0.14                 296                         \n",
              "374 0.00                  -1                         \n",
              "378 0.03                 345                         \n",
              "381 0.00                  -1                         \n",
              "385 0.06                 398                         \n",
              "395 0.00                  -1                         \n",
              "403 0.67                  -1                         \n",
              "405 0.00                  -1                         \n",
              "428 0.05                 363                         \n",
              "434 0.00                  -1                         \n",
              "445 0.00                  -1                         \n",
              "449 0.00                 384                         \n",
              "454 0.00                  67                         \n",
              "459 0.00                  -1                         \n",
              "481 0.00                 405                         \n",
              "488 0.00                  -1                         \n",
              "489 0.00                 182                         \n",
              "506 0.00                  -1                         \n",
              "507 0.03                 320                         \n",
              "513 0.00                  -1                         \n",
              "538 0.16                 382                         \n",
              "545 0.10                 325                         \n",
              "555 0.00                 321                         \n",
              "558 0.00                  -1                         \n",
              "561 0.00                  -1                         \n",
              "570 0.00                  -1                         \n",
              "571 0.00                  -1                         \n",
              "572 0.00                 391                         \n",
              "    rank_in_league_top_midfielders rank_in_league_top_defenders\n",
              "5    -1                             -1                         \n",
              "18   -1                             -1                         \n",
              "24  365                            114                         \n",
              "27   -1                             -1                         \n",
              "34   -1                             -1                         \n",
              "35   -1                             -1                         \n",
              "37  387                              3                         \n",
              "51   -1                             -1                         \n",
              "53  339                            104                         \n",
              "60   -1                             -1                         \n",
              "63  394                            100                         \n",
              "67  273                            154                         \n",
              "71   -1                             -1                         \n",
              "74  353                            116                         \n",
              "76  348                            175                         \n",
              "86  413                             76                         \n",
              "88   -1                             -1                         \n",
              "93   54                             -1                         \n",
              "121  -1                             -1                         \n",
              "127  -1                             -1                         \n",
              "130  -1                             -1                         \n",
              "141  -1                             -1                         \n",
              "146 327                             79                         \n",
              "147 419                             91                         \n",
              "170 240                             13                         \n",
              "175  -1                             -1                         \n",
              "180  -1                             -1                         \n",
              "186  -1                             -1                         \n",
              "198  -1                             -1                         \n",
              "199  -1                             -1                         \n",
              "⋮   ⋮                              ⋮                           \n",
              "361  -1                             -1                         \n",
              "366  -1                             -1                         \n",
              "370 283                            174                         \n",
              "374  -1                             -1                         \n",
              "378 317                             58                         \n",
              "381  -1                             -1                         \n",
              "385 389                            122                         \n",
              "395  -1                             -1                         \n",
              "403  -1                             -1                         \n",
              "405  -1                             -1                         \n",
              "428 392                            134                         \n",
              "434  -1                             -1                         \n",
              "445  -1                             -1                         \n",
              "449 377                             71                         \n",
              "454 386                             -1                         \n",
              "459  -1                             -1                         \n",
              "481 328                             56                         \n",
              "488  -1                             -1                         \n",
              "489  53                            168                         \n",
              "506  -1                             -1                         \n",
              "507 406                            153                         \n",
              "513  -1                             -1                         \n",
              "538 354                             68                         \n",
              "545 352                             45                         \n",
              "555 404                             87                         \n",
              "558  -1                             -1                         \n",
              "561  -1                             -1                         \n",
              "570  -1                             -1                         \n",
              "571  -1                             -1                         \n",
              "572 343                             81                         \n",
              "    rank_in_club_top_scorer\n",
              "5   31                     \n",
              "18  -1                     \n",
              "24  21                     \n",
              "27  -1                     \n",
              "34  -1                     \n",
              "35  -1                     \n",
              "37  16                     \n",
              "51  19                     \n",
              "53  25                     \n",
              "60  -1                     \n",
              "63  20                     \n",
              "67  19                     \n",
              "71  17                     \n",
              "74  18                     \n",
              "76  14                     \n",
              "86  23                     \n",
              "88  -1                     \n",
              "93  16                     \n",
              "121 -1                     \n",
              "127 -1                     \n",
              "130 -1                     \n",
              "141 -1                     \n",
              "146 14                     \n",
              "147 18                     \n",
              "170 21                     \n",
              "175 -1                     \n",
              "180 -1                     \n",
              "186 13                     \n",
              "198 29                     \n",
              "199 -1                     \n",
              "⋮   ⋮                      \n",
              "361 -1                     \n",
              "366 -1                     \n",
              "370 14                     \n",
              "374 28                     \n",
              "378 18                     \n",
              "381 27                     \n",
              "385 15                     \n",
              "395 18                     \n",
              "403 16                     \n",
              "405 22                     \n",
              "428 17                     \n",
              "434 16                     \n",
              "445 15                     \n",
              "449 20                     \n",
              "454 11                     \n",
              "459 -1                     \n",
              "481 19                     \n",
              "488 -1                     \n",
              "489  6                     \n",
              "506 -1                     \n",
              "507 21                     \n",
              "513 -1                     \n",
              "538 18                     \n",
              "545 19                     \n",
              "555 13                     \n",
              "558 19                     \n",
              "561 -1                     \n",
              "570 -1                     \n",
              "571 -1                     \n",
              "572 19                     "
            ]
          },
          "metadata": {}
        }
      ]
    },
    {
      "cell_type": "markdown",
      "source": [
        "`\"position\"が\"Defender\"`かつ`\"age\"が20以下`の`goals_overall`(得点数)であれば\n",
        "\n",
        "`df[(df$position == \"Defender\") & (df$age <= 20), 'goals_overall']`となります。"
      ],
      "metadata": {
        "id": "k4u113rJ-W2V"
      }
    },
    {
      "cell_type": "code",
      "source": [
        "df[(df$position == \"Defender\") & (df$age <= 20), 'goals_overall']"
      ],
      "metadata": {
        "colab": {
          "base_uri": "https://localhost:8080/",
          "height": 34
        },
        "id": "WggWufE_-m_M",
        "outputId": "3b970f39-d380-4805-a04b-b69468cb574c"
      },
      "execution_count": 40,
      "outputs": [
        {
          "output_type": "display_data",
          "data": {
            "text/html": [
              "<style>\n",
              ".list-inline {list-style: none; margin:0; padding: 0}\n",
              ".list-inline>li {display: inline-block}\n",
              ".list-inline>li:not(:last-child)::after {content: \"\\00b7\"; padding: 0 .5ex}\n",
              "</style>\n",
              "<ol class=list-inline><li>0</li><li>0</li><li>0</li><li>2</li><li>0</li><li>0</li></ol>\n"
            ],
            "text/markdown": "1. 0\n2. 0\n3. 0\n4. 2\n5. 0\n6. 0\n\n\n",
            "text/latex": "\\begin{enumerate*}\n\\item 0\n\\item 0\n\\item 0\n\\item 2\n\\item 0\n\\item 0\n\\end{enumerate*}\n",
            "text/plain": [
              "[1] 0 0 0 2 0 0"
            ]
          },
          "metadata": {}
        }
      ]
    },
    {
      "cell_type": "markdown",
      "source": [
        "今後の講義では複数のデータを比較することが多くなるので、このような形でデータをいくつか抽出し、統計的に比較を行う関数に適用する、という流れが多くなるかと思います。"
      ],
      "metadata": {
        "id": "_SrFm9Vh4nNd"
      }
    },
    {
      "cell_type": "markdown",
      "source": [
        "# 関数の作成\n",
        "\n",
        "`log`や`summary`, `read.csv`等、様々な関数を使用してきましたが、Rでは自分独自の関数を作ることも出来ます。\n",
        "\n",
        "自作の関数を作るには、`function`という関数を使用します。\n",
        "\n",
        "例えば平均値を計算する`mean`という関数を自作するコードを書くと以下の様になります。\n",
        "\n",
        "```\n",
        "mean_zisaku <- function(x) {\n",
        "  goukei <- sum(x)               # 合計値を計算\n",
        "  ans <- goukei / length(x)      # 要素の数で合計値を割る\n",
        "  return(ans)                    # 計算結果を返す\n",
        "}\n",
        "```"
      ],
      "metadata": {
        "id": "Xi4S3V8383bl"
      }
    },
    {
      "cell_type": "code",
      "source": [
        "mean_zisaku <- function(x) {\n",
        "  goukei <- sum(x)\n",
        "  ans <- goukei / length(x)\n",
        "  return(ans)\n",
        "}"
      ],
      "metadata": {
        "id": "jKwNSYiGM3Ij"
      },
      "execution_count": 41,
      "outputs": []
    },
    {
      "cell_type": "markdown",
      "source": [
        "`mean`関数と今回作成した`mean_zisaku`関数で結果が同じになるか確認してみましょう。\n",
        "\n",
        "```\n",
        "x <- c(12, 14, 18, 26, 30)\n",
        "mean(x) または mean_zisaku(x)\n",
        "```"
      ],
      "metadata": {
        "id": "-sp4ocGhNLtk"
      }
    },
    {
      "cell_type": "code",
      "source": [
        "x <- c(12, 14, 18, 26, 30)\n",
        "mean_zisaku(x)"
      ],
      "metadata": {
        "id": "XQ-_ZEQdNiMh",
        "colab": {
          "base_uri": "https://localhost:8080/",
          "height": 34
        },
        "outputId": "0c1fa092-0069-449f-c9a4-46eb4351e6d3"
      },
      "execution_count": 42,
      "outputs": [
        {
          "output_type": "display_data",
          "data": {
            "text/html": [
              "20"
            ],
            "text/markdown": "20",
            "text/latex": "20",
            "text/plain": [
              "[1] 20"
            ]
          },
          "metadata": {}
        }
      ]
    },
    {
      "cell_type": "markdown",
      "source": [
        "# パッケージの利用\n",
        "\n",
        "自分で関数を作ることが出来るということを説明しましたが、他の人が作った関数を利用することも出来ます。\n",
        "\n",
        "初期状態のRでも様々な統計手法を扱うことは可能ですが、他の人が作成した関数を活用することでより多様な・高度な統計解析を行うことが可能になります。\n",
        "\n",
        "その様な関数はパッケージという形で用意されています。機械学習用の関数がまとめられたパッケージや、ゲノム配列を処理する関数がまとめられたパッケージ、グラフ描写の関数がまとめられたパッケージなど、目的に応じた様々なパッケージがあります。\n",
        "\n",
        "参考: [パッケージ一覧](https://cran.r-project.org/web/packages/available_packages_by_date.html)"
      ],
      "metadata": {
        "id": "uMhNdTNn83e-"
      }
    },
    {
      "cell_type": "markdown",
      "source": [
        "パッケージを利用する手順は下記の順になります。\n",
        "1. 目的のパッケージをインストールする\n",
        "2. パッケージを読み込む\n",
        "3. パッケージにまとめられていた関数が使用可能になる\n"
      ],
      "metadata": {
        "id": "n1w9zpX7QYtE"
      }
    },
    {
      "cell_type": "markdown",
      "source": [
        "まず、パッケージのインストールですが、`install.packages(\"欲しいパッケージ名\")`という関数でインストールできます。\n",
        "\n",
        "今回は`ggplot2`というグラフ描写用のパッケージをインストールしてみましょう。\n",
        "\n",
        "`install.packages(\"ggplot2\")`でインストールできます。"
      ],
      "metadata": {
        "id": "sTvlc1xISA9u"
      }
    },
    {
      "cell_type": "code",
      "source": [
        "install.packages(\"ggplot2\")"
      ],
      "metadata": {
        "id": "osh76IEDQX57",
        "colab": {
          "base_uri": "https://localhost:8080/"
        },
        "outputId": "b7f5bb2d-a3b2-4b8b-f3ba-f9cbdfbd73ff"
      },
      "execution_count": 43,
      "outputs": [
        {
          "output_type": "stream",
          "name": "stderr",
          "text": [
            "Installing package into ‘/usr/local/lib/R/site-library’\n",
            "(as ‘lib’ is unspecified)\n",
            "\n"
          ]
        }
      ]
    },
    {
      "cell_type": "markdown",
      "source": [
        "続いて、インストールしたパッケージに含まれる関数を使用するには、パッケージを読み込ませる必要があります。\n",
        "\n",
        "`library(パッケージ名)`関数で読み込めます。\n",
        "\n",
        "今回のパッケージには`ggplot()`という関数が入っていますが、パッケージを読み込まずに、`ggplot()`と入力すると…"
      ],
      "metadata": {
        "id": "CRK1FN2LSdw9"
      }
    },
    {
      "cell_type": "code",
      "source": [
        "ggplot()"
      ],
      "metadata": {
        "id": "5q2O-srERQB8",
        "colab": {
          "base_uri": "https://localhost:8080/",
          "height": 74
        },
        "outputId": "d7aa3b02-4444-43c9-c2a2-343069f05f4f"
      },
      "execution_count": 44,
      "outputs": [
        {
          "output_type": "error",
          "ename": "ERROR",
          "evalue": "Error in ggplot(): could not find function \"ggplot\"\n",
          "traceback": [
            "Error in ggplot(): could not find function \"ggplot\"\nTraceback:\n"
          ]
        }
      ]
    },
    {
      "cell_type": "markdown",
      "source": [
        "エラーが出たかと思います。\n",
        "\n",
        "まず`library(ggplot2)`と書いてパッケージを読み込ませてから、\n",
        "\n",
        "`ggplot()`関数を使用するとちゃんと使えるようになっているのが分かるかと思います。"
      ],
      "metadata": {
        "id": "H-u3sMCJTTmi"
      }
    },
    {
      "cell_type": "code",
      "source": [
        "library(ggplot2)\n",
        "ggplot()"
      ],
      "metadata": {
        "id": "qRqcmIHjS7hW",
        "colab": {
          "base_uri": "https://localhost:8080/",
          "height": 437
        },
        "outputId": "d08056ce-25d8-4cf9-9b11-11d5ca9a9f4c"
      },
      "execution_count": 45,
      "outputs": [
        {
          "output_type": "display_data",
          "data": {
            "text/plain": [
              "plot without title"
            ],
            "image/png": "[encoded data removed]"
          },
          "metadata": {
            "image/png": {
              "width": 420,
              "height": 420
            }
          }
        }
      ]
    },
    {
      "cell_type": "markdown",
      "source": [
        "今回は`ggplot()`関数で白いキャンバスを描いただけですが、ggplot2は非常に強力なグラフ描写パッケージです。\n",
        "\n",
        "また今後の講義でこのパッケージの使い方は扱う予定です。"
      ],
      "metadata": {
        "id": "iVMHei1wTxTa"
      }
    },
    {
      "cell_type": "markdown",
      "source": [
        "講義の前半部分はRにもともと備わっている統計手法の関数で十分事足りますが、\n",
        "\n",
        "高度な線形モデルや機械学習を扱う際に、そういった解析が容易に行えるパッケージを使用する予定です。"
      ],
      "metadata": {
        "id": "v9wp3pSZ5lbj"
      }
    },
    {
      "cell_type": "markdown",
      "source": [
        "# 課題と今後の課題の提出方法\n",
        "\n",
        "[課題のノートブックへのリンク](https://colab.research.google.com/github/slt666666/biostatistics_text_wed/blob/main/source/_static/colab_notebook/chapter2_homework.ipynb)\n",
        "\n",
        "今後の講義の課題の一部は、Google Colaboratoryで課題を解き、提出してもらう場合があります。\n",
        "\n",
        "1. 課題のノートブックを開く\n",
        "2. 課題を解く(コードを記述し、実行して結果を表示する)\n",
        "3. 2.を実行した状態のページをPDFとして保存\n",
        "  * 左上のファイル→印刷→PDFに保存\n",
        "\n",
        "このPDFをPandaから提出してもらう形になります。\n",
        "\n",
        "<img src=\"https://github.com/slt666666/biostatistics_text_wed/blob/main/source/_static/images/chapter2/homework.png?raw=true\" alt=\"title\" height=\"350px\">\n"
      ],
      "metadata": {
        "id": "UdWztSRnaEPI"
      }
    }
  ]
}