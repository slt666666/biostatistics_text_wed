{
  "nbformat": 4,
  "nbformat_minor": 0,
  "metadata": {
    "colab": {
      "provenance": [],
      "toc_visible": true
    },
    "kernelspec": {
      "name": "ir",
      "display_name": "R"
    },
    "language_info": {
      "name": "R"
    }
  },
  "cells": [
    {
      "cell_type": "markdown",
      "source": [
        "# 第2回 R言語の基礎"
      ],
      "metadata": {
        "id": "obnzB1V21pax"
      }
    },
    {
      "cell_type": "markdown",
      "source": [
        "[![open in colab](https://colab.research.google.com/assets/colab-badge.svg)](https://colab.research.google.com/github/slt666666/biostatistics_text_wed/blob/main/source/_static/colab_notebook/chapter2.ipynb)"
      ],
      "metadata": {
        "id": "QKh8RcE7XLY6"
      }
    },
    {
      "cell_type": "markdown",
      "source": [
        "## はじめに\n",
        "\n",
        "R は、数値計算（ベクトルや行列の計算）や、統計解析、機械学習（Machine Learning）、深層学習（Deep Learning）、グラフ描画など、データ解析が得意なプログラミング言語になります。\n",
        "\n",
        "データ解析の研究者でなくても、実験データなどの統計解析を行う際に最も使用されているプログラミング言語の１つです。\n",
        "\n",
        "そこで、本講義では学んだ統計処理を、Rで実行するための実習も行っていきます。\n",
        "\n",
        "このテキストでは、実習に必要な最低限のRの基礎知識を学んでいきます。\n",
        "\n",
        "より高度な使い方等を知りたい方は、別途学習してみてください。"
      ],
      "metadata": {
        "id": "2bLFQcxy824O"
      }
    },
    {
      "cell_type": "markdown",
      "source": [
        "## 実習に入る前に\n",
        "\n",
        "本講義では講義資料としてGoogle Colaboratoryで記述されたものを共有しています。\n",
        "\n",
        "Google Colaboratoryは、web上でプログラミングをおこなことが可能な便利なサービスです。名称からわかるとおり、Google社が提供しているサービスになります。\n",
        "基本的にPythonを動かすことが多いですが、今回の講義ではRを動かすのに使用しています。\n",
        "\n",
        "<img src=\"https://lh3.googleusercontent.com/rGFAR5vGV9lYsnnb1QhFUZlWbOtHVTwhLq4wBjIIxgJ05Dldb6ELwBTpmkBM-1i7XQ1ir1JIkxK3fcfQ20HK0VkraOPPZdClaM9caTbvsewYMU-lvsIhvXvtcDuhm8VHL495z-m9Cq_oktsqtYg-EAZXpc6_-3ebHARqVPE-q2d6EM_fq6Zcnjq3BODbYdxmAyOrS0lycbTJBvcGNWAkAJ-ECJBPyKAevUEXSCUDx7NkYgjh1Wj02VTP2POVBmpJTZhegRVyWMVryUjeKeJd9mEcoCNRWV7dEk8O80ETmOh0512AuMqzLUivD6mGxItX24uAChpt64ToJq2lAvDeg2gYk7fIKPUGPvroLFKy_UN3dlKSeC1upQsdEwDHEcgp5RK3tggn1eERsLKxqY-QDjL-LlcRyYrRqSjiTWFIkNBeif3v0R8K80JN8R2b49ukgR-Y3jOJQ1Sq23Vt16Nz98dhAXGADKNXnnmPcoeLtoHkGXIO0XxNCXj568wyC4q4WiPt82ATSORKpM-EQis-tcjh840FMsJ0fuHe-jOtLYtWqbvnmXDYJBtX_K-HDu3Vf0tD6wWks2A10NTlyh_W9Id5KRmBfq5bpqxYhv21Knrl7EFYCyF3UofbJ5MZGvjuFu-4yUwW5m5d6KsgKzs2KIUSAvF6WtCH2Vqz-HynVTMx0Q1pyRDXw8QBThSW=w1341-h510-no?authuser=0\" alt=\"colab_server\" height=\"150px\">\n",
        "\n",
        "本講義ではGoogle ColaboratoryでRを動かしますが、実際に実験データ等を統計処理する場合には、自分のPCにRを入れて動かすことが多いです。\n",
        "\n",
        "より実際に近い状況で実習を行いたい場合は、自分のPCにRを入れて動かしていただいても構いませんし、\n",
        "\n",
        "こちらが提供しているGoogle Colaboratoryで動かしていただいても、どちらでも構いません。\n",
        "\n",
        "ただし、今後出す予定の課題はGoogle Colaboratoryを使用して提出する必要があるので、使用方法は理解しておいてください。\n"
      ],
      "metadata": {
        "id": "KVWnSn0U9717"
      }
    },
    {
      "cell_type": "markdown",
      "source": [
        "### Rのインストール方法 (自分のPCで動かしたい人向け)\n",
        "\n",
        "Rを自分のPCに入れて動かしたい人は、下記の手順でRをインストールしてみてください。\n",
        "\n",
        "1. [R のホームページ](https://www.r-project.org/)に行きます。\n",
        "2. **download R**のページへ移動\n",
        "3. 適当なミラーサイトを選択(\n",
        "https://cloud.r-project.org/ でOK)\n",
        "4. 自分のOSのリンク先へ移動\n",
        "5. **base**をクリックしてインストーラーをダウンロード\n",
        "6. ダウンロードしたファイルを開いてあとは指示通りに\n",
        "\n",
        "<img src=\"https://github.com/slt666666/biostatistics_text_wed/blob/main/source/_static/images/chapter2/R_HP.png?raw=true\" alt=\"title\" height=\"400px\">\n",
        "\n",
        "また、Rを使う際には、**Rstudio**という開発環境(Rを使いやすくするツール)を使用することが多いです。\n",
        "\n",
        "もし、Rを自分のPCに入れて動かす予定の方はRstudioも一緒に入れて使う様にすると良いと思います。\n",
        "\n",
        "Rstudioのインストールも同じように、\n",
        "\n",
        "1. [Rstudioのホームページ](https://posit.co/download/rstudio-desktop/)に行きます。\n",
        "2. 少し下の方にあるInstall Rstudioという所にある、**Download RStudio Desktop for XXX(自分のOS)**というボタンをクリックしてインストーラーをダウンロード\n",
        "3. ダウンロードしたファイルを開いてあとは指示通りに\n",
        "\n",
        "<img src=\"https://github.com/slt666666/biostatistics_text_wed/blob/main/source/_static/images/chapter2/Rstudio_HP.png?raw=true\" alt=\"title\" height=\"400px\">\n",
        "\n",
        "\n"
      ],
      "metadata": {
        "id": "N2XCN-1PARo2"
      }
    },
    {
      "cell_type": "markdown",
      "source": [
        "### Google Colaboratoryの使い方 - Rのコードを動かす方法\n",
        "\n",
        "Google ColaboratoryでRのコードを書いて動かすには、左上にある `+コード`でコード記述用のセルを追加し、そこにRのコードを書いていきます。\n",
        "\n",
        "<img src=\"https://github.com/slt666666/biostatistics_text_wed/blob/main/source/_static/images/chapter2/code_block.png?raw=true\" alt=\"title\" height=\"150px\">\n",
        "\n",
        "コードセルは左側の三角ボタンを押すか、`Shift+Enter`で選択中のセル内のコードを動かすことができます。\n",
        "\n",
        "<img src=\"https://github.com/slt666666/biostatistics_text_wed/blob/main/source/_static/images/chapter2/run_code.png?raw=true\" alt=\"title\" height=\"70px\">\n",
        "\n",
        "\n",
        "自分のPCでRを動かしている方はRを起動してコンソールにコードを打ち込み、`Enter`をすればコードが動きます。\n",
        "\n",
        "まずは適当な足し算(`7 + 8`等)を書いてみて動かしてみましょう。\n",
        "\n",
        "Google Colaboratoryで最初にコードを動かす際には接続するために少し時間がかかります(以降はすぐ実行できます)。\n",
        "\n"
      ],
      "metadata": {
        "id": "f1UczlXQyQoT"
      }
    },
    {
      "cell_type": "code",
      "source": [
        "7 + 8"
      ],
      "metadata": {
        "id": "Z5XWdecP1I1I"
      },
      "execution_count": null,
      "outputs": []
    },
    {
      "cell_type": "markdown",
      "source": [
        "引き算(`7 - 3`)や掛け算(`2 * 5`)、割り算(`78 / 13`)なども可能です。"
      ],
      "metadata": {
        "id": "jVK8wmT_4qlk"
      }
    },
    {
      "cell_type": "code",
      "source": [],
      "metadata": {
        "id": "y7UwQjpI5LlZ"
      },
      "execution_count": null,
      "outputs": []
    },
    {
      "cell_type": "markdown",
      "source": [
        "累乗も計算できます。Rで累乗を計算するには`^`を使います。\n",
        "\n",
        "例えば2の10乗を計算する場合は`2^10`になります。"
      ],
      "metadata": {
        "id": "COo15BRg50fE"
      }
    },
    {
      "cell_type": "code",
      "source": [],
      "metadata": {
        "id": "BBI2VK6o5_qm"
      },
      "execution_count": null,
      "outputs": []
    },
    {
      "cell_type": "markdown",
      "source": [
        "## 関数\n",
        "\n",
        "次にRで使用可能な**関数**を使用します。\n",
        "\n",
        "関数というのは、与えた値に何らかの処理をして結果返してくれるものです。"
      ],
      "metadata": {
        "id": "btXtB4FlDPcg"
      }
    },
    {
      "cell_type": "markdown",
      "source": [
        "まずは`sqrt`という平方根を求めることが出来る関数を使ってみます。\n",
        "\n",
        "例えば、`sqrt(1024)`というコードを動かすと、与えられた値1024の平方根32を返す形になります。"
      ],
      "metadata": {
        "id": "O0ONbfqB5Xze"
      }
    },
    {
      "cell_type": "code",
      "source": [],
      "metadata": {
        "id": "yj2IpbB66Uri"
      },
      "execution_count": null,
      "outputs": []
    },
    {
      "cell_type": "markdown",
      "source": [
        "Rには他にも様々な関数があります。\n",
        "\n",
        "例えば`log`という関数は何らかの値と対数の底の値を与えると、対数を計算してくれます。\n",
        "\n",
        "`log(1024, 2)`というコードを動かすと、1024は2の10乗なので、10を返す形になります。"
      ],
      "metadata": {
        "id": "PxudUpPf6X8a"
      }
    },
    {
      "cell_type": "code",
      "source": [],
      "metadata": {
        "id": "NFG3s9Am6XTm"
      },
      "execution_count": null,
      "outputs": []
    },
    {
      "cell_type": "markdown",
      "source": [
        "## コードとコメント\n",
        "\n",
        "Rではコードの途中で`#`を使用することでコメントを記入出来ます。\n",
        "\n",
        "`#`以降に記入されたものはコメントとして扱われるため、実行されません。"
      ],
      "metadata": {
        "id": "1icmr5gJh_IZ"
      }
    },
    {
      "cell_type": "code",
      "source": [
        "4 + 12 # コメント\n",
        "# 21 + 24\n",
        "8 + 70"
      ],
      "metadata": {
        "id": "GtY9lGReieDb"
      },
      "execution_count": null,
      "outputs": []
    },
    {
      "cell_type": "markdown",
      "source": [
        "コードの途中で何かメモをしておいたり、コードの説明を記述する際には`#`を上手く使ってください。\n",
        "\n",
        "講義で提示するコードにも、`#`で説明が加えられていることがありますが、コメントだと認識しておいてください。"
      ],
      "metadata": {
        "id": "h2ukq2miitFa"
      }
    },
    {
      "cell_type": "markdown",
      "source": [
        "## 複数の値をまとめて扱う・変数\n",
        "\n",
        "Rでは複数の値を1つのベクトルデータとして扱うことができます。\n",
        "\n",
        "`c`という関数でデータをまとめることが出来ます。\n",
        "\n",
        "`c(123, 23, 45, 221, 78)`\n",
        "\n",
        "また、Rでは自分で名前を決めた**変数**にデータを格納しておくことが可能です。\n",
        "\n",
        "`変数名 <- データ`という形でデータを格納できます。\n",
        "\n",
        "例えば、上の5つの値を`x`という変数に格納するには、`x <- c(123, 23, 45, 221, 78)`となります。"
      ],
      "metadata": {
        "id": "jGP7Oc9V-2vB"
      }
    },
    {
      "cell_type": "code",
      "source": [
        "x <- c(123, 23, 45, 221, 78)"
      ],
      "metadata": {
        "id": "MHnJmCci40Qw"
      },
      "execution_count": null,
      "outputs": []
    },
    {
      "cell_type": "markdown",
      "source": [
        "xに値を一度格納すると、以降はxの中身が格納した値になります。"
      ],
      "metadata": {
        "id": "UqkUMu8y43T0"
      }
    },
    {
      "cell_type": "code",
      "source": [
        "x"
      ],
      "metadata": {
        "id": "0i-8AMhV45dZ"
      },
      "execution_count": null,
      "outputs": []
    },
    {
      "cell_type": "markdown",
      "source": [
        "複数の値に対して適用することが出来る関数があり、\n",
        "\n",
        "平均値を計算する`mean`関数、合計値を計算する`sum`関数などがあります。"
      ],
      "metadata": {
        "id": "6YEzGEGABXxS"
      }
    },
    {
      "cell_type": "code",
      "source": [
        "x <- c(123, 23, 45, 221, 78)\n",
        "mean(x)"
      ],
      "metadata": {
        "id": "w9whDttxBnR3"
      },
      "execution_count": null,
      "outputs": []
    },
    {
      "cell_type": "code",
      "source": [
        "# sum関数\n"
      ],
      "metadata": {
        "id": "tl05ruBnBrDF"
      },
      "execution_count": null,
      "outputs": []
    },
    {
      "cell_type": "markdown",
      "source": [
        "`summary`という関数はデータの平均値や最大値などの基本的な統計量を計算してくれます。"
      ],
      "metadata": {
        "id": "5ePd-tvXBxbm"
      }
    },
    {
      "cell_type": "code",
      "source": [
        "# summry関数\n",
        "x <- c(12, 23, 32, 18, 19, 20)\n"
      ],
      "metadata": {
        "id": "whphBtCJB5o3"
      },
      "execution_count": null,
      "outputs": []
    },
    {
      "cell_type": "markdown",
      "source": [
        "Rにはデータの要約や検定など、統計的な処理を行ってくれる関数が充実しているので、\n",
        "\n",
        "難しい計算を自分でやらなくても手軽にデータの統計処理が出来る様になります。"
      ],
      "metadata": {
        "id": "kaIh3kH6CDtQ"
      }
    },
    {
      "cell_type": "markdown",
      "source": [
        "### ベクトルに対する計算・ベクトル同士の計算\n",
        "\n",
        "ベクトルのすべての要素に対して、ある値を引いたり、かける事が出来ます。\n"
      ],
      "metadata": {
        "id": "DRDrNXpaDPS2"
      }
    },
    {
      "cell_type": "code",
      "source": [
        "x <- c(12, 23, 32, 18, 19, 20)\n",
        "\n",
        "x - 10"
      ],
      "metadata": {
        "id": "07CO6jsyENF3"
      },
      "execution_count": null,
      "outputs": []
    },
    {
      "cell_type": "code",
      "source": [
        "# ベクトルかけ算"
      ],
      "metadata": {
        "id": "SQ50fm6MEVEk"
      },
      "execution_count": null,
      "outputs": []
    },
    {
      "cell_type": "markdown",
      "source": [
        "また、ベクトル同士で計算を行うと、\n",
        "\n",
        "1番目の要素同士、2番目の要素同士、3番目の要素同士...と、各要素ごとに計算が行われます。\n",
        "\n"
      ],
      "metadata": {
        "id": "iCtwM4D1EZ1O"
      }
    },
    {
      "cell_type": "code",
      "source": [
        "x <- c(12, 23, 32, 18, 19, 20)\n",
        "y <- c(10, 20, 30, 40, 50, 60)\n",
        "\n",
        "x + y"
      ],
      "metadata": {
        "id": "hDeXEwoCEv8R"
      },
      "execution_count": null,
      "outputs": []
    },
    {
      "cell_type": "markdown",
      "source": [
        "ベクトルを`^2`で2乗すると、各要素ごとに2乗されることになります。"
      ],
      "metadata": {
        "id": "aXHlo9waGMce"
      }
    },
    {
      "cell_type": "code",
      "source": [
        "# ベクトルを2乗\n",
        "x <- c(12, 23, 32, 18, 19, 20)\n"
      ],
      "metadata": {
        "id": "t71z4yHaGJ8N"
      },
      "execution_count": null,
      "outputs": []
    },
    {
      "cell_type": "markdown",
      "source": [
        "一見、で？となる様な特徴ですが、このベクトル計算が統計手法に登場する計算で役に立ちます。\n",
        "\n",
        "例えば実験をして10個の観測値$X_1, X_2, X_3, ... X_{10}$が得られたとき、その平均値を$\\bar{X}$とすると、\n",
        "\n",
        "$\\sum_{i=1}^{10}(X_i - \\bar{X})^2$\n",
        "\n",
        "みたいな値を今後計算することになります。\n",
        "\n",
        "実際に$X_1, X_2, X_3, ... X_{10}$が$12, 23, 32, 18, 19, 20,37,28,10,24$だった場合、\n",
        "\n",
        "`mean`関数や`sum関数`、`x^2`でxの二乗が計算できることを利用して計算してみると…\n"
      ],
      "metadata": {
        "id": "RQ0CWJQ-E3uC"
      }
    },
    {
      "cell_type": "code",
      "source": [
        "data <- c(12,23,32,18,19,20,37,28,10,24)\n",
        "\n",
        "# コード書いて計算してみましょう\n"
      ],
      "metadata": {
        "id": "thu_8l6eFuXe"
      },
      "execution_count": null,
      "outputs": []
    },
    {
      "cell_type": "markdown",
      "source": [
        "また2種類の観測データ$X_1, X_2, ..., X_{10}$と$Y_1, Y_2,... Y_{10}$が得られたとき、\n",
        "\n",
        "それぞれの平均値$\\bar{X}, \\bar{Y}$とすると\n",
        "\n",
        "$\\sum_{i=1}^{10}(X_i - \\bar{X})(Y_i - \\bar{Y})$\n",
        "\n",
        "みたいな計算も必要になります。\n",
        "\n",
        "$X_1, X_2, X_3, ... X_{10}$が$12, 23, 32, 18, 19, 20, 37,28,10,24$\n",
        "\n",
        "$Y_1, Y_2, Y_3, ... Y_{10}$が$102, 240, 289, 156, 188, 201, 222, 278, 98, 232$だった場合、"
      ],
      "metadata": {
        "id": "QXd2bF56LPcM"
      }
    },
    {
      "cell_type": "code",
      "source": [
        "x <- c(12,23,32,18,19,20,37,28,10,24)\n",
        "y <- c(102,240,289,156,188,201,222,278,98,232)\n",
        "\n",
        "# コード書いて計算してみましょう\n"
      ],
      "metadata": {
        "id": "aLvtRjUyMULJ"
      },
      "execution_count": null,
      "outputs": []
    },
    {
      "cell_type": "markdown",
      "source": [
        "この様な形で、統計手法の計算ではそれぞれの観測値ごとに何らかの計算をする場面が多く出てきます。\n",
        "\n",
        "その際にRのベクトルの各要素ごとに計算する仕組みが役立ちます。"
      ],
      "metadata": {
        "id": "OFDwDdV3LDn_"
      }
    },
    {
      "cell_type": "markdown",
      "source": [
        "## CSVファイル等の外部データを読み込む\n",
        "\n",
        "ここまでは数値データ等を自分で打ち込んできましたが、既存のファイル等からデータを読み込むことも可能です。\n",
        "\n",
        "ここではデータを保存しておく形式として最もポピュラーなものの１つのCSV形式のファイルを読み込みます。\n",
        "\n",
        "CSVファイルは、CSV(Comma-Separated Values)の通り、カンマ(,)でデータを区切って保存したファイルです。Excelでも読み込むことが出来るのでよく用いられています。\n",
        "\n",
        "<img src=\"https://github.com/slt666666/biostatistics_text_wed/blob/main/source/_static/images/chapter2/csv_load.png?raw=true\" alt=\"title\" height=\"150px\">\n",
        "\n",
        "\n",
        "CSVファイルを読み込むための関数`read.csv`という関数があります。\n",
        "\n",
        "今回はGoogle Colaboratoryにもともと置いてあるサンプルファイルを読み込んでみます。\n",
        "\n",
        "`read.csv(\"CSVファイルの名前/URL等\")`"
      ],
      "metadata": {
        "id": "Wqsto1am5g4g"
      }
    },
    {
      "cell_type": "code",
      "source": [
        "read.csv(\"sample_data/california_housing_test.csv\")"
      ],
      "metadata": {
        "id": "fP7sA2mi8xU6"
      },
      "execution_count": null,
      "outputs": []
    },
    {
      "cell_type": "markdown",
      "source": [
        "### Google Colaboratoryで使用できるファイルについて\n",
        "\n",
        "Google Colaboratoryで自分のデータを扱いたい場合、Google Colaboratoryにファイルをアップロードする必要があります。\n",
        "\n",
        "左端のメニューからフォルダマークを選び、アップロードボタンからファイルをアップロードします。\n",
        "\n",
        "ドラッグ&ドロップでもアップロード可能です。\n",
        "\n",
        "<img src=\"https://github.com/slt666666/biostatistics_text_wed/blob/main/source/_static/images/chapter2/file_upload.png?raw=true\" alt=\"title\" height=\"300px\">\n",
        "\n",
        "ここから使用したいファイルをアップロードすることで、Google Colaboratory上で扱うことが出来る様になります。\n",
        "\n",
        "下記リンク先を右クリックから名前を付けて保存し、左端のメニューからアップロードしてください。\n",
        "\n",
        "(※右クリックで名前を付けてリンク先を保存しようとすると、\n",
        "\n",
        "ファイル名がengland-premier-league-players-2018-to-2019-stats.**txt**になる場合があります)\n",
        "\n",
        "[england-premier-league-players-2018-to-2019-stats.csv](https://raw.githubusercontent.com/slt666666/basic_fri_2024/refs/heads/master/source/_static/data/england-premier-league-players-2018-to-2019-stats.csv)\n",
        "\n",
        "アップロードした後、`read.csv`関数で読み込んでみてください。"
      ],
      "metadata": {
        "id": "mAwaZZPo2cqr"
      }
    },
    {
      "cell_type": "code",
      "source": [
        "# アップロードしたファイル名\n",
        "read.csv(\"\")"
      ],
      "metadata": {
        "id": "nJJ3s6-f5lQZ"
      },
      "execution_count": null,
      "outputs": []
    },
    {
      "cell_type": "markdown",
      "source": [
        "Web上でアクセス出来るCSVファイルであれば、ダウンロードせずに直接URLから読み込むこともできます。"
      ],
      "metadata": {
        "id": "j3z3U5yejzzP"
      }
    },
    {
      "cell_type": "code",
      "source": [
        "read.csv(\"https://raw.githubusercontent.com/slt666666/basic_fri_2024/refs/heads/master/source/_static/data/england-premier-league-players-2018-to-2019-stats.csv\")"
      ],
      "metadata": {
        "collapsed": true,
        "id": "IRI6wAEbj7oW"
      },
      "execution_count": null,
      "outputs": []
    },
    {
      "cell_type": "markdown",
      "source": [
        "### 自分のPCでRを動かしている場合のファイル読み込み\n",
        "\n",
        "自分のPCでRを動かしている場合、あるファイルを読み込みたいときには、2つの方法があります。\n",
        "\n",
        "* ファイルの相対パスを入力して読み込む ...\n",
        "\n",
        "`read.csv(\"C:/Users/xxx/Desktop/sample_data/sample.csv\")`\n",
        "\n",
        "* `setwd()`でファイルのある場所まで移動して読み込む ...\n",
        "\n",
        "`setwd(\"C:/Users/xxx/Desktop/sample_data\")` → `read.csv(\"sample.csv\")`\n",
        "\n",
        "<img src=\"https://github.com/slt666666/biostatistics_text_wed/blob/main/source/_static/images/chapter2/setwd.png?raw=true\" alt=\"title\" height=\"300px\">\n",
        "\n",
        "`setwd()`はどの場所(フォルダ)でRを動かすかを設定する関数です。"
      ],
      "metadata": {
        "id": "x_ajo6Zo3Fga"
      }
    },
    {
      "cell_type": "markdown",
      "source": [
        "## データフレーム\n",
        "\n",
        "read.csv関数でCSV形式のファイルを読み込むと、綺麗に整えられたテーブル上のフォーマットとして扱われます。\n",
        "\n",
        "この形式をデータフレームと呼び、Rで利用されるデータの保存形式になります。\n",
        "\n",
        "数値や文字などの異なるデータを行列の様にまとめて扱うことができ、\n",
        "\n",
        "グラフを描く関数や統計処理を行う関数を使用するためには、データフレームとしてデータを変数に格納しておく必要があります。"
      ],
      "metadata": {
        "id": "-U71aNMR8zbX"
      }
    },
    {
      "cell_type": "markdown",
      "source": [
        "### データフレームの作成\n",
        "\n",
        "基本的にはCSVファイル等でデータはまとめておき、`read.csv`で読み込む場合が多いですが、\n",
        "\n",
        "以下の様な書き方でデータフレームを0から作成することもできます。\n",
        "\n",
        "```R\n",
        "data.frame(列名=データ, 列名=データ, ... 列名=データ)\n",
        "```"
      ],
      "metadata": {
        "id": "v818uZ5VkPDG"
      }
    },
    {
      "cell_type": "code",
      "source": [
        "x <- c(\"red\", \"yellow\", \"blue\", \"red\", \"yellow\", \"blue\")\n",
        "y <- c(21, 20, 19, 19, 22, 20)\n",
        "z <- c(89, 67, 95, 58, 78, 75)\n",
        "\n",
        "data.frame(\"flower\"=x, \"leaf_length\"=y, \"plant_height\"=z)"
      ],
      "metadata": {
        "id": "-kmGXYX3oQJ5"
      },
      "execution_count": null,
      "outputs": []
    },
    {
      "cell_type": "markdown",
      "source": [
        "### データフレームから要素の抽出\n",
        "\n",
        "CSV形式のファイルを読み込む`read.csv`関数は、自動的にデータフレームとしてCSVファイルをRに読み込みます。\n",
        "\n",
        "先ほどアップロードしたデータをデータフレームとして`df`という変数に格納しておきます。"
      ],
      "metadata": {
        "id": "JxnBcnkckTFY"
      }
    },
    {
      "cell_type": "code",
      "source": [
        "df <- read.csv(\"england-premier-league-players-2018-to-2019-stats.csv\")"
      ],
      "metadata": {
        "id": "-8YJh4tuE1xY"
      },
      "execution_count": null,
      "outputs": []
    },
    {
      "cell_type": "code",
      "source": [
        "df"
      ],
      "metadata": {
        "id": "uwpsUN5uGlFQ"
      },
      "execution_count": null,
      "outputs": []
    },
    {
      "cell_type": "markdown",
      "source": [
        "データフレームとしてデータを読み込んでおくと、一部のデータを抽出すること等が容易になります。\n",
        "\n",
        "データフレームの特定の列の値を取り出すには`データフレームの変数名$列名`という形で取り出せます。\n",
        "\n",
        "例えば先ほど`df`という変数に読み込んだデータの`age`という列を取り出すには`df$age`という形で取り出せま\n",
        "す。\n"
      ],
      "metadata": {
        "id": "u4Cih7hnEwlY"
      }
    },
    {
      "cell_type": "code",
      "source": [
        "# age列取り出し\n"
      ],
      "metadata": {
        "id": "sfKuw5zsFF3g"
      },
      "execution_count": null,
      "outputs": []
    },
    {
      "cell_type": "markdown",
      "source": [
        "列名だけではなく、列番号でも指定できます。`データフレームの変数名[,列番号]`という形です。\n",
        "\n",
        "例えば7列目のデータを取り出すには`df$[,7]`となります。\n",
        "\n"
      ],
      "metadata": {
        "id": "47rEuXsqHJoW"
      }
    },
    {
      "cell_type": "code",
      "source": [
        "# 7列目取り出し\n"
      ],
      "metadata": {
        "id": "D4xwexzYHhEe"
      },
      "execution_count": null,
      "outputs": []
    },
    {
      "cell_type": "markdown",
      "source": [
        "列番号の代わりに列名を使用することもできます。\n",
        "\n",
        "この場合、列名は\"\"で括る必要があります。"
      ],
      "metadata": {
        "id": "OmjdNrtgMrSw"
      }
    },
    {
      "cell_type": "code",
      "source": [
        "# age列取り出し df[ , ]使用\n"
      ],
      "metadata": {
        "id": "sxMBaITGMvZP"
      },
      "execution_count": null,
      "outputs": []
    },
    {
      "cell_type": "markdown",
      "source": [
        "当然、行番号でも指定可能です。`データフレームの変数名[行番号,]`という形です。\n",
        "\n",
        "例えば、3行目のデータを取り出すには`df[3,]`となります。"
      ],
      "metadata": {
        "id": "vHGcp0yNHj7G"
      }
    },
    {
      "cell_type": "code",
      "source": [
        "# 3行目取り出し\n"
      ],
      "metadata": {
        "id": "4Qr4zMRsH3xS"
      },
      "execution_count": null,
      "outputs": []
    },
    {
      "cell_type": "markdown",
      "source": [
        "複数行を取り出すことも可能です。その場合、取り出したい行番号を`c`関数でまとめて指定します。\n",
        "\n",
        "例えば3, 10, 50行目のデータが欲しい時は`df[c(3,10,50), ]`となります。\n",
        "\n"
      ],
      "metadata": {
        "id": "NdXW0IQU1Wrx"
      }
    },
    {
      "cell_type": "code",
      "source": [
        "# 3,10,50行目取り出し\n"
      ],
      "metadata": {
        "id": "AZL4enHS1jzq"
      },
      "execution_count": null,
      "outputs": []
    },
    {
      "cell_type": "markdown",
      "source": [
        "行番号・列番号の両者を指定することも可能です。\n",
        "\n",
        "3行目5列目の値を取り出すには`df[3,5]`となります。"
      ],
      "metadata": {
        "id": "wzmMK1YNH5bz"
      }
    },
    {
      "cell_type": "code",
      "source": [
        "# 3行5列目取り出し\n"
      ],
      "metadata": {
        "id": "9rz3Rtp7IHY4"
      },
      "execution_count": null,
      "outputs": []
    },
    {
      "cell_type": "markdown",
      "source": [
        "この様な操作で取り出してきた値に、別の関数を適用することも可能です。\n",
        "\n",
        "例えば最初の方に扱った`summary`関数を2列目のデータ(ageの列)に適用する場合は\n",
        "\n",
        "```\n",
        "df_2 <- df[,2]\n",
        "summary(df_2)\n",
        "```\n",
        "や、1行にまとめてしまって\n",
        "```\n",
        "summary(df[,2])\n",
        "```\n",
        "という形で実行できます。\n"
      ],
      "metadata": {
        "id": "M9jAzv34IOSi"
      }
    },
    {
      "cell_type": "code",
      "source": [
        "# 2列目にsummary関数を使用\n",
        "\n"
      ],
      "metadata": {
        "id": "x98a37RTIsYC"
      },
      "execution_count": null,
      "outputs": []
    },
    {
      "cell_type": "markdown",
      "source": [
        "同じような形で特定の列の平均値を`mean`関数で求めたり、合計値を`sum`関数で求めることも可能です。"
      ],
      "metadata": {
        "id": "wPKi68Y2Iyh2"
      }
    },
    {
      "cell_type": "markdown",
      "source": [
        "### 条件に基づくデータ抽出\n",
        "\n",
        "もう少し複雑なデータの抽出方法として、条件に基づく方法があります。\n",
        "\n",
        "例えば\n",
        "\n",
        "* `\"position\"が\"Defender\"`のデータを取り出したい\n",
        "* `\"age\"が20以下`のデータを取り出したい\n",
        "\n",
        "等です。\n",
        "\n",
        "この様な場合は、比較演算子`==`や`>=`などを活用します。"
      ],
      "metadata": {
        "id": "q7ULvgcMuZuD"
      }
    },
    {
      "cell_type": "markdown",
      "source": [
        "#### 比較演算子\n",
        "\n",
        "Rでは`==`や`>=`(大なりイコール)等を使用して値を比較できます。\n",
        "\n",
        "* `==` : 値が同じかどうか調べる\n",
        "* `>`, `<`, `>=`, `<=` : 大きさの比較"
      ],
      "metadata": {
        "id": "14kdYvE9zyVu"
      }
    },
    {
      "cell_type": "code",
      "source": [
        "5 == 4"
      ],
      "metadata": {
        "id": "JzbLBvHtzm2L"
      },
      "execution_count": null,
      "outputs": []
    },
    {
      "cell_type": "code",
      "source": [
        "5 >= 2"
      ],
      "metadata": {
        "id": "ReLtP6quzr5R"
      },
      "execution_count": null,
      "outputs": []
    },
    {
      "cell_type": "markdown",
      "source": [
        "これをデータフレームの特定の列に適用すると、すべての値に対して比較を行ってくれます。\n",
        "\n",
        "例えば、`age`の列を取り出して、20以下かどうかの比較を`df$age <= 20`という形でしてみると\n",
        "\n",
        "20以下かどうか`TRUE, FALSE`で帰ってきます。"
      ],
      "metadata": {
        "id": "TB5I_4Fvz7cz"
      }
    },
    {
      "cell_type": "code",
      "source": [
        "df$age <= 20"
      ],
      "metadata": {
        "id": "Ivr7bVL60h8c"
      },
      "execution_count": null,
      "outputs": []
    },
    {
      "cell_type": "markdown",
      "source": [
        "データフレームでは、`df[c(3,10,50), ]`という形で、行番号のところに`c(3, 10, 50)`と入れてあげることで複数行のデータを抽出できました。\n",
        "\n",
        "この`TRUE, FALSE`のリストを行番号の代わりに入れることで、`TRUE`の行だけを取り出す、という事が出来ます。\n",
        "\n",
        "`df[df$age <= 20, ]`という形です。\n",
        "\n"
      ],
      "metadata": {
        "id": "2WqiDKoU05g4"
      }
    },
    {
      "cell_type": "code",
      "source": [
        "# age <= 20 の行を取り出し\n"
      ],
      "metadata": {
        "id": "N69sCn1718LP"
      },
      "execution_count": null,
      "outputs": []
    },
    {
      "cell_type": "markdown",
      "source": [
        "このことを利用して、\n",
        "\n",
        "* `\"position\"が\"Defender\"`のデータを取り出したい\n",
        "* `\"age\"が20以下`のデータを取り出したい\n",
        "\n",
        "はそれぞれ\n",
        "\n",
        "* `df[df$position == \"Defender\", ]`\n",
        "* `df[df$age <= 20, ]`\n",
        "\n",
        "という形で抽出できます。"
      ],
      "metadata": {
        "id": "izDwQr3V2Ab5"
      }
    },
    {
      "cell_type": "markdown",
      "source": [
        "さらに、ある条件に当てはまるデータの中で特定の列を取り出したい場合、たとえば\n",
        "\n",
        "* `\"position\"が\"Defender\"`なデータの`age`列を取り出したい\n",
        "\n",
        "のような場合です。\n",
        "\n",
        "この場合は、行番号を条件で指定したうえで、列名を指定します。\n",
        "\n",
        "`df[df$position == \"Defender\", \"age\"]`\n",
        "\n",
        "や\n",
        "\n",
        "`df[df$position == \"Defender\", ]$age`\n",
        "\n",
        "で取り出せます。"
      ],
      "metadata": {
        "id": "EHrxV0Qm9m8W"
      }
    },
    {
      "cell_type": "code",
      "source": [
        "# Defenderのage列取り出し\n"
      ],
      "metadata": {
        "id": "mMULX30T9-wS"
      },
      "execution_count": null,
      "outputs": []
    },
    {
      "cell_type": "markdown",
      "source": [
        "#### 複数条件による抽出\n",
        "\n",
        "条件を重ねることも可能です。例えば\n",
        "\n",
        "* `\"position\"が\"Defender\"`かつ`\"age\"が20以下`のデータを取り出したい\n",
        "* `\"position\"が\"Goalkeeper\"`または`\"age\"が20以下`のデータを取り出したい\n",
        "\n",
        "等です。\n",
        "\n",
        "条件を重ねるには、`&`や`|`を使用します。\n",
        "\n",
        "* `(条件1)&(条件2)` ... 条件1かつ条件2\n",
        "* `(条件1)|(条件2)` ... 条件1または条件2\n",
        "\n",
        "`\"position\"が\"Defender\"`かつ`\"age\"が20以下`の場合は、\n",
        "\n",
        "`(df$position == \"Defender\") & (df$age <= 20)`という形です。\n",
        "\n",
        "これを行番号の代わりに指定します。"
      ],
      "metadata": {
        "id": "OV08xC5K2b06"
      }
    },
    {
      "cell_type": "code",
      "source": [
        "# Defenderかつage20歳以下\n"
      ],
      "metadata": {
        "id": "fPnrCutN4EnY"
      },
      "execution_count": null,
      "outputs": []
    },
    {
      "cell_type": "markdown",
      "source": [
        "`\"position\"が\"Goalkeeper\"`または`\"age\"が20以下`の場合は、\n",
        "\n",
        "`(df$position == \"Goalkeeper\") | (df$age <= 20)`となります。"
      ],
      "metadata": {
        "id": "OQIhrUlT4Jbc"
      }
    },
    {
      "cell_type": "code",
      "source": [
        "# Goalkeeperまたはage20歳以下\n"
      ],
      "metadata": {
        "id": "3bzAc2Ft4UnF"
      },
      "execution_count": null,
      "outputs": []
    },
    {
      "cell_type": "markdown",
      "source": [
        "`\"position\"が\"Defender\"`かつ`\"age\"が20以下`の`goals_overall`(得点数)であれば\n",
        "\n",
        "`df[(df$position == \"Defender\") & (df$age <= 20), 'goals_overall']`となります。"
      ],
      "metadata": {
        "id": "k4u113rJ-W2V"
      }
    },
    {
      "cell_type": "code",
      "source": [
        "# Defenderかつ20歳以下の選手のgoals_overall(総ゴール数)\n"
      ],
      "metadata": {
        "id": "WggWufE_-m_M"
      },
      "execution_count": null,
      "outputs": []
    },
    {
      "cell_type": "markdown",
      "source": [
        "今後の講義では複数のデータを比較することが多くなるので、このような形でデータをいくつか抽出し、統計的に比較を行う関数に適用する、という流れが多くなるかと思います。"
      ],
      "metadata": {
        "id": "_SrFm9Vh4nNd"
      }
    },
    {
      "cell_type": "markdown",
      "source": [
        "## 関数の作成\n",
        "\n",
        "`log`や`summary`, `read.csv`等、様々な関数を使用してきましたが、Rでは自分独自の関数を作ることも出来ます。\n",
        "\n",
        "自作の関数を作るには、`function`という関数を使用します。\n",
        "\n",
        "例えば平均値を計算する`mean`という関数を自作するコードを書くと以下の様になります。\n",
        "\n",
        "```\n",
        "mean_zisaku <- function(x) {\n",
        "  goukei <- sum(x)               # 合計値を計算\n",
        "  ans <- goukei / length(x)      # 要素の数で合計値を割る\n",
        "  return(ans)                    # 計算結果を返す\n",
        "}\n",
        "```"
      ],
      "metadata": {
        "id": "Xi4S3V8383bl"
      }
    },
    {
      "cell_type": "code",
      "source": [
        "mean_zisaku <- function(x) {\n",
        "  goukei <- sum(x)\n",
        "  ans <- goukei / length(x)\n",
        "  return(ans)\n",
        "}"
      ],
      "metadata": {
        "id": "jKwNSYiGM3Ij"
      },
      "execution_count": null,
      "outputs": []
    },
    {
      "cell_type": "markdown",
      "source": [
        "`mean`関数と今回作成した`mean_zisaku`関数で結果が同じになるか確認してみましょう。\n",
        "\n",
        "```\n",
        "x <- c(12, 14, 18, 26, 30)\n",
        "mean(x) または mean_zisaku(x)\n",
        "```"
      ],
      "metadata": {
        "id": "-sp4ocGhNLtk"
      }
    },
    {
      "cell_type": "code",
      "source": [
        "# mean_zisaku関数の使用\n",
        "x <- c(12, 14, 18, 26, 30)\n"
      ],
      "metadata": {
        "id": "XQ-_ZEQdNiMh"
      },
      "execution_count": null,
      "outputs": []
    },
    {
      "cell_type": "markdown",
      "source": [
        "## パッケージの利用\n",
        "\n",
        "自分で関数を作ることが出来るということを説明しましたが、他の人が作った関数を利用することも出来ます。\n",
        "\n",
        "初期状態のRでも様々な統計手法を扱うことは可能ですが、他の人が作成した関数を活用することでより多様な・高度な統計解析を行うことが可能になります。\n",
        "\n",
        "その様な関数はパッケージという形で用意されています。機械学習用の関数がまとめられたパッケージや、ゲノム配列を処理する関数がまとめられたパッケージ、グラフ描写の関数がまとめられたパッケージなど、目的に応じた様々なパッケージがあります。\n",
        "\n",
        "参考: [パッケージ一覧](https://cran.r-project.org/web/packages/available_packages_by_date.html)"
      ],
      "metadata": {
        "id": "uMhNdTNn83e-"
      }
    },
    {
      "cell_type": "markdown",
      "source": [
        "パッケージを利用する手順は下記の順になります。\n",
        "1. 目的のパッケージをインストールする\n",
        "2. パッケージを読み込む\n",
        "3. パッケージにまとめられていた関数が使用可能になる\n"
      ],
      "metadata": {
        "id": "n1w9zpX7QYtE"
      }
    },
    {
      "cell_type": "markdown",
      "source": [
        "まず、パッケージのインストールですが、`install.packages(\"欲しいパッケージ名\")`という関数でインストールできます。\n",
        "\n",
        "今回は`ggplot2`というグラフ描写用のパッケージをインストールしてみましょう。\n",
        "\n",
        "`install.packages(\"ggplot2\")`でインストールできます。"
      ],
      "metadata": {
        "id": "sTvlc1xISA9u"
      }
    },
    {
      "cell_type": "code",
      "source": [
        "install.packages(\"ggplot2\")"
      ],
      "metadata": {
        "id": "osh76IEDQX57"
      },
      "execution_count": null,
      "outputs": []
    },
    {
      "cell_type": "markdown",
      "source": [
        "続いて、インストールしたパッケージに含まれる関数を使用するには、パッケージを読み込ませる必要があります。\n",
        "\n",
        "`library(パッケージ名)`関数で読み込めます。\n",
        "\n",
        "今回のパッケージには`ggplot()`という関数が入っていますが、パッケージを読み込まずに、`ggplot()`と入力すると…"
      ],
      "metadata": {
        "id": "CRK1FN2LSdw9"
      }
    },
    {
      "cell_type": "code",
      "source": [
        "ggplot()"
      ],
      "metadata": {
        "id": "5q2O-srERQB8"
      },
      "execution_count": null,
      "outputs": []
    },
    {
      "cell_type": "markdown",
      "source": [
        "エラーが出たかと思います。\n",
        "\n",
        "まず`library(ggplot2)`と書いてパッケージを読み込ませてから、\n",
        "\n",
        "`ggplot()`関数を使用するとちゃんと使えるようになっているのが分かるかと思います。"
      ],
      "metadata": {
        "id": "H-u3sMCJTTmi"
      }
    },
    {
      "cell_type": "code",
      "source": [
        "library(ggplot2)\n",
        "ggplot()"
      ],
      "metadata": {
        "id": "qRqcmIHjS7hW"
      },
      "execution_count": null,
      "outputs": []
    },
    {
      "cell_type": "markdown",
      "source": [
        "今回は`ggplot()`関数で白いキャンバスを描いただけですが、ggplot2は非常に強力なグラフ描写パッケージです。\n",
        "\n",
        "また今後の講義でこのパッケージの使い方は扱う予定です。"
      ],
      "metadata": {
        "id": "iVMHei1wTxTa"
      }
    },
    {
      "cell_type": "markdown",
      "source": [
        "講義の前半部分はRにもともと備わっている統計手法の関数で十分事足りますが、\n",
        "\n",
        "高度な線形モデルや機械学習を扱う際に、そういった解析が容易に行えるパッケージを使用する予定です。"
      ],
      "metadata": {
        "id": "v9wp3pSZ5lbj"
      }
    },
    {
      "cell_type": "markdown",
      "source": [
        "## 課題と今後の課題の提出方法\n",
        "\n",
        "[課題のノートブックへのリンク](https://colab.research.google.com/github/slt666666/biostatistics_text_wed/blob/main/source/_static/colab_notebook/chapter2_homework.ipynb)\n",
        "\n",
        "今後の講義の課題の一部は、Google Colaboratoryで課題を解き、提出してもらう場合があります。\n",
        "\n",
        "1. 課題のノートブックを開く\n",
        "2. 課題を解く(コードを記述し、実行して結果を表示する)\n",
        "3. 2.を実行した状態のページをPDFとして保存\n",
        "  * 左上のファイル→印刷→PDFに保存\n",
        "\n",
        "このPDFをPandaから提出してもらう形になります。\n",
        "\n",
        "<img src=\"https://github.com/slt666666/biostatistics_text_wed/blob/main/source/_static/images/chapter2/homework.png?raw=true\" alt=\"title\" height=\"350px\">\n"
      ],
      "metadata": {
        "id": "UdWztSRnaEPI"
      }
    }
  ]
}