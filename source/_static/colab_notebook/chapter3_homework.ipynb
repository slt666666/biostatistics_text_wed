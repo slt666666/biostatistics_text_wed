{
  "nbformat": 4,
  "nbformat_minor": 0,
  "metadata": {
    "colab": {
      "provenance": [],
      "toc_visible": true
    },
    "kernelspec": {
      "name": "ir",
      "display_name": "R"
    },
    "language_info": {
      "name": "R"
    }
  },
  "cells": [
    {
      "cell_type": "markdown",
      "source": [
        "# 第3回 記述統計学 課題\n",
        "\n",
        "下のコードを動かすと、ペンギンの分類データを`df`として読み込めます。\n",
        "\n",
        "(データ元: https://allisonhorst.github.io/palmerpenguins/)\n",
        "\n",
        "このデータを用いて、以降の課題についてコードを書き、実行した結果から読み取れることをPandaの課題ページに記述してください。"
      ],
      "metadata": {
        "id": "obnzB1V21pax"
      }
    },
    {
      "cell_type": "code",
      "source": [
        "df <- read.csv(\"https://raw.githubusercontent.com/slt666666/biostatistics_text_wed/refs/heads/main/source/_static/data/chapter3_penguins.csv\")\n",
        "\n",
        "head(df)"
      ],
      "metadata": {
        "collapsed": true,
        "id": "IRI6wAEbj7oW"
      },
      "execution_count": null,
      "outputs": []
    },
    {
      "cell_type": "markdown",
      "source": [
        "## 課題1\n",
        "\n",
        "このデータフレームの`\"bill_length_mm\"`列(くちばしの長さ)を取り出し、\n",
        "\n",
        "そのヒストグラムを描き、平均値・中央値・分散・標準偏差を求めてください。"
      ],
      "metadata": {
        "id": "zhabOvPK8gFX"
      }
    },
    {
      "cell_type": "code",
      "source": [
        "# ここにコードを書いて実行してください。\n",
        "\n",
        "\n"
      ],
      "metadata": {
        "id": "35pDEQBW8F5z"
      },
      "execution_count": null,
      "outputs": []
    },
    {
      "cell_type": "markdown",
      "source": [
        "## 課題2\n",
        "\n",
        "このデータフレームから`\"species\"`(種)と`\"island\"`(生息場所)の分割表を描き、\n",
        "\n",
        "結果から生息地と種の関係性について記述してください。"
      ],
      "metadata": {
        "id": "m9QUOiLI8htD"
      }
    },
    {
      "cell_type": "code",
      "source": [
        "# ここにコードを書いて実行してください。\n",
        "\n",
        "\n"
      ],
      "metadata": {
        "id": "Fhqa-IxE8i0c"
      },
      "execution_count": null,
      "outputs": []
    },
    {
      "cell_type": "markdown",
      "source": [
        "## 課題3\n",
        "\n",
        "このデータフレームから`\"bill_length_mm\"`(くちばしの長さ)と`\"flipper_length_mm\"`(ヒレの長さ)の散布図を描き、相関係数を求めてください。\n",
        "\n",
        "その結果に基づいてくちばしの長さとヒレの長さの関係性について記述してください。\n"
      ],
      "metadata": {
        "id": "B-O0ODOb8jYk"
      }
    },
    {
      "cell_type": "code",
      "source": [
        "# ここにコードを書いて実行してください。\n",
        "\n",
        "\n"
      ],
      "metadata": {
        "id": "LTTvUY1s8khL"
      },
      "execution_count": null,
      "outputs": []
    },
    {
      "cell_type": "markdown",
      "source": [
        "## 課題4\n",
        "\n",
        "このデータフレームから`\"species\"`(種)毎に`\"flipper_length_mm\"`(ヒレの長さ)の平均値・標準偏差を計算し、\n",
        "\n",
        "その結果に基づいて種とヒレの長さの関係性について記述してください。"
      ],
      "metadata": {
        "id": "xqt_66jurh0R"
      }
    },
    {
      "cell_type": "code",
      "source": [
        "# ここにコードを書いて実行してください。\n",
        "\n",
        "\n"
      ],
      "metadata": {
        "id": "afzPQt_4ruS0"
      },
      "execution_count": null,
      "outputs": []
    }
  ]
}