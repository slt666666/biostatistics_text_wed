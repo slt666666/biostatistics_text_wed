{
  "nbformat": 4,
  "nbformat_minor": 0,
  "metadata": {
    "colab": {
      "provenance": [],
      "toc_visible": true
    },
    "kernelspec": {
      "name": "ir",
      "display_name": "R"
    },
    "language_info": {
      "name": "R"
    }
  },
  "cells": [
    {
      "cell_type": "markdown",
      "source": [
        "# 第5回 標本分布"
      ],
      "metadata": {
        "id": "obnzB1V21pax"
      }
    },
    {
      "cell_type": "markdown",
      "source": [
        "## はじめに\n",
        "\n",
        "統計学では、ある集団の特徴を知りたいときに、集団全体のデータからではなく、一部のデータから特徴を推測することが多いです。\n",
        "\n",
        "例えば「京都府の中に、京都大学を卒業した人がどのくらいの割合いるのか」を知りたい時に、京都府民全員の学歴を調査するのは途方もない労力がかかります。\n",
        "そこで、例えば京都府民から100人ランダムに選んで調査した結果から目的の割合を推測する、といった形です。\n",
        "\n",
        "これは実験に関しても同様で、「ある植物に物質Aを与えた効果」を調べる際に、複数回実験を行って効果を調べることが多いかと思います。\n",
        "これも、本来無限回実験を繰り返して効果を確認するところを、得られた複数回のデータから実際の効果を推測する、ということを実施している形になります。\n",
        "\n",
        "これまで、手元にあるデータの特徴を捉えるための記述統計学や可視化の方法について学んできましたが、\n",
        "今回は、この手元にあるデータから、元となっている集団の特徴を推測する、という数理統計学の基礎となる考え方を学んでいきます。\n",
        "\n"
      ],
      "metadata": {
        "id": "2bLFQcxy824O"
      }
    },
    {
      "cell_type": "markdown",
      "source": [
        "## 母集団と標本\n",
        "\n",
        "<img src=\"https://github.com/slt666666/biostatistics_text_wed/blob/main/source/_static/images/chapter5/sampling.png?raw=true\" alt=\"title\" height=\"150px\">\n",
        "\n",
        "これから特徴等を知りたい集団全体のことを**母集団**と呼びます。\n",
        "\n",
        "さきほども説明した通り、この母集団について直接知ることは難しいことが多いです。\n",
        "\n",
        "* 母集団の要素が非常に大きい。(調査対象が国民全体、実験の例のように対象が無限大の場合も。)\n",
        "* 予算などの制約により、調査できる数に限りがある。\n",
        "\n",
        "といったことが主な理由となります。(ちなみに集団全体を調査する場合を**全数調査**と呼ぶ。)\n",
        "\n",
        "この場合、母集団から一部を抽出し、部分的な集団を分析することで、母集団について推測を行うことになります。\n",
        "\n",
        "母集団から抽出することを**標本抽出:sampling**、抽出されたものを**標本:sample**と呼びます。\n",
        "\n",
        "統計的推測においては、抽出した標本から母集団の特徴(例えばある地域に生息する植物の草丈の特徴など)を知ることが目標となりますが、\n",
        "\n",
        "より具体的にいうと、母集団の従う**分布**を知ることが目的となります。\n",
        "\n",
        "<img src=\"https://github.com/slt666666/biostatistics_text_wed/blob/main/source/_static/images/chapter5/sampling2.png?raw=true\" alt=\"title\" height=\"250px\">\n",
        "\n",
        "母集団が上図の様な分布に従っている場合、この集団から一部を標本として抽出することで、元の分布を推測する形です。\n",
        "\n",
        "そのため、統計的推測について学ぶためには分布とはいったい何なのか、\n",
        "\n",
        "つまり、**確率分布**の概念や**確率変数**について知っておく必要があります。\n",
        "\n",
        "そこで、まずは確率変数や確率分布について学習します。"
      ],
      "metadata": {
        "id": "7zlPZZLrvqBB"
      }
    },
    {
      "cell_type": "markdown",
      "source": [
        "## 確率変数と確率分布\n",
        "\n",
        "**確率**とは、事象の起こりやすさを定量的に示したものになります。事象Aの起きる確率を$P(A)$と表します。\n",
        "\n",
        "たとえば、宝くじに当たるという事象が起きる確率は2000万分の1なので、$P(宝くじに当たる) = 1/20000000$という形になります。\n",
        "\n",
        "<br>\n",
        "\n",
        "ここで、ある島に生息するシロツメクサの葉の長さを調査することを想定します。\n",
        "\n",
        "島に生息するシロツメクサ全個体が母集団となり、採集した個体が標本になります。\n",
        "\n",
        "ここで、採集した個体の葉の長さ$X$は、さまざまな値をとる**変数**です。\n",
        "\n",
        "この$X$の値は、ランダムな値をとるのではなく、母集団における$X$の分布をある程度反映することが想定されます。\n",
        "\n",
        "(7cmの個体が島に多く生息していれば、採集個体も7cmの長さが多くなる)\n",
        "\n",
        "<img src=\"https://github.com/slt666666/biostatistics_text_wed/blob/main/source/_static/images/chapter5/sampling3.png?raw=true\" alt=\"title\" height=\"250px\">\n",
        "\n",
        "つまり、7㎝の個体が採集される事象は、母集団に7cmの個体が含まれる割合に依存して出現します。\n",
        "\n",
        "このように、とりうる各値に対し、それぞれ確率が与えられている様な変数を**確率変数**と呼びます。\n",
        "\n",
        "また、各値が観察される確率の分布を**確率分布**と呼びます。\n",
        "\n",
        "他の例でいうと、サイコロを振って出る目$X$も確率変数です。$X$は1から6までの数字を取り、各数字が生じる確率は1/6になります。\n",
        "\n",
        "$P(X=1)=1/6, P(X=2)=1/6, ... , P(X=6)=1/6$\n",
        "\n",
        "<br>\n",
        "\n",
        "ここで、サイコロの目$X$は1,2,3,4,5,6と、取りうる値が6種類に決まっていますが、シロイヌナズナの葉の長さは連続的な値をとります。\n",
        "\n",
        "<img src=\"https://github.com/slt666666/biostatistics_text_wed/blob/main/source/_static/images/chapter5/saikoro.png?raw=true\" alt=\"title\" height=\"150px\">\n",
        "\n",
        "サイコロのような、取りうる値が可算集合(数え上げることができる集合)の値をとる確率変数$X$は**離散型の確率変数**と呼び、\n",
        "\n",
        "葉の長さの様な取りうる値が連続的な確率変数$X$は**連続型の確率変数**と呼びます。\n",
        "\n",
        "離散型の確率変数$X$の場合、それぞれの値の確率は、\n",
        "\n",
        "$P(X=x_k) = f(x_k)$ $(k=1,2,...)$ と表され、**確率分布**$f$は\n",
        "\n",
        "$f(x_k) \\geqq 0$ かつ $\\sum_{k=1}^\\infty f(x_k)=1$ の条件を満たします。\n",
        "\n",
        "サイコロの場合、$x_1 = 1, x_2 = 2, ... x_6 = 6$で、$f(x_k) = 1/6$ということになります。\n",
        "\n",
        "<img src=\"https://github.com/slt666666/biostatistics_text_wed/blob/main/source/_static/images/chapter5/leaf_length.png?raw=true\" alt=\"title\" height=\"150px\">\n",
        "\n",
        "連続型の確率変数$X$の場合、確率は\n",
        "\n",
        "$P(a \\leqq X \\leqq b) = \\int_{a}^{b} f(x)dx$ と表され、$f(x)$は**確率密度関数**と呼び、\n",
        "\n",
        "$f(x) \\geqq 0$ かつ $\\int_{-\\infty}^\\infty f(x)dx=1$\n",
        "\n",
        "の条件を満たします。\n",
        "\n"
      ],
      "metadata": {
        "id": "giCOeYDN5jLR"
      }
    },
    {
      "cell_type": "markdown",
      "source": [
        "## 確率変数の期待値と分散\n",
        "\n",
        "### 期待値\n",
        "\n",
        "確率変数は様々な値をとりますが、それらの値を代表する平均値が期待値となります。\n",
        "\n",
        "宝くじを例にすると、1/20000000の確率で1億円があたり、それ以外は100円があたる宝くじがあったとします。\n",
        "\n",
        "これは、\n",
        "\n",
        "* $P(X = 100000000) = 1/20000000$\n",
        "* $P(X = 100) = 19999999/20000000$\n",
        "\n",
        "と表されるので、この時この宝くじで得られるであろう金額は、\n",
        "\n",
        "$100000000 \\times 1/20000000 + 100 \\times 19999999/20000000$と、得られる金額 x その金額が起きる確率の和で計算できます。\n",
        "\n"
      ],
      "metadata": {
        "id": "S9oFCdW6j0Jc"
      }
    },
    {
      "cell_type": "code",
      "source": [
        "# 宝くじの期待値の計算\n"
      ],
      "metadata": {
        "id": "ybDS-ZaxltTm"
      },
      "execution_count": null,
      "outputs": []
    },
    {
      "cell_type": "markdown",
      "source": [
        "このような、確率変数$X$に対して、それがとる値の重み付き平均を確率変数$X$の**期待値**といい$E(X)$と書きます。\n",
        "\n",
        "$E(X)$は、\n",
        "\n",
        "* 離散型の場合 $E(X) = \\sum\\limits_{x} xf(x)$\n",
        "* 連続型の場合 $E(X) = \\int_{-\\infty}^\\infty xf(x)dx$\n",
        "\n",
        "と定義されます。\n",
        "\n",
        "<img src=\"https://github.com/slt666666/biostatistics_text_wed/blob/main/source/_static/images/chapter5/uma.png?raw=true\" alt=\"title\" height=\"200px\">\n",
        "\n",
        "<small>(https://www.netkeiba.com/より引用)</small>\n",
        "\n",
        "これはとある日の競馬の1レースのオッズ(単勝)と人気順の一部ですが、\n",
        "\n",
        "例えば人気順に勝率が\n",
        "\n",
        "* 1番人気: 40%\n",
        "* 2番人気: 20%\n",
        "* 3~6番人気: 10%\n",
        "\n",
        "だとすると、1番人気の馬に賭けて得られるお金の期待値は\n",
        "\n",
        "$0.4 \\times 2.1倍 + 0.6 \\times 0倍 = 0.84倍$\n",
        "\n",
        "と計算できます。ほかの馬についても計算してみると…\n"
      ],
      "metadata": {
        "id": "UoK5IeIjmBca"
      }
    },
    {
      "cell_type": "code",
      "source": [
        "# 期待値の計算\n"
      ],
      "metadata": {
        "id": "j1M6kl4kq-7u"
      },
      "execution_count": null,
      "outputs": []
    },
    {
      "cell_type": "markdown",
      "source": [
        "と期待値だけで見ると、5, 6番人気に賭けるのが最適となります。\n",
        "\n",
        "また、期待値の演算として重要な性質として\n",
        "\n",
        "* $E(c) = c$\n",
        "* $E(X + c) = E(X) + c$\n",
        "* $E(cX) = cE(X)$\n",
        "* $E(X+Y) = E(X) + E(Y)$\n",
        "\n",
        "という性質がある。"
      ],
      "metadata": {
        "id": "55YVtyrJyCYm"
      }
    },
    {
      "cell_type": "markdown",
      "source": [
        "### 分散と標準偏差\n",
        "\n",
        "記述統計学を学習した際に、データのばらつきを示す分散や標準偏差という概念を学習しました。\n",
        "\n",
        "確率変数$X$についてもばらつきの概念が存在します。\n",
        "\n",
        "例えば、\n",
        "\n",
        "さいころを1個ふった時の目を$X$、さいころを2個ふった時の目の平均値を$Y=(X_1+X_2)/2$とすると、\n",
        "\n",
        "$X$と$Y$の各値が出る確率は下図のようになります。\n",
        "\n",
        "<img src=\"https://github.com/slt666666/biostatistics_text_wed/blob/main/source/_static/images/chapter5/saikoro2.png?raw=true\" alt=\"title\" height=\"120px\">\n",
        "\n",
        "ここで、それぞれの期待値を求めてみると、\n",
        "\n",
        "$E(X) = 1\\times\\dfrac{1}{6}+2\\times\\dfrac{1}{6}\\cdots6\\times\\dfrac{1}{6}=\\dfrac{7}{2}$\n",
        "\n",
        "$E(Y) = E\\{(X_1 + X_2) / 2\\} = \\{E(X_1) + E(X_2)\\} / 2 = \\dfrac{7}{2}$\n",
        "\n",
        "と等しくなります。しかし、$X$の確率分布は1,2,...,6まで一様にばらついているのに対し、$Y$の確率分布は期待値に近いところに偏っています。\n",
        "\n",
        "このように、確率変数の性質は期待値だけではなく、ばらつきもとらえる必要があることがわかります。\n",
        "\n",
        "ばらつきを表すには、期待値からのずれの大きさ$X - E(X)$を考えます。\n",
        "\n",
        "ずれの大きさの平均(期待値)を求めてみると、$E(X - E(X)) = E(X) - E(X) = 0$となってしまい、正負が打ち消されてあまり意味がないので\n",
        "\n",
        "ずれの値を2乗した$(X - E(X))^2$を代わりにばらつきの指標として扱います。\n",
        "\n",
        "$(X - E(X))^2$の期待値$E\\{(X - E(X))^2\\}$を、確率変数$X$の**分散**$V(X)=E\\{(X - E(X))^2\\}$と定義しています。\n",
        "\n",
        "分散$V(X)$の計算は、\n",
        "\n",
        "* 離散型の場合$V(X) = \\sum\\limits_{x} (x - E(X))^2f(x)$\n",
        "* 連続型の場合$V(X) = \\int_{-\\infty}^\\infty (x-E(X))^2f(x)dx$\n",
        "\n",
        "で計算できます。\n",
        "\n",
        "※ 期待値を利用して、$V(X) = E(X^2) - 2E(X)\\times E(X) + (E(X))^2 = E(X^2) - (E(X))^2$ と計算することも可能。\n",
        "\n",
        "これら期待値や分散は、確率変数の性質を説明する際に使用されます。\n",
        "\n",
        "<br>\n",
        "\n",
        "実際にサイコロの出る目$X$の分散を計算してみると、期待値$E(X) = 7/2$だったので、"
      ],
      "metadata": {
        "id": "fhOpfqLOofiN"
      }
    },
    {
      "cell_type": "code",
      "source": [
        "# サイコロの出る目の分散\n"
      ],
      "metadata": {
        "id": "2XJysIszzdIp"
      },
      "execution_count": null,
      "outputs": []
    },
    {
      "cell_type": "markdown",
      "source": [
        "と計算できます。"
      ],
      "metadata": {
        "id": "-1F_xUnV2WXd"
      }
    },
    {
      "cell_type": "markdown",
      "source": [
        "## 代表的な確率分布\n",
        "\n",
        "サイコロの出る目$X$やさいころを2個ふった時の目の平均値を$Y$の分布をみると分かる通り、確率変数は様々な形の確率の分布に従います。\n",
        "\n",
        "どの確率変数も同じような確率で出現するものや、平均値付近の値がよく出現する場合など…。\n",
        "\n",
        "<img src=\"https://github.com/slt666666/biostatistics_text_wed/blob/main/source/_static/images/chapter5/saikoro2.png?raw=true\" alt=\"title\" height=\"120px\">\n",
        "\n",
        "その中でも、特定の現象によく合致する確率分布があり、正規分布、二項分布、ポアソン分布など、いくつかの確率分布が代表的なものとして挙げられます。\n",
        "\n",
        "ここでは、この中からいくつか代表的な確率分布を紹介していきます。"
      ],
      "metadata": {
        "id": "S2y2tXlOAcRy"
      }
    },
    {
      "cell_type": "markdown",
      "source": [
        "### 正規分布\n",
        "\n",
        "まずは母集団に仮定する最も一般的な分布である正規分布について見ていきます。\n",
        "\n",
        "例えば、ある島に生息する平均7㎝くらいを示すシロツメクサの草丈を計測することを考えます。\n",
        "\n",
        "<img src=\"https://github.com/slt666666/biostatistics_text_wed/blob/main/source/_static/images/chapter5/sampling4.png?raw=true\" alt=\"title\" height=\"300px\">\n",
        "\n",
        "10個体計測すると左図のようになったとします。これだけだと偶然によるところが大きく、母集団における草丈の分布を想像することが難しいです。次に100個体計測してみると、右図のように中心付近の草丈の個体の出現頻度が高く、両端に行くにしたがって出現頻度がなだらかに低下していくような、釣鐘上の出現頻度を示したとします。この出現頻度からだと、母集団における確率分布も同じような形をしていそうなことが想像できます。\n",
        "\n",
        "植物の草丈や人の身長など、生物が持つ特性の多くは、このような釣鐘状の分布が見られることが多いです。\n",
        "\n",
        "このような分布(平均値付近が高く、極端な値になるにつれ出現頻度が下がる)に対して、一般的によくあてはまる確率分布として**正規分布 normal distribution**があります。(**ガウス分布**と呼ばれることもあります。)\n",
        "\n",
        "<img src=\"https://github.com/slt666666/biostatistics_text_wed/blob/main/source/_static/images/chapter5/norm.png?raw=true\" alt=\"title\" height=\"200px\">\n",
        "\n",
        "正規分布に従う変数が観測値$x$をとる確率密度(厳密にいうと確率では無い)は、\n",
        "\n",
        "$f(x) = \\dfrac{1}{\\sigma\\sqrt{2\\pi}}e^{\\lbrace-\\frac{(x-\\mu)^2}{2\\sigma^2}\\rbrace}$\n",
        "\n",
        "と表されます。ここで、$\\mu$は平均、$\\sigma^2$は分散を指す。この関数$f(x)$は正規分布の**確率密度関数**と呼ばれます。\n",
        "\n",
        "本講義ではこの数式を覚える必要はありませんが、\n",
        "\n",
        "正規分布は**平均と分散**が決まればどのような分布になるのかが決まる、という点は理解できるかと思います。\n",
        "\n",
        "平均$\\mu$、分散$\\sigma^2$の正規分布を$N(\\mu, \\sigma^2)$と表記し、確率変数$X$がこの正規分布に従うことを\n",
        "\n",
        "$X \\sim N(\\mu, \\sigma^2)$\n",
        "\n",
        "と表します。\n",
        "\n",
        "Rを使用することで、確率密度関数の可視化が可能です。\n",
        "\n",
        "`dnorm`関数と`ggplot2`を使用することで正規分布の確率密度関数を表すことができます。\n",
        "\n",
        "`dnorm`関数はある平均値と分散に従う正規分布の確率密度を計算することができます。\n",
        "\n",
        "```\n",
        "dnorm(xの値, mean=平均値, sd=標準偏差)\n",
        "```\n",
        "\n",
        "たとえば、ある学校の学生の身長の分布が平均$\\mu=170$, 分散$\\sigma=5^2$の正規分布$X \\sim N(170, 5)$に従っていた時、下記のようなコードで可視化できます。\n"
      ],
      "metadata": {
        "id": "kGgTx5SRbfFN"
      }
    },
    {
      "cell_type": "code",
      "source": [
        "# 正規分布の描写\n",
        "library(ggplot2)\n",
        "x <- seq(150,190,0.1)           # x = 150 ~ 190の範囲を描写\n",
        "m <- dnorm(x,mean=170,sd=5)     # 平均170, 標準偏差5の正規分布\n",
        "data <- data.frame(x=x,y=m)\n",
        "g <- ggplot(data,aes(x=x, y=y))\n",
        "g <- g + geom_line()\n",
        "g"
      ],
      "metadata": {
        "id": "1G_dzNTRbhPO"
      },
      "execution_count": null,
      "outputs": []
    },
    {
      "cell_type": "markdown",
      "source": [
        "平均値や分散を少し変えた分布を重ねてみると、下のようになります。"
      ],
      "metadata": {
        "id": "lN3XpBZRrPoY"
      }
    },
    {
      "cell_type": "code",
      "source": [
        "# 複数の正規分布を描写\n",
        "library(ggplot2)\n",
        "x <- seq(150,190,0.1)                       # x = 150 ~ 190の範囲を描写\n",
        "m0 <- dnorm(x,mean=170,sd=5)                # 平均170, 標準偏差5の正規分布1\n",
        "m1 <- dnorm(x,mean=180,sd=5)                # 平均180, 標準偏差5の正規分布2\n",
        "m2 <- dnorm(x,mean=170,sd=10)               # 平均170, 標準偏差10の正規分布3\n",
        "data <- data.frame(x=x, y0=m0, y1=m1, y2=m2)\n",
        "g <- ggplot(data,aes(x=x))\n",
        "g <- g + geom_line(aes(y=y0))               # 正規分布1を描写\n",
        "g <- g + geom_line(aes(y=y1), color=\"red\")  # 正規分布2を赤線で描写\n",
        "g <- g + geom_line(aes(y=y2), color=\"blue\") # 正規分布3を青線で描写\n",
        "g"
      ],
      "metadata": {
        "id": "IaG2_lITrDZl"
      },
      "execution_count": null,
      "outputs": []
    },
    {
      "cell_type": "markdown",
      "source": [
        "<img src=\"https://github.com/slt666666/biostatistics_text_wed/blob/main/source/_static/images/chapter5/pnorm.png?raw=true\" alt=\"title\" height=\"220px\">\n",
        "\n",
        "ここで、母集団において、$x$以下の値を持つ個体の割合は、\n",
        "\n",
        "$F(x) = P(X \\leq x) = \\int_{-\\infty}^{x}f(y)dy$として得られ、この関数$F(x)$は**分布関数**と呼びます。\n",
        "\n",
        "Rでは、`pnorm`関数で計算することができます。\n",
        "\n",
        "```\n",
        "pnorm(xの値, mean=平均値, sd=標準偏差)\n",
        "```\n",
        "\n",
        "例えば先ほどの身長の平均$\\mu=170$, 分散$\\sigma=5^2$の正規分布$X \\sim N(170, 5)$で、183以下の確率は下記のように計算できます。"
      ],
      "metadata": {
        "id": "w56QmAgJ1Ikl"
      }
    },
    {
      "cell_type": "code",
      "source": [
        "# 平均170,標準偏差5の正規分布における183以下の確率\n"
      ],
      "metadata": {
        "id": "OYQSVPxO4ohZ"
      },
      "execution_count": null,
      "outputs": []
    },
    {
      "cell_type": "markdown",
      "source": [
        "図として表すと、下図の様になります。"
      ],
      "metadata": {
        "id": "g79mq7dCg3rB"
      }
    },
    {
      "cell_type": "code",
      "source": [
        "# 183以下の領域を可視化\n",
        "library(ggplot2)\n",
        "\n",
        "x <- seq(150,190,0.1)\n",
        "y <- dnorm(x, 170, 5)\n",
        "data <- data.frame(x=x, y=y)\n",
        "\n",
        "x_color <- seq(150,183,0.1)\n",
        "y_color <- dnorm(x_color, 170, 5)\n",
        "data_color <- data.frame(x=x_color, y=y_color)\n",
        "\n",
        "g <- ggplot()\n",
        "g <- g + geom_path(data=data, aes(x=x, y=y))\n",
        "g <- g + geom_ribbon(data=data_color, aes(x=x, y=y, ymin=0, ymax=y))\n",
        "g"
      ],
      "metadata": {
        "id": "eXIHmoVy5PkL"
      },
      "execution_count": null,
      "outputs": []
    },
    {
      "cell_type": "markdown",
      "source": [
        "では、下図の様な165以上180以下の身長の確率はどう計算すればよいでしょうか？\n",
        "\n",
        "<img src=\"https://github.com/slt666666/biostatistics_text_wed/blob/main/source/_static/images/chapter5/pnorm_diff.png?raw=true\" alt=\"title\" height=\"250px\">\n",
        "\n",
        "これも`pnorm`関数を用いることで計算できます。"
      ],
      "metadata": {
        "id": "hJL7iQdy6DQ-"
      }
    },
    {
      "cell_type": "code",
      "source": [
        "# 165~180の範囲の確率を求める\n"
      ],
      "metadata": {
        "id": "LFqHtkww6IuO"
      },
      "execution_count": null,
      "outputs": []
    },
    {
      "cell_type": "markdown",
      "source": [
        "この様に、正規分布に従う変数$X$について、`pnorm`関数を使用することで、得られた観測値$x$がある値の範囲内である確率を計算することができます。\n",
        "\n",
        "また、ある正規分布に従う母集団から無作為に抽出した結果をシミュレートすることもできます。\n",
        "\n",
        "Rの`rnorm`関数で実施できます。\n",
        "\n",
        "```\n",
        "rnorm(n=抽出数, mean=平均値, sd=標準偏差)\n",
        "```\n",
        "\n",
        "平均$170$、分散$5^2$の正規分布から5標本無作為に抽出してみると…\n",
        "\n",
        "(無作為抽出なので動かすごとに結果は変わります。)"
      ],
      "metadata": {
        "id": "Bc0YtGXs9TWV"
      }
    },
    {
      "cell_type": "code",
      "source": [
        "# 平均170 標準偏差5の正規分布から5標本をランダムに抽出する\n"
      ],
      "metadata": {
        "id": "AEaO3YTtBkgA"
      },
      "execution_count": null,
      "outputs": []
    },
    {
      "cell_type": "markdown",
      "source": [
        "といった形で抽出できます。\n",
        "\n",
        "5標本抽出した結果からヒストグラムを描いてみると"
      ],
      "metadata": {
        "id": "5qO_y9BbBoG0"
      }
    },
    {
      "cell_type": "code",
      "source": [
        "# 平均170 標準偏差5の正規分布から5標本をランダムに抽出し、ヒストグラムを描く\n",
        "hist(rnorm(n=5, mean=170, sd=5))"
      ],
      "metadata": {
        "id": "2KOaQ24pB4fn"
      },
      "execution_count": null,
      "outputs": []
    },
    {
      "cell_type": "markdown",
      "source": [
        "と全く正規分布しているようには見えません。サンプルサイズが限られている場合、母集団が正規分布に従っていたとしても、標本データからそのことは分からない場合が多々あります。\n",
        "\n",
        "標本データから得られる標本分布は、サンプルサイズが小さいと、あまり意味がないことに注意が必要です。\n",
        "\n",
        "サンプルサイズが非常に大きければ標本から得られるヒストグラムは母集団の分布に近づいていきます。\n",
        "\n",
        "例えば10,000個体標本抽出をした場合を見てみましょう。"
      ],
      "metadata": {
        "id": "57xRgCGoB7We"
      }
    },
    {
      "cell_type": "code",
      "source": [
        "# 平均170 標準偏差5の正規分布から10000標本をランダムに抽出する\n",
        "hist(rnorm(n=10000, mean=170, sd=5), breaks=100)"
      ],
      "metadata": {
        "id": "gFtcF34hCz7a"
      },
      "execution_count": null,
      "outputs": []
    },
    {
      "cell_type": "markdown",
      "source": [
        "この様に、かなり正規分布に近いヒストグラムが得られました。\n",
        "\n",
        "ここまで、いくつか正規分布に関係するRの関数を扱ってきたのでまとめておきます。\n",
        "\n",
        "<img src=\"https://github.com/slt666666/biostatistics_text_wed/blob/main/source/_static/images/chapter5/norm_function.png?raw=true\" alt=\"title\" height=\"250px\">\n",
        "\n",
        "* `dnorm` ... ある正規分布における各値の確率密度を計算出来る\n",
        "\n",
        "```\n",
        "dnorm(xの値, mean=平均値, sd=標準偏差)\n",
        "```\n",
        "\n",
        "* `pnorm` ... $x$以下の値を持つ確率、分布関数の計算が出来る\n",
        "\n",
        "```\n",
        "pnorm(xの値, mean=平均値, sd=標準偏差)\n",
        "```\n",
        "\n",
        "* `rnorm` ... 正規分布からのランダムな標本抽出が出来る\n",
        "\n",
        "```\n",
        "rnorm(n=抽出数, mean=平均値, sd=標準偏差)\n",
        "```\n",
        "\n",
        "* `qnorm` ... (初登場)パーセンタイル値、分布関数である確率になる$x$の値が求まる(`pnorm`の逆)\n",
        "\n",
        "```\n",
        "qnorm(確率の値, mean=平均値, sd=標準偏差)\n",
        "```"
      ],
      "metadata": {
        "id": "zmrb6jOoC9bZ"
      }
    },
    {
      "cell_type": "markdown",
      "source": [
        "例えば第3回で扱った偏差値を例にすると、\n",
        "\n",
        "仮にある試験の偏差値が平均値が50、標準偏差が10の正規分布$N(50, 10)$に従っていたとします。"
      ],
      "metadata": {
        "id": "JhzNKtxVvxs3"
      }
    },
    {
      "cell_type": "code",
      "source": [
        "# 偏差値の分布の描写\n",
        "library(ggplot2)\n",
        "x <- seq(0,100,0.1)             # x = 0 ~ 100の範囲を描写\n",
        "m <- dnorm(x,mean=50,sd=10)     # 平均50, 標準偏差10の正規分布\n",
        "data <- data.frame(x=x,y=m)\n",
        "g <- ggplot(data,aes(x=x, y=y))\n",
        "g <- g + geom_line()\n",
        "g"
      ],
      "metadata": {
        "id": "UKlXL6P0xXQE"
      },
      "execution_count": null,
      "outputs": []
    },
    {
      "cell_type": "markdown",
      "source": [
        "この分布において、偏差値が60以下の人達の割合を求めると…"
      ],
      "metadata": {
        "id": "bxrxkYnYxWvU"
      }
    },
    {
      "cell_type": "code",
      "source": [
        "# 平均50, 標準偏差10の正規分布で、60以下の割合を求める\n"
      ],
      "metadata": {
        "id": "p4Q4wn9lwpag"
      },
      "execution_count": null,
      "outputs": []
    },
    {
      "cell_type": "markdown",
      "source": [
        "また、95％の人が含まれる偏差値xを求めると…"
      ],
      "metadata": {
        "id": "M7-VIqRJxAt6"
      }
    },
    {
      "cell_type": "code",
      "source": [
        "# 平均50, 標準偏差10の正規分布で、分布関数で確率が95%になるxの値を求める\n"
      ],
      "metadata": {
        "id": "g-kyBOTQxRpT"
      },
      "execution_count": null,
      "outputs": []
    },
    {
      "cell_type": "markdown",
      "source": [
        "といった形で各種関数を活用します。\n",
        "\n",
        "また、これらの関数名の`norm`を別の確率分布名に入れ替えた`dxxxx`, `pxxxx`, `rxxxx`, `qxxxx`という関数が後ほど別の確率分布を扱う際に登場します。"
      ],
      "metadata": {
        "id": "Agztmarmxlqy"
      }
    },
    {
      "cell_type": "markdown",
      "source": [
        "#### 標準正規分布\n",
        "\n",
        "正規分布の中でも、平均$\\mu=0$, 分散$\\sigma=1^2$の正規分布$N \\sim N(0, 1)$を特に**標準正規分布**と呼び、$\\phi(z)$で表します。\n",
        "\n",
        "この分布は、\n",
        "$\\phi(z) = \\dfrac{1}{\\sqrt{2\\pi}}exp\\lbrace-\\frac{z^2}{2}\\rbrace$と表され、代表的な分布として主な区間の確率がよく知られています。\n",
        "\n",
        "例えば、$P(-1 \\leqq Z \\leqq 1)$を`pnorm`関数で求めると、\n",
        "\n",
        "\n",
        "\n",
        "\n"
      ],
      "metadata": {
        "id": "Gkw9_uOotdoa"
      }
    },
    {
      "cell_type": "code",
      "source": [
        "# 標準正規分布(平均0, 分散1)における-1から1の確率を求める\n"
      ],
      "metadata": {
        "id": "PkAFjtSG4-K2"
      },
      "execution_count": null,
      "outputs": []
    },
    {
      "cell_type": "markdown",
      "source": [
        "この様に、標準偏差の$k$倍の範囲をそれぞれ求めていくと下記の様な確率が求まります。\n",
        "\n",
        "* $P(-1 \\leqq Z \\leqq 1)$ ... 0.6827 (約1/3)\n",
        "* $P(-2 \\leqq Z \\leqq 2)$ ... 0.9545 (約1/20)\n",
        "* $P(-3 \\leqq Z \\leqq 3)$ ... 0.9973 (約3/1000)\n",
        "\n",
        "<img src=\"https://github.com/slt666666/biostatistics_text_wed/blob/main/source/_static/images/chapter5/standard_norm.png?raw=true\" alt=\"title\" height=\"350px\">\n",
        "\n",
        "これらの値から、平均値から標準偏差の3倍である$3\\sigma$を超える様な値は極めて起こりにくいことが分かります。\n",
        "\n",
        "平均$\\mu$、分散$\\sigma^2$の正規分布$N(\\mu, \\sigma^2)$に従う変数$X$は、$Z = \\dfrac{X-\\mu}{\\sigma}$という変数の変換を行うことで、\n",
        "\n",
        "標準正規分布に従う変数$Z \\sim N(0, 1)$となります。この変換を**標準化**と呼びます。\n",
        "\n",
        "どんな正規分布でも標準化することで平均0、標準偏差1の標準正規分布に変換できるので、異なる平均と標準偏差を持つ正規分布のデータを比較したり、上の範囲などをもとに確率を捉えたりすることが容易になります。\n"
      ],
      "metadata": {
        "id": "e0GW2OQj4-WI"
      }
    },
    {
      "cell_type": "markdown",
      "source": [
        "### 二項分布\n",
        "\n",
        "続いて、離散型の確率変数の代表的な分布である**二項分布**について触れます。\n",
        "\n",
        "<img src=\"https://github.com/slt666666/biostatistics_text_wed/blob/main/source/_static/images/chapter5/binomial.png?raw=true\" alt=\"title\" height=\"200px\">\n",
        "\n",
        "例えば、ある地域にはシロツメクサの中でも白色のものと薄紅色のものが生息しています。薄紅色のものが20%($p=0.2$)、白色のものが80%($q=0.8$)生息しているとします。\n",
        "\n",
        "この時、無作為に4個体シロツメクサを採集すると、薄紅色のシロツメクサの個体数Xは0,1,2,3,4のいずれかの値をとる確率変数になります。\n",
        "\n",
        "<img src=\"https://github.com/slt666666/biostatistics_text_wed/blob/main/source/_static/images/chapter5/binomial3.png?raw=true\" alt=\"title\" height=\"350px\">\n",
        "\n",
        "それぞれが起きる確率としては、\n",
        "* $P(x=0) = _4C_0p^0q^4=1 \\times 0.8^4 = 0.4096$\n",
        "* $P(x=1) = _4C_1p^1q^3=4 \\times 0.2 \\times 0.8^3 = 0.4096$\n",
        "* $P(x=2) = _4C_2p^2q^2=6 \\times 0.2^2 \\times 0.8^2 = 0.1536$\n",
        "* $P(x=3) = _4C_3p^3q^1=4 \\times 0.2^3 \\times 0.8 = 0.0256$\n",
        "* $P(x=4) = _4C_4p^4q^0=1 \\times 0.2^4 = 0.0016$\n",
        "\n",
        "となり、$X$の取りうる値全ての確率の和$\\sum_{k=0}^4 P(X=k)$が$1$になっています。\n",
        "\n",
        "<img src=\"https://github.com/slt666666/biostatistics_text_wed/blob/main/source/_static/images/chapter5/binomial2.png?raw=true\" alt=\"title\" height=\"250px\">\n",
        "\n",
        "この様な、母集団がＡとＢの２種類に分けられ、それぞれの種類に属する要素の割合が$p$および$q=1-p$であるとき、\n",
        "\n",
        "大きさ$n$から成る標本集団にＡの標本が$x$個含まれる確率は\n",
        "\n",
        "$f(x) = _nC_xp^x(1-p)^{n-x}=\\dfrac{n!}{x!(n-x)!}p^x(1-p)^{n-x}$\n",
        "\n",
        "と表せます。\n",
        "\n",
        "正規分布の際はこのような式を確率密度関数と呼びましたが、離散型確率変数の場合は**確率関数**と呼びます。\n",
        "\n",
        "この確率関数に従う分布を**二項分布binomial distribution**と呼び$Bi(n, p)$と表します。\n",
        "\n",
        "二項分布$Bi(n, p)$に従う確率変数$X$の平均(期待値)と分散は、\n",
        "\n",
        "$E(X) = np$\n",
        "\n",
        "$V(X) = np(1-p)$\n",
        "\n",
        "で表されます。\n",
        "\n",
        "平均に関しては、$p$の確率で出現する個体は$n$個体サンプリングすれば$n\\times p$個体くらいは出てきそう、と直感に合う形です。\n",
        "\n",
        "分散についても、$p=\\dfrac{1}{2}$(50%)の時に一番バラバラな結果が得られそう(分散が大きい)だと直感的に理解できます。\n"
      ],
      "metadata": {
        "id": "vzGFVshQmTe8"
      }
    },
    {
      "cell_type": "markdown",
      "source": [
        "正規分布同様、二項分布もRの関数で確率などの計算が容易にできます。\n",
        "\n",
        "`dbinom`関数で確率が$p$の事象を$n$回試行する二項分布$Bi(n, p)$において、その事象が$x$回起きる確率を計算出来ます。\n",
        "\n",
        "```\n",
        "dbinom(x, size=試行回数, prob=事象の確率)\n",
        "```\n",
        "\n",
        "例えば、80%の確率で勝つ勝負を10回繰り返したときに、10回勝つ事が出来る確率は..."
      ],
      "metadata": {
        "id": "-MpubuxYSgXv"
      }
    },
    {
      "cell_type": "code",
      "source": [
        "# n=10, p=0.8の二項分布でx=10の確率を求める\n"
      ],
      "metadata": {
        "id": "G137cfgvTfoh"
      },
      "execution_count": null,
      "outputs": []
    },
    {
      "cell_type": "markdown",
      "source": [
        "`dbinom`関数で1 ~ 10回それぞれの確率を計算してグラフ化してみると下図のようになります。"
      ],
      "metadata": {
        "id": "9PQ2h4boVFxQ"
      }
    },
    {
      "cell_type": "code",
      "source": [
        "# 二項分布の描写\n",
        "library(ggplot2)\n",
        "x <- seq(1,10,1)                   # x = 1 ~ 10の範囲を描写\n",
        "m <- dbinom(x,size=10,prob=0.8)    # 試行回数10, 確率0.8の二項分布\n",
        "data <- data.frame(x=x,y=m)\n",
        "g <- ggplot(data,aes(x=x, y=y))\n",
        "g <- g + geom_bar(stat = \"identity\", position = \"dodge\", fill = \"#00A968\") # 棒グラフを追加\n",
        "g <- g + theme(text = element_text(size = 18))     # フォントサイズ変更\n",
        "g <- g + scale_x_continuous(breaks = seq(1,10,1))  # 軸ラベル追加\n",
        "g"
      ],
      "metadata": {
        "id": "-cpWApAPVLR-"
      },
      "execution_count": null,
      "outputs": []
    },
    {
      "cell_type": "markdown",
      "source": [
        "また、`pbinom`関数を使えば、二項分布の累積分布関数を計算出来ます。\n",
        "\n",
        "その事象が$x$回以下生じる確率の合計を求めます。\n",
        "\n",
        "```\n",
        "pbinom(x, size=試行回数, prob=事象の確率)\n",
        "```\n",
        "\n",
        "80%の確率で勝つ勝負を10回繰り返したときに、多くとも5回しか勝つ事が出来ない確率は..."
      ],
      "metadata": {
        "id": "TpZwbos7UUzd"
      }
    },
    {
      "cell_type": "code",
      "source": [
        "# n=10, p=0.8の二項分布でxが5以下の確率を求める\n"
      ],
      "metadata": {
        "id": "clVw7qpgrTTe"
      },
      "execution_count": null,
      "outputs": []
    },
    {
      "cell_type": "markdown",
      "source": [
        "`pbinom`関数を使用すれば、80%の確率で勝つ勝負を10回繰り返したときに、5回または6回勝つ確率、等も求められます。"
      ],
      "metadata": {
        "id": "y64FX3euY50j"
      }
    },
    {
      "cell_type": "code",
      "source": [
        "# n=10, p=0.8の二項分布でxが5か6の確率を求める\n"
      ],
      "metadata": {
        "id": "E6U7zESBZD6x"
      },
      "execution_count": null,
      "outputs": []
    },
    {
      "cell_type": "markdown",
      "source": [
        "正規分布の時と同じように、ランダムサンプリングが出来る`rbinom`関数やパーセンタイル点を求める`qbinom`関数もあります。\n",
        "\n",
        "`rbinom`関数は二項分布に従う乱数を$n$個生成します。\n",
        "\n",
        "```\n",
        "rbinom(n, size=試行回数, prob=事象の確率)\n",
        "```\n",
        "\n",
        "`qbinom`関数は、指定した累積確率$p$になる最小の成功回数を求めます。\n",
        "\n",
        "```\n",
        "qbinom(p, size=試行回数, prob=事象の確率)\n",
        "```"
      ],
      "metadata": {
        "id": "L1GUtPpLXfXW"
      }
    },
    {
      "cell_type": "code",
      "source": [
        "# n=10, p=0.8の二項分布から無作為に7回抽出する\n"
      ],
      "metadata": {
        "id": "JiwLGOssXEFj"
      },
      "execution_count": null,
      "outputs": []
    },
    {
      "cell_type": "code",
      "source": [
        "# n=10, p=0.8の二項分布で、累積確率が0.5になる回数を求める\n"
      ],
      "metadata": {
        "id": "8rf1dTPsYFu5"
      },
      "execution_count": null,
      "outputs": []
    },
    {
      "cell_type": "markdown",
      "source": [
        "この様に、各確率分布毎にRの関数が用意されています。例: `dnorm`, `dbinom`\n",
        "\n",
        "それぞれの確率分布の形を決めるパラメータを指定することで関数が使用できます。\n",
        "\n",
        "確率分布の形は\n",
        "\n",
        "* 正規分布$N(\\mu, \\sigma)$の場合は、平均値と標準偏差。\n",
        "\n",
        "* 二項分布$Bi(n, p)$の場合は、試行回数と事象の確率\n",
        "\n",
        "によって形が決まります。"
      ],
      "metadata": {
        "id": "jkImTs8Wrkg-"
      }
    },
    {
      "cell_type": "markdown",
      "source": [
        "### ポアソン分布\n",
        "\n",
        "二項分布において、$n$が大きく(大量に観察を行い)、$p$が小である(極めて珍しい現象がある)場合を考えると、\n",
        "\n",
        "現象自体は珍しいものの観察数が多いので、ある程度$x$が観察される場合があります。\n",
        "\n",
        "例えば、交通事故などが例に挙げられます。(交通事故自体が起きる確率は稀だが、交通量が多いためそれなりに事象としては観察される。)\n",
        "\n",
        "外出した際に交通事故にあう確率が$p = 0.0001$(0.01%)として、10000回(約27年間毎日)外出した際に交通事故に１度あう確率を計算してみると、その確率は二項分布の式から、\n",
        "\n",
        "$f(1) = _{10000}C_1(0.0001)^1(0.9999)^{9999}$\n",
        "\n",
        "で計算できます。`dbinom`関数で計算してみると…\n",
        "\n"
      ],
      "metadata": {
        "id": "DiAbQF7jANCe"
      }
    },
    {
      "cell_type": "code",
      "source": [
        "# n=10000, p=0.0001の二項分布でx=1となる確率を求める\n"
      ],
      "metadata": {
        "id": "WVtcBsYVaCEx"
      },
      "execution_count": null,
      "outputs": []
    },
    {
      "cell_type": "markdown",
      "source": [
        "と、それなりの確率で起きる事象だと分かります。\n",
        "\n",
        "二項分布の期待値$E[X]=np=10000\\times0.0001=1$というところからも、$x=1$の確率はそれほど低くないと考えられます。\n",
        "\n",
        "この様な、膨大な観察数を行うことで得られる、極めて起きる確率が低い事象の起きる数である確率変数$X$は、\n",
        "\n",
        "二項分布にしたがうだけでなく、**ポアソン分布**と呼ばれる確率分布に限りなく近づくことが知られています。\n",
        "\n",
        "詳細な計算は省きますが、$np\\to\\lambda$となるように$n\\to\\infty, \\space p\\to0$となる極限においては、\n",
        "\n",
        "$_nC_xp^x(1-p)^{n-x}\\to e^{-\\lambda}\\dfrac{\\lambda^x}{x!}$\n",
        "\n",
        "が成り立つことがポアソンの小数の法則として知られています。ここで、\n",
        "\n",
        "$f(x) = e^{-\\lambda}\\dfrac{\\lambda^x}{x!}$という確率関数に従う分布を**ポアソン分布Poisson distribution**と呼び、$Po(\\lambda)$で表します。\n",
        "\n",
        "ポアソン分布$Po(\\lambda)$に従う確率変数$X$の期待値と分散は、\n",
        "\n",
        "$E(X) = \\lambda$\n",
        "\n",
        "$V(X) = \\lambda$\n",
        "\n",
        "となり、期待値と分散が等しくなることがポアソン分布の特徴です。"
      ],
      "metadata": {
        "id": "OoRQzgluZ7XU"
      }
    },
    {
      "cell_type": "markdown",
      "source": [
        "ポアソン分布に関係するRの関数は`dpois`, `ppois`, `rpois`, `qpois`になります。\n",
        "\n",
        "ポアソン分布$Po(\\lambda)$の形を決めるパラメータは$\\lambda = np$だけになります。\n",
        "\n",
        "例えば先ほどの交通事故にあう確率が$p = 0.0001$として、10000回外出した場合を考えると、\n",
        "\n",
        "$np = 0.0001 \\times 10000 = 1$\n",
        "\n",
        "となるので、交通事故にあう回数は$Po(1)$にある程度従うと考えられます。\n",
        "\n",
        "ポアソン分布に従う事象が$x$回起きる確率は`dpois`関数で計算できます。\n",
        "\n",
        "```\n",
        "dpois(x, lambda=ラムダ値)\n",
        "```\n",
        "\n",
        "起きる回数が$Po(1)$に従う事象が1度起きる確率を計算すると…"
      ],
      "metadata": {
        "id": "BxOsq_Dsrg4O"
      }
    },
    {
      "cell_type": "code",
      "source": [
        "# ラムダ=1のポアソン分布に従う事象が1回生じる確率\n"
      ],
      "metadata": {
        "id": "78cTrORBum8k"
      },
      "execution_count": null,
      "outputs": []
    },
    {
      "cell_type": "markdown",
      "source": [
        "と二項分布で計算した場合と非常に近い値となりました。\n",
        "\n",
        "$x=0 \\sim 10の範囲で$ポアソン分布$Po(1)$のグラフを描いてみると下図のようになります。"
      ],
      "metadata": {
        "id": "0ujKaiMvvDcY"
      }
    },
    {
      "cell_type": "code",
      "source": [
        "# ポアソン分布の描写\n",
        "library(ggplot2)\n",
        "x <- seq(0,10,1)                   # x = 0 ~ 10の範囲を描写\n",
        "m <- dpois(x,lambda=1)             # ラムダ=1のポアソン分布\n",
        "data <- data.frame(x=x,y=m)\n",
        "g <- ggplot(data,aes(x=x, y=y))\n",
        "g <- g + geom_bar(stat = \"identity\", position = \"dodge\", fill = \"#00A968\") # 棒グラフを追加\n",
        "g <- g + theme(text = element_text(size = 18))     # フォントサイズ変更\n",
        "g <- g + scale_x_continuous(breaks = seq(0,10,1))  # 軸ラベル追加\n",
        "g"
      ],
      "metadata": {
        "id": "3qsfrSuuvbUf"
      },
      "execution_count": null,
      "outputs": []
    },
    {
      "cell_type": "markdown",
      "source": [
        "これまで同様、1回から6回のいずれかの回数この事象が起きる確率を`ppois`関数で計算してみると"
      ],
      "metadata": {
        "id": "CZ5ygVB-wFed"
      }
    },
    {
      "cell_type": "code",
      "source": [
        "# ラムダ=1のポアソン分布に従う事象が1~6回のいずれか生じる確率\n"
      ],
      "metadata": {
        "id": "YVHQU4wLwRyK"
      },
      "execution_count": null,
      "outputs": []
    },
    {
      "cell_type": "markdown",
      "source": [
        "それなりの確率で交通事故に遭うかもしれないということが分かります。"
      ],
      "metadata": {
        "id": "pXgT_txIwmR5"
      }
    },
    {
      "cell_type": "markdown",
      "source": [
        "#### 二項分布とポアソン分布の関係\n",
        "\n",
        "さて、ここまでRの関数を使用できたので、ややこしい計算をする必要がありませんでした。\n",
        "\n",
        "そのため、二項分布をポアソン分布で近似する必要性を感じられなかったかもしれないですが、\n",
        "\n",
        "実際に計算することを考えると、この近似はとても便利なことが分かります。\n",
        "\n",
        "<img src=\"https://github.com/slt666666/biostatistics_text_wed/blob/main/source/_static/images/chapter5/poisson.png?raw=true\" alt=\"title\" height=\"200px\">\n",
        "\n",
        "例えば、ある地域では0.2%の確率で四葉のクローバーが出現するとします。\n",
        "\n",
        "四葉のクローバーを求めてシロツメクサを500個体採集した際に、四葉のクローバーが2個体採集できる可能性を考えてみます。\n",
        "\n",
        "二項分布でまず考えてみると、この条件で観察される四葉のクローバーの数である確率変数$X$は$p=0.002, n=500$の二項分布に従います。\n",
        "\n",
        "$X \\sim Bi(500, 0.002)$\n",
        "\n",
        "この時、採集した500個体の中に2個体四葉がある確率は\n",
        "\n",
        "$f(x=2)=_{500}C_2(0.002)^2(0.998)^{498}$となります。\n",
        "\n",
        "関数を使わず素直にRで計算してみると"
      ],
      "metadata": {
        "id": "GBpPp-k2ijnT"
      }
    },
    {
      "cell_type": "code",
      "source": [
        "# 500個体中0.2%の個体が2個体いる確率\n"
      ],
      "metadata": {
        "id": "rT8MPPgckFAa"
      },
      "execution_count": null,
      "outputs": []
    },
    {
      "cell_type": "markdown",
      "source": [
        "続いて、ポアソン分布を用いて考えてみます。見つかる確率$p$は小さく、観察数$n$は大きいので、この確率変数の確率分布は\n",
        "\n",
        "パラメータが、$\\lambda = np = 500 \\times 0.002 = 1$であるポアソン分布に近似できると考えられます。\n",
        "\n",
        "確率変数$X$は$\\lambda=1$のポアソン分布$Po(1)$に従うので、\n",
        "\n",
        "$f(x) = e^{-1}\\dfrac{1^x}{x!}$に従う形になります。\n",
        "\n",
        "この場合、500個体中2個体が四葉である確率は\n",
        "\n",
        "$f(x=2) = e^{-1}\\dfrac{1^2}{2!}$となります。\n",
        "\n",
        "こちらも関数を使わず素直にRで計算してみると"
      ],
      "metadata": {
        "id": "PAi88_R5k1j_"
      }
    },
    {
      "cell_type": "code",
      "source": [
        "# ポアソン分布Po(1)に従う個体数が2個体の確率を求める\n"
      ],
      "metadata": {
        "id": "tzqRtzbIl_xX"
      },
      "execution_count": null,
      "outputs": []
    },
    {
      "cell_type": "markdown",
      "source": [
        "といった形で、二項分布より簡単な計算でほぼ等しい確率が計算できました。\n",
        "\n",
        "ポアソン分布を仮定できる現象は非常に多く、上述した交通事故や珍しい形質を持つ個体の数だけでなく、\n",
        "\n",
        "遺伝子の突然変異数や顕微鏡視野に入るバクテリア数など、様々な生物現象に仮定としておくことができます。"
      ],
      "metadata": {
        "id": "6xcXkPmQnatV"
      }
    },
    {
      "cell_type": "markdown",
      "source": [
        "### そのほかの分布\n",
        "\n",
        "代表的な分布として、正規分布、二項分布、ポアソン分布を紹介しました。\n",
        "\n",
        "他にも負の二項分布、一様分布、$\\chi^2$分布、指数分布、ガンマ分布など様々な分布が存在しています。\n",
        "\n",
        "また、二項分布とポアソン分布の関係性のように、分布同士でつながりの強いものも多いです。\n",
        "\n",
        "確率論を勉強していくと一通り学ぶことになりますし、こういった↓まとめも探すと見つけることが出来るかと思います。\n",
        "https://www.math.wm.edu/~leemis/chart/UDR/UDR.html\n",
        "\n",
        "本講義では全て取り上げるとキリがないのでこのあたりにしておきますが、\n",
        "\n",
        "各種統計手法の理解のために必要な分布($t$分布や$F$分布、$\\chi^2$分布など)については、その項目を扱う際に触れたいと思います。"
      ],
      "metadata": {
        "id": "SM45ctS7oag8"
      }
    },
    {
      "cell_type": "markdown",
      "source": [
        "## 大数の法則と中心極限定理\n",
        "\n",
        "最後に、確率論の定理の中でも、統計学の上で大きな意味合いを持つ**大数の法則**と**中心極限定理**について触れておきます。\n"
      ],
      "metadata": {
        "id": "e4nWTJGwbVxm"
      }
    },
    {
      "cell_type": "markdown",
      "source": [
        "### 大数の法則\n",
        "\n",
        "大数の法則とは、**試行回数が増えるにつれて、実際に得られる確率が理論上の確率に近づく**という法則を指します。\n",
        "\n",
        "当たり前の様な気がしますが、実際の例でみてみましょう。\n",
        "\n",
        "例えば、先ほどの生息しているシロツメクサの20%が薄紅色で80%が白色の地域において、10個体標本を採集した時に観察される薄紅色のシロツメクサの数を考えてみます。\n",
        "\n",
        "薄紅色の個体数$X$は二項分布$Bi(10, 0.2)$に従うので、薄紅色の個体が0,1,2,...9,10個体観察される確率をそれぞれ計算してグラフ化してみると"
      ],
      "metadata": {
        "id": "WZ_A0VQkyi0C"
      }
    },
    {
      "cell_type": "code",
      "source": [
        "# 観察数10, 事象の確率0,2の二項分布\n",
        "n = 10\n",
        "p = 0.2\n",
        "x <- seq(0, n, 1)                    # 0 ~ 10個体\n",
        "m <- dbinom(x, size = n, prob = p)   # n=10, p=0.2の二項分布における確率\n",
        "data <- data.frame(x=x,y=m)\n",
        "g <- ggplot(data,aes(x=x, y=y))\n",
        "g <- g + geom_bar(stat = \"identity\", position = \"dodge\", fill = \"#00A968\") # 棒グラフを追加\n",
        "g <- g + theme(text = element_text(size = 18))     # フォントサイズ変更\n",
        "g <- g + scale_x_continuous(breaks = seq(0,10,1))  # 軸ラベル追加\n",
        "g <- g + geom_vline(xintercept = 10*0.2)           # 理論上観察される値(n x p)に縦線\n",
        "g\n"
      ],
      "metadata": {
        "id": "ajy7UHoh21Zp"
      },
      "execution_count": null,
      "outputs": []
    },
    {
      "cell_type": "markdown",
      "source": [
        "となり、実際の確率(薄紅色が20%)通りに個体が出た場合の、10個体中2個体得られる確率は30%ほどしかないことがわかります。\n",
        "\n",
        "ここで採集する個体の数を、100個体、1000個体、、、と増やしていくとどうなるか見ていきます。"
      ],
      "metadata": {
        "id": "h0jMO-sAeKga"
      }
    },
    {
      "cell_type": "code",
      "source": [
        "# 観察数n, 事象の確率0,2の二項分布のnを増やしていくとどうなるか\n",
        "n = 100\n",
        "p = 0.2\n",
        "x <- seq(0, n, 1)                    # 0 ~ n個体\n",
        "m <- dbinom(x, size = n, prob = p)   # n, p=0.2の二項分布における確率\n",
        "data <- data.frame(x=x,y=m)\n",
        "g <- ggplot(data,aes(x=x, y=y))\n",
        "g <- g + geom_bar(stat = \"identity\", position = \"dodge\", fill = \"#00A968\") # 棒グラフを追加\n",
        "g <- g + theme(text = element_text(size = 18))     # フォントサイズ変更\n",
        "g <- g + geom_vline(xintercept = n*0.2)           # 理論上観察される値(n x p)に縦線\n",
        "g\n"
      ],
      "metadata": {
        "id": "W085U_kjc2ox"
      },
      "execution_count": null,
      "outputs": []
    },
    {
      "cell_type": "markdown",
      "source": [
        "この様に、観測される結果が理論上の確率付近に集中していきます。これを**大数の法則**と呼びます。\n",
        "\n",
        "注意点としては、先ほどの例でいうと1000個体採集した場合も理論値である$1000 \\times 0.2 = 200$に収束しているわけではないので、採集数が増えれば理論上の観測値に収束するというわけではなく、**近傍にある確率が**極めて高くなることを意味します。\n",
        "\n",
        "この法則は、**十分な大きさの標本集団を調べれば、母集団の様々な特性をかなり正確に知ることができる**ということを示しており、**統計的推測**において非常に重要な定理になります。"
      ],
      "metadata": {
        "id": "RiGa9gXchHiW"
      }
    },
    {
      "cell_type": "markdown",
      "source": [
        "### 中心極限定理\n",
        "\n",
        "中心極限定理とは、**母集団がどのような分布であっても、標本サイズ$n$が大きくなると、和$X_1+X_2+X_3+...+X_n$(or平均とする場合もある)の分布は正規分布に近似できる**、という定理になります。\n",
        "\n",
        "実際に先ほどの二項分布に従う変数$X \\sim Bi(n, 0.2)$で見てみましょう。\n",
        "\n",
        "20%が薄紅色で80%が白色のシロツメクサが生息している地域で標本を\n",
        "100個体採集して薄紅色の個体が何個体あるかは$Bi(100, 0.2)$に従います。\n",
        "\n",
        "これを別の見方で考えると、1個体採集して薄紅色の個体が何個体あるか(薄紅色かどうか)が従う$X \\sim Bi(1, 0.2)$を100回繰り返したものとも考えられます。\n",
        "\n",
        "つまり、\n",
        "\n",
        "* 1個体目が薄紅色であれば$X_1 = 1$\n",
        "* 2個体目が白色であれば$X_2 = 0$\n",
        "* ...\n",
        "* 100個体目が薄紅色であれば$X_{100} = 1$\n",
        "\n",
        "として、得られた観察結果の和$X_1 + X_2 + ... + X_{100}$を$Bi(100, 0.2)$は表しています。\n",
        "\n",
        "つまり$Bi(n, 0.2)$の分布は$X \\sim Bi(1, 0.2)$を$n$回繰り返した合計の分布と考える事が出来ます。\n",
        "\n",
        "そのため、標本サイズ$n$が大きいほど正規分布に近付けば中心極限定理が成り立っていると考えられます。\n",
        "\n",
        "下のコードの$n$の数字を大きくしていくと、和$X_1 + X_2 + ... + X_n$の分布が正規分布に近付くことが分かると思います。"
      ],
      "metadata": {
        "id": "9eCbhWugitxD"
      }
    },
    {
      "cell_type": "code",
      "source": [
        "# 中心極限定理、二項分布の場合\n",
        "n = 5\n",
        "p = 0.2\n",
        "x <- seq(0, n, 1)                    # 0 ~ 10個体\n",
        "m <- dbinom(x, size = n, prob = p)   # n, p=0.2の二項分布\n",
        "data <- data.frame(x=x,y=m)\n",
        "g <- ggplot(data,aes(x=x, y=y))\n",
        "g <- g + geom_bar(stat = \"identity\", position = \"dodge\", fill = \"#00A968\") # 棒グラフを追加\n",
        "g <- g + theme(text = element_text(size = 18))     # フォントサイズ変更\n",
        "g\n"
      ],
      "metadata": {
        "id": "7laSkAgJgq5B"
      },
      "execution_count": null,
      "outputs": []
    },
    {
      "cell_type": "markdown",
      "source": [
        "ポアソン分布$Po(\\lambda)$についても見てみます。\n",
        "\n",
        "交通事故にあう確率が$p = 0.0001$として、10000回外出した場合何回事故に遭うかは$Po(1)$に従いました。\n",
        "\n",
        "そして、$Po(1)$に従う数値をランダム抽出するには\n",
        "\n",
        "```\n",
        "rpois(n, lambda=ラムダ値)\n",
        "```\n",
        "\n",
        "で抽出できました。\n",
        "\n",
        "1人調査した場合は`rpois(1, lambda=1)`、10人調査した場合は`rpois(10, lambda=1)`、\n",
        "\n",
        "100人調査した場合は`rpois(100, lambda=1)`という形になります。\n",
        "\n",
        "\n",
        "\n"
      ],
      "metadata": {
        "id": "kLvBa72G7GIF"
      }
    },
    {
      "cell_type": "code",
      "source": [
        "# ラムダ=1のポアソン分布に従う事象を10人分調査した場合\n",
        "rpois(10, lambda=1)"
      ],
      "metadata": {
        "id": "Hpi5G-HEDMZo"
      },
      "execution_count": null,
      "outputs": []
    },
    {
      "cell_type": "markdown",
      "source": [
        "この合計値が調査人数が増えるほど正規分布に近付くというわけです。\n",
        "\n",
        "下のコードの$n$の数値を変えて見てみましょう。"
      ],
      "metadata": {
        "id": "1Hlnj5KLDbgJ"
      }
    },
    {
      "cell_type": "code",
      "source": [
        "# 中心極限定理、ポアソン分布の場合\n",
        "n = 1\n",
        "x <- c()\n",
        "for (i in 1:1000) {\n",
        "  x <- c(x, sum(rpois(n, 1)))\n",
        "}\n",
        "data <- data.frame(x=x)\n",
        "g <- ggplot(data, aes(x=x))\n",
        "g <- g + geom_histogram()\n",
        "g <- g + theme(text = element_text(size = 18))\n",
        "g\n"
      ],
      "metadata": {
        "id": "YfkhWM5A7Ohz"
      },
      "execution_count": null,
      "outputs": []
    },
    {
      "cell_type": "markdown",
      "source": [
        "他の分布、例えば下の様な、少し変わった分布に植物の草丈が従う母集団がいたとします。"
      ],
      "metadata": {
        "id": "CyfwzBSHoHTx"
      }
    },
    {
      "cell_type": "code",
      "source": [
        "# 二峰型の分布\n",
        "gene <- function(n){\n",
        "   prob <- (runif(n) <= 0.6)\n",
        "   rlnorm(n,2,0.5) *prob+rnorm(n,30,5)*(1-prob)\n",
        "}\n",
        "\n",
        "height_all <-  round(gene(100000))\n",
        "hist(height_all,xlim=c(0,60),main =\"Plant height\",xlab=\"height(cm)\",ylab=\"samples\",breaks=seq(0,10000,1))"
      ],
      "metadata": {
        "id": "-ZZl-_bin0vZ"
      },
      "execution_count": null,
      "outputs": []
    },
    {
      "cell_type": "markdown",
      "source": [
        "5cmくらいの植物と、30cmくらいの植物が混在している集団でしょうか。\n",
        "\n",
        "この分布に従う植物集団から、$n$個体の標本を採集し、その草丈の合計$X_1+X_2+...+X_n$の分布を考えてみます。\n",
        "\n",
        "下のコードは、この分布からランダム抽出した個体の合計値の分布を示しています。\n",
        "\n",
        "$n$の部分を増やしていくことで、合計の分布がどうなっていくか見てみましょう。"
      ],
      "metadata": {
        "id": "HgbojWuWuhz6"
      }
    },
    {
      "cell_type": "code",
      "source": [
        "# 中心極限定理、二峰型の分布の場合\n",
        "n <- 1\n",
        "sum_values <- c()\n",
        "for(i in 1:1000){\n",
        "  samples <- sample(height_all,n,replace = FALSE)\n",
        "  sum_values <- c(sum_values,sum(samples))\n",
        "}\n",
        "hist(sum_values)"
      ],
      "metadata": {
        "id": "by_9ajlgqCXM"
      },
      "execution_count": null,
      "outputs": []
    },
    {
      "cell_type": "markdown",
      "source": [
        "この様に、母集団がどのような分布であったとしても、標本サイズ$n$が大きくなると、その和(平均)の分布が正規分布に近付いていきます。\n",
        "\n",
        "この中心極限定理により、母集団の分布が不明な場合でも、真の平均値が大体どの範囲に収まっているかを推定する「区間推定」や、区間推定の考え方を応用して仮説を検証する「検定」を行うことができるようになります。\n",
        "\n",
        "そのため、中心極限定理は統計的推測の強力な基盤となっています。"
      ],
      "metadata": {
        "id": "7H19f9tW3n24"
      }
    },
    {
      "cell_type": "markdown",
      "source": [
        "## 標本分布\n",
        "\n",
        "では実際に標本抽出によって得られた標本のデータと母集団の関係などについて触れていきます。\n",
        "\n",
        "<img src=\"https://github.com/slt666666/biostatistics_text_wed/blob/main/source/_static/images/chapter5/sampling.png?raw=true\" alt=\"title\" height=\"150px\">\n",
        "\n",
        "\n",
        "最初の方でも触れましたが、これから特徴を知りたい集団全体を**母集団**と呼びました。\n",
        "\n",
        "統計的推測では、抽出した標本からこの母数を推定することが1つの目的になります。\n"
      ],
      "metadata": {
        "id": "O9qubXfQ_RMQ"
      }
    },
    {
      "cell_type": "markdown",
      "source": [
        "### 確率や分布が必要な理由\n",
        "\n",
        "当然ながら、標本を分析して得られる結果は、抽出された標本によって異なる可能性があります。\n",
        "\n",
        "仮に、ある公園に生えている植物が5個体(植物1-5)あり、草丈が\n",
        "\n",
        "* 植物1: 10cm\n",
        "* 植物2: 12cm\n",
        "* 植物3: 14cm\n",
        "* 植物4: 16cm\n",
        "* 植物5: 18cm\n",
        "\n",
        "であった場合、\n",
        "\n",
        "全体から計算された平均値(=母集団の平均値)は14㎝であるのに対し、\n",
        "\n",
        "ランダムに3つを抽出した標本をもとに計算される平均値は、植物1,2,3を選ぶと12cm、植物3,4,5を選ぶと16cmと、標本の選び方によって12~16cmと幅が生じてしまいます。\n",
        "\n",
        "このような抽出された標本によるばらつきを扱うためには、確率的に標本データを捉える必要があり、**標本分布**という考え方が必要になってきます。\n",
        "\n",
        "標本平均の確率分布\n",
        "* 1/6の確率で植物1,2,3 ... 標本平均12cm\n",
        "* 1/6の確率で植物1,2,4 ... 標本平均12.666cm\n",
        "* 1/6の確率で植物1,2,5 ... 標本平均13.333cm\n",
        "* 1/6の確率で植物2,3,4 ... 標本平均14cm\n",
        "* 1/6の確率で植物2,3,5 ... 標本平均14.666cm\n",
        "* 1/6の確率で植物3,4,5 ... 標本平均16cm\n"
      ],
      "metadata": {
        "id": "buhaljMd_cQJ"
      }
    },
    {
      "cell_type": "markdown",
      "source": [
        "### 母集団分布\n",
        "\n",
        "<img src=\"https://github.com/slt666666/biostatistics_text_wed/blob/main/source/_static/images/chapter5/sampling2.png?raw=true\" alt=\"title\" height=\"250px\">\n",
        "\n",
        "統計的推測においては、抽出した標本から母集団の特徴、つまり母集団の従う分布**母集団分布**を知ることが目標となります。\n",
        "\n",
        "この母集団分布から標本$X_1, X_2, ... $を抽出してくるので、各$X_i$はこの母集団分布に従う確率変数だと考えることができます。\n",
        "\n",
        "### 母数\n",
        "\n",
        "母集団が理論的・経験的によく知られた確率分布であることが分かっている場合、\n",
        "\n",
        "例えば先ほど扱った交通事故の発生件数は発生確率が非常に低く、母集団分布がポアソン分布だと考えられる。\n",
        "\n",
        "つまり、標本$X_1, X_2, ... X_n$は、ある$\\lambda$を持つポアソン分布$Po(\\lambda)$に従うと考えられる。\n",
        "\n",
        "このとき、$P(X_i=x)$は$f_\\lambda(x)=e^{-\\lambda}\\dfrac{\\lambda^x}{x!}$となり、定数$\\lambda$さえわかれば母集団について全て知ることができる。\n",
        "\n",
        "このような事前に母集団分布=XX分布だと与えられている場合、その分布を決定するパラメータ(今回の場合$\\lambda$)が求めるべきものとなります。\n",
        "\n",
        "統計的推測ではこのパラメータを**母数**と呼びます。\n",
        "\n",
        "ポアソン分布の場合は$\\lambda$でしたが、\n",
        "\n",
        "母集団が正規分布$N(\\mu, \\sigma^2)$に従う場合は、平均$\\mu$と分散$\\sigma^2$の二つの母数によって分布が決定されるので、\n",
        "\n",
        "母集団における平均と分散を求めることになります。\n",
        "\n",
        "特に母集団分布について事前に分布を決めることができない場合は、母集団の平均(母平均)や中央値、最頻値、母集団の分散(母分散)、レンジなどを考え分析することになります。"
      ],
      "metadata": {
        "id": "9g6pKKXkDOaq"
      }
    },
    {
      "cell_type": "markdown",
      "source": [
        "### 統計量\n",
        "\n",
        "統計的推測では、抽出した標本からこの母数を推定することが1つの目的であり、母数を推定するために標本から計算された値を**推定量**と言います。\n",
        "\n",
        "母集団分布について大まかなことが知りたい場合、まずは母数の中でも**母平均**$\\mu$と**母分散**$\\sigma^2$を推定することができると多くのことが分かります。\n",
        "\n",
        "例えば、ある2集団それぞれの細かい母集団分布の形が分からなくても、母平均を比較することで全体的に差があるかどうかをある程度捉えることが出来ます。\n",
        "\n",
        "あたりまえですが、母平均をいきなり求めることは出来ないので、代わりに標本サイズ$n$の標本$X_1, X_2, ... X_n$を観察し、\n",
        "\n",
        "**標本平均**$\\bar{X}=(X_1+X_2+...+X_n)/n$\n",
        "\n",
        "をまずは用います。\n",
        "\n",
        "各観測値$X_i (i=1 \\sim n)$が母集団分布に従い、その期待値が母平均$E(X_i)=\\mu$、分散が母分散$V(X_i) = \\sigma^2$とすると、\n",
        "\n",
        "標本平均の期待値$E(\\bar{X})$は\n",
        "\n",
        "$E(\\bar{X})=E((X_1+X_2+...+X_n)/n)=n\\mu/n=\\mu$\n",
        "\n",
        "となり、期待値が母平均$\\mu$と一致します。\n",
        "\n",
        "このように、標本から求めた推定量の期待値が、母数と一致するとき、その推定量は不偏性があるといい、**不偏推定量**であるといいます。\n",
        "\n",
        "さらに、標本平均の分散$V(\\bar{X})$を考えると、\n",
        "\n",
        "$V(\\bar{X}) = V(\\dfrac{1}{n}(X_1+X_2+...+X_n))=\\dfrac{1}{n^2}V(X_1+X_2+...+X_n)=n\\sigma^2/n^2=\\sigma^2/n$\n",
        "\n",
        "となり、$n\\to\\infty$のとき、標本平均の分散は0に近付き、$\\bar{X}$は$\\mu$に確率収束していきます。(**大数の法則**を意味します。)\n",
        "\n",
        "<br>\n",
        "\n",
        "標本分散についてですが、標本分散は、\n",
        "\n",
        "$s^2=\\dfrac{1}{n-1}\\lbrace(X_1-\\bar{X})^2+(X_2-\\bar{X})^2+...+(X_n-\\bar{X})^2\\rbrace$\n",
        "\n",
        "で定義されます。\n",
        "\n",
        "記述統計学のところでも触れた通り、$n-1$で割っているところが注意点です。\n",
        "\n",
        "これは標本分散の期待値$E(s^2)$を計算すると、\n",
        "\n",
        "$E(s^2)=\\sigma^2$と母分散$\\sigma^2$に一致するようになるからです。\n",
        "\n",
        "したがって$n-1$を使って計算された$s^2$を母分散$\\sigma^2$の不偏推定量、**不偏分散**と言います。\n",
        "\n",
        "$n-1$ではなく$n$で割った$S^2=\\dfrac{1}{n}\\lbrace(X_1-\\bar{X})^2+(X_2-\\bar{X})^2+...+(X_n-\\bar{X})^2\\rbrace$も標本分散ではありますが、**不偏でない**標本分散となります。\n",
        "\n",
        "標本平均や標本分散の様に、標本を要約し、母集団の母数のいろいろな推測に使用されるものを**統計量**と言います。\n",
        "\n",
        "今回扱った標本平均$\\bar{X}$や標本(不偏)分散$s^2$は、母平均$\\mu$や母分散$\\sigma^2$に対し、\n",
        "\n",
        "$E(\\bar{X})=\\mu$,　$E(s^2)=\\sigma^2$となるため、母集団と標本をつなぐ重要な統計量となります。\n",
        "\n",
        "<br>\n",
        "\n",
        "たとえば、ある実験で植物を栽培し、17個体の収穫量を測定した結果、\n",
        "\n",
        "103, 95, 123, 72, 110, 121, 136, 93, 128, 99, 100, 112, 82, 98, 106, 94, 83 (g)だったとします。\n",
        "\n",
        "この標本データから、この植物の収穫量の母平均$\\mu$、母分散$\\sigma^2$の見当をつけることを考えます。\n",
        "\n",
        "このとき標本平均と不偏分散を`mean`関数や`sd`関数で調べてみると、\n"
      ],
      "metadata": {
        "id": "jZS_uzq-Pa6n"
      }
    },
    {
      "cell_type": "code",
      "source": [
        "# 17個体の標本平均と不偏分散を求める\n",
        "data <- c(103, 95, 123, 72, 110, 121, 136, 93, 128, 99, 100, 112, 82, 98, 106, 94, 83)\n",
        "mean(data)\n",
        "sd(data)"
      ],
      "metadata": {
        "id": "MNV6g7enq08m"
      },
      "execution_count": null,
      "outputs": []
    },
    {
      "cell_type": "markdown",
      "source": [
        "ということが分かります。\n",
        "\n",
        "もしこの植物の母集団が正規分布している場合、正規分布の特徴から、95%程度の範囲で\n",
        "\n",
        "$\\mu\\pm2\\sigma=69\\sim137$の範囲になることが推測できます。\n",
        "\n",
        "(得られたデータもその範囲に収まっている。)\n",
        "\n",
        "この様な形で標本データから母集団の特徴を推測することができるというわけです。\n",
        "\n",
        "次回はこの部分をより細かく見ていきます。"
      ],
      "metadata": {
        "id": "lOAB_8-8hpkr"
      }
    },
    {
      "cell_type": "code",
      "source": [],
      "metadata": {
        "id": "reCJAmsjgetb"
      },
      "execution_count": null,
      "outputs": []
    }
  ]
}