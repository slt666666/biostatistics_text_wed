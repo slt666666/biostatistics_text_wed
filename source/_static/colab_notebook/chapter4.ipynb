{
  "nbformat": 4,
  "nbformat_minor": 0,
  "metadata": {
    "colab": {
      "provenance": [],
      "toc_visible": true
    },
    "kernelspec": {
      "name": "ir",
      "display_name": "R"
    },
    "language_info": {
      "name": "R"
    }
  },
  "cells": [
    {
      "cell_type": "markdown",
      "source": [
        "# 第4回 データ可視化"
      ],
      "metadata": {
        "id": "mY8HaWJe8-Uk"
      }
    },
    {
      "cell_type": "markdown",
      "source": [
        "[![open in colab](https://colab.research.google.com/assets/colab-badge.svg)](https://colab.research.google.com/github/slt666666/biostatistics_text_wed/blob/main/source/_static/colab_notebook/chapter4.ipynb)"
      ],
      "metadata": {
        "id": "rurvL-3-ZPda"
      }
    },
    {
      "cell_type": "markdown",
      "source": [
        "## はじめに\n",
        "\n",
        "前回の記述統計学では、データを手にした際に、どの様にデータの特徴を捉えるかを扱いました。\n",
        "\n",
        "その際に、ヒストグラムや散布図、分割表等、視覚的にデータを捉える重要性を確認しました。\n",
        "\n",
        "今回は統計学自体からは少し離れたトピックになりますが、データを可視化する方法について扱います。\n",
        "\n",
        "前回の章でも、Rに元からある関数`plot`や`hist`、`boxplot`を用いることで、簡単なグラフは作成出来ました。\n",
        "\n",
        "しかし、第2章のRについての講義でも触れた様に、他者の作成したパッケージ(関数をまとめたもの)を利用することで、より綺麗なグラフを簡単に作成出来る関数を使用することが出来るようになります。\n",
        "\n",
        "その代表例が`ggplot2`というパッケージになります。\n",
        "\n",
        "<img src=\"https://github.com/slt666666/biostatistics_text_wed/blob/main/source/_static/images/chapter4/ggplot2_logo.png?raw=true\" alt=\"ggplot2_logo\" height=\"150px\">\n",
        "\n",
        "[ggplot2の公式ページ](https://ggplot2.tidyverse.org/)\n",
        "\n",
        "ggplot2はHadley Wickhamによって開発されたデータ可視化のためのパッケージで、Rを使用する殆どのユーザーがグラフ描写に使用しているパッケージになります。\n",
        "\n",
        "(Hadley WickhamはRstudioのチーフサイエンティスト・統計学者で、`tydyverse`等のパッケージを開発し、Rの普及に多大なる貢献をしています。)\n",
        "\n",
        "研究室に配属された後、グラフ等を作成する機会は非常に増えるかと思いますが、その時にggplot2等を用いてグラフを作成出来る様になっておくと非常に役立ちます。\n",
        "\n",
        "また、以降の講義でも一部のグラフの作成には`ggplot2`を使用する予定です。\n",
        "\n",
        "そこで、本章では`ggplot2`の基本的な使い方を扱います。\n"
      ],
      "metadata": {
        "id": "N8IxTbHm9CE2"
      }
    },
    {
      "cell_type": "markdown",
      "source": [
        "## ggplot2のインストール\n",
        "\n",
        "ggplot2を使うにはggplot2をRへインストールする必要があります。\n",
        "\n",
        "ただ、Google Colaboratoryでは、代表的なパッケージは既にインストールされているので今回はインストールする必要はありません。\n",
        "\n",
        "もし自分のPCでRを動かして`ggplot2`を使用する場合には`install.packages`関数でインストールする必要があります。\n",
        "\n",
        "`install.packages(\"インストールしたいパッケージ名\")`"
      ],
      "metadata": {
        "id": "AZZIYxA07nQo"
      }
    },
    {
      "cell_type": "code",
      "source": [
        "# パッケージのインストール\n",
        "install.packages(\"ggplot2\")"
      ],
      "metadata": {
        "id": "V3Nsddw080q5"
      },
      "execution_count": null,
      "outputs": []
    },
    {
      "cell_type": "markdown",
      "source": [
        "## ggplot2パッケージの読み込み\n",
        "\n",
        "Rの基本の所でも扱いましたが、パッケージはインストールしただけでは使用できるようにはなりません。\n",
        "\n",
        "`library`関数で必要なパッケージを明示的に読み込ませる必要があります。\n",
        "\n",
        "`library(パッケージ名)`\n",
        "\n",
        "パッケージの読み込みはRを起動する度に行う必要があります。"
      ],
      "metadata": {
        "id": "FJfLzP-o9zZA"
      }
    },
    {
      "cell_type": "code",
      "source": [
        "# パッケージの読み込み\n",
        "library(    )"
      ],
      "metadata": {
        "id": "PSbIvy9a9Bd0"
      },
      "execution_count": null,
      "outputs": []
    },
    {
      "cell_type": "markdown",
      "source": [
        "## ggplot2による作図の基本\n",
        "\n",
        "ggplot2を使用することで、散布図や棒グラフ、箱ひげ図等様々な図を作成できますが、\n",
        "\n",
        "その使用方法は概ね下記の様な流れになります。\n",
        "\n",
        "1. `ggplot`関数にデータを渡し、どのデータを可視化するか指定する。例) x軸にどの値を使用するか、等。\n",
        "2. `geom_xxx`関数(`geom_point`や`geom_histogram`等)で、自分が作りたい図(散布図なのかヒストグラムなのか…etc)の層 (layer) を加える。\n",
        "3. 軸ラベル (labs)や凡例 (legend)等、細かい設定を追加する。\n",
        "4. 図を表示・保存する。\n",
        "\n",
        "ここからそれぞれについて見ていきます。"
      ],
      "metadata": {
        "id": "pFNQWE6r_Jk0"
      }
    },
    {
      "cell_type": "markdown",
      "source": [
        "まずは前回使用したデータを用いて、草丈(Height)と葉身長(Leaf_length)の散布図を描くことを目標に進めていきます。\n",
        "\n",
        "ggplot2では`plot`関数とは異なり、`データフレーム`の形式でデータを入力する形になります。\n",
        "\n",
        "まずは`read.csv`関数でCSVファイルのデータをデータフレームとして読み込んでおきます。\n",
        "\n",
        "`read.csv(\"ファイルのURL/パス\")`"
      ],
      "metadata": {
        "id": "3PggE5c1WTqy"
      }
    },
    {
      "cell_type": "code",
      "source": [
        "# サンプルデータをdfに読み込み\n",
        "df <- read.csv(\"https://raw.githubusercontent.com/slt666666/biostatistics_text_wed/refs/heads/main/source/_static/data/chapter3_data.csv\")\n",
        "head(df)"
      ],
      "metadata": {
        "id": "7vJTYRjZ76ID"
      },
      "execution_count": null,
      "outputs": []
    },
    {
      "cell_type": "markdown",
      "source": [
        "### 1. データの指定\n",
        "\n",
        "データを読み込んだら、まずは`ggplot`関数でどのデータを使い、どの列のデータをグラフにするか指定します。\n",
        "\n",
        "`ggplot`関数は\n",
        "* 1つ目の引数にデータフレームの名前\n",
        "* 2つ目の引数では`aes` (aestheticsの略) という関数でデータフレーム内のどの列を何のために使うか\n",
        "\n",
        "をそれぞれ指定します。例えばx軸とy軸にデータがある場合は…\n",
        "\n",
        "```\n",
        "ggplot(データフレーム名, aes(x=列名, y=列名)) # データの指定\n",
        "```\n",
        "\n",
        "今回は草丈(Height)をx軸、葉身長(Leaf_length)をy軸として散布図を作成します。"
      ],
      "metadata": {
        "id": "Ho8ZBnFeIqmZ"
      }
    },
    {
      "cell_type": "code",
      "source": [
        "# グラフ化するデータの指定\n",
        "\n"
      ],
      "metadata": {
        "id": "TgcSD22nIoUf"
      },
      "execution_count": null,
      "outputs": []
    },
    {
      "cell_type": "markdown",
      "source": [
        "データを指定しただけだと何のグラフを描くのか指定していないので、キャンバスだけが描写されているかと思います。\n",
        "\n",
        "そこで次に指定したデータを用いてどんなグラフを描くのかを関数で指定します。"
      ],
      "metadata": {
        "id": "9-RNOYzrboxw"
      }
    },
    {
      "cell_type": "markdown",
      "source": [
        "### 2. グラフの種類の指定\n",
        "\n",
        "使用するデータを指定したら、次は作図したいグラフに応じたgeometric objects(グラフのこと)を指定します。\n",
        "\n",
        "geometric objectsには様々なものがありますが、例えば\n",
        "\n",
        "* geom_point：散布図\n",
        "* geom_line：折れ線グラフ\n",
        "* geom_smooth：平滑化されたグラフ\n",
        "* geom_bar：棒グラフ\n",
        "* geom_histogram：ヒストグラム\n",
        "* geom_polygon：ポリゴングラフ\n",
        "* geom_map：地図グラフ\n",
        "* geom_dotplot：ドットグラフ\n",
        "\n",
        "等があります。\n",
        "\n",
        "今回は散布図を描きたいので、`geom_point`を使用します。\n",
        "\n",
        "`ggplot`では`+`でどんどん要素を追加していく形でコードを書いていきます。\n",
        "\n",
        "先ほど`ggplot`関数でデータを指定したところに`+`で`geom_point()`を追加していきます。\n",
        "\n",
        "```\n",
        "g <- ggplot(データフレーム名, aes(x=列名, y=列名)) # データの指定\n",
        "g <- g + geom_point()                              # グラフの指定\n",
        "```\n",
        "\n",
        "また、使用するグラフによって`aes()`の中で指定すべきものが変わります。"
      ],
      "metadata": {
        "id": "a5G9ojc2cDso"
      }
    },
    {
      "cell_type": "code",
      "source": [
        "# 散布図を要素に追加\n",
        "g <- ggplot(df, aes(x=Height, y=Leaf_length))\n",
        "g <- # ここにgeometric objectを追加\n",
        "g"
      ],
      "metadata": {
        "id": "OCNv9r8laNnc"
      },
      "execution_count": null,
      "outputs": []
    },
    {
      "cell_type": "markdown",
      "source": [
        "描くグラフを散布図(`geom_point`)と指定したので、今度はキャンバスの上にx,ｙに指定したデータが使用された散布図が描かれました。\n",
        "\n",
        "Rの`plot`関数で描いたものよりも何となく良い感じに見えるのではないでしょうか。"
      ],
      "metadata": {
        "id": "PhKQVR5ke2u4"
      }
    },
    {
      "cell_type": "code",
      "source": [
        "#参考(パッケージ無しの場合)\n",
        "plot(df$Height, df$Leaf_length)"
      ],
      "metadata": {
        "id": "xSZyPo-0fdF6"
      },
      "execution_count": null,
      "outputs": []
    },
    {
      "cell_type": "markdown",
      "source": [
        "※一応、ggplot2もRのコードで作成されているので、`plot`関数のオプションや他のRに元々ある図形描写関数等を駆使すればggplot2で描くことが出来るグラフと全く同じものを作成する事は可能です。滅茶苦茶がんばれば。"
      ],
      "metadata": {
        "id": "W47xNQEhgFK4"
      }
    },
    {
      "cell_type": "markdown",
      "source": [
        "### 3. 軸ラベルなどの追加\n",
        "\n",
        "基本的なグラフは先ほどのステップで描くことが出来ましたが、ラベルやタイトル等細かい部分の設定も同じように追加していくことが出来ます。\n",
        "\n",
        "例えば今のままだと軸のラベルがHeightやLeaf_lengthとなっているので、その部分を変えてみます。ついでに図のタイトルも追加します。\n",
        "\n",
        "`labs`でラベルやタイトルを編集することが出来ます。\n",
        "\n",
        "```\n",
        "g <- ggplot(データフレーム名, aes(x=列名, y=列名))                  # データの指定\n",
        "g <- g + geom_point()                                               # グラフの指定\n",
        "g <- g + labs(x=\"x軸ラベル名\", y=\"y軸ラベル名\", title=\"タイトル名\") # ラベルなどの設定\n",
        "```"
      ],
      "metadata": {
        "id": "7dPw957NgknE"
      }
    },
    {
      "cell_type": "code",
      "source": [
        "# 軸のラベルとタイトルを付与\n",
        "g <- ggplot(df, aes(x=Height, y=Leaf_length))\n",
        "g <- g + geom_point()\n",
        "g <- # ここにラベル・タイトル情報を追加\n",
        "g"
      ],
      "metadata": {
        "id": "XWQPlWxAeD8M"
      },
      "execution_count": null,
      "outputs": []
    },
    {
      "cell_type": "markdown",
      "source": [
        "この様に、`g <- g + 新しい要素や設定`という形で、どんどんグラフにラベル等の設定や要素を追加していくことが出来ます。"
      ],
      "metadata": {
        "id": "1qBGA15HRCXY"
      }
    },
    {
      "cell_type": "markdown",
      "source": [
        "当然、新しいグラフを追加し、1つのキャンバスに複数のグラフを描写することも可能です。\n",
        "\n",
        "講義ではまだ扱っていませんが、散布図では回帰直線を描くことが多いです。\n",
        "\n",
        "回帰直線は`geom_smooth`というgeometric objectsになるので追加してみましょう。\n",
        "\n",
        "```\n",
        "g <- ggplot(データフレーム名, aes(x=列名, y=列名))                  # データの指定\n",
        "g <- g + geom_point()                                               # グラフの指定\n",
        "g <- g + geom_smooth(method = \"lm\")                                 # 回帰直線の追加\n",
        "g <- g + labs(x=\"x軸ラベル名\", y=\"y軸ラベル名\", title=\"タイトル名\") # ラベル等の設定\n",
        "```\n",
        "\n",
        "※`method = \"lm\"`という部分で線形モデルを指定しています"
      ],
      "metadata": {
        "id": "lndUO0mml9Xu"
      }
    },
    {
      "cell_type": "code",
      "source": [
        "# 散布図にgeom_smoothで回帰直線を追加\n",
        "g <- ggplot(df, aes(x=Height, y=Leaf_length))\n",
        "g <- g + geom_point()\n",
        "g <- # ここで回帰直線を追加\n",
        "g <- g + labs(x=\"Plant height (cm)\", y=\"Leaf length (cm)\", title=\"Scatter plot of plant height & Leaf length\")\n",
        "g"
      ],
      "metadata": {
        "id": "AqqywGKok2Rm"
      },
      "execution_count": null,
      "outputs": []
    },
    {
      "cell_type": "markdown",
      "source": [
        "この様な形で、`g + geom_XXX()`と足していくことで、複数の要素を描くことが可能です。\n",
        "\n",
        "また、フォントサイズなども調整可能で`theme`関数を用いて調整できます。"
      ],
      "metadata": {
        "id": "WnYsPDkERKQQ"
      }
    },
    {
      "cell_type": "code",
      "source": [
        "# フォントサイズを調整\n",
        "g <- ggplot(df, aes(x=Height, y=Leaf_length))\n",
        "g <- g + geom_point()\n",
        "g <- g + geom_smooth(method = \"lm\")\n",
        "g <- g + labs(x=\"Plant height (cm)\", y=\"Leaf length (cm)\", title=\"Scatter plot of plant height & Leaf length\")\n",
        "g <- # ここにフォントサイズの調整要素を追加\n",
        "g"
      ],
      "metadata": {
        "id": "WPE2ortCRgsw"
      },
      "execution_count": null,
      "outputs": []
    },
    {
      "cell_type": "markdown",
      "source": [
        "### 4. 図を表示・保存する\n",
        "\n",
        "Google ColaboratoryやR、Rstudioでも最後に`g`とすることで図を表示させることが出来ました。\n",
        "\n",
        "これは`plot(g)`や`print(g)`を省略している形になります。\n",
        "\n",
        "```\n",
        "g <- ggplot(df, aes(x=列名, y=列名)) # データの指定\n",
        "g <- g + geom_point()                # グラフの指定\n",
        "g                                    # plot(g)やprint(g)でも可\n",
        "```\n",
        "複数の図を作図するプログラムや、プログラムの途中で図を表示させたい場合には、`print(g)`等と明示しておくと分かりやすいでしょう。\n"
      ],
      "metadata": {
        "id": "PDqO9Ge3n0oP"
      }
    },
    {
      "cell_type": "markdown",
      "source": [
        "また、作成した図を保存したい時には`ggsave`関数を使用します。\n",
        "\n",
        "`ggsave`関数を使用することで図の幅・高さや画質等を指定して図を保存することが出来ます。\n",
        "\n",
        "特に論文等に載せる図は、解像度`300dpi`以上が要求されることが多いです。\n",
        "\n",
        "`ggsave(filename = \"保存した時のファイル名\", plot = 図の変数, device = \"png\", dpi = 300)`\n",
        "\n",
        "他にも`width=5`, `height=5`の様な形で幅・高さを指定できます。\n",
        "\n",
        "```\n",
        "g <- ggplot(df, aes(x=列名, y=列名))                                             # データの指定\n",
        "g <- g + geom_point()                                                            # グラフの指定\n",
        "ggsave(filename = \"保存した時のファイル名\", plot = g, device = \"png\", dpi = 300) # 図の保存\n",
        "```"
      ],
      "metadata": {
        "id": "F7elGO-np8dF"
      }
    },
    {
      "cell_type": "code",
      "source": [
        "# 作成した図の保存\n",
        "g <- ggplot(df, aes(x=Height, y=Leaf_length))\n",
        "g <- g + geom_point()\n",
        "g <- g + geom_smooth(method = \"lm\")\n",
        "g <- g + labs(x=\"Plant height (cm)\", y=\"Leaf length (cm)\", title=\"Scatter plot of plant height & Leaf length\")\n",
        "g <- g + theme(text = element_text(size = 18))\n",
        " # ここに画像を保存するためのggsaveを追加"
      ],
      "metadata": {
        "id": "eaITl1gamzIk"
      },
      "execution_count": null,
      "outputs": []
    },
    {
      "cell_type": "markdown",
      "source": [
        "以上の様に、必要な要素をどんどん加えていく形で、\n",
        "\n",
        "基本的には 1. データを指定、2. グラフの指定(、3. ラベル等の調整、4. 図の保存)という流れで`ggplot2`ではグラフを作成します。"
      ],
      "metadata": {
        "id": "q5_w-bHnqZiV"
      }
    },
    {
      "cell_type": "markdown",
      "source": [
        "## 色を用いたデータの可視化\n",
        "\n",
        "### 散布図の色分け\n",
        "\n",
        "先ほど描いた散布図は黒い点で全ての観測値を表示していましたが、データの種類に応じて色分けすることも可能です。\n",
        "\n",
        "今回は花の色毎に点を色分けしてみます。\n",
        "\n",
        "データの色分けは、geometric objects(散布図だと`geom_point`)の引数で`aes(colour=XXX)`と指定します。\n",
        "\n",
        "```\n",
        "g <- ggplot(データフレーム名, aes(x=列名, y=列名))      # データの指定\n",
        "g <- g + geom_point(aes(colour=色分けの基準とする列名)) # グラフの指定 & 色分けの指定\n",
        "```"
      ],
      "metadata": {
        "id": "RiSgTNwzUWeZ"
      }
    },
    {
      "cell_type": "code",
      "source": [
        "# データの色分け\n",
        "g <- ggplot(df, aes(x=Height, y=Leaf_length))\n",
        "g <- # 色分けした散布図を描写、()内のaesで色分けを指定\n",
        "g"
      ],
      "metadata": {
        "id": "mhXkgZakVgbt"
      },
      "execution_count": null,
      "outputs": []
    },
    {
      "cell_type": "markdown",
      "source": [
        "こうすることで花の色毎に点が色付けされ、データの特徴がより分かりやすくなります。\n",
        "\n",
        "(※花の色と点の色が一致していないですが、`scale_colour_identity`等の関数を使用して色を決めることも出来ます。)"
      ],
      "metadata": {
        "id": "i4kdeiGRVy7t"
      }
    },
    {
      "cell_type": "markdown",
      "source": [
        "**回帰直線を描く**`geom_smooth`では、色分けを行うと各色毎に回帰直線を描いてくれます。\n",
        "\n",
        "```\n",
        "g <- ggplot(データフレーム名, aes(x=列名, y=列名))                       # データの指定\n",
        "g <- g + geom_point(aes=(colour=色分けの基準とする列名))                 # グラフの指定 & 色分けの指定\n",
        "g <- g + geom_smooth(method = \"lm\", aes=(colour=色分けの基準とする列名)) # 回帰直線の追加 & 色分けの指定\n",
        "g <- g + labs(x=\"x軸ラベル名\", y=\"y軸ラベル名\", title=\"タイトル名\")      # ラベルやタイトルの設定\n",
        "```\n",
        "\n"
      ],
      "metadata": {
        "id": "hJGpW6pbWxUZ"
      }
    },
    {
      "cell_type": "code",
      "source": [
        "# 回帰直線ごとに色分け\n",
        "g <- ggplot(df, aes(x=Height, y=Leaf_length))\n",
        "g <- g + geom_point(aes(colour=Flower))\n",
        "g <- # 色分けした回帰直線の追加。()内のaesで色分けを指定。\n",
        "g"
      ],
      "metadata": {
        "id": "Nx7QaHEnXVHf"
      },
      "execution_count": null,
      "outputs": []
    },
    {
      "cell_type": "markdown",
      "source": [
        "各花の色のデータ毎に回帰直線を描くことが出来ました。\n",
        "\n",
        "このように、各`geometric_objects`において、`aes`の中で`colour`や`hue`等を指定すると、データを色分けしたり分けてグラフを描いたりすることが出来ます。"
      ],
      "metadata": {
        "id": "IM88qfElZiwd"
      }
    },
    {
      "cell_type": "markdown",
      "source": [
        "## その他のグラフ"
      ],
      "metadata": {
        "id": "IDYez9MiXCc0"
      }
    },
    {
      "cell_type": "markdown",
      "source": [
        "### ヒストグラム\n",
        "\n",
        "1次元データの記述統計の所で扱ったヒストグラムも`ggplot2`で描くことが出来ます。\n",
        "\n",
        "草丈(Height)でヒストグラムを描いてみましょう。\n",
        "\n",
        "今回は草丈のデータしか用いないので、最初の`ggplot`関数でどのデータをx軸,y軸で使用するかを指定するところでは、x軸のデータのみ指定すればOKです。\n",
        "\n",
        "`g <- ggplot(データフレーム名, aes(x=列名))`\n",
        "\n",
        "そして、散布図(`geom_point`)からヒストグラム(`geom_histogram`)へgeometric objectsを変更します。\n",
        "\n",
        "```\n",
        "g <- ggplot(データフレーム名, aes(x=可視化したい列名)) # データの指定\n",
        "g <- g + geom_histogram()                              # グラフの指定\n",
        "```\n"
      ],
      "metadata": {
        "id": "mcgKDQTIZwNH"
      }
    },
    {
      "cell_type": "code",
      "source": [
        "# ヒストグラムの描写\n",
        "g <- ggplot(df, aes(x=Height))\n",
        "g <- # ここにヒストグラムを追加\n",
        "g"
      ],
      "metadata": {
        "id": "2HRt5rOXazta"
      },
      "execution_count": null,
      "outputs": []
    },
    {
      "cell_type": "markdown",
      "source": [
        "ヒストグラムでは、`geom_histogram`の引数で`colour=色`を指定することで、枠組みの色を付けたり、\n",
        "\n",
        "`binwidth=幅`でヒストグラムの幅の長さを指定することも出来ます。\n",
        "\n",
        "```\n",
        "g <- ggplot(データフレーム名, aes(x=可視化したい列名))    # データの指定\n",
        "g <- g + geom_histogram(colour=\"色名\", binwidth=幅の長さ) # グラフの指定\n",
        "```"
      ],
      "metadata": {
        "id": "txuzAW6pbJkq"
      }
    },
    {
      "cell_type": "code",
      "source": [
        "# ヒストグラムの枠組みの色、幅の長さを調整\n",
        "g <- ggplot(df, aes(x=Height))\n",
        "g <- # 色・幅の長さを指定したヒストグラムを追加\n",
        "g"
      ],
      "metadata": {
        "id": "3Yg4vFWKbPsE"
      },
      "execution_count": null,
      "outputs": []
    },
    {
      "cell_type": "markdown",
      "source": [
        "ヒストグラムについても、先ほどの散布図と同様に、データを特定の指標で分けて複数のヒストグラムに色分けして描くことが可能です。\n",
        "\n",
        "`geom_histogram`の引数で`aes(fill=分ける指標の列名)`を指定することで、分割できます。\n",
        "\n",
        "```\n",
        "g <- ggplot(データフレーム名, aes(x=可視化したい列名)) # データの指定\n",
        "g <- g + geom_histogram(aes(fill=分ける指標の列名))    # グラフの指定\n",
        "```\n"
      ],
      "metadata": {
        "id": "yn8X_QFTczUU"
      }
    },
    {
      "cell_type": "code",
      "source": [
        "# ヒストグラムをデータごとに色分け\n",
        "g <- ggplot(df, aes(x=Height))\n",
        "g <- # ここで色分けしたヒストグラムを追加。()内のaesで色分け, alphaで透明度も指定できる\n",
        "g"
      ],
      "metadata": {
        "id": "0uK_Y0yscLY_"
      },
      "execution_count": null,
      "outputs": []
    },
    {
      "cell_type": "markdown",
      "source": [
        "追加で平均値のところに直線を引いたりも出来ます。\n",
        "\n",
        "縦に直線を引くには`geom_vline`を使用します。\n",
        "\n",
        "`geom_vline(xintercept=直線を引くx座標, color=\"色名\", linetype=\"線の種類\")`\n",
        "\n",
        "```\n",
        "g <- ggplot(データフレーム名, aes(x=可視化したい列名))                 # データの指定\n",
        "g <- g + geom_histogram(aes(fill=分ける指標の列名))                    # グラフの指定\n",
        "g <- g + geom_vline(xintercept=x座標, color=\"色名\", linetype=\"dashed\") # 垂直な線の追加\n",
        "```\n"
      ],
      "metadata": {
        "id": "x22I5xodcI_9"
      }
    },
    {
      "cell_type": "code",
      "source": [
        "# 平均値の場所に直線を引く\n",
        "g <- ggplot(df, aes(x=Height))\n",
        "g <- g + geom_histogram(colour=\"black\")\n",
        "g <-  # ここで平均値の縦線を追加\n",
        "g"
      ],
      "metadata": {
        "id": "Df_lp51FgNgg"
      },
      "execution_count": null,
      "outputs": []
    },
    {
      "cell_type": "markdown",
      "source": [
        "### 棒グラフ\n",
        "\n",
        "ヒストグラムに似たグラフとして棒グラフもあります。\n",
        "\n",
        "棒グラフのgeometric objectsは`geom_bar`になります。\n",
        "\n",
        "今回は年齢(Age)の列のデータを棒グラフにしてみましょう。\n",
        "\n",
        "```\n",
        "g <- ggplot(データフレーム名, aes(x=可視化したい列名)) # データの指定\n",
        "g <- g + geom_bar()                                    # グラフの指定\n",
        "```\n"
      ],
      "metadata": {
        "id": "5Cmv4j1mge9o"
      }
    },
    {
      "cell_type": "code",
      "source": [
        "# 棒グラフを描写\n",
        "g <- ggplot(df, aes(x=Age))\n",
        "g <-  # ここで棒グラフを追加\n",
        "g"
      ],
      "metadata": {
        "id": "lk5fzlgLg_Ni"
      },
      "execution_count": null,
      "outputs": []
    },
    {
      "cell_type": "markdown",
      "source": [
        "### ボックスプロット(箱ひげ図)\n",
        "\n",
        "データの代表値やばらつき具合を可視化するために良く用いられるのが、ボックスプロット(箱ひげ図)です。\n",
        "\n",
        "ボックスプロットのgeometric objectsは`geom_boxplot`になります。\n",
        "\n",
        "この際、`ggplot`関数によるデータの指定でy軸にデータを指定すると縦にボックスプロットが描写されます。\n",
        "\n",
        "(x軸にデータを指定すると、横向きになります)\n",
        "\n",
        "```\n",
        "g <- ggplot(データフレーム名, aes(y=可視化したい列名)) # データの指定\n",
        "g <- g + geom_boxplot()                                # グラフの指定\n",
        "```\n"
      ],
      "metadata": {
        "id": "9S47RbtBlu6k"
      }
    },
    {
      "cell_type": "code",
      "source": [
        "# boxplotの描写\n",
        "g <- ggplot(df, aes(y=Height))\n",
        "g <- # ここでボックスプロットを追加\n",
        "g"
      ],
      "metadata": {
        "id": "IEM2GiWn7sqX"
      },
      "execution_count": null,
      "outputs": []
    },
    {
      "cell_type": "markdown",
      "source": [
        "また、`ggplot`関数でx軸、y軸両方のデータを指定すると、例えば花の色毎にボックスプロットを描くことも出来ます。\n",
        "\n",
        "```\n",
        "g <- ggplot(データフレーム名, aes(x=分類の基準となるデータの列名, y=可視化したい列名)) # データの指定\n",
        "g <- g + geom_boxplot()                                                                # グラフの指定\n",
        "```"
      ],
      "metadata": {
        "id": "hkkjyfgk9AtG"
      }
    },
    {
      "cell_type": "code",
      "source": [
        "# ボックスプロットを花の色ごとに分けて描写\n",
        "g <- ggplot(df, ) # aesでxとyを指定\n",
        "g <- g + geom_boxplot()\n",
        "g"
      ],
      "metadata": {
        "id": "WoyDHh6v85RH"
      },
      "execution_count": null,
      "outputs": []
    },
    {
      "cell_type": "markdown",
      "source": [
        "また、`geom_boxplot`で引数に`aes(fill=色分けの基準となるデータ列名)`や`aes(colour=色分けの基準となるデータ列名)`と指定することで、色付けも可能です。\n",
        "\n",
        "```\n",
        "g <- ggplot(データフレーム名, aes(x=分類の基準となるデータの列名, y=可視化したい列名)) # データの指定\n",
        "g <- g + geom_boxplot(aes(fill=色分けの基準とする列名))                                # グラフの指定 & 色分けの設定\n",
        "```"
      ],
      "metadata": {
        "id": "eiTQTHcI9stZ"
      }
    },
    {
      "cell_type": "code",
      "source": [
        "# ボックスプロットの色分け\n",
        "g <- ggplot(df, aes(x=Flower, y=Height))\n",
        "g <- # 色分けするボックスプロットを追加、()内のaesで色分けを追加\n",
        "g"
      ],
      "metadata": {
        "id": "TlB7zmoZ9ZoI"
      },
      "execution_count": null,
      "outputs": []
    },
    {
      "cell_type": "markdown",
      "source": [
        "ボックスプロットを描写する際に注意したいポイントとしては、ボックスプロットはあくまでも代表値(平均値)や４分位点等のデータを要約した値の情報しか得られません。\n",
        "\n",
        "そのため、これらの要約した値の元データの点もプロットしておくとより良いボックスプロットとなります。\n",
        "\n",
        "ジッタープロットと呼ばれるグラフになり、`ggplot2`では`geom_jitter`で追加可能です。\n",
        "\n",
        "```\n",
        "g <- ggplot(データフレーム名, aes(x=分類の基準となるデータの列名, y=可視化したい列名)) # データの指定\n",
        "g <- g + geom_boxplot(aes(fill=色分けの基準とする列名))                                # グラフの指定 & 色分けの指定\n",
        "g <- g + geom_jitter()                                                                 # ジッタープロットの追加\n",
        "```"
      ],
      "metadata": {
        "id": "YrLMGudU-TXU"
      }
    },
    {
      "cell_type": "code",
      "source": [
        "# ジッタープロットの追加\n",
        "g <- ggplot(df, aes(x=Flower, y=Height))\n",
        "g <- g + geom_boxplot(aes(fill=Flower))\n",
        "g <- # ここでジッタープロットを追加\n",
        "g"
      ],
      "metadata": {
        "id": "aFO1OLze_GBc"
      },
      "execution_count": null,
      "outputs": []
    },
    {
      "cell_type": "markdown",
      "source": [
        "これで、要約した値やばらつき具合だけでなく、実際のデータがどの様に分布していたのかも捉えることが出来るグラフになります。\n",
        "\n",
        "ボックスプロットを描く際には、ジッタープロットで元データのプロットも忘れないようにしましょう。"
      ],
      "metadata": {
        "id": "uYsoeQwo_KvT"
      }
    },
    {
      "cell_type": "markdown",
      "source": [
        "### バイオリンプロット\n",
        "\n",
        "先ほどのボックスプロットでは、データを要約した値を可視化していましたが、よりデータの分布を視覚的に強調したプロットがバイオリンプロットです。\n",
        "\n",
        "バイオリンプロットのgeometric objectsは`geom_violin`になります。\n",
        "\n",
        "データの指定などはボックスプロットと概ね同じです。\n",
        "\n",
        "```\n",
        "g <- ggplot(データフレーム名, aes(x=分類の基準となるデータの列名, y=可視化したい列名)) # データの指定\n",
        "g <- g + geom_violin(aes(fill=色分けの基準とする列名))                                 # グラフの指定 & 色分けの指定\n",
        "```"
      ],
      "metadata": {
        "id": "9IoJAhMj_cLd"
      }
    },
    {
      "cell_type": "code",
      "source": [
        "# バイオリンプロットの描写\n",
        "g <- ggplot(df, aes(x=Flower, y=Height))\n",
        "g <- # ここで色分けしたバイオリンプロットを追加\n",
        "g"
      ],
      "metadata": {
        "id": "RZ5zjbkPCFRD"
      },
      "execution_count": null,
      "outputs": []
    },
    {
      "cell_type": "markdown",
      "source": [
        "バイオリンプロットだと、観察値の頻度が高い部分等の情報が可視化されています。\n",
        "\n",
        "バイオリンプロットについてもボックスプロット同様に、元データをプロットしておきましょう。\n",
        "\n",
        "```\n",
        "g <- ggplot(データフレーム名, aes(x=分類の基準となるデータの列名, y=可視化したい列名)) # データの指定\n",
        "g <- g + geom_violin(aes(fill=色分けの基準とする列名))                                 # グラフの指定 & 色分けの指定\n",
        "g <- g + geom_jitter()                                                                 # ジッタープロットの追加\n",
        "```"
      ],
      "metadata": {
        "id": "hJu8Hc2hCNDc"
      }
    },
    {
      "cell_type": "code",
      "source": [
        "# ジッタープロットの追加\n",
        "g <- ggplot(df, aes(x=Flower, y=Height))\n",
        "g <- g + geom_violin(aes(fill=Flower))\n",
        "g <- # ここでジッタープロットを追加\n",
        "g"
      ],
      "metadata": {
        "id": "EuLlCTZOCYEY"
      },
      "execution_count": null,
      "outputs": []
    },
    {
      "cell_type": "markdown",
      "source": [
        "代表的なグラフをいくつか紹介しましたが、`ggplot2`ではその他にもたくさんのグラフを描画することが可能です。\n",
        "\n",
        "以下のurlにRで描くことが出来る様々なグラフの詳細が書かれているので、一度見ておくと良いと思います。\n",
        "\n",
        "https://www.r-graph-gallery.com/index.html"
      ],
      "metadata": {
        "id": "NAXyvtkKDruQ"
      }
    },
    {
      "cell_type": "markdown",
      "source": [
        "また、今日扱った関数を含めて、`ggplot2`で使用可能になる関数の細かい使い方は公式ドキュメントに載っています。\n",
        "\n",
        "公式ドキュメント: https://ggplot2.tidyverse.org/reference/\n",
        "\n",
        "チートシート: https://rstudio.github.io/cheatsheets/html/data-visualization.html\n",
        "\n",
        "細かい解説書も無料でアクセス可能なので、これらの資料を必要に応じて使用してみてください。\n",
        "\n",
        "解説書: https://ggplot2-book.org/"
      ],
      "metadata": {
        "id": "5FGbeuJPrMgW"
      }
    },
    {
      "cell_type": "markdown",
      "source": [
        "## 課題\n",
        "\n",
        "今回の課題は下の課題ページを実施し、Pandaの**テスト・クイズ**に記述してください。\n",
        "\n",
        "[課題のノートブックへのリンク](https://colab.research.google.com/github/slt666666/biostatistics_text_wed/blob/main/source/_static/colab_notebook/chapter4_homework.ipynb)"
      ],
      "metadata": {
        "id": "e8pga_cHKC0k"
      }
    }
  ]
}