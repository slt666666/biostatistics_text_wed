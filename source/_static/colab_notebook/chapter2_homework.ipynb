{
  "nbformat": 4,
  "nbformat_minor": 0,
  "metadata": {
    "colab": {
      "provenance": [],
      "toc_visible": true
    },
    "kernelspec": {
      "name": "ir",
      "display_name": "R"
    },
    "language_info": {
      "name": "R"
    }
  },
  "cells": [
    {
      "cell_type": "markdown",
      "source": [
        "# 第2回 R言語の基礎 課題\n",
        "\n",
        "下のコードを動かすと、講義中に扱ったデータを`df`として読み込めます。\n",
        "\n",
        "※`head(データフレームの変数)`はデータフレームを一部だけ表示する関数\n",
        "\n",
        "このデータフレームを用いて、以降の課題についてコードを書き、実行した結果を表示させてください。"
      ],
      "metadata": {
        "id": "obnzB1V21pax"
      }
    },
    {
      "cell_type": "code",
      "source": [
        "df <- read.csv(\"https://raw.githubusercontent.com/slt666666/basic_fri_2024/refs/heads/master/source/_static/data/england-premier-league-players-2018-to-2019-stats.csv\")\n",
        "\n",
        "head(df)"
      ],
      "metadata": {
        "collapsed": true,
        "id": "IRI6wAEbj7oW"
      },
      "execution_count": null,
      "outputs": []
    },
    {
      "cell_type": "markdown",
      "source": [
        "## 課題1\n",
        "\n",
        "このデータフレームの`\"minutes_played_overall\"`列(総プレイ時間)を取り出し、その平均値を求めてください。"
      ],
      "metadata": {
        "id": "zhabOvPK8gFX"
      }
    },
    {
      "cell_type": "code",
      "source": [
        "# ここにコードを書いて実行してください。\n"
      ],
      "metadata": {
        "id": "35pDEQBW8F5z"
      },
      "execution_count": null,
      "outputs": []
    },
    {
      "cell_type": "markdown",
      "source": [
        "## 課題2\n",
        "\n",
        "このデータフレームから`\"position\"が\"Forward\"`の`\"goals_overall\"`(総ゴール数)を取り出してください。"
      ],
      "metadata": {
        "id": "m9QUOiLI8htD"
      }
    },
    {
      "cell_type": "code",
      "source": [
        "# ここにコードを書いて実行してください。\n"
      ],
      "metadata": {
        "id": "Fhqa-IxE8i0c"
      },
      "execution_count": null,
      "outputs": []
    },
    {
      "cell_type": "markdown",
      "source": [
        "## 課題3\n",
        "\n",
        "このデータフレームから`\"position\"が\"Forward\"`の`\"goals_overall\"`(総ゴール数)を取り出し、\n",
        "\n",
        "その平均値を`mean`関数で計算してください。"
      ],
      "metadata": {
        "id": "B-O0ODOb8jYk"
      }
    },
    {
      "cell_type": "code",
      "source": [
        "# ここにコードを書いて実行してください。\n"
      ],
      "metadata": {
        "id": "LTTvUY1s8khL"
      },
      "execution_count": null,
      "outputs": []
    },
    {
      "cell_type": "markdown",
      "source": [
        "## 課題4\n",
        "\n",
        "このデータフレームから\n",
        "\n",
        "`\"position\"が\"Forward\"`かつ`\"red_cards_overall\"が1枚以下`な選手の`\"goals_overall\"`(総ゴール数)を取り出し、\n",
        "\n",
        "その平均値を計算してください。"
      ],
      "metadata": {
        "id": "I1CIym1D_hFV"
      }
    },
    {
      "cell_type": "code",
      "source": [
        "# ここにコードを書いて実行してください。\n"
      ],
      "metadata": {
        "id": "MGzG5EzR_oS4"
      },
      "execution_count": null,
      "outputs": []
    }
  ]
}