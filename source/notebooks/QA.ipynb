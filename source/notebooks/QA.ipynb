{
  "nbformat": 4,
  "nbformat_minor": 0,
  "metadata": {
    "colab": {
      "provenance": [],
      "toc_visible": true
    },
    "kernelspec": {
      "name": "ir",
      "display_name": "R"
    },
    "language_info": {
      "name": "R"
    }
  },
  "cells": [
    {
      "cell_type": "markdown",
      "source": [
        "# Q & A"
      ],
      "metadata": {
        "id": "mY8HaWJe8-Uk"
      }
    },
    {
      "cell_type": "markdown",
      "source": [
        "# 第3回の質問"
      ],
      "metadata": {
        "id": "hzBgxdO-ZWMq"
      }
    },
    {
      "cell_type": "markdown",
      "source": [
        "**Q. 課題４の種別に計算する方法がわかりませんでした。**\n",
        "\n",
        "課題4: このデータフレームから\"species\"(種)毎に\"flipper_length_mm\"(ヒレの長さ)の平均値・標準偏差を計算し、その結果に基づいて種とヒレの長さの関係性について記述してください。"
      ],
      "metadata": {
        "id": "gGONnEOtgdae"
      }
    },
    {
      "cell_type": "code",
      "source": [
        "df <- read.csv(\"https://raw.githubusercontent.com/slt666666/biostatistics_text_wed/refs/heads/main/source/_static/data/chapter3_penguins.csv\")\n",
        "\n",
        "Adelie <- df[df$species == \"Adelie\", \"flipper_length_mm\"]\n",
        "Gentoo <- df[df$species == \"Gentoo\", \"flipper_length_mm\"]\n",
        "Chinstrap <- df[df$species == \"Chinstrap\", \"flipper_length_mm\"]\n",
        "\n",
        "print(\"Adelie\")\n",
        "mean(Adelie)\n",
        "sd(Adelie)\n",
        "print(\"Gentoo\")\n",
        "mean(Gentoo)\n",
        "sd(Gentoo)\n",
        "print(\"Chinstrap\")\n",
        "mean(Chinstrap)\n",
        "sd(Chinstrap)"
      ],
      "metadata": {
        "colab": {
          "base_uri": "https://localhost:8080/",
          "height": 177
        },
        "id": "WG8WpTYag9lN",
        "outputId": "9d338f92-12ab-469e-ece1-4bd99438f50f"
      },
      "execution_count": 7,
      "outputs": [
        {
          "output_type": "stream",
          "name": "stdout",
          "text": [
            "[1] \"Adelie\"\n"
          ]
        },
        {
          "output_type": "display_data",
          "data": {
            "text/html": [
              "189.953642384106"
            ],
            "text/markdown": "189.953642384106",
            "text/latex": "189.953642384106",
            "text/plain": [
              "[1] 189.9536"
            ]
          },
          "metadata": {}
        },
        {
          "output_type": "display_data",
          "data": {
            "text/html": [
              "6.5394574171913"
            ],
            "text/markdown": "6.5394574171913",
            "text/latex": "6.5394574171913",
            "text/plain": [
              "[1] 6.539457"
            ]
          },
          "metadata": {}
        },
        {
          "output_type": "stream",
          "name": "stdout",
          "text": [
            "[1] \"Gentoo\"\n"
          ]
        },
        {
          "output_type": "display_data",
          "data": {
            "text/html": [
              "217.186991869919"
            ],
            "text/markdown": "217.186991869919",
            "text/latex": "217.186991869919",
            "text/plain": [
              "[1] 217.187"
            ]
          },
          "metadata": {}
        },
        {
          "output_type": "display_data",
          "data": {
            "text/html": [
              "6.48497581867395"
            ],
            "text/markdown": "6.48497581867395",
            "text/latex": "6.48497581867395",
            "text/plain": [
              "[1] 6.484976"
            ]
          },
          "metadata": {}
        },
        {
          "output_type": "stream",
          "name": "stdout",
          "text": [
            "[1] \"Chinstrap\"\n"
          ]
        },
        {
          "output_type": "display_data",
          "data": {
            "text/html": [
              "195.823529411765"
            ],
            "text/markdown": "195.823529411765",
            "text/latex": "195.823529411765",
            "text/plain": [
              "[1] 195.8235"
            ]
          },
          "metadata": {}
        },
        {
          "output_type": "display_data",
          "data": {
            "text/html": [
              "7.13189425857815"
            ],
            "text/markdown": "7.13189425857815",
            "text/latex": "7.13189425857815",
            "text/plain": [
              "[1] 7.131894"
            ]
          },
          "metadata": {}
        }
      ]
    },
    {
      "cell_type": "markdown",
      "source": [
        "**Q. データを処理するソフトはExcelのイメージもかなり強いのですが、使い分けをするとしたらどういう用途で使い分けたらよいですか？また、RとExcelを連携して使うようなことはあるのでしょうか。**\n",
        "\n",
        "A. Excelはデータのフォーマットを整えるとき等に使用することが多いです。\n",
        "データの分析も出来なくは無いですが、基本的なことしか出来ない上に融通が利かないので、データを整理した後はRやPython等で解析をする流れになるかと思います。"
      ],
      "metadata": {
        "id": "HPQcK2LShuTX"
      }
    },
    {
      "cell_type": "markdown",
      "source": [
        "**Q.アカデミアの世界ではpythonよりRの方が手軽でしょうか。学習効率という意味ではなく、実際にデータを解析するという点で。**\n",
        "\n",
        "A. どちらでも出来ることはそんなに変わらない+どちらもプログラミング言語の中では簡単な方なので、データ解析に用いるという意味ではあんまり変わりは無いです。\n",
        "\n",
        "ただ、恐らく生物系の分野では圧倒的にRを使用している人数の方が多いので、資料等にあたりやすいという利点があると思います。"
      ],
      "metadata": {
        "id": "SLwaLyXxijG6"
      }
    },
    {
      "cell_type": "markdown",
      "source": [
        "**Q.不偏分散というのが初めて聞いたので理解するのが難しかった。**\n",
        "\n",
        "A. 不偏(分散)については後の講義で触れます。"
      ],
      "metadata": {
        "id": "ntNGZFD7jPaa"
      }
    },
    {
      "cell_type": "markdown",
      "source": [
        "**Q.偏相関係数について求め方が非常にきになった。**\n",
        "\n",
        "A. 例えば3つのデータ$X, Y, Z$があった際に、$Z$の影響を除いた$X, Y$の間の偏相関係数は\n",
        "\n",
        "$X, Y$間の相関係数$r_{xy}$, $Y,Z$間の相関係数$r_{yz}$, $Z,X$間の相関係数$r_{zx}$とすると\n",
        "\n",
        "$r_{xy\\cdot z} = \\dfrac{r_{xy} - r_{yz}r_{zx}}{\\sqrt{1-r_{zx}}\\sqrt{1-r_{yz}}}$\n",
        "\n",
        "で求まります。\n",
        "\n",
        "ただ、何の変数の影響を省くかを選ぶのも恣意的になる可能性があるので、難しいところです。"
      ],
      "metadata": {
        "id": "RXFyHmwKjYwB"
      }
    },
    {
      "cell_type": "markdown",
      "source": [
        "**Q. データフレームから一部のデータを取り出す場合、df[ , ]を使う他に、列データを取り出す場合はdf\\$が使えますが、行データを取り出す場合には列データの$に相当するような記号はあるのでしょうか。**\n",
        "\n",
        "A. 行に関しては無いはずです。"
      ],
      "metadata": {
        "id": "h-4iwR99jiz7"
      }
    },
    {
      "cell_type": "code",
      "source": [],
      "metadata": {
        "id": "Nv1v3PzzhBfF"
      },
      "execution_count": null,
      "outputs": []
    }
  ]
}